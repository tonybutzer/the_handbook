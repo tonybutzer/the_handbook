{
 "cells": [
  {
   "cell_type": "code",
   "execution_count": 1,
   "metadata": {},
   "outputs": [],
   "source": [
    "import ipywidgets as widgets\n",
    "from IPython.display import display\n",
    "\n"
   ]
  },
  {
   "cell_type": "code",
   "execution_count": 2,
   "metadata": {},
   "outputs": [
    {
     "data": {
      "application/vnd.jupyter.widget-view+json": {
       "model_id": "f9e7af86f8714c87884d2e7b7bc5f503",
       "version_major": 2,
       "version_minor": 0
      },
      "text/plain": [
       "RadioButtons(description='Area of Interest', options=('pine lake', 'hanoi', 'hedman farm'), value='pine lake')"
      ]
     },
     "metadata": {},
     "output_type": "display_data"
    }
   ],
   "source": [
    "aoi_widget = widgets.RadioButtons(description='Area of Interest',\n",
    "                                       options=['pine lake', 'hanoi', 'hedman farm'])\n",
    "\n",
    "display(aoi_widget)"
   ]
  },
  {
   "cell_type": "code",
   "execution_count": 3,
   "metadata": {},
   "outputs": [
    {
     "name": "stdout",
     "output_type": "stream",
     "text": [
      "pine lake\n"
     ]
    }
   ],
   "source": [
    "print(aoi_widget.value)"
   ]
  },
  {
   "cell_type": "code",
   "execution_count": 4,
   "metadata": {},
   "outputs": [],
   "source": [
    "time_strings = ['1', '2', '2018-04-05']\n"
   ]
  },
  {
   "cell_type": "code",
   "execution_count": 5,
   "metadata": {},
   "outputs": [],
   "source": [
    "def plot(varname='', time=0, colormap=''):\n",
    "    print(time)"
   ]
  },
  {
   "cell_type": "code",
   "execution_count": 6,
   "metadata": {},
   "outputs": [
    {
     "data": {
      "application/vnd.jupyter.widget-view+json": {
       "model_id": "bfa3151dfeed41fd9376c0405616f444",
       "version_major": 2,
       "version_minor": 0
      },
      "text/plain": [
       "interactive(children=(Dropdown(description='Variable', options={'Temperature': 'Temperature_surface', 'Relativ…"
      ]
     },
     "metadata": {},
     "output_type": "display_data"
    }
   ],
   "source": [
    "var_widget = widgets.Dropdown(\n",
    "    options={'Temperature': 'Temperature_surface',\n",
    "             'Relative Humidity': 'Relative_humidity_entire_atmosphere_single_layer',\n",
    "             'Wind Speed': 'Wind_speed_gust_surface'},\n",
    "    description='Variable', alignment='center')\n",
    "time_widget = widgets.SelectionSlider(description='Time', options=time_strings, width='40%')\n",
    "colormap_widget = widgets.RadioButtons(description='Colormap',\n",
    "                                       options=['viridis', 'coolwarm', 'YlGnBu', 'RdPu'])\n",
    "x = widgets.interactive(plot, varname=var_widget, time=time_widget, colormap=colormap_widget)\n",
    "display(x)"
   ]
  },
  {
   "cell_type": "code",
   "execution_count": null,
   "metadata": {},
   "outputs": [],
   "source": []
  }
 ],
 "metadata": {
  "kernelspec": {
   "display_name": "Python 3",
   "language": "python",
   "name": "python3"
  },
  "language_info": {
   "codemirror_mode": {
    "name": "ipython",
    "version": 3
   },
   "file_extension": ".py",
   "mimetype": "text/x-python",
   "name": "python",
   "nbconvert_exporter": "python",
   "pygments_lexer": "ipython3",
   "version": "3.7.3"
  }
 },
 "nbformat": 4,
 "nbformat_minor": 2
}
