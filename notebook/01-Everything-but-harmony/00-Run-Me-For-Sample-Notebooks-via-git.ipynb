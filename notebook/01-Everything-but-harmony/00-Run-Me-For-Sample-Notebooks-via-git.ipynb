{
 "cells": [
  {
   "cell_type": "markdown",
   "metadata": {},
   "source": [
    "# Download Sample Notebooks\n",
    "\n",
    "## via git"
   ]
  },
  {
   "cell_type": "code",
   "execution_count": 2,
   "metadata": {},
   "outputs": [
    {
     "name": "stderr",
     "output_type": "stream",
     "text": [
      "Cloning into 'notebook'...\n",
      "warning: redirecting to https://github.com/tonybutzer/notebook/\n",
      "Checking out files:  21% (96/446)   \r",
      "Checking out files:  22% (99/446)   \r",
      "Checking out files:  23% (103/446)   \r",
      "Checking out files:  24% (108/446)   \r",
      "Checking out files:  25% (112/446)   \r",
      "Checking out files:  26% (116/446)   \r",
      "Checking out files:  27% (121/446)   \r",
      "Checking out files:  28% (125/446)   \r",
      "Checking out files:  29% (130/446)   \r",
      "Checking out files:  30% (134/446)   \r",
      "Checking out files:  31% (139/446)   \r",
      "Checking out files:  32% (143/446)   \r",
      "Checking out files:  33% (148/446)   \r",
      "Checking out files:  34% (152/446)   \r",
      "Checking out files:  35% (157/446)   \r",
      "Checking out files:  36% (161/446)   \r",
      "Checking out files:  37% (166/446)   \r",
      "Checking out files:  38% (170/446)   \r",
      "Checking out files:  39% (174/446)   \r",
      "Checking out files:  40% (179/446)   \r",
      "Checking out files:  41% (183/446)   \r",
      "Checking out files:  42% (188/446)   \r",
      "Checking out files:  43% (192/446)   \r",
      "Checking out files:  44% (197/446)   \r",
      "Checking out files:  45% (201/446)   \r",
      "Checking out files:  46% (206/446)   \r",
      "Checking out files:  47% (210/446)   \r",
      "Checking out files:  48% (215/446)   \r",
      "Checking out files:  49% (219/446)   \r",
      "Checking out files:  50% (223/446)   \r",
      "Checking out files:  51% (228/446)   \r",
      "Checking out files:  52% (232/446)   \r",
      "Checking out files:  53% (237/446)   \r",
      "Checking out files:  53% (240/446)   \r",
      "Checking out files:  54% (241/446)   \r",
      "Checking out files:  55% (246/446)   \r",
      "Checking out files:  56% (250/446)   \r",
      "Checking out files:  57% (255/446)   \r",
      "Checking out files:  58% (259/446)   \r",
      "Checking out files:  59% (264/446)   \r",
      "Checking out files:  60% (268/446)   \r",
      "Checking out files:  61% (273/446)   \r",
      "Checking out files:  62% (277/446)   \r",
      "Checking out files:  63% (281/446)   \r",
      "Checking out files:  64% (286/446)   \r",
      "Checking out files:  65% (290/446)   \r",
      "Checking out files:  66% (295/446)   \r",
      "Checking out files:  67% (299/446)   \r",
      "Checking out files:  68% (304/446)   \r",
      "Checking out files:  69% (308/446)   \r",
      "Checking out files:  70% (313/446)   \r",
      "Checking out files:  71% (317/446)   \r",
      "Checking out files:  72% (322/446)   \r",
      "Checking out files:  73% (326/446)   \r",
      "Checking out files:  74% (331/446)   \r",
      "Checking out files:  75% (335/446)   \r",
      "Checking out files:  76% (339/446)   \r",
      "Checking out files:  77% (344/446)   \r",
      "Checking out files:  78% (348/446)   \r",
      "Checking out files:  79% (353/446)   \r",
      "Checking out files:  80% (357/446)   \r",
      "Checking out files:  81% (362/446)   \r",
      "Checking out files:  82% (366/446)   \r",
      "Checking out files:  83% (371/446)   \r",
      "Checking out files:  84% (375/446)   \r",
      "Checking out files:  85% (380/446)   \r",
      "Checking out files:  86% (384/446)   \r",
      "Checking out files:  87% (389/446)   \r",
      "Checking out files:  88% (393/446)   \r",
      "Checking out files:  89% (397/446)   \r",
      "Checking out files:  90% (402/446)   \r",
      "Checking out files:  91% (406/446)   \r",
      "Checking out files:  92% (411/446)   \r",
      "Checking out files:  93% (415/446)   \r",
      "Checking out files:  94% (420/446)   \r",
      "Checking out files:  95% (424/446)   \r",
      "Checking out files:  96% (429/446)   \r",
      "Checking out files:  97% (433/446)   \r",
      "Checking out files:  98% (438/446)   \r",
      "Checking out files:  99% (442/446)   \r",
      "Checking out files: 100% (446/446)   \r",
      "Checking out files: 100% (446/446), done.\n"
     ]
    }
   ],
   "source": [
    "%%bash\n",
    "\n",
    "git clone http://github.com/tonybutzer/notebook"
   ]
  },
  {
   "cell_type": "code",
   "execution_count": 3,
   "metadata": {},
   "outputs": [
    {
     "name": "stdout",
     "output_type": "stream",
     "text": [
      "00-Run-Me-For-Sample-Notebooks-via-git.ipynb  notebook\r\n"
     ]
    }
   ],
   "source": [
    "!ls"
   ]
  },
  {
   "cell_type": "code",
   "execution_count": 5,
   "metadata": {},
   "outputs": [],
   "source": [
    "#!ls -lR"
   ]
  },
  {
   "cell_type": "code",
   "execution_count": 9,
   "metadata": {},
   "outputs": [
    {
     "name": "stdout",
     "output_type": "stream",
     "text": [
      " LANDSAT_8_C1_314611.csv       'Lunch and Learn Day 2.ipynb'   README.md\r\n",
      "'Lunch and Learn Day 1.ipynb'   ParadiseGeoJson.geojson        gif.gif\r\n"
     ]
    }
   ],
   "source": [
    "!ls notebook/00-Tutorial/00-landsat/"
   ]
  },
  {
   "cell_type": "code",
   "execution_count": null,
   "metadata": {},
   "outputs": [],
   "source": []
  }
 ],
 "metadata": {
  "kernelspec": {
   "display_name": "Python 3",
   "language": "python",
   "name": "python3"
  },
  "language_info": {
   "codemirror_mode": {
    "name": "ipython",
    "version": 3
   },
   "file_extension": ".py",
   "mimetype": "text/x-python",
   "name": "python",
   "nbconvert_exporter": "python",
   "pygments_lexer": "ipython3",
   "version": "3.6.7"
  }
 },
 "nbformat": 4,
 "nbformat_minor": 2
}
