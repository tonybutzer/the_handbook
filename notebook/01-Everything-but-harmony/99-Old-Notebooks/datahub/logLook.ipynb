{
 "cells": [
  {
   "cell_type": "markdown",
   "metadata": {},
   "source": [
    "# Jonathan \n",
    "\n",
    "* bullet"
   ]
  },
  {
   "cell_type": "code",
   "execution_count": 12,
   "metadata": {},
   "outputs": [
    {
     "name": "stdout",
     "output_type": "stream",
     "text": [
      "ssh: connect to host 10.12.28.13 port 22: Connection timed out\r",
      "\r\n"
     ]
    }
   ],
   "source": [
    "!/home/butzer/bin/getlog.sh\n",
    "!cp /home/butzer/log/m4.xlarge/user.log ."
   ]
  },
  {
   "cell_type": "code",
   "execution_count": 2,
   "metadata": {},
   "outputs": [
    {
     "name": "stdout",
     "output_type": "stream",
     "text": [
      "logLook.ipynb  m4.xlarge  user.log\n",
      "/home/butzer/log\n"
     ]
    }
   ],
   "source": [
    "!ls\n",
    "!pwd"
   ]
  },
  {
   "cell_type": "code",
   "execution_count": 3,
   "metadata": {},
   "outputs": [
    {
     "name": "stdout",
     "output_type": "stream",
     "text": [
      " chew time = 13.72 seconds\n",
      " chew time = 17.62 seconds\n",
      " chew time = 19.43 seconds\n",
      " chew time = 19.56 seconds\n",
      " chew time = 19.66 seconds\n",
      " chew time = 20.15 seconds\n",
      " chew time = 20.25 seconds\n",
      " chew time = 22.20 seconds\n",
      " chew time = 22.19 seconds\n",
      " chew time = 22.92 seconds\n",
      " chew time = 23.64 seconds\n",
      " chew time = 23.66 seconds\n",
      " chew time = 13.94 seconds\n",
      " chew time = 13.40 seconds\n",
      " chew time = 13.82 seconds\n",
      " chew time = 11.75 seconds\n",
      " chew time = 12.29 seconds\n",
      " chew time = 16.99 seconds\n",
      " chew time = 13.47 seconds\n",
      " chew time = 12.74 seconds\n",
      " chew time = 14.13 seconds\n",
      " chew time = 13.29 seconds\n",
      " chew time = 11.43 seconds\n",
      " chew time = 12.03 seconds\n"
     ]
    }
   ],
   "source": [
    "chew=[]\n",
    "f = open('user.log','r')\n",
    "for line in f:\n",
    "    line = line.rstrip()\n",
    "    if 'INFO' in line:\n",
    "        line = line.split('- INFO -')[1]\n",
    "        if 'chew' in line:\n",
    "            print(line)\n",
    "            line = line.split('chew time = ')[-1]\n",
    "            line = line.split(' seconds')[0]\n",
    "            chew.append(float(line))\n",
    "f.close()"
   ]
  },
  {
   "cell_type": "code",
   "execution_count": 4,
   "metadata": {},
   "outputs": [
    {
     "name": "stdout",
     "output_type": "stream",
     "text": [
      " cog time = 55.16 seconds\n",
      " cog time = 69.44 seconds\n",
      " cog time = 70.65 seconds\n",
      " cog time = 67.06 seconds\n",
      " cog time = 69.29 seconds\n",
      " cog time = 74.18 seconds\n",
      " cog time = 72.56 seconds\n",
      " cog time = 79.82 seconds\n",
      " cog time = 80.69 seconds\n",
      " cog time = 84.22 seconds\n",
      " cog time = 82.03 seconds\n",
      " cog time = 93.36 seconds\n",
      " cog time = 71.85 seconds\n",
      " cog time = 47.29 seconds\n",
      " cog time = 55.05 seconds\n",
      " cog time = 56.91 seconds\n",
      " cog time = 61.07 seconds\n",
      " cog time = 51.75 seconds\n",
      " cog time = 57.50 seconds\n",
      " cog time = 57.89 seconds\n",
      " cog time = 63.88 seconds\n",
      " cog time = 67.88 seconds\n",
      " cog time = 61.31 seconds\n",
      " cog time = 62.14 seconds\n"
     ]
    }
   ],
   "source": [
    "cog=[]\n",
    "f = open('user.log','r')\n",
    "for line in f:\n",
    "    line = line.rstrip()\n",
    "    if 'INFO' in line:\n",
    "        line = line.split('- INFO -')[1]\n",
    "        if 'cog' in line:\n",
    "            print(line)\n",
    "            line = line.split('cog time = ')[-1]\n",
    "            line = line.split(' seconds')[0]\n",
    "            cog.append(float(line))\n",
    "f.close()"
   ]
  },
  {
   "cell_type": "code",
   "execution_count": 5,
   "metadata": {},
   "outputs": [],
   "source": [
    "# the cog times are almost always 1 minute - what happens on a compute box? c4.8xlarge"
   ]
  },
  {
   "cell_type": "code",
   "execution_count": 6,
   "metadata": {},
   "outputs": [
    {
     "name": "stdout",
     "output_type": "stream",
     "text": [
      " s3sync time = 5.41 seconds\n",
      " s3sync time = 5.47 seconds\n",
      " s3sync time = 6.37 seconds\n",
      " s3sync time = 5.44 seconds\n",
      " s3sync time = 9.73 seconds\n",
      " s3sync time = 6.92 seconds\n",
      " s3sync time = 5.87 seconds\n",
      " s3sync time = 10.26 seconds\n",
      " s3sync time = 4.46 seconds\n",
      " s3sync time = 5.22 seconds\n",
      " s3sync time = 7.43 seconds\n",
      " s3sync time = 4.48 seconds\n",
      " s3sync time = 4.96 seconds\n",
      " s3sync time = 4.10 seconds\n",
      " s3sync time = 4.08 seconds\n",
      " s3sync time = 6.23 seconds\n",
      " s3sync time = 5.29 seconds\n",
      " s3sync time = 6.77 seconds\n",
      " s3sync time = 8.86 seconds\n",
      " s3sync time = 5.63 seconds\n",
      " s3sync time = 4.25 seconds\n",
      " s3sync time = 3.24 seconds\n",
      " s3sync time = 4.50 seconds\n",
      " s3sync time = 5.17 seconds\n"
     ]
    }
   ],
   "source": [
    "s3sync=[]\n",
    "f = open('user.log','r')\n",
    "for line in f:\n",
    "    line = line.rstrip()\n",
    "    if 'INFO' in line:\n",
    "        line = line.split('- INFO -')[1]\n",
    "        if 's3sync' in line:\n",
    "            print(line)\n",
    "            line = line.split('s3sync time = ')[-1]\n",
    "            line = line.split(' seconds')[0]\n",
    "            s3sync.append(float(line))\n",
    "f.close()"
   ]
  },
  {
   "cell_type": "code",
   "execution_count": 7,
   "metadata": {},
   "outputs": [
    {
     "name": "stdout",
     "output_type": "stream",
     "text": [
      "60.0\n"
     ]
    }
   ],
   "source": [
    "# THE s3sync times from my house are 300 seconds 60 times worse\n",
    "print (300/5)"
   ]
  },
  {
   "cell_type": "code",
   "execution_count": 8,
   "metadata": {},
   "outputs": [
    {
     "name": "stdout",
     "output_type": "stream",
     "text": [
      "[5.41, 5.47, 6.37, 5.44, 9.73, 6.92, 5.87, 10.26, 4.46, 5.22, 7.43, 4.48, 4.96, 4.1, 4.08, 6.23, 5.29, 6.77, 8.86, 5.63, 4.25, 3.24, 4.5, 5.17]\n"
     ]
    }
   ],
   "source": [
    "print (s3sync)"
   ]
  },
  {
   "cell_type": "code",
   "execution_count": 9,
   "metadata": {},
   "outputs": [
    {
     "name": "stdout",
     "output_type": "stream",
     "text": [
      "MAX S3 sync = 10.26\n",
      "MIN S3 sync = 3.24\n",
      "MEAN S3 sync = 5.84\n",
      "DEVIATION S3 sync = 1.73\n"
     ]
    }
   ],
   "source": [
    "from numpy import array\n",
    "npa = array(s3sync)\n",
    "#print(npa)\n",
    "#print(dir(npa))\n",
    "print (\"MAX S3 sync = %.2f\" % npa.max())\n",
    "print (\"MIN S3 sync = %.2f\" % npa.min())\n",
    "print (\"MEAN S3 sync = %.2f\" % npa.mean())\n",
    "print (\"DEVIATION S3 sync = %.2f\" % npa.std())"
   ]
  },
  {
   "cell_type": "code",
   "execution_count": 10,
   "metadata": {},
   "outputs": [
    {
     "name": "stdout",
     "output_type": "stream",
     "text": [
      "MAX cog sync = 93.36\n",
      "MIN cog sync = 47.29\n",
      "MEAN cog sync = 67.21\n",
      "DEVIATION cog sync = 11.14\n"
     ]
    }
   ],
   "source": [
    "npa = array(cog)\n",
    "print (\"MAX cog sync = %.2f\" % npa.max())\n",
    "print (\"MIN cog sync = %.2f\" % npa.min())\n",
    "print (\"MEAN cog sync = %.2f\" % npa.mean())\n",
    "print (\"DEVIATION cog sync = %.2f\" % npa.std())\n"
   ]
  },
  {
   "cell_type": "code",
   "execution_count": 11,
   "metadata": {},
   "outputs": [
    {
     "name": "stdout",
     "output_type": "stream",
     "text": [
      "MAX chew sync = 23.66\n",
      "MIN chew sync = 11.43\n",
      "MEAN chew sync = 16.85\n",
      "DEVIATION chew sync = 4.18\n"
     ]
    }
   ],
   "source": [
    "npa = array(chew)\n",
    "print (\"MAX chew sync = %.2f\" % npa.max())\n",
    "print (\"MIN chew sync = %.2f\" % npa.min())\n",
    "print (\"MEAN chew sync = %.2f\" % npa.mean())\n",
    "print (\"DEVIATION chew sync = %.2f\" % npa.std())\n"
   ]
  }
 ],
 "metadata": {
  "kernelspec": {
   "display_name": "Python 3",
   "language": "python",
   "name": "python3"
  },
  "language_info": {
   "codemirror_mode": {
    "name": "ipython",
    "version": 3
   },
   "file_extension": ".py",
   "mimetype": "text/x-python",
   "name": "python",
   "nbconvert_exporter": "python",
   "pygments_lexer": "ipython3",
   "version": "3.7.3"
  }
 },
 "nbformat": 4,
 "nbformat_minor": 2
}
