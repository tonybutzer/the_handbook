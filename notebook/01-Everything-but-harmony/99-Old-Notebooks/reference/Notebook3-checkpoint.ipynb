{
 "cells": [
  {
   "cell_type": "markdown",
   "metadata": {
    "slideshow": {
     "slide_type": "slide"
    }
   },
   "source": [
    "# Geospatial Data in Python: Database, Desktop, and the Web\n",
    "## Tutorial (Part 3)"
   ]
  },
  {
   "cell_type": "markdown",
   "metadata": {
    "slideshow": {
     "slide_type": "subslide"
    }
   },
   "source": [
    "## Convert vector data formats (Shapefile -> GeoJSON)"
   ]
  },
  {
   "cell_type": "code",
   "execution_count": 1,
   "metadata": {
    "collapsed": false
   },
   "outputs": [
    {
     "name": "stdout",
     "output_type": "stream",
     "text": [
      "Feature Count: 5\n",
      "Input Driver: ESRI Shapefile\n",
      "Output Driver: GeoJSON\n",
      "File Exists: True\n"
     ]
    }
   ],
   "source": [
    "import fiona\n",
    "from fiona.crs import to_string\n",
    "import os\n",
    "\n",
    "boro_file = os.path.join(\"..\", \"data\", \"nybb\", \"nybb.shp\")\n",
    "out_file =  os.path.join(\"..\", \"data\", \"nybb\", \"nybb.geojson\")\n",
    "\n",
    "# Register format drivers with a context manager\n",
    "with fiona.drivers():\n",
    "    # Open the shapefile (can also open directly from zip files with vfs!)\n",
    "    with fiona.open(boro_file) as source:\n",
    "        print(\"Feature Count: %s\" % len(source))\n",
    "        print(\"Input Driver: %s\" % source.driver)\n",
    "        \n",
    "        meta = source.meta\n",
    "        meta.update(driver=\"GeoJSON\")\n",
    "        \n",
    "        if os.path.exists(out_file):\n",
    "            os.remove(out_file)\n",
    "        with fiona.open(out_file, 'w', **meta) as sink:\n",
    "            print(\"Output Driver: %s\" % sink.driver)\n",
    "            for rec in source:\n",
    "                sink.write(rec)\n",
    "# Did it work?\n",
    "print(\"File Exists: %s\" % os.path.exists(out_file))"
   ]
  },
  {
   "cell_type": "markdown",
   "metadata": {
    "slideshow": {
     "slide_type": "subslide"
    }
   },
   "source": [
    "## Read geospatial raster data\n",
    "\n",
    "Note: You can download the GeoTIFF of Manhattan used in this example [from here](https://www.dropbox.com/s/mba7obrfh2b2ucb/manhattan.tif). Make sure you put it in your `data` folder."
   ]
  },
  {
   "cell_type": "code",
   "execution_count": 2,
   "metadata": {
    "collapsed": false
   },
   "outputs": [
    {
     "ename": "ImportError",
     "evalue": "No module named 'rasterio'",
     "output_type": "error",
     "traceback": [
      "\u001b[1;31m---------------------------------------------------------------------------\u001b[0m",
      "\u001b[1;31mImportError\u001b[0m                               Traceback (most recent call last)",
      "\u001b[1;32m<ipython-input-2-3fb50077a582>\u001b[0m in \u001b[0;36m<module>\u001b[1;34m()\u001b[0m\n\u001b[1;32m----> 1\u001b[1;33m \u001b[1;32mimport\u001b[0m \u001b[0mrasterio\u001b[0m\u001b[1;33m\u001b[0m\u001b[0m\n\u001b[0m\u001b[0;32m      2\u001b[0m \u001b[1;32mfrom\u001b[0m \u001b[0mfiona\u001b[0m\u001b[1;33m.\u001b[0m\u001b[0mcrs\u001b[0m \u001b[1;32mimport\u001b[0m \u001b[0mto_string\u001b[0m\u001b[1;33m\u001b[0m\u001b[0m\n\u001b[0;32m      3\u001b[0m \u001b[1;32mimport\u001b[0m \u001b[0mos\u001b[0m\u001b[1;33m\u001b[0m\u001b[0m\n\u001b[0;32m      4\u001b[0m \u001b[1;32mimport\u001b[0m \u001b[0mnumpy\u001b[0m \u001b[1;32mas\u001b[0m \u001b[0mnp\u001b[0m\u001b[1;33m\u001b[0m\u001b[0m\n\u001b[0;32m      5\u001b[0m \u001b[1;33m\u001b[0m\u001b[0m\n",
      "\u001b[1;31mImportError\u001b[0m: No module named 'rasterio'"
     ]
    }
   ],
   "source": [
    "import rasterio\n",
    "from fiona.crs import to_string\n",
    "import os\n",
    "import numpy as np\n",
    "\n",
    "image_file = os.path.join('..', 'data', 'manhattan.tif')\n",
    "\n",
    "# Register format drivers with a context manager\n",
    "with rasterio.drivers():\n",
    "    with rasterio.open(image_file, 'r') as source:\n",
    "        print(source.count, source.shape)\n",
    "        print(source.driver)\n",
    "        print(to_string(source.crs))\n",
    "        \n",
    "        # Get data from each band (newer versions of rasterio use source.read())\n",
    "        r, g, b = map(source.read_band, (1, 2, 3))\n",
    "        data = np.dstack((r, g, b))  # Each band is just an ndarray!\n",
    "        print(type(data))\n",
    "        \n",
    "        # Get the bounds of the raster (for plotting later)\n",
    "        bounds = source.bounds[::2] + source.bounds[1::2]"
   ]
  },
  {
   "cell_type": "markdown",
   "metadata": {},
   "source": [
    "An alternative way (outside of `with` context manager as above):"
   ]
  },
  {
   "cell_type": "code",
   "execution_count": null,
   "metadata": {
    "collapsed": false
   },
   "outputs": [],
   "source": [
    "source = rasterio.open(image_file, 'r')"
   ]
  },
  {
   "cell_type": "markdown",
   "metadata": {
    "slideshow": {
     "slide_type": "subslide"
    }
   },
   "source": [
    "## Simple plot of geospatial raster"
   ]
  },
  {
   "cell_type": "code",
   "execution_count": null,
   "metadata": {
    "collapsed": false
   },
   "outputs": [],
   "source": [
    "import matplotlib.pyplot as plt\n",
    "%matplotlib inline\n",
    "fig = plt.figure(figsize=(8, 8))\n",
    "ax = plt.imshow(data, extent=bounds)\n",
    "plt.show()"
   ]
  },
  {
   "cell_type": "markdown",
   "metadata": {
    "slideshow": {
     "slide_type": "slide"
    }
   },
   "source": [
    "### Time to work on Notebook:\n",
    "\n",
    "[`Working with Rasters in Python`](../exercises/Working with Rasters in Python.ipynb)"
   ]
  }
 ],
 "metadata": {
  "kernelspec": {
   "display_name": "Python 3",
   "language": "python",
   "name": "python3"
  },
  "language_info": {
   "codemirror_mode": {
    "name": "ipython",
    "version": 3
   },
   "file_extension": ".py",
   "mimetype": "text/x-python",
   "name": "python",
   "nbconvert_exporter": "python",
   "pygments_lexer": "ipython3",
   "version": "3.5.4"
  }
 },
 "nbformat": 4,
 "nbformat_minor": 0
}
