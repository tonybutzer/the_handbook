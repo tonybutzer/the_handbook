{
 "cells": [
  {
   "cell_type": "code",
   "execution_count": 2,
   "metadata": {
    "collapsed": false,
    "jupyter": {
     "outputs_hidden": false
    }
   },
   "outputs": [
    {
     "name": "stdout",
     "output_type": "stream",
     "text": [
      "2017-10-23 20:18:52 cloudsploitlambda-471850042218\n",
      "2017-08-31 17:55:28 erosodc1\n",
      "2017-10-13 16:15:06 ga-odc-eros-archive-west\n",
      "2017-09-29 05:32:45 ga-odc-eros-ard-west\n",
      "2017-10-17 12:49:37 ga-odc-eros-co2-west\n",
      "2017-10-29 20:02:57 ga-odc-eros-co3-west\n",
      "2017-09-29 13:12:40 ga-odc-eros-cog-west\n",
      "2017-10-13 00:21:09 ga-odc-eros-exp-west\n",
      "2017-10-12 04:48:22 ga-odc-eros-lvl1-west\n",
      "2017-09-29 05:33:44 ga-odc-eros-opt-west\n",
      "2017-10-29 20:01:54 ga-odc-eros-un3-west\n",
      "2017-10-13 15:09:11 ga-odc-eros-unc-west\n",
      "2017-05-25 19:29:35 lcmap-washington-state\n"
     ]
    }
   ],
   "source": [
    "%%bash\n",
    "aws s3 ls"
   ]
  },
  {
   "cell_type": "code",
   "execution_count": 4,
   "metadata": {
    "collapsed": false,
    "jupyter": {
     "outputs_hidden": false
    }
   },
   "outputs": [
    {
     "name": "stdout",
     "output_type": "stream",
     "text": [
      "2017-09-29 05:32:45 ga-odc-eros-ard-west\n",
      "2017-10-29 20:02:57 ga-odc-eros-co3-west\n",
      "2017-10-29 20:01:54 ga-odc-eros-un3-west\n"
     ]
    }
   ],
   "source": [
    "%%bash\n",
    "aws s3 ls |egrep 'co3|ard|un3'"
   ]
  },
  {
   "cell_type": "code",
   "execution_count": 9,
   "metadata": {
    "collapsed": false,
    "jupyter": {
     "outputs_hidden": false
    }
   },
   "outputs": [
    {
     "name": "stdout",
     "output_type": "stream",
     "text": [
      "2017-09-16 15:52:14       6032 AAlist.html\n",
      "2017-09-19 13:11:29    1847935 h03v03/00ls.txt\n",
      "2017-09-16 16:20:07    3383683 h03v03/LC08_CU_003003_20130414_20170713_C01_V01.tif\n",
      "2017-09-16 16:15:39      66463 h03v03/LC08_CU_003003_20130414_20170713_C01_V01.xml\n",
      "2017-09-18 11:36:05         80 h03v03/LC08_CU_003003_20130414_20170713_C01_V01_BT.md5\n",
      "2017-09-17 20:46:19   22599680 h03v03/LC08_CU_003003_20130414_20170713_C01_V01_BT.tar\n",
      "2017-09-18 10:20:33         80 h03v03/LC08_CU_003003_20130414_20170713_C01_V01_QA.md5\n",
      "2017-09-18 08:21:46    3553280 h03v03/LC08_CU_003003_20130414_20170713_C01_V01_QA.tar\n",
      "2017-09-18 10:58:26         80 h03v03/LC08_CU_003003_20130414_20170713_C01_V01_SR.md5\n",
      "2017-09-17 21:49:55  266127360 h03v03/LC08_CU_003003_20130414_20170713_C01_V01_SR.tar\n",
      "2017-09-18 12:13:38         80 h03v03/LC08_CU_003003_20130414_20170713_C01_V01_TA.md5\n",
      "2017-09-18 10:34:46  283340800 h03v03/LC08_CU_003003_20130414_20170713_C01_V01_TA.tar\n",
      "2017-09-16 16:20:14    1364109 h03v03/LC08_CU_003003_20130421_20170713_C01_V01.tif\n",
      "2017-09-16 16:15:43      66268 h03v03/LC08_CU_003003_20130421_20170713_C01_V01.xml\n",
      "2017-09-18 11:29:40         80 h03v03/LC08_CU_003003_20130421_20170713_C01_V01_BT.md5\n",
      "2017-09-17 20:30:48    4833280 h03v03/LC08_CU_003003_20130421_20170713_C01_V01_BT.tar\n",
      "2017-09-18 10:14:05         80 h03v03/LC08_CU_003003_20130421_20170713_C01_V01_QA.md5\n",
      "2017-09-18 08:03:44     808960 h03v03/LC08_CU_003003_20130421_20170713_C01_V01_QA.tar\n",
      "2017-09-18 10:52:14         80 h03v03/LC08_CU_003003_20130421_20170713_C01_V01_SR.md5\n",
      "2017-09-17 19:47:42   69539840 h03v03/LC08_CU_003003_20130421_20170713_C01_V01_SR.tar\n",
      "2017-09-18 12:07:18         80 h03v03/LC08_CU_003003_20130421_20170713_C01_V01_TA.md5\n",
      "2017-09-18 08:23:56   76943360 h03v03/LC08_CU_003003_20130421_20170713_C01_V01_TA.tar\n",
      "2017-09-16 16:20:20    2289120 h03v03/LC08_CU_003003_20130423_20170713_C01_V01.tif\n",
      "2017-09-16 16:15:47      66661 h03v03/LC08_CU_003003_20130423_20170713_C01_V01.xml\n",
      "2017-09-18 11:30:20         80 h03v03/LC08_CU_003003_20130423_20170713_C01_V01_BT.md5\n",
      "2017-09-17 20:32:40   11243520 h03v03/LC08_CU_003003_20130423_20170713_C01_V01_BT.tar\n",
      "2017-09-18 10:14:45         80 h03v03/LC08_CU_003003_20130423_20170713_C01_V01_QA.md5\n",
      "2017-09-18 08:05:30    2529280 h03v03/LC08_CU_003003_20130423_20170713_C01_V01_QA.tar\n",
      "2017-09-18 10:52:52         80 h03v03/LC08_CU_003003_20130423_20170713_C01_V01_SR.md5\n",
      "2017-09-17 20:04:11  109967360 h03v03/LC08_CU_003003_20130423_20170713_C01_V01_SR.tar\n"
     ]
    }
   ],
   "source": [
    "%%bash\n",
    "# aws s3 ls --recursive ga-odc-eros-ard-west > ard.txt\n",
    "head -30 ard.txt"
   ]
  },
  {
   "cell_type": "code",
   "execution_count": 10,
   "metadata": {
    "collapsed": false,
    "jupyter": {
     "outputs_hidden": false
    }
   },
   "outputs": [
    {
     "name": "stdout",
     "output_type": "stream",
     "text": [
      "2017-10-29 20:03:03       6032 AAlist.html\n",
      "2017-11-02 13:18:25   16312748 cog/h03v03/LC08_CU_003003_20130414_20170713_C01_V01/BT/LC08_CU_003003_20130414_20170713_C01_V01_BTB10.tif\n",
      "2017-11-02 13:18:32   15913778 cog/h03v03/LC08_CU_003003_20130414_20170713_C01_V01/BT/LC08_CU_003003_20130414_20170713_C01_V01_BTB11.tif\n",
      "2017-11-02 13:18:33      66463 cog/h03v03/LC08_CU_003003_20130414_20170713_C01_V01/QA/LC08_CU_003003_20130414_20170713_C01_V01.xml\n",
      "2017-11-02 13:18:34      71539 cog/h03v03/LC08_CU_003003_20130414_20170713_C01_V01/QA/LC08_CU_003003_20130414_20170713_C01_V01_LINEAGEQA.tif\n",
      "2017-11-02 13:18:37    1802442 cog/h03v03/LC08_CU_003003_20130414_20170713_C01_V01/QA/LC08_CU_003003_20130414_20170713_C01_V01_PIXELQA.tif\n",
      "2017-11-02 13:18:40      86646 cog/h03v03/LC08_CU_003003_20130414_20170713_C01_V01/QA/LC08_CU_003003_20130414_20170713_C01_V01_RADSATQA.tif\n",
      "2017-11-02 13:18:42    2388426 cog/h03v03/LC08_CU_003003_20130414_20170713_C01_V01/QA/LC08_CU_003003_20130414_20170713_C01_V01_SRAEROSOLQA.tif\n",
      "2017-11-02 13:18:48   44719531 cog/h03v03/LC08_CU_003003_20130414_20170713_C01_V01/SR/LC08_CU_003003_20130414_20170713_C01_V01_SRB1.tif\n",
      "2017-11-02 13:18:56   44567523 cog/h03v03/LC08_CU_003003_20130414_20170713_C01_V01/SR/LC08_CU_003003_20130414_20170713_C01_V01_SRB2.tif\n",
      "2017-11-02 13:19:02   44332394 cog/h03v03/LC08_CU_003003_20130414_20170713_C01_V01/SR/LC08_CU_003003_20130414_20170713_C01_V01_SRB3.tif\n",
      "2017-11-02 13:19:10   44424558 cog/h03v03/LC08_CU_003003_20130414_20170713_C01_V01/SR/LC08_CU_003003_20130414_20170713_C01_V01_SRB4.tif\n",
      "2017-11-02 13:19:17   44280122 cog/h03v03/LC08_CU_003003_20130414_20170713_C01_V01/SR/LC08_CU_003003_20130414_20170713_C01_V01_SRB5.tif\n",
      "2017-11-02 13:19:25   40761065 cog/h03v03/LC08_CU_003003_20130414_20170713_C01_V01/SR/LC08_CU_003003_20130414_20170713_C01_V01_SRB6.tif\n",
      "2017-11-02 13:19:37   40020633 cog/h03v03/LC08_CU_003003_20130414_20170713_C01_V01/SR/LC08_CU_003003_20130414_20170713_C01_V01_SRB7.tif\n",
      "2017-11-02 13:19:44    5022734 cog/h03v03/LC08_CU_003003_20130414_20170713_C01_V01/TA/LC08_CU_003003_20130414_20170713_C01_V01_SEA4.tif\n",
      "2017-11-02 13:19:49    1487029 cog/h03v03/LC08_CU_003003_20130414_20170713_C01_V01/TA/LC08_CU_003003_20130414_20170713_C01_V01_SEZ4.tif\n",
      "2017-11-02 13:19:53     678753 cog/h03v03/LC08_CU_003003_20130414_20170713_C01_V01/TA/LC08_CU_003003_20130414_20170713_C01_V01_SOA4.tif\n",
      "2017-11-02 13:19:58     700412 cog/h03v03/LC08_CU_003003_20130414_20170713_C01_V01/TA/LC08_CU_003003_20130414_20170713_C01_V01_SOZ4.tif\n",
      "2017-11-02 13:20:09   42511138 cog/h03v03/LC08_CU_003003_20130414_20170713_C01_V01/TA/LC08_CU_003003_20130414_20170713_C01_V01_TAB1.tif\n",
      "2017-11-02 13:20:21   42714870 cog/h03v03/LC08_CU_003003_20130414_20170713_C01_V01/TA/LC08_CU_003003_20130414_20170713_C01_V01_TAB2.tif\n",
      "2017-11-02 13:20:32   42718447 cog/h03v03/LC08_CU_003003_20130414_20170713_C01_V01/TA/LC08_CU_003003_20130414_20170713_C01_V01_TAB3.tif\n",
      "2017-11-02 13:20:43   43161112 cog/h03v03/LC08_CU_003003_20130414_20170713_C01_V01/TA/LC08_CU_003003_20130414_20170713_C01_V01_TAB4.tif\n",
      "2017-11-02 13:20:56   43650638 cog/h03v03/LC08_CU_003003_20130414_20170713_C01_V01/TA/LC08_CU_003003_20130414_20170713_C01_V01_TAB5.tif\n",
      "2017-11-02 13:21:08   40176271 cog/h03v03/LC08_CU_003003_20130414_20170713_C01_V01/TA/LC08_CU_003003_20130414_20170713_C01_V01_TAB6.tif\n",
      "2017-11-02 13:21:17   39571574 cog/h03v03/LC08_CU_003003_20130414_20170713_C01_V01/TA/LC08_CU_003003_20130414_20170713_C01_V01_TAB7.tif\n",
      "2017-11-02 13:21:30   31964561 cog/h03v03/LC08_CU_003003_20130414_20170713_C01_V01/TA/LC08_CU_003003_20130414_20170713_C01_V01_TAB9.tif\n",
      "2017-11-02 13:19:34    2772630 cog/h03v03/LC08_CU_003003_20130421_20170713_C01_V01/BT/LC08_CU_003003_20130421_20170713_C01_V01_BTB10.tif\n",
      "2017-11-02 13:19:39    2765061 cog/h03v03/LC08_CU_003003_20130421_20170713_C01_V01/BT/LC08_CU_003003_20130421_20170713_C01_V01_BTB11.tif\n",
      "2017-11-02 13:19:39      66268 cog/h03v03/LC08_CU_003003_20130421_20170713_C01_V01/QA/LC08_CU_003003_20130421_20170713_C01_V01.xml\n"
     ]
    }
   ],
   "source": [
    "%%bash\n",
    "# aws s3 ls --recursive ga-odc-eros-co3-west > co3.txt\n",
    "head -30 co3.txt"
   ]
  },
  {
   "cell_type": "code",
   "execution_count": 16,
   "metadata": {
    "collapsed": false,
    "jupyter": {
     "outputs_hidden": false
    }
   },
   "outputs": [
    {
     "name": "stdout",
     "output_type": "stream",
     "text": [
      "\n",
      "Total Objects: 27313\n",
      "   Total Size: 207.7 GiB\n"
     ]
    }
   ],
   "source": [
    "%%bash\n",
    "# aws s3 ls --human-readable --summarize --recursive ga-odc-eros-co3-west > co3_sum.txt\n",
    "tail -3 co3_sum.txt"
   ]
  },
  {
   "cell_type": "code",
   "execution_count": 18,
   "metadata": {
    "collapsed": false,
    "jupyter": {
     "outputs_hidden": false
    }
   },
   "outputs": [
    {
     "name": "stdout",
     "output_type": "stream",
     "text": [
      "\n",
      "Total Objects: 23573\n",
      "   Total Size: 396.4 GiB\n"
     ]
    }
   ],
   "source": [
    "%%bash\n",
    "# aws s3 ls --human-readable --summarize --recursive ga-odc-eros-ard-west > ard_sum.txt\n",
    "tail -3 ard_sum.txt"
   ]
  },
  {
   "cell_type": "code",
   "execution_count": 19,
   "metadata": {
    "collapsed": true,
    "jupyter": {
     "outputs_hidden": true
    }
   },
   "outputs": [],
   "source": [
    "%%bash\n",
    "firefox http://ga-odc-eros-opt-west.s3.amazonaws.com/doc/ReadmeAbout.html"
   ]
  },
  {
   "cell_type": "code",
   "execution_count": null,
   "metadata": {
    "collapsed": true,
    "jupyter": {
     "outputs_hidden": true
    }
   },
   "outputs": [],
   "source": []
  }
 ],
 "metadata": {
  "kernelspec": {
   "display_name": "Python 3",
   "language": "python",
   "name": "python3"
  },
  "language_info": {
   "codemirror_mode": {
    "name": "ipython",
    "version": 3
   },
   "file_extension": ".py",
   "mimetype": "text/x-python",
   "name": "python",
   "nbconvert_exporter": "python",
   "pygments_lexer": "ipython3",
   "version": "3.6.8"
  }
 },
 "nbformat": 4,
 "nbformat_minor": 4
}
