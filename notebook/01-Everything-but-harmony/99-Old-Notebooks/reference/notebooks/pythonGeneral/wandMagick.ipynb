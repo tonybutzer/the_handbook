{
 "cells": [
  {
   "cell_type": "markdown",
   "metadata": {},
   "source": [
    "# Coding Python for imagemagick\n",
    "- this program will display a jpg or gif\n",
    "- resize it in intersteing ways for:\n",
    "- blogs \n",
    "- and other applications\n",
    "- uses teh wand wrapper"
   ]
  },
  {
   "cell_type": "markdown",
   "metadata": {},
   "source": [
    "# This was the original wand example\n",
    "```\n",
    "from wand.image import Image\n",
    "from wand.display import display\n",
    "\n",
    "with Image(filename='screen.png') as img:\n",
    "    print(img.size)\n",
    "    for r in 1, 2, 3:\n",
    "        with img.clone() as i:\n",
    "            i.resize(int(i.width * r * 0.25), int(i.height * r * 0.25))\n",
    "            i.rotate(90 * r)\n",
    "            print (i.size)\n",
    "            i.save(filename='mona-lisa-{0}.png'.format(r))\n",
    "            display(i)\n",
    "            \n",
    "```"
   ]
  },
  {
   "cell_type": "code",
   "execution_count": 13,
   "metadata": {
    "collapsed": false
   },
   "outputs": [],
   "source": [
    "%%bash\n",
    "rm /home/tony/tmp/*.jpg"
   ]
  },
  {
   "cell_type": "code",
   "execution_count": 9,
   "metadata": {
    "collapsed": false
   },
   "outputs": [
    {
     "name": "stdout",
     "output_type": "stream",
     "text": [
      "nasa-89127.jpg\n",
      "(1300, 313)\n"
     ]
    }
   ],
   "source": [
    "from wand.image import Image\n",
    "from wand.display import display\n",
    "\n",
    "idir=\"/home/tony/Downloads\"\n",
    "odir=\"/home/tony/Downloads/Old\"\n",
    "\n",
    "import os\n",
    "files = os.listdir(idir)\n",
    "\n",
    "for f in files:\n",
    "    if f.endswith(\".jpg\"):\n",
    "        print (f)\n",
    "        fullFile = idir + \"/\" + f\n",
    "        im = Image(filename=fullFile)\n",
    "        #ic = im.clone()\n",
    "        im.resize(int(im.width * 0.25), int(im.height * 0.25))\n",
    "        mysz= im.size\n",
    "        x = mysz[0]\n",
    "        y= mysz[1]\n",
    "        yshave = int(y/4)\n",
    "        x1 = 0\n",
    "        x2 = x\n",
    "        y1 = yshave + 0\n",
    "        y2 = y - yshave\n",
    "        \n",
    "        im.crop(x1,y1,x2,y2)\n",
    "        display (im)\n",
    "        \n",
    "        # yscale = 310/y\n",
    "        # im.resize(int(im.width * yscale), int(im.height * yscale))\n",
    "\n",
    "        #y1 = int(y/3)\n",
    "        #y1 = y1 * 2\n",
    "        #y2 = y1 + 310\n",
    "        \n",
    "        #im.crop(0,y1,x,y2)\n",
    "        # print (mysz[0])\n",
    "        print(im.size)\n",
    "        # display(im)\n",
    "        \n",
    "        newf = \"/home/tony/tmp/crop-\" + f\n",
    "        im.save(filename=newf)\n",
    "        \n",
    "        outFile = odir + \"/\" + f\n",
    "        os.rename(fullFile,outFile)"
   ]
  },
  {
   "cell_type": "code",
   "execution_count": 10,
   "metadata": {
    "collapsed": false
   },
   "outputs": [
    {
     "name": "stderr",
     "output_type": "stream",
     "text": [
      "+ scp crop-nasa-89127.jpg resume:./feeling-responsive-gh-pages/images\n"
     ]
    }
   ],
   "source": [
    "%%bash\n",
    "(cd ~/tmp; /home/tony/bin/pushimage.sh *.jpg && rm *.jpg)\n"
   ]
  },
  {
   "cell_type": "code",
   "execution_count": null,
   "metadata": {
    "collapsed": true
   },
   "outputs": [],
   "source": []
  },
  {
   "cell_type": "code",
   "execution_count": null,
   "metadata": {
    "collapsed": true
   },
   "outputs": [],
   "source": []
  }
 ],
 "metadata": {
  "kernelspec": {
   "display_name": "Python 3",
   "language": "python",
   "name": "python3"
  },
  "language_info": {
   "codemirror_mode": {
    "name": "ipython",
    "version": 3
   },
   "file_extension": ".py",
   "mimetype": "text/x-python",
   "name": "python",
   "nbconvert_exporter": "python",
   "pygments_lexer": "ipython3",
   "version": "3.5.4"
  }
 },
 "nbformat": 4,
 "nbformat_minor": 0
}
