{
 "cells": [
  {
   "cell_type": "code",
   "execution_count": 1,
   "metadata": {
    "collapsed": true
   },
   "outputs": [],
   "source": [
    "import pandas"
   ]
  },
  {
   "cell_type": "code",
   "execution_count": 2,
   "metadata": {
    "collapsed": false
   },
   "outputs": [
    {
     "name": "stderr",
     "output_type": "stream",
     "text": [
      "/home/tony/anaconda3/lib/python3.5/site-packages/IPython/core/interactiveshell.py:2723: DtypeWarning: Columns (28,29,30,31,32,33,34,36,48) have mixed types. Specify dtype option on import or set low_memory=False.\n",
      "  interactivity=interactivity, compiler=compiler, result=result)\n"
     ]
    }
   ],
   "source": [
    "df = pandas.read_csv('awsLink/workCopy.csv', sep=',')"
   ]
  },
  {
   "cell_type": "code",
   "execution_count": 3,
   "metadata": {
    "collapsed": false
   },
   "outputs": [
    {
     "data": {
      "text/plain": [
       "(166505, 70)"
      ]
     },
     "execution_count": 3,
     "metadata": {},
     "output_type": "execute_result"
    }
   ],
   "source": [
    "df.shape"
   ]
  },
  {
   "cell_type": "code",
   "execution_count": 4,
   "metadata": {
    "collapsed": false
   },
   "outputs": [
    {
     "data": {
      "text/plain": [
       "Index(['SKU', 'OfferTermCode', 'RateCode', 'TermType', 'PriceDescription',\n",
       "       'EffectiveDate', 'StartingRange', 'EndingRange', 'Unit', 'PricePerUnit',\n",
       "       'Currency', 'LeaseContractLength', 'PurchaseOption', 'OfferingClass',\n",
       "       'Product Family', 'serviceCode', 'Location', 'Location Type',\n",
       "       'Instance Type', 'Current Generation', 'Instance Family', 'vCPU',\n",
       "       'Physical Processor', 'Clock Speed', 'Memory', 'Storage',\n",
       "       'Network Performance', 'Processor Architecture', 'Storage Media',\n",
       "       'Volume Type', 'Max Volume Size', 'Max IOPS/volume',\n",
       "       'Max IOPS Burst Performance', 'Max throughput/volume', 'Provisioned',\n",
       "       'Tenancy', 'EBS Optimized', 'Operating System', 'License Model',\n",
       "       'Group', 'Group Description', 'Transfer Type', 'From Location',\n",
       "       'From Location Type', 'To Location', 'To Location Type', 'usageType',\n",
       "       'operation', 'Comments', 'Dedicated EBS Throughput', 'ECU',\n",
       "       'Enhanced Networking Supported', 'GPU', 'Instance Capacity - 10xlarge',\n",
       "       'Instance Capacity - 16xlarge', 'Instance Capacity - 2xlarge',\n",
       "       'Instance Capacity - 32xlarge', 'Instance Capacity - 4xlarge',\n",
       "       'Instance Capacity - 8xlarge', 'Instance Capacity - large',\n",
       "       'Instance Capacity - medium', 'Instance Capacity - xlarge',\n",
       "       'Intel AVX Available', 'Intel AVX2 Available', 'Intel Turbo Available',\n",
       "       'Normalization Size Factor', 'Physical Cores', 'Pre Installed S/W',\n",
       "       'Processor Features', 'Sockets'],\n",
       "      dtype='object')"
      ]
     },
     "execution_count": 4,
     "metadata": {},
     "output_type": "execute_result"
    }
   ],
   "source": [
    "df.columns"
   ]
  },
  {
   "cell_type": "code",
   "execution_count": 5,
   "metadata": {
    "collapsed": false
   },
   "outputs": [],
   "source": [
    "subset = df[['Location', 'Instance Type', 'vCPU', 'Operating System', 'Instance Family', 'Tenancy', 'Memory', 'LeaseContractLength', 'Unit', 'PricePerUnit', 'TermType', 'Currency', 'PurchaseOption']] # subset multiple columns"
   ]
  },
  {
   "cell_type": "code",
   "execution_count": 6,
   "metadata": {
    "collapsed": false
   },
   "outputs": [
    {
     "data": {
      "text/html": [
       "<div>\n",
       "<table border=\"1\" class=\"dataframe\">\n",
       "  <thead>\n",
       "    <tr style=\"text-align: right;\">\n",
       "      <th></th>\n",
       "      <th>Location</th>\n",
       "      <th>Instance Type</th>\n",
       "      <th>vCPU</th>\n",
       "      <th>Operating System</th>\n",
       "      <th>Instance Family</th>\n",
       "      <th>Tenancy</th>\n",
       "      <th>Memory</th>\n",
       "      <th>LeaseContractLength</th>\n",
       "      <th>Unit</th>\n",
       "      <th>PricePerUnit</th>\n",
       "      <th>TermType</th>\n",
       "      <th>Currency</th>\n",
       "      <th>PurchaseOption</th>\n",
       "    </tr>\n",
       "  </thead>\n",
       "  <tbody>\n",
       "    <tr>\n",
       "      <th>0</th>\n",
       "      <td>US East (Ohio)</td>\n",
       "      <td>m4.xlarge</td>\n",
       "      <td>4.0</td>\n",
       "      <td>RHEL</td>\n",
       "      <td>General purpose</td>\n",
       "      <td>Dedicated</td>\n",
       "      <td>16 GiB</td>\n",
       "      <td>1yr</td>\n",
       "      <td>Hrs</td>\n",
       "      <td>0.2230</td>\n",
       "      <td>Reserved</td>\n",
       "      <td>USD</td>\n",
       "      <td>No Upfront</td>\n",
       "    </tr>\n",
       "    <tr>\n",
       "      <th>1</th>\n",
       "      <td>EU (Frankfurt)</td>\n",
       "      <td>r4.16xlarge</td>\n",
       "      <td>64.0</td>\n",
       "      <td>Windows</td>\n",
       "      <td>Memory optimized</td>\n",
       "      <td>Shared</td>\n",
       "      <td>488 GiB</td>\n",
       "      <td>3yr</td>\n",
       "      <td>Hrs</td>\n",
       "      <td>6.6146</td>\n",
       "      <td>Reserved</td>\n",
       "      <td>USD</td>\n",
       "      <td>No Upfront</td>\n",
       "    </tr>\n",
       "    <tr>\n",
       "      <th>2</th>\n",
       "      <td>Asia Pacific (Seoul)</td>\n",
       "      <td>i2.4xlarge</td>\n",
       "      <td>16.0</td>\n",
       "      <td>Windows</td>\n",
       "      <td>Storage optimized</td>\n",
       "      <td>Dedicated</td>\n",
       "      <td>122 GiB</td>\n",
       "      <td>NaN</td>\n",
       "      <td>Hrs</td>\n",
       "      <td>5.1382</td>\n",
       "      <td>OnDemand</td>\n",
       "      <td>USD</td>\n",
       "      <td>NaN</td>\n",
       "    </tr>\n",
       "    <tr>\n",
       "      <th>3</th>\n",
       "      <td>Asia Pacific (Singapore)</td>\n",
       "      <td>m3.2xlarge</td>\n",
       "      <td>8.0</td>\n",
       "      <td>Windows</td>\n",
       "      <td>General purpose</td>\n",
       "      <td>Dedicated</td>\n",
       "      <td>30 GiB</td>\n",
       "      <td>1yr</td>\n",
       "      <td>Hrs</td>\n",
       "      <td>1.0070</td>\n",
       "      <td>Reserved</td>\n",
       "      <td>USD</td>\n",
       "      <td>Partial Upfront</td>\n",
       "    </tr>\n",
       "    <tr>\n",
       "      <th>4</th>\n",
       "      <td>Asia Pacific (Sydney)</td>\n",
       "      <td>m1.medium</td>\n",
       "      <td>1.0</td>\n",
       "      <td>RHEL</td>\n",
       "      <td>General purpose</td>\n",
       "      <td>Shared</td>\n",
       "      <td>3.75 GiB</td>\n",
       "      <td>1yr</td>\n",
       "      <td>Quantity</td>\n",
       "      <td>1080.0000</td>\n",
       "      <td>Reserved</td>\n",
       "      <td>USD</td>\n",
       "      <td>All Upfront</td>\n",
       "    </tr>\n",
       "    <tr>\n",
       "      <th>5</th>\n",
       "      <td>Asia Pacific (Tokyo)</td>\n",
       "      <td>i3.xlarge</td>\n",
       "      <td>4.0</td>\n",
       "      <td>Linux</td>\n",
       "      <td>Storage optimized</td>\n",
       "      <td>Dedicated</td>\n",
       "      <td>30.5 GiB</td>\n",
       "      <td>3yr</td>\n",
       "      <td>Hrs</td>\n",
       "      <td>0.1950</td>\n",
       "      <td>Reserved</td>\n",
       "      <td>USD</td>\n",
       "      <td>No Upfront</td>\n",
       "    </tr>\n",
       "    <tr>\n",
       "      <th>6</th>\n",
       "      <td>Asia Pacific (Sydney)</td>\n",
       "      <td>r4.2xlarge</td>\n",
       "      <td>8.0</td>\n",
       "      <td>Windows</td>\n",
       "      <td>Memory optimized</td>\n",
       "      <td>Shared</td>\n",
       "      <td>61 GiB</td>\n",
       "      <td>3yr</td>\n",
       "      <td>Hrs</td>\n",
       "      <td>0.7855</td>\n",
       "      <td>Reserved</td>\n",
       "      <td>USD</td>\n",
       "      <td>No Upfront</td>\n",
       "    </tr>\n",
       "    <tr>\n",
       "      <th>7</th>\n",
       "      <td>US West (Oregon)</td>\n",
       "      <td>c4.xlarge</td>\n",
       "      <td>4.0</td>\n",
       "      <td>RHEL</td>\n",
       "      <td>Compute optimized</td>\n",
       "      <td>Shared</td>\n",
       "      <td>7.5 GiB</td>\n",
       "      <td>1yr</td>\n",
       "      <td>Quantity</td>\n",
       "      <td>530.0000</td>\n",
       "      <td>Reserved</td>\n",
       "      <td>USD</td>\n",
       "      <td>Partial Upfront</td>\n",
       "    </tr>\n",
       "    <tr>\n",
       "      <th>8</th>\n",
       "      <td>South America (Sao Paulo)</td>\n",
       "      <td>c4.4xlarge</td>\n",
       "      <td>16.0</td>\n",
       "      <td>Windows</td>\n",
       "      <td>Compute optimized</td>\n",
       "      <td>Shared</td>\n",
       "      <td>30 GiB</td>\n",
       "      <td>3yr</td>\n",
       "      <td>Quantity</td>\n",
       "      <td>17213.0000</td>\n",
       "      <td>Reserved</td>\n",
       "      <td>USD</td>\n",
       "      <td>Partial Upfront</td>\n",
       "    </tr>\n",
       "    <tr>\n",
       "      <th>9</th>\n",
       "      <td>South America (Sao Paulo)</td>\n",
       "      <td>t2.large</td>\n",
       "      <td>2.0</td>\n",
       "      <td>Windows</td>\n",
       "      <td>General purpose</td>\n",
       "      <td>Shared</td>\n",
       "      <td>8 GiB</td>\n",
       "      <td>3yr</td>\n",
       "      <td>Hrs</td>\n",
       "      <td>0.0918</td>\n",
       "      <td>Reserved</td>\n",
       "      <td>USD</td>\n",
       "      <td>Partial Upfront</td>\n",
       "    </tr>\n",
       "    <tr>\n",
       "      <th>10</th>\n",
       "      <td>US East (N. Virginia)</td>\n",
       "      <td>m4.2xlarge</td>\n",
       "      <td>8.0</td>\n",
       "      <td>Windows</td>\n",
       "      <td>General purpose</td>\n",
       "      <td>Dedicated</td>\n",
       "      <td>32 GiB</td>\n",
       "      <td>3yr</td>\n",
       "      <td>Hrs</td>\n",
       "      <td>1.7720</td>\n",
       "      <td>Reserved</td>\n",
       "      <td>USD</td>\n",
       "      <td>Partial Upfront</td>\n",
       "    </tr>\n",
       "    <tr>\n",
       "      <th>11</th>\n",
       "      <td>EU (Frankfurt)</td>\n",
       "      <td>i2.8xlarge</td>\n",
       "      <td>32.0</td>\n",
       "      <td>Windows</td>\n",
       "      <td>Storage optimized</td>\n",
       "      <td>Dedicated</td>\n",
       "      <td>244 GiB</td>\n",
       "      <td>3yr</td>\n",
       "      <td>Quantity</td>\n",
       "      <td>115184.0000</td>\n",
       "      <td>Reserved</td>\n",
       "      <td>USD</td>\n",
       "      <td>All Upfront</td>\n",
       "    </tr>\n",
       "    <tr>\n",
       "      <th>12</th>\n",
       "      <td>US West (N. California)</td>\n",
       "      <td>m3.xlarge</td>\n",
       "      <td>4.0</td>\n",
       "      <td>RHEL</td>\n",
       "      <td>General purpose</td>\n",
       "      <td>Shared</td>\n",
       "      <td>15 GiB</td>\n",
       "      <td>NaN</td>\n",
       "      <td>Hrs</td>\n",
       "      <td>0.3680</td>\n",
       "      <td>OnDemand</td>\n",
       "      <td>USD</td>\n",
       "      <td>NaN</td>\n",
       "    </tr>\n",
       "    <tr>\n",
       "      <th>13</th>\n",
       "      <td>South America (Sao Paulo)</td>\n",
       "      <td>i3.large</td>\n",
       "      <td>2.0</td>\n",
       "      <td>Windows</td>\n",
       "      <td>Storage optimized</td>\n",
       "      <td>Dedicated</td>\n",
       "      <td>15.25 GiB</td>\n",
       "      <td>3yr</td>\n",
       "      <td>Hrs</td>\n",
       "      <td>0.0000</td>\n",
       "      <td>Reserved</td>\n",
       "      <td>USD</td>\n",
       "      <td>All Upfront</td>\n",
       "    </tr>\n",
       "    <tr>\n",
       "      <th>14</th>\n",
       "      <td>AWS GovCloud (US)</td>\n",
       "      <td>r3.8xlarge</td>\n",
       "      <td>32.0</td>\n",
       "      <td>SUSE</td>\n",
       "      <td>Memory optimized</td>\n",
       "      <td>Host</td>\n",
       "      <td>244 GiB</td>\n",
       "      <td>NaN</td>\n",
       "      <td>Hrs</td>\n",
       "      <td>0.0000</td>\n",
       "      <td>OnDemand</td>\n",
       "      <td>USD</td>\n",
       "      <td>NaN</td>\n",
       "    </tr>\n",
       "    <tr>\n",
       "      <th>15</th>\n",
       "      <td>AWS GovCloud (US)</td>\n",
       "      <td>d2.4xlarge</td>\n",
       "      <td>16.0</td>\n",
       "      <td>Linux</td>\n",
       "      <td>Storage optimized</td>\n",
       "      <td>Dedicated</td>\n",
       "      <td>122 GiB</td>\n",
       "      <td>3yr</td>\n",
       "      <td>Hrs</td>\n",
       "      <td>1.9130</td>\n",
       "      <td>Reserved</td>\n",
       "      <td>USD</td>\n",
       "      <td>No Upfront</td>\n",
       "    </tr>\n",
       "    <tr>\n",
       "      <th>16</th>\n",
       "      <td>Asia Pacific (Sydney)</td>\n",
       "      <td>t2.large</td>\n",
       "      <td>2.0</td>\n",
       "      <td>Windows</td>\n",
       "      <td>General purpose</td>\n",
       "      <td>Shared</td>\n",
       "      <td>8 GiB</td>\n",
       "      <td>3yr</td>\n",
       "      <td>Quantity</td>\n",
       "      <td>2575.0000</td>\n",
       "      <td>Reserved</td>\n",
       "      <td>USD</td>\n",
       "      <td>All Upfront</td>\n",
       "    </tr>\n",
       "    <tr>\n",
       "      <th>17</th>\n",
       "      <td>Asia Pacific (Mumbai)</td>\n",
       "      <td>i3.large</td>\n",
       "      <td>2.0</td>\n",
       "      <td>Windows</td>\n",
       "      <td>Storage optimized</td>\n",
       "      <td>Shared</td>\n",
       "      <td>15.25 GiB</td>\n",
       "      <td>3yr</td>\n",
       "      <td>Hrs</td>\n",
       "      <td>0.0000</td>\n",
       "      <td>Reserved</td>\n",
       "      <td>USD</td>\n",
       "      <td>All Upfront</td>\n",
       "    </tr>\n",
       "    <tr>\n",
       "      <th>18</th>\n",
       "      <td>US East (Ohio)</td>\n",
       "      <td>i3.2xlarge</td>\n",
       "      <td>8.0</td>\n",
       "      <td>Windows</td>\n",
       "      <td>Storage optimized</td>\n",
       "      <td>Shared</td>\n",
       "      <td>61 GiB</td>\n",
       "      <td>3yr</td>\n",
       "      <td>Hrs</td>\n",
       "      <td>0.8900</td>\n",
       "      <td>Reserved</td>\n",
       "      <td>USD</td>\n",
       "      <td>No Upfront</td>\n",
       "    </tr>\n",
       "    <tr>\n",
       "      <th>19</th>\n",
       "      <td>Asia Pacific (Singapore)</td>\n",
       "      <td>i3.large</td>\n",
       "      <td>2.0</td>\n",
       "      <td>Windows</td>\n",
       "      <td>Storage optimized</td>\n",
       "      <td>Dedicated</td>\n",
       "      <td>15.25 GiB</td>\n",
       "      <td>3yr</td>\n",
       "      <td>Hrs</td>\n",
       "      <td>0.0920</td>\n",
       "      <td>Reserved</td>\n",
       "      <td>USD</td>\n",
       "      <td>Partial Upfront</td>\n",
       "    </tr>\n",
       "  </tbody>\n",
       "</table>\n",
       "</div>"
      ],
      "text/plain": [
       "                     Location Instance Type  vCPU Operating System  \\\n",
       "0              US East (Ohio)     m4.xlarge   4.0             RHEL   \n",
       "1              EU (Frankfurt)   r4.16xlarge  64.0          Windows   \n",
       "2        Asia Pacific (Seoul)    i2.4xlarge  16.0          Windows   \n",
       "3    Asia Pacific (Singapore)    m3.2xlarge   8.0          Windows   \n",
       "4       Asia Pacific (Sydney)     m1.medium   1.0             RHEL   \n",
       "5        Asia Pacific (Tokyo)     i3.xlarge   4.0            Linux   \n",
       "6       Asia Pacific (Sydney)    r4.2xlarge   8.0          Windows   \n",
       "7            US West (Oregon)     c4.xlarge   4.0             RHEL   \n",
       "8   South America (Sao Paulo)    c4.4xlarge  16.0          Windows   \n",
       "9   South America (Sao Paulo)      t2.large   2.0          Windows   \n",
       "10      US East (N. Virginia)    m4.2xlarge   8.0          Windows   \n",
       "11             EU (Frankfurt)    i2.8xlarge  32.0          Windows   \n",
       "12    US West (N. California)     m3.xlarge   4.0             RHEL   \n",
       "13  South America (Sao Paulo)      i3.large   2.0          Windows   \n",
       "14          AWS GovCloud (US)    r3.8xlarge  32.0             SUSE   \n",
       "15          AWS GovCloud (US)    d2.4xlarge  16.0            Linux   \n",
       "16      Asia Pacific (Sydney)      t2.large   2.0          Windows   \n",
       "17      Asia Pacific (Mumbai)      i3.large   2.0          Windows   \n",
       "18             US East (Ohio)    i3.2xlarge   8.0          Windows   \n",
       "19   Asia Pacific (Singapore)      i3.large   2.0          Windows   \n",
       "\n",
       "      Instance Family    Tenancy     Memory LeaseContractLength      Unit  \\\n",
       "0     General purpose  Dedicated     16 GiB                 1yr       Hrs   \n",
       "1    Memory optimized     Shared    488 GiB                 3yr       Hrs   \n",
       "2   Storage optimized  Dedicated    122 GiB                 NaN       Hrs   \n",
       "3     General purpose  Dedicated     30 GiB                 1yr       Hrs   \n",
       "4     General purpose     Shared   3.75 GiB                 1yr  Quantity   \n",
       "5   Storage optimized  Dedicated   30.5 GiB                 3yr       Hrs   \n",
       "6    Memory optimized     Shared     61 GiB                 3yr       Hrs   \n",
       "7   Compute optimized     Shared    7.5 GiB                 1yr  Quantity   \n",
       "8   Compute optimized     Shared     30 GiB                 3yr  Quantity   \n",
       "9     General purpose     Shared      8 GiB                 3yr       Hrs   \n",
       "10    General purpose  Dedicated     32 GiB                 3yr       Hrs   \n",
       "11  Storage optimized  Dedicated    244 GiB                 3yr  Quantity   \n",
       "12    General purpose     Shared     15 GiB                 NaN       Hrs   \n",
       "13  Storage optimized  Dedicated  15.25 GiB                 3yr       Hrs   \n",
       "14   Memory optimized       Host    244 GiB                 NaN       Hrs   \n",
       "15  Storage optimized  Dedicated    122 GiB                 3yr       Hrs   \n",
       "16    General purpose     Shared      8 GiB                 3yr  Quantity   \n",
       "17  Storage optimized     Shared  15.25 GiB                 3yr       Hrs   \n",
       "18  Storage optimized     Shared     61 GiB                 3yr       Hrs   \n",
       "19  Storage optimized  Dedicated  15.25 GiB                 3yr       Hrs   \n",
       "\n",
       "    PricePerUnit  TermType Currency   PurchaseOption  \n",
       "0         0.2230  Reserved      USD       No Upfront  \n",
       "1         6.6146  Reserved      USD       No Upfront  \n",
       "2         5.1382  OnDemand      USD              NaN  \n",
       "3         1.0070  Reserved      USD  Partial Upfront  \n",
       "4      1080.0000  Reserved      USD      All Upfront  \n",
       "5         0.1950  Reserved      USD       No Upfront  \n",
       "6         0.7855  Reserved      USD       No Upfront  \n",
       "7       530.0000  Reserved      USD  Partial Upfront  \n",
       "8     17213.0000  Reserved      USD  Partial Upfront  \n",
       "9         0.0918  Reserved      USD  Partial Upfront  \n",
       "10        1.7720  Reserved      USD  Partial Upfront  \n",
       "11   115184.0000  Reserved      USD      All Upfront  \n",
       "12        0.3680  OnDemand      USD              NaN  \n",
       "13        0.0000  Reserved      USD      All Upfront  \n",
       "14        0.0000  OnDemand      USD              NaN  \n",
       "15        1.9130  Reserved      USD       No Upfront  \n",
       "16     2575.0000  Reserved      USD      All Upfront  \n",
       "17        0.0000  Reserved      USD      All Upfront  \n",
       "18        0.8900  Reserved      USD       No Upfront  \n",
       "19        0.0920  Reserved      USD  Partial Upfront  "
      ]
     },
     "execution_count": 6,
     "metadata": {},
     "output_type": "execute_result"
    }
   ],
   "source": [
    "subset[:20]"
   ]
  },
  {
   "cell_type": "code",
   "execution_count": 7,
   "metadata": {
    "collapsed": false
   },
   "outputs": [
    {
     "data": {
      "text/plain": [
       "(166505, 13)"
      ]
     },
     "execution_count": 7,
     "metadata": {},
     "output_type": "execute_result"
    }
   ],
   "source": [
    "subset.shape"
   ]
  },
  {
   "cell_type": "code",
   "execution_count": 86,
   "metadata": {
    "collapsed": false
   },
   "outputs": [
    {
     "data": {
      "text/html": [
       "<div>\n",
       "<table border=\"1\" class=\"dataframe\">\n",
       "  <thead>\n",
       "    <tr style=\"text-align: right;\">\n",
       "      <th></th>\n",
       "      <th>vCPU</th>\n",
       "      <th>PricePerUnit</th>\n",
       "    </tr>\n",
       "  </thead>\n",
       "  <tbody>\n",
       "    <tr>\n",
       "      <th>count</th>\n",
       "      <td>165618.000000</td>\n",
       "      <td>1.665050e+05</td>\n",
       "    </tr>\n",
       "    <tr>\n",
       "      <th>mean</th>\n",
       "      <td>19.078862</td>\n",
       "      <td>1.476176e+04</td>\n",
       "    </tr>\n",
       "    <tr>\n",
       "      <th>std</th>\n",
       "      <td>23.797859</td>\n",
       "      <td>6.237070e+04</td>\n",
       "    </tr>\n",
       "    <tr>\n",
       "      <th>min</th>\n",
       "      <td>1.000000</td>\n",
       "      <td>0.000000e+00</td>\n",
       "    </tr>\n",
       "    <tr>\n",
       "      <th>25%</th>\n",
       "      <td>4.000000</td>\n",
       "      <td>7.800000e-02</td>\n",
       "    </tr>\n",
       "    <tr>\n",
       "      <th>50%</th>\n",
       "      <td>8.000000</td>\n",
       "      <td>1.639000e+00</td>\n",
       "    </tr>\n",
       "    <tr>\n",
       "      <th>75%</th>\n",
       "      <td>32.000000</td>\n",
       "      <td>4.514000e+03</td>\n",
       "    </tr>\n",
       "    <tr>\n",
       "      <th>max</th>\n",
       "      <td>128.000000</td>\n",
       "      <td>1.645474e+06</td>\n",
       "    </tr>\n",
       "  </tbody>\n",
       "</table>\n",
       "</div>"
      ],
      "text/plain": [
       "                vCPU  PricePerUnit\n",
       "count  165618.000000  1.665050e+05\n",
       "mean       19.078862  1.476176e+04\n",
       "std        23.797859  6.237070e+04\n",
       "min         1.000000  0.000000e+00\n",
       "25%         4.000000  7.800000e-02\n",
       "50%         8.000000  1.639000e+00\n",
       "75%        32.000000  4.514000e+03\n",
       "max       128.000000  1.645474e+06"
      ]
     },
     "execution_count": 86,
     "metadata": {},
     "output_type": "execute_result"
    }
   ],
   "source": [
    "subset.describe()"
   ]
  },
  {
   "cell_type": "code",
   "execution_count": 114,
   "metadata": {
    "collapsed": false
   },
   "outputs": [],
   "source": [
    "slice=subset['Instance Type']"
   ]
  },
  {
   "cell_type": "code",
   "execution_count": 115,
   "metadata": {
    "collapsed": false
   },
   "outputs": [
    {
     "data": {
      "text/plain": [
       "0           m4.xlarge\n",
       "1         r4.16xlarge\n",
       "2          i2.4xlarge\n",
       "3          m3.2xlarge\n",
       "4           m1.medium\n",
       "5           i3.xlarge\n",
       "6          r4.2xlarge\n",
       "7           c4.xlarge\n",
       "8          c4.4xlarge\n",
       "9            t2.large\n",
       "10         m4.2xlarge\n",
       "11         i2.8xlarge\n",
       "12          m3.xlarge\n",
       "13           i3.large\n",
       "14         r3.8xlarge\n",
       "15         d2.4xlarge\n",
       "16           t2.large\n",
       "17           i3.large\n",
       "18         i3.2xlarge\n",
       "19           i3.large\n",
       "20          t2.medium\n",
       "21           c3.large\n",
       "22         i2.4xlarge\n",
       "23          i2.xlarge\n",
       "24          r3.xlarge\n",
       "25         r4.4xlarge\n",
       "26         r3.8xlarge\n",
       "27         r4.2xlarge\n",
       "28         c3.8xlarge\n",
       "29        x1.16xlarge\n",
       "             ...     \n",
       "166475     i3.2xlarge\n",
       "166476       r3.large\n",
       "166477      m3.xlarge\n",
       "166478    hi1.4xlarge\n",
       "166479      d2.xlarge\n",
       "166480       t2.micro\n",
       "166481     m4.2xlarge\n",
       "166482      m4.xlarge\n",
       "166483      c1.xlarge\n",
       "166484      c1.medium\n",
       "166485      c4.xlarge\n",
       "166486    x1.32xlarge\n",
       "166487     m3.2xlarge\n",
       "166488    i3.16xlarge\n",
       "166489    r4.16xlarge\n",
       "166490    i3.16xlarge\n",
       "166491     r3.2xlarge\n",
       "166492    r4.16xlarge\n",
       "166493     m2.2xlarge\n",
       "166494     t2.2xlarge\n",
       "166495     m2.4xlarge\n",
       "166496      d2.xlarge\n",
       "166497      c4.xlarge\n",
       "166498    g3.16xlarge\n",
       "166499     i3.2xlarge\n",
       "166500    r4.16xlarge\n",
       "166501     c4.4xlarge\n",
       "166502       i3.large\n",
       "166503     i2.2xlarge\n",
       "166504      r3.xlarge\n",
       "Name: Instance Type, dtype: object"
      ]
     },
     "execution_count": 115,
     "metadata": {},
     "output_type": "execute_result"
    }
   ],
   "source": [
    "slice"
   ]
  },
  {
   "cell_type": "code",
   "execution_count": 113,
   "metadata": {
    "collapsed": false
   },
   "outputs": [],
   "source": [
    "sel = slice.value_counts()"
   ]
  },
  {
   "cell_type": "code",
   "execution_count": 93,
   "metadata": {
    "collapsed": false
   },
   "outputs": [
    {
     "data": {
      "text/plain": [
       "pandas.core.series.Series"
      ]
     },
     "execution_count": 93,
     "metadata": {},
     "output_type": "execute_result"
    }
   ],
   "source": [
    "type(sel)"
   ]
  },
  {
   "cell_type": "code",
   "execution_count": 94,
   "metadata": {
    "collapsed": false
   },
   "outputs": [
    {
     "data": {
      "text/plain": [
       "c4.4xlarge     3519\n",
       "c4.xlarge      3519\n",
       "c4.8xlarge     3519\n",
       "c4.2xlarge     3519\n",
       "m4.4xlarge     3511\n",
       "m4.xlarge      3511\n",
       "m4.10xlarge    3511\n",
       "m4.2xlarge     3511\n",
       "i3.8xlarge     3510\n",
       "i3.4xlarge     3510\n",
       "r4.2xlarge     3510\n",
       "i3.xlarge      3510\n",
       "i3.16xlarge    3510\n",
       "r4.xlarge      3510\n",
       "i3.2xlarge     3510\n",
       "r4.16xlarge    3493\n",
       "r4.4xlarge     3493\n",
       "r4.8xlarge     3478\n",
       "m4.16xlarge    3417\n",
       "x1.16xlarge    3201\n",
       "c4.large       3039\n",
       "m4.large       3031\n",
       "i3.large       3030\n",
       "r4.large       3023\n",
       "x1.32xlarge    3008\n",
       "r3.4xlarge     2843\n",
       "r3.2xlarge     2843\n",
       "r3.xlarge      2843\n",
       "r3.8xlarge     2831\n",
       "i2.2xlarge     2657\n",
       "               ... \n",
       "p2.8xlarge      871\n",
       "p2.16xlarge     871\n",
       "g3.4xlarge      827\n",
       "g3.16xlarge     827\n",
       "g3.8xlarge      825\n",
       "hs1.8xlarge     785\n",
       "p2.xlarge       760\n",
       "t2.nano         743\n",
       "cc2.8xlarge     562\n",
       "hi1.4xlarge     460\n",
       "t1.micro        459\n",
       "cr1.8xlarge     450\n",
       "f1.16xlarge     102\n",
       "f1.2xlarge      102\n",
       "cg1.4xlarge      28\n",
       "i3               15\n",
       "m4               14\n",
       "c4               14\n",
       "d2               13\n",
       "r4               13\n",
       "r3               13\n",
       "x1               13\n",
       "i2               12\n",
       "c3               10\n",
       "m3               10\n",
       "g2                8\n",
       "g3                6\n",
       "p2                3\n",
       "cc1.4xlarge       2\n",
       "f1                1\n",
       "Name: Instance Type, dtype: int64"
      ]
     },
     "execution_count": 94,
     "metadata": {},
     "output_type": "execute_result"
    }
   ],
   "source": [
    "sel"
   ]
  },
  {
   "cell_type": "code",
   "execution_count": 119,
   "metadata": {
    "collapsed": true
   },
   "outputs": [],
   "source": [
    "sel.name = 'junk'"
   ]
  },
  {
   "cell_type": "code",
   "execution_count": 120,
   "metadata": {
    "collapsed": false
   },
   "outputs": [
    {
     "data": {
      "text/plain": [
       "c4.4xlarge     3519\n",
       "c4.xlarge      3519\n",
       "c4.8xlarge     3519\n",
       "c4.2xlarge     3519\n",
       "m4.4xlarge     3511\n",
       "m4.xlarge      3511\n",
       "m4.10xlarge    3511\n",
       "m4.2xlarge     3511\n",
       "i3.8xlarge     3510\n",
       "i3.4xlarge     3510\n",
       "r4.2xlarge     3510\n",
       "i3.xlarge      3510\n",
       "i3.16xlarge    3510\n",
       "r4.xlarge      3510\n",
       "i3.2xlarge     3510\n",
       "r4.16xlarge    3493\n",
       "r4.4xlarge     3493\n",
       "r4.8xlarge     3478\n",
       "m4.16xlarge    3417\n",
       "x1.16xlarge    3201\n",
       "c4.large       3039\n",
       "m4.large       3031\n",
       "i3.large       3030\n",
       "r4.large       3023\n",
       "x1.32xlarge    3008\n",
       "r3.4xlarge     2843\n",
       "r3.2xlarge     2843\n",
       "r3.xlarge      2843\n",
       "r3.8xlarge     2831\n",
       "i2.2xlarge     2657\n",
       "               ... \n",
       "p2.8xlarge      871\n",
       "p2.16xlarge     871\n",
       "g3.4xlarge      827\n",
       "g3.16xlarge     827\n",
       "g3.8xlarge      825\n",
       "hs1.8xlarge     785\n",
       "p2.xlarge       760\n",
       "t2.nano         743\n",
       "cc2.8xlarge     562\n",
       "hi1.4xlarge     460\n",
       "t1.micro        459\n",
       "cr1.8xlarge     450\n",
       "f1.16xlarge     102\n",
       "f1.2xlarge      102\n",
       "cg1.4xlarge      28\n",
       "i3               15\n",
       "m4               14\n",
       "c4               14\n",
       "d2               13\n",
       "r4               13\n",
       "r3               13\n",
       "x1               13\n",
       "i2               12\n",
       "c3               10\n",
       "m3               10\n",
       "g2                8\n",
       "g3                6\n",
       "p2                3\n",
       "cc1.4xlarge       2\n",
       "f1                1\n",
       "Name: junk, dtype: int64"
      ]
     },
     "execution_count": 120,
     "metadata": {},
     "output_type": "execute_result"
    }
   ],
   "source": [
    "sel"
   ]
  },
  {
   "cell_type": "code",
   "execution_count": 121,
   "metadata": {
    "collapsed": false
   },
   "outputs": [],
   "source": [
    "abc = pandas.DataFrame(slice,sel)"
   ]
  },
  {
   "cell_type": "code",
   "execution_count": 122,
   "metadata": {
    "collapsed": false
   },
   "outputs": [
    {
     "data": {
      "text/html": [
       "<div>\n",
       "<table border=\"1\" class=\"dataframe\">\n",
       "  <thead>\n",
       "    <tr style=\"text-align: right;\">\n",
       "      <th></th>\n",
       "      <th>Instance Type</th>\n",
       "    </tr>\n",
       "    <tr>\n",
       "      <th>junk</th>\n",
       "      <th></th>\n",
       "    </tr>\n",
       "  </thead>\n",
       "  <tbody>\n",
       "    <tr>\n",
       "      <th>3519</th>\n",
       "      <td>m4.2xlarge</td>\n",
       "    </tr>\n",
       "    <tr>\n",
       "      <th>3519</th>\n",
       "      <td>m4.2xlarge</td>\n",
       "    </tr>\n",
       "    <tr>\n",
       "      <th>3519</th>\n",
       "      <td>m4.2xlarge</td>\n",
       "    </tr>\n",
       "    <tr>\n",
       "      <th>3519</th>\n",
       "      <td>m4.2xlarge</td>\n",
       "    </tr>\n",
       "    <tr>\n",
       "      <th>3511</th>\n",
       "      <td>c4.8xlarge</td>\n",
       "    </tr>\n",
       "    <tr>\n",
       "      <th>3511</th>\n",
       "      <td>c4.8xlarge</td>\n",
       "    </tr>\n",
       "    <tr>\n",
       "      <th>3511</th>\n",
       "      <td>c4.8xlarge</td>\n",
       "    </tr>\n",
       "    <tr>\n",
       "      <th>3511</th>\n",
       "      <td>c4.8xlarge</td>\n",
       "    </tr>\n",
       "    <tr>\n",
       "      <th>3510</th>\n",
       "      <td>c4.8xlarge</td>\n",
       "    </tr>\n",
       "    <tr>\n",
       "      <th>3510</th>\n",
       "      <td>c4.8xlarge</td>\n",
       "    </tr>\n",
       "    <tr>\n",
       "      <th>3510</th>\n",
       "      <td>c4.8xlarge</td>\n",
       "    </tr>\n",
       "    <tr>\n",
       "      <th>3510</th>\n",
       "      <td>c4.8xlarge</td>\n",
       "    </tr>\n",
       "    <tr>\n",
       "      <th>3510</th>\n",
       "      <td>c4.8xlarge</td>\n",
       "    </tr>\n",
       "    <tr>\n",
       "      <th>3510</th>\n",
       "      <td>c4.8xlarge</td>\n",
       "    </tr>\n",
       "    <tr>\n",
       "      <th>3510</th>\n",
       "      <td>c4.8xlarge</td>\n",
       "    </tr>\n",
       "    <tr>\n",
       "      <th>3493</th>\n",
       "      <td>i3.4xlarge</td>\n",
       "    </tr>\n",
       "    <tr>\n",
       "      <th>3493</th>\n",
       "      <td>i3.4xlarge</td>\n",
       "    </tr>\n",
       "    <tr>\n",
       "      <th>3478</th>\n",
       "      <td>d2.4xlarge</td>\n",
       "    </tr>\n",
       "    <tr>\n",
       "      <th>3417</th>\n",
       "      <td>r3.2xlarge</td>\n",
       "    </tr>\n",
       "    <tr>\n",
       "      <th>3201</th>\n",
       "      <td>m4.large</td>\n",
       "    </tr>\n",
       "    <tr>\n",
       "      <th>3039</th>\n",
       "      <td>r4.2xlarge</td>\n",
       "    </tr>\n",
       "    <tr>\n",
       "      <th>3031</th>\n",
       "      <td>r4.4xlarge</td>\n",
       "    </tr>\n",
       "    <tr>\n",
       "      <th>3030</th>\n",
       "      <td>c4.8xlarge</td>\n",
       "    </tr>\n",
       "    <tr>\n",
       "      <th>3023</th>\n",
       "      <td>d2.4xlarge</td>\n",
       "    </tr>\n",
       "    <tr>\n",
       "      <th>3008</th>\n",
       "      <td>r3.8xlarge</td>\n",
       "    </tr>\n",
       "    <tr>\n",
       "      <th>2843</th>\n",
       "      <td>p2.8xlarge</td>\n",
       "    </tr>\n",
       "    <tr>\n",
       "      <th>2843</th>\n",
       "      <td>p2.8xlarge</td>\n",
       "    </tr>\n",
       "    <tr>\n",
       "      <th>2843</th>\n",
       "      <td>p2.8xlarge</td>\n",
       "    </tr>\n",
       "    <tr>\n",
       "      <th>2831</th>\n",
       "      <td>d2.xlarge</td>\n",
       "    </tr>\n",
       "    <tr>\n",
       "      <th>2657</th>\n",
       "      <td>c4.2xlarge</td>\n",
       "    </tr>\n",
       "    <tr>\n",
       "      <th>...</th>\n",
       "      <td>...</td>\n",
       "    </tr>\n",
       "    <tr>\n",
       "      <th>871</th>\n",
       "      <td>m3.medium</td>\n",
       "    </tr>\n",
       "    <tr>\n",
       "      <th>871</th>\n",
       "      <td>m3.medium</td>\n",
       "    </tr>\n",
       "    <tr>\n",
       "      <th>827</th>\n",
       "      <td>d2.4xlarge</td>\n",
       "    </tr>\n",
       "    <tr>\n",
       "      <th>827</th>\n",
       "      <td>d2.4xlarge</td>\n",
       "    </tr>\n",
       "    <tr>\n",
       "      <th>825</th>\n",
       "      <td>m4.2xlarge</td>\n",
       "    </tr>\n",
       "    <tr>\n",
       "      <th>785</th>\n",
       "      <td>m4.xlarge</td>\n",
       "    </tr>\n",
       "    <tr>\n",
       "      <th>760</th>\n",
       "      <td>m4.16xlarge</td>\n",
       "    </tr>\n",
       "    <tr>\n",
       "      <th>743</th>\n",
       "      <td>r4.large</td>\n",
       "    </tr>\n",
       "    <tr>\n",
       "      <th>562</th>\n",
       "      <td>m4.16xlarge</td>\n",
       "    </tr>\n",
       "    <tr>\n",
       "      <th>460</th>\n",
       "      <td>r4.2xlarge</td>\n",
       "    </tr>\n",
       "    <tr>\n",
       "      <th>459</th>\n",
       "      <td>m4.16xlarge</td>\n",
       "    </tr>\n",
       "    <tr>\n",
       "      <th>450</th>\n",
       "      <td>m2.4xlarge</td>\n",
       "    </tr>\n",
       "    <tr>\n",
       "      <th>102</th>\n",
       "      <td>i3.4xlarge</td>\n",
       "    </tr>\n",
       "    <tr>\n",
       "      <th>102</th>\n",
       "      <td>i3.4xlarge</td>\n",
       "    </tr>\n",
       "    <tr>\n",
       "      <th>28</th>\n",
       "      <td>c3.8xlarge</td>\n",
       "    </tr>\n",
       "    <tr>\n",
       "      <th>15</th>\n",
       "      <td>d2.4xlarge</td>\n",
       "    </tr>\n",
       "    <tr>\n",
       "      <th>14</th>\n",
       "      <td>r3.8xlarge</td>\n",
       "    </tr>\n",
       "    <tr>\n",
       "      <th>14</th>\n",
       "      <td>r3.8xlarge</td>\n",
       "    </tr>\n",
       "    <tr>\n",
       "      <th>13</th>\n",
       "      <td>i3.large</td>\n",
       "    </tr>\n",
       "    <tr>\n",
       "      <th>13</th>\n",
       "      <td>i3.large</td>\n",
       "    </tr>\n",
       "    <tr>\n",
       "      <th>13</th>\n",
       "      <td>i3.large</td>\n",
       "    </tr>\n",
       "    <tr>\n",
       "      <th>13</th>\n",
       "      <td>i3.large</td>\n",
       "    </tr>\n",
       "    <tr>\n",
       "      <th>12</th>\n",
       "      <td>m3.xlarge</td>\n",
       "    </tr>\n",
       "    <tr>\n",
       "      <th>10</th>\n",
       "      <td>m4.2xlarge</td>\n",
       "    </tr>\n",
       "    <tr>\n",
       "      <th>10</th>\n",
       "      <td>m4.2xlarge</td>\n",
       "    </tr>\n",
       "    <tr>\n",
       "      <th>8</th>\n",
       "      <td>c4.4xlarge</td>\n",
       "    </tr>\n",
       "    <tr>\n",
       "      <th>6</th>\n",
       "      <td>r4.2xlarge</td>\n",
       "    </tr>\n",
       "    <tr>\n",
       "      <th>3</th>\n",
       "      <td>m3.2xlarge</td>\n",
       "    </tr>\n",
       "    <tr>\n",
       "      <th>2</th>\n",
       "      <td>i2.4xlarge</td>\n",
       "    </tr>\n",
       "    <tr>\n",
       "      <th>1</th>\n",
       "      <td>r4.16xlarge</td>\n",
       "    </tr>\n",
       "  </tbody>\n",
       "</table>\n",
       "<p>94 rows × 1 columns</p>\n",
       "</div>"
      ],
      "text/plain": [
       "     Instance Type\n",
       "junk              \n",
       "3519    m4.2xlarge\n",
       "3519    m4.2xlarge\n",
       "3519    m4.2xlarge\n",
       "3519    m4.2xlarge\n",
       "3511    c4.8xlarge\n",
       "3511    c4.8xlarge\n",
       "3511    c4.8xlarge\n",
       "3511    c4.8xlarge\n",
       "3510    c4.8xlarge\n",
       "3510    c4.8xlarge\n",
       "3510    c4.8xlarge\n",
       "3510    c4.8xlarge\n",
       "3510    c4.8xlarge\n",
       "3510    c4.8xlarge\n",
       "3510    c4.8xlarge\n",
       "3493    i3.4xlarge\n",
       "3493    i3.4xlarge\n",
       "3478    d2.4xlarge\n",
       "3417    r3.2xlarge\n",
       "3201      m4.large\n",
       "3039    r4.2xlarge\n",
       "3031    r4.4xlarge\n",
       "3030    c4.8xlarge\n",
       "3023    d2.4xlarge\n",
       "3008    r3.8xlarge\n",
       "2843    p2.8xlarge\n",
       "2843    p2.8xlarge\n",
       "2843    p2.8xlarge\n",
       "2831     d2.xlarge\n",
       "2657    c4.2xlarge\n",
       "...            ...\n",
       "871      m3.medium\n",
       "871      m3.medium\n",
       "827     d2.4xlarge\n",
       "827     d2.4xlarge\n",
       "825     m4.2xlarge\n",
       "785      m4.xlarge\n",
       "760    m4.16xlarge\n",
       "743       r4.large\n",
       "562    m4.16xlarge\n",
       "460     r4.2xlarge\n",
       "459    m4.16xlarge\n",
       "450     m2.4xlarge\n",
       "102     i3.4xlarge\n",
       "102     i3.4xlarge\n",
       "28      c3.8xlarge\n",
       "15      d2.4xlarge\n",
       "14      r3.8xlarge\n",
       "14      r3.8xlarge\n",
       "13        i3.large\n",
       "13        i3.large\n",
       "13        i3.large\n",
       "13        i3.large\n",
       "12       m3.xlarge\n",
       "10      m4.2xlarge\n",
       "10      m4.2xlarge\n",
       "8       c4.4xlarge\n",
       "6       r4.2xlarge\n",
       "3       m3.2xlarge\n",
       "2       i2.4xlarge\n",
       "1      r4.16xlarge\n",
       "\n",
       "[94 rows x 1 columns]"
      ]
     },
     "execution_count": 122,
     "metadata": {},
     "output_type": "execute_result"
    }
   ],
   "source": [
    "abc"
   ]
  },
  {
   "cell_type": "code",
   "execution_count": 127,
   "metadata": {
    "collapsed": false
   },
   "outputs": [
    {
     "data": {
      "text/plain": [
       "<bound method DataFrame.reindex of      Instance Type\n",
       "junk              \n",
       "3519    m4.2xlarge\n",
       "3519    m4.2xlarge\n",
       "3519    m4.2xlarge\n",
       "3519    m4.2xlarge\n",
       "3511    c4.8xlarge\n",
       "3511    c4.8xlarge\n",
       "3511    c4.8xlarge\n",
       "3511    c4.8xlarge\n",
       "3510    c4.8xlarge\n",
       "3510    c4.8xlarge\n",
       "3510    c4.8xlarge\n",
       "3510    c4.8xlarge\n",
       "3510    c4.8xlarge\n",
       "3510    c4.8xlarge\n",
       "3510    c4.8xlarge\n",
       "3493    i3.4xlarge\n",
       "3493    i3.4xlarge\n",
       "3478    d2.4xlarge\n",
       "3417    r3.2xlarge\n",
       "3201      m4.large\n",
       "3039    r4.2xlarge\n",
       "3031    r4.4xlarge\n",
       "3030    c4.8xlarge\n",
       "3023    d2.4xlarge\n",
       "3008    r3.8xlarge\n",
       "2843    p2.8xlarge\n",
       "2843    p2.8xlarge\n",
       "2843    p2.8xlarge\n",
       "2831     d2.xlarge\n",
       "2657    c4.2xlarge\n",
       "...            ...\n",
       "871      m3.medium\n",
       "871      m3.medium\n",
       "827     d2.4xlarge\n",
       "827     d2.4xlarge\n",
       "825     m4.2xlarge\n",
       "785      m4.xlarge\n",
       "760    m4.16xlarge\n",
       "743       r4.large\n",
       "562    m4.16xlarge\n",
       "460     r4.2xlarge\n",
       "459    m4.16xlarge\n",
       "450     m2.4xlarge\n",
       "102     i3.4xlarge\n",
       "102     i3.4xlarge\n",
       "28      c3.8xlarge\n",
       "15      d2.4xlarge\n",
       "14      r3.8xlarge\n",
       "14      r3.8xlarge\n",
       "13        i3.large\n",
       "13        i3.large\n",
       "13        i3.large\n",
       "13        i3.large\n",
       "12       m3.xlarge\n",
       "10      m4.2xlarge\n",
       "10      m4.2xlarge\n",
       "8       c4.4xlarge\n",
       "6       r4.2xlarge\n",
       "3       m3.2xlarge\n",
       "2       i2.4xlarge\n",
       "1      r4.16xlarge\n",
       "\n",
       "[94 rows x 1 columns]>"
      ]
     },
     "execution_count": 127,
     "metadata": {},
     "output_type": "execute_result"
    }
   ],
   "source": [
    "abc.reindex"
   ]
  },
  {
   "cell_type": "code",
   "execution_count": 138,
   "metadata": {
    "collapsed": false
   },
   "outputs": [
    {
     "data": {
      "text/plain": [
       "Index(['Instance Type'], dtype='object')"
      ]
     },
     "execution_count": 138,
     "metadata": {},
     "output_type": "execute_result"
    }
   ],
   "source": [
    "abc.columns"
   ]
  },
  {
   "cell_type": "code",
   "execution_count": 140,
   "metadata": {
    "collapsed": false
   },
   "outputs": [],
   "source": [
    "newb = abc.reset_index() #added the synthetic index"
   ]
  },
  {
   "cell_type": "code",
   "execution_count": 141,
   "metadata": {
    "collapsed": false
   },
   "outputs": [
    {
     "data": {
      "text/plain": [
       "Index(['junk', 'Instance Type'], dtype='object')"
      ]
     },
     "execution_count": 141,
     "metadata": {},
     "output_type": "execute_result"
    }
   ],
   "source": [
    "newb.columns"
   ]
  },
  {
   "cell_type": "code",
   "execution_count": 142,
   "metadata": {
    "collapsed": true
   },
   "outputs": [],
   "source": [
    "big = newb.junk.max()"
   ]
  },
  {
   "cell_type": "code",
   "execution_count": 143,
   "metadata": {
    "collapsed": false
   },
   "outputs": [
    {
     "data": {
      "text/plain": [
       "3519"
      ]
     },
     "execution_count": 143,
     "metadata": {},
     "output_type": "execute_result"
    }
   ],
   "source": [
    "big"
   ]
  },
  {
   "cell_type": "code",
   "execution_count": 145,
   "metadata": {
    "collapsed": false
   },
   "outputs": [
    {
     "data": {
      "text/html": [
       "<div>\n",
       "<table border=\"1\" class=\"dataframe\">\n",
       "  <thead>\n",
       "    <tr style=\"text-align: right;\">\n",
       "      <th></th>\n",
       "      <th>Instance Type</th>\n",
       "    </tr>\n",
       "    <tr>\n",
       "      <th>junk</th>\n",
       "      <th></th>\n",
       "    </tr>\n",
       "  </thead>\n",
       "  <tbody>\n",
       "    <tr>\n",
       "      <th>3519</th>\n",
       "      <td>m4.2xlarge</td>\n",
       "    </tr>\n",
       "    <tr>\n",
       "      <th>3519</th>\n",
       "      <td>m4.2xlarge</td>\n",
       "    </tr>\n",
       "    <tr>\n",
       "      <th>3519</th>\n",
       "      <td>m4.2xlarge</td>\n",
       "    </tr>\n",
       "    <tr>\n",
       "      <th>3519</th>\n",
       "      <td>m4.2xlarge</td>\n",
       "    </tr>\n",
       "  </tbody>\n",
       "</table>\n",
       "</div>"
      ],
      "text/plain": [
       "     Instance Type\n",
       "junk              \n",
       "3519    m4.2xlarge\n",
       "3519    m4.2xlarge\n",
       "3519    m4.2xlarge\n",
       "3519    m4.2xlarge"
      ]
     },
     "execution_count": 145,
     "metadata": {},
     "output_type": "execute_result"
    }
   ],
   "source": [
    "abc.loc[big]"
   ]
  },
  {
   "cell_type": "code",
   "execution_count": 99,
   "metadata": {
    "collapsed": false,
    "scrolled": true
   },
   "outputs": [
    {
     "data": {
      "text/html": [
       "<div>\n",
       "<table border=\"1\" class=\"dataframe\">\n",
       "  <thead>\n",
       "    <tr style=\"text-align: right;\">\n",
       "      <th></th>\n",
       "      <th>c4.4xlarge</th>\n",
       "      <th>c4.xlarge</th>\n",
       "      <th>c4.8xlarge</th>\n",
       "      <th>c4.2xlarge</th>\n",
       "      <th>m4.4xlarge</th>\n",
       "      <th>m4.xlarge</th>\n",
       "      <th>m4.10xlarge</th>\n",
       "      <th>m4.2xlarge</th>\n",
       "      <th>i3.8xlarge</th>\n",
       "      <th>i3.4xlarge</th>\n",
       "      <th>...</th>\n",
       "      <th>r3</th>\n",
       "      <th>x1</th>\n",
       "      <th>i2</th>\n",
       "      <th>c3</th>\n",
       "      <th>m3</th>\n",
       "      <th>g2</th>\n",
       "      <th>g3</th>\n",
       "      <th>p2</th>\n",
       "      <th>cc1.4xlarge</th>\n",
       "      <th>f1</th>\n",
       "    </tr>\n",
       "  </thead>\n",
       "  <tbody>\n",
       "    <tr>\n",
       "      <th>Instance Type</th>\n",
       "      <td>3519</td>\n",
       "      <td>3519</td>\n",
       "      <td>3519</td>\n",
       "      <td>3519</td>\n",
       "      <td>3511</td>\n",
       "      <td>3511</td>\n",
       "      <td>3511</td>\n",
       "      <td>3511</td>\n",
       "      <td>3510</td>\n",
       "      <td>3510</td>\n",
       "      <td>...</td>\n",
       "      <td>13</td>\n",
       "      <td>13</td>\n",
       "      <td>12</td>\n",
       "      <td>10</td>\n",
       "      <td>10</td>\n",
       "      <td>8</td>\n",
       "      <td>6</td>\n",
       "      <td>3</td>\n",
       "      <td>2</td>\n",
       "      <td>1</td>\n",
       "    </tr>\n",
       "  </tbody>\n",
       "</table>\n",
       "<p>1 rows × 94 columns</p>\n",
       "</div>"
      ],
      "text/plain": [
       "               c4.4xlarge  c4.xlarge  c4.8xlarge  c4.2xlarge  m4.4xlarge  \\\n",
       "Instance Type        3519       3519        3519        3519        3511   \n",
       "\n",
       "               m4.xlarge  m4.10xlarge  m4.2xlarge  i3.8xlarge  i3.4xlarge ...  \\\n",
       "Instance Type       3511         3511        3511        3510        3510 ...   \n",
       "\n",
       "               r3  x1  i2  c3  m3  g2  g3  p2  cc1.4xlarge  f1  \n",
       "Instance Type  13  13  12  10  10   8   6   3            2   1  \n",
       "\n",
       "[1 rows x 94 columns]"
      ]
     },
     "execution_count": 99,
     "metadata": {},
     "output_type": "execute_result"
    }
   ],
   "source": [
    "pandas.DataFrame([sel])"
   ]
  },
  {
   "cell_type": "code",
   "execution_count": 100,
   "metadata": {
    "collapsed": true
   },
   "outputs": [],
   "source": [
    "mf = sel.to_frame()"
   ]
  },
  {
   "cell_type": "code",
   "execution_count": 101,
   "metadata": {
    "collapsed": false
   },
   "outputs": [
    {
     "data": {
      "text/html": [
       "<div>\n",
       "<table border=\"1\" class=\"dataframe\">\n",
       "  <thead>\n",
       "    <tr style=\"text-align: right;\">\n",
       "      <th></th>\n",
       "      <th>Instance Type</th>\n",
       "    </tr>\n",
       "  </thead>\n",
       "  <tbody>\n",
       "    <tr>\n",
       "      <th>c4.4xlarge</th>\n",
       "      <td>3519</td>\n",
       "    </tr>\n",
       "    <tr>\n",
       "      <th>c4.xlarge</th>\n",
       "      <td>3519</td>\n",
       "    </tr>\n",
       "    <tr>\n",
       "      <th>c4.8xlarge</th>\n",
       "      <td>3519</td>\n",
       "    </tr>\n",
       "    <tr>\n",
       "      <th>c4.2xlarge</th>\n",
       "      <td>3519</td>\n",
       "    </tr>\n",
       "    <tr>\n",
       "      <th>m4.4xlarge</th>\n",
       "      <td>3511</td>\n",
       "    </tr>\n",
       "    <tr>\n",
       "      <th>m4.xlarge</th>\n",
       "      <td>3511</td>\n",
       "    </tr>\n",
       "    <tr>\n",
       "      <th>m4.10xlarge</th>\n",
       "      <td>3511</td>\n",
       "    </tr>\n",
       "    <tr>\n",
       "      <th>m4.2xlarge</th>\n",
       "      <td>3511</td>\n",
       "    </tr>\n",
       "    <tr>\n",
       "      <th>i3.8xlarge</th>\n",
       "      <td>3510</td>\n",
       "    </tr>\n",
       "    <tr>\n",
       "      <th>i3.4xlarge</th>\n",
       "      <td>3510</td>\n",
       "    </tr>\n",
       "    <tr>\n",
       "      <th>r4.2xlarge</th>\n",
       "      <td>3510</td>\n",
       "    </tr>\n",
       "    <tr>\n",
       "      <th>i3.xlarge</th>\n",
       "      <td>3510</td>\n",
       "    </tr>\n",
       "    <tr>\n",
       "      <th>i3.16xlarge</th>\n",
       "      <td>3510</td>\n",
       "    </tr>\n",
       "    <tr>\n",
       "      <th>r4.xlarge</th>\n",
       "      <td>3510</td>\n",
       "    </tr>\n",
       "    <tr>\n",
       "      <th>i3.2xlarge</th>\n",
       "      <td>3510</td>\n",
       "    </tr>\n",
       "    <tr>\n",
       "      <th>r4.16xlarge</th>\n",
       "      <td>3493</td>\n",
       "    </tr>\n",
       "    <tr>\n",
       "      <th>r4.4xlarge</th>\n",
       "      <td>3493</td>\n",
       "    </tr>\n",
       "    <tr>\n",
       "      <th>r4.8xlarge</th>\n",
       "      <td>3478</td>\n",
       "    </tr>\n",
       "    <tr>\n",
       "      <th>m4.16xlarge</th>\n",
       "      <td>3417</td>\n",
       "    </tr>\n",
       "    <tr>\n",
       "      <th>x1.16xlarge</th>\n",
       "      <td>3201</td>\n",
       "    </tr>\n",
       "    <tr>\n",
       "      <th>c4.large</th>\n",
       "      <td>3039</td>\n",
       "    </tr>\n",
       "    <tr>\n",
       "      <th>m4.large</th>\n",
       "      <td>3031</td>\n",
       "    </tr>\n",
       "    <tr>\n",
       "      <th>i3.large</th>\n",
       "      <td>3030</td>\n",
       "    </tr>\n",
       "    <tr>\n",
       "      <th>r4.large</th>\n",
       "      <td>3023</td>\n",
       "    </tr>\n",
       "    <tr>\n",
       "      <th>x1.32xlarge</th>\n",
       "      <td>3008</td>\n",
       "    </tr>\n",
       "    <tr>\n",
       "      <th>r3.4xlarge</th>\n",
       "      <td>2843</td>\n",
       "    </tr>\n",
       "    <tr>\n",
       "      <th>r3.2xlarge</th>\n",
       "      <td>2843</td>\n",
       "    </tr>\n",
       "    <tr>\n",
       "      <th>r3.xlarge</th>\n",
       "      <td>2843</td>\n",
       "    </tr>\n",
       "    <tr>\n",
       "      <th>r3.8xlarge</th>\n",
       "      <td>2831</td>\n",
       "    </tr>\n",
       "    <tr>\n",
       "      <th>i2.2xlarge</th>\n",
       "      <td>2657</td>\n",
       "    </tr>\n",
       "    <tr>\n",
       "      <th>...</th>\n",
       "      <td>...</td>\n",
       "    </tr>\n",
       "    <tr>\n",
       "      <th>p2.8xlarge</th>\n",
       "      <td>871</td>\n",
       "    </tr>\n",
       "    <tr>\n",
       "      <th>p2.16xlarge</th>\n",
       "      <td>871</td>\n",
       "    </tr>\n",
       "    <tr>\n",
       "      <th>g3.4xlarge</th>\n",
       "      <td>827</td>\n",
       "    </tr>\n",
       "    <tr>\n",
       "      <th>g3.16xlarge</th>\n",
       "      <td>827</td>\n",
       "    </tr>\n",
       "    <tr>\n",
       "      <th>g3.8xlarge</th>\n",
       "      <td>825</td>\n",
       "    </tr>\n",
       "    <tr>\n",
       "      <th>hs1.8xlarge</th>\n",
       "      <td>785</td>\n",
       "    </tr>\n",
       "    <tr>\n",
       "      <th>p2.xlarge</th>\n",
       "      <td>760</td>\n",
       "    </tr>\n",
       "    <tr>\n",
       "      <th>t2.nano</th>\n",
       "      <td>743</td>\n",
       "    </tr>\n",
       "    <tr>\n",
       "      <th>cc2.8xlarge</th>\n",
       "      <td>562</td>\n",
       "    </tr>\n",
       "    <tr>\n",
       "      <th>hi1.4xlarge</th>\n",
       "      <td>460</td>\n",
       "    </tr>\n",
       "    <tr>\n",
       "      <th>t1.micro</th>\n",
       "      <td>459</td>\n",
       "    </tr>\n",
       "    <tr>\n",
       "      <th>cr1.8xlarge</th>\n",
       "      <td>450</td>\n",
       "    </tr>\n",
       "    <tr>\n",
       "      <th>f1.16xlarge</th>\n",
       "      <td>102</td>\n",
       "    </tr>\n",
       "    <tr>\n",
       "      <th>f1.2xlarge</th>\n",
       "      <td>102</td>\n",
       "    </tr>\n",
       "    <tr>\n",
       "      <th>cg1.4xlarge</th>\n",
       "      <td>28</td>\n",
       "    </tr>\n",
       "    <tr>\n",
       "      <th>i3</th>\n",
       "      <td>15</td>\n",
       "    </tr>\n",
       "    <tr>\n",
       "      <th>m4</th>\n",
       "      <td>14</td>\n",
       "    </tr>\n",
       "    <tr>\n",
       "      <th>c4</th>\n",
       "      <td>14</td>\n",
       "    </tr>\n",
       "    <tr>\n",
       "      <th>d2</th>\n",
       "      <td>13</td>\n",
       "    </tr>\n",
       "    <tr>\n",
       "      <th>r4</th>\n",
       "      <td>13</td>\n",
       "    </tr>\n",
       "    <tr>\n",
       "      <th>r3</th>\n",
       "      <td>13</td>\n",
       "    </tr>\n",
       "    <tr>\n",
       "      <th>x1</th>\n",
       "      <td>13</td>\n",
       "    </tr>\n",
       "    <tr>\n",
       "      <th>i2</th>\n",
       "      <td>12</td>\n",
       "    </tr>\n",
       "    <tr>\n",
       "      <th>c3</th>\n",
       "      <td>10</td>\n",
       "    </tr>\n",
       "    <tr>\n",
       "      <th>m3</th>\n",
       "      <td>10</td>\n",
       "    </tr>\n",
       "    <tr>\n",
       "      <th>g2</th>\n",
       "      <td>8</td>\n",
       "    </tr>\n",
       "    <tr>\n",
       "      <th>g3</th>\n",
       "      <td>6</td>\n",
       "    </tr>\n",
       "    <tr>\n",
       "      <th>p2</th>\n",
       "      <td>3</td>\n",
       "    </tr>\n",
       "    <tr>\n",
       "      <th>cc1.4xlarge</th>\n",
       "      <td>2</td>\n",
       "    </tr>\n",
       "    <tr>\n",
       "      <th>f1</th>\n",
       "      <td>1</td>\n",
       "    </tr>\n",
       "  </tbody>\n",
       "</table>\n",
       "<p>94 rows × 1 columns</p>\n",
       "</div>"
      ],
      "text/plain": [
       "             Instance Type\n",
       "c4.4xlarge            3519\n",
       "c4.xlarge             3519\n",
       "c4.8xlarge            3519\n",
       "c4.2xlarge            3519\n",
       "m4.4xlarge            3511\n",
       "m4.xlarge             3511\n",
       "m4.10xlarge           3511\n",
       "m4.2xlarge            3511\n",
       "i3.8xlarge            3510\n",
       "i3.4xlarge            3510\n",
       "r4.2xlarge            3510\n",
       "i3.xlarge             3510\n",
       "i3.16xlarge           3510\n",
       "r4.xlarge             3510\n",
       "i3.2xlarge            3510\n",
       "r4.16xlarge           3493\n",
       "r4.4xlarge            3493\n",
       "r4.8xlarge            3478\n",
       "m4.16xlarge           3417\n",
       "x1.16xlarge           3201\n",
       "c4.large              3039\n",
       "m4.large              3031\n",
       "i3.large              3030\n",
       "r4.large              3023\n",
       "x1.32xlarge           3008\n",
       "r3.4xlarge            2843\n",
       "r3.2xlarge            2843\n",
       "r3.xlarge             2843\n",
       "r3.8xlarge            2831\n",
       "i2.2xlarge            2657\n",
       "...                    ...\n",
       "p2.8xlarge             871\n",
       "p2.16xlarge            871\n",
       "g3.4xlarge             827\n",
       "g3.16xlarge            827\n",
       "g3.8xlarge             825\n",
       "hs1.8xlarge            785\n",
       "p2.xlarge              760\n",
       "t2.nano                743\n",
       "cc2.8xlarge            562\n",
       "hi1.4xlarge            460\n",
       "t1.micro               459\n",
       "cr1.8xlarge            450\n",
       "f1.16xlarge            102\n",
       "f1.2xlarge             102\n",
       "cg1.4xlarge             28\n",
       "i3                      15\n",
       "m4                      14\n",
       "c4                      14\n",
       "d2                      13\n",
       "r4                      13\n",
       "r3                      13\n",
       "x1                      13\n",
       "i2                      12\n",
       "c3                      10\n",
       "m3                      10\n",
       "g2                       8\n",
       "g3                       6\n",
       "p2                       3\n",
       "cc1.4xlarge              2\n",
       "f1                       1\n",
       "\n",
       "[94 rows x 1 columns]"
      ]
     },
     "execution_count": 101,
     "metadata": {},
     "output_type": "execute_result"
    }
   ],
   "source": [
    "mf"
   ]
  },
  {
   "cell_type": "code",
   "execution_count": 87,
   "metadata": {
    "collapsed": false
   },
   "outputs": [
    {
     "data": {
      "text/plain": [
       "0    c4.2xlarge\n",
       "1    c4.4xlarge\n",
       "2    c4.8xlarge\n",
       "3     c4.xlarge\n",
       "dtype: object"
      ]
     },
     "execution_count": 87,
     "metadata": {},
     "output_type": "execute_result"
    }
   ],
   "source": [
    "slice.mode()"
   ]
  },
  {
   "cell_type": "code",
   "execution_count": 8,
   "metadata": {
    "collapsed": false
   },
   "outputs": [
    {
     "data": {
      "text/plain": [
       "8.0      31302\n",
       "4.0      30450\n",
       "16.0     25248\n",
       "2.0      23911\n",
       "32.0     18473\n",
       "64.0     15459\n",
       "1.0       7704\n",
       "36.0      5741\n",
       "40.0      3525\n",
       "128.0     3020\n",
       "17.0       785\n",
       "Name: vCPU, dtype: int64"
      ]
     },
     "execution_count": 8,
     "metadata": {},
     "output_type": "execute_result"
    }
   ],
   "source": [
    "subset['vCPU'].value_counts()"
   ]
  },
  {
   "cell_type": "code",
   "execution_count": 9,
   "metadata": {
    "collapsed": true
   },
   "outputs": [],
   "source": [
    "%matplotlib inline"
   ]
  },
  {
   "cell_type": "code",
   "execution_count": 10,
   "metadata": {
    "collapsed": false
   },
   "outputs": [],
   "source": [
    "newO = subset['vCPU'].value_counts()"
   ]
  },
  {
   "cell_type": "code",
   "execution_count": 11,
   "metadata": {
    "collapsed": false
   },
   "outputs": [
    {
     "data": {
      "text/plain": [
       "pandas.core.series.Series"
      ]
     },
     "execution_count": 11,
     "metadata": {},
     "output_type": "execute_result"
    }
   ],
   "source": [
    "type(newO)"
   ]
  },
  {
   "cell_type": "code",
   "execution_count": 14,
   "metadata": {
    "collapsed": false
   },
   "outputs": [
    {
     "data": {
      "text/plain": [
       "<matplotlib.axes._subplots.AxesSubplot at 0x7f6819e7b2b0>"
      ]
     },
     "execution_count": 14,
     "metadata": {},
     "output_type": "execute_result"
    },
    {
     "data": {
      "image/png": "[encoded data removed]",
      "text/plain": [
       "<matplotlib.figure.Figure at 0x7f6819e8e358>"
      ]
     },
     "metadata": {},
     "output_type": "display_data"
    }
   ],
   "source": [
    "newO.plot(kind='bar')"
   ]
  },
  {
   "cell_type": "code",
   "execution_count": 15,
   "metadata": {
    "collapsed": false
   },
   "outputs": [
    {
     "data": {
      "text/plain": [
       "<bound method Series.sort of 8.0      31302\n",
       "4.0      30450\n",
       "16.0     25248\n",
       "2.0      23911\n",
       "32.0     18473\n",
       "64.0     15459\n",
       "1.0       7704\n",
       "36.0      5741\n",
       "40.0      3525\n",
       "128.0     3020\n",
       "17.0       785\n",
       "Name: vCPU, dtype: int64>"
      ]
     },
     "execution_count": 15,
     "metadata": {},
     "output_type": "execute_result"
    }
   ],
   "source": [
    "newO.sort"
   ]
  },
  {
   "cell_type": "raw",
   "metadata": {},
   "source": [
    "newO.order # does nothing"
   ]
  },
  {
   "cell_type": "code",
   "execution_count": 16,
   "metadata": {
    "collapsed": false
   },
   "outputs": [
    {
     "data": {
      "text/plain": [
       "8.0      31302\n",
       "4.0      30450\n",
       "16.0     25248\n",
       "2.0      23911\n",
       "32.0     18473\n",
       "64.0     15459\n",
       "1.0       7704\n",
       "36.0      5741\n",
       "40.0      3525\n",
       "128.0     3020\n",
       "17.0       785\n",
       "Name: vCPU, dtype: int64"
      ]
     },
     "execution_count": 16,
     "metadata": {},
     "output_type": "execute_result"
    }
   ],
   "source": [
    "newO"
   ]
  },
  {
   "cell_type": "code",
   "execution_count": 23,
   "metadata": {
    "collapsed": false
   },
   "outputs": [
    {
     "data": {
      "text/plain": [
       "<bound method Series.sort_index of 8.0      31302\n",
       "4.0      30450\n",
       "16.0     25248\n",
       "2.0      23911\n",
       "32.0     18473\n",
       "64.0     15459\n",
       "1.0       7704\n",
       "36.0      5741\n",
       "40.0      3525\n",
       "128.0     3020\n",
       "17.0       785\n",
       "Name: vCPU, dtype: int64>"
      ]
     },
     "execution_count": 23,
     "metadata": {},
     "output_type": "execute_result"
    }
   ],
   "source": [
    "newO.sort_index"
   ]
  },
  {
   "cell_type": "code",
   "execution_count": 25,
   "metadata": {
    "collapsed": false
   },
   "outputs": [
    {
     "data": {
      "text/plain": [
       "8.0      31302\n",
       "4.0      30450\n",
       "16.0     25248\n",
       "2.0      23911\n",
       "32.0     18473\n",
       "64.0     15459\n",
       "1.0       7704\n",
       "36.0      5741\n",
       "40.0      3525\n",
       "128.0     3020\n",
       "17.0       785\n",
       "Name: vCPU, dtype: int64"
      ]
     },
     "execution_count": 25,
     "metadata": {},
     "output_type": "execute_result"
    }
   ],
   "source": [
    "newO"
   ]
  },
  {
   "cell_type": "code",
   "execution_count": 155,
   "metadata": {
    "collapsed": true
   },
   "outputs": [],
   "source": [
    "newO.index.name ='NumCPU'"
   ]
  },
  {
   "cell_type": "code",
   "execution_count": null,
   "metadata": {
    "collapsed": true
   },
   "outputs": [],
   "source": []
  },
  {
   "cell_type": "code",
   "execution_count": 156,
   "metadata": {
    "collapsed": false
   },
   "outputs": [],
   "source": [
    "cher = newO.reset_index()"
   ]
  },
  {
   "cell_type": "code",
   "execution_count": 157,
   "metadata": {
    "collapsed": false
   },
   "outputs": [
    {
     "data": {
      "text/html": [
       "<div>\n",
       "<table border=\"1\" class=\"dataframe\">\n",
       "  <thead>\n",
       "    <tr style=\"text-align: right;\">\n",
       "      <th></th>\n",
       "      <th>NumCPU</th>\n",
       "      <th>vCPU</th>\n",
       "    </tr>\n",
       "  </thead>\n",
       "  <tbody>\n",
       "    <tr>\n",
       "      <th>0</th>\n",
       "      <td>17.0</td>\n",
       "      <td>785</td>\n",
       "    </tr>\n",
       "    <tr>\n",
       "      <th>1</th>\n",
       "      <td>128.0</td>\n",
       "      <td>3020</td>\n",
       "    </tr>\n",
       "    <tr>\n",
       "      <th>2</th>\n",
       "      <td>40.0</td>\n",
       "      <td>3525</td>\n",
       "    </tr>\n",
       "    <tr>\n",
       "      <th>3</th>\n",
       "      <td>36.0</td>\n",
       "      <td>5741</td>\n",
       "    </tr>\n",
       "    <tr>\n",
       "      <th>4</th>\n",
       "      <td>1.0</td>\n",
       "      <td>7704</td>\n",
       "    </tr>\n",
       "    <tr>\n",
       "      <th>5</th>\n",
       "      <td>64.0</td>\n",
       "      <td>15459</td>\n",
       "    </tr>\n",
       "    <tr>\n",
       "      <th>6</th>\n",
       "      <td>32.0</td>\n",
       "      <td>18473</td>\n",
       "    </tr>\n",
       "    <tr>\n",
       "      <th>7</th>\n",
       "      <td>2.0</td>\n",
       "      <td>23911</td>\n",
       "    </tr>\n",
       "    <tr>\n",
       "      <th>8</th>\n",
       "      <td>16.0</td>\n",
       "      <td>25248</td>\n",
       "    </tr>\n",
       "    <tr>\n",
       "      <th>9</th>\n",
       "      <td>4.0</td>\n",
       "      <td>30450</td>\n",
       "    </tr>\n",
       "    <tr>\n",
       "      <th>10</th>\n",
       "      <td>8.0</td>\n",
       "      <td>31302</td>\n",
       "    </tr>\n",
       "  </tbody>\n",
       "</table>\n",
       "</div>"
      ],
      "text/plain": [
       "    NumCPU   vCPU\n",
       "0     17.0    785\n",
       "1    128.0   3020\n",
       "2     40.0   3525\n",
       "3     36.0   5741\n",
       "4      1.0   7704\n",
       "5     64.0  15459\n",
       "6     32.0  18473\n",
       "7      2.0  23911\n",
       "8     16.0  25248\n",
       "9      4.0  30450\n",
       "10     8.0  31302"
      ]
     },
     "execution_count": 157,
     "metadata": {},
     "output_type": "execute_result"
    }
   ],
   "source": [
    "cher"
   ]
  },
  {
   "cell_type": "code",
   "execution_count": 158,
   "metadata": {
    "collapsed": false
   },
   "outputs": [],
   "source": [
    "cher.set_index('vCPU',inplace=True)"
   ]
  },
  {
   "cell_type": "code",
   "execution_count": 159,
   "metadata": {
    "collapsed": false
   },
   "outputs": [
    {
     "data": {
      "text/html": [
       "<div>\n",
       "<table border=\"1\" class=\"dataframe\">\n",
       "  <thead>\n",
       "    <tr style=\"text-align: right;\">\n",
       "      <th></th>\n",
       "      <th>NumCPU</th>\n",
       "    </tr>\n",
       "    <tr>\n",
       "      <th>vCPU</th>\n",
       "      <th></th>\n",
       "    </tr>\n",
       "  </thead>\n",
       "  <tbody>\n",
       "    <tr>\n",
       "      <th>785</th>\n",
       "      <td>17.0</td>\n",
       "    </tr>\n",
       "    <tr>\n",
       "      <th>3020</th>\n",
       "      <td>128.0</td>\n",
       "    </tr>\n",
       "    <tr>\n",
       "      <th>3525</th>\n",
       "      <td>40.0</td>\n",
       "    </tr>\n",
       "    <tr>\n",
       "      <th>5741</th>\n",
       "      <td>36.0</td>\n",
       "    </tr>\n",
       "    <tr>\n",
       "      <th>7704</th>\n",
       "      <td>1.0</td>\n",
       "    </tr>\n",
       "    <tr>\n",
       "      <th>15459</th>\n",
       "      <td>64.0</td>\n",
       "    </tr>\n",
       "    <tr>\n",
       "      <th>18473</th>\n",
       "      <td>32.0</td>\n",
       "    </tr>\n",
       "    <tr>\n",
       "      <th>23911</th>\n",
       "      <td>2.0</td>\n",
       "    </tr>\n",
       "    <tr>\n",
       "      <th>25248</th>\n",
       "      <td>16.0</td>\n",
       "    </tr>\n",
       "    <tr>\n",
       "      <th>30450</th>\n",
       "      <td>4.0</td>\n",
       "    </tr>\n",
       "    <tr>\n",
       "      <th>31302</th>\n",
       "      <td>8.0</td>\n",
       "    </tr>\n",
       "  </tbody>\n",
       "</table>\n",
       "</div>"
      ],
      "text/plain": [
       "       NumCPU\n",
       "vCPU         \n",
       "785      17.0\n",
       "3020    128.0\n",
       "3525     40.0\n",
       "5741     36.0\n",
       "7704      1.0\n",
       "15459    64.0\n",
       "18473    32.0\n",
       "23911     2.0\n",
       "25248    16.0\n",
       "30450     4.0\n",
       "31302     8.0"
      ]
     },
     "execution_count": 159,
     "metadata": {},
     "output_type": "execute_result"
    }
   ],
   "source": [
    "cher"
   ]
  },
  {
   "cell_type": "code",
   "execution_count": 160,
   "metadata": {
    "collapsed": false
   },
   "outputs": [
    {
     "data": {
      "text/plain": [
       "<matplotlib.axes._subplots.AxesSubplot at 0x7f6817643588>"
      ]
     },
     "execution_count": 160,
     "metadata": {},
     "output_type": "execute_result"
    },
    {
     "data": {
      "image/png": "[encoded data removed]",
      "text/plain": [
       "<matplotlib.figure.Figure at 0x7f6817787d30>"
      ]
     },
     "metadata": {},
     "output_type": "display_data"
    }
   ],
   "source": [
    "cher.plot(kind='bar')"
   ]
  },
  {
   "cell_type": "code",
   "execution_count": null,
   "metadata": {
    "collapsed": true
   },
   "outputs": [],
   "source": []
  },
  {
   "cell_type": "code",
   "execution_count": 33,
   "metadata": {
    "collapsed": false
   },
   "outputs": [
    {
     "data": {
      "text/plain": [
       "NumCPU\n",
       "17.0       785\n",
       "128.0     3020\n",
       "40.0      3525\n",
       "36.0      5741\n",
       "1.0       7704\n",
       "64.0     15459\n",
       "32.0     18473\n",
       "2.0      23911\n",
       "16.0     25248\n",
       "4.0      30450\n",
       "8.0      31302\n",
       "Name: vCPU, dtype: int64"
      ]
     },
     "execution_count": 33,
     "metadata": {},
     "output_type": "execute_result"
    }
   ],
   "source": [
    "newO.sort_values()"
   ]
  },
  {
   "cell_type": "raw",
   "metadata": {},
   "source": [
    "cher"
   ]
  },
  {
   "cell_type": "code",
   "execution_count": null,
   "metadata": {
    "collapsed": true
   },
   "outputs": [],
   "source": []
  },
  {
   "cell_type": "code",
   "execution_count": 29,
   "metadata": {
    "collapsed": false
   },
   "outputs": [],
   "source": [
    "dict=newO.to_dict()"
   ]
  },
  {
   "cell_type": "code",
   "execution_count": 36,
   "metadata": {
    "collapsed": false
   },
   "outputs": [
    {
     "name": "stdout",
     "output_type": "stream",
     "text": [
      "1.0 7704\n",
      "2.0 23911\n",
      "4.0 30450\n",
      "8.0 31302\n",
      "16.0 25248\n",
      "17.0 785\n",
      "32.0 18473\n",
      "36.0 5741\n",
      "40.0 3525\n",
      "64.0 15459\n",
      "128.0 3020\n"
     ]
    }
   ],
   "source": [
    "dict2={}\n",
    "for key, value in sorted(dict.items()):\n",
    "    print (key, value)\n",
    "    dict2[key]=value"
   ]
  },
  {
   "cell_type": "code",
   "execution_count": 37,
   "metadata": {
    "collapsed": false
   },
   "outputs": [
    {
     "data": {
      "text/plain": [
       "{1.0: 7704,\n",
       " 2.0: 23911,\n",
       " 4.0: 30450,\n",
       " 8.0: 31302,\n",
       " 16.0: 25248,\n",
       " 17.0: 785,\n",
       " 32.0: 18473,\n",
       " 36.0: 5741,\n",
       " 40.0: 3525,\n",
       " 64.0: 15459,\n",
       " 128.0: 3020}"
      ]
     },
     "execution_count": 37,
     "metadata": {},
     "output_type": "execute_result"
    }
   ],
   "source": [
    "dict2"
   ]
  },
  {
   "cell_type": "code",
   "execution_count": null,
   "metadata": {
    "collapsed": true
   },
   "outputs": [],
   "source": []
  },
  {
   "cell_type": "code",
   "execution_count": 56,
   "metadata": {
    "collapsed": false
   },
   "outputs": [],
   "source": [
    "labels = ['n','y']\n",
    "df2=pandas.DataFrame.from_dict(dict2,orient='index', dtype=None)"
   ]
  },
  {
   "cell_type": "code",
   "execution_count": 49,
   "metadata": {
    "collapsed": false
   },
   "outputs": [
    {
     "data": {
      "text/html": [
       "<div>\n",
       "<table border=\"1\" class=\"dataframe\">\n",
       "  <thead>\n",
       "    <tr style=\"text-align: right;\">\n",
       "      <th></th>\n",
       "      <th>0</th>\n",
       "    </tr>\n",
       "  </thead>\n",
       "  <tbody>\n",
       "    <tr>\n",
       "      <th>16.0</th>\n",
       "      <td>25248</td>\n",
       "    </tr>\n",
       "    <tr>\n",
       "      <th>1.0</th>\n",
       "      <td>7704</td>\n",
       "    </tr>\n",
       "    <tr>\n",
       "      <th>2.0</th>\n",
       "      <td>23911</td>\n",
       "    </tr>\n",
       "    <tr>\n",
       "      <th>128.0</th>\n",
       "      <td>3020</td>\n",
       "    </tr>\n",
       "    <tr>\n",
       "      <th>4.0</th>\n",
       "      <td>30450</td>\n",
       "    </tr>\n",
       "    <tr>\n",
       "      <th>32.0</th>\n",
       "      <td>18473</td>\n",
       "    </tr>\n",
       "    <tr>\n",
       "      <th>17.0</th>\n",
       "      <td>785</td>\n",
       "    </tr>\n",
       "    <tr>\n",
       "      <th>8.0</th>\n",
       "      <td>31302</td>\n",
       "    </tr>\n",
       "    <tr>\n",
       "      <th>36.0</th>\n",
       "      <td>5741</td>\n",
       "    </tr>\n",
       "    <tr>\n",
       "      <th>40.0</th>\n",
       "      <td>3525</td>\n",
       "    </tr>\n",
       "    <tr>\n",
       "      <th>64.0</th>\n",
       "      <td>15459</td>\n",
       "    </tr>\n",
       "  </tbody>\n",
       "</table>\n",
       "</div>"
      ],
      "text/plain": [
       "           0\n",
       "16.0   25248\n",
       "1.0     7704\n",
       "2.0    23911\n",
       "128.0   3020\n",
       "4.0    30450\n",
       "32.0   18473\n",
       "17.0     785\n",
       "8.0    31302\n",
       "36.0    5741\n",
       "40.0    3525\n",
       "64.0   15459"
      ]
     },
     "execution_count": 49,
     "metadata": {},
     "output_type": "execute_result"
    }
   ],
   "source": [
    "df2"
   ]
  },
  {
   "cell_type": "code",
   "execution_count": 57,
   "metadata": {
    "collapsed": false
   },
   "outputs": [
    {
     "data": {
      "text/html": [
       "<div>\n",
       "<table border=\"1\" class=\"dataframe\">\n",
       "  <thead>\n",
       "    <tr style=\"text-align: right;\">\n",
       "      <th></th>\n",
       "      <th>index</th>\n",
       "      <th>0</th>\n",
       "    </tr>\n",
       "  </thead>\n",
       "  <tbody>\n",
       "    <tr>\n",
       "      <th>0</th>\n",
       "      <td>16.0</td>\n",
       "      <td>25248</td>\n",
       "    </tr>\n",
       "    <tr>\n",
       "      <th>1</th>\n",
       "      <td>1.0</td>\n",
       "      <td>7704</td>\n",
       "    </tr>\n",
       "    <tr>\n",
       "      <th>2</th>\n",
       "      <td>2.0</td>\n",
       "      <td>23911</td>\n",
       "    </tr>\n",
       "    <tr>\n",
       "      <th>3</th>\n",
       "      <td>128.0</td>\n",
       "      <td>3020</td>\n",
       "    </tr>\n",
       "    <tr>\n",
       "      <th>4</th>\n",
       "      <td>4.0</td>\n",
       "      <td>30450</td>\n",
       "    </tr>\n",
       "    <tr>\n",
       "      <th>5</th>\n",
       "      <td>32.0</td>\n",
       "      <td>18473</td>\n",
       "    </tr>\n",
       "    <tr>\n",
       "      <th>6</th>\n",
       "      <td>17.0</td>\n",
       "      <td>785</td>\n",
       "    </tr>\n",
       "    <tr>\n",
       "      <th>7</th>\n",
       "      <td>8.0</td>\n",
       "      <td>31302</td>\n",
       "    </tr>\n",
       "    <tr>\n",
       "      <th>8</th>\n",
       "      <td>36.0</td>\n",
       "      <td>5741</td>\n",
       "    </tr>\n",
       "    <tr>\n",
       "      <th>9</th>\n",
       "      <td>40.0</td>\n",
       "      <td>3525</td>\n",
       "    </tr>\n",
       "    <tr>\n",
       "      <th>10</th>\n",
       "      <td>64.0</td>\n",
       "      <td>15459</td>\n",
       "    </tr>\n",
       "  </tbody>\n",
       "</table>\n",
       "</div>"
      ],
      "text/plain": [
       "    index      0\n",
       "0    16.0  25248\n",
       "1     1.0   7704\n",
       "2     2.0  23911\n",
       "3   128.0   3020\n",
       "4     4.0  30450\n",
       "5    32.0  18473\n",
       "6    17.0    785\n",
       "7     8.0  31302\n",
       "8    36.0   5741\n",
       "9    40.0   3525\n",
       "10   64.0  15459"
      ]
     },
     "execution_count": 57,
     "metadata": {},
     "output_type": "execute_result"
    }
   ],
   "source": [
    "df2.reset_index()"
   ]
  },
  {
   "cell_type": "code",
   "execution_count": 60,
   "metadata": {
    "collapsed": false
   },
   "outputs": [],
   "source": [
    "nf2 = df2.sort_index()"
   ]
  },
  {
   "cell_type": "code",
   "execution_count": 61,
   "metadata": {
    "collapsed": false
   },
   "outputs": [
    {
     "data": {
      "text/html": [
       "<div>\n",
       "<table border=\"1\" class=\"dataframe\">\n",
       "  <thead>\n",
       "    <tr style=\"text-align: right;\">\n",
       "      <th></th>\n",
       "      <th>0</th>\n",
       "    </tr>\n",
       "  </thead>\n",
       "  <tbody>\n",
       "    <tr>\n",
       "      <th>1.0</th>\n",
       "      <td>7704</td>\n",
       "    </tr>\n",
       "    <tr>\n",
       "      <th>2.0</th>\n",
       "      <td>23911</td>\n",
       "    </tr>\n",
       "    <tr>\n",
       "      <th>4.0</th>\n",
       "      <td>30450</td>\n",
       "    </tr>\n",
       "    <tr>\n",
       "      <th>8.0</th>\n",
       "      <td>31302</td>\n",
       "    </tr>\n",
       "    <tr>\n",
       "      <th>16.0</th>\n",
       "      <td>25248</td>\n",
       "    </tr>\n",
       "    <tr>\n",
       "      <th>17.0</th>\n",
       "      <td>785</td>\n",
       "    </tr>\n",
       "    <tr>\n",
       "      <th>32.0</th>\n",
       "      <td>18473</td>\n",
       "    </tr>\n",
       "    <tr>\n",
       "      <th>36.0</th>\n",
       "      <td>5741</td>\n",
       "    </tr>\n",
       "    <tr>\n",
       "      <th>40.0</th>\n",
       "      <td>3525</td>\n",
       "    </tr>\n",
       "    <tr>\n",
       "      <th>64.0</th>\n",
       "      <td>15459</td>\n",
       "    </tr>\n",
       "    <tr>\n",
       "      <th>128.0</th>\n",
       "      <td>3020</td>\n",
       "    </tr>\n",
       "  </tbody>\n",
       "</table>\n",
       "</div>"
      ],
      "text/plain": [
       "           0\n",
       "1.0     7704\n",
       "2.0    23911\n",
       "4.0    30450\n",
       "8.0    31302\n",
       "16.0   25248\n",
       "17.0     785\n",
       "32.0   18473\n",
       "36.0    5741\n",
       "40.0    3525\n",
       "64.0   15459\n",
       "128.0   3020"
      ]
     },
     "execution_count": 61,
     "metadata": {},
     "output_type": "execute_result"
    }
   ],
   "source": [
    "nf2"
   ]
  },
  {
   "cell_type": "code",
   "execution_count": 62,
   "metadata": {
    "collapsed": false
   },
   "outputs": [
    {
     "data": {
      "text/plain": [
       "<matplotlib.axes._subplots.AxesSubplot at 0x7f6817b3d1d0>"
      ]
     },
     "execution_count": 62,
     "metadata": {},
     "output_type": "execute_result"
    },
    {
     "data": {
      "image/png": "[encoded data removed]",
      "text/plain": [
       "<matplotlib.figure.Figure at 0x7f6817d06198>"
      ]
     },
     "metadata": {},
     "output_type": "display_data"
    }
   ],
   "source": [
    "nf2.plot(kind='bar')"
   ]
  },
  {
   "cell_type": "code",
   "execution_count": 71,
   "metadata": {
    "collapsed": false
   },
   "outputs": [
    {
     "data": {
      "text/plain": [
       "<matplotlib.axes._subplots.AxesSubplot at 0x7f6817b195c0>"
      ]
     },
     "execution_count": 71,
     "metadata": {},
     "output_type": "execute_result"
    },
    {
     "data": {
      "image/png": "[encoded data removed]",
      "text/plain": [
       "<matplotlib.figure.Figure at 0x7f6817841f28>"
      ]
     },
     "metadata": {},
     "output_type": "display_data"
    }
   ],
   "source": [
    "nf2.plot(y=0, kind='pie', autopct='%1.1f%%', legend= False)"
   ]
  }
 ],
 "metadata": {
  "kernelspec": {
   "display_name": "Python 3",
   "language": "python",
   "name": "python3"
  },
  "language_info": {
   "codemirror_mode": {
    "name": "ipython",
    "version": 3
   },
   "file_extension": ".py",
   "mimetype": "text/x-python",
   "name": "python",
   "nbconvert_exporter": "python",
   "pygments_lexer": "ipython3",
   "version": "3.5.4"
  }
 },
 "nbformat": 4,
 "nbformat_minor": 0
}
