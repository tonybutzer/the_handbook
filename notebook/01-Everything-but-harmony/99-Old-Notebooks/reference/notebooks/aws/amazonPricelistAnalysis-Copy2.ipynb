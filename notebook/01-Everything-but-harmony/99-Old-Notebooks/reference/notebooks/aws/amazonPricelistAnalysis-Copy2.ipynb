{
 "cells": [
  {
   "cell_type": "code",
   "execution_count": 1,
   "metadata": {
    "collapsed": true
   },
   "outputs": [],
   "source": [
    "import pandas"
   ]
  },
  {
   "cell_type": "code",
   "execution_count": 2,
   "metadata": {
    "collapsed": false,
    "scrolled": true
   },
   "outputs": [
    {
     "name": "stderr",
     "output_type": "stream",
     "text": [
      "/home/tony/anaconda3/lib/python3.5/site-packages/IPython/core/interactiveshell.py:2723: DtypeWarning: Columns (28,29,30,31,32,33,34,36,48) have mixed types. Specify dtype option on import or set low_memory=False.\n",
      "  interactivity=interactivity, compiler=compiler, result=result)\n"
     ]
    }
   ],
   "source": [
    "df = pandas.read_csv('awsLink/workCopy.csv', sep=',')"
   ]
  },
  {
   "cell_type": "code",
   "execution_count": 3,
   "metadata": {
    "collapsed": false
   },
   "outputs": [
    {
     "data": {
      "text/plain": [
       "(166505, 70)"
      ]
     },
     "execution_count": 3,
     "metadata": {},
     "output_type": "execute_result"
    }
   ],
   "source": [
    "df.shape"
   ]
  },
  {
   "cell_type": "code",
   "execution_count": 4,
   "metadata": {
    "collapsed": false
   },
   "outputs": [
    {
     "data": {
      "text/plain": [
       "Index(['SKU', 'OfferTermCode', 'RateCode', 'TermType', 'PriceDescription',\n",
       "       'EffectiveDate', 'StartingRange', 'EndingRange', 'Unit', 'PricePerUnit',\n",
       "       'Currency', 'LeaseContractLength', 'PurchaseOption', 'OfferingClass',\n",
       "       'Product Family', 'serviceCode', 'Location', 'Location Type',\n",
       "       'Instance Type', 'Current Generation', 'Instance Family', 'vCPU',\n",
       "       'Physical Processor', 'Clock Speed', 'Memory', 'Storage',\n",
       "       'Network Performance', 'Processor Architecture', 'Storage Media',\n",
       "       'Volume Type', 'Max Volume Size', 'Max IOPS/volume',\n",
       "       'Max IOPS Burst Performance', 'Max throughput/volume', 'Provisioned',\n",
       "       'Tenancy', 'EBS Optimized', 'Operating System', 'License Model',\n",
       "       'Group', 'Group Description', 'Transfer Type', 'From Location',\n",
       "       'From Location Type', 'To Location', 'To Location Type', 'usageType',\n",
       "       'operation', 'Comments', 'Dedicated EBS Throughput', 'ECU',\n",
       "       'Enhanced Networking Supported', 'GPU', 'Instance Capacity - 10xlarge',\n",
       "       'Instance Capacity - 16xlarge', 'Instance Capacity - 2xlarge',\n",
       "       'Instance Capacity - 32xlarge', 'Instance Capacity - 4xlarge',\n",
       "       'Instance Capacity - 8xlarge', 'Instance Capacity - large',\n",
       "       'Instance Capacity - medium', 'Instance Capacity - xlarge',\n",
       "       'Intel AVX Available', 'Intel AVX2 Available', 'Intel Turbo Available',\n",
       "       'Normalization Size Factor', 'Physical Cores', 'Pre Installed S/W',\n",
       "       'Processor Features', 'Sockets'],\n",
       "      dtype='object')"
      ]
     },
     "execution_count": 4,
     "metadata": {},
     "output_type": "execute_result"
    }
   ],
   "source": [
    "df.columns"
   ]
  },
  {
   "cell_type": "code",
   "execution_count": 5,
   "metadata": {
    "collapsed": false
   },
   "outputs": [],
   "source": [
    "subset = df[['Location', 'Instance Type', 'vCPU', 'Operating System', 'Instance Family', 'Tenancy', 'Memory', 'LeaseContractLength', 'Unit', 'PricePerUnit', 'TermType', 'Currency', 'PurchaseOption']] # subset multiple columns"
   ]
  },
  {
   "cell_type": "code",
   "execution_count": 6,
   "metadata": {
    "collapsed": false
   },
   "outputs": [
    {
     "data": {
      "text/html": [
       "<div>\n",
       "<table border=\"1\" class=\"dataframe\">\n",
       "  <thead>\n",
       "    <tr style=\"text-align: right;\">\n",
       "      <th></th>\n",
       "      <th>Location</th>\n",
       "      <th>Instance Type</th>\n",
       "      <th>vCPU</th>\n",
       "      <th>Operating System</th>\n",
       "      <th>Instance Family</th>\n",
       "      <th>Tenancy</th>\n",
       "      <th>Memory</th>\n",
       "      <th>LeaseContractLength</th>\n",
       "      <th>Unit</th>\n",
       "      <th>PricePerUnit</th>\n",
       "      <th>TermType</th>\n",
       "      <th>Currency</th>\n",
       "      <th>PurchaseOption</th>\n",
       "    </tr>\n",
       "  </thead>\n",
       "  <tbody>\n",
       "    <tr>\n",
       "      <th>0</th>\n",
       "      <td>US East (Ohio)</td>\n",
       "      <td>m4.xlarge</td>\n",
       "      <td>4.0</td>\n",
       "      <td>RHEL</td>\n",
       "      <td>General purpose</td>\n",
       "      <td>Dedicated</td>\n",
       "      <td>16 GiB</td>\n",
       "      <td>1yr</td>\n",
       "      <td>Hrs</td>\n",
       "      <td>0.2230</td>\n",
       "      <td>Reserved</td>\n",
       "      <td>USD</td>\n",
       "      <td>No Upfront</td>\n",
       "    </tr>\n",
       "    <tr>\n",
       "      <th>1</th>\n",
       "      <td>EU (Frankfurt)</td>\n",
       "      <td>r4.16xlarge</td>\n",
       "      <td>64.0</td>\n",
       "      <td>Windows</td>\n",
       "      <td>Memory optimized</td>\n",
       "      <td>Shared</td>\n",
       "      <td>488 GiB</td>\n",
       "      <td>3yr</td>\n",
       "      <td>Hrs</td>\n",
       "      <td>6.6146</td>\n",
       "      <td>Reserved</td>\n",
       "      <td>USD</td>\n",
       "      <td>No Upfront</td>\n",
       "    </tr>\n",
       "    <tr>\n",
       "      <th>2</th>\n",
       "      <td>Asia Pacific (Seoul)</td>\n",
       "      <td>i2.4xlarge</td>\n",
       "      <td>16.0</td>\n",
       "      <td>Windows</td>\n",
       "      <td>Storage optimized</td>\n",
       "      <td>Dedicated</td>\n",
       "      <td>122 GiB</td>\n",
       "      <td>NaN</td>\n",
       "      <td>Hrs</td>\n",
       "      <td>5.1382</td>\n",
       "      <td>OnDemand</td>\n",
       "      <td>USD</td>\n",
       "      <td>NaN</td>\n",
       "    </tr>\n",
       "    <tr>\n",
       "      <th>3</th>\n",
       "      <td>Asia Pacific (Singapore)</td>\n",
       "      <td>m3.2xlarge</td>\n",
       "      <td>8.0</td>\n",
       "      <td>Windows</td>\n",
       "      <td>General purpose</td>\n",
       "      <td>Dedicated</td>\n",
       "      <td>30 GiB</td>\n",
       "      <td>1yr</td>\n",
       "      <td>Hrs</td>\n",
       "      <td>1.0070</td>\n",
       "      <td>Reserved</td>\n",
       "      <td>USD</td>\n",
       "      <td>Partial Upfront</td>\n",
       "    </tr>\n",
       "    <tr>\n",
       "      <th>4</th>\n",
       "      <td>Asia Pacific (Sydney)</td>\n",
       "      <td>m1.medium</td>\n",
       "      <td>1.0</td>\n",
       "      <td>RHEL</td>\n",
       "      <td>General purpose</td>\n",
       "      <td>Shared</td>\n",
       "      <td>3.75 GiB</td>\n",
       "      <td>1yr</td>\n",
       "      <td>Quantity</td>\n",
       "      <td>1080.0000</td>\n",
       "      <td>Reserved</td>\n",
       "      <td>USD</td>\n",
       "      <td>All Upfront</td>\n",
       "    </tr>\n",
       "  </tbody>\n",
       "</table>\n",
       "</div>"
      ],
      "text/plain": [
       "                   Location Instance Type  vCPU Operating System  \\\n",
       "0            US East (Ohio)     m4.xlarge   4.0             RHEL   \n",
       "1            EU (Frankfurt)   r4.16xlarge  64.0          Windows   \n",
       "2      Asia Pacific (Seoul)    i2.4xlarge  16.0          Windows   \n",
       "3  Asia Pacific (Singapore)    m3.2xlarge   8.0          Windows   \n",
       "4     Asia Pacific (Sydney)     m1.medium   1.0             RHEL   \n",
       "\n",
       "     Instance Family    Tenancy    Memory LeaseContractLength      Unit  \\\n",
       "0    General purpose  Dedicated    16 GiB                 1yr       Hrs   \n",
       "1   Memory optimized     Shared   488 GiB                 3yr       Hrs   \n",
       "2  Storage optimized  Dedicated   122 GiB                 NaN       Hrs   \n",
       "3    General purpose  Dedicated    30 GiB                 1yr       Hrs   \n",
       "4    General purpose     Shared  3.75 GiB                 1yr  Quantity   \n",
       "\n",
       "   PricePerUnit  TermType Currency   PurchaseOption  \n",
       "0        0.2230  Reserved      USD       No Upfront  \n",
       "1        6.6146  Reserved      USD       No Upfront  \n",
       "2        5.1382  OnDemand      USD              NaN  \n",
       "3        1.0070  Reserved      USD  Partial Upfront  \n",
       "4     1080.0000  Reserved      USD      All Upfront  "
      ]
     },
     "execution_count": 6,
     "metadata": {},
     "output_type": "execute_result"
    }
   ],
   "source": [
    "subset.head()"
   ]
  },
  {
   "cell_type": "code",
   "execution_count": 7,
   "metadata": {
    "collapsed": false
   },
   "outputs": [
    {
     "data": {
      "text/plain": [
       "(166505, 13)"
      ]
     },
     "execution_count": 7,
     "metadata": {},
     "output_type": "execute_result"
    }
   ],
   "source": [
    "subset.shape"
   ]
  },
  {
   "cell_type": "code",
   "execution_count": null,
   "metadata": {
    "collapsed": true
   },
   "outputs": [],
   "source": []
  },
  {
   "cell_type": "code",
   "execution_count": 8,
   "metadata": {
    "collapsed": false
   },
   "outputs": [
    {
     "data": {
      "text/plain": [
       "Shared       84502\n",
       "Dedicated    75353\n",
       "Host          5364\n",
       "Name: Tenancy, dtype: int64"
      ]
     },
     "execution_count": 8,
     "metadata": {},
     "output_type": "execute_result"
    }
   ],
   "source": [
    "subset['Tenancy'].value_counts()"
   ]
  },
  {
   "cell_type": "code",
   "execution_count": 9,
   "metadata": {
    "collapsed": true
   },
   "outputs": [],
   "source": [
    "%matplotlib inline"
   ]
  },
  {
   "cell_type": "code",
   "execution_count": 10,
   "metadata": {
    "collapsed": false
   },
   "outputs": [
    {
     "data": {
      "text/plain": [
       "<matplotlib.axes._subplots.AxesSubplot at 0x7f15f313bbe0>"
      ]
     },
     "execution_count": 10,
     "metadata": {},
     "output_type": "execute_result"
    },
    {
     "data": {
      "image/png": "[encoded data removed]",
      "text/plain": [
       "<matplotlib.figure.Figure at 0x7f15f313b208>"
      ]
     },
     "metadata": {},
     "output_type": "display_data"
    }
   ],
   "source": [
    "subset['Tenancy'].value_counts().plot(kind='bar')"
   ]
  },
  {
   "cell_type": "code",
   "execution_count": 11,
   "metadata": {
    "collapsed": true
   },
   "outputs": [],
   "source": [
    "t2_nano=subset[subset['Instance Type'] == \"t2.nano\"]"
   ]
  },
  {
   "cell_type": "code",
   "execution_count": 12,
   "metadata": {
    "collapsed": false
   },
   "outputs": [
    {
     "data": {
      "text/html": [
       "<div>\n",
       "<table border=\"1\" class=\"dataframe\">\n",
       "  <thead>\n",
       "    <tr style=\"text-align: right;\">\n",
       "      <th></th>\n",
       "      <th>Location</th>\n",
       "      <th>Instance Type</th>\n",
       "      <th>vCPU</th>\n",
       "      <th>Operating System</th>\n",
       "      <th>Instance Family</th>\n",
       "      <th>Tenancy</th>\n",
       "      <th>Memory</th>\n",
       "      <th>LeaseContractLength</th>\n",
       "      <th>Unit</th>\n",
       "      <th>PricePerUnit</th>\n",
       "      <th>TermType</th>\n",
       "      <th>Currency</th>\n",
       "      <th>PurchaseOption</th>\n",
       "    </tr>\n",
       "  </thead>\n",
       "  <tbody>\n",
       "    <tr>\n",
       "      <th>126</th>\n",
       "      <td>Asia Pacific (Seoul)</td>\n",
       "      <td>t2.nano</td>\n",
       "      <td>1.0</td>\n",
       "      <td>Windows</td>\n",
       "      <td>General purpose</td>\n",
       "      <td>Shared</td>\n",
       "      <td>0.5 GiB</td>\n",
       "      <td>3yr</td>\n",
       "      <td>Quantity</td>\n",
       "      <td>179.0000</td>\n",
       "      <td>Reserved</td>\n",
       "      <td>USD</td>\n",
       "      <td>All Upfront</td>\n",
       "    </tr>\n",
       "    <tr>\n",
       "      <th>515</th>\n",
       "      <td>Asia Pacific (Mumbai)</td>\n",
       "      <td>t2.nano</td>\n",
       "      <td>1.0</td>\n",
       "      <td>Linux</td>\n",
       "      <td>General purpose</td>\n",
       "      <td>Shared</td>\n",
       "      <td>0.5 GiB</td>\n",
       "      <td>3yr</td>\n",
       "      <td>Hrs</td>\n",
       "      <td>0.0027</td>\n",
       "      <td>Reserved</td>\n",
       "      <td>USD</td>\n",
       "      <td>Partial Upfront</td>\n",
       "    </tr>\n",
       "    <tr>\n",
       "      <th>518</th>\n",
       "      <td>South America (Sao Paulo)</td>\n",
       "      <td>t2.nano</td>\n",
       "      <td>1.0</td>\n",
       "      <td>Linux</td>\n",
       "      <td>General purpose</td>\n",
       "      <td>Shared</td>\n",
       "      <td>0.5 GiB</td>\n",
       "      <td>3yr</td>\n",
       "      <td>Hrs</td>\n",
       "      <td>0.0026</td>\n",
       "      <td>Reserved</td>\n",
       "      <td>USD</td>\n",
       "      <td>Partial Upfront</td>\n",
       "    </tr>\n",
       "    <tr>\n",
       "      <th>685</th>\n",
       "      <td>South America (Sao Paulo)</td>\n",
       "      <td>t2.nano</td>\n",
       "      <td>1.0</td>\n",
       "      <td>Linux</td>\n",
       "      <td>General purpose</td>\n",
       "      <td>Shared</td>\n",
       "      <td>0.5 GiB</td>\n",
       "      <td>1yr</td>\n",
       "      <td>Hrs</td>\n",
       "      <td>0.0062</td>\n",
       "      <td>Reserved</td>\n",
       "      <td>USD</td>\n",
       "      <td>No Upfront</td>\n",
       "    </tr>\n",
       "    <tr>\n",
       "      <th>691</th>\n",
       "      <td>US East (N. Virginia)</td>\n",
       "      <td>t2.nano</td>\n",
       "      <td>1.0</td>\n",
       "      <td>Windows</td>\n",
       "      <td>General purpose</td>\n",
       "      <td>Shared</td>\n",
       "      <td>0.5 GiB</td>\n",
       "      <td>3yr</td>\n",
       "      <td>Quantity</td>\n",
       "      <td>66.0000</td>\n",
       "      <td>Reserved</td>\n",
       "      <td>USD</td>\n",
       "      <td>Partial Upfront</td>\n",
       "    </tr>\n",
       "    <tr>\n",
       "      <th>695</th>\n",
       "      <td>Asia Pacific (Seoul)</td>\n",
       "      <td>t2.nano</td>\n",
       "      <td>1.0</td>\n",
       "      <td>SUSE</td>\n",
       "      <td>General purpose</td>\n",
       "      <td>Shared</td>\n",
       "      <td>0.5 GiB</td>\n",
       "      <td>3yr</td>\n",
       "      <td>Quantity</td>\n",
       "      <td>301.0000</td>\n",
       "      <td>Reserved</td>\n",
       "      <td>USD</td>\n",
       "      <td>All Upfront</td>\n",
       "    </tr>\n",
       "  </tbody>\n",
       "</table>\n",
       "</div>"
      ],
      "text/plain": [
       "                      Location Instance Type  vCPU Operating System  \\\n",
       "126       Asia Pacific (Seoul)       t2.nano   1.0          Windows   \n",
       "515      Asia Pacific (Mumbai)       t2.nano   1.0            Linux   \n",
       "518  South America (Sao Paulo)       t2.nano   1.0            Linux   \n",
       "685  South America (Sao Paulo)       t2.nano   1.0            Linux   \n",
       "691      US East (N. Virginia)       t2.nano   1.0          Windows   \n",
       "695       Asia Pacific (Seoul)       t2.nano   1.0             SUSE   \n",
       "\n",
       "     Instance Family Tenancy   Memory LeaseContractLength      Unit  \\\n",
       "126  General purpose  Shared  0.5 GiB                 3yr  Quantity   \n",
       "515  General purpose  Shared  0.5 GiB                 3yr       Hrs   \n",
       "518  General purpose  Shared  0.5 GiB                 3yr       Hrs   \n",
       "685  General purpose  Shared  0.5 GiB                 1yr       Hrs   \n",
       "691  General purpose  Shared  0.5 GiB                 3yr  Quantity   \n",
       "695  General purpose  Shared  0.5 GiB                 3yr  Quantity   \n",
       "\n",
       "     PricePerUnit  TermType Currency   PurchaseOption  \n",
       "126      179.0000  Reserved      USD      All Upfront  \n",
       "515        0.0027  Reserved      USD  Partial Upfront  \n",
       "518        0.0026  Reserved      USD  Partial Upfront  \n",
       "685        0.0062  Reserved      USD       No Upfront  \n",
       "691       66.0000  Reserved      USD  Partial Upfront  \n",
       "695      301.0000  Reserved      USD      All Upfront  "
      ]
     },
     "execution_count": 12,
     "metadata": {},
     "output_type": "execute_result"
    }
   ],
   "source": [
    "t2_nano[:6]"
   ]
  },
  {
   "cell_type": "code",
   "execution_count": 13,
   "metadata": {
    "collapsed": false
   },
   "outputs": [
    {
     "data": {
      "text/plain": [
       "Index(['Location', 'Instance Type', 'vCPU', 'Operating System',\n",
       "       'Instance Family', 'Tenancy', 'Memory', 'LeaseContractLength', 'Unit',\n",
       "       'PricePerUnit', 'TermType', 'Currency', 'PurchaseOption'],\n",
       "      dtype='object')"
      ]
     },
     "execution_count": 13,
     "metadata": {},
     "output_type": "execute_result"
    }
   ],
   "source": [
    "t2_nano.columns"
   ]
  },
  {
   "cell_type": "code",
   "execution_count": 14,
   "metadata": {
    "collapsed": false
   },
   "outputs": [],
   "source": [
    "t2_nano_jr = t2_nano[['Location', 'Operating System', 'LeaseContractLength', 'Unit', 'PricePerUnit', 'Currency','PurchaseOption']]"
   ]
  },
  {
   "cell_type": "code",
   "execution_count": 15,
   "metadata": {
    "collapsed": false
   },
   "outputs": [],
   "source": [
    "#t2_nano_jr[:7]"
   ]
  },
  {
   "cell_type": "code",
   "execution_count": 16,
   "metadata": {
    "collapsed": false
   },
   "outputs": [],
   "source": [
    "t2_nano_1yr=t2_nano_jr[t2_nano_jr['LeaseContractLength'] == \"1yr\"]"
   ]
  },
  {
   "cell_type": "code",
   "execution_count": 17,
   "metadata": {
    "collapsed": false
   },
   "outputs": [],
   "source": [
    "#t2_nano_1yr[:8]"
   ]
  },
  {
   "cell_type": "code",
   "execution_count": 18,
   "metadata": {
    "collapsed": true
   },
   "outputs": [],
   "source": [
    "t2_nano_1yr_linux=t2_nano_1yr[t2_nano_1yr['Operating System'] == \"Linux\"]"
   ]
  },
  {
   "cell_type": "code",
   "execution_count": 19,
   "metadata": {
    "collapsed": false
   },
   "outputs": [],
   "source": [
    "#t2_nano_1yr_linux[:10]"
   ]
  },
  {
   "cell_type": "code",
   "execution_count": 20,
   "metadata": {
    "collapsed": true
   },
   "outputs": [],
   "source": [
    "t2_nano_tony=t2_nano_1yr_linux[t2_nano_1yr_linux['Unit'] == \"Quantity\"]"
   ]
  },
  {
   "cell_type": "code",
   "execution_count": 21,
   "metadata": {
    "collapsed": false
   },
   "outputs": [],
   "source": [
    "#t2_nano_tony"
   ]
  },
  {
   "cell_type": "code",
   "execution_count": 22,
   "metadata": {
    "collapsed": false
   },
   "outputs": [],
   "source": [
    "t2_s = t2_nano_tony.sort_values('Location')"
   ]
  },
  {
   "cell_type": "code",
   "execution_count": 23,
   "metadata": {
    "collapsed": false
   },
   "outputs": [],
   "source": [
    "#t2_s"
   ]
  },
  {
   "cell_type": "code",
   "execution_count": 24,
   "metadata": {
    "collapsed": true
   },
   "outputs": [],
   "source": [
    "t2_a = t2_s[t2_s['PurchaseOption'] == \"All Upfront\"]"
   ]
  },
  {
   "cell_type": "code",
   "execution_count": 25,
   "metadata": {
    "collapsed": false
   },
   "outputs": [
    {
     "data": {
      "text/html": [
       "<div>\n",
       "<table border=\"1\" class=\"dataframe\">\n",
       "  <thead>\n",
       "    <tr style=\"text-align: right;\">\n",
       "      <th></th>\n",
       "      <th>Location</th>\n",
       "      <th>Operating System</th>\n",
       "      <th>LeaseContractLength</th>\n",
       "      <th>Unit</th>\n",
       "      <th>PricePerUnit</th>\n",
       "      <th>Currency</th>\n",
       "      <th>PurchaseOption</th>\n",
       "    </tr>\n",
       "  </thead>\n",
       "  <tbody>\n",
       "    <tr>\n",
       "      <th>124313</th>\n",
       "      <td>AWS GovCloud (US)</td>\n",
       "      <td>Linux</td>\n",
       "      <td>1yr</td>\n",
       "      <td>Quantity</td>\n",
       "      <td>39.0</td>\n",
       "      <td>USD</td>\n",
       "      <td>All Upfront</td>\n",
       "    </tr>\n",
       "    <tr>\n",
       "      <th>26115</th>\n",
       "      <td>Asia Pacific (Mumbai)</td>\n",
       "      <td>Linux</td>\n",
       "      <td>1yr</td>\n",
       "      <td>Quantity</td>\n",
       "      <td>47.0</td>\n",
       "      <td>USD</td>\n",
       "      <td>All Upfront</td>\n",
       "    </tr>\n",
       "    <tr>\n",
       "      <th>113874</th>\n",
       "      <td>Asia Pacific (Seoul)</td>\n",
       "      <td>Linux</td>\n",
       "      <td>1yr</td>\n",
       "      <td>Quantity</td>\n",
       "      <td>51.0</td>\n",
       "      <td>USD</td>\n",
       "      <td>All Upfront</td>\n",
       "    </tr>\n",
       "    <tr>\n",
       "      <th>148280</th>\n",
       "      <td>Asia Pacific (Singapore)</td>\n",
       "      <td>Linux</td>\n",
       "      <td>1yr</td>\n",
       "      <td>Quantity</td>\n",
       "      <td>48.0</td>\n",
       "      <td>USD</td>\n",
       "      <td>All Upfront</td>\n",
       "    </tr>\n",
       "    <tr>\n",
       "      <th>148954</th>\n",
       "      <td>Asia Pacific (Sydney)</td>\n",
       "      <td>Linux</td>\n",
       "      <td>1yr</td>\n",
       "      <td>Quantity</td>\n",
       "      <td>52.0</td>\n",
       "      <td>USD</td>\n",
       "      <td>All Upfront</td>\n",
       "    </tr>\n",
       "    <tr>\n",
       "      <th>15792</th>\n",
       "      <td>Asia Pacific (Tokyo)</td>\n",
       "      <td>Linux</td>\n",
       "      <td>1yr</td>\n",
       "      <td>Quantity</td>\n",
       "      <td>51.0</td>\n",
       "      <td>USD</td>\n",
       "      <td>All Upfront</td>\n",
       "    </tr>\n",
       "    <tr>\n",
       "      <th>19919</th>\n",
       "      <td>Canada (Central)</td>\n",
       "      <td>Linux</td>\n",
       "      <td>1yr</td>\n",
       "      <td>Quantity</td>\n",
       "      <td>38.0</td>\n",
       "      <td>USD</td>\n",
       "      <td>All Upfront</td>\n",
       "    </tr>\n",
       "    <tr>\n",
       "      <th>148574</th>\n",
       "      <td>EU (Frankfurt)</td>\n",
       "      <td>Linux</td>\n",
       "      <td>1yr</td>\n",
       "      <td>Quantity</td>\n",
       "      <td>40.0</td>\n",
       "      <td>USD</td>\n",
       "      <td>All Upfront</td>\n",
       "    </tr>\n",
       "    <tr>\n",
       "      <th>67152</th>\n",
       "      <td>EU (Ireland)</td>\n",
       "      <td>Linux</td>\n",
       "      <td>1yr</td>\n",
       "      <td>Quantity</td>\n",
       "      <td>37.0</td>\n",
       "      <td>USD</td>\n",
       "      <td>All Upfront</td>\n",
       "    </tr>\n",
       "    <tr>\n",
       "      <th>5726</th>\n",
       "      <td>EU (London)</td>\n",
       "      <td>Linux</td>\n",
       "      <td>1yr</td>\n",
       "      <td>Quantity</td>\n",
       "      <td>39.0</td>\n",
       "      <td>USD</td>\n",
       "      <td>All Upfront</td>\n",
       "    </tr>\n",
       "    <tr>\n",
       "      <th>141994</th>\n",
       "      <td>South America (Sao Paulo)</td>\n",
       "      <td>Linux</td>\n",
       "      <td>1yr</td>\n",
       "      <td>Quantity</td>\n",
       "      <td>51.0</td>\n",
       "      <td>USD</td>\n",
       "      <td>All Upfront</td>\n",
       "    </tr>\n",
       "    <tr>\n",
       "      <th>50615</th>\n",
       "      <td>US East (N. Virginia)</td>\n",
       "      <td>Linux</td>\n",
       "      <td>1yr</td>\n",
       "      <td>Quantity</td>\n",
       "      <td>34.0</td>\n",
       "      <td>USD</td>\n",
       "      <td>All Upfront</td>\n",
       "    </tr>\n",
       "    <tr>\n",
       "      <th>104335</th>\n",
       "      <td>US East (Ohio)</td>\n",
       "      <td>Linux</td>\n",
       "      <td>1yr</td>\n",
       "      <td>Quantity</td>\n",
       "      <td>34.0</td>\n",
       "      <td>USD</td>\n",
       "      <td>All Upfront</td>\n",
       "    </tr>\n",
       "    <tr>\n",
       "      <th>126658</th>\n",
       "      <td>US West (N. California)</td>\n",
       "      <td>Linux</td>\n",
       "      <td>1yr</td>\n",
       "      <td>Quantity</td>\n",
       "      <td>45.0</td>\n",
       "      <td>USD</td>\n",
       "      <td>All Upfront</td>\n",
       "    </tr>\n",
       "    <tr>\n",
       "      <th>41003</th>\n",
       "      <td>US West (Oregon)</td>\n",
       "      <td>Linux</td>\n",
       "      <td>1yr</td>\n",
       "      <td>Quantity</td>\n",
       "      <td>34.0</td>\n",
       "      <td>USD</td>\n",
       "      <td>All Upfront</td>\n",
       "    </tr>\n",
       "  </tbody>\n",
       "</table>\n",
       "</div>"
      ],
      "text/plain": [
       "                         Location Operating System LeaseContractLength  \\\n",
       "124313          AWS GovCloud (US)            Linux                 1yr   \n",
       "26115       Asia Pacific (Mumbai)            Linux                 1yr   \n",
       "113874       Asia Pacific (Seoul)            Linux                 1yr   \n",
       "148280   Asia Pacific (Singapore)            Linux                 1yr   \n",
       "148954      Asia Pacific (Sydney)            Linux                 1yr   \n",
       "15792        Asia Pacific (Tokyo)            Linux                 1yr   \n",
       "19919            Canada (Central)            Linux                 1yr   \n",
       "148574             EU (Frankfurt)            Linux                 1yr   \n",
       "67152                EU (Ireland)            Linux                 1yr   \n",
       "5726                  EU (London)            Linux                 1yr   \n",
       "141994  South America (Sao Paulo)            Linux                 1yr   \n",
       "50615       US East (N. Virginia)            Linux                 1yr   \n",
       "104335             US East (Ohio)            Linux                 1yr   \n",
       "126658    US West (N. California)            Linux                 1yr   \n",
       "41003            US West (Oregon)            Linux                 1yr   \n",
       "\n",
       "            Unit  PricePerUnit Currency PurchaseOption  \n",
       "124313  Quantity          39.0      USD    All Upfront  \n",
       "26115   Quantity          47.0      USD    All Upfront  \n",
       "113874  Quantity          51.0      USD    All Upfront  \n",
       "148280  Quantity          48.0      USD    All Upfront  \n",
       "148954  Quantity          52.0      USD    All Upfront  \n",
       "15792   Quantity          51.0      USD    All Upfront  \n",
       "19919   Quantity          38.0      USD    All Upfront  \n",
       "148574  Quantity          40.0      USD    All Upfront  \n",
       "67152   Quantity          37.0      USD    All Upfront  \n",
       "5726    Quantity          39.0      USD    All Upfront  \n",
       "141994  Quantity          51.0      USD    All Upfront  \n",
       "50615   Quantity          34.0      USD    All Upfront  \n",
       "104335  Quantity          34.0      USD    All Upfront  \n",
       "126658  Quantity          45.0      USD    All Upfront  \n",
       "41003   Quantity          34.0      USD    All Upfront  "
      ]
     },
     "execution_count": 25,
     "metadata": {},
     "output_type": "execute_result"
    }
   ],
   "source": [
    "t2_a"
   ]
  },
  {
   "cell_type": "code",
   "execution_count": 26,
   "metadata": {
    "collapsed": true
   },
   "outputs": [],
   "source": [
    "t2_f = t2_a[['Location', 'PricePerUnit']]"
   ]
  },
  {
   "cell_type": "code",
   "execution_count": 27,
   "metadata": {
    "collapsed": false
   },
   "outputs": [],
   "source": [
    "#t2_f"
   ]
  },
  {
   "cell_type": "code",
   "execution_count": 28,
   "metadata": {
    "collapsed": false
   },
   "outputs": [],
   "source": [
    "t2_cheap = t2_f.sort_values('PricePerUnit')"
   ]
  },
  {
   "cell_type": "code",
   "execution_count": 29,
   "metadata": {
    "collapsed": false
   },
   "outputs": [
    {
     "data": {
      "text/html": [
       "<div>\n",
       "<table border=\"1\" class=\"dataframe\">\n",
       "  <thead>\n",
       "    <tr style=\"text-align: right;\">\n",
       "      <th></th>\n",
       "      <th>Location</th>\n",
       "      <th>PricePerUnit</th>\n",
       "    </tr>\n",
       "  </thead>\n",
       "  <tbody>\n",
       "    <tr>\n",
       "      <th>50615</th>\n",
       "      <td>US East (N. Virginia)</td>\n",
       "      <td>34.0</td>\n",
       "    </tr>\n",
       "    <tr>\n",
       "      <th>104335</th>\n",
       "      <td>US East (Ohio)</td>\n",
       "      <td>34.0</td>\n",
       "    </tr>\n",
       "    <tr>\n",
       "      <th>41003</th>\n",
       "      <td>US West (Oregon)</td>\n",
       "      <td>34.0</td>\n",
       "    </tr>\n",
       "    <tr>\n",
       "      <th>67152</th>\n",
       "      <td>EU (Ireland)</td>\n",
       "      <td>37.0</td>\n",
       "    </tr>\n",
       "    <tr>\n",
       "      <th>19919</th>\n",
       "      <td>Canada (Central)</td>\n",
       "      <td>38.0</td>\n",
       "    </tr>\n",
       "    <tr>\n",
       "      <th>124313</th>\n",
       "      <td>AWS GovCloud (US)</td>\n",
       "      <td>39.0</td>\n",
       "    </tr>\n",
       "    <tr>\n",
       "      <th>5726</th>\n",
       "      <td>EU (London)</td>\n",
       "      <td>39.0</td>\n",
       "    </tr>\n",
       "    <tr>\n",
       "      <th>148574</th>\n",
       "      <td>EU (Frankfurt)</td>\n",
       "      <td>40.0</td>\n",
       "    </tr>\n",
       "    <tr>\n",
       "      <th>126658</th>\n",
       "      <td>US West (N. California)</td>\n",
       "      <td>45.0</td>\n",
       "    </tr>\n",
       "    <tr>\n",
       "      <th>26115</th>\n",
       "      <td>Asia Pacific (Mumbai)</td>\n",
       "      <td>47.0</td>\n",
       "    </tr>\n",
       "    <tr>\n",
       "      <th>148280</th>\n",
       "      <td>Asia Pacific (Singapore)</td>\n",
       "      <td>48.0</td>\n",
       "    </tr>\n",
       "    <tr>\n",
       "      <th>113874</th>\n",
       "      <td>Asia Pacific (Seoul)</td>\n",
       "      <td>51.0</td>\n",
       "    </tr>\n",
       "    <tr>\n",
       "      <th>15792</th>\n",
       "      <td>Asia Pacific (Tokyo)</td>\n",
       "      <td>51.0</td>\n",
       "    </tr>\n",
       "    <tr>\n",
       "      <th>141994</th>\n",
       "      <td>South America (Sao Paulo)</td>\n",
       "      <td>51.0</td>\n",
       "    </tr>\n",
       "    <tr>\n",
       "      <th>148954</th>\n",
       "      <td>Asia Pacific (Sydney)</td>\n",
       "      <td>52.0</td>\n",
       "    </tr>\n",
       "  </tbody>\n",
       "</table>\n",
       "</div>"
      ],
      "text/plain": [
       "                         Location  PricePerUnit\n",
       "50615       US East (N. Virginia)          34.0\n",
       "104335             US East (Ohio)          34.0\n",
       "41003            US West (Oregon)          34.0\n",
       "67152                EU (Ireland)          37.0\n",
       "19919            Canada (Central)          38.0\n",
       "124313          AWS GovCloud (US)          39.0\n",
       "5726                  EU (London)          39.0\n",
       "148574             EU (Frankfurt)          40.0\n",
       "126658    US West (N. California)          45.0\n",
       "26115       Asia Pacific (Mumbai)          47.0\n",
       "148280   Asia Pacific (Singapore)          48.0\n",
       "113874       Asia Pacific (Seoul)          51.0\n",
       "15792        Asia Pacific (Tokyo)          51.0\n",
       "141994  South America (Sao Paulo)          51.0\n",
       "148954      Asia Pacific (Sydney)          52.0"
      ]
     },
     "execution_count": 29,
     "metadata": {},
     "output_type": "execute_result"
    }
   ],
   "source": [
    "t2_cheap"
   ]
  },
  {
   "cell_type": "code",
   "execution_count": 30,
   "metadata": {
    "collapsed": false
   },
   "outputs": [
    {
     "data": {
      "text/plain": [
       "<matplotlib.axes._subplots.AxesSubplot at 0x7f15f30bd0b8>"
      ]
     },
     "execution_count": 30,
     "metadata": {},
     "output_type": "execute_result"
    },
    {
     "data": {
      "image/png": "[encoded data removed]",
      "text/plain": [
       "<matplotlib.figure.Figure at 0x7f15f30c8c88>"
      ]
     },
     "metadata": {},
     "output_type": "display_data"
    }
   ],
   "source": [
    "t2_cheap.plot(kind='bar')"
   ]
  },
  {
   "cell_type": "code",
   "execution_count": 31,
   "metadata": {
    "collapsed": false
   },
   "outputs": [],
   "source": [
    "#t2_cheap.plot(y='PricePerUnit', kind=\"bar\")"
   ]
  },
  {
   "cell_type": "code",
   "execution_count": 32,
   "metadata": {
    "collapsed": false
   },
   "outputs": [],
   "source": [
    "#t2_cheap.plot(x='Location', y='PricePerUnit', kind=\"bar\")"
   ]
  },
  {
   "cell_type": "code",
   "execution_count": 33,
   "metadata": {
    "collapsed": false
   },
   "outputs": [
    {
     "data": {
      "text/plain": [
       "<matplotlib.axes._subplots.AxesSubplot at 0x7f15f1067da0>"
      ]
     },
     "execution_count": 33,
     "metadata": {},
     "output_type": "execute_result"
    },
    {
     "data": {
      "image/png": "[encoded data removed]",
      "text/plain": [
       "<matplotlib.figure.Figure at 0x7f15f1096ac8>"
      ]
     },
     "metadata": {},
     "output_type": "display_data"
    }
   ],
   "source": [
    "t2_cheap.plot(x='Location', y='PricePerUnit', kind=\"bar\", color='orange')"
   ]
  },
  {
   "cell_type": "code",
   "execution_count": 34,
   "metadata": {
    "collapsed": false
   },
   "outputs": [
    {
     "data": {
      "text/plain": [
       "Location\n",
       "AWS GovCloud (US)            12183\n",
       "Asia Pacific (Mumbai)         8895\n",
       "Asia Pacific (Seoul)          9115\n",
       "Asia Pacific (Singapore)     12308\n",
       "Asia Pacific (Sydney)        12733\n",
       "Asia Pacific (Tokyo)         13114\n",
       "Canada (Central)              6836\n",
       "EU (Frankfurt)               10755\n",
       "EU (Ireland)                 13609\n",
       "EU (London)                   6866\n",
       "South America (Sao Paulo)    10246\n",
       "US East (N. Virginia)        13730\n",
       "US East (Ohio)                9496\n",
       "US West (N. California)      12208\n",
       "US West (Oregon)             13525\n",
       "Name: Instance Type, dtype: int64"
      ]
     },
     "execution_count": 34,
     "metadata": {},
     "output_type": "execute_result"
    }
   ],
   "source": [
    "subset.groupby('Location')['Instance Type'].count()"
   ]
  },
  {
   "cell_type": "code",
   "execution_count": 35,
   "metadata": {
    "collapsed": false
   },
   "outputs": [
    {
     "data": {
      "text/plain": [
       "<matplotlib.axes._subplots.AxesSubplot at 0x7f15f0f8b710>"
      ]
     },
     "execution_count": 35,
     "metadata": {},
     "output_type": "execute_result"
    },
    {
     "data": {
      "image/png": "[encoded data removed]",
      "text/plain": [
       "<matplotlib.figure.Figure at 0x7f16183afb00>"
      ]
     },
     "metadata": {},
     "output_type": "display_data"
    }
   ],
   "source": [
    "subset.groupby('Location')['Instance Type'].count().plot(kind='bar')"
   ]
  },
  {
   "cell_type": "code",
   "execution_count": null,
   "metadata": {
    "collapsed": true
   },
   "outputs": [],
   "source": []
  }
 ],
 "metadata": {
  "kernelspec": {
   "display_name": "Python 3",
   "language": "python",
   "name": "python3"
  },
  "language_info": {
   "codemirror_mode": {
    "name": "ipython",
    "version": 3
   },
   "file_extension": ".py",
   "mimetype": "text/x-python",
   "name": "python",
   "nbconvert_exporter": "python",
   "pygments_lexer": "ipython3",
   "version": "3.5.4"
  }
 },
 "nbformat": 4,
 "nbformat_minor": 0
}
