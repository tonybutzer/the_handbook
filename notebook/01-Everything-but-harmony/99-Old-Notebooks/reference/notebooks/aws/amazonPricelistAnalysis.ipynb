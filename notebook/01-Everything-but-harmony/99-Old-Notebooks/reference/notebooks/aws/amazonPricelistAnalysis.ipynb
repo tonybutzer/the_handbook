{
 "cells": [
  {
   "cell_type": "markdown",
   "metadata": {},
   "source": [
    "## Purpose:\n",
    "\n",
    "This notebook analyizes the massive price list from Amazon ec2 offerings using python pandas."
   ]
  },
  {
   "cell_type": "code",
   "execution_count": 1,
   "metadata": {
    "collapsed": true
   },
   "outputs": [],
   "source": [
    "import pandas"
   ]
  },
  {
   "cell_type": "markdown",
   "metadata": {},
   "source": [
    "The above errors is because the first 5 lines are informational\n",
    "How to use sed to clip the first 5 lines?"
   ]
  },
  {
   "cell_type": "markdown",
   "metadata": {},
   "source": [
    "```\n",
    "tony@sleepy ~/repos/mesaVerde/notebooks/aws/awsLink $ sed '1,5d' <amazonPriceList.csv >workCopy.csv\n",
    "tony@sleepy ~/repos/mesaVerde/notebooks/aws/awsLink $ wc *.csv\n",
    "   166511   4747774  97438744 amazonPriceList.csv\n",
    "   166506   4747733  97438364 workCopy.csv\n",
    "   333017   9495507 194877108 total\n",
    "```"
   ]
  },
  {
   "cell_type": "code",
   "execution_count": 2,
   "metadata": {
    "collapsed": false
   },
   "outputs": [
    {
     "name": "stderr",
     "output_type": "stream",
     "text": [
      "/home/tony/anaconda3/lib/python3.5/site-packages/IPython/core/interactiveshell.py:2723: DtypeWarning: Columns (28,29,30,31,32,33,34,36,48) have mixed types. Specify dtype option on import or set low_memory=False.\n",
      "  interactivity=interactivity, compiler=compiler, result=result)\n"
     ]
    }
   ],
   "source": [
    "df = pandas.read_csv('awsLink/workCopy.csv', sep=',')"
   ]
  },
  {
   "cell_type": "code",
   "execution_count": 3,
   "metadata": {
    "collapsed": false
   },
   "outputs": [
    {
     "data": {
      "text/plain": [
       "(166505, 70)"
      ]
     },
     "execution_count": 3,
     "metadata": {},
     "output_type": "execute_result"
    }
   ],
   "source": [
    "df.shape"
   ]
  },
  {
   "cell_type": "code",
   "execution_count": 4,
   "metadata": {
    "collapsed": false
   },
   "outputs": [
    {
     "data": {
      "text/plain": [
       "pandas.core.frame.DataFrame"
      ]
     },
     "execution_count": 4,
     "metadata": {},
     "output_type": "execute_result"
    }
   ],
   "source": [
    "type(df)"
   ]
  },
  {
   "cell_type": "code",
   "execution_count": 5,
   "metadata": {
    "collapsed": false
   },
   "outputs": [
    {
     "data": {
      "text/plain": [
       "Index(['SKU', 'OfferTermCode', 'RateCode', 'TermType', 'PriceDescription',\n",
       "       'EffectiveDate', 'StartingRange', 'EndingRange', 'Unit', 'PricePerUnit',\n",
       "       'Currency', 'LeaseContractLength', 'PurchaseOption', 'OfferingClass',\n",
       "       'Product Family', 'serviceCode', 'Location', 'Location Type',\n",
       "       'Instance Type', 'Current Generation', 'Instance Family', 'vCPU',\n",
       "       'Physical Processor', 'Clock Speed', 'Memory', 'Storage',\n",
       "       'Network Performance', 'Processor Architecture', 'Storage Media',\n",
       "       'Volume Type', 'Max Volume Size', 'Max IOPS/volume',\n",
       "       'Max IOPS Burst Performance', 'Max throughput/volume', 'Provisioned',\n",
       "       'Tenancy', 'EBS Optimized', 'Operating System', 'License Model',\n",
       "       'Group', 'Group Description', 'Transfer Type', 'From Location',\n",
       "       'From Location Type', 'To Location', 'To Location Type', 'usageType',\n",
       "       'operation', 'Comments', 'Dedicated EBS Throughput', 'ECU',\n",
       "       'Enhanced Networking Supported', 'GPU', 'Instance Capacity - 10xlarge',\n",
       "       'Instance Capacity - 16xlarge', 'Instance Capacity - 2xlarge',\n",
       "       'Instance Capacity - 32xlarge', 'Instance Capacity - 4xlarge',\n",
       "       'Instance Capacity - 8xlarge', 'Instance Capacity - large',\n",
       "       'Instance Capacity - medium', 'Instance Capacity - xlarge',\n",
       "       'Intel AVX Available', 'Intel AVX2 Available', 'Intel Turbo Available',\n",
       "       'Normalization Size Factor', 'Physical Cores', 'Pre Installed S/W',\n",
       "       'Processor Features', 'Sockets'],\n",
       "      dtype='object')"
      ]
     },
     "execution_count": 5,
     "metadata": {},
     "output_type": "execute_result"
    }
   ],
   "source": [
    "df.columns"
   ]
  },
  {
   "cell_type": "code",
   "execution_count": 6,
   "metadata": {
    "collapsed": false
   },
   "outputs": [
    {
     "data": {
      "text/plain": [
       "'SKU'"
      ]
     },
     "execution_count": 6,
     "metadata": {},
     "output_type": "execute_result"
    }
   ],
   "source": [
    "fields=df.columns\n",
    "fields[0]"
   ]
  },
  {
   "cell_type": "code",
   "execution_count": 7,
   "metadata": {
    "collapsed": false
   },
   "outputs": [
    {
     "data": {
      "text/plain": [
       "70"
      ]
     },
     "execution_count": 7,
     "metadata": {},
     "output_type": "execute_result"
    }
   ],
   "source": [
    "len(fields)"
   ]
  },
  {
   "cell_type": "code",
   "execution_count": 8,
   "metadata": {
    "collapsed": false
   },
   "outputs": [
    {
     "name": "stdout",
     "output_type": "stream",
     "text": [
      "518    7DYQRTNH9TX2QQCF\n",
      "Name: SKU, dtype: object\n",
      "685    7DYQRTNH9TX2QQCF\n",
      "Name: SKU, dtype: object\n",
      "518    R5XV2EPZQZ\n",
      "Name: OfferTermCode, dtype: object\n",
      "685    4NA7Y494T4\n",
      "Name: OfferTermCode, dtype: object\n",
      "518    7DYQRTNH9TX2QQCF.R5XV2EPZQZ.6YS6EN2CT7\n",
      "Name: RateCode, dtype: object\n",
      "685    7DYQRTNH9TX2QQCF.4NA7Y494T4.6YS6EN2CT7\n",
      "Name: RateCode, dtype: object\n",
      "518    Reserved\n",
      "Name: TermType, dtype: object\n",
      "685    Reserved\n",
      "Name: TermType, dtype: object\n",
      "518    Linux/UNIX (Amazon VPC), t2.nano reserved inst...\n",
      "Name: PriceDescription, dtype: object\n",
      "685    Linux/UNIX (Amazon VPC), t2.nano reserved inst...\n",
      "Name: PriceDescription, dtype: object\n",
      "518    2017-04-30\n",
      "Name: EffectiveDate, dtype: object\n",
      "685    2017-04-30\n",
      "Name: EffectiveDate, dtype: object\n",
      "518    0.0\n",
      "Name: StartingRange, dtype: float64\n",
      "685    0.0\n",
      "Name: StartingRange, dtype: float64\n",
      "518    inf\n",
      "Name: EndingRange, dtype: float64\n",
      "685    inf\n",
      "Name: EndingRange, dtype: float64\n",
      "518    Hrs\n",
      "Name: Unit, dtype: object\n",
      "685    Hrs\n",
      "Name: Unit, dtype: object\n",
      "518    0.0026\n",
      "Name: PricePerUnit, dtype: float64\n",
      "685    0.0062\n",
      "Name: PricePerUnit, dtype: float64\n",
      "518    USD\n",
      "Name: Currency, dtype: object\n",
      "685    USD\n",
      "Name: Currency, dtype: object\n",
      "518    3yr\n",
      "Name: LeaseContractLength, dtype: object\n",
      "685    1yr\n",
      "Name: LeaseContractLength, dtype: object\n",
      "518    Partial Upfront\n",
      "Name: PurchaseOption, dtype: object\n",
      "685    No Upfront\n",
      "Name: PurchaseOption, dtype: object\n",
      "518    convertible\n",
      "Name: OfferingClass, dtype: object\n",
      "685    standard\n",
      "Name: OfferingClass, dtype: object\n",
      "518    Compute Instance\n",
      "Name: Product Family, dtype: object\n",
      "685    Compute Instance\n",
      "Name: Product Family, dtype: object\n",
      "518    AmazonEC2\n",
      "Name: serviceCode, dtype: object\n",
      "685    AmazonEC2\n",
      "Name: serviceCode, dtype: object\n",
      "518    South America (Sao Paulo)\n",
      "Name: Location, dtype: object\n",
      "685    South America (Sao Paulo)\n",
      "Name: Location, dtype: object\n",
      "518    AWS Region\n",
      "Name: Location Type, dtype: object\n",
      "685    AWS Region\n",
      "Name: Location Type, dtype: object\n",
      "518    t2.nano\n",
      "Name: Instance Type, dtype: object\n",
      "685    t2.nano\n",
      "Name: Instance Type, dtype: object\n",
      "518    Yes\n",
      "Name: Current Generation, dtype: object\n",
      "685    Yes\n",
      "Name: Current Generation, dtype: object\n",
      "518    General purpose\n",
      "Name: Instance Family, dtype: object\n",
      "685    General purpose\n",
      "Name: Instance Family, dtype: object\n",
      "518    1.0\n",
      "Name: vCPU, dtype: float64\n",
      "685    1.0\n",
      "Name: vCPU, dtype: float64\n",
      "518    Intel Xeon Family\n",
      "Name: Physical Processor, dtype: object\n",
      "685    Intel Xeon Family\n",
      "Name: Physical Processor, dtype: object\n",
      "518    Up to 3.3 GHz\n",
      "Name: Clock Speed, dtype: object\n",
      "685    Up to 3.3 GHz\n",
      "Name: Clock Speed, dtype: object\n",
      "518    0.5 GiB\n",
      "Name: Memory, dtype: object\n",
      "685    0.5 GiB\n",
      "Name: Memory, dtype: object\n",
      "518    EBS only\n",
      "Name: Storage, dtype: object\n",
      "685    EBS only\n",
      "Name: Storage, dtype: object\n",
      "518    Low\n",
      "Name: Network Performance, dtype: object\n",
      "685    Low\n",
      "Name: Network Performance, dtype: object\n",
      "518    32-bit or 64-bit\n",
      "Name: Processor Architecture, dtype: object\n",
      "685    32-bit or 64-bit\n",
      "Name: Processor Architecture, dtype: object\n",
      "518    NaN\n",
      "Name: Storage Media, dtype: object\n",
      "685    NaN\n",
      "Name: Storage Media, dtype: object\n",
      "518    NaN\n",
      "Name: Volume Type, dtype: object\n",
      "685    NaN\n",
      "Name: Volume Type, dtype: object\n",
      "518    NaN\n",
      "Name: Max Volume Size, dtype: object\n",
      "685    NaN\n",
      "Name: Max Volume Size, dtype: object\n",
      "518    NaN\n",
      "Name: Max IOPS/volume, dtype: object\n",
      "685    NaN\n",
      "Name: Max IOPS/volume, dtype: object\n",
      "518    NaN\n",
      "Name: Max IOPS Burst Performance, dtype: object\n",
      "685    NaN\n",
      "Name: Max IOPS Burst Performance, dtype: object\n",
      "518    NaN\n",
      "Name: Max throughput/volume, dtype: object\n",
      "685    NaN\n",
      "Name: Max throughput/volume, dtype: object\n",
      "518    NaN\n",
      "Name: Provisioned, dtype: object\n",
      "685    NaN\n",
      "Name: Provisioned, dtype: object\n",
      "518    Shared\n",
      "Name: Tenancy, dtype: object\n",
      "685    Shared\n",
      "Name: Tenancy, dtype: object\n",
      "518    NaN\n",
      "Name: EBS Optimized, dtype: object\n",
      "685    NaN\n",
      "Name: EBS Optimized, dtype: object\n",
      "518    Linux\n",
      "Name: Operating System, dtype: object\n",
      "685    Linux\n",
      "Name: Operating System, dtype: object\n",
      "518    No License required\n",
      "Name: License Model, dtype: object\n",
      "685    No License required\n",
      "Name: License Model, dtype: object\n",
      "518    NaN\n",
      "Name: Group, dtype: object\n",
      "685    NaN\n",
      "Name: Group, dtype: object\n",
      "518    NaN\n",
      "Name: Group Description, dtype: object\n",
      "685    NaN\n",
      "Name: Group Description, dtype: object\n",
      "518    NaN\n",
      "Name: Transfer Type, dtype: object\n",
      "685    NaN\n",
      "Name: Transfer Type, dtype: object\n",
      "518    NaN\n",
      "Name: From Location, dtype: object\n",
      "685    NaN\n",
      "Name: From Location, dtype: object\n",
      "518    NaN\n",
      "Name: From Location Type, dtype: object\n",
      "685    NaN\n",
      "Name: From Location Type, dtype: object\n",
      "518    NaN\n",
      "Name: To Location, dtype: object\n",
      "685    NaN\n",
      "Name: To Location, dtype: object\n",
      "518    NaN\n",
      "Name: To Location Type, dtype: object\n",
      "685    NaN\n",
      "Name: To Location Type, dtype: object\n",
      "518    SAE1-BoxUsage:t2.nano\n",
      "Name: usageType, dtype: object\n",
      "685    SAE1-BoxUsage:t2.nano\n",
      "Name: usageType, dtype: object\n",
      "518    RunInstances\n",
      "Name: operation, dtype: object\n",
      "685    RunInstances\n",
      "Name: operation, dtype: object\n",
      "518    NaN\n",
      "Name: Comments, dtype: object\n",
      "685    NaN\n",
      "Name: Comments, dtype: object\n",
      "518    NaN\n",
      "Name: Dedicated EBS Throughput, dtype: object\n",
      "685    NaN\n",
      "Name: Dedicated EBS Throughput, dtype: object\n",
      "518    Variable\n",
      "Name: ECU, dtype: object\n",
      "685    Variable\n",
      "Name: ECU, dtype: object\n",
      "518    NaN\n",
      "Name: Enhanced Networking Supported, dtype: object\n",
      "685    NaN\n",
      "Name: Enhanced Networking Supported, dtype: object\n",
      "518   NaN\n",
      "Name: GPU, dtype: float64\n",
      "685   NaN\n",
      "Name: GPU, dtype: float64\n",
      "518   NaN\n",
      "Name: Instance Capacity - 10xlarge, dtype: float64\n",
      "685   NaN\n",
      "Name: Instance Capacity - 10xlarge, dtype: float64\n",
      "518   NaN\n",
      "Name: Instance Capacity - 16xlarge, dtype: float64\n",
      "685   NaN\n",
      "Name: Instance Capacity - 16xlarge, dtype: float64\n",
      "518   NaN\n",
      "Name: Instance Capacity - 2xlarge, dtype: float64\n",
      "685   NaN\n",
      "Name: Instance Capacity - 2xlarge, dtype: float64\n",
      "518   NaN\n",
      "Name: Instance Capacity - 32xlarge, dtype: float64\n",
      "685   NaN\n",
      "Name: Instance Capacity - 32xlarge, dtype: float64\n",
      "518   NaN\n",
      "Name: Instance Capacity - 4xlarge, dtype: float64\n",
      "685   NaN\n",
      "Name: Instance Capacity - 4xlarge, dtype: float64\n",
      "518   NaN\n",
      "Name: Instance Capacity - 8xlarge, dtype: float64\n",
      "685   NaN\n",
      "Name: Instance Capacity - 8xlarge, dtype: float64\n",
      "518   NaN\n",
      "Name: Instance Capacity - large, dtype: float64\n",
      "685   NaN\n",
      "Name: Instance Capacity - large, dtype: float64\n",
      "518   NaN\n",
      "Name: Instance Capacity - medium, dtype: float64\n",
      "685   NaN\n",
      "Name: Instance Capacity - medium, dtype: float64\n",
      "518   NaN\n",
      "Name: Instance Capacity - xlarge, dtype: float64\n",
      "685   NaN\n",
      "Name: Instance Capacity - xlarge, dtype: float64\n",
      "518    NaN\n",
      "Name: Intel AVX Available, dtype: object\n",
      "685    NaN\n",
      "Name: Intel AVX Available, dtype: object\n",
      "518    NaN\n",
      "Name: Intel AVX2 Available, dtype: object\n",
      "685    NaN\n",
      "Name: Intel AVX2 Available, dtype: object\n",
      "518    NaN\n",
      "Name: Intel Turbo Available, dtype: object\n",
      "685    NaN\n",
      "Name: Intel Turbo Available, dtype: object\n",
      "518    0.25\n",
      "Name: Normalization Size Factor, dtype: float64\n",
      "685    0.25\n",
      "Name: Normalization Size Factor, dtype: float64\n",
      "518   NaN\n",
      "Name: Physical Cores, dtype: float64\n",
      "685   NaN\n",
      "Name: Physical Cores, dtype: float64\n",
      "518    NaN\n",
      "Name: Pre Installed S/W, dtype: object\n",
      "685    NaN\n",
      "Name: Pre Installed S/W, dtype: object\n",
      "518    Intel AVX; Intel Turbo\n",
      "Name: Processor Features, dtype: object\n",
      "685    Intel AVX; Intel Turbo\n",
      "Name: Processor Features, dtype: object\n",
      "518   NaN\n",
      "Name: Sockets, dtype: float64\n",
      "685   NaN\n",
      "Name: Sockets, dtype: float64\n"
     ]
    }
   ],
   "source": [
    "for x in range(0, len(fields)):\n",
    "    print(df[518:519][fields[x]])\n",
    "    print(df[685:686][fields[x]])"
   ]
  },
  {
   "cell_type": "code",
   "execution_count": 9,
   "metadata": {
    "collapsed": false
   },
   "outputs": [
    {
     "name": "stdout",
     "output_type": "stream",
     "text": [
      "x is 0 field is SKU\n",
      "x is 1 field is OfferTermCode\n",
      "x is 2 field is RateCode\n",
      "x is 3 field is TermType\n",
      "x is 4 field is PriceDescription\n",
      "x is 5 field is EffectiveDate\n",
      "x is 6 field is StartingRange\n",
      "x is 7 field is EndingRange\n",
      "x is 8 field is Unit\n",
      "x is 9 field is PricePerUnit\n",
      "x is 10 field is Currency\n",
      "x is 11 field is LeaseContractLength\n",
      "x is 12 field is PurchaseOption\n",
      "x is 13 field is OfferingClass\n",
      "x is 14 field is Product Family\n",
      "x is 15 field is serviceCode\n",
      "x is 16 field is Location\n",
      "x is 17 field is Location Type\n",
      "x is 18 field is Instance Type\n",
      "x is 19 field is Current Generation\n",
      "x is 20 field is Instance Family\n",
      "x is 21 field is vCPU\n",
      "x is 22 field is Physical Processor\n",
      "x is 23 field is Clock Speed\n",
      "x is 24 field is Memory\n",
      "x is 25 field is Storage\n",
      "x is 26 field is Network Performance\n",
      "x is 27 field is Processor Architecture\n",
      "x is 28 field is Storage Media\n",
      "x is 29 field is Volume Type\n",
      "x is 30 field is Max Volume Size\n",
      "x is 31 field is Max IOPS/volume\n",
      "x is 32 field is Max IOPS Burst Performance\n",
      "x is 33 field is Max throughput/volume\n",
      "x is 34 field is Provisioned\n",
      "x is 35 field is Tenancy\n",
      "x is 36 field is EBS Optimized\n",
      "x is 37 field is Operating System\n",
      "x is 38 field is License Model\n",
      "x is 39 field is Group\n",
      "x is 40 field is Group Description\n",
      "x is 41 field is Transfer Type\n",
      "x is 42 field is From Location\n",
      "x is 43 field is From Location Type\n",
      "x is 44 field is To Location\n",
      "x is 45 field is To Location Type\n",
      "x is 46 field is usageType\n",
      "x is 47 field is operation\n",
      "x is 48 field is Comments\n",
      "x is 49 field is Dedicated EBS Throughput\n",
      "x is 50 field is ECU\n",
      "x is 51 field is Enhanced Networking Supported\n",
      "x is 52 field is GPU\n",
      "x is 53 field is Instance Capacity - 10xlarge\n",
      "x is 54 field is Instance Capacity - 16xlarge\n",
      "x is 55 field is Instance Capacity - 2xlarge\n",
      "x is 56 field is Instance Capacity - 32xlarge\n",
      "x is 57 field is Instance Capacity - 4xlarge\n",
      "x is 58 field is Instance Capacity - 8xlarge\n",
      "x is 59 field is Instance Capacity - large\n",
      "x is 60 field is Instance Capacity - medium\n",
      "x is 61 field is Instance Capacity - xlarge\n",
      "x is 62 field is Intel AVX Available\n",
      "x is 63 field is Intel AVX2 Available\n",
      "x is 64 field is Intel Turbo Available\n",
      "x is 65 field is Normalization Size Factor\n",
      "x is 66 field is Physical Cores\n",
      "x is 67 field is Pre Installed S/W\n",
      "x is 68 field is Processor Features\n",
      "x is 69 field is Sockets\n"
     ]
    }
   ],
   "source": [
    "\n",
    "for x in range(0, len(fields)):\n",
    "    print (\"x is\", x, \"field is\", fields[x])"
   ]
  },
  {
   "cell_type": "code",
   "execution_count": 10,
   "metadata": {
    "collapsed": false
   },
   "outputs": [],
   "source": [
    "subset = df[['Location', 'Instance Type', 'vCPU', 'Operating System', 'Instance Family', 'Tenancy', 'Memory', 'LeaseContractLength', 'PricePerUnit', 'TermType' ]] # subset multiple columns"
   ]
  },
  {
   "cell_type": "code",
   "execution_count": 11,
   "metadata": {
    "collapsed": false
   },
   "outputs": [
    {
     "data": {
      "text/html": [
       "<div>\n",
       "<table border=\"1\" class=\"dataframe\">\n",
       "  <thead>\n",
       "    <tr style=\"text-align: right;\">\n",
       "      <th></th>\n",
       "      <th>Location</th>\n",
       "      <th>Instance Type</th>\n",
       "      <th>vCPU</th>\n",
       "      <th>Operating System</th>\n",
       "      <th>Instance Family</th>\n",
       "      <th>Tenancy</th>\n",
       "      <th>Memory</th>\n",
       "      <th>LeaseContractLength</th>\n",
       "      <th>PricePerUnit</th>\n",
       "      <th>TermType</th>\n",
       "    </tr>\n",
       "  </thead>\n",
       "  <tbody>\n",
       "    <tr>\n",
       "      <th>0</th>\n",
       "      <td>US East (Ohio)</td>\n",
       "      <td>m4.xlarge</td>\n",
       "      <td>4.0</td>\n",
       "      <td>RHEL</td>\n",
       "      <td>General purpose</td>\n",
       "      <td>Dedicated</td>\n",
       "      <td>16 GiB</td>\n",
       "      <td>1yr</td>\n",
       "      <td>0.2230</td>\n",
       "      <td>Reserved</td>\n",
       "    </tr>\n",
       "    <tr>\n",
       "      <th>1</th>\n",
       "      <td>EU (Frankfurt)</td>\n",
       "      <td>r4.16xlarge</td>\n",
       "      <td>64.0</td>\n",
       "      <td>Windows</td>\n",
       "      <td>Memory optimized</td>\n",
       "      <td>Shared</td>\n",
       "      <td>488 GiB</td>\n",
       "      <td>3yr</td>\n",
       "      <td>6.6146</td>\n",
       "      <td>Reserved</td>\n",
       "    </tr>\n",
       "    <tr>\n",
       "      <th>2</th>\n",
       "      <td>Asia Pacific (Seoul)</td>\n",
       "      <td>i2.4xlarge</td>\n",
       "      <td>16.0</td>\n",
       "      <td>Windows</td>\n",
       "      <td>Storage optimized</td>\n",
       "      <td>Dedicated</td>\n",
       "      <td>122 GiB</td>\n",
       "      <td>NaN</td>\n",
       "      <td>5.1382</td>\n",
       "      <td>OnDemand</td>\n",
       "    </tr>\n",
       "    <tr>\n",
       "      <th>3</th>\n",
       "      <td>Asia Pacific (Singapore)</td>\n",
       "      <td>m3.2xlarge</td>\n",
       "      <td>8.0</td>\n",
       "      <td>Windows</td>\n",
       "      <td>General purpose</td>\n",
       "      <td>Dedicated</td>\n",
       "      <td>30 GiB</td>\n",
       "      <td>1yr</td>\n",
       "      <td>1.0070</td>\n",
       "      <td>Reserved</td>\n",
       "    </tr>\n",
       "    <tr>\n",
       "      <th>4</th>\n",
       "      <td>Asia Pacific (Sydney)</td>\n",
       "      <td>m1.medium</td>\n",
       "      <td>1.0</td>\n",
       "      <td>RHEL</td>\n",
       "      <td>General purpose</td>\n",
       "      <td>Shared</td>\n",
       "      <td>3.75 GiB</td>\n",
       "      <td>1yr</td>\n",
       "      <td>1080.0000</td>\n",
       "      <td>Reserved</td>\n",
       "    </tr>\n",
       "  </tbody>\n",
       "</table>\n",
       "</div>"
      ],
      "text/plain": [
       "                   Location Instance Type  vCPU Operating System  \\\n",
       "0            US East (Ohio)     m4.xlarge   4.0             RHEL   \n",
       "1            EU (Frankfurt)   r4.16xlarge  64.0          Windows   \n",
       "2      Asia Pacific (Seoul)    i2.4xlarge  16.0          Windows   \n",
       "3  Asia Pacific (Singapore)    m3.2xlarge   8.0          Windows   \n",
       "4     Asia Pacific (Sydney)     m1.medium   1.0             RHEL   \n",
       "\n",
       "     Instance Family    Tenancy    Memory LeaseContractLength  PricePerUnit  \\\n",
       "0    General purpose  Dedicated    16 GiB                 1yr        0.2230   \n",
       "1   Memory optimized     Shared   488 GiB                 3yr        6.6146   \n",
       "2  Storage optimized  Dedicated   122 GiB                 NaN        5.1382   \n",
       "3    General purpose  Dedicated    30 GiB                 1yr        1.0070   \n",
       "4    General purpose     Shared  3.75 GiB                 1yr     1080.0000   \n",
       "\n",
       "   TermType  \n",
       "0  Reserved  \n",
       "1  Reserved  \n",
       "2  OnDemand  \n",
       "3  Reserved  \n",
       "4  Reserved  "
      ]
     },
     "execution_count": 11,
     "metadata": {},
     "output_type": "execute_result"
    }
   ],
   "source": [
    "subset.head()"
   ]
  },
  {
   "cell_type": "code",
   "execution_count": 12,
   "metadata": {
    "collapsed": false
   },
   "outputs": [
    {
     "data": {
      "text/plain": [
       "(166505, 10)"
      ]
     },
     "execution_count": 12,
     "metadata": {},
     "output_type": "execute_result"
    }
   ],
   "source": [
    "subset.shape"
   ]
  },
  {
   "cell_type": "code",
   "execution_count": null,
   "metadata": {
    "collapsed": true
   },
   "outputs": [],
   "source": []
  },
  {
   "cell_type": "code",
   "execution_count": 13,
   "metadata": {
    "collapsed": false
   },
   "outputs": [
    {
     "data": {
      "text/plain": [
       "0           m4.xlarge\n",
       "1         r4.16xlarge\n",
       "2          i2.4xlarge\n",
       "3          m3.2xlarge\n",
       "4           m1.medium\n",
       "5           i3.xlarge\n",
       "6          r4.2xlarge\n",
       "7           c4.xlarge\n",
       "8          c4.4xlarge\n",
       "9            t2.large\n",
       "10         m4.2xlarge\n",
       "11         i2.8xlarge\n",
       "12          m3.xlarge\n",
       "13           i3.large\n",
       "14         r3.8xlarge\n",
       "15         d2.4xlarge\n",
       "16           t2.large\n",
       "17           i3.large\n",
       "18         i3.2xlarge\n",
       "19           i3.large\n",
       "20          t2.medium\n",
       "21           c3.large\n",
       "22         i2.4xlarge\n",
       "23          i2.xlarge\n",
       "24          r3.xlarge\n",
       "25         r4.4xlarge\n",
       "26         r3.8xlarge\n",
       "27         r4.2xlarge\n",
       "28         c3.8xlarge\n",
       "29        x1.16xlarge\n",
       "             ...     \n",
       "166475     i3.2xlarge\n",
       "166476       r3.large\n",
       "166477      m3.xlarge\n",
       "166478    hi1.4xlarge\n",
       "166479      d2.xlarge\n",
       "166480       t2.micro\n",
       "166481     m4.2xlarge\n",
       "166482      m4.xlarge\n",
       "166483      c1.xlarge\n",
       "166484      c1.medium\n",
       "166485      c4.xlarge\n",
       "166486    x1.32xlarge\n",
       "166487     m3.2xlarge\n",
       "166488    i3.16xlarge\n",
       "166489    r4.16xlarge\n",
       "166490    i3.16xlarge\n",
       "166491     r3.2xlarge\n",
       "166492    r4.16xlarge\n",
       "166493     m2.2xlarge\n",
       "166494     t2.2xlarge\n",
       "166495     m2.4xlarge\n",
       "166496      d2.xlarge\n",
       "166497      c4.xlarge\n",
       "166498    g3.16xlarge\n",
       "166499     i3.2xlarge\n",
       "166500    r4.16xlarge\n",
       "166501     c4.4xlarge\n",
       "166502       i3.large\n",
       "166503     i2.2xlarge\n",
       "166504      r3.xlarge\n",
       "Name: Instance Type, dtype: object"
      ]
     },
     "execution_count": 13,
     "metadata": {},
     "output_type": "execute_result"
    }
   ],
   "source": [
    "subset['Instance Type']"
   ]
  },
  {
   "cell_type": "code",
   "execution_count": 14,
   "metadata": {
    "collapsed": false,
    "scrolled": true
   },
   "outputs": [
    {
     "data": {
      "text/plain": [
       "c4.2xlarge     3519\n",
       "c4.xlarge      3519\n",
       "c4.4xlarge     3519\n",
       "c4.8xlarge     3519\n",
       "m4.4xlarge     3511\n",
       "m4.2xlarge     3511\n",
       "m4.xlarge      3511\n",
       "m4.10xlarge    3511\n",
       "r4.xlarge      3510\n",
       "i3.xlarge      3510\n",
       "i3.4xlarge     3510\n",
       "i3.16xlarge    3510\n",
       "r4.2xlarge     3510\n",
       "i3.2xlarge     3510\n",
       "i3.8xlarge     3510\n",
       "r4.4xlarge     3493\n",
       "r4.16xlarge    3493\n",
       "r4.8xlarge     3478\n",
       "m4.16xlarge    3417\n",
       "x1.16xlarge    3201\n",
       "c4.large       3039\n",
       "m4.large       3031\n",
       "i3.large       3030\n",
       "r4.large       3023\n",
       "x1.32xlarge    3008\n",
       "r3.2xlarge     2843\n",
       "r3.4xlarge     2843\n",
       "r3.xlarge      2843\n",
       "r3.8xlarge     2831\n",
       "i2.4xlarge     2657\n",
       "               ... \n",
       "p2.8xlarge      871\n",
       "p2.16xlarge     871\n",
       "g3.4xlarge      827\n",
       "g3.16xlarge     827\n",
       "g3.8xlarge      825\n",
       "hs1.8xlarge     785\n",
       "p2.xlarge       760\n",
       "t2.nano         743\n",
       "cc2.8xlarge     562\n",
       "hi1.4xlarge     460\n",
       "t1.micro        459\n",
       "cr1.8xlarge     450\n",
       "f1.2xlarge      102\n",
       "f1.16xlarge     102\n",
       "cg1.4xlarge      28\n",
       "i3               15\n",
       "m4               14\n",
       "c4               14\n",
       "r4               13\n",
       "x1               13\n",
       "d2               13\n",
       "r3               13\n",
       "i2               12\n",
       "c3               10\n",
       "m3               10\n",
       "g2                8\n",
       "g3                6\n",
       "p2                3\n",
       "cc1.4xlarge       2\n",
       "f1                1\n",
       "Name: Instance Type, dtype: int64"
      ]
     },
     "execution_count": 14,
     "metadata": {},
     "output_type": "execute_result"
    }
   ],
   "source": [
    "subset['Instance Type'].value_counts()"
   ]
  },
  {
   "cell_type": "code",
   "execution_count": 15,
   "metadata": {
    "collapsed": false
   },
   "outputs": [
    {
     "data": {
      "text/plain": [
       "Shared       84502\n",
       "Dedicated    75353\n",
       "Host          5364\n",
       "Name: Tenancy, dtype: int64"
      ]
     },
     "execution_count": 15,
     "metadata": {},
     "output_type": "execute_result"
    }
   ],
   "source": [
    "subset['Tenancy'].value_counts()"
   ]
  },
  {
   "cell_type": "code",
   "execution_count": 16,
   "metadata": {
    "collapsed": true
   },
   "outputs": [],
   "source": [
    "%matplotlib inline"
   ]
  },
  {
   "cell_type": "code",
   "execution_count": 17,
   "metadata": {
    "collapsed": false
   },
   "outputs": [
    {
     "data": {
      "text/plain": [
       "<matplotlib.axes._subplots.AxesSubplot at 0x7ff716763198>"
      ]
     },
     "execution_count": 17,
     "metadata": {},
     "output_type": "execute_result"
    },
    {
     "data": {
      "image/png": "[encoded data removed]",
      "text/plain": [
       "<matplotlib.figure.Figure at 0x7ff71674e7f0>"
      ]
     },
     "metadata": {},
     "output_type": "display_data"
    }
   ],
   "source": [
    "subset['Tenancy'].value_counts().plot(kind='bar')"
   ]
  },
  {
   "cell_type": "code",
   "execution_count": 18,
   "metadata": {
    "collapsed": true
   },
   "outputs": [],
   "source": [
    "t2_nano=subset[subset['Instance Type'] == \"t2.nano\"]"
   ]
  },
  {
   "cell_type": "code",
   "execution_count": 19,
   "metadata": {
    "collapsed": false
   },
   "outputs": [
    {
     "data": {
      "text/html": [
       "<div>\n",
       "<table border=\"1\" class=\"dataframe\">\n",
       "  <thead>\n",
       "    <tr style=\"text-align: right;\">\n",
       "      <th></th>\n",
       "      <th>Location</th>\n",
       "      <th>Instance Type</th>\n",
       "      <th>vCPU</th>\n",
       "      <th>Operating System</th>\n",
       "      <th>Instance Family</th>\n",
       "      <th>Tenancy</th>\n",
       "      <th>Memory</th>\n",
       "      <th>LeaseContractLength</th>\n",
       "      <th>PricePerUnit</th>\n",
       "      <th>TermType</th>\n",
       "    </tr>\n",
       "  </thead>\n",
       "  <tbody>\n",
       "    <tr>\n",
       "      <th>126</th>\n",
       "      <td>Asia Pacific (Seoul)</td>\n",
       "      <td>t2.nano</td>\n",
       "      <td>1.0</td>\n",
       "      <td>Windows</td>\n",
       "      <td>General purpose</td>\n",
       "      <td>Shared</td>\n",
       "      <td>0.5 GiB</td>\n",
       "      <td>3yr</td>\n",
       "      <td>179.0000</td>\n",
       "      <td>Reserved</td>\n",
       "    </tr>\n",
       "    <tr>\n",
       "      <th>515</th>\n",
       "      <td>Asia Pacific (Mumbai)</td>\n",
       "      <td>t2.nano</td>\n",
       "      <td>1.0</td>\n",
       "      <td>Linux</td>\n",
       "      <td>General purpose</td>\n",
       "      <td>Shared</td>\n",
       "      <td>0.5 GiB</td>\n",
       "      <td>3yr</td>\n",
       "      <td>0.0027</td>\n",
       "      <td>Reserved</td>\n",
       "    </tr>\n",
       "    <tr>\n",
       "      <th>518</th>\n",
       "      <td>South America (Sao Paulo)</td>\n",
       "      <td>t2.nano</td>\n",
       "      <td>1.0</td>\n",
       "      <td>Linux</td>\n",
       "      <td>General purpose</td>\n",
       "      <td>Shared</td>\n",
       "      <td>0.5 GiB</td>\n",
       "      <td>3yr</td>\n",
       "      <td>0.0026</td>\n",
       "      <td>Reserved</td>\n",
       "    </tr>\n",
       "    <tr>\n",
       "      <th>685</th>\n",
       "      <td>South America (Sao Paulo)</td>\n",
       "      <td>t2.nano</td>\n",
       "      <td>1.0</td>\n",
       "      <td>Linux</td>\n",
       "      <td>General purpose</td>\n",
       "      <td>Shared</td>\n",
       "      <td>0.5 GiB</td>\n",
       "      <td>1yr</td>\n",
       "      <td>0.0062</td>\n",
       "      <td>Reserved</td>\n",
       "    </tr>\n",
       "    <tr>\n",
       "      <th>691</th>\n",
       "      <td>US East (N. Virginia)</td>\n",
       "      <td>t2.nano</td>\n",
       "      <td>1.0</td>\n",
       "      <td>Windows</td>\n",
       "      <td>General purpose</td>\n",
       "      <td>Shared</td>\n",
       "      <td>0.5 GiB</td>\n",
       "      <td>3yr</td>\n",
       "      <td>66.0000</td>\n",
       "      <td>Reserved</td>\n",
       "    </tr>\n",
       "    <tr>\n",
       "      <th>695</th>\n",
       "      <td>Asia Pacific (Seoul)</td>\n",
       "      <td>t2.nano</td>\n",
       "      <td>1.0</td>\n",
       "      <td>SUSE</td>\n",
       "      <td>General purpose</td>\n",
       "      <td>Shared</td>\n",
       "      <td>0.5 GiB</td>\n",
       "      <td>3yr</td>\n",
       "      <td>301.0000</td>\n",
       "      <td>Reserved</td>\n",
       "    </tr>\n",
       "  </tbody>\n",
       "</table>\n",
       "</div>"
      ],
      "text/plain": [
       "                      Location Instance Type  vCPU Operating System  \\\n",
       "126       Asia Pacific (Seoul)       t2.nano   1.0          Windows   \n",
       "515      Asia Pacific (Mumbai)       t2.nano   1.0            Linux   \n",
       "518  South America (Sao Paulo)       t2.nano   1.0            Linux   \n",
       "685  South America (Sao Paulo)       t2.nano   1.0            Linux   \n",
       "691      US East (N. Virginia)       t2.nano   1.0          Windows   \n",
       "695       Asia Pacific (Seoul)       t2.nano   1.0             SUSE   \n",
       "\n",
       "     Instance Family Tenancy   Memory LeaseContractLength  PricePerUnit  \\\n",
       "126  General purpose  Shared  0.5 GiB                 3yr      179.0000   \n",
       "515  General purpose  Shared  0.5 GiB                 3yr        0.0027   \n",
       "518  General purpose  Shared  0.5 GiB                 3yr        0.0026   \n",
       "685  General purpose  Shared  0.5 GiB                 1yr        0.0062   \n",
       "691  General purpose  Shared  0.5 GiB                 3yr       66.0000   \n",
       "695  General purpose  Shared  0.5 GiB                 3yr      301.0000   \n",
       "\n",
       "     TermType  \n",
       "126  Reserved  \n",
       "515  Reserved  \n",
       "518  Reserved  \n",
       "685  Reserved  \n",
       "691  Reserved  \n",
       "695  Reserved  "
      ]
     },
     "execution_count": 19,
     "metadata": {},
     "output_type": "execute_result"
    }
   ],
   "source": [
    "t2_nano[:6]"
   ]
  },
  {
   "cell_type": "code",
   "execution_count": 20,
   "metadata": {
    "collapsed": false
   },
   "outputs": [
    {
     "data": {
      "text/plain": [
       "Location\n",
       "AWS GovCloud (US)            12183\n",
       "Asia Pacific (Mumbai)         8895\n",
       "Asia Pacific (Seoul)          9115\n",
       "Asia Pacific (Singapore)     12308\n",
       "Asia Pacific (Sydney)        12733\n",
       "Asia Pacific (Tokyo)         13114\n",
       "Canada (Central)              6836\n",
       "EU (Frankfurt)               10755\n",
       "EU (Ireland)                 13609\n",
       "EU (London)                   6866\n",
       "South America (Sao Paulo)    10246\n",
       "US East (N. Virginia)        13730\n",
       "US East (Ohio)                9496\n",
       "US West (N. California)      12208\n",
       "US West (Oregon)             13524\n",
       "Name: vCPU, dtype: int64"
      ]
     },
     "execution_count": 20,
     "metadata": {},
     "output_type": "execute_result"
    }
   ],
   "source": [
    "subset.groupby('Location')['vCPU'].count()"
   ]
  },
  {
   "cell_type": "code",
   "execution_count": 21,
   "metadata": {
    "collapsed": false
   },
   "outputs": [
    {
     "data": {
      "text/plain": [
       "Location\n",
       "AWS GovCloud (US)            12183\n",
       "Asia Pacific (Mumbai)         8895\n",
       "Asia Pacific (Seoul)          9115\n",
       "Asia Pacific (Singapore)     12308\n",
       "Asia Pacific (Sydney)        12733\n",
       "Asia Pacific (Tokyo)         13114\n",
       "Canada (Central)              6836\n",
       "EU (Frankfurt)               10755\n",
       "EU (Ireland)                 13609\n",
       "EU (London)                   6866\n",
       "South America (Sao Paulo)    10246\n",
       "US East (N. Virginia)        13730\n",
       "US East (Ohio)                9496\n",
       "US West (N. California)      12208\n",
       "US West (Oregon)             13525\n",
       "Name: Instance Type, dtype: int64"
      ]
     },
     "execution_count": 21,
     "metadata": {},
     "output_type": "execute_result"
    }
   ],
   "source": [
    "subset.groupby('Location')['Instance Type'].count()"
   ]
  },
  {
   "cell_type": "code",
   "execution_count": null,
   "metadata": {
    "collapsed": true
   },
   "outputs": [],
   "source": []
  }
 ],
 "metadata": {
  "kernelspec": {
   "display_name": "Python 3",
   "language": "python",
   "name": "python3"
  },
  "language_info": {
   "codemirror_mode": {
    "name": "ipython",
    "version": 3
   },
   "file_extension": ".py",
   "mimetype": "text/x-python",
   "name": "python",
   "nbconvert_exporter": "python",
   "pygments_lexer": "ipython3",
   "version": "3.5.1"
  }
 },
 "nbformat": 4,
 "nbformat_minor": 0
}
