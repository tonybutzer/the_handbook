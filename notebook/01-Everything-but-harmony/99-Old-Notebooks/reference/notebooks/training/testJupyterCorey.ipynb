{
 "cells": [
  {
   "cell_type": "markdown",
   "metadata": {},
   "source": [
    "# Sample headline\n",
    "*Note: this will be italicized*\n",
    "## Another Header\n",
    "This is a normal paragraph and will be wraped etc. The free bird leaps\n",
    "on the back of the wind\n",
    "and floats downstream\n",
    "till the current ends\n",
    "and dips his wings\n",
    "in the orange sun rays\n",
    "and dares to claim the sky.\n",
    "\n",
    "But a bird that stalks\n",
    "down his narrow cage\n",
    "can seldom see through\n",
    "his bars of rage\n",
    "his wings are clipped and\n",
    "his feet are tied\n",
    "so he opens his throat to sing.\n",
    "\n",
    "### What ths notebook shows \n",
    "\n",
    "1. how to get started with notebooks\n",
    "2. how to execute code\n",
    "3. how to add markdown\n",
    "4. And a whold bunch of other ... neat stuff.\n",
    "5. pretty cool huh!"
   ]
  },
  {
   "cell_type": "code",
   "execution_count": 61,
   "metadata": {
    "collapsed": false
   },
   "outputs": [
    {
     "name": "stdout",
     "output_type": "stream",
     "text": [
      "Hello Corey your youtube is excellent\n"
     ]
    }
   ],
   "source": [
    "print (\"Hello Corey your youtube is excellent\")"
   ]
  },
  {
   "cell_type": "code",
   "execution_count": 38,
   "metadata": {
    "collapsed": false
   },
   "outputs": [
    {
     "data": {
      "text/plain": [
       "'hello world'"
      ]
     },
     "execution_count": 38,
     "metadata": {},
     "output_type": "execute_result"
    }
   ],
   "source": [
    "'hello world'"
   ]
  },
  {
   "cell_type": "code",
   "execution_count": 39,
   "metadata": {
    "collapsed": false
   },
   "outputs": [
    {
     "data": {
      "text/plain": [
       "'John'"
      ]
     },
     "execution_count": 39,
     "metadata": {},
     "output_type": "execute_result"
    }
   ],
   "source": [
    "name = 'John'\n",
    "name"
   ]
  },
  {
   "cell_type": "code",
   "execution_count": 40,
   "metadata": {
    "collapsed": false
   },
   "outputs": [
    {
     "name": "stderr",
     "output_type": "stream",
     "text": [
      "ERROR: Line magic function `%pip` not found.\n"
     ]
    }
   ],
   "source": [
    "% pip list"
   ]
  },
  {
   "cell_type": "code",
   "execution_count": 41,
   "metadata": {
    "collapsed": false
   },
   "outputs": [
    {
     "name": "stderr",
     "output_type": "stream",
     "text": [
      "ERROR: Line magic function `%conda` not found.\n"
     ]
    }
   ],
   "source": [
    "% conda list"
   ]
  },
  {
   "cell_type": "code",
   "execution_count": 42,
   "metadata": {
    "collapsed": false
   },
   "outputs": [
    {
     "data": {
      "text/plain": [
       "'/home/tony/repos/mesaVerde/notebooks/training'"
      ]
     },
     "execution_count": 42,
     "metadata": {},
     "output_type": "execute_result"
    }
   ],
   "source": [
    "%pwd"
   ]
  },
  {
   "cell_type": "code",
   "execution_count": 43,
   "metadata": {
    "collapsed": false
   },
   "outputs": [
    {
     "name": "stderr",
     "output_type": "stream",
     "text": [
      "ERROR: Line magic function `%conda` not found.\n"
     ]
    }
   ],
   "source": [
    "%conda list"
   ]
  },
  {
   "cell_type": "code",
   "execution_count": 62,
   "metadata": {
    "collapsed": false
   },
   "outputs": [
    {
     "name": "stderr",
     "output_type": "stream",
     "text": [
      "ERROR: Cell magic `%%pip` not found.\n"
     ]
    }
   ],
   "source": [
    "%%pip list"
   ]
  },
  {
   "cell_type": "markdown",
   "metadata": {},
   "source": [
    "## see below how to really run bash stuff"
   ]
  },
  {
   "cell_type": "code",
   "execution_count": 45,
   "metadata": {
    "collapsed": false
   },
   "outputs": [
    {
     "data": {
      "application/json": {
       "cell": {
        "!": "OSMagics",
        "HTML": "Other",
        "SVG": "Other",
        "bash": "Other",
        "capture": "ExecutionMagics",
        "debug": "ExecutionMagics",
        "file": "Other",
        "html": "DisplayMagics",
        "javascript": "DisplayMagics",
        "latex": "DisplayMagics",
        "perl": "Other",
        "prun": "ExecutionMagics",
        "pypy": "Other",
        "python": "Other",
        "python2": "Other",
        "python3": "Other",
        "ruby": "Other",
        "script": "ScriptMagics",
        "sh": "Other",
        "svg": "DisplayMagics",
        "sx": "OSMagics",
        "system": "OSMagics",
        "time": "ExecutionMagics",
        "timeit": "ExecutionMagics",
        "writefile": "OSMagics"
       },
       "line": {
        "alias": "OSMagics",
        "alias_magic": "BasicMagics",
        "autocall": "AutoMagics",
        "automagic": "AutoMagics",
        "autosave": "KernelMagics",
        "bookmark": "OSMagics",
        "cat": "Other",
        "cd": "OSMagics",
        "clear": "KernelMagics",
        "colors": "BasicMagics",
        "config": "ConfigMagics",
        "connect_info": "KernelMagics",
        "cp": "Other",
        "debug": "ExecutionMagics",
        "dhist": "OSMagics",
        "dirs": "OSMagics",
        "doctest_mode": "BasicMagics",
        "ed": "Other",
        "edit": "KernelMagics",
        "env": "OSMagics",
        "gui": "BasicMagics",
        "hist": "Other",
        "history": "HistoryMagics",
        "install_default_config": "DeprecatedMagics",
        "install_ext": "ExtensionMagics",
        "install_profiles": "DeprecatedMagics",
        "killbgscripts": "ScriptMagics",
        "ldir": "Other",
        "less": "KernelMagics",
        "lf": "Other",
        "lk": "Other",
        "ll": "Other",
        "load": "CodeMagics",
        "load_ext": "ExtensionMagics",
        "loadpy": "CodeMagics",
        "logoff": "LoggingMagics",
        "logon": "LoggingMagics",
        "logstart": "LoggingMagics",
        "logstate": "LoggingMagics",
        "logstop": "LoggingMagics",
        "ls": "Other",
        "lsmagic": "BasicMagics",
        "lx": "Other",
        "macro": "ExecutionMagics",
        "magic": "BasicMagics",
        "man": "KernelMagics",
        "matplotlib": "PylabMagics",
        "mkdir": "Other",
        "more": "KernelMagics",
        "mv": "Other",
        "notebook": "BasicMagics",
        "page": "BasicMagics",
        "pastebin": "CodeMagics",
        "pdb": "ExecutionMagics",
        "pdef": "NamespaceMagics",
        "pdoc": "NamespaceMagics",
        "pfile": "NamespaceMagics",
        "pinfo": "NamespaceMagics",
        "pinfo2": "NamespaceMagics",
        "popd": "OSMagics",
        "pprint": "BasicMagics",
        "precision": "BasicMagics",
        "profile": "BasicMagics",
        "prun": "ExecutionMagics",
        "psearch": "NamespaceMagics",
        "psource": "NamespaceMagics",
        "pushd": "OSMagics",
        "pwd": "OSMagics",
        "pycat": "OSMagics",
        "pylab": "PylabMagics",
        "qtconsole": "KernelMagics",
        "quickref": "BasicMagics",
        "recall": "HistoryMagics",
        "rehashx": "OSMagics",
        "reload_ext": "ExtensionMagics",
        "rep": "Other",
        "rerun": "HistoryMagics",
        "reset": "NamespaceMagics",
        "reset_selective": "NamespaceMagics",
        "rm": "Other",
        "rmdir": "Other",
        "run": "ExecutionMagics",
        "save": "CodeMagics",
        "sc": "OSMagics",
        "set_env": "OSMagics",
        "store": "StoreMagics",
        "sx": "OSMagics",
        "system": "OSMagics",
        "tb": "ExecutionMagics",
        "time": "ExecutionMagics",
        "timeit": "ExecutionMagics",
        "unalias": "OSMagics",
        "unload_ext": "ExtensionMagics",
        "who": "NamespaceMagics",
        "who_ls": "NamespaceMagics",
        "whos": "NamespaceMagics",
        "xdel": "NamespaceMagics",
        "xmode": "BasicMagics"
       }
      },
      "text/plain": [
       "Available line magics:\n",
       "%alias  %alias_magic  %autocall  %automagic  %autosave  %bookmark  %cat  %cd  %clear  %colors  %config  %connect_info  %cp  %debug  %dhist  %dirs  %doctest_mode  %ed  %edit  %env  %gui  %hist  %history  %install_default_config  %install_ext  %install_profiles  %killbgscripts  %ldir  %less  %lf  %lk  %ll  %load  %load_ext  %loadpy  %logoff  %logon  %logstart  %logstate  %logstop  %ls  %lsmagic  %lx  %macro  %magic  %man  %matplotlib  %mkdir  %more  %mv  %notebook  %page  %pastebin  %pdb  %pdef  %pdoc  %pfile  %pinfo  %pinfo2  %popd  %pprint  %precision  %profile  %prun  %psearch  %psource  %pushd  %pwd  %pycat  %pylab  %qtconsole  %quickref  %recall  %rehashx  %reload_ext  %rep  %rerun  %reset  %reset_selective  %rm  %rmdir  %run  %save  %sc  %set_env  %store  %sx  %system  %tb  %time  %timeit  %unalias  %unload_ext  %who  %who_ls  %whos  %xdel  %xmode\n",
       "\n",
       "Available cell magics:\n",
       "%%!  %%HTML  %%SVG  %%bash  %%capture  %%debug  %%file  %%html  %%javascript  %%latex  %%perl  %%prun  %%pypy  %%python  %%python2  %%python3  %%ruby  %%script  %%sh  %%svg  %%sx  %%system  %%time  %%timeit  %%writefile\n",
       "\n",
       "Automagic is ON, % prefix IS NOT needed for line magics."
      ]
     },
     "execution_count": 45,
     "metadata": {},
     "output_type": "execute_result"
    }
   ],
   "source": [
    "%lsmagic"
   ]
  },
  {
   "cell_type": "code",
   "execution_count": 46,
   "metadata": {
    "collapsed": false
   },
   "outputs": [
    {
     "name": "stdout",
     "output_type": "stream",
     "text": [
      "README.md  testJupyterCorey.ipynb\r\n"
     ]
    }
   ],
   "source": [
    "ls"
   ]
  },
  {
   "cell_type": "code",
   "execution_count": 47,
   "metadata": {
    "collapsed": false
   },
   "outputs": [
    {
     "name": "stdout",
     "output_type": "stream",
     "text": [
      "total 48\r\n",
      "-rw-rw-r-- 1 tony tony   287 Aug 13 19:56 README.md\r\n",
      "-rw-rw-r-- 1 tony tony 43435 Aug 13 20:22 testJupyterCorey.ipynb\r\n"
     ]
    }
   ],
   "source": [
    "ls -l"
   ]
  },
  {
   "cell_type": "code",
   "execution_count": 48,
   "metadata": {
    "collapsed": false
   },
   "outputs": [],
   "source": [
    "%matplotlib inline"
   ]
  },
  {
   "cell_type": "code",
   "execution_count": 49,
   "metadata": {
    "collapsed": false
   },
   "outputs": [
    {
     "data": {
      "image/png": "[encoded data removed]",
      "text/plain": [
       "<matplotlib.figure.Figure at 0x7eff1ce796d8>"
      ]
     },
     "metadata": {},
     "output_type": "display_data"
    }
   ],
   "source": [
    "\"\"\"\n",
    "Simple Demo of a scatter plot from matplotlib\n",
    "\"\"\"\n",
    "\n",
    "import numpy as np\n",
    "import matplotlib.pyplot as plt\n",
    "\n",
    "N=50\n",
    "x = np.random.rand(N)\n",
    "y = np.random.rand(N)\n",
    "colors = np.random.rand(N)\n",
    "\n",
    "area = np.pi * (15 * np.random.rand(N))**2 # 0 to 15 point radiuses\n",
    "\n",
    "plt.scatter(x, y, s=area, c=colors ,alpha=0.5)\n",
    "plt.show()"
   ]
  },
  {
   "cell_type": "code",
   "execution_count": 51,
   "metadata": {
    "collapsed": false
   },
   "outputs": [
    {
     "data": {
      "text/html": [
       "<iframe width=\"560\" height=\"315\" src=\"https://www.youtube.com/embed/HW29067qVWk\" frameborder=\"0\" allowfullscreen></iframe>"
      ],
      "text/plain": [
       "<IPython.core.display.HTML object>"
      ]
     },
     "metadata": {},
     "output_type": "display_data"
    }
   ],
   "source": [
    "%%HTML\n",
    "<iframe width=\"560\" height=\"315\" src=\"https://www.youtube.com/embed/HW29067qVWk\" frameborder=\"0\" allowfullscreen></iframe>"
   ]
  },
  {
   "cell_type": "code",
   "execution_count": 57,
   "metadata": {
    "collapsed": false
   },
   "outputs": [
    {
     "name": "stdout",
     "output_type": "stream",
     "text": [
      "total 2460\n",
      "-rw-rw-r-- 1 tony tony     287 Aug 13 19:56 README.md\n",
      "-rw-rw-r-- 1 tony tony 2512628 Aug 13 20:28 testJupyterCorey.ipynb\n",
      "/home/tony/repos/mesaVerde/notebooks/training\n",
      "total 2460\n",
      "-rw-rw-r-- 1 tony tony     287 Aug 13 19:56 README.md\n",
      "-rw-rw-r-- 1 tony tony 2512628 Aug 13 20:28 testJupyterCorey.ipynb\n",
      "/home/tony/repos/mesaVerde/notebooks/training\n",
      "total 2460\n",
      "-rw-rw-r-- 1 tony tony     287 Aug 13 19:56 README.md\n",
      "-rw-rw-r-- 1 tony tony 2512628 Aug 13 20:28 testJupyterCorey.ipynb\n",
      "/home/tony/repos/mesaVerde/notebooks/training\n",
      "total 2460\n",
      "-rw-rw-r-- 1 tony tony     287 Aug 13 19:56 README.md\n",
      "-rw-rw-r-- 1 tony tony 2512628 Aug 13 20:28 testJupyterCorey.ipynb\n",
      "/home/tony/repos/mesaVerde/notebooks/training\n",
      "total 2460\n",
      "-rw-rw-r-- 1 tony tony     287 Aug 13 19:56 README.md\n",
      "-rw-rw-r-- 1 tony tony 2512628 Aug 13 20:28 testJupyterCorey.ipynb\n",
      "/home/tony/repos/mesaVerde/notebooks/training\n",
      "total 2460\n",
      "-rw-rw-r-- 1 tony tony     287 Aug 13 19:56 README.md\n",
      "-rw-rw-r-- 1 tony tony 2512628 Aug 13 20:28 testJupyterCorey.ipynb\n",
      "/home/tony/repos/mesaVerde/notebooks/training\n",
      "total 2460\n",
      "-rw-rw-r-- 1 tony tony     287 Aug 13 19:56 README.md\n",
      "-rw-rw-r-- 1 tony tony 2512628 Aug 13 20:28 testJupyterCorey.ipynb\n",
      "/home/tony/repos/mesaVerde/notebooks/training\n",
      "total 2460\n",
      "-rw-rw-r-- 1 tony tony     287 Aug 13 19:56 README.md\n",
      "-rw-rw-r-- 1 tony tony 2512628 Aug 13 20:28 testJupyterCorey.ipynb\n",
      "/home/tony/repos/mesaVerde/notebooks/training\n",
      "total 2460\n",
      "-rw-rw-r-- 1 tony tony     287 Aug 13 19:56 README.md\n",
      "-rw-rw-r-- 1 tony tony 2512628 Aug 13 20:28 testJupyterCorey.ipynb\n",
      "/home/tony/repos/mesaVerde/notebooks/training\n",
      "total 2460\n",
      "-rw-rw-r-- 1 tony tony     287 Aug 13 19:56 README.md\n",
      "-rw-rw-r-- 1 tony tony 2512628 Aug 13 20:28 testJupyterCorey.ipynb\n",
      "/home/tony/repos/mesaVerde/notebooks/training\n",
      "total 2460\n",
      "-rw-rw-r-- 1 tony tony     287 Aug 13 19:56 README.md\n",
      "-rw-rw-r-- 1 tony tony 2512628 Aug 13 20:28 testJupyterCorey.ipynb\n",
      "/home/tony/repos/mesaVerde/notebooks/training\n",
      "total 2460\n",
      "-rw-rw-r-- 1 tony tony     287 Aug 13 19:56 README.md\n",
      "-rw-rw-r-- 1 tony tony 2512628 Aug 13 20:28 testJupyterCorey.ipynb\n",
      "/home/tony/repos/mesaVerde/notebooks/training\n",
      "total 2460\n",
      "-rw-rw-r-- 1 tony tony     287 Aug 13 19:56 README.md\n",
      "-rw-rw-r-- 1 tony tony 2512628 Aug 13 20:28 testJupyterCorey.ipynb\n",
      "/home/tony/repos/mesaVerde/notebooks/training\n",
      "total 2460\n",
      "-rw-rw-r-- 1 tony tony     287 Aug 13 19:56 README.md\n",
      "-rw-rw-r-- 1 tony tony 2512628 Aug 13 20:28 testJupyterCorey.ipynb\n",
      "/home/tony/repos/mesaVerde/notebooks/training\n",
      "total 2460\n",
      "-rw-rw-r-- 1 tony tony     287 Aug 13 19:56 README.md\n",
      "-rw-rw-r-- 1 tony tony 2512628 Aug 13 20:28 testJupyterCorey.ipynb\n",
      "/home/tony/repos/mesaVerde/notebooks/training\n",
      "total 2460\n",
      "-rw-rw-r-- 1 tony tony     287 Aug 13 19:56 README.md\n",
      "-rw-rw-r-- 1 tony tony 2512628 Aug 13 20:28 testJupyterCorey.ipynb\n",
      "/home/tony/repos/mesaVerde/notebooks/training\n",
      "total 2460\n",
      "-rw-rw-r-- 1 tony tony     287 Aug 13 19:56 README.md\n",
      "-rw-rw-r-- 1 tony tony 2512628 Aug 13 20:28 testJupyterCorey.ipynb\n",
      "/home/tony/repos/mesaVerde/notebooks/training\n",
      "total 2460\n",
      "-rw-rw-r-- 1 tony tony     287 Aug 13 19:56 README.md\n",
      "-rw-rw-r-- 1 tony tony 2512628 Aug 13 20:28 testJupyterCorey.ipynb\n",
      "/home/tony/repos/mesaVerde/notebooks/training\n",
      "total 2460\n",
      "-rw-rw-r-- 1 tony tony     287 Aug 13 19:56 README.md\n",
      "-rw-rw-r-- 1 tony tony 2512628 Aug 13 20:28 testJupyterCorey.ipynb\n",
      "/home/tony/repos/mesaVerde/notebooks/training\n",
      "total 2460\n",
      "-rw-rw-r-- 1 tony tony     287 Aug 13 19:56 README.md\n",
      "-rw-rw-r-- 1 tony tony 2512628 Aug 13 20:28 testJupyterCorey.ipynb\n",
      "/home/tony/repos/mesaVerde/notebooks/training\n",
      "total 2460\n",
      "-rw-rw-r-- 1 tony tony     287 Aug 13 19:56 README.md\n",
      "-rw-rw-r-- 1 tony tony 2512628 Aug 13 20:28 testJupyterCorey.ipynb\n",
      "/home/tony/repos/mesaVerde/notebooks/training\n",
      "total 2460\n",
      "-rw-rw-r-- 1 tony tony     287 Aug 13 19:56 README.md\n",
      "-rw-rw-r-- 1 tony tony 2512628 Aug 13 20:28 testJupyterCorey.ipynb\n",
      "/home/tony/repos/mesaVerde/notebooks/training\n",
      "total 2460\n",
      "-rw-rw-r-- 1 tony tony     287 Aug 13 19:56 README.md\n",
      "-rw-rw-r-- 1 tony tony 2512628 Aug 13 20:28 testJupyterCorey.ipynb\n",
      "/home/tony/repos/mesaVerde/notebooks/training\n",
      "total 2460\n",
      "-rw-rw-r-- 1 tony tony     287 Aug 13 19:56 README.md\n",
      "-rw-rw-r-- 1 tony tony 2512628 Aug 13 20:28 testJupyterCorey.ipynb\n",
      "/home/tony/repos/mesaVerde/notebooks/training\n",
      "total 2460\n",
      "-rw-rw-r-- 1 tony tony     287 Aug 13 19:56 README.md\n",
      "-rw-rw-r-- 1 tony tony 2512628 Aug 13 20:28 testJupyterCorey.ipynb\n",
      "/home/tony/repos/mesaVerde/notebooks/training\n",
      "total 2460\n",
      "-rw-rw-r-- 1 tony tony     287 Aug 13 19:56 README.md\n",
      "-rw-rw-r-- 1 tony tony 2512628 Aug 13 20:28 testJupyterCorey.ipynb\n",
      "/home/tony/repos/mesaVerde/notebooks/training\n",
      "total 2460\n",
      "-rw-rw-r-- 1 tony tony     287 Aug 13 19:56 README.md\n",
      "-rw-rw-r-- 1 tony tony 2512628 Aug 13 20:28 testJupyterCorey.ipynb\n",
      "/home/tony/repos/mesaVerde/notebooks/training\n",
      "total 2460\n",
      "-rw-rw-r-- 1 tony tony     287 Aug 13 19:56 README.md\n",
      "-rw-rw-r-- 1 tony tony 2512628 Aug 13 20:28 testJupyterCorey.ipynb\n",
      "/home/tony/repos/mesaVerde/notebooks/training\n",
      "total 2460\n",
      "-rw-rw-r-- 1 tony tony     287 Aug 13 19:56 README.md\n",
      "-rw-rw-r-- 1 tony tony 2512628 Aug 13 20:28 testJupyterCorey.ipynb\n",
      "/home/tony/repos/mesaVerde/notebooks/training\n",
      "total 2460\n",
      "-rw-rw-r-- 1 tony tony     287 Aug 13 19:56 README.md\n",
      "-rw-rw-r-- 1 tony tony 2512628 Aug 13 20:28 testJupyterCorey.ipynb\n",
      "/home/tony/repos/mesaVerde/notebooks/training\n",
      "total 2460\n",
      "-rw-rw-r-- 1 tony tony     287 Aug 13 19:56 README.md\n",
      "-rw-rw-r-- 1 tony tony 2512628 Aug 13 20:28 testJupyterCorey.ipynb\n",
      "/home/tony/repos/mesaVerde/notebooks/training\n",
      "total 2460\n",
      "-rw-rw-r-- 1 tony tony     287 Aug 13 19:56 README.md\n",
      "-rw-rw-r-- 1 tony tony 2512628 Aug 13 20:28 testJupyterCorey.ipynb\n",
      "/home/tony/repos/mesaVerde/notebooks/training\n",
      "total 2460\n",
      "-rw-rw-r-- 1 tony tony     287 Aug 13 19:56 README.md\n",
      "-rw-rw-r-- 1 tony tony 2512628 Aug 13 20:28 testJupyterCorey.ipynb\n",
      "/home/tony/repos/mesaVerde/notebooks/training\n",
      "total 2460\n",
      "-rw-rw-r-- 1 tony tony     287 Aug 13 19:56 README.md\n",
      "-rw-rw-r-- 1 tony tony 2512628 Aug 13 20:28 testJupyterCorey.ipynb\n",
      "/home/tony/repos/mesaVerde/notebooks/training\n",
      "total 2460\n",
      "-rw-rw-r-- 1 tony tony     287 Aug 13 19:56 README.md\n",
      "-rw-rw-r-- 1 tony tony 2512628 Aug 13 20:28 testJupyterCorey.ipynb\n",
      "/home/tony/repos/mesaVerde/notebooks/training\n",
      "total 2460\n",
      "-rw-rw-r-- 1 tony tony     287 Aug 13 19:56 README.md\n",
      "-rw-rw-r-- 1 tony tony 2512628 Aug 13 20:28 testJupyterCorey.ipynb\n",
      "/home/tony/repos/mesaVerde/notebooks/training\n",
      "total 2460\n",
      "-rw-rw-r-- 1 tony tony     287 Aug 13 19:56 README.md\n",
      "-rw-rw-r-- 1 tony tony 2512628 Aug 13 20:28 testJupyterCorey.ipynb\n",
      "/home/tony/repos/mesaVerde/notebooks/training\n",
      "total 2460\n",
      "-rw-rw-r-- 1 tony tony     287 Aug 13 19:56 README.md\n",
      "-rw-rw-r-- 1 tony tony 2512628 Aug 13 20:28 testJupyterCorey.ipynb\n",
      "/home/tony/repos/mesaVerde/notebooks/training\n",
      "total 2460\n",
      "-rw-rw-r-- 1 tony tony     287 Aug 13 19:56 README.md\n",
      "-rw-rw-r-- 1 tony tony 2512628 Aug 13 20:28 testJupyterCorey.ipynb\n",
      "/home/tony/repos/mesaVerde/notebooks/training\n",
      "total 2460\n",
      "-rw-rw-r-- 1 tony tony     287 Aug 13 19:56 README.md\n",
      "-rw-rw-r-- 1 tony tony 2512628 Aug 13 20:28 testJupyterCorey.ipynb\n",
      "/home/tony/repos/mesaVerde/notebooks/training\n",
      "total 2460\n",
      "-rw-rw-r-- 1 tony tony     287 Aug 13 19:56 README.md\n",
      "-rw-rw-r-- 1 tony tony 2512628 Aug 13 20:28 testJupyterCorey.ipynb\n",
      "/home/tony/repos/mesaVerde/notebooks/training\n",
      "10 loops, best of 3: 27.6 ms per loop\n"
     ]
    }
   ],
   "source": [
    "%%timeit\n",
    "%%bash\n",
    "ls -l\n",
    "pwd\n",
    "exit"
   ]
  },
  {
   "cell_type": "code",
   "execution_count": 58,
   "metadata": {
    "collapsed": false
   },
   "outputs": [
    {
     "name": "stdout",
     "output_type": "stream",
     "text": [
      "# packages in environment at /home/tony/anaconda3:\n",
      "#\n",
      "alabaster                 0.7.7                    py35_0  \n",
      "anaconda                  4.0.0               np110py35_0  \n",
      "anaconda-client           1.4.0                    py35_0  \n",
      "anaconda-navigator        1.1.0                    py35_0  \n",
      "argcomplete               1.0.0                    py35_1  \n",
      "astropy                   1.1.2               np110py35_0  \n",
      "babel                     2.2.0                    py35_0  \n",
      "beautifulsoup4            4.4.1                    py35_0  \n",
      "bitarray                  0.8.1                    py35_0  \n",
      "blaze                     0.9.1                    py35_0  \n",
      "bokeh                     0.11.1                   py35_0  \n",
      "boto                      2.39.0                   py35_0  \n",
      "bottleneck                1.0.0               np110py35_0  \n",
      "cffi                      1.5.2                    py35_0  \n",
      "chest                     0.2.3                    py35_0  \n",
      "cloudpickle               0.1.1                    py35_0  \n",
      "clyent                    1.2.1                    py35_0  \n",
      "colorama                  0.3.7                    py35_0  \n",
      "conda                     4.0.5                    py35_0  \n",
      "conda-build               1.20.0                   py35_0  \n",
      "conda-env                 2.4.5                    py35_0  \n",
      "conda-manager             0.3.1                    py35_0  \n",
      "configobj                 5.0.6                    py35_0  \n",
      "cryptography              1.3                      py35_0  \n",
      "curl                      7.45.0                        0  \n",
      "cycler                    0.10.0                   py35_0  \n",
      "cython                    0.23.4                   py35_0  \n",
      "cytoolz                   0.7.5                    py35_0  \n",
      "dask                      0.8.1                    py35_0  \n",
      "datashape                 0.5.1                    py35_0  \n",
      "decorator                 4.0.9                    py35_0  \n",
      "dill                      0.2.4                    py35_0  \n",
      "docutils                  0.12                     py35_0  \n",
      "dynd                      0.7.3.dev1                <pip>\n",
      "dynd-python               0.7.2                    py35_0  \n",
      "et-xmlfile                1.0.1                     <pip>\n",
      "et_xmlfile                1.0.1                    py35_0  \n",
      "fastcache                 1.0.2                    py35_0  \n",
      "flask                     0.10.1                   py35_1  \n",
      "flask-cors                2.1.2                    py35_0  \n",
      "fontconfig                2.11.1                        5  \n",
      "freetype                  2.5.5                         0  \n",
      "gevent                    1.1.0                    py35_0  \n",
      "greenlet                  0.4.9                    py35_0  \n",
      "h5py                      2.5.0               np110py35_4  \n",
      "hdf5                      1.8.15.1                      2  \n",
      "heapdict                  1.0.0                    py35_0  \n",
      "idna                      2.0                      py35_0  \n",
      "ipykernel                 4.3.1                    py35_0  \n",
      "ipython                   4.1.2                    py35_1  \n",
      "ipython-genutils          0.1.0                     <pip>\n",
      "ipython_genutils          0.1.0                    py35_0  \n",
      "ipywidgets                4.1.1                    py35_0  \n",
      "itsdangerous              0.24                     py35_0  \n",
      "jbig                      2.1                           0  \n",
      "jdcal                     1.2                      py35_0  \n",
      "jedi                      0.9.0                    py35_0  \n",
      "jinja2                    2.8                      py35_0  \n",
      "jpeg                      8d                            0  \n",
      "jsonschema                2.4.0                    py35_0  \n",
      "jupyter                   1.0.0                    py35_2  \n",
      "jupyter-client            4.2.2                     <pip>\n",
      "jupyter-console           4.1.1                     <pip>\n",
      "jupyter-core              4.1.0                     <pip>\n",
      "jupyter_client            4.2.2                    py35_0  \n",
      "jupyter_console           4.1.1                    py35_0  \n",
      "jupyter_core              4.1.0                    py35_0  \n",
      "libdynd                   0.7.2                         0  \n",
      "libffi                    3.0.13                        0  \n",
      "libgfortran               3.0                           0  \n",
      "libpng                    1.6.17                        0  \n",
      "libsodium                 1.0.3                         0  \n",
      "libtiff                   4.0.6                         1  \n",
      "libxml2                   2.9.2                         0  \n",
      "libxslt                   1.1.28                        0  \n",
      "llvmlite                  0.9.0                    py35_0  \n",
      "locket                    0.2.0                    py35_0  \n",
      "lxml                      3.6.0                    py35_0  \n",
      "markupsafe                0.23                     py35_0  \n",
      "matplotlib                1.5.1               np110py35_0  \n",
      "mistune                   0.7.2                    py35_0  \n",
      "mkl                       11.3.1                        0  \n",
      "mkl-service               1.1.2                    py35_0  \n",
      "mpmath                    0.19                     py35_0  \n",
      "multipledispatch          0.4.8                    py35_0  \n",
      "nbconvert                 4.1.0                    py35_0  \n",
      "nbformat                  4.0.1                    py35_0  \n",
      "networkx                  1.11                     py35_0  \n",
      "nltk                      3.2                      py35_0  \n",
      "nose                      1.3.7                    py35_0  \n",
      "notebook                  4.1.0                    py35_1  \n",
      "numba                     0.24.0              np110py35_0  \n",
      "numexpr                   2.5                 np110py35_0  \n",
      "numpy                     1.10.4                   py35_1  \n",
      "odo                       0.4.2                    py35_0  \n",
      "openpyxl                  2.3.2                    py35_0  \n",
      "openssl                   1.0.2g                        0  \n",
      "pandas                    0.18.0              np110py35_0  \n",
      "partd                     0.3.2                    py35_1  \n",
      "patchelf                  0.8                           0  \n",
      "path.py                   8.1.2                    py35_1  \n",
      "patsy                     0.4.0               np110py35_0  \n",
      "pep8                      1.7.0                    py35_0  \n",
      "pexpect                   4.0.1                    py35_0  \n",
      "pickleshare               0.5                      py35_0  \n",
      "pillow                    3.1.1                    py35_0  \n",
      "pip                       8.1.1                    py35_1  \n",
      "ply                       3.8                      py35_0  \n",
      "psutil                    4.1.0                    py35_0  \n",
      "ptyprocess                0.5                      py35_0  \n",
      "py                        1.4.31                   py35_0  \n",
      "pyasn1                    0.1.9                    py35_0  \n",
      "pycosat                   0.6.1                    py35_0  \n",
      "pycparser                 2.14                     py35_0  \n",
      "pycrypto                  2.6.1                    py35_0  \n",
      "pycurl                    7.19.5.3                 py35_0  \n",
      "pyflakes                  1.1.0                    py35_0  \n",
      "pygments                  2.1.1                    py35_0  \n",
      "pyopenssl                 0.15.1                   py35_2  \n",
      "pyparsing                 2.0.3                    py35_0  \n",
      "pyqt                      4.11.4                   py35_1  \n",
      "pytables                  3.2.2               np110py35_1  \n",
      "pytest                    2.8.5                    py35_0  \n",
      "python                    3.5.1                         0  \n",
      "python-dateutil           2.5.1                    py35_0  \n",
      "pytz                      2016.2                   py35_0  \n",
      "pyyaml                    3.11                     py35_1  \n",
      "pyzmq                     15.2.0                   py35_0  \n",
      "qt                        4.8.7                         1  \n",
      "qtawesome                 0.3.2                    py35_0  \n",
      "qtconsole                 4.2.0                    py35_0  \n",
      "qtpy                      1.0                      py35_0  \n",
      "readline                  6.2                           2  \n",
      "redis                     2.6.9                         0  \n",
      "redis-py                  2.10.3                   py35_0  \n",
      "requests                  2.9.1                    py35_0  \n",
      "rope                      0.9.4                    py35_1  \n",
      "rope-py3k                 0.9.4.post1               <pip>\n",
      "scikit-image              0.12.3              np110py35_0  \n",
      "scikit-learn              0.17.1              np110py35_0  \n",
      "scipy                     0.17.0              np110py35_2  \n",
      "setuptools                20.3                     py35_0  \n",
      "simplegeneric             0.8.1                    py35_0  \n",
      "singledispatch            3.4.0.3                  py35_0  \n",
      "sip                       4.16.9                   py35_0  \n",
      "six                       1.10.0                   py35_0  \n",
      "snowballstemmer           1.2.1                    py35_0  \n",
      "sockjs-tornado            1.0.1                    py35_0  \n",
      "sphinx                    1.3.5                    py35_0  \n",
      "sphinx-rtd-theme          0.1.9                     <pip>\n",
      "sphinx_rtd_theme          0.1.9                    py35_0  \n",
      "spyder                    2.3.8                    py35_1  \n",
      "sqlalchemy                1.0.12                   py35_0  \n",
      "sqlite                    3.9.2                         0  \n",
      "statsmodels               0.6.1               np110py35_0  \n",
      "sympy                     1.0                      py35_0  \n",
      "tables                    3.2.2                     <pip>\n",
      "terminado                 0.5                      py35_1  \n",
      "tk                        8.5.18                        0  \n",
      "toolz                     0.7.4                    py35_0  \n",
      "tornado                   4.3                      py35_0  \n",
      "traitlets                 4.2.1                    py35_0  \n",
      "unicodecsv                0.14.1                   py35_0  \n",
      "util-linux                2.21                          0  \n",
      "werkzeug                  0.11.4                   py35_0  \n",
      "wheel                     0.29.0                   py35_0  \n",
      "xlrd                      0.9.4                    py35_0  \n",
      "xlsxwriter                0.8.4                    py35_0  \n",
      "xlwt                      1.0.0                    py35_0  \n",
      "xz                        5.0.5                         1  \n",
      "yaml                      0.1.6                         0  \n",
      "zeromq                    4.1.3                         0  \n",
      "zlib                      1.2.8                         0  \n"
     ]
    }
   ],
   "source": [
    "%%bash\n",
    "conda list"
   ]
  },
  {
   "cell_type": "code",
   "execution_count": 59,
   "metadata": {
    "collapsed": false
   },
   "outputs": [
    {
     "name": "stdout",
     "output_type": "stream",
     "text": [
      "alabaster (0.7.7)\n",
      "anaconda-client (1.4.0)\n",
      "anaconda-navigator (1.1.0)\n",
      "argcomplete (1.0.0)\n",
      "astropy (1.1.2)\n",
      "Babel (2.2.0)\n",
      "beautifulsoup4 (4.4.1)\n",
      "bitarray (0.8.1)\n",
      "blaze (0.9.1)\n",
      "bokeh (0.11.1)\n",
      "boto (2.39.0)\n",
      "Bottleneck (1.0.0)\n",
      "cffi (1.5.2)\n",
      "chest (0.2.3)\n",
      "cloudpickle (0.1.1)\n",
      "clyent (1.2.1)\n",
      "colorama (0.3.7)\n",
      "conda (4.0.5)\n",
      "conda-build (1.20.0)\n",
      "conda-env (2.4.5)\n",
      "conda-manager (0.3.1)\n",
      "configobj (5.0.6)\n",
      "cryptography (1.3)\n",
      "cycler (0.10.0)\n",
      "Cython (0.23.4)\n",
      "cytoolz (0.7.5)\n",
      "dask (0.8.1)\n",
      "datashape (0.5.1)\n",
      "decorator (4.0.9)\n",
      "dill (0.2.4)\n",
      "docutils (0.12)\n",
      "dynd (0.7.3.dev1)\n",
      "et-xmlfile (1.0.1)\n",
      "fastcache (1.0.2)\n",
      "Flask (0.10.1)\n",
      "Flask-Cors (2.1.2)\n",
      "gevent (1.1.0)\n",
      "greenlet (0.4.9)\n",
      "h5py (2.5.0)\n",
      "HeapDict (1.0.0)\n",
      "idna (2.0)\n",
      "ipykernel (4.3.1)\n",
      "ipython (4.1.2)\n",
      "ipython-genutils (0.1.0)\n",
      "ipywidgets (4.1.1)\n",
      "itsdangerous (0.24)\n",
      "jdcal (1.2)\n",
      "jedi (0.9.0)\n",
      "Jinja2 (2.8)\n",
      "jsonschema (2.4.0)\n",
      "jupyter (1.0.0)\n",
      "jupyter-client (4.2.2)\n",
      "jupyter-console (4.1.1)\n",
      "jupyter-core (4.1.0)\n",
      "llvmlite (0.9.0)\n",
      "locket (0.2.0)\n",
      "lxml (3.6.0)\n",
      "MarkupSafe (0.23)\n",
      "matplotlib (1.5.1)\n",
      "mistune (0.7.2)\n",
      "mpmath (0.19)\n",
      "multipledispatch (0.4.8)\n",
      "nbconvert (4.1.0)\n",
      "nbformat (4.0.1)\n",
      "networkx (1.11)\n",
      "nltk (3.2)\n",
      "nose (1.3.7)\n",
      "notebook (4.1.0)\n",
      "numba (0.24.0)\n",
      "numexpr (2.5)\n",
      "numpy (1.10.4)\n",
      "odo (0.4.2)\n",
      "openpyxl (2.3.2)\n",
      "pandas (0.18.0)\n",
      "partd (0.3.2)\n",
      "path.py (0.0.0)\n",
      "patsy (0.4.0)\n",
      "pep8 (1.7.0)\n",
      "pexpect (4.0.1)\n",
      "pickleshare (0.5)\n",
      "Pillow (3.1.1)\n",
      "pip (8.1.1)\n",
      "ply (3.8)\n",
      "psutil (4.1.0)\n",
      "ptyprocess (0.5)\n",
      "py (1.4.31)\n",
      "pyasn1 (0.1.9)\n",
      "pycosat (0.6.1)\n",
      "pycparser (2.14)\n",
      "pycrypto (2.6.1)\n",
      "pycurl (7.19.5.3)\n",
      "pyflakes (1.1.0)\n",
      "Pygments (2.1.1)\n",
      "pyOpenSSL (0.15.1)\n",
      "pyparsing (2.0.3)\n",
      "pytest (2.8.5)\n",
      "python-dateutil (2.5.1)\n",
      "pytz (2016.2)\n",
      "PyYAML (3.11)\n",
      "pyzmq (15.2.0)\n",
      "QtAwesome (0.3.2)\n",
      "qtconsole (4.2.0)\n",
      "QtPy (1.0)\n",
      "redis (2.10.3)\n",
      "requests (2.9.1)\n",
      "rope-py3k (0.9.4.post1)\n",
      "scikit-image (0.12.3)\n",
      "scikit-learn (0.17.1)\n",
      "scipy (0.17.0)\n",
      "setuptools (20.3)\n",
      "simplegeneric (0.8.1)\n",
      "singledispatch (3.4.0.3)\n",
      "six (1.10.0)\n",
      "snowballstemmer (1.2.1)\n",
      "sockjs-tornado (1.0.1)\n",
      "Sphinx (1.3.5)\n",
      "sphinx-rtd-theme (0.1.9)\n",
      "spyder (2.3.8)\n",
      "SQLAlchemy (1.0.12)\n",
      "statsmodels (0.6.1)\n",
      "sympy (1.0)\n",
      "tables (3.2.2)\n",
      "terminado (0.5)\n",
      "toolz (0.7.4)\n",
      "tornado (4.3)\n",
      "traitlets (4.2.1)\n",
      "unicodecsv (0.14.1)\n",
      "Werkzeug (0.11.4)\n",
      "wheel (0.29.0)\n",
      "xlrd (0.9.4)\n",
      "XlsxWriter (0.8.4)\n",
      "xlwt (1.0.0)\n"
     ]
    },
    {
     "name": "stderr",
     "output_type": "stream",
     "text": [
      "You are using pip version 8.1.1, however version 9.0.1 is available.\n",
      "You should consider upgrading via the 'pip install --upgrade pip' command.\n"
     ]
    }
   ],
   "source": [
    "%%bash\n",
    "pip list"
   ]
  },
  {
   "cell_type": "markdown",
   "metadata": {},
   "source": [
    "## Do a google search\n",
    "- trapazoid role notebook smaple notebooks\n",
    "- search for jupyter galleries for example notebooks\n",
    "\n",
    "# THE END"
   ]
  },
  {
   "cell_type": "code",
   "execution_count": null,
   "metadata": {
    "collapsed": true
   },
   "outputs": [],
   "source": []
  }
 ],
 "metadata": {
  "kernelspec": {
   "display_name": "Python 3",
   "language": "python",
   "name": "python3"
  },
  "language_info": {
   "codemirror_mode": {
    "name": "ipython",
    "version": 3
   },
   "file_extension": ".py",
   "mimetype": "text/x-python",
   "name": "python",
   "nbconvert_exporter": "python",
   "pygments_lexer": "ipython3",
   "version": "3.5.1"
  }
 },
 "nbformat": 4,
 "nbformat_minor": 0
}
