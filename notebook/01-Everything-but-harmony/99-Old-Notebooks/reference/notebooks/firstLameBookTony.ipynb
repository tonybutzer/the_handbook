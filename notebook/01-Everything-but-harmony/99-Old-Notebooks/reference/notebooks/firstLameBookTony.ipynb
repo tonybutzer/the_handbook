{
 "cells": [
  {
   "cell_type": "markdown",
   "metadata": {},
   "source": [
    " ## First notebook^M\n",
    "^M\n",
    "- watch this video - excellent \n",
    "^M\n",
    "https://www.youtube.com/watch?v=HW29067qVWk\n",
    "comment = http://ask.xmodulo.com/fix-broken-x11-forwarding-ssh.html^M\n",
    "^M\n",
    "x11 forwarding^M\n",
    "^M\n",
    "systemctl restart ssh\n",
    "Operation done successfully\n",
    "- actually my first\n",
    "- i have more to do; so be patient"
   ]
  },
  {
   "cell_type": "markdown",
   "metadata": {},
   "source": [
    "### This is more markdown\n",
    "```\n",
    "this would be code\n",
    "for i in {1..100}; do echo $i; done\n",
    "```\n",
    "\n",
    "- hi level 1\n",
    "   - level two"
   ]
  },
  {
   "cell_type": "code",
   "execution_count": 4,
   "metadata": {
    "collapsed": false,
    "jupyter": {
     "outputs_hidden": false
    }
   },
   "outputs": [
    {
     "name": "stdout",
     "output_type": "stream",
     "text": [
      "hello world\n"
     ]
    }
   ],
   "source": [
    "print (\"hello world\")"
   ]
  },
  {
   "cell_type": "code",
   "execution_count": 5,
   "metadata": {
    "collapsed": false,
    "jupyter": {
     "outputs_hidden": false
    }
   },
   "outputs": [
    {
     "data": {
      "text/plain": [
       "'tony butzer'"
      ]
     },
     "execution_count": 5,
     "metadata": {},
     "output_type": "execute_result"
    }
   ],
   "source": [
    "nam='tony butzer'\n",
    "nam\n"
   ]
  }
 ],
 "metadata": {
  "kernelspec": {
   "display_name": "Python 3",
   "language": "python",
   "name": "python3"
  },
  "language_info": {
   "codemirror_mode": {
    "name": "ipython",
    "version": 3
   },
   "file_extension": ".py",
   "mimetype": "text/x-python",
   "name": "python",
   "nbconvert_exporter": "python",
   "pygments_lexer": "ipython3",
   "version": "3.6.8"
  }
 },
 "nbformat": 4,
 "nbformat_minor": 4
}
