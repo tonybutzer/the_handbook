{
 "cells": [
  {
   "cell_type": "code",
   "execution_count": 8,
   "metadata": {},
   "outputs": [
    {
     "name": "stdout",
     "output_type": "stream",
     "text": [
      "Driver: GTiff/GeoTIFF\n",
      "Files: /vsis3/ga-odc-eros-un3-west/exp/h03v03/LC08_CU_003003_20130414_20170713_C01_V01/SR/LC08_CU_003003_20130414_20170713_C01_V01_SRB2.tif\n",
      "Size is 5000, 5000\n",
      "Coordinate System is:\n",
      "PROJCS[\"Albers\",\n",
      "    GEOGCS[\"WGS 84\",\n",
      "        DATUM[\"WGS_1984\",\n",
      "            SPHEROID[\"WGS 84\",6378140,298.2569999999957,\n",
      "                AUTHORITY[\"EPSG\",\"7030\"]],\n",
      "            AUTHORITY[\"EPSG\",\"6326\"]],\n",
      "        PRIMEM[\"Greenwich\",0],\n",
      "        UNIT[\"degree\",0.0174532925199433],\n",
      "        AUTHORITY[\"EPSG\",\"4326\"]],\n",
      "    PROJECTION[\"Albers_Conic_Equal_Area\"],\n",
      "    PARAMETER[\"standard_parallel_1\",29.5],\n",
      "    PARAMETER[\"standard_parallel_2\",45.5],\n",
      "    PARAMETER[\"latitude_of_center\",23],\n",
      "    PARAMETER[\"longitude_of_center\",-96],\n",
      "    PARAMETER[\"false_easting\",0],\n",
      "    PARAMETER[\"false_northing\",0],\n",
      "    UNIT[\"metre\",1,\n",
      "        AUTHORITY[\"EPSG\",\"9001\"]]]\n",
      "Origin = (-2115585.000000000000000,2864805.000000000000000)\n",
      "Pixel Size = (30.000000000000000,-30.000000000000000)\n",
      "Metadata:\n",
      "  AREA_OR_POINT=Area\n",
      "  Band_1=band 2 surface reflectance\n",
      "Image Structure Metadata:\n",
      "  COMPRESSION=DEFLATE\n",
      "  INTERLEAVE=BAND\n",
      "Corner Coordinates:\n",
      "Upper Left  (-2115585.000, 2864805.000) (123d39'10.66\"W, 45d58'53.70\"N)\n",
      "Lower Left  (-2115585.000, 2714805.000) (123d 6'32.29\"W, 44d41'17.09\"N)\n",
      "Upper Right (-1965585.000, 2864805.000) (121d47'25.73\"W, 46d21'24.46\"N)\n",
      "Lower Right (-1965585.000, 2714805.000) (121d16'45.91\"W, 45d 3'17.45\"N)\n",
      "Center      (-2040585.000, 2789805.000) (122d27'28.65\"W, 45d31'23.33\"N)\n",
      "Band 1 Block=256x256 Type=Int16, ColorInterp=Gray\n",
      "  Description = band 2 surface reflectance\n",
      "  NoData Value=-9999\n"
     ]
    },
    {
     "name": "stderr",
     "output_type": "stream",
     "text": [
      "GNM: GNMRegisterAllInternal\n",
      "GNM: RegisterGNMFile\n",
      "GNM: RegisterGNMdatabase\n",
      "VSICURL: Downloading 0-16383 (https://ga-odc-eros-un3-west.s3.amazonaws.com/exp/h03v03/LC08_CU_003003_20130414_20170713_C01_V01/SR/LC08_CU_003003_20130414_20170713_C01_V01_SRB2.tif)...\n",
      "VSICURL: Got response_code=400\n",
      "S3: Switching to region us-west-2\n",
      "VSICURL: Downloading 0-16383 (https://ga-odc-eros-un3-west.s3.amazonaws.com/exp/h03v03/LC08_CU_003003_20130414_20170713_C01_V01/SR/LC08_CU_003003_20130414_20170713_C01_V01_SRB2.tif)...\n",
      "VSICURL: Got response_code=206\n",
      "VSICURL: GetFileSize(https://ga-odc-eros-un3-west.s3.amazonaws.com/exp/h03v03/LC08_CU_003003_20130414_20170713_C01_V01/SR/LC08_CU_003003_20130414_20170713_C01_V01_SRB2.tif)=38523848  response_code=206\n",
      "VSICURL: Downloading 38518784-38523847 (https://ga-odc-eros-un3-west.s3.amazonaws.com/exp/h03v03/LC08_CU_003003_20130414_20170713_C01_V01/SR/LC08_CU_003003_20130414_20170713_C01_V01_SRB2.tif)...\n",
      "VSICURL: Got response_code=206\n",
      "GDAL: GDALOpen(/vsis3/ga-odc-eros-un3-west/exp/h03v03/LC08_CU_003003_20130414_20170713_C01_V01/SR/LC08_CU_003003_20130414_20170713_C01_V01_SRB2.tif, this=0x22d4190) succeeds as GTiff.\n",
      "GDAL: GDALDefaultOverviews::OverviewScan()\n",
      "OGRCT: PROJ >= 4.8.0 features enabled\n",
      "OGRCT: Using locale-safe proj version\n",
      "OGRCT: Source: +proj=aea +lat_1=29.5 +lat_2=45.5 +lat_0=23 +lon_0=-96 +x_0=0 +y_0=0 +datum=WGS84 +units=m +no_defs\n",
      "OGRCT: Target: +proj=longlat +datum=WGS84 +no_defs\n",
      "GDAL: GDALClose(/vsis3/ga-odc-eros-un3-west/exp/h03v03/LC08_CU_003003_20130414_20170713_C01_V01/SR/LC08_CU_003003_20130414_20170713_C01_V01_SRB2.tif, this=0x22d4190)\n",
      "\n",
      "real\t0m0.690s\n",
      "user\t0m0.120s\n",
      "sys\t0m0.008s\n"
     ]
    }
   ],
   "source": [
    "%%bash\n",
    "source ~/.aws/sourceMeForVSIS3.src\n",
    "time GDAL_DISABLE_READDIR_ON_OPEN=YES CPL_VSIL_CURL_ALLOWED_EXTENSIONS=.tif \\\n",
    "   gdalinfo --debug on \\\n",
    "   /vsis3/ga-odc-eros-un3-west/exp/h03v03/LC08_CU_003003_20130414_20170713_C01_V01/SR/LC08_CU_003003_20130414_20170713_C01_V01_SRB2.tif\n",
    "   \n"
   ]
  },
  {
   "cell_type": "markdown",
   "metadata": {},
   "source": [
    "# from gdalinfo\n",
    "```\n",
    "UNIT[\"metre\",1,\n",
    "        AUTHORITY[\"EPSG\",\"9001\"]]]\n",
    "Origin = (-2115585.000000000000000,2864805.000000000000000)\n",
    "Pixel Size = (30.000000000000000,-30.000000000000000)\n",
    "Metadata:\n",
    "  AREA_OR_POINT=Area\n",
    "  Band_1=band 2 surface reflectance\n",
    "Image Structure Metadata:\n",
    "  COMPRESSION=DEFLATE\n",
    "  INTERLEAVE=BAND\n",
    "Corner Coordinates:\n",
    "Upper Left  (-2115585.000, 2864805.000) (123d39'10.66\"W, 45d58'53.70\"N)\n",
    "Lower Left  (-2115585.000, 2714805.000) (123d 6'32.29\"W, 44d41'17.09\"N)\n",
    "Upper Right (-1965585.000, 2864805.000) (121d47'25.73\"W, 46d21'24.46\"N)\n",
    "Lower Right (-1965585.000, 2714805.000) (121d16'45.91\"W, 45d 3'17.45\"N)\n",
    "Center      (-2040585.000, 2789805.000) (122d27'28.65\"W, 45d31'23.33\"N)\n",
    "```\n",
    "\n",
    "- Origin = (-2115585.000000000000000,2864805.000000000000000)\n",
    "- AUTHORITY[\"EPSG\",\"9001\"]"
   ]
  },
  {
   "cell_type": "code",
   "execution_count": 2,
   "metadata": {},
   "outputs": [
    {
     "name": "stdout",
     "output_type": "stream",
     "text": [
      "(-2058274.5746369532, 2810838.9008024177)\n",
      "(-2052465.096620972, 2800443.461795139)\n",
      "5809.478015981149\n",
      "193.64926719937162\n",
      "10395.439999999944\n",
      "346.5146666666648\n",
      "---------------------------------------------------------------------------------------------------\n",
      "(-2058308.212148419, 2810722.5727335)\n",
      "(-122.75024, 45.660000000000004)\n",
      "(-2052640.0328004318, 2799835.884386066)\n",
      "5668.179347987287\n",
      "188.93931159957623\n",
      "10886.68834743416\n",
      "362.88961158113864\n"
     ]
    }
   ],
   "source": [
    "from pyproj import Proj\n",
    "\n",
    "from fiona.crs import to_string, from_epsg, from_string\n",
    "\n",
    "\n",
    "# Create projection transformation object\n",
    "# p = Proj(init='epsg:5071') \n",
    "crs = from_string('+proj=aea +lat_1=29.5 +lat_2=45.5 +lat_0=23 +lon_0=-96 +x_0=0 +y_0=0 +datum=WGS84 +units=m +no_defs')\n",
    "p = Proj(crs, preserve_units=True)\n",
    "\n",
    "# Convert from long/lat to aea and back\n",
    "ul = (p(-122.75024, 45.66109))\n",
    "print(ul)\n",
    "lr = (p(-122.64175, 45.58569))\n",
    "print(lr)\n",
    "\n",
    "xsize = lr[0] - ul[0]\n",
    "print(xsize)\n",
    "xpixels = xsize/30\n",
    "print(xpixels)\n",
    "\n",
    "ysize = 2810838.90 - 2800443.46\n",
    "print(ysize)\n",
    "ypixels = ysize/30\n",
    "\n",
    "\n",
    "print(ypixels)\n",
    "\n",
    "print(\"---\"*33)\n",
    "\n",
    "# Convert from long/lat to aea and back\n",
    "ul = (p(-122.75024, 45.66))\n",
    "print(ul)\n",
    "print(p(ul[0],ul[1],inverse=True))\n",
    "lr = (p(-122.64175, 45.58))\n",
    "print(lr)\n",
    "\n",
    "xsize = lr[0] - ul[0]\n",
    "print(xsize)\n",
    "xpixels = xsize/30\n",
    "print(xpixels)\n",
    "\n",
    "ysize = ul[1] - lr[1]\n",
    "print(ysize)\n",
    "ypixels = ysize/30\n",
    "\n",
    "print(ypixels)\n"
   ]
  },
  {
   "cell_type": "code",
   "execution_count": 3,
   "metadata": {},
   "outputs": [
    {
     "name": "stdout",
     "output_type": "stream",
     "text": [
      "(-123.65295990251695, 45.98158234576042)\n"
     ]
    }
   ],
   "source": [
    "print (p(-2115585.000, 2864805.000, inverse=True))"
   ]
  },
  {
   "cell_type": "code",
   "execution_count": 4,
   "metadata": {},
   "outputs": [
    {
     "name": "stdout",
     "output_type": "stream",
     "text": [
      "# NAD83 / Conus Albers\n",
      "<5070> +proj=aea +lat_1=29.5 +lat_2=45.5 +lat_0=23 +lon_0=-96 +x_0=0 +y_0=0 +datum=NAD83 +units=m +no_defs  <>\n"
     ]
    }
   ],
   "source": [
    "%%bash\n",
    "grep -B 1 5070 /usr/share/proj/epsg "
   ]
  },
  {
   "cell_type": "code",
   "execution_count": 5,
   "metadata": {},
   "outputs": [
    {
     "name": "stdout",
     "output_type": "stream",
     "text": [
      "150000.0\n",
      "5000.0\n",
      "150000.0\n",
      "5000.0\n"
     ]
    }
   ],
   "source": [
    "ulo = (-2115585.000, 2864805.000) \n",
    "\n",
    "lro = (-1965585.000, 2714805.000) \n",
    "\n",
    "xsize = lro[0] - ulo[0]\n",
    "print(xsize)\n",
    "xpixels = xsize/30\n",
    "print(xpixels)\n",
    "\n",
    "ysize = ulo[1] - lro[1]\n",
    "print(ysize)\n",
    "ypixels = ysize/30\n",
    "\n",
    "print(ypixels)\n"
   ]
  },
  {
   "cell_type": "code",
   "execution_count": 6,
   "metadata": {},
   "outputs": [
    {
     "name": "stdout",
     "output_type": "stream",
     "text": [
      "1909.2262617193628\n",
      "1802.7475755499986\n",
      "2098.165573318939\n",
      "2165.637187131137\n",
      "188.93931159957629 362.8896115811385\n"
     ]
    }
   ],
   "source": [
    "xoffset = (ul[0] - ulo[0])/30\n",
    "print(xoffset)\n",
    "yoffset = (ulo[1] - ul[1])/30\n",
    "print(yoffset)\n",
    "\n",
    "xoffset2 = (lr[0] - ulo[0])/30\n",
    "print(xoffset2)\n",
    "yoffset2 = (ulo[1] - lr[1])/30\n",
    "print(yoffset2)\n",
    "\n",
    "x = xoffset2 - xoffset\n",
    "y = yoffset2 - yoffset\n",
    "\n",
    "print (x,y)\n"
   ]
  },
  {
   "cell_type": "code",
   "execution_count": 10,
   "metadata": {
    "scrolled": true
   },
   "outputs": [
    {
     "name": "stderr",
     "output_type": "stream",
     "text": [
      "GNM: GNMRegisterAllInternal\n",
      "GNM: RegisterGNMFile\n",
      "GNM: RegisterGNMdatabase\n",
      "VSICURL: Downloading 0-16383 (https://s3.amazonaws.com/ga-odc-eros-un3-west.s3.amazonaws.com/exp/h03v03/LC08_CU_003003_20130820_20170713_C01_V01/SR/LC08_CU_003003_20130820_20170713_C01_V01_SRB2.tif)...\n",
      "VSICURL: Got response_code=404\n",
      "ERROR 4: `/vsis3/ga-odc-eros-un3-west.s3.amazonaws.com/exp/h03v03/LC08_CU_003003_20130820_20170713_C01_V01/SR/LC08_CU_003003_20130820_20170713_C01_V01_SRB2.tif' not recognized as a supported file format.\n",
      "\n",
      "real\t0m0.539s\n",
      "user\t0m0.060s\n",
      "sys\t0m0.016s\n"
     ]
    }
   ],
   "source": [
    "%%bash\n",
    "source ~/.aws/sourceMeForVSIS3.src\n",
    "\n",
    "time GDAL_DISABLE_READDIR_ON_OPEN=YES CPL_VSIL_CURL_ALLOWED_EXTENSIONS=.tif \\\n",
    "   gdal_translate --debug on \\\n",
    "   /vsis3/ga-odc-eros-un3-west.s3.amazonaws.com/exp/h03v03/LC08_CU_003003_20130820_20170713_C01_V01/SR/LC08_CU_003003_20130820_20170713_C01_V01_SRB2.tif \\\n",
    "   -srcwin 1909 1802 188 362 hayout.tif"
   ]
  },
  {
   "cell_type": "code",
   "execution_count": 15,
   "metadata": {},
   "outputs": [
    {
     "name": "stderr",
     "output_type": "stream",
     "text": [
      "display: Unknown field with tag 33550 (0x830e) encountered. `TIFFReadDirectory' @ warning/tiff.c/TIFFWarnings/881.\n",
      "display: Unknown field with tag 33922 (0x8482) encountered. `TIFFReadDirectory' @ warning/tiff.c/TIFFWarnings/881.\n",
      "display: Unknown field with tag 34735 (0x87af) encountered. `TIFFReadDirectory' @ warning/tiff.c/TIFFWarnings/881.\n",
      "display: Unknown field with tag 34736 (0x87b0) encountered. `TIFFReadDirectory' @ warning/tiff.c/TIFFWarnings/881.\n",
      "display: Unknown field with tag 34737 (0x87b1) encountered. `TIFFReadDirectory' @ warning/tiff.c/TIFFWarnings/881.\n",
      "display: Unknown field with tag 42112 (0xa480) encountered. `TIFFReadDirectory' @ warning/tiff.c/TIFFWarnings/881.\n",
      "display: Unknown field with tag 42113 (0xa481) encountered. `TIFFReadDirectory' @ warning/tiff.c/TIFFWarnings/881.\n"
     ]
    }
   ],
   "source": [
    "%%bash\n",
    "display hayout.tif"
   ]
  },
  {
   "cell_type": "code",
   "execution_count": null,
   "metadata": {
    "collapsed": true
   },
   "outputs": [],
   "source": []
  }
 ],
 "metadata": {
  "kernelspec": {
   "display_name": "Python 3",
   "language": "python",
   "name": "python3"
  },
  "language_info": {
   "codemirror_mode": {
    "name": "ipython",
    "version": 3
   },
   "file_extension": ".py",
   "mimetype": "text/x-python",
   "name": "python",
   "nbconvert_exporter": "python",
   "pygments_lexer": "ipython3",
   "version": "3.5.2"
  }
 },
 "nbformat": 4,
 "nbformat_minor": 1
}
