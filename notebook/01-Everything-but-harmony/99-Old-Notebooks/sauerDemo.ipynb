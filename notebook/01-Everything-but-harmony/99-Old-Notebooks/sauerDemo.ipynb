{
 "cells": [
  {
   "cell_type": "markdown",
   "metadata": {},
   "source": [
    "# Bucket Info Landsat Collection 1 Level 1"
   ]
  },
  {
   "cell_type": "markdown",
   "metadata": {},
   "source": [
    "# Demo for Brian Sauer - December 2017\n",
    "\n",
    "- expected to drive more targeted research with ODC meets USGS datasets\n",
    "- scalabilty possibly via containers\n",
    "- test infrastructure that might support future complex and continent level applications like global change detection"
   ]
  },
  {
   "cell_type": "markdown",
   "metadata": {},
   "source": [
    "# Loading Datacube "
   ]
  },
  {
   "cell_type": "code",
   "execution_count": null,
   "metadata": {},
   "outputs": [],
   "source": [
    "import datacube "
   ]
  },
  {
   "cell_type": "code",
   "execution_count": null,
   "metadata": {},
   "outputs": [],
   "source": [
    "!datacube system check"
   ]
  },
  {
   "cell_type": "markdown",
   "metadata": {},
   "source": [
    "# Indexed level 1 scenes"
   ]
  },
  {
   "cell_type": "code",
   "execution_count": null,
   "metadata": {},
   "outputs": [],
   "source": [
    "!datacube product list "
   ]
  },
  {
   "cell_type": "code",
   "execution_count": null,
   "metadata": {},
   "outputs": [],
   "source": [
    "!datacube product show ls8_level1_usgs"
   ]
  },
  {
   "cell_type": "code",
   "execution_count": null,
   "metadata": {},
   "outputs": [],
   "source": [
    "!datacube dataset --help"
   ]
  },
  {
   "cell_type": "code",
   "execution_count": null,
   "metadata": {},
   "outputs": [],
   "source": [
    "!datacube dataset search product =ls7_level1_usgs |grep id |wc"
   ]
  },
  {
   "cell_type": "code",
   "execution_count": null,
   "metadata": {},
   "outputs": [],
   "source": [
    "!datacube dataset search product =ls8_level1_usgs |grep id |wc"
   ]
  },
  {
   "cell_type": "code",
   "execution_count": null,
   "metadata": {},
   "outputs": [],
   "source": [
    "!datacube dataset search product =ls7_level1_usgs_terrain |grep id |wc"
   ]
  },
  {
   "cell_type": "code",
   "execution_count": null,
   "metadata": {},
   "outputs": [],
   "source": [
    "!datacube dataset search product =ls8_level1_usgs_terrain |grep id |wc"
   ]
  },
  {
   "cell_type": "markdown",
   "metadata": {},
   "source": [
    "# To read level1 scenes using datacube"
   ]
  },
  {
   "cell_type": "code",
   "execution_count": null,
   "metadata": {},
   "outputs": [],
   "source": [
    "dc = datacube.Datacube()"
   ]
  },
  {
   "cell_type": "code",
   "execution_count": null,
   "metadata": {},
   "outputs": [],
   "source": [
    "dc.list_measurements()"
   ]
  },
  {
   "cell_type": "code",
   "execution_count": null,
   "metadata": {},
   "outputs": [],
   "source": [
    "datasets = dc.load(product='ls8_level1_usgs', align=(15,0), dask_chunks={'time':1}, output_crs = 'epsg:32610', resolution = (-30,30), x=(-122.5, -122.8), y=(46,46.6))"
   ]
  },
  {
   "cell_type": "code",
   "execution_count": null,
   "metadata": {},
   "outputs": [],
   "source": [
    "datasets"
   ]
  },
  {
   "cell_type": "code",
   "execution_count": null,
   "metadata": {},
   "outputs": [],
   "source": [
    "%time datasets"
   ]
  },
  {
   "cell_type": "markdown",
   "metadata": {},
   "source": [
    "# Database 2 COG and Tiled Indexed data"
   ]
  },
  {
   "cell_type": "code",
   "execution_count": null,
   "metadata": {},
   "outputs": [],
   "source": [
    "def Time_smallchunk_cog(product,x,y):\n",
    "    dc=datacube.Datacube(config = 'test_db.conf')\n",
    "    data= dc.load(product=product, align = (15,0), dask_chunks={'time':1},  output_crs = 'epsg:32610', resolution = (-30,30), x=x, y=y)\n",
    "    print(data)"
   ]
  },
  {
   "cell_type": "code",
   "execution_count": null,
   "metadata": {},
   "outputs": [],
   "source": [
    "%time Time_smallchunk_cog('ls7_level1_usgs_cog', x= (-122.5,-122.6), y = (46,46.1))"
   ]
  },
  {
   "cell_type": "code",
   "execution_count": null,
   "metadata": {},
   "outputs": [],
   "source": [
    "# The Time reduces if the chunk size get decreased "
   ]
  },
  {
   "cell_type": "markdown",
   "metadata": {},
   "source": [
    "# Landsat 8 COG bucket all bands "
   ]
  },
  {
   "cell_type": "markdown",
   "metadata": {},
   "source": []
  },
  {
   "cell_type": "markdown",
   "metadata": {},
   "source": [
    "# Landsat 8 tile bucket all bands "
   ]
  },
  {
   "cell_type": "markdown",
   "metadata": {},
   "source": [
    "# Single band query on COG data"
   ]
  },
  {
   "cell_type": "code",
   "execution_count": null,
   "metadata": {},
   "outputs": [],
   "source": [
    "def Time_smallchunk_cog_m(product,x,y,m):\n",
    "    dc=datacube.Datacube(config = 'test_db.conf')\n",
    "    data= dc.load(product=product, align = (15,0), dask_chunks={'time':1},  output_crs = 'epsg:32610', resolution = (-30,30), x=x, y=y, measurements=m)\n",
    "    print(data)\n",
    "    return(data)"
   ]
  },
  {
   "cell_type": "code",
   "execution_count": null,
   "metadata": {},
   "outputs": [],
   "source": [
    "%time Time_smallchunk_cog_m('ls8_level1_usgs_tile', x= (-123,-123.2), y = (46,46.2), m = ('blue', 'red', 'green'))"
   ]
  },
  {
   "cell_type": "markdown",
   "metadata": {},
   "source": [
    "# Time decreases for just 3 bands "
   ]
  },
  {
   "cell_type": "code",
   "execution_count": null,
   "metadata": {},
   "outputs": [],
   "source": [
    "%time Time_smallchunk_cog('ls8_level1_usgs_cog', x= (-123,-123.1), y = (46.5,46.6))"
   ]
  },
  {
   "cell_type": "markdown",
   "metadata": {},
   "source": [
    "# Query for Single Band"
   ]
  },
  {
   "cell_type": "code",
   "execution_count": null,
   "metadata": {},
   "outputs": [],
   "source": [
    "mydat = Time_smallchunk_cog_m('ls8_level1_usgs_cog', x= (-122.6,-122.8), y = (45.57,45.7), m = ('blue','panchromatic'))\n",
    "print (mydat)"
   ]
  },
  {
   "cell_type": "code",
   "execution_count": null,
   "metadata": {},
   "outputs": [],
   "source": [
    "print(mydat.blue[0].shape)"
   ]
  },
  {
   "cell_type": "code",
   "execution_count": null,
   "metadata": {
    "scrolled": true
   },
   "outputs": [],
   "source": [
    "from rasterio.plot import show_hist\n",
    "ary=mydat.panchromatic[3].values\n",
    "ary = ary * 5\n",
    "type(ary)\n",
    "show_hist(ary, bins=50, lw=0.0, stacked=False, alpha=0.3, histtype='stepfilled', title=\"Histogram\")"
   ]
  },
  {
   "cell_type": "code",
   "execution_count": null,
   "metadata": {},
   "outputs": [],
   "source": [
    "from matplotlib import pyplot\n",
    "\n",
    "pyplot.figure(figsize=(17.5,12.5))\n",
    "pyplot.imshow(ary, cmap='gray')\n",
    "#pyplot.imshow(array, cmap='hot')\\n\",\n",
    "#pyplot.imshow(array, cmap='pink')\\n\",    \"\\n\",\n",
    "pyplot.show()\n"
   ]
  },
  {
   "cell_type": "code",
   "execution_count": null,
   "metadata": {},
   "outputs": [],
   "source": [
    "ary=mydat.blue[3].values\n",
    "ary = ary \n",
    "type(ary)\n",
    "show_hist(ary, bins=50, lw=0.0, stacked=False, alpha=0.3, histtype='stepfilled', title=\"Histogram\")"
   ]
  },
  {
   "cell_type": "code",
   "execution_count": null,
   "metadata": {},
   "outputs": [],
   "source": [
    "pyplot.figure(figsize=(17.5,12.5))\n",
    "pyplot.imshow(ary, cmap='hot')\n",
    "pyplot.show()\n"
   ]
  },
  {
   "cell_type": "code",
   "execution_count": null,
   "metadata": {},
   "outputs": [],
   "source": [
    "for i in range(0,10):\n",
    "    ary=mydat.blue[i].values"
   ]
  },
  {
   "cell_type": "code",
   "execution_count": null,
   "metadata": {},
   "outputs": [],
   "source": [
    "for i in range(0,30):\n",
    "    ary=mydat.blue[i].values\n",
    "    pyplot.figure(figsize=(4,4))\n",
    "    pyplot.imshow(ary, cmap='hot')\n",
    "    pyplot.show()"
   ]
  },
  {
   "cell_type": "code",
   "execution_count": null,
   "metadata": {},
   "outputs": [],
   "source": [
    "mydat = Time_smallchunk_cog_m('ls7_level1_usgs_cog', x= (-122.6,-122.8), y = (45.57,45.7), m = ('red', 'green', 'blue'))\n",
    "print (mydat)\n",
    "for i in range(0,50):\n",
    "    ary=mydat.blue[i].values\n",
    "    show_hist(ary, bins=50, lw=0.0, stacked=False, alpha=0.3, histtype='stepfilled', title=\"Histogram\")\n",
    "    print('Counter = %s' % i)\n",
    "    pyplot.figure(figsize=(4,4))\n",
    "    pyplot.imshow(ary, cmap='hot')\n",
    "    pyplot.show()\n"
   ]
  }
 ],
 "metadata": {
  "kernelspec": {
   "display_name": "Python 3",
   "language": "python",
   "name": "python3"
  },
  "language_info": {
   "codemirror_mode": {
    "name": "ipython",
    "version": 3
   },
   "file_extension": ".py",
   "mimetype": "text/x-python",
   "name": "python",
   "nbconvert_exporter": "python",
   "pygments_lexer": "ipython3",
   "version": "3.6.3"
  }
 },
 "nbformat": 4,
 "nbformat_minor": 2
}
