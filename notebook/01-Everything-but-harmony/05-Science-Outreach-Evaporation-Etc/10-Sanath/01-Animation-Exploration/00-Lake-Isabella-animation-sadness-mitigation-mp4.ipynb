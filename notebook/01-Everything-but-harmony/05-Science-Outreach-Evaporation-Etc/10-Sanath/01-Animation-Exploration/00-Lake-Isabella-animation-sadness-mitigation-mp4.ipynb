{
 "cells": [
  {
   "cell_type": "markdown",
   "metadata": {},
   "source": [
    "# Notebook\n",
    "\n",
    "## Hacks around data indexing discovery issue\n",
    "\n",
    "# This Notebook Tries to mitigate Three Issues:\n",
    "\n",
    "## 1. Scene/Data Corners versus Product Corners\n",
    "## 2. WRS edge conditions\n",
    "## 3. Some contrast stretch methods are not smart about fill\n",
    "\n",
    "\n",
    "1. Load AOI from GeoJson"
   ]
  },
  {
   "cell_type": "code",
   "execution_count": 1,
   "metadata": {},
   "outputs": [
    {
     "name": "stdout",
     "output_type": "stream",
     "text": [
      "00-Lake-Isabella-animation-sadness-mitigation-mp4.ipynb\r\n",
      "01-Lake-Isabella-animation-sadness-data-fill-sucks-gif.ipynb\r\n",
      "01-Sanath-p045r031-Lake-Isabella-mp4.ipynb\r\n",
      "01-Sanath-p045r031-Lake-Isabella.ipynb\r\n",
      "broken-isabella-animation.gif\r\n",
      "isa.gif\r\n",
      "isabella-lake.geojson\r\n",
      "isabella.mp4\r\n",
      "mitigated-isabella-animation.mp4\r\n"
     ]
    }
   ],
   "source": [
    "!ls"
   ]
  },
  {
   "cell_type": "code",
   "execution_count": 2,
   "metadata": {},
   "outputs": [],
   "source": [
    "from datetime import datetime"
   ]
  },
  {
   "cell_type": "code",
   "execution_count": 3,
   "metadata": {},
   "outputs": [
    {
     "name": "stdout",
     "output_type": "stream",
     "text": [
      "creating Ldisplay class\n"
     ]
    },
    {
     "data": {
      "text/html": [
       "<div style=\"width:100%;\"><div style=\"position:relative;width:100%;height:0;padding-bottom:60%;\"><iframe src=\"data:text/html;charset=utf-8;base64,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\" style=\"position:absolute;width:100%;height:100%;left:0;top:0;border:none !important;\" allowfullscreen webkitallowfullscreen mozallowfullscreen></iframe></div></div>"
      ],
      "text/plain": [
       "<folium.folium.Map at 0x7fcb32e557b8>"
      ]
     },
     "execution_count": 3,
     "metadata": {},
     "output_type": "execute_result"
    }
   ],
   "source": [
    "my_aoi_file = 'isabella-lake.geojson'\n",
    "from notebookLib.nb_display import Ldisplay\n",
    "ld = Ldisplay()\n",
    "ld.map_geojson(my_aoi_file)"
   ]
  },
  {
   "cell_type": "code",
   "execution_count": 4,
   "metadata": {},
   "outputs": [
    {
     "data": {
      "text/plain": [
       "{'type': 'FeatureCollection',\n",
       " 'features': [{'type': 'Feature',\n",
       "   'properties': {},\n",
       "   'geometry': {'type': 'Polygon',\n",
       "    'coordinates': [[[-118.60565185546874, 35.5506639937922],\n",
       "      [-118.22937011718749, 35.5506639937922],\n",
       "      [-118.22937011718749, 35.80055084130363],\n",
       "      [-118.60565185546874, 35.80055084130363],\n",
       "      [-118.60565185546874, 35.5506639937922]]]}}]}"
      ]
     },
     "execution_count": 4,
     "metadata": {},
     "output_type": "execute_result"
    }
   ],
   "source": [
    "import json \n",
    "\n",
    "with open(my_aoi_file) as f:\n",
    "    data = json.load(f)\n",
    "    \n",
    "data\n",
    "    \n"
   ]
  },
  {
   "cell_type": "code",
   "execution_count": 5,
   "metadata": {},
   "outputs": [
    {
     "data": {
      "text/plain": [
       "-118.60565185546874"
      ]
     },
     "execution_count": 5,
     "metadata": {},
     "output_type": "execute_result"
    }
   ],
   "source": [
    "coord = data['features'][0]['geometry']['coordinates']\n",
    "\n",
    "x1 = coord[0][0][0]\n",
    "x1"
   ]
  },
  {
   "cell_type": "code",
   "execution_count": 6,
   "metadata": {},
   "outputs": [
    {
     "data": {
      "text/plain": [
       "35.5506639937922"
      ]
     },
     "execution_count": 6,
     "metadata": {},
     "output_type": "execute_result"
    }
   ],
   "source": [
    "y1 = coord[0][0][1]\n",
    "y1"
   ]
  },
  {
   "cell_type": "code",
   "execution_count": 7,
   "metadata": {},
   "outputs": [
    {
     "data": {
      "text/plain": [
       "-118.22937011718749"
      ]
     },
     "execution_count": 7,
     "metadata": {},
     "output_type": "execute_result"
    }
   ],
   "source": [
    "x2 = coord[0][2][0]\n",
    "x2"
   ]
  },
  {
   "cell_type": "code",
   "execution_count": 8,
   "metadata": {},
   "outputs": [
    {
     "data": {
      "text/plain": [
       "35.80055084130363"
      ]
     },
     "execution_count": 8,
     "metadata": {},
     "output_type": "execute_result"
    }
   ],
   "source": [
    "y2 = coord[0][2][1]\n",
    "y2"
   ]
  },
  {
   "cell_type": "code",
   "execution_count": 9,
   "metadata": {},
   "outputs": [],
   "source": [
    "import datacube\n",
    "from odc.ui import with_ui_cbk"
   ]
  },
  {
   "cell_type": "code",
   "execution_count": 10,
   "metadata": {},
   "outputs": [],
   "source": [
    "dc = datacube.Datacube()\n",
    "ds = dc.find_datasets(product= \"c1l2scenealbers\",\n",
    "                     x=(x1, x2),\n",
    "                y=(y1, y2),\n",
    "                     time=(\"2016-01-01\", \"2016-12-31\"))"
   ]
  },
  {
   "cell_type": "code",
   "execution_count": 11,
   "metadata": {},
   "outputs": [
    {
     "data": {
      "text/plain": [
       "91"
      ]
     },
     "execution_count": 11,
     "metadata": {},
     "output_type": "execute_result"
    }
   ],
   "source": [
    "len(ds)"
   ]
  },
  {
   "cell_type": "code",
   "execution_count": 12,
   "metadata": {},
   "outputs": [
    {
     "data": {
      "text/plain": [
       "['__class__',\n",
       " '__delattr__',\n",
       " '__dict__',\n",
       " '__dir__',\n",
       " '__doc__',\n",
       " '__eq__',\n",
       " '__format__',\n",
       " '__ge__',\n",
       " '__getattribute__',\n",
       " '__gt__',\n",
       " '__hash__',\n",
       " '__init__',\n",
       " '__init_subclass__',\n",
       " '__le__',\n",
       " '__lt__',\n",
       " '__module__',\n",
       " '__ne__',\n",
       " '__new__',\n",
       " '__reduce__',\n",
       " '__reduce_ex__',\n",
       " '__repr__',\n",
       " '__setattr__',\n",
       " '__sizeof__',\n",
       " '__str__',\n",
       " '__subclasshook__',\n",
       " '__weakref__',\n",
       " '_gs',\n",
       " 'archived_time',\n",
       " 'bounds',\n",
       " 'center_time',\n",
       " 'crs',\n",
       " 'extent',\n",
       " 'format',\n",
       " 'id',\n",
       " 'indexed_by',\n",
       " 'indexed_time',\n",
       " 'is_active',\n",
       " 'is_archived',\n",
       " 'key_time',\n",
       " 'local_path',\n",
       " 'local_uri',\n",
       " 'managed',\n",
       " 'measurements',\n",
       " 'metadata',\n",
       " 'metadata_doc',\n",
       " 'metadata_doc_without_lineage',\n",
       " 'metadata_type',\n",
       " 'sources',\n",
       " 'time',\n",
       " 'transform',\n",
       " 'type',\n",
       " 'uri_scheme',\n",
       " 'uris']"
      ]
     },
     "execution_count": 12,
     "metadata": {},
     "output_type": "execute_result"
    }
   ],
   "source": [
    "dir(ds[0])"
   ]
  },
  {
   "cell_type": "raw",
   "metadata": {},
   "source": [
    "ds[0].center_time"
   ]
  },
  {
   "cell_type": "code",
   "execution_count": 13,
   "metadata": {},
   "outputs": [
    {
     "data": {
      "text/plain": [
       "'2016-11-13 18:28:16.119296Z'"
      ]
     },
     "execution_count": 13,
     "metadata": {},
     "output_type": "execute_result"
    }
   ],
   "source": [
    "ds[0].metadata_doc['extent']['center_dt']"
   ]
  },
  {
   "cell_type": "code",
   "execution_count": 14,
   "metadata": {},
   "outputs": [
    {
     "data": {
      "text/plain": [
       "{'id': 'fd1fc18f-bdf3-4b63-964e-de05ff07dd23',\n",
       " 'image': {'bands': {'nir': {'path': 's3://dev-usgs-landsat/collection1/level2/albers/oli-tirs/2016/041/035/LC08_L1TP_041035_20161113_20170219_01_A1/LC08_L1TP_041035_20161113_20170219_01_A1_sr_band5.tif',\n",
       "    'layer': 1},\n",
       "   'red': {'path': 's3://dev-usgs-landsat/collection1/level2/albers/oli-tirs/2016/041/035/LC08_L1TP_041035_20161113_20170219_01_A1/LC08_L1TP_041035_20161113_20170219_01_A1_sr_band4.tif',\n",
       "    'layer': 1},\n",
       "   'blue': {'path': 's3://dev-usgs-landsat/collection1/level2/albers/oli-tirs/2016/041/035/LC08_L1TP_041035_20161113_20170219_01_A1/LC08_L1TP_041035_20161113_20170219_01_A1_sr_band2.tif',\n",
       "    'layer': 1},\n",
       "   'green': {'path': 's3://dev-usgs-landsat/collection1/level2/albers/oli-tirs/2016/041/035/LC08_L1TP_041035_20161113_20170219_01_A1/LC08_L1TP_041035_20161113_20170219_01_A1_sr_band3.tif',\n",
       "    'layer': 1},\n",
       "   'swir_1': {'path': 's3://dev-usgs-landsat/collection1/level2/albers/oli-tirs/2016/041/035/LC08_L1TP_041035_20161113_20170219_01_A1/LC08_L1TP_041035_20161113_20170219_01_A1_sr_band6.tif',\n",
       "    'layer': 1},\n",
       "   'swir_2': {'path': 's3://dev-usgs-landsat/collection1/level2/albers/oli-tirs/2016/041/035/LC08_L1TP_041035_20161113_20170219_01_A1/LC08_L1TP_041035_20161113_20170219_01_A1_sr_band7.tif',\n",
       "    'layer': 1},\n",
       "   'coastal_aerosol': {'path': 's3://dev-usgs-landsat/collection1/level2/albers/oli-tirs/2016/041/035/LC08_L1TP_041035_20161113_20170219_01_A1/LC08_L1TP_041035_20161113_20170219_01_A1_sr_band1.tif',\n",
       "    'layer': 1},\n",
       "   'thermal_radiance': {'path': 's3://dev-usgs-landsat/collection1/level2/albers/oli-tirs/2016/041/035/LC08_L1TP_041035_20161113_20170219_01_A1/LC08_L1TP_041035_20161113_20170219_01_A1_st_thermal_radiance.tif',\n",
       "    'layer': 1},\n",
       "   'quality_l2_aerosol': {'path': 's3://dev-usgs-landsat/collection1/level2/albers/oli-tirs/2016/041/035/LC08_L1TP_041035_20161113_20170219_01_A1/LC08_L1TP_041035_20161113_20170219_01_A1_pixel_qa.tif',\n",
       "    'layer': 1}}},\n",
       " 'extent': {'coord': {'ll': {'lat': '34.628110', 'lon': '-119.660105'},\n",
       "   'lr': {'lat': '34.628110', 'lon': '-116.184204'},\n",
       "   'ul': {'lat': '37.437637', 'lon': '-119.660105'},\n",
       "   'ur': {'lat': '37.437637', 'lon': '-116.184204'}},\n",
       "  'to_dt': '2016-11-13 18:28:16.119296Z',\n",
       "  'from_dt': '2016-11-13 18:28:16.119296Z',\n",
       "  'center_dt': '2016-11-13 18:28:16.119296Z'},\n",
       " 'format': {'name': 'GeoTiff'},\n",
       " 'lineage': {'source_datasets': {}},\n",
       " 'platform': {'code': 'LANDSAT_8'},\n",
       " 'instrument': {'name': 'OLI_TIRS'},\n",
       " 'creation_dt': '2016-11-13',\n",
       " 'grid_spatial': {'projection': {'geo_ref_points': {'ll': {'x': -2067000.0,\n",
       "     'y': 1536000.0},\n",
       "    'lr': {'x': -1809900.0, 'y': 1536000.0},\n",
       "    'ul': {'x': -2067000.0, 'y': 1798800.0},\n",
       "    'ur': {'x': -1809900.0, 'y': 1798800.0}},\n",
       "   'spatial_reference': 'epsg:5072'}},\n",
       " 'product_type': 'c1l2scenealbers',\n",
       " 'processing_level': 'L1TP'}"
      ]
     },
     "execution_count": 14,
     "metadata": {},
     "output_type": "execute_result"
    }
   ],
   "source": [
    "ds[0].metadata_doc"
   ]
  },
  {
   "cell_type": "code",
   "execution_count": 15,
   "metadata": {},
   "outputs": [
    {
     "data": {
      "text/plain": [
       "'s3://dev-usgs-landsat/collection1/level2/albers/oli-tirs/2016/041/035/LC08_L1TP_041035_20161113_20170219_01_A1/LC08_L1TP_041035_20161113_20170219_01_A1_sr_band4.tif'"
      ]
     },
     "execution_count": 15,
     "metadata": {},
     "output_type": "execute_result"
    }
   ],
   "source": [
    "red_path = ds[0].metadata_doc['image']['bands']['red']['path']\n",
    "red_path"
   ]
  },
  {
   "cell_type": "code",
   "execution_count": 16,
   "metadata": {},
   "outputs": [
    {
     "data": {
      "text/plain": [
       "'LC08_L1TP_041035_20161113_20170219_01_A1_sr_band4.tif'"
      ]
     },
     "execution_count": 16,
     "metadata": {},
     "output_type": "execute_result"
    }
   ],
   "source": [
    "import os\n",
    "\n",
    "base = os.path.basename(red_path)\n",
    "\n",
    "base"
   ]
  },
  {
   "cell_type": "code",
   "execution_count": 17,
   "metadata": {},
   "outputs": [
    {
     "data": {
      "text/plain": [
       "['LC08',\n",
       " 'L1TP',\n",
       " '041035',\n",
       " '20161113',\n",
       " '20170219',\n",
       " '01',\n",
       " 'A1',\n",
       " 'sr',\n",
       " 'band4.tif']"
      ]
     },
     "execution_count": 17,
     "metadata": {},
     "output_type": "execute_result"
    }
   ],
   "source": [
    "a = base.split('_')\n",
    "a"
   ]
  },
  {
   "cell_type": "code",
   "execution_count": 18,
   "metadata": {},
   "outputs": [
    {
     "data": {
      "text/plain": [
       "'041035'"
      ]
     },
     "execution_count": 18,
     "metadata": {},
     "output_type": "execute_result"
    }
   ],
   "source": [
    "p_r = a[2]\n",
    "p_r"
   ]
  },
  {
   "cell_type": "code",
   "execution_count": 19,
   "metadata": {},
   "outputs": [],
   "source": [
    "\n",
    "def return_path_row(data_set_object):\n",
    "    dso = data_set_object\n",
    "    \n",
    "    red_path = dso.metadata_doc['image']['bands']['red']['path']\n",
    "    base = os.path.basename(red_path)\n",
    "    a = base.split('_')\n",
    "    PATH_ROW=a[2]\n",
    "    return PATH_ROW"
   ]
  },
  {
   "cell_type": "code",
   "execution_count": 20,
   "metadata": {},
   "outputs": [
    {
     "data": {
      "text/plain": [
       "'041035'"
      ]
     },
     "execution_count": 20,
     "metadata": {},
     "output_type": "execute_result"
    }
   ],
   "source": [
    "p_r = return_path_row(ds[0])\n",
    "p_r"
   ]
  },
  {
   "cell_type": "code",
   "execution_count": 21,
   "metadata": {},
   "outputs": [],
   "source": [
    "# https://github.com/tonybutzer/odc-lcmap/blob/1b872493005fe0be56a42284fc131a9d593783ae/anotebooks/projection_notebook/chip4.ipynb"
   ]
  },
  {
   "cell_type": "code",
   "execution_count": 22,
   "metadata": {},
   "outputs": [],
   "source": [
    "def find_pretty_scenes(ds_array, fav_path, fav_row):\n",
    "    fav_p_r = fav_path + fav_row\n",
    "    dsa = ds_array\n",
    "    pretty_dsa = []\n",
    "    for i in range(len(ds_array)):\n",
    "        this_p_r = return_path_row(ds[i])\n",
    "        if fav_p_r == this_p_r:\n",
    "            # HACK this needs to be fixed in indexing\n",
    "            #ds.center_time = dsa[i].metadata_doc['extent']['center_dt']\n",
    "            pretty_dsa.append(dsa[i])\n",
    "            print(i,this_p_r)\n",
    "            \n",
    "    return pretty_dsa"
   ]
  },
  {
   "cell_type": "code",
   "execution_count": 23,
   "metadata": {},
   "outputs": [
    {
     "name": "stdout",
     "output_type": "stream",
     "text": [
      "0 041035\n",
      "1 041035\n",
      "4 041035\n",
      "5 041035\n",
      "8 041035\n",
      "9 041035\n",
      "12 041035\n",
      "13 041035\n",
      "18 041035\n",
      "19 041035\n",
      "23 041035\n",
      "24 041035\n",
      "27 041035\n",
      "28 041035\n",
      "31 041035\n",
      "32 041035\n",
      "34 041035\n",
      "35 041035\n",
      "37 041035\n",
      "38 041035\n",
      "42 041035\n",
      "43 041035\n",
      "45 041035\n",
      "46 041035\n",
      "48 041035\n",
      "49 041035\n",
      "53 041035\n",
      "54 041035\n",
      "58 041035\n",
      "59 041035\n",
      "62 041035\n",
      "63 041035\n",
      "67 041035\n",
      "68 041035\n",
      "71 041035\n",
      "72 041035\n",
      "75 041035\n",
      "76 041035\n",
      "78 041035\n",
      "79 041035\n",
      "82 041035\n",
      "83 041035\n",
      "85 041035\n",
      "86 041035\n",
      "88 041035\n",
      "89 041035\n"
     ]
    }
   ],
   "source": [
    "fav_p = '041'\n",
    "fav_r = '035'\n",
    "psa = find_pretty_scenes(ds, fav_p, fav_r)"
   ]
  },
  {
   "cell_type": "code",
   "execution_count": 24,
   "metadata": {},
   "outputs": [
    {
     "data": {
      "text/plain": [
       "46"
      ]
     },
     "execution_count": 24,
     "metadata": {},
     "output_type": "execute_result"
    }
   ],
   "source": [
    "len(psa)"
   ]
  },
  {
   "cell_type": "code",
   "execution_count": 25,
   "metadata": {},
   "outputs": [],
   "source": [
    "pretty_datasets = psa"
   ]
  },
  {
   "cell_type": "code",
   "execution_count": 26,
   "metadata": {},
   "outputs": [
    {
     "data": {
      "application/vnd.jupyter.widget-view+json": {
       "model_id": "d341f52721104a6bbb330bb1e38f2a45",
       "version_major": 2,
       "version_minor": 0
      },
      "text/plain": [
       "VBox(children=(HBox(children=(Label(value=''), Label(value='')), layout=Layout(justify_content='space-between'…"
      ]
     },
     "metadata": {},
     "output_type": "display_data"
    }
   ],
   "source": [
    "EPSG='5072'\n",
    "\n",
    "\n",
    "'''\n",
    "meas=[ \n",
    "    'blue',                              \n",
    "    'green',                            \n",
    "    'red',                                \n",
    "]\n",
    "'''\n",
    "\n",
    "meas=[ \n",
    "    'swir_1',                              \n",
    "    'nir',                            \n",
    "    'green',                                \n",
    "]\n",
    "\n",
    "'''\n",
    "meas=['coastal_aerosol', \n",
    "    'blue',                              \n",
    "    'green',                            \n",
    "    'red',                                \n",
    "    'nir',                              \n",
    "    'swir_1',                             \n",
    "    'swir_2',                             \n",
    "    'quality_l2_aerosol']  \n",
    "'''\n",
    "\n",
    "## KEEP data range smaller this time - someday get better grasp on memory, docker, jupyter equation\n",
    "\n",
    "## KEEP date range smaller this time\n",
    "\n",
    "ds2 = dc.load(product=\"c1l2scenealbers\",\n",
    "                datasets=pretty_datasets,\n",
    "                measurements=meas, \n",
    "                output_crs='epsg:' + EPSG,\n",
    "                resolution=(-30, 30),\n",
    "                x=(x1, x2),\n",
    "                y=(y1, y2),\n",
    "                progress_cbk=with_ui_cbk(),\n",
    "                time=(\"2016-09-01\", \"2016-12-31\")\n",
    "              \n",
    "             )"
   ]
  },
  {
   "cell_type": "code",
   "execution_count": 27,
   "metadata": {},
   "outputs": [
    {
     "data": {
      "text/plain": [
       "<xarray.Dataset>\n",
       "Dimensions:  (time: 23, x: 1313, y: 1171)\n",
       "Coordinates:\n",
       "  * time     (time) datetime64[ns] 2016-01-14T18:28:01.110591 ... 2016-12-31T18:28:09.865399\n",
       "  * y        (y) float64 1.656e+06 1.656e+06 1.656e+06 ... 1.621e+06 1.621e+06\n",
       "  * x        (x) float64 -2.012e+06 -2.012e+06 ... -1.973e+06 -1.973e+06\n",
       "Data variables:\n",
       "    swir_1   (time, y, x) uint16 3586 3142 2522 2126 ... 3358 3078 3203 2392\n",
       "    nir      (time, y, x) uint16 3229 2721 2181 1914 ... 2698 2598 2566 1802\n",
       "    green    (time, y, x) uint16 1073 920 695 594 681 ... 1398 1388 1443 987\n",
       "Attributes:\n",
       "    crs:      epsg:5072"
      ]
     },
     "execution_count": 27,
     "metadata": {},
     "output_type": "execute_result"
    }
   ],
   "source": [
    "ds2"
   ]
  },
  {
   "cell_type": "code",
   "execution_count": 28,
   "metadata": {},
   "outputs": [
    {
     "name": "stdout",
     "output_type": "stream",
     "text": [
      "Generating 23 frame animation\n",
      "    Exporting animation to ./mitigated-isabella-animation.mp4\n"
     ]
    }
   ],
   "source": [
    "from notebookLib.nb_animate import nb_animated_timeseries\n",
    "\n",
    "nb_animated_timeseries(ds2,output_path='./mitigated-isabella-animation.mp4',bands = ['swir_1', 'nir', 'green'], time_dim='time',  \n",
    "      percentile_stretch=(.2,.85), interval=600)"
   ]
  }
 ],
 "metadata": {
  "kernelspec": {
   "display_name": "Python 3",
   "language": "python",
   "name": "python3"
  },
  "language_info": {
   "codemirror_mode": {
    "name": "ipython",
    "version": 3
   },
   "file_extension": ".py",
   "mimetype": "text/x-python",
   "name": "python",
   "nbconvert_exporter": "python",
   "pygments_lexer": "ipython3",
   "version": "3.6.8"
  }
 },
 "nbformat": 4,
 "nbformat_minor": 2
}
