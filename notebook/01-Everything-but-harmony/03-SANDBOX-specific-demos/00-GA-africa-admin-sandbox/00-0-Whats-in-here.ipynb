{
 "cells": [
  {
   "cell_type": "markdown",
   "metadata": {},
   "source": [
    "# Africa Sandbox GA\n",
    "\n",
    "- sponsored by ga\n",
    "- includes training on Open Data Cube\n",
    "\n",
    "- Uses Africa Collection-2(p) data"
   ]
  },
  {
   "cell_type": "markdown",
   "metadata": {},
   "source": [
    "# Favorite Training Links\n",
    "\n",
    "\n",
    "## Beginners Guide\n",
    "\n",
    "https://admin.digitalearth.africa/user/tonybutzer/notebooks/examples/Beginners_guide/03_Loading_data.ipynb\n",
    "\n",
    "https://admin.digitalearth.africa/user/tonybutzer/notebooks/examples/Beginners_guide/04_Plotting.ipynb\n",
    "\n",
    "## Other Links ... more to come ...\n"
   ]
  },
  {
   "cell_type": "markdown",
   "metadata": {},
   "source": [
    "# Animations"
   ]
  },
  {
   "cell_type": "code",
   "execution_count": null,
   "metadata": {},
   "outputs": [],
   "source": []
  }
 ],
 "metadata": {
  "kernelspec": {
   "display_name": "Python 3",
   "language": "python",
   "name": "python3"
  },
  "language_info": {
   "codemirror_mode": {
    "name": "ipython",
    "version": 3
   },
   "file_extension": ".py",
   "mimetype": "text/x-python",
   "name": "python",
   "nbconvert_exporter": "python",
   "pygments_lexer": "ipython3",
   "version": "3.6.8"
  }
 },
 "nbformat": 4,
 "nbformat_minor": 4
}
