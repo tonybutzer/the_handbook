{
 "cells": [
  {
   "cell_type": "markdown",
   "metadata": {},
   "source": [
    "# Strategy\n",
    "\n",
    "1. Learn mapbox meets plotly\n",
    "2. Learn Plotly Dash from scratch\n",
    "3. Apply that knowledge to Darin Schulte's code and dockerize it\n",
    "4. mitigate the mapbox token experience - check out scatter_geo and USGS and leaflet/folium options\n",
    "5. overlay rasters and vectors on a basemap layer\n",
    "6. explore other python options\n",
    "\n",
    "# Why Dash\n",
    "1. just need python - no javascript needed - but probably handy"
   ]
  },
  {
   "cell_type": "markdown",
   "metadata": {},
   "source": [
    "# Baby Step References\n",
    "\n",
    "1. https://www.youtube.com/playlist?list=PLH6mU1kedUy8fCzkTTJlwsf2EnV_UvOV-\n",
    "    - Plotly Dash Complete Tutorial\n",
    "    \n",
    "2. https://www.google.com/search?q=python+dash+sentdex+plotly"
   ]
  },
  {
   "cell_type": "markdown",
   "metadata": {},
   "source": [
    "# References\n",
    "\n",
    "0. https://community.plotly.com/t/scattergeo-bar-and-rangeslider-show-and-tell/9189\n",
    "\n",
    "0. https://plotly.com/python/scatter-plots-on-maps/\n",
    "\n",
    "1. https://www.earthdatascience.org/courses/scientists-guide-to-plotting-data-in-python/plot-spatial-data/customize-vector-plots/python-customize-map-legends-geopandas/\n",
    "    \n",
    "\n",
    "2. Choropleth Map (Submit Button) - Python Dash Plotly\n",
    "    - https://www.youtube.com/watch?v=WBiMeRD5yXk\n",
    "    \n",
    "3. https://www.google.com/search?q=plotly+dash+map+example&oq=plotly+dash+mpa&aqs=chrome.3.69i57j0l5.8936j0j8&sourceid=chrome&ie=UTF-8\n",
    "\n",
    "4. https://community.plotly.com/t/python-dash-examples-with-scattergeo/7018\n",
    "\n",
    "5. https://plotly.com/python/scattermapbox/#basic-example-with-plotly-express\n",
    "\n",
    "6. https://plotly.github.io/plotly.py-docs/generated/plotly.graph_objects.Scattergeo.html\n",
    "    - https://plotly.github.io/plotly.py-docs/generated/plotly.graph_objects.Scattergeo.html#module-plotly.graph_objects.scattergeo"
   ]
  },
  {
   "cell_type": "code",
   "execution_count": null,
   "metadata": {},
   "outputs": [],
   "source": []
  }
 ],
 "metadata": {
  "kernelspec": {
   "display_name": "Python 3",
   "language": "python",
   "name": "python3"
  },
  "language_info": {
   "codemirror_mode": {
    "name": "ipython",
    "version": 3
   },
   "file_extension": ".py",
   "mimetype": "text/x-python",
   "name": "python",
   "nbconvert_exporter": "python",
   "pygments_lexer": "ipython3",
   "version": "3.7.3"
  }
 },
 "nbformat": 4,
 "nbformat_minor": 4
}
