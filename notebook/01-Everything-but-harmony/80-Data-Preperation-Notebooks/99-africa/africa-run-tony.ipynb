{
 "cells": [
  {
   "cell_type": "code",
   "execution_count": 1,
   "metadata": {},
   "outputs": [],
   "source": [
    "#!/usr/bin/env python\n",
    "# coding: utf-8\n",
    "\n",
    "\n",
    "import boto3\n",
    "import matplotlib.pyplot as plt\n",
    "\n",
    "s3 = boto3.client(\"s3\")\n",
    "\n",
    "# L0RP Bucket Location\n",
    "bucket = \"dev-usgs-landsat-level-0\"\n",
    "prefix = \"l0rp/oli-tirs/\"\n",
    "l0rp_location = bucket + '/' + prefix\n",
    "\n",
    "\n",
    "def list_objects(s3_location):\n",
    "    bucket, prefix = s3_location.split(\"/\", 1)\n",
    "    objects = []\n",
    "    continuation_token = {}\n",
    "    while True:\n",
    "        try:\n",
    "            response = s3.list_objects_v2(\n",
    "                Bucket=bucket, Prefix=prefix, **continuation_token\n",
    "            )\n",
    "           \n",
    "            if response['KeyCount'] == 0:\n",
    "                print(f'{s3_location} does not exist')\n",
    "                break\n",
    "            \n",
    "            objects.extend(response[\"Contents\"])\n",
    "\n",
    "            if \"NextContinuationToken\" in response:\n",
    "                continuation_token[\"ContinuationToken\"] = response[\n",
    "                    \"NextContinuationToken\"\n",
    "                ]\n",
    "            else:\n",
    "                break\n",
    "\n",
    "        except Exception as e:\n",
    "            break\n",
    "\n",
    "    return objects\n",
    "\n",
    "\n",
    "def get_scene_id(key):\n",
    "    if \"Key\" in key:\n",
    "        return key[\"Key\"].rsplit(\"/\", 1).pop().split(\"_\", 1)[0]\n",
    "    else:\n",
    "        return key.rsplit(\"/\", 1).pop().split(\"_\", 1)[0]\n",
    "\n",
    "    \n",
    "def get_scenes_from_path_row(path, row, year):\n",
    "    s3_location = f\"{l0rp_location}{year}/{path}/{row}/\"\n",
    "    \n",
    "    return [get_scene_id(scene) for scene in list_objects(s3_location)]\n",
    "\n",
    "def get_scenes(year, path_row_list=None):\n",
    "    if path_row_list is None:\n",
    "        s3_location = l0rp_location + year\n",
    "        return list(map(get_scene_id, list_objects(s3_location)))\n",
    "    else:\n",
    "        scenes = []\n",
    "        for path_row in path_row_list:\n",
    "            path = str(path_row)[0:3]\n",
    "            row = str(path_row)[3:6]\n",
    "            scenes.extend(get_scenes_from_path_row(path.zfill(3), row.zfill(3), year))\n",
    "\n",
    "        return scenes"
   ]
  },
  {
   "cell_type": "code",
   "execution_count": 6,
   "metadata": {},
   "outputs": [
    {
     "name": "stdout",
     "output_type": "stream",
     "text": [
      "dev-usgs-landsat-level-0/l0rp/oli-tirs/2016/160/054/ does not exist\n",
      "dev-usgs-landsat-level-0/l0rp/oli-tirs/2016/161/077/ does not exist\n",
      "dev-usgs-landsat-level-0/l0rp/oli-tirs/2016/176/084/ does not exist\n",
      "dev-usgs-landsat-level-0/l0rp/oli-tirs/2016/177/082/ does not exist\n",
      "dev-usgs-landsat-level-0/l0rp/oli-tirs/2016/206/048/ does not exist\n",
      "dev-usgs-landsat-level-0/l0rp/oli-tirs/2016/206/049/ does not exist\n",
      "Number of Africa scenes: 29760\n"
     ]
    },
    {
     "data": {
      "text/plain": [
       "'Success'"
      ]
     },
     "execution_count": 6,
     "metadata": {},
     "output_type": "execute_result"
    }
   ],
   "source": [
    "import requests as r\n",
    "\n",
    "\n",
    "\n",
    "# Generate scene list for nigeria\n",
    "def write_to_s3(body, s3_location):\n",
    "    bucket, key = s3_location.split('/', 1)\n",
    "    return s3.put_object(\n",
    "        Body=body,\n",
    "        Bucket=bucket,\n",
    "        Key=key\n",
    "    )\n",
    "\n",
    "def generate_scene_list(scenes, tram_code, s3_location):\n",
    "    scenes = [scene + \",\" + tram_code for scene in scenes]\n",
    "    scenes = '\\n'.join(scenes)\n",
    "    result = write_to_s3(scenes, s3_location)\n",
    "    \n",
    "    if result['ResponseMetadata']['HTTPStatusCode'] == 200:\n",
    "        return 'Success'\n",
    "    else:\n",
    "        return result\n",
    "\n",
    "\n",
    "import pandas as pd\n",
    "from pandas import ExcelWriter\n",
    "from pandas import ExcelFile\n",
    "\n",
    "df = pd.read_excel('Africa.xlsx')\n",
    "\n",
    "africa_path_row_list = df['Unnamed: 2'].tolist()\n",
    "\n",
    "africa_scenes = get_scenes('20', africa_path_row_list)\n",
    "print('Number of Africa scenes: {}'.format(len(africa_scenes)))\n",
    "\n",
    "tram_code = 'XO220'\n",
    "s3_location = 'rhassan-dev-test/2016_africa_scene_list.txt'\n",
    "\n",
    "generate_scene_list(africa_scenes, tram_code, s3_location)"
   ]
  },
  {
   "cell_type": "code",
   "execution_count": 5,
   "metadata": {},
   "outputs": [
    {
     "data": {
      "text/plain": [
       "19460"
      ]
     },
     "execution_count": 5,
     "metadata": {},
     "output_type": "execute_result"
    }
   ],
   "source": [
    "len(africa_scenes)"
   ]
  },
  {
   "cell_type": "code",
   "execution_count": null,
   "metadata": {},
   "outputs": [],
   "source": []
  }
 ],
 "metadata": {
  "kernelspec": {
   "display_name": "Python 3",
   "language": "python",
   "name": "python3"
  },
  "language_info": {
   "codemirror_mode": {
    "name": "ipython",
    "version": 3
   },
   "file_extension": ".py",
   "mimetype": "text/x-python",
   "name": "python",
   "nbconvert_exporter": "python",
   "pygments_lexer": "ipython3",
   "version": "3.7.4"
  }
 },
 "nbformat": 4,
 "nbformat_minor": 2
}
