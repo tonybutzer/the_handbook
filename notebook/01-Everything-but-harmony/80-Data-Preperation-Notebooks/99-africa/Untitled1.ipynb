{
 "cells": [
  {
   "cell_type": "code",
   "execution_count": 1,
   "metadata": {},
   "outputs": [
    {
     "name": "stdout",
     "output_type": "stream",
     "text": [
      "/bin/sh: 1: gdalinfo: not found\r\n"
     ]
    }
   ],
   "source": [
    "!gdalinfo /vsis3/rhassan-dev-test/junkbox/LC08_L2SP_190051_20180224_20190821_02_T1/LC08_L2SP_190051_20180224_20190821_02_T1_SR_B1.TIF\n"
   ]
  },
  {
   "cell_type": "code",
   "execution_count": null,
   "metadata": {},
   "outputs": [],
   "source": []
  }
 ],
 "metadata": {
  "kernelspec": {
   "display_name": "Python 3",
   "language": "python",
   "name": "python3"
  },
  "language_info": {
   "codemirror_mode": {
    "name": "ipython",
    "version": 3
   },
   "file_extension": ".py",
   "mimetype": "text/x-python",
   "name": "python",
   "nbconvert_exporter": "python",
   "pygments_lexer": "ipython3",
   "version": "3.7.4"
  }
 },
 "nbformat": 4,
 "nbformat_minor": 2
}
