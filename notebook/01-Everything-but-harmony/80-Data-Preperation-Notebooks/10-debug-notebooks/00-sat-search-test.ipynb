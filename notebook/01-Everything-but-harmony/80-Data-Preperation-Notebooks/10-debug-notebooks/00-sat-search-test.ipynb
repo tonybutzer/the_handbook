{
 "cells": [
  {
   "cell_type": "markdown",
   "metadata": {},
   "source": [
    "# Intermittent Results from sat-search\n",
    "\n",
    "## Reference\n",
    "\n",
    "https://github.com/sat-utils/sat-search/blob/master/tutorial-1.ipynb\n",
    "\n",
    "## Explanation\n",
    "\n",
    "When I run this notebook it seldom makes it to the end without error - - Not long ago these queries were super fast and flawless\n",
    "\n",
    "## How to reproduce the error\n",
    "1. Kernel --> 'Restart & Run All'\n",
    "2. Repeat 10 times\n",
    "\n",
    "- tonybutzer@gmail.com\n"
   ]
  },
  {
   "cell_type": "code",
   "execution_count": null,
   "metadata": {},
   "outputs": [],
   "source": [
    "from satsearch import Search\n",
    "\n",
    "search = Search(bbox=[-110, 39.5, -105, 40.5])\n",
    "print('bbox search: %s items' % search.found())\n",
    "\n",
    "search = Search(time='2018-02-12T00:00:00Z/2018-03-18T12:31:12Z')\n",
    "print('time search: %s items' % search.found())\n",
    "\n",
    "search = Search(query={'eo:cloud_cover': {'lt': 10}})\n",
    "print('cloud_cover search: %s items' % search.found())"
   ]
  },
  {
   "cell_type": "code",
   "execution_count": null,
   "metadata": {},
   "outputs": [],
   "source": [
    "from satsearch import Search\n",
    "bbox=[-110, 39.5, -105, 40.5]\n",
    "time='2018-02-12T00:00:00Z/2018-03-18T12:31:12Z'\n",
    "query={'eo:cloud_cover': {'lt': 10}}\n",
    "\n",
    "search = Search(bbox=bbox, time=time, query=query)\n",
    "print('bbox-time-query search: %s items' % search.found())\n"
   ]
  },
  {
   "cell_type": "code",
   "execution_count": null,
   "metadata": {},
   "outputs": [],
   "source": [
    "type (search)"
   ]
  },
  {
   "cell_type": "code",
   "execution_count": null,
   "metadata": {},
   "outputs": [],
   "source": [
    "dir(search)"
   ]
  },
  {
   "cell_type": "code",
   "execution_count": null,
   "metadata": {},
   "outputs": [],
   "source": [
    "items = search.items()"
   ]
  },
  {
   "cell_type": "code",
   "execution_count": null,
   "metadata": {},
   "outputs": [],
   "source": [
    "type(items)"
   ]
  },
  {
   "cell_type": "code",
   "execution_count": null,
   "metadata": {},
   "outputs": [],
   "source": [
    "item=items[0]"
   ]
  },
  {
   "cell_type": "code",
   "execution_count": null,
   "metadata": {},
   "outputs": [],
   "source": [
    "print(item)"
   ]
  },
  {
   "cell_type": "code",
   "execution_count": null,
   "metadata": {},
   "outputs": [],
   "source": [
    "dir(item)"
   ]
  },
  {
   "cell_type": "code",
   "execution_count": null,
   "metadata": {},
   "outputs": [],
   "source": []
  },
  {
   "cell_type": "code",
   "execution_count": null,
   "metadata": {},
   "outputs": [],
   "source": [
    "item.assets_by_common_name['green']"
   ]
  },
  {
   "cell_type": "code",
   "execution_count": null,
   "metadata": {},
   "outputs": [],
   "source": [
    "item.assets_by_common_name['green']['href']"
   ]
  },
  {
   "cell_type": "code",
   "execution_count": null,
   "metadata": {},
   "outputs": [],
   "source": [
    "sentinel_green_url=item.assets_by_common_name['green']['href']"
   ]
  },
  {
   "cell_type": "code",
   "execution_count": null,
   "metadata": {},
   "outputs": [],
   "source": [
    "!wget https://sentinel-s2-l1c.s3.amazonaws.com/tiles/12/T/WK/2018/3/16/0/B03.jp2"
   ]
  },
  {
   "cell_type": "code",
   "execution_count": null,
   "metadata": {},
   "outputs": [],
   "source": [
    "import xarray\n",
    "ds=xarray.open_rasterio(sentinel_green_url)"
   ]
  },
  {
   "cell_type": "code",
   "execution_count": null,
   "metadata": {},
   "outputs": [],
   "source": [
    "! aws s3 ls s3://sentinel-s2-l1c/ --request-payer requester"
   ]
  },
  {
   "cell_type": "code",
   "execution_count": null,
   "metadata": {},
   "outputs": [],
   "source": [
    "! aws s3 ls s3://sentinel-s2-l1c/tiles/12/T/WK/2018/3/16/0/B03.jp2 --request-payer requester"
   ]
  },
  {
   "cell_type": "code",
   "execution_count": null,
   "metadata": {},
   "outputs": [],
   "source": [
    "#! aws s3 cp s3://sentinel-s2-l1c/tiles/12/T/WK/2018/3/16/0/B03.jp2 . --request-payer requester"
   ]
  },
  {
   "cell_type": "code",
   "execution_count": null,
   "metadata": {},
   "outputs": [],
   "source": [
    "ds=xarray.open_rasterio('./B03.jp2')\n",
    "ds"
   ]
  },
  {
   "cell_type": "code",
   "execution_count": null,
   "metadata": {},
   "outputs": [],
   "source": [
    "ds.plot()"
   ]
  },
  {
   "cell_type": "code",
   "execution_count": null,
   "metadata": {},
   "outputs": [],
   "source": [
    "query = {\n",
    "  \"eo:cloud_cover\": {\n",
    "    \"lt\": 10\n",
    "  },\n",
    "  \"collection\": {\n",
    "    \"eq\": \"landsat-8-l1\"\n",
    "  }\n",
    "}\n",
    "\n",
    "search = Search(query=query)\n",
    "print('%s items found' % search.found())\n",
    "\n",
    "\n",
    "search = Search.search(property=[\"eo:cloud_cover<10\", \"collection=landsat-8-l1\"])\n",
    "print('%s items found' % search.found())\n",
    "'''\n",
    "# or use collection shortcut\n",
    "search = Search.search(collection='landsat-8-l1', property=[\"eo:cloud_cover<10\"])\n",
    "print('%s items found' % search.found())\n",
    "'''"
   ]
  },
  {
   "cell_type": "code",
   "execution_count": null,
   "metadata": {},
   "outputs": [],
   "source": [
    "# or use collection shortcut\n",
    "search = Search.search(collection='landsat-8-l1', property=[\"eo:cloud_cover<10\"])\n",
    "print('%s items found' % search.found())"
   ]
  },
  {
   "cell_type": "code",
   "execution_count": null,
   "metadata": {},
   "outputs": [],
   "source": [
    "! pip3 list |grep sat"
   ]
  },
  {
   "cell_type": "code",
   "execution_count": null,
   "metadata": {},
   "outputs": [],
   "source": [
    "# ! pip3 install -U sat-search"
   ]
  },
  {
   "cell_type": "code",
   "execution_count": null,
   "metadata": {},
   "outputs": [],
   "source": [
    "# ! pip3 list |grep sat"
   ]
  },
  {
   "cell_type": "code",
   "execution_count": null,
   "metadata": {},
   "outputs": [],
   "source": []
  }
 ],
 "metadata": {
  "kernelspec": {
   "display_name": "Python 3",
   "language": "python",
   "name": "python3"
  },
  "language_info": {
   "codemirror_mode": {
    "name": "ipython",
    "version": 3
   },
   "file_extension": ".py",
   "mimetype": "text/x-python",
   "name": "python",
   "nbconvert_exporter": "python",
   "pygments_lexer": "ipython3",
   "version": "3.7.3"
  }
 },
 "nbformat": 4,
 "nbformat_minor": 2
}
