{
 "cells": [
  {
   "cell_type": "code",
   "execution_count": 1,
   "metadata": {},
   "outputs": [
    {
     "data": {
      "text/plain": [
       "'1.7+11.gf30b27c0.dirty'"
      ]
     },
     "execution_count": 1,
     "metadata": {},
     "output_type": "execute_result"
    }
   ],
   "source": [
    "%matplotlib inline\n",
    "\n",
    "import datacube\n",
    "dc = datacube.Datacube(app='deafro-test')"
   ]
  },
  {
   "cell_type": "code",
   "execution_count": 3,
   "metadata": {},
   "outputs": [
    {
     "data": {
      "text/html": [
       "<div>\n",
       "<style scoped>\n",
       "    .dataframe tbody tr th:only-of-type {\n",
       "        vertical-align: middle;\n",
       "    }\n",
       "\n",
       "    .dataframe tbody tr th {\n",
       "        vertical-align: top;\n",
       "    }\n",
       "\n",
       "    .dataframe thead th {\n",
       "        text-align: right;\n",
       "    }\n",
       "</style>\n",
       "<table border=\"1\" class=\"dataframe\">\n",
       "  <thead>\n",
       "    <tr style=\"text-align: right;\">\n",
       "      <th></th>\n",
       "      <th>name</th>\n",
       "      <th>description</th>\n",
       "      <th>format</th>\n",
       "      <th>lat</th>\n",
       "      <th>creation_time</th>\n",
       "      <th>instrument</th>\n",
       "      <th>product_type</th>\n",
       "      <th>time</th>\n",
       "      <th>platform</th>\n",
       "      <th>lon</th>\n",
       "      <th>label</th>\n",
       "      <th>crs</th>\n",
       "      <th>resolution</th>\n",
       "      <th>tile_size</th>\n",
       "      <th>spatial_dimensions</th>\n",
       "    </tr>\n",
       "    <tr>\n",
       "      <th>id</th>\n",
       "      <th></th>\n",
       "      <th></th>\n",
       "      <th></th>\n",
       "      <th></th>\n",
       "      <th></th>\n",
       "      <th></th>\n",
       "      <th></th>\n",
       "      <th></th>\n",
       "      <th></th>\n",
       "      <th></th>\n",
       "      <th></th>\n",
       "      <th></th>\n",
       "      <th></th>\n",
       "      <th></th>\n",
       "      <th></th>\n",
       "    </tr>\n",
       "  </thead>\n",
       "  <tbody>\n",
       "    <tr>\n",
       "      <th>3</th>\n",
       "      <td>ls5_usgs_sr_scene</td>\n",
       "      <td>Landsat 5 USGS Collection 1 Level2 Surface Ref...</td>\n",
       "      <td>GeoTIFF</td>\n",
       "      <td>None</td>\n",
       "      <td>None</td>\n",
       "      <td>TM</td>\n",
       "      <td>LEVEL2_USGS</td>\n",
       "      <td>None</td>\n",
       "      <td>LANDSAT_5</td>\n",
       "      <td>None</td>\n",
       "      <td>None</td>\n",
       "      <td>NaN</td>\n",
       "      <td>NaN</td>\n",
       "      <td>NaN</td>\n",
       "      <td>NaN</td>\n",
       "    </tr>\n",
       "    <tr>\n",
       "      <th>2</th>\n",
       "      <td>ls7_usgs_sr_scene</td>\n",
       "      <td>Landsat 7 USGS Collection 1 Level2 Surface Ref...</td>\n",
       "      <td>GeoTIFF</td>\n",
       "      <td>None</td>\n",
       "      <td>None</td>\n",
       "      <td>ETM</td>\n",
       "      <td>LEVEL2_USGS</td>\n",
       "      <td>None</td>\n",
       "      <td>LANDSAT_7</td>\n",
       "      <td>None</td>\n",
       "      <td>None</td>\n",
       "      <td>NaN</td>\n",
       "      <td>NaN</td>\n",
       "      <td>NaN</td>\n",
       "      <td>NaN</td>\n",
       "    </tr>\n",
       "    <tr>\n",
       "      <th>1</th>\n",
       "      <td>ls8_usgs_sr_scene</td>\n",
       "      <td>Landsat 8 USGS Collection 1 Higher Level SR sc...</td>\n",
       "      <td>GeoTIFF</td>\n",
       "      <td>None</td>\n",
       "      <td>None</td>\n",
       "      <td>OLI_TIRS</td>\n",
       "      <td>LEVEL2_USGS</td>\n",
       "      <td>None</td>\n",
       "      <td>LANDSAT_8</td>\n",
       "      <td>None</td>\n",
       "      <td>None</td>\n",
       "      <td>NaN</td>\n",
       "      <td>NaN</td>\n",
       "      <td>NaN</td>\n",
       "      <td>NaN</td>\n",
       "    </tr>\n",
       "  </tbody>\n",
       "</table>\n",
       "</div>"
      ],
      "text/plain": [
       "                 name                                        description  \\\n",
       "id                                                                         \n",
       "3   ls5_usgs_sr_scene  Landsat 5 USGS Collection 1 Level2 Surface Ref...   \n",
       "2   ls7_usgs_sr_scene  Landsat 7 USGS Collection 1 Level2 Surface Ref...   \n",
       "1   ls8_usgs_sr_scene  Landsat 8 USGS Collection 1 Higher Level SR sc...   \n",
       "\n",
       "     format   lat creation_time instrument product_type  time   platform  \\\n",
       "id                                                                         \n",
       "3   GeoTIFF  None          None         TM  LEVEL2_USGS  None  LANDSAT_5   \n",
       "2   GeoTIFF  None          None        ETM  LEVEL2_USGS  None  LANDSAT_7   \n",
       "1   GeoTIFF  None          None   OLI_TIRS  LEVEL2_USGS  None  LANDSAT_8   \n",
       "\n",
       "     lon label  crs  resolution  tile_size  spatial_dimensions  \n",
       "id                                                              \n",
       "3   None  None  NaN         NaN        NaN                 NaN  \n",
       "2   None  None  NaN         NaN        NaN                 NaN  \n",
       "1   None  None  NaN         NaN        NaN                 NaN  "
      ]
     },
     "execution_count": 3,
     "metadata": {},
     "output_type": "execute_result"
    }
   ],
   "source": [
    "dc.list_products()"
   ]
  },
  {
   "cell_type": "code",
   "execution_count": 15,
   "metadata": {},
   "outputs": [],
   "source": [
    "datasets = dc.load(\n",
    "    product='ls8_usgs_sr_scene',\n",
    "    output_crs='EPSG:4326',\n",
    "    resolution=(0.001,0.001),\n",
    "    id='6628fa9b-36da-50d5-96b8-44d78ac0e9e4'\n",
    ")"
   ]
  },
  {
   "cell_type": "code",
   "execution_count": null,
   "metadata": {},
   "outputs": [],
   "source": [
    "datasets.red.plot()"
   ]
  }
 ],
 "metadata": {
  "kernelspec": {
   "display_name": "Python 3",
   "language": "python",
   "name": "python3"
  },
  "language_info": {
   "codemirror_mode": {
    "name": "ipython",
    "version": 3
   },
   "file_extension": ".py",
   "mimetype": "text/x-python",
   "name": "python",
   "nbconvert_exporter": "python",
   "pygments_lexer": "ipython3",
   "version": "3.6.8"
  }
 },
 "nbformat": 4,
 "nbformat_minor": 2
}
