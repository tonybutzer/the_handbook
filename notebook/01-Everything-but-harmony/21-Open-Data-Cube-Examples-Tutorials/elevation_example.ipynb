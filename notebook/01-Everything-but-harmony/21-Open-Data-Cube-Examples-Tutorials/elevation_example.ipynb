{
 "cells": [
  {
   "cell_type": "markdown",
   "metadata": {},
   "source": [
    "# African Elevation Model\n",
    "\n",
    "This is a simple notebook that loads elevation data over Africa."
   ]
  },
  {
   "cell_type": "code",
   "execution_count": null,
   "metadata": {},
   "outputs": [],
   "source": [
    "# Example site: Kilimanjaro above the Sarangeti\n",
    "coordinates = [-3.068582, 37.355713]"
   ]
  },
  {
   "cell_type": "code",
   "execution_count": null,
   "metadata": {},
   "outputs": [],
   "source": [
    "# For simplicity, store the centre X and Y coords\n",
    "centre_x = coordinates[1]  # longitude\n",
    "centre_y = coordinates[0]  # latitude\n",
    "\n",
    "# And now make a bounding box with them\n",
    "box_size = 0.25\n",
    "bounding_box_x =  (centre_x - box_size, centre_x + box_size)\n",
    "bounding_box_y =  (centre_y - box_size, centre_y + box_size)"
   ]
  },
  {
   "cell_type": "code",
   "execution_count": null,
   "metadata": {},
   "outputs": [],
   "source": [
    "%matplotlib inline\n",
    "import datacube\n",
    "import warnings\n",
    "warnings.filterwarnings('ignore')  # suppress warnings\n",
    "\n",
    "dc = datacube.Datacube(app='elevation-example')\n",
    "\n",
    "# This command here does the loading of data\n",
    "dataset = dc.load(\n",
    "    product='srtm',\n",
    "    x=bounding_box_x,\n",
    "    y=bounding_box_y\n",
    ")"
   ]
  },
  {
   "cell_type": "code",
   "execution_count": null,
   "metadata": {},
   "outputs": [],
   "source": [
    "# Check out what we loaded\n",
    "print(dataset)"
   ]
  },
  {
   "cell_type": "code",
   "execution_count": null,
   "metadata": {},
   "outputs": [],
   "source": [
    "# This section creates a plot with a hillshade, which shows the elevation nicely\n",
    "from matplotlib.colors import LightSource\n",
    "\n",
    "elevation = dataset.elevation.isel(time=0).values\n",
    "\n",
    "ls = LightSource(azdeg=315, altdeg=45)\n",
    "shade = ls.hillshade(elevation, vert_exag=5)\n",
    "\n",
    "dataset['shaded'] = (['latitude', 'longitude'], elevation * shade)\n",
    "dataset.shaded.plot.imshow(size=10, interpolation='bilinear')"
   ]
  }
 ],
 "metadata": {
  "kernelspec": {
   "display_name": "Python 3",
   "language": "python",
   "name": "python3"
  },
  "language_info": {
   "codemirror_mode": {
    "name": "ipython",
    "version": 3
   },
   "file_extension": ".py",
   "mimetype": "text/x-python",
   "name": "python",
   "nbconvert_exporter": "python",
   "pygments_lexer": "ipython3",
   "version": "3.6.8"
  }
 },
 "nbformat": 4,
 "nbformat_minor": 2
}
