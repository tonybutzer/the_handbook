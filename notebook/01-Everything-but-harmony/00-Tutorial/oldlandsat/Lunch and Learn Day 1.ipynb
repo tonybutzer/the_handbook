{
 "cells": [
  {
   "cell_type": "markdown",
   "metadata": {},
   "source": [
    "# Pangeo: Lunch and Learn Beginner Demo"
   ]
  },
  {
   "cell_type": "markdown",
   "metadata": {},
   "source": [
    "## Section 1: Introduction\n",
    "***\n",
    "- [1.1 What is a Jupyter Notebook](#1.1)\n",
    "- [1.2 What is Pangeo](#1.2)\n",
    "- [1.3 Introduction to Python](#1.3)\n",
    "- [1.4 Tutorial Structure](#1.4)\n",
    "\n",
    "## Section 2: Working with Variables\n",
    "***\n",
    "- [2.1 What is a variable](#2.1)\n",
    "- [2.2 Numeric Variables](#2.2) \n",
    "- [2.3 Text Variables](#2.3)\n",
    "- [2.4 Concatenate Variables](#2.4)\n",
    "- [2.5 Math with Matrices](#2.5)\n",
    "- [2.6 Variable Troubleshooting](#2.6)\n",
    "\n",
    "## Section 3: Working with Lists\n",
    "***\n",
    "- [3.1 What is a list](#3.1)\n",
    "- [3.2 List Contents](#3.2)\n",
    "- [3.3 List Indexes](#3.3)\n",
    "- [3.4 Inserting and Combining Lists](#3.4)\n",
    "- [3.5 Getting Lengeth of List](#3.5)\n",
    "\n",
    "## Section 4: Loops\n",
    "***\n",
    "- [4.1 What is a Loop](#4.1)\n",
    "- [4.2 For Loop](#4.2)\n",
    "\n",
    "## Section 5: Logic Based Decision Structures\n",
    "***\n",
    "- [5.1 Description](#5.1)\n",
    "- [5.2 If Statement](#5.2)\n",
    "- [5.3 If/Else Statement](#5.3)\n",
    "- [5.4 If/Elif/Else](#5.4)\n",
    "- [5.5 Example Script](#5.5)\n",
    "\n",
    "## Section 6: Basic Error Handling\n",
    "***\n",
    "- [6.1 Description](#6.1)\n",
    "- [6.2 Syntax Errors](#6.2)\n",
    "- [6.3 Indentation Error](#6.3)\n",
    "- [6.4 Exception Errors](#6.4)\n",
    "\n",
    "## Section 7:  Rendering Geo-Spatial Objects in a Notebook\n",
    "***\n",
    "- [7.1 Working with Geo-JSON/Vector Files](#7.1)\n",
    "- [7.2 Working with Landsat imagery stored in the cloud](#7.2)"
   ]
  },
  {
   "cell_type": "markdown",
   "metadata": {},
   "source": [
    "### 1.1 What is a Jupyter Notebook <a id=\"1.1\"></a>\n"
   ]
  },
  {
   "cell_type": "markdown",
   "metadata": {},
   "source": [
    "#### Juypter Notebook basics\n",
    "\n",
    "- Markdown cells use hashes and other symbols for simple text modification\n",
    "- Code cells can use hashes as well to comment out a line in the code\n",
    "\n",
    "#### To add a new cell\n",
    "\n",
    "- Turn the cell blue by clicking in the margin\n",
    "- Type \"a\" on the keyboard to add a new cell above the current cell\n",
    "- Type \"b\" on the keyboard to add a new cell below the current cell\n",
    "\n",
    "#### To delete a cell\n",
    "\n",
    "- Turn the cell blue by clicking in the margin\n",
    "- Type \"dd\" on the keyboard and the cell will be deleted"
   ]
  },
  {
   "cell_type": "markdown",
   "metadata": {},
   "source": [
    "A Jupyter Notebook is an open-source web-based software tool that allows you to create documents that combine runnable"
   ]
  },
  {
   "cell_type": "code",
   "execution_count": null,
   "metadata": {},
   "outputs": [],
   "source": [
    "print(\"Python Code\")"
   ]
  },
  {
   "cell_type": "markdown",
   "metadata": {},
   "source": [
    "(and code from other languages as well), its output, as well as formatted "
   ]
  },
  {
   "cell_type": "markdown",
   "metadata": {},
   "source": [
    "## ***text***"
   ]
  },
  {
   "cell_type": "markdown",
   "metadata": {},
   "source": [
    "and Images \n",
    "<img src=\"https://pangeo.io/_images/pangeo_tech_1.png\"\n",
    "     alt=\"Pangeo Concept\"\n",
    "     style=\"float: left; margin-right: 10px;\" />\n",
    "\n",
    "in an interactive web application"
   ]
  },
  {
   "cell_type": "markdown",
   "metadata": {},
   "source": [
    "### 1.2 What is Pangeo <a id=\"1.2\"></a>"
   ]
  },
  {
   "cell_type": "markdown",
   "metadata": {},
   "source": [
    "- Pangeo is a community focused on promoting open, reproducible and scalable scence\n",
    "- Pangeo software is composed of open source tools such as xarray, iris, dark, juputer and others\n",
    "- Our Pangeo instance can be found at pangeo.chs.usgs.gov\n",
    "- Additional information on Pangeo can be found at https://pangeo.io/"
   ]
  },
  {
   "cell_type": "markdown",
   "metadata": {},
   "source": [
    "### 1.3 Basic Python Syntax <a id=\"1.3\"></a>"
   ]
  },
  {
   "cell_type": "markdown",
   "metadata": {},
   "source": [
    "- Python is case sensative both in variable names and reserved words\n",
    "- You end a python satement by pressing enter and begin a new line. No special character at the end of a line is required\n",
    "- If you have a long statement you want to display on multiple lines use a backslash (\\) which is a line continuation character, This helps with readability \n",
    "- Indentation is required to logically link certain lines, blocks or loops of code\n",
    "- You can add a comment to your code by beginning a line with a # sign"
   ]
  },
  {
   "cell_type": "markdown",
   "metadata": {},
   "source": [
    "### 1.4 Tutorial Structure <a id=\"1.4\"></a>"
   ]
  },
  {
   "cell_type": "markdown",
   "metadata": {},
   "source": [
    "- Runnable code is provided as a mark up cell with the c"
   ]
  },
  {
   "cell_type": "markdown",
   "metadata": {},
   "source": [
    "### 2.1 What is a variable<a id=\"2.1\"></a>"
   ]
  },
  {
   "cell_type": "markdown",
   "metadata": {},
   "source": [
    "- Variables are used to store an object in memory\n",
    "- Can be strings (text), numbers etc.\n",
    "- Variables are denoted in python by declaring an = sign EG: a = \"red\" where the variable a is equal to red"
   ]
  },
  {
   "cell_type": "markdown",
   "metadata": {},
   "source": [
    "### 2.2 Numeric Variables <a id=\"2.2\"></a>"
   ]
  },
  {
   "cell_type": "markdown",
   "metadata": {},
   "source": [
    "```\n",
    "x = 1\n",
    "x\n",
    "```"
   ]
  },
  {
   "cell_type": "code",
   "execution_count": null,
   "metadata": {},
   "outputs": [],
   "source": []
  },
  {
   "cell_type": "markdown",
   "metadata": {},
   "source": [
    "```\n",
    "x = 1\n",
    "x + 1\n",
    "```"
   ]
  },
  {
   "cell_type": "code",
   "execution_count": null,
   "metadata": {},
   "outputs": [],
   "source": []
  },
  {
   "cell_type": "markdown",
   "metadata": {},
   "source": [
    "```\n",
    "x = 1\n",
    "print(x)\n",
    "```"
   ]
  },
  {
   "cell_type": "code",
   "execution_count": null,
   "metadata": {},
   "outputs": [],
   "source": []
  },
  {
   "cell_type": "markdown",
   "metadata": {},
   "source": [
    "```\n",
    "x = 1\n",
    "print(x + 1)\n",
    "```"
   ]
  },
  {
   "cell_type": "code",
   "execution_count": null,
   "metadata": {},
   "outputs": [],
   "source": []
  },
  {
   "cell_type": "markdown",
   "metadata": {},
   "source": [
    "### 2.3 Text Variables <a id=\"2.3\"></a>"
   ]
  },
  {
   "cell_type": "markdown",
   "metadata": {},
   "source": [
    "```\n",
    "yourState = \"Minnesota\"\n",
    "print(yourState)\n",
    "```"
   ]
  },
  {
   "cell_type": "code",
   "execution_count": null,
   "metadata": {},
   "outputs": [],
   "source": []
  },
  {
   "cell_type": "markdown",
   "metadata": {},
   "source": [
    "#### Learning Opprotunity: Modify the above to set a variable to your state and print the result."
   ]
  },
  {
   "cell_type": "code",
   "execution_count": null,
   "metadata": {},
   "outputs": [],
   "source": []
  },
  {
   "cell_type": "markdown",
   "metadata": {},
   "source": [
    "### 2.4 Concatenate Variables <a id=\"2.4\"></a>"
   ]
  },
  {
   "cell_type": "markdown",
   "metadata": {},
   "source": [
    "```\n",
    "myCity = \"Marshall\"\n",
    "myState = \"Minnesota\"\n",
    "print(myCity+\", \" + myState)\n",
    "```"
   ]
  },
  {
   "cell_type": "code",
   "execution_count": null,
   "metadata": {},
   "outputs": [],
   "source": []
  },
  {
   "cell_type": "markdown",
   "metadata": {},
   "source": [
    "#### Learning Opprotunity: Modify the above to set a variable to your city and another variable to your state,  and print the result using a concatenate operatior (+)."
   ]
  },
  {
   "cell_type": "code",
   "execution_count": null,
   "metadata": {},
   "outputs": [],
   "source": []
  },
  {
   "cell_type": "markdown",
   "metadata": {},
   "source": [
    "### 2.5 Math with Matrices <a id=\"2.5\"></a>"
   ]
  },
  {
   "cell_type": "markdown",
   "metadata": {},
   "source": [
    "```\n",
    "import numpy as np\n",
    "```"
   ]
  },
  {
   "cell_type": "code",
   "execution_count": null,
   "metadata": {},
   "outputs": [],
   "source": []
  },
  {
   "cell_type": "markdown",
   "metadata": {},
   "source": [
    "```\n",
    "a = np.array([[3, 3, 2], [2, 3, 2], [2, 2, 3]])\n",
    "print(a)\n",
    "```"
   ]
  },
  {
   "cell_type": "code",
   "execution_count": null,
   "metadata": {},
   "outputs": [],
   "source": []
  },
  {
   "cell_type": "markdown",
   "metadata": {},
   "source": [
    "```\n",
    "b = np.array([[1, 1, 1], [1, 1, 1], [1, 1, 1]])\n",
    "print(b)\n",
    "```"
   ]
  },
  {
   "cell_type": "code",
   "execution_count": null,
   "metadata": {},
   "outputs": [],
   "source": []
  },
  {
   "cell_type": "markdown",
   "metadata": {},
   "source": [
    "```\n",
    "c = a - b\n",
    "print(c)\n",
    "```"
   ]
  },
  {
   "cell_type": "code",
   "execution_count": null,
   "metadata": {},
   "outputs": [],
   "source": []
  },
  {
   "cell_type": "markdown",
   "metadata": {},
   "source": [
    "### 2.6 Variable Troubleshooting <a id=\"2.6\"></a>"
   ]
  },
  {
   "cell_type": "markdown",
   "metadata": {},
   "source": [
    "#### Learning Opprotunity: After each line run the code to see the error produced. Extra credit modify the code using the cell below the incorrect code to get the code to run without error."
   ]
  },
  {
   "cell_type": "markdown",
   "metadata": {},
   "source": [
    "- Variable names are case sensitive. myVariable is a different variable than MyVariable"
   ]
  },
  {
   "cell_type": "code",
   "execution_count": null,
   "metadata": {},
   "outputs": [],
   "source": [
    "myVariable = 1\n",
    "print(MyVariable)"
   ]
  },
  {
   "cell_type": "code",
   "execution_count": null,
   "metadata": {},
   "outputs": [],
   "source": []
  },
  {
   "cell_type": "markdown",
   "metadata": {},
   "source": [
    "- Variable names are case sensitive. myVariable is a different variable than MyVariable"
   ]
  },
  {
   "cell_type": "code",
   "execution_count": null,
   "metadata": {},
   "outputs": [],
   "source": [
    "myVariable = 1\n",
    "print(MyVariable)"
   ]
  },
  {
   "cell_type": "code",
   "execution_count": null,
   "metadata": {},
   "outputs": [],
   "source": []
  },
  {
   "cell_type": "markdown",
   "metadata": {},
   "source": [
    "- Variable names cannot contain spaces"
   ]
  },
  {
   "cell_type": "code",
   "execution_count": null,
   "metadata": {},
   "outputs": [],
   "source": [
    "my Variable = 1\n",
    "print(my Variable)"
   ]
  },
  {
   "cell_type": "code",
   "execution_count": null,
   "metadata": {},
   "outputs": [],
   "source": []
  },
  {
   "cell_type": "markdown",
   "metadata": {},
   "source": [
    "- Variable names cannot begin with a number"
   ]
  },
  {
   "cell_type": "code",
   "execution_count": null,
   "metadata": {},
   "outputs": [],
   "source": [
    "1 = \"variable\"\n",
    "print(1)"
   ]
  },
  {
   "cell_type": "code",
   "execution_count": null,
   "metadata": {},
   "outputs": [],
   "source": []
  },
  {
   "cell_type": "markdown",
   "metadata": {},
   "source": [
    "- Variables cannot be any of the special Python reserved words such as \"import\" or \"print\""
   ]
  },
  {
   "cell_type": "code",
   "execution_count": null,
   "metadata": {},
   "outputs": [],
   "source": [
    "import = 'variable'\n",
    "print(import)"
   ]
  },
  {
   "cell_type": "code",
   "execution_count": null,
   "metadata": {},
   "outputs": [],
   "source": []
  },
  {
   "cell_type": "markdown",
   "metadata": {},
   "source": [
    "#### Other Best Practices\n",
    "- A recommended practice for Python variables is to name the variable beginning with a lower-case letter, then begin each subsequent word with a capital letter. This is sometimes known as camel casing. Example: myVariable, mySecondVariable, roadsTable, bufferField1, etc\n",
    "- Make variable names meaningful so that others can easily read your code. This will also help you read your code and avoid making mistakes"
   ]
  },
  {
   "cell_type": "markdown",
   "metadata": {},
   "source": [
    "### 3.1 What is a list <a id=\"3.1\"></a>"
   ]
  },
  {
   "cell_type": "markdown",
   "metadata": {},
   "source": [
    "- Lists are used to store multiple related values together\n",
    "- Can contain both integer (number) and string values (text)\n",
    "- Contents are enclosed in [ ]\n",
    "- Each record is assigned an index values"
   ]
  },
  {
   "cell_type": "markdown",
   "metadata": {},
   "source": [
    "### 3.2 List Contents <a id=\"3.2\"></a>\n",
    "Type or copy and paste the list and variable calling the list to print the list contents"
   ]
  },
  {
   "cell_type": "markdown",
   "metadata": {},
   "source": [
    "```\n",
    "instruments = ['MSS', 'TM', 'ETM', 'OLI']\n",
    "print(instruments)\n",
    "```"
   ]
  },
  {
   "cell_type": "code",
   "execution_count": null,
   "metadata": {},
   "outputs": [],
   "source": []
  },
  {
   "cell_type": "markdown",
   "metadata": {},
   "source": [
    "```\n",
    "instruments = [1, 2, 3, 4, 5, 'ETM', 'OLI']\n",
    "instruments\n",
    "```"
   ]
  },
  {
   "cell_type": "code",
   "execution_count": null,
   "metadata": {},
   "outputs": [],
   "source": []
  },
  {
   "cell_type": "markdown",
   "metadata": {},
   "source": [
    "### 3.3 List Index<a id=\"3.3\"></a>\n",
    "Indexes start with 0 for the first record in the list and increase by 1 for each value in the list"
   ]
  },
  {
   "cell_type": "markdown",
   "metadata": {},
   "source": [
    "```\n",
    "instruments = ['MSS', 'TM', 'ETM', 'OLI']\n",
    "\n",
    "print(instruments[0])\n",
    "```"
   ]
  },
  {
   "cell_type": "code",
   "execution_count": null,
   "metadata": {},
   "outputs": [],
   "source": []
  },
  {
   "cell_type": "markdown",
   "metadata": {},
   "source": [
    "#### Learning Opprotunity: Modify the above code to print another instrument based on a different list index position."
   ]
  },
  {
   "cell_type": "code",
   "execution_count": null,
   "metadata": {},
   "outputs": [],
   "source": []
  },
  {
   "cell_type": "markdown",
   "metadata": {},
   "source": [
    "### 3.4 Inserting and Combining Lists<a id=\"3.4\"></a>"
   ]
  },
  {
   "cell_type": "markdown",
   "metadata": {},
   "source": [
    "```\n",
    "#Append adds value to end of list\n",
    "instruments = ['MSS', 'TM', 'ETM']\n",
    "instruments.append('OLI')\n",
    "print(instruments)\n",
    "```"
   ]
  },
  {
   "cell_type": "code",
   "execution_count": null,
   "metadata": {
    "scrolled": true
   },
   "outputs": [],
   "source": []
  },
  {
   "cell_type": "markdown",
   "metadata": {},
   "source": [
    "#### Learning Opprotunity: Modify this code to append OLI2 onto the end of the list."
   ]
  },
  {
   "cell_type": "markdown",
   "metadata": {},
   "source": [
    "```\n",
    "instruments = ['MSS', 'TM', 'ETM', 'OLI']\n",
    "print(instruments)\n",
    "```"
   ]
  },
  {
   "cell_type": "code",
   "execution_count": null,
   "metadata": {},
   "outputs": [],
   "source": []
  },
  {
   "cell_type": "markdown",
   "metadata": {},
   "source": [
    "```\n",
    "#Insert adds value in any positions specified by index value\n",
    "instruments = ['MSS', 'ETM', 'OLI']\n",
    "instruments.insert(1, 'TM')\n",
    "print(instruments)\n",
    "```"
   ]
  },
  {
   "cell_type": "code",
   "execution_count": null,
   "metadata": {},
   "outputs": [],
   "source": []
  },
  {
   "cell_type": "markdown",
   "metadata": {},
   "source": [
    "### 3.5 Getting Length of List<a id=\"3.5\"></a>"
   ]
  },
  {
   "cell_type": "markdown",
   "metadata": {},
   "source": [
    "```\n",
    "instruments = ['MSS', 'TM', 'ETM', 'OLI']\n",
    "#len = legnth\n",
    "print(len(instruments))\n",
    "```"
   ]
  },
  {
   "cell_type": "code",
   "execution_count": null,
   "metadata": {},
   "outputs": [],
   "source": []
  },
  {
   "cell_type": "markdown",
   "metadata": {},
   "source": [
    "### 4.1 What is a Loop<a id=\"4.1\"></a>"
   ]
  },
  {
   "cell_type": "markdown",
   "metadata": {},
   "source": [
    "- A loop is a section of code that repeats an action\n",
    "- The power of scripting (and computing in general) is the ability to quickly repeat a task that might be time-consuming or error-prone for a human\n",
    "- Looping is how you repeat tasks with code; whether its reading a file, searching for a value, or performing the same action on each item in a list"
   ]
  },
  {
   "cell_type": "markdown",
   "metadata": {},
   "source": [
    "### 4.2 For Loop<a id=\"4.2\"></a>"
   ]
  },
  {
   "cell_type": "markdown",
   "metadata": {},
   "source": [
    "```\n",
    "#A for loop does something with each item in a list\n",
    "instruments = ['MSS', 'TM', 'ETM', 'OLI']\n",
    "#For Loop where item is the individual component in the list \n",
    "for item in instruments:\n",
    "    print(item + ' Is a Landsat Instrument.')\n",
    "```"
   ]
  },
  {
   "cell_type": "code",
   "execution_count": null,
   "metadata": {},
   "outputs": [],
   "source": []
  },
  {
   "cell_type": "markdown",
   "metadata": {},
   "source": [
    "### 5.1 Logic Description<a id=\"5.1\"></a>"
   ]
  },
  {
   "cell_type": "markdown",
   "metadata": {},
   "source": [
    "Many scripts that you write will need to have conditional logic that executes a block of code given a condition and perhaps executes a different block of code given a different condition. The \"if,\" \"elif,\" and \"else\" statements in Python provide this conditional logic"
   ]
  },
  {
   "cell_type": "markdown",
   "metadata": {},
   "source": [
    "### 5.2 If Statement<a id=\"5.2\"></a>"
   ]
  },
  {
   "cell_type": "markdown",
   "metadata": {},
   "source": [
    "```\n",
    "#if condition is true then print something\n",
    "x = 3\n",
    "if  x  > 2:\n",
    "    print(\"Greater than two\")\n",
    "```\n"
   ]
  },
  {
   "cell_type": "code",
   "execution_count": null,
   "metadata": {},
   "outputs": [],
   "source": []
  },
  {
   "cell_type": "markdown",
   "metadata": {},
   "source": [
    "### 5.3 If/Else Statement<a id=\"5.3\"></a>"
   ]
  },
  {
   "cell_type": "markdown",
   "metadata": {},
   "source": [
    "```\n",
    "#if condition is true then print something otherwise print something else\n",
    "x = 1\n",
    "if x  > 2:\n",
    "    print(\"Greater than two\")\n",
    "else:\n",
    "    print(\"Less than or equal to two\")\n",
    "```\n"
   ]
  },
  {
   "cell_type": "code",
   "execution_count": null,
   "metadata": {},
   "outputs": [],
   "source": []
  },
  {
   "cell_type": "markdown",
   "metadata": {},
   "source": [
    "### 5.4 If/Elif/Else Statement<a id=\"5.4\"></a>"
   ]
  },
  {
   "cell_type": "markdown",
   "metadata": {},
   "source": [
    "```\n",
    "#if condition is true then print something, if condition equals something print something, or if condition equals \n",
    "#something else print something\n",
    "x = 2\n",
    "if x > 2:\n",
    "    print(\"Greater than two\")\n",
    "elif x == 2:\n",
    "    print(\"Equal to two\")\n",
    "else:\n",
    "    print(\"Less than two\")\n",
    "```\n",
    "\n"
   ]
  },
  {
   "cell_type": "code",
   "execution_count": null,
   "metadata": {},
   "outputs": [],
   "source": []
  },
  {
   "cell_type": "markdown",
   "metadata": {},
   "source": [
    "### 5.5 Sample Code<a id=\"5.5\"></a>"
   ]
  },
  {
   "cell_type": "markdown",
   "metadata": {},
   "source": [
    "```\n",
    "import random\n",
    "```"
   ]
  },
  {
   "cell_type": "code",
   "execution_count": null,
   "metadata": {},
   "outputs": [],
   "source": []
  },
  {
   "cell_type": "markdown",
   "metadata": {},
   "source": [
    "```\n",
    "#Choose a random instrument from a list and print it\n",
    "instruments = ['MSS', 'TM', 'ETM', 'ETM+', 'OLI']\n",
    "randominstrumentsIndex = random.randrange(0,4)\n",
    "choseninstrument = instruments[randominstrumentsIndex]\n",
    "print(choseninstrument)\n",
    "```"
   ]
  },
  {
   "cell_type": "code",
   "execution_count": null,
   "metadata": {},
   "outputs": [],
   "source": []
  },
  {
   "cell_type": "markdown",
   "metadata": {},
   "source": [
    "```\n",
    "#Depending on the instrument, print the mission number\n",
    "if choseninstrument == \"MSS\":\n",
    "    print (\"You can be Landsat 1, 2, 3, 4, 5\")\n",
    "elif choseninstrument == \"TM\":\n",
    "    print (\"You can be Landsat 4 or 5\")\n",
    "elif choseninstrument == \"ETM\":\n",
    "    print (\"A fatal error has occured. You are Landsat 6 and you sadly are in the ocean.\")\n",
    "elif choseninstrument == \"ETM+\":\n",
    "    print (\"You are be Landsat 7\")\n",
    "elif choseninstrument == \"OLI\":\n",
    "    print (\"You are Landsat 8\")\n",
    "else:\n",
    "    print (\"This program has an error\")\n",
    "```"
   ]
  },
  {
   "cell_type": "code",
   "execution_count": null,
   "metadata": {},
   "outputs": [],
   "source": []
  },
  {
   "cell_type": "markdown",
   "metadata": {},
   "source": [
    "### 6.1 Error Handling Description<a id=\"6.1\"></a>"
   ]
  },
  {
   "cell_type": "markdown",
   "metadata": {},
   "source": [
    "Error handling increases the robustness of your code, which guards against potential failures that would cause your program to exit in an uncontrolled fashion. For this section run the code as is and use the cell underneath to modify the code so it runs without error."
   ]
  },
  {
   "cell_type": "markdown",
   "metadata": {},
   "source": [
    "### 6.2 Syntax Errors<a id=\"6.2\"></a>"
   ]
  },
  {
   "cell_type": "code",
   "execution_count": null,
   "metadata": {},
   "outputs": [],
   "source": [
    "#Occur when syntactic errors occur in code\n",
    "a = 8\n",
    "b = 10\n",
    "c = a b\n",
    "print(c)"
   ]
  },
  {
   "cell_type": "markdown",
   "metadata": {},
   "source": [
    "#### Learning Opprotunity: Modify the errored code above so it runs without errors."
   ]
  },
  {
   "cell_type": "code",
   "execution_count": null,
   "metadata": {},
   "outputs": [],
   "source": []
  },
  {
   "cell_type": "markdown",
   "metadata": {},
   "source": [
    "### 6.3 Indentation Errors<a id=\"6.3\"></a>"
   ]
  },
  {
   "cell_type": "code",
   "execution_count": null,
   "metadata": {},
   "outputs": [],
   "source": [
    "#Occurs when the improper indentation level is used. Mostly occurs when working with loops\n",
    "for x in range(10):\n",
    "print(\"This is an Error\")\n"
   ]
  },
  {
   "cell_type": "markdown",
   "metadata": {},
   "source": [
    "#### Learning Opprotunity: Modify the errored code above so it runs without errors."
   ]
  },
  {
   "cell_type": "code",
   "execution_count": null,
   "metadata": {},
   "outputs": [],
   "source": []
  },
  {
   "cell_type": "markdown",
   "metadata": {},
   "source": [
    "### 6.4 Exception Errors<a id=\"6.4\"></a>"
   ]
  },
  {
   "cell_type": "markdown",
   "metadata": {},
   "source": [
    "#### Logic Based Handling\n",
    "- Try: Will run the code block in which you expect an error to occur\n",
    "- Except: Define the type of exception you expect\n",
    "- Else: If there is not an exception code will be executed\n"
   ]
  },
  {
   "cell_type": "markdown",
   "metadata": {},
   "source": [
    "```\n",
    "#type or paste this code into the cell below\n",
    "try:\n",
    "    a = 100/0\n",
    "    print(a)\n",
    "except ZeroDivisionError:\n",
    "    print('Zero Division Exception Raised.')\n",
    "else:\n",
    "    print('Success, no error!')\n",
    "```"
   ]
  },
  {
   "cell_type": "code",
   "execution_count": null,
   "metadata": {},
   "outputs": [],
   "source": []
  },
  {
   "cell_type": "markdown",
   "metadata": {},
   "source": [
    "#### Learning Opprotunity: Modify the errored code above so it runs without the Zero Division Error."
   ]
  },
  {
   "cell_type": "code",
   "execution_count": null,
   "metadata": {},
   "outputs": [],
   "source": []
  },
  {
   "cell_type": "markdown",
   "metadata": {},
   "source": [
    "### 7.1 Working with GeoJSON/Vector Files\n",
    "Abstract: In this section the code will read a GeoJson file of the area around Paradise, California. The first section of code will show the geometry of the GeoJson file. The second section of code wills how the geomtry of the GeoJson file placed on a basemap. You can create your own GeoJson files via this website: http://geojson.io/"
   ]
  },
  {
   "cell_type": "markdown",
   "metadata": {},
   "source": [
    "```\n",
    "#Working with geojson files\n",
    "import geopandas as gpd\n",
    "#This Line reads the GeoJson File's Geometry using the Geopandas Python Library\n",
    "df_AOI = gpd.read_file('ParadiseGeoJson.geojson')\n",
    "#This line will show or print the geometry of the GeoJson file\n",
    "df_AOI['geometry'][0] # Show the geometry of the geojson\n",
    "```"
   ]
  },
  {
   "cell_type": "code",
   "execution_count": null,
   "metadata": {},
   "outputs": [],
   "source": []
  },
  {
   "cell_type": "markdown",
   "metadata": {},
   "source": [
    "```\n",
    "#Show the geometry against a basemap\n",
    "import folium\n",
    "#This line sets up the basemap center point, zoom level (larger numbers = larger zoom level), map size and basemap style where the basemap is now declared as variable m.\n",
    "m = folium.Map([39.7614, -121.6214], zoom_start=10, width=900, height=350, tiles='CartoDBdark_matter')\n",
    "#This line adds the GeoJson file to the basemap (m)\n",
    "folium.GeoJson(df_AOI).add_to(m)\n",
    "#This line adds the ability the click on the basemap and display the lat/long of a point in a new window (m)\n",
    "folium.LatLngPopup().add_to(m)\n",
    "#This line displays the final rendering (m)\n",
    "m\n",
    "```"
   ]
  },
  {
   "cell_type": "code",
   "execution_count": null,
   "metadata": {},
   "outputs": [],
   "source": []
  },
  {
   "cell_type": "markdown",
   "metadata": {},
   "source": [
    "### 7.2 Working with Landsat imagery stored in the cloud<a id=\"7.2\"></a>\n",
    "Abstract: In this section the code will read bands 5, 6, and 7 from scene LC08_L1TP_044032_20180719_20180731_01_A1 which is stored in the cloud and render thumbnails of each band."
   ]
  },
  {
   "cell_type": "markdown",
   "metadata": {},
   "source": [
    "```\n",
    "#import requried modules\n",
    "import rasterio\n",
    "import rasterio.plot\n",
    "import numpy as np\n",
    "from rasterio.plot import show\n",
    "```"
   ]
  },
  {
   "cell_type": "code",
   "execution_count": null,
   "metadata": {},
   "outputs": [],
   "source": []
  },
  {
   "cell_type": "markdown",
   "metadata": {},
   "source": [
    "```\n",
    "#Read required bands from before the fire\n",
    "baseUrl = 's3://dev-usgs-landsat/collection1/level2/albers/oli-tirs/2018/044/032/LC08_L1TP_044032_20180719_20180731_01_A1/'\n",
    "#Here we concatenate the baseURL variable with the band names to form the url to the band object in the cloud \n",
    "band5 = baseUrl+'LC08_L1TP_044032_20180719_20180731_01_A1_sr_band5.tif'\n",
    "band6 = baseUrl+'LC08_L1TP_044032_20180719_20180731_01_A1_sr_band6.tif'\n",
    "band7 = baseUrl+'LC08_L1TP_044032_20180719_20180731_01_A1_sr_band7.tif'\n",
    "```"
   ]
  },
  {
   "cell_type": "code",
   "execution_count": null,
   "metadata": {},
   "outputs": [],
   "source": []
  },
  {
   "cell_type": "markdown",
   "metadata": {},
   "source": [
    "```\n",
    "#Here each band is added to a list called bands\n",
    "bands = [band5, band6, band7]\n",
    "```"
   ]
  },
  {
   "cell_type": "code",
   "execution_count": null,
   "metadata": {},
   "outputs": [],
   "source": []
  },
  {
   "cell_type": "markdown",
   "metadata": {},
   "source": [
    "```\n",
    "#Here the list of bands is looped through. Each band becomes the word item. Within the loop each item (band) is opened, read, and rendered.\n",
    "#start loop\n",
    "for item in bands:\n",
    "    #open seach item (band in the list)\n",
    "    with rasterio.open(item) as src: \n",
    "        #read each band and set it to the variable band\n",
    "        band = src.read(1)\n",
    "        #show each band\n",
    "        show(band)\n",
    "```"
   ]
  },
  {
   "cell_type": "code",
   "execution_count": null,
   "metadata": {},
   "outputs": [],
   "source": []
  },
  {
   "cell_type": "markdown",
   "metadata": {},
   "source": [
    "### <center>That is all folks!"
   ]
  },
  {
   "cell_type": "markdown",
   "metadata": {},
   "source": [
    "<img src=\"gif.gif\"/>"
   ]
  },
  {
   "cell_type": "code",
   "execution_count": null,
   "metadata": {},
   "outputs": [],
   "source": []
  }
 ],
 "metadata": {
  "kernelspec": {
   "display_name": "Python 3",
   "language": "python",
   "name": "python3"
  },
  "language_info": {
   "codemirror_mode": {
    "name": "ipython",
    "version": 3
   },
   "file_extension": ".py",
   "mimetype": "text/x-python",
   "name": "python",
   "nbconvert_exporter": "python",
   "pygments_lexer": "ipython3",
   "version": "3.6.8"
  }
 },
 "nbformat": 4,
 "nbformat_minor": 2
}
