{
 "cells": [
  {
   "cell_type": "code",
   "execution_count": null,
   "metadata": {
    "collapsed": true
   },
   "outputs": [],
   "source": [
    "class Book():\n",
    "    def __init__(self, title, author, cover_image=None):\n",
    "        self.title = title\n",
    "        self.author = author\n",
    "        self.cover_image = cover_image\n"
   ]
  },
  {
   "cell_type": "code",
   "execution_count": null,
   "metadata": {
    "collapsed": false
   },
   "outputs": [],
   "source": [
    "Book('Animal Farm', 'George Orwell')"
   ]
  },
  {
   "cell_type": "markdown",
   "metadata": {},
   "source": [
    "\n",
    "\n",
    "\n",
    "\n",
    "\n",
    "\n",
    "\n",
    "\n",
    "\n",
    "\n",
    "\n",
    "\n",
    "\n",
    "\n",
    "\n",
    "\n",
    "\n",
    "\n",
    "\n",
    "\n",
    "\n",
    "\n",
    "\n",
    "\n",
    "\n",
    "\n"
   ]
  },
  {
   "cell_type": "code",
   "execution_count": null,
   "metadata": {
    "collapsed": true
   },
   "outputs": [],
   "source": [
    "class Book():\n",
    "    def __init__(self, title, author, cover_image=None):\n",
    "        self.title = title\n",
    "        self.author = author\n",
    "        self.cover_image = cover_image\n",
    "    \n",
    "    def __repr__(self):\n",
    "        return '<Book> \"%s\" by %s (pic:%s)'%(self.title, self.author, self.cover_image)\n"
   ]
  },
  {
   "cell_type": "code",
   "execution_count": null,
   "metadata": {
    "collapsed": false
   },
   "outputs": [],
   "source": [
    "Book('Animal Farm', 'George Orwell')"
   ]
  },
  {
   "cell_type": "markdown",
   "metadata": {},
   "source": [
    "\n",
    "\n",
    "\n",
    "\n",
    "\n",
    "\n",
    "\n",
    "\n",
    "\n",
    "\n",
    "\n",
    "\n",
    "\n",
    "\n",
    "\n",
    "\n",
    "\n",
    "\n",
    "\n",
    "\n",
    "\n",
    "\n",
    "\n",
    "\n"
   ]
  },
  {
   "cell_type": "code",
   "execution_count": null,
   "metadata": {
    "collapsed": false
   },
   "outputs": [],
   "source": [
    "class Book():\n",
    "    def __init__(self, title, author, cover_image=None):\n",
    "        self.title = title\n",
    "        self.author = author\n",
    "        self.cover_image = cover_image\n",
    "    \n",
    "    def __repr__(self):\n",
    "        return '\"%s\" by %s (pic:%s)'%(self.title, self.author, self.cover_image)\n",
    "    \n",
    "    def _repr_html_(self):\n",
    "        if self.cover_image is None:\n",
    "            return '<ul><li>\"{0}\"</li><li>{1}</li></ul>'.format(self.title, self.author)\n",
    "        else:\n",
    "            return '<ul><li>\"{0}\"</li><li>{1}</li></ul><img src=\"{2}\"></img>'.format(self.title, self.author, self.cover_image)\n",
    "        \n"
   ]
  },
  {
   "cell_type": "code",
   "execution_count": null,
   "metadata": {
    "collapsed": true
   },
   "outputs": [],
   "source": [
    "af_url = 'https://upload.wikimedia.org/wikipedia/commons/thumb/f/fb/Animal_Farm_-_1st_edition.jpg/163px-Animal_Farm_-_1st_edition.jpg'"
   ]
  },
  {
   "cell_type": "code",
   "execution_count": null,
   "metadata": {
    "collapsed": false
   },
   "outputs": [],
   "source": [
    "Book('Animal Farm', 'George Orwell', af_url)"
   ]
  }
 ],
 "metadata": {
  "kernelspec": {
   "display_name": "Python 3",
   "language": "python",
   "name": "python3"
  },
  "language_info": {
   "codemirror_mode": {
    "name": "ipython",
    "version": 3
   },
   "file_extension": ".py",
   "mimetype": "text/x-python",
   "name": "python",
   "nbconvert_exporter": "python",
   "pygments_lexer": "ipython3",
   "version": "3.4.2"
  }
 },
 "nbformat": 4,
 "nbformat_minor": 0
}
