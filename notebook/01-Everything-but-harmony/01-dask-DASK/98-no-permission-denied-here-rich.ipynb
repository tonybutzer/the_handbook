{
 "cells": [
  {
   "cell_type": "code",
   "execution_count": 1,
   "metadata": {},
   "outputs": [
    {
     "name": "stdout",
     "output_type": "stream",
     "text": [
      "Driver: GTiff/GeoTIFF\n",
      "Files: /vsis3_streaming/dev-et-data/compressed/NDVI_filled/2001/2001001.250_m_NDVI.tif\n",
      "       /vsis3_streaming/dev-et-data/compressed/NDVI_filled/2001/2001001.250_m_NDVI.tif.aux.xml\n",
      "Size is 49667, 14416\n",
      "Coordinate System is:\n",
      "GEOGCS[\"WGS 84\",\n",
      "    DATUM[\"WGS_1984\",\n",
      "        SPHEROID[\"WGS 84\",6378137,298.257223563,\n",
      "            AUTHORITY[\"EPSG\",\"7030\"]],\n",
      "        AUTHORITY[\"EPSG\",\"6326\"]],\n",
      "    PRIMEM[\"Greenwich\",0],\n",
      "    UNIT[\"degree\",0.0174532925199433],\n",
      "    AUTHORITY[\"EPSG\",\"4326\"]]\n",
      "Origin = (-155.572382657999981,49.999999996000085)\n",
      "Pixel Size = (0.002081004500000,-0.002081004500000)\n",
      "Metadata:\n",
      "  AREA_OR_POINT=Area\n",
      "  DataType=Generic\n",
      "  OVR_RESAMPLING_ALG=NEAREST\n",
      "Image Structure Metadata:\n",
      "  COMPRESSION=DEFLATE\n",
      "  INTERLEAVE=BAND\n",
      "Corner Coordinates:\n",
      "Upper Left  (-155.5723827,  50.0000000) (155d34'20.58\"W, 50d 0' 0.00\"N)\n",
      "Lower Left  (-155.5723827,  20.0002391) (155d34'20.58\"W, 20d 0' 0.86\"N)\n",
      "Upper Right ( -52.2151322,  50.0000000) ( 52d12'54.48\"W, 50d 0' 0.00\"N)\n",
      "Lower Right ( -52.2151322,  20.0002391) ( 52d12'54.48\"W, 20d 0' 0.86\"N)\n",
      "Center      (-103.8937574,  35.0001196) (103d53'37.53\"W, 35d 0' 0.43\"N)\n",
      "Band 1 Block=512x512 Type=Float32, ColorInterp=Gray\n",
      "  Min=-0.200 Max=0.995 \n",
      "  Minimum=-0.200, Maximum=0.995, Mean=0.237, StdDev=0.206\n",
      "  NoData Value=-3.4028234663852886e+38\n",
      "  Overviews: 24834x7208, 12417x3604, 6209x1802, 3105x901, 1553x451\n",
      "  Metadata:\n",
      "    RepresentationType=ATHEMATIC\n",
      "    STATISTICS_COVARIANCES=0.04233365339028957\n",
      "    STATISTICS_MAXIMUM=0.9951000213623\n",
      "    STATISTICS_MEAN=0.23656789836209\n",
      "    STATISTICS_MINIMUM=-0.20000000298023\n",
      "    STATISTICS_SKIPFACTORX=1\n",
      "    STATISTICS_SKIPFACTORY=1\n",
      "    STATISTICS_STDDEV=0.20575143593737\n"
     ]
    }
   ],
   "source": [
    "! gdalinfo --config AWS_REQUEST_PAYER requester /vsis3_streaming/dev-et-data/compressed/NDVI_filled/2001/2001001.250_m_NDVI.tif"
   ]
  },
  {
   "cell_type": "code",
   "execution_count": 2,
   "metadata": {},
   "outputs": [
    {
     "name": "stdout",
     "output_type": "stream",
     "text": [
      "GDAL 2.3.3, released 2018/12/14\r\n"
     ]
    }
   ],
   "source": [
    "! gdalinfo --version"
   ]
  },
  {
   "cell_type": "code",
   "execution_count": 3,
   "metadata": {},
   "outputs": [
    {
     "name": "stdout",
     "output_type": "stream",
     "text": [
      "--2020-05-09 17:46:23--  https://dev-et-data.s3.us-west-2.amazonaws.com/tony.txt\r\n",
      "Resolving dev-et-data.s3.us-west-2.amazonaws.com (dev-et-data.s3.us-west-2.amazonaws.com)... 52.218.249.89\r\n",
      "Connecting to dev-et-data.s3.us-west-2.amazonaws.com (dev-et-data.s3.us-west-2.amazonaws.com)|52.218.249.89|:443... connected.\r\n",
      "HTTP request sent, awaiting response... 403 Forbidden\r\n",
      "2020-05-09 17:46:23 ERROR 403: Forbidden.\r\n",
      "\r\n"
     ]
    }
   ],
   "source": [
    "! wget https://dev-et-data.s3.us-west-2.amazonaws.com/tony.txt"
   ]
  },
  {
   "cell_type": "code",
   "execution_count": 4,
   "metadata": {},
   "outputs": [
    {
     "name": "stdout",
     "output_type": "stream",
     "text": [
      "{\"blockxsize\": 512, \"blockysize\": 512, \"bounds\": [-155.57238265799998, 20.000239124000082, -52.215132156499976, 49.999999996000085], \"colorinterp\": [\"gray\"], \"compress\": \"deflate\", \"count\": 1, \"crs\": \"EPSG:4326\", \"descriptions\": [null], \"driver\": \"GTiff\", \"dtype\": \"float32\", \"height\": 14416, \"indexes\": [1], \"interleave\": \"band\", \"lnglat\": [-103.89375740724998, 35.00011956000009], \"mask_flags\": [[\"nodata\"]], \"nodata\": -3.4028234663852886e+38, \"res\": [0.0020810045, 0.0020810045], \"shape\": [14416, 49667], \"tiled\": true, \"transform\": [0.0020810045, 0.0, -155.57238265799998, 0.0, -0.0020810045, 49.999999996000085, 0.0, 0.0, 1.0], \"units\": [null], \"width\": 49667}\r\n"
     ]
    }
   ],
   "source": [
    "! rio info /vsis3/dev-et-data/compressed/NDVI_filled/2001/2001001.250_m_NDVI.tif"
   ]
  },
  {
   "cell_type": "code",
   "execution_count": 5,
   "metadata": {},
   "outputs": [
    {
     "name": "stdout",
     "output_type": "stream",
     "text": [
      "<?xml version=\"1.0\" encoding=\"UTF-8\"?>\r\n",
      "<Error><Code>AccessDenied</Code><Message>Access Denied</Message><RequestId>5049AC6E8EA80297</RequestId><HostId>vSU2j7R3CxppUfI8zHigspdhzGMlf1tOiJBOHEMTmTl2e3/3SX39h6zJkRDaZnnOguzqhbtZrac=</HostId></Error>"
     ]
    }
   ],
   "source": [
    "! curl https://dev-et-data.s3.us-west-2.amazonaws.com/tony.txt"
   ]
  },
  {
   "cell_type": "code",
   "execution_count": null,
   "metadata": {},
   "outputs": [],
   "source": []
  }
 ],
 "metadata": {
  "kernelspec": {
   "display_name": "Python 3",
   "language": "python",
   "name": "python3"
  },
  "language_info": {
   "codemirror_mode": {
    "name": "ipython",
    "version": 3
   },
   "file_extension": ".py",
   "mimetype": "text/x-python",
   "name": "python",
   "nbconvert_exporter": "python",
   "pygments_lexer": "ipython3",
   "version": "3.7.3"
  }
 },
 "nbformat": 4,
 "nbformat_minor": 4
}
