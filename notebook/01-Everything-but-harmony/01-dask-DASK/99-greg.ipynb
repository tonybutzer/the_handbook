{
 "cells": [
  {
   "cell_type": "code",
   "execution_count": 3,
   "metadata": {},
   "outputs": [
    {
     "name": "stdout",
     "output_type": "stream",
     "text": [
      "2020-05-07 19:06:04   48459854 etasw_201401.tif\r\n",
      "2020-05-07 19:06:04   48459854 etasw_201402.tif\r\n",
      "2020-05-07 19:06:04   48459854 etasw_201403.tif\r\n",
      "2020-05-07 19:06:04   48459854 etasw_201404.tif\r\n",
      "2020-05-07 19:06:04   48459854 etasw_201405.tif\r\n",
      "2020-05-07 19:06:04   48459854 etasw_201406.tif\r\n",
      "2020-05-07 19:06:05   48459854 etasw_201407.tif\r\n",
      "2020-05-07 19:06:06   48459854 etasw_201408.tif\r\n",
      "2020-05-07 19:06:06   48459854 etasw_201409.tif\r\n",
      "2020-05-07 19:06:06   48459854 etasw_201410.tif\r\n",
      "2020-05-07 19:06:06   48459854 etasw_201411.tif\r\n",
      "2020-05-07 19:06:07   48459854 etasw_201412.tif\r\n",
      "2020-05-07 19:06:07   48459854 etasw_201501.tif\r\n",
      "2020-05-07 19:06:07   48459854 etasw_201502.tif\r\n",
      "2020-05-07 19:06:07   48459854 etasw_201503.tif\r\n",
      "2020-05-07 19:06:08   48459854 etasw_201504.tif\r\n",
      "2020-05-07 19:06:08   48459854 etasw_201505.tif\r\n",
      "2020-05-07 19:06:08   48459854 etasw_201506.tif\r\n",
      "2020-05-07 19:06:08   48459854 etasw_201507.tif\r\n",
      "2020-05-07 19:06:09   48459854 etasw_201508.tif\r\n",
      "2020-05-07 19:06:09   48459854 etasw_201509.tif\r\n",
      "2020-05-07 19:06:10   48459854 etasw_201510.tif\r\n",
      "2020-05-07 19:06:10   48459854 etasw_201511.tif\r\n",
      "2020-05-07 19:06:10   48459854 etasw_201512.tif\r\n",
      "2020-05-07 19:06:10   48459854 etasw_201601.tif\r\n",
      "2020-05-07 19:06:11   48459854 etasw_201602.tif\r\n",
      "2020-05-07 19:06:11   48459854 etasw_201603.tif\r\n",
      "2020-05-07 19:06:11   48459854 etasw_201604.tif\r\n",
      "2020-05-07 19:06:11   48459854 etasw_201605.tif\r\n",
      "2020-05-07 19:06:12   48459854 etasw_201606.tif\r\n",
      "2020-05-07 19:06:12   48459854 etasw_201607.tif\r\n",
      "2020-05-07 19:06:12   48459854 etasw_201608.tif\r\n",
      "2020-05-07 19:06:13   48459854 etasw_201609.tif\r\n",
      "2020-05-07 19:06:13   48459854 etasw_201610.tif\r\n",
      "2020-05-07 19:06:14   48459854 etasw_201611.tif\r\n",
      "2020-05-07 19:06:14   48459854 etasw_201612.tif\r\n"
     ]
    }
   ],
   "source": [
    "! aws s3 ls dev-et-data/greg_outputs/"
   ]
  },
  {
   "cell_type": "code",
   "execution_count": null,
   "metadata": {},
   "outputs": [],
   "source": []
  }
 ],
 "metadata": {
  "kernelspec": {
   "display_name": "Python 3",
   "language": "python",
   "name": "python3"
  },
  "language_info": {
   "codemirror_mode": {
    "name": "ipython",
    "version": 3
   },
   "file_extension": ".py",
   "mimetype": "text/x-python",
   "name": "python",
   "nbconvert_exporter": "python",
   "pygments_lexer": "ipython3",
   "version": "3.7.3"
  }
 },
 "nbformat": 4,
 "nbformat_minor": 4
}
