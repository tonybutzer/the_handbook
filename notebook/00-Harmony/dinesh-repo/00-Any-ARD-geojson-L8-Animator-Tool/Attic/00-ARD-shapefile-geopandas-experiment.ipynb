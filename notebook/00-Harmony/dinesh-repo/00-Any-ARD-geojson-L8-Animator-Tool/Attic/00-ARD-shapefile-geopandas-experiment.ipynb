{
 "cells": [
  {
   "cell_type": "code",
   "execution_count": 1,
   "metadata": {},
   "outputs": [
    {
     "name": "stdout",
     "output_type": "stream",
     "text": [
      "total 492\r\n",
      "-rw-r--r-- 1 jupyter-butzer jupyter-butzer  21933 Jan 24 20:12 CONUS_ARD_grid.zip\r\n",
      "-rw-r--r-- 1 jupyter-butzer jupyter-butzer 289323 Jan 28 16:31 ard.geojson\r\n",
      "-rw-r--r-- 1 jupyter-butzer jupyter-butzer  14650 Sep 26  2017 conus_ard_grid.dbf\r\n",
      "-rw-r--r-- 1 jupyter-butzer jupyter-butzer    430 Sep 26  2017 conus_ard_grid.prj\r\n",
      "-rw-r--r-- 1 jupyter-butzer jupyter-butzer   7948 Sep 26  2017 conus_ard_grid.sbn\r\n",
      "-rw-r--r-- 1 jupyter-butzer jupyter-butzer   1124 Sep 26  2017 conus_ard_grid.sbx\r\n",
      "-rw-r--r-- 1 jupyter-butzer jupyter-butzer  98836 Sep 26  2017 conus_ard_grid.shp\r\n",
      "-rw-r--r-- 1 jupyter-butzer jupyter-butzer   5908 Sep 26  2017 conus_ard_grid.shx\r\n",
      "-rw-r--r-- 1 jupyter-butzer jupyter-butzer    401 Jan 28 16:34 maine1.geojson\r\n",
      "-rw-r--r-- 1 jupyter-butzer jupyter-butzer    307 Jan 25 19:05 mini_square_maine.geojson\r\n",
      "-rw-r--r-- 1 jupyter-butzer jupyter-butzer    624 Jan 28 16:34 reds_011-029.geojson\r\n",
      "-rw-r--r-- 1 jupyter-butzer jupyter-butzer    609 Jan 28 16:34 reds_011-030.geojson\r\n",
      "-rw-r--r-- 1 jupyter-butzer jupyter-butzer    617 Jan 28 16:34 reds_012-028.geojson\r\n",
      "-rw-r--r-- 1 jupyter-butzer jupyter-butzer    617 Jan 28 16:34 reds_012-029.geojson\r\n",
      "-rw-r--r-- 1 jupyter-butzer jupyter-butzer    613 Jan 28 16:34 reds_012-030.geojson\r\n",
      "-rw-r--r-- 1 jupyter-butzer jupyter-butzer    617 Jan 28 16:34 reds_013-028.geojson\r\n",
      "-rw-r--r-- 1 jupyter-butzer jupyter-butzer    617 Jan 28 16:34 reds_013-029.geojson\r\n",
      "-rw-r--r-- 1 jupyter-butzer jupyter-butzer    614 Jan 28 16:34 reds_013-030.geojson\r\n",
      "-rw-r--r-- 1 jupyter-butzer jupyter-butzer    304 Jan 25 16:45 square_maine.geojson\r\n"
     ]
    }
   ],
   "source": [
    "! ls -l AOI"
   ]
  },
  {
   "cell_type": "code",
   "execution_count": 2,
   "metadata": {},
   "outputs": [],
   "source": [
    "#! ( cd AOI; unzip CONUS_ARD_grid.zip)"
   ]
  },
  {
   "cell_type": "code",
   "execution_count": 3,
   "metadata": {},
   "outputs": [],
   "source": [
    "import geopandas "
   ]
  },
  {
   "cell_type": "code",
   "execution_count": 4,
   "metadata": {},
   "outputs": [],
   "source": [
    "ard_happiness = geopandas.GeoDataFrame.from_file('./AOI/conus_ard_grid.shp')\n"
   ]
  },
  {
   "cell_type": "code",
   "execution_count": 5,
   "metadata": {},
   "outputs": [
    {
     "data": {
      "text/html": [
       "<div>\n",
       "<style scoped>\n",
       "    .dataframe tbody tr th:only-of-type {\n",
       "        vertical-align: middle;\n",
       "    }\n",
       "\n",
       "    .dataframe tbody tr th {\n",
       "        vertical-align: top;\n",
       "    }\n",
       "\n",
       "    .dataframe thead th {\n",
       "        text-align: right;\n",
       "    }\n",
       "</style>\n",
       "<table border=\"1\" class=\"dataframe\">\n",
       "  <thead>\n",
       "    <tr style=\"text-align: right;\">\n",
       "      <th></th>\n",
       "      <th>FID_1</th>\n",
       "      <th>h</th>\n",
       "      <th>v</th>\n",
       "      <th>geometry</th>\n",
       "    </tr>\n",
       "  </thead>\n",
       "  <tbody>\n",
       "    <tr>\n",
       "      <th>0</th>\n",
       "      <td>0</td>\n",
       "      <td>2</td>\n",
       "      <td>0</td>\n",
       "      <td>POLYGON ((-2265585.000 3314805.000, -2115585.0...</td>\n",
       "    </tr>\n",
       "    <tr>\n",
       "      <th>1</th>\n",
       "      <td>1</td>\n",
       "      <td>2</td>\n",
       "      <td>1</td>\n",
       "      <td>POLYGON ((-2265585.000 3164805.000, -2115585.0...</td>\n",
       "    </tr>\n",
       "    <tr>\n",
       "      <th>2</th>\n",
       "      <td>2</td>\n",
       "      <td>2</td>\n",
       "      <td>2</td>\n",
       "      <td>POLYGON ((-2265585.000 3014805.000, -2115585.0...</td>\n",
       "    </tr>\n",
       "    <tr>\n",
       "      <th>3</th>\n",
       "      <td>3</td>\n",
       "      <td>2</td>\n",
       "      <td>3</td>\n",
       "      <td>POLYGON ((-2265585.000 2864805.000, -2115585.0...</td>\n",
       "    </tr>\n",
       "    <tr>\n",
       "      <th>4</th>\n",
       "      <td>4</td>\n",
       "      <td>2</td>\n",
       "      <td>4</td>\n",
       "      <td>POLYGON ((-2265585.000 2714805.000, -2115585.0...</td>\n",
       "    </tr>\n",
       "    <tr>\n",
       "      <th>...</th>\n",
       "      <td>...</td>\n",
       "      <td>...</td>\n",
       "      <td>...</td>\n",
       "      <td>...</td>\n",
       "    </tr>\n",
       "    <tr>\n",
       "      <th>721</th>\n",
       "      <td>0</td>\n",
       "      <td>32</td>\n",
       "      <td>1</td>\n",
       "      <td>POLYGON ((2384415.000 3014805.000, 2234415.000...</td>\n",
       "    </tr>\n",
       "    <tr>\n",
       "      <th>722</th>\n",
       "      <td>0</td>\n",
       "      <td>29</td>\n",
       "      <td>0</td>\n",
       "      <td>POLYGON ((1934415.000 3164805.000, 1784415.000...</td>\n",
       "    </tr>\n",
       "    <tr>\n",
       "      <th>723</th>\n",
       "      <td>0</td>\n",
       "      <td>30</td>\n",
       "      <td>0</td>\n",
       "      <td>POLYGON ((2084415.000 3164805.000, 1934415.000...</td>\n",
       "    </tr>\n",
       "    <tr>\n",
       "      <th>724</th>\n",
       "      <td>0</td>\n",
       "      <td>31</td>\n",
       "      <td>0</td>\n",
       "      <td>POLYGON ((2234415.000 3164805.000, 2084415.000...</td>\n",
       "    </tr>\n",
       "    <tr>\n",
       "      <th>725</th>\n",
       "      <td>0</td>\n",
       "      <td>32</td>\n",
       "      <td>0</td>\n",
       "      <td>POLYGON ((2384415.000 3164805.000, 2234415.000...</td>\n",
       "    </tr>\n",
       "  </tbody>\n",
       "</table>\n",
       "<p>726 rows × 4 columns</p>\n",
       "</div>"
      ],
      "text/plain": [
       "     FID_1   h  v                                           geometry\n",
       "0        0   2  0  POLYGON ((-2265585.000 3314805.000, -2115585.0...\n",
       "1        1   2  1  POLYGON ((-2265585.000 3164805.000, -2115585.0...\n",
       "2        2   2  2  POLYGON ((-2265585.000 3014805.000, -2115585.0...\n",
       "3        3   2  3  POLYGON ((-2265585.000 2864805.000, -2115585.0...\n",
       "4        4   2  4  POLYGON ((-2265585.000 2714805.000, -2115585.0...\n",
       "..     ...  .. ..                                                ...\n",
       "721      0  32  1  POLYGON ((2384415.000 3014805.000, 2234415.000...\n",
       "722      0  29  0  POLYGON ((1934415.000 3164805.000, 1784415.000...\n",
       "723      0  30  0  POLYGON ((2084415.000 3164805.000, 1934415.000...\n",
       "724      0  31  0  POLYGON ((2234415.000 3164805.000, 2084415.000...\n",
       "725      0  32  0  POLYGON ((2384415.000 3164805.000, 2234415.000...\n",
       "\n",
       "[726 rows x 4 columns]"
      ]
     },
     "execution_count": 5,
     "metadata": {},
     "output_type": "execute_result"
    }
   ],
   "source": [
    "ard_happiness"
   ]
  },
  {
   "cell_type": "code",
   "execution_count": 6,
   "metadata": {},
   "outputs": [
    {
     "name": "stdout",
     "output_type": "stream",
     "text": [
      "POLYGON ((-2265584.99992983 3314804.999769288, -2115584.99992983 3314804.999769288, -2115584.99992983 3164804.999769288, -2265584.99992983 3164804.999769288, -2265584.99992983 3314804.999769288))\n"
     ]
    }
   ],
   "source": [
    "print(ard_happiness.iloc[0].geometry)"
   ]
  },
  {
   "cell_type": "code",
   "execution_count": 7,
   "metadata": {},
   "outputs": [],
   "source": [
    "my_poly = ard_happiness.iloc[0].geometry"
   ]
  },
  {
   "cell_type": "code",
   "execution_count": 8,
   "metadata": {},
   "outputs": [
    {
     "data": {
      "text/plain": [
       "['__and__',\n",
       " '__array_interface__',\n",
       " '__bool__',\n",
       " '__class__',\n",
       " '__del__',\n",
       " '__delattr__',\n",
       " '__dict__',\n",
       " '__dir__',\n",
       " '__doc__',\n",
       " '__eq__',\n",
       " '__format__',\n",
       " '__ge__',\n",
       " '__geo_interface__',\n",
       " '__geom__',\n",
       " '__getattribute__',\n",
       " '__gt__',\n",
       " '__hash__',\n",
       " '__init__',\n",
       " '__init_subclass__',\n",
       " '__le__',\n",
       " '__lt__',\n",
       " '__module__',\n",
       " '__ne__',\n",
       " '__new__',\n",
       " '__nonzero__',\n",
       " '__or__',\n",
       " '__p__',\n",
       " '__reduce__',\n",
       " '__reduce_ex__',\n",
       " '__repr__',\n",
       " '__setattr__',\n",
       " '__setstate__',\n",
       " '__sizeof__',\n",
       " '__str__',\n",
       " '__sub__',\n",
       " '__subclasshook__',\n",
       " '__weakref__',\n",
       " '__xor__',\n",
       " '_crs',\n",
       " '_ctypes_data',\n",
       " '_exterior',\n",
       " '_geom',\n",
       " '_get_coords',\n",
       " '_interiors',\n",
       " '_is_empty',\n",
       " '_lgeos',\n",
       " '_ndim',\n",
       " '_other_owned',\n",
       " '_repr_svg_',\n",
       " '_set_coords',\n",
       " 'almost_equals',\n",
       " 'area',\n",
       " 'array_interface_base',\n",
       " 'boundary',\n",
       " 'bounds',\n",
       " 'buffer',\n",
       " 'centroid',\n",
       " 'contains',\n",
       " 'convex_hull',\n",
       " 'coords',\n",
       " 'covers',\n",
       " 'crosses',\n",
       " 'ctypes',\n",
       " 'difference',\n",
       " 'disjoint',\n",
       " 'distance',\n",
       " 'empty',\n",
       " 'envelope',\n",
       " 'equals',\n",
       " 'equals_exact',\n",
       " 'exterior',\n",
       " 'from_bounds',\n",
       " 'geom_type',\n",
       " 'geometryType',\n",
       " 'has_z',\n",
       " 'hausdorff_distance',\n",
       " 'impl',\n",
       " 'interiors',\n",
       " 'interpolate',\n",
       " 'intersection',\n",
       " 'intersects',\n",
       " 'is_closed',\n",
       " 'is_empty',\n",
       " 'is_ring',\n",
       " 'is_simple',\n",
       " 'is_valid',\n",
       " 'length',\n",
       " 'minimum_clearance',\n",
       " 'minimum_rotated_rectangle',\n",
       " 'overlaps',\n",
       " 'project',\n",
       " 'relate',\n",
       " 'relate_pattern',\n",
       " 'representative_point',\n",
       " 'simplify',\n",
       " 'svg',\n",
       " 'symmetric_difference',\n",
       " 'to_wkb',\n",
       " 'to_wkt',\n",
       " 'touches',\n",
       " 'type',\n",
       " 'union',\n",
       " 'within',\n",
       " 'wkb',\n",
       " 'wkb_hex',\n",
       " 'wkt',\n",
       " 'xy']"
      ]
     },
     "execution_count": 8,
     "metadata": {},
     "output_type": "execute_result"
    }
   ],
   "source": [
    "dir(my_poly)"
   ]
  },
  {
   "cell_type": "code",
   "execution_count": 9,
   "metadata": {},
   "outputs": [],
   "source": [
    "import shapely\n",
    "features = [{'type': 'Feature', 'properties': {}, 'geometry': shapely.geometry.mapping(my_poly)}]"
   ]
  },
  {
   "cell_type": "code",
   "execution_count": 10,
   "metadata": {},
   "outputs": [
    {
     "data": {
      "text/plain": [
       "[{'type': 'Feature',\n",
       "  'properties': {},\n",
       "  'geometry': {'type': 'Polygon',\n",
       "   'coordinates': (((-2265584.9999298304, 3314804.9997692876),\n",
       "     (-2115584.9999298304, 3314804.9997692876),\n",
       "     (-2115584.9999298304, 3164804.9997692876),\n",
       "     (-2265584.9999298304, 3164804.9997692876),\n",
       "     (-2265584.9999298304, 3314804.9997692876)),)}}]"
      ]
     },
     "execution_count": 10,
     "metadata": {},
     "output_type": "execute_result"
    }
   ],
   "source": [
    "features"
   ]
  },
  {
   "cell_type": "code",
   "execution_count": 11,
   "metadata": {},
   "outputs": [],
   "source": [
    "ard_happiness.to_file('AOI/ard.geojson', driver='GeoJSON')"
   ]
  },
  {
   "cell_type": "code",
   "execution_count": 12,
   "metadata": {},
   "outputs": [
    {
     "name": "stderr",
     "output_type": "stream",
     "text": [
      "/opt/tljh/user/lib/python3.7/site-packages/pyproj/crs/crs.py:53: FutureWarning: '+init=<authority>:<code>' syntax is deprecated. '<authority>:<code>' is the preferred initialization method. When making the change, be mindful of axis order changes: https://pyproj4.github.io/pyproj/stable/gotchas.html#axis-order-changes-in-proj-6\n",
      "  return _prepare_from_string(\" \".join(pjargs))\n"
     ]
    }
   ],
   "source": [
    "gdf = ard_happiness.to_crs({'init': 'epsg:4326'})"
   ]
  },
  {
   "cell_type": "code",
   "execution_count": 13,
   "metadata": {},
   "outputs": [
    {
     "data": {
      "text/html": [
       "<div>\n",
       "<style scoped>\n",
       "    .dataframe tbody tr th:only-of-type {\n",
       "        vertical-align: middle;\n",
       "    }\n",
       "\n",
       "    .dataframe tbody tr th {\n",
       "        vertical-align: top;\n",
       "    }\n",
       "\n",
       "    .dataframe thead th {\n",
       "        text-align: right;\n",
       "    }\n",
       "</style>\n",
       "<table border=\"1\" class=\"dataframe\">\n",
       "  <thead>\n",
       "    <tr style=\"text-align: right;\">\n",
       "      <th></th>\n",
       "      <th>FID_1</th>\n",
       "      <th>h</th>\n",
       "      <th>v</th>\n",
       "      <th>geometry</th>\n",
       "    </tr>\n",
       "  </thead>\n",
       "  <tbody>\n",
       "    <tr>\n",
       "      <th>0</th>\n",
       "      <td>0</td>\n",
       "      <td>2</td>\n",
       "      <td>0</td>\n",
       "      <td>POLYGON ((-127.36199 49.44946, -125.41985 49.8...</td>\n",
       "    </tr>\n",
       "    <tr>\n",
       "      <th>1</th>\n",
       "      <td>1</td>\n",
       "      <td>2</td>\n",
       "      <td>1</td>\n",
       "      <td>POLYGON ((-126.71442 48.15699, -124.80708 48.5...</td>\n",
       "    </tr>\n",
       "    <tr>\n",
       "      <th>2</th>\n",
       "      <td>2</td>\n",
       "      <td>2</td>\n",
       "      <td>2</td>\n",
       "      <td>POLYGON ((-126.09217 46.86799, -124.21857 47.2...</td>\n",
       "    </tr>\n",
       "    <tr>\n",
       "      <th>3</th>\n",
       "      <td>3</td>\n",
       "      <td>2</td>\n",
       "      <td>3</td>\n",
       "      <td>POLYGON ((-125.49383 45.58156, -123.65296 45.9...</td>\n",
       "    </tr>\n",
       "    <tr>\n",
       "      <th>4</th>\n",
       "      <td>4</td>\n",
       "      <td>2</td>\n",
       "      <td>4</td>\n",
       "      <td>POLYGON ((-124.91810 44.29689, -123.10897 44.6...</td>\n",
       "    </tr>\n",
       "    <tr>\n",
       "      <th>...</th>\n",
       "      <td>...</td>\n",
       "      <td>...</td>\n",
       "      <td>...</td>\n",
       "      <td>...</td>\n",
       "    </tr>\n",
       "    <tr>\n",
       "      <th>721</th>\n",
       "      <td>0</td>\n",
       "      <td>32</td>\n",
       "      <td>1</td>\n",
       "      <td>POLYGON ((-64.44048 46.52607, -66.29523 46.955...</td>\n",
       "    </tr>\n",
       "    <tr>\n",
       "      <th>722</th>\n",
       "      <td>0</td>\n",
       "      <td>29</td>\n",
       "      <td>0</td>\n",
       "      <td>POLYGON ((-69.52884 49.04931, -71.48816 49.411...</td>\n",
       "    </tr>\n",
       "    <tr>\n",
       "      <th>723</th>\n",
       "      <td>0</td>\n",
       "      <td>30</td>\n",
       "      <td>0</td>\n",
       "      <td>POLYGON ((-67.59235 48.66066, -69.52884 49.049...</td>\n",
       "    </tr>\n",
       "    <tr>\n",
       "      <th>724</th>\n",
       "      <td>0</td>\n",
       "      <td>31</td>\n",
       "      <td>0</td>\n",
       "      <td>POLYGON ((-65.67988 48.24628, -67.59235 48.660...</td>\n",
       "    </tr>\n",
       "    <tr>\n",
       "      <th>725</th>\n",
       "      <td>0</td>\n",
       "      <td>32</td>\n",
       "      <td>0</td>\n",
       "      <td>POLYGON ((-63.79249 47.80675, -65.67988 48.246...</td>\n",
       "    </tr>\n",
       "  </tbody>\n",
       "</table>\n",
       "<p>726 rows × 4 columns</p>\n",
       "</div>"
      ],
      "text/plain": [
       "     FID_1   h  v                                           geometry\n",
       "0        0   2  0  POLYGON ((-127.36199 49.44946, -125.41985 49.8...\n",
       "1        1   2  1  POLYGON ((-126.71442 48.15699, -124.80708 48.5...\n",
       "2        2   2  2  POLYGON ((-126.09217 46.86799, -124.21857 47.2...\n",
       "3        3   2  3  POLYGON ((-125.49383 45.58156, -123.65296 45.9...\n",
       "4        4   2  4  POLYGON ((-124.91810 44.29689, -123.10897 44.6...\n",
       "..     ...  .. ..                                                ...\n",
       "721      0  32  1  POLYGON ((-64.44048 46.52607, -66.29523 46.955...\n",
       "722      0  29  0  POLYGON ((-69.52884 49.04931, -71.48816 49.411...\n",
       "723      0  30  0  POLYGON ((-67.59235 48.66066, -69.52884 49.049...\n",
       "724      0  31  0  POLYGON ((-65.67988 48.24628, -67.59235 48.660...\n",
       "725      0  32  0  POLYGON ((-63.79249 47.80675, -65.67988 48.246...\n",
       "\n",
       "[726 rows x 4 columns]"
      ]
     },
     "execution_count": 13,
     "metadata": {},
     "output_type": "execute_result"
    }
   ],
   "source": [
    "gdf"
   ]
  },
  {
   "cell_type": "code",
   "execution_count": 14,
   "metadata": {},
   "outputs": [],
   "source": [
    "my_poly = gdf.iloc[0].geometry"
   ]
  },
  {
   "cell_type": "code",
   "execution_count": 15,
   "metadata": {},
   "outputs": [],
   "source": [
    "features = [{'type': 'Feature', 'properties': {}, 'geometry': shapely.geometry.mapping(my_poly)}]"
   ]
  },
  {
   "cell_type": "code",
   "execution_count": 16,
   "metadata": {},
   "outputs": [
    {
     "data": {
      "text/plain": [
       "[{'type': 'Feature',\n",
       "  'properties': {},\n",
       "  'geometry': {'type': 'Polygon',\n",
       "   'coordinates': (((-127.36198880170318, 49.44945965784901),\n",
       "     (-125.41984580800474, 49.88007416947421),\n",
       "     (-124.80707587133381, 48.57665200628896),\n",
       "     (-126.71442024375305, 48.15699498529047),\n",
       "     (-127.36198880170318, 49.44945965784901)),)}}]"
      ]
     },
     "execution_count": 16,
     "metadata": {},
     "output_type": "execute_result"
    }
   ],
   "source": [
    "features"
   ]
  },
  {
   "cell_type": "code",
   "execution_count": 17,
   "metadata": {},
   "outputs": [],
   "source": [
    "import folium\n",
    "def map_geojson(label, bounds, geojson_string, color):\n",
    "                center=bounds[1], bounds[0]\n",
    "                sw = center\n",
    "                ne = bounds[3], bounds[2]\n",
    "                map3 = folium.Map(location=center, zoom_start=12,center=center)\n",
    "                map3.fit_bounds([sw,ne])\n",
    "                style_function= lambda x:{'color':color}\n",
    "                folium.GeoJson(geojson_string,style_function).add_to(map3)\n",
    "                map3.add_child(folium.features.LatLngPopup())\n",
    "                folium.Marker(ne, popup=f'<b>{label}</b>').add_to(map3)\n",
    "                \n",
    "                #map3\n",
    "                return(map3)"
   ]
  },
  {
   "cell_type": "code",
   "execution_count": 18,
   "metadata": {},
   "outputs": [],
   "source": [
    "label='dummy'\n",
    "bounds=my_poly.bounds"
   ]
  },
  {
   "cell_type": "code",
   "execution_count": 19,
   "metadata": {},
   "outputs": [
    {
     "data": {
      "text/plain": [
       "(-127.36198880170318,\n",
       " 48.15699498529047,\n",
       " -124.80707587133381,\n",
       " 49.88007416947421)"
      ]
     },
     "execution_count": 19,
     "metadata": {},
     "output_type": "execute_result"
    }
   ],
   "source": [
    "bounds"
   ]
  },
  {
   "cell_type": "code",
   "execution_count": 20,
   "metadata": {},
   "outputs": [],
   "source": [
    "gjson=features"
   ]
  },
  {
   "cell_type": "code",
   "execution_count": 21,
   "metadata": {},
   "outputs": [],
   "source": [
    "color='pink'"
   ]
  },
  {
   "cell_type": "code",
   "execution_count": 22,
   "metadata": {},
   "outputs": [
    {
     "ename": "ValueError",
     "evalue": "Cannot render objects with any missing geometries: [{'type': 'Feature', 'properties': {}, 'geometry': {'type': 'Polygon', 'coordinates': (((-127.36198880170318, 49.44945965784901), (-125.41984580800474, 49.88007416947421), (-124.80707587133381, 48.57665200628896), (-126.71442024375305, 48.15699498529047), (-127.36198880170318, 49.44945965784901)),)}}]",
     "output_type": "error",
     "traceback": [
      "\u001b[0;31m---------------------------------------------------------------------------\u001b[0m",
      "\u001b[0;31mValueError\u001b[0m                                Traceback (most recent call last)",
      "\u001b[0;32m<ipython-input-22-e0db7e6c5437>\u001b[0m in \u001b[0;36m<module>\u001b[0;34m\u001b[0m\n\u001b[0;32m----> 1\u001b[0;31m \u001b[0mmymap\u001b[0m \u001b[0;34m=\u001b[0m \u001b[0mmap_geojson\u001b[0m\u001b[0;34m(\u001b[0m\u001b[0mlabel\u001b[0m\u001b[0;34m,\u001b[0m \u001b[0mbounds\u001b[0m\u001b[0;34m,\u001b[0m \u001b[0mgjson\u001b[0m\u001b[0;34m,\u001b[0m \u001b[0mcolor\u001b[0m\u001b[0;34m)\u001b[0m\u001b[0;34m\u001b[0m\u001b[0;34m\u001b[0m\u001b[0m\n\u001b[0m",
      "\u001b[0;32m<ipython-input-17-f5066b973fa1>\u001b[0m in \u001b[0;36mmap_geojson\u001b[0;34m(label, bounds, geojson_string, color)\u001b[0m\n\u001b[1;32m      7\u001b[0m                 \u001b[0mmap3\u001b[0m\u001b[0;34m.\u001b[0m\u001b[0mfit_bounds\u001b[0m\u001b[0;34m(\u001b[0m\u001b[0;34m[\u001b[0m\u001b[0msw\u001b[0m\u001b[0;34m,\u001b[0m\u001b[0mne\u001b[0m\u001b[0;34m]\u001b[0m\u001b[0;34m)\u001b[0m\u001b[0;34m\u001b[0m\u001b[0;34m\u001b[0m\u001b[0m\n\u001b[1;32m      8\u001b[0m                 \u001b[0mstyle_function\u001b[0m\u001b[0;34m=\u001b[0m \u001b[0;32mlambda\u001b[0m \u001b[0mx\u001b[0m\u001b[0;34m:\u001b[0m\u001b[0;34m{\u001b[0m\u001b[0;34m'color'\u001b[0m\u001b[0;34m:\u001b[0m\u001b[0mcolor\u001b[0m\u001b[0;34m}\u001b[0m\u001b[0;34m\u001b[0m\u001b[0;34m\u001b[0m\u001b[0m\n\u001b[0;32m----> 9\u001b[0;31m                 \u001b[0mfolium\u001b[0m\u001b[0;34m.\u001b[0m\u001b[0mGeoJson\u001b[0m\u001b[0;34m(\u001b[0m\u001b[0mgeojson_string\u001b[0m\u001b[0;34m,\u001b[0m\u001b[0mstyle_function\u001b[0m\u001b[0;34m)\u001b[0m\u001b[0;34m.\u001b[0m\u001b[0madd_to\u001b[0m\u001b[0;34m(\u001b[0m\u001b[0mmap3\u001b[0m\u001b[0;34m)\u001b[0m\u001b[0;34m\u001b[0m\u001b[0;34m\u001b[0m\u001b[0m\n\u001b[0m\u001b[1;32m     10\u001b[0m                 \u001b[0mmap3\u001b[0m\u001b[0;34m.\u001b[0m\u001b[0madd_child\u001b[0m\u001b[0;34m(\u001b[0m\u001b[0mfolium\u001b[0m\u001b[0;34m.\u001b[0m\u001b[0mfeatures\u001b[0m\u001b[0;34m.\u001b[0m\u001b[0mLatLngPopup\u001b[0m\u001b[0;34m(\u001b[0m\u001b[0;34m)\u001b[0m\u001b[0;34m)\u001b[0m\u001b[0;34m\u001b[0m\u001b[0;34m\u001b[0m\u001b[0m\n\u001b[1;32m     11\u001b[0m                 \u001b[0mfolium\u001b[0m\u001b[0;34m.\u001b[0m\u001b[0mMarker\u001b[0m\u001b[0;34m(\u001b[0m\u001b[0mne\u001b[0m\u001b[0;34m,\u001b[0m \u001b[0mpopup\u001b[0m\u001b[0;34m=\u001b[0m\u001b[0;34mf'<b>{label}</b>'\u001b[0m\u001b[0;34m)\u001b[0m\u001b[0;34m.\u001b[0m\u001b[0madd_to\u001b[0m\u001b[0;34m(\u001b[0m\u001b[0mmap3\u001b[0m\u001b[0;34m)\u001b[0m\u001b[0;34m\u001b[0m\u001b[0;34m\u001b[0m\u001b[0m\n",
      "\u001b[0;32m/opt/tljh/user/lib/python3.7/site-packages/folium/features.py\u001b[0m in \u001b[0;36m__init__\u001b[0;34m(self, data, style_function, highlight_function, name, overlay, control, show, smooth_factor, tooltip, embed, popup)\u001b[0m\n\u001b[1;32m    451\u001b[0m         \u001b[0mself\u001b[0m\u001b[0;34m.\u001b[0m\u001b[0mhighlight\u001b[0m \u001b[0;34m=\u001b[0m \u001b[0mhighlight_function\u001b[0m \u001b[0;32mis\u001b[0m \u001b[0;32mnot\u001b[0m \u001b[0;32mNone\u001b[0m\u001b[0;34m\u001b[0m\u001b[0;34m\u001b[0m\u001b[0m\n\u001b[1;32m    452\u001b[0m \u001b[0;34m\u001b[0m\u001b[0m\n\u001b[0;32m--> 453\u001b[0;31m         \u001b[0mself\u001b[0m\u001b[0;34m.\u001b[0m\u001b[0mdata\u001b[0m \u001b[0;34m=\u001b[0m \u001b[0mself\u001b[0m\u001b[0;34m.\u001b[0m\u001b[0mprocess_data\u001b[0m\u001b[0;34m(\u001b[0m\u001b[0mdata\u001b[0m\u001b[0;34m)\u001b[0m\u001b[0;34m\u001b[0m\u001b[0;34m\u001b[0m\u001b[0m\n\u001b[0m\u001b[1;32m    454\u001b[0m \u001b[0;34m\u001b[0m\u001b[0m\n\u001b[1;32m    455\u001b[0m         \u001b[0;32mif\u001b[0m \u001b[0mself\u001b[0m\u001b[0;34m.\u001b[0m\u001b[0mstyle\u001b[0m \u001b[0;32mor\u001b[0m \u001b[0mself\u001b[0m\u001b[0;34m.\u001b[0m\u001b[0mhighlight\u001b[0m\u001b[0;34m:\u001b[0m\u001b[0;34m\u001b[0m\u001b[0;34m\u001b[0m\u001b[0m\n",
      "\u001b[0;32m/opt/tljh/user/lib/python3.7/site-packages/folium/features.py\u001b[0m in \u001b[0;36mprocess_data\u001b[0;34m(self, data)\u001b[0m\n\u001b[1;32m    497\u001b[0m         \u001b[0;32melse\u001b[0m\u001b[0;34m:\u001b[0m\u001b[0;34m\u001b[0m\u001b[0;34m\u001b[0m\u001b[0m\n\u001b[1;32m    498\u001b[0m             raise ValueError('Cannot render objects with any missing geometries'\n\u001b[0;32m--> 499\u001b[0;31m                              ': {!r}'.format(data))\n\u001b[0m\u001b[1;32m    500\u001b[0m \u001b[0;34m\u001b[0m\u001b[0m\n\u001b[1;32m    501\u001b[0m     \u001b[0;32mdef\u001b[0m \u001b[0mconvert_to_feature_collection\u001b[0m\u001b[0;34m(\u001b[0m\u001b[0mself\u001b[0m\u001b[0;34m)\u001b[0m\u001b[0;34m:\u001b[0m\u001b[0;34m\u001b[0m\u001b[0;34m\u001b[0m\u001b[0m\n",
      "\u001b[0;31mValueError\u001b[0m: Cannot render objects with any missing geometries: [{'type': 'Feature', 'properties': {}, 'geometry': {'type': 'Polygon', 'coordinates': (((-127.36198880170318, 49.44945965784901), (-125.41984580800474, 49.88007416947421), (-124.80707587133381, 48.57665200628896), (-126.71442024375305, 48.15699498529047), (-127.36198880170318, 49.44945965784901)),)}}]"
     ]
    }
   ],
   "source": [
    "mymap = map_geojson(label, bounds, gjson, color)"
   ]
  },
  {
   "cell_type": "code",
   "execution_count": 23,
   "metadata": {},
   "outputs": [],
   "source": [
    "from geojson import Polygon\n",
    "b=bounds\n",
    "coords = [[[b[0],b[1]], [b[0],b[3]], [b[2],b[3]], [b[2],b[1]], [b[0],b[1]]]]\n",
    "coords\n",
    "my = Polygon(coords)"
   ]
  },
  {
   "cell_type": "code",
   "execution_count": 24,
   "metadata": {},
   "outputs": [],
   "source": [
    "mymap = map_geojson(label, bounds, my, color)"
   ]
  },
  {
   "cell_type": "code",
   "execution_count": 25,
   "metadata": {},
   "outputs": [
    {
     "data": {
      "text/html": [
       "<div style=\"width:100%;\"><div style=\"position:relative;width:100%;height:0;padding-bottom:60%;\"><span style=\"color:#565656\">Make this Notebook Trusted to load map: File -> Trust Notebook</span><iframe src=\"about:blank\" style=\"position:absolute;width:100%;height:100%;left:0;top:0;border:none !important;\" data-html=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 onload=\"this.contentDocument.open();this.contentDocument.write(atob(this.getAttribute('data-html')));this.contentDocument.close();\" allowfullscreen webkitallowfullscreen mozallowfullscreen></iframe></div></div>"
      ],
      "text/plain": [
       "<folium.folium.Map at 0x7f6f730a9c50>"
      ]
     },
     "execution_count": 25,
     "metadata": {},
     "output_type": "execute_result"
    }
   ],
   "source": [
    "mymap"
   ]
  },
  {
   "cell_type": "code",
   "execution_count": null,
   "metadata": {},
   "outputs": [],
   "source": []
  },
  {
   "cell_type": "code",
   "execution_count": 26,
   "metadata": {},
   "outputs": [],
   "source": [
    "def add_geojson(map3,label,bounds, geojson_string, color):\n",
    "                ne = bounds[3], bounds[2]\n",
    "                style_function= lambda x:{'color':color}\n",
    "                folium.GeoJson(geojson_string,style_function).add_to(map3)\n",
    "                map3.add_child(folium.features.LatLngPopup())\n",
    "                folium.Marker(ne, popup=f'<b>{label}</b>').add_to(map3)\n",
    "                \n",
    "                #map3\n",
    "                return(map3)"
   ]
  },
  {
   "cell_type": "code",
   "execution_count": 27,
   "metadata": {},
   "outputs": [],
   "source": [
    "my_poly = gdf.iloc[1].geometry"
   ]
  },
  {
   "cell_type": "code",
   "execution_count": 28,
   "metadata": {},
   "outputs": [
    {
     "ename": "NameError",
     "evalue": "name 'make_geojson' is not defined",
     "output_type": "error",
     "traceback": [
      "\u001b[0;31m---------------------------------------------------------------------------\u001b[0m",
      "\u001b[0;31mNameError\u001b[0m                                 Traceback (most recent call last)",
      "\u001b[0;32m<ipython-input-28-7429fa63f5b7>\u001b[0m in \u001b[0;36m<module>\u001b[0;34m\u001b[0m\n\u001b[0;32m----> 1\u001b[0;31m \u001b[0mmy_geojson\u001b[0m \u001b[0;34m=\u001b[0m \u001b[0mmake_geojson\u001b[0m\u001b[0;34m(\u001b[0m\u001b[0mmy_poly\u001b[0m\u001b[0;34m.\u001b[0m\u001b[0mbounds\u001b[0m\u001b[0;34m)\u001b[0m\u001b[0;34m\u001b[0m\u001b[0;34m\u001b[0m\u001b[0m\n\u001b[0m",
      "\u001b[0;31mNameError\u001b[0m: name 'make_geojson' is not defined"
     ]
    }
   ],
   "source": [
    "my_geojson = make_geojson(my_poly.bounds)"
   ]
  },
  {
   "cell_type": "code",
   "execution_count": null,
   "metadata": {},
   "outputs": [],
   "source": [
    "add_geojson(mymap,'hello',my_poly.bounds,my_geojson,color='red')"
   ]
  },
  {
   "cell_type": "code",
   "execution_count": null,
   "metadata": {},
   "outputs": [],
   "source": [
    "def add_tile_map(mymap,label,bounds):\n",
    "    my_g = make_geojson(bounds)\n",
    "    add_geojson(mymap,label,bounds, my_g, 'pink')\n"
   ]
  },
  {
   "cell_type": "code",
   "execution_count": null,
   "metadata": {},
   "outputs": [],
   "source": [
    "for i,row in gdf.iterrows():\n",
    "    print(i)\n",
    "    label = str(row['h'])+ '--' + str(row['v'])\n",
    "    bounds = row['geometry'].bounds\n",
    "    add_tile_map(mymap, label,bounds)\n",
    "    print(label)"
   ]
  },
  {
   "cell_type": "code",
   "execution_count": null,
   "metadata": {},
   "outputs": [],
   "source": [
    "mymap"
   ]
  },
  {
   "cell_type": "markdown",
   "metadata": {},
   "source": [
    "![](https://www.usgs.gov/media/images/conterminous-us-landsat-analysis-ready-data-ard-tiles)"
   ]
  },
  {
   "cell_type": "markdown",
   "metadata": {},
   "source": [
    "![](https://www.usgs.gov/media/images/conterminous-us-landsat-analysis-ready-data-ard-tiles)"
   ]
  },
  {
   "cell_type": "markdown",
   "metadata": {},
   "source": [
    "![](https://www.usgs.gov/media/images/conterminous-us-landsat-analysis-ready-data-ard-tiles)\n",
    "\n"
   ]
  },
  {
   "cell_type": "markdown",
   "metadata": {},
   "source": [
    "![](https://prd-wret.s3.us-west-2.amazonaws.com/assets/palladium/production/s3fs-public/styles/full_width/public/thumbnails/image/ARD-tiles-conus.jpg)"
   ]
  },
  {
   "cell_type": "code",
   "execution_count": null,
   "metadata": {},
   "outputs": [],
   "source": [
    "! echo hi"
   ]
  },
  {
   "cell_type": "code",
   "execution_count": null,
   "metadata": {},
   "outputs": [],
   "source": [
    "print(gdf.loc[(gdf['h'] == 30) & (gdf['v'] == 4)])"
   ]
  },
  {
   "cell_type": "code",
   "execution_count": 29,
   "metadata": {},
   "outputs": [
    {
     "ename": "NameError",
     "evalue": "name 'make_geojson' is not defined",
     "output_type": "error",
     "traceback": [
      "\u001b[0;31m---------------------------------------------------------------------------\u001b[0m",
      "\u001b[0;31mNameError\u001b[0m                                 Traceback (most recent call last)",
      "\u001b[0;32m<ipython-input-29-3c0aaa9239f1>\u001b[0m in \u001b[0;36m<module>\u001b[0;34m\u001b[0m\n\u001b[1;32m      3\u001b[0m \u001b[0mlabel\u001b[0m \u001b[0;34m=\u001b[0m \u001b[0mstr\u001b[0m\u001b[0;34m(\u001b[0m\u001b[0mrow\u001b[0m\u001b[0;34m[\u001b[0m\u001b[0;34m'h'\u001b[0m\u001b[0;34m]\u001b[0m\u001b[0;34m)\u001b[0m\u001b[0;34m+\u001b[0m \u001b[0;34m'--'\u001b[0m \u001b[0;34m+\u001b[0m \u001b[0mstr\u001b[0m\u001b[0;34m(\u001b[0m\u001b[0mrow\u001b[0m\u001b[0;34m[\u001b[0m\u001b[0;34m'v'\u001b[0m\u001b[0;34m]\u001b[0m\u001b[0;34m)\u001b[0m\u001b[0;34m\u001b[0m\u001b[0;34m\u001b[0m\u001b[0m\n\u001b[1;32m      4\u001b[0m \u001b[0mbounds\u001b[0m \u001b[0;34m=\u001b[0m \u001b[0mrow\u001b[0m\u001b[0;34m[\u001b[0m\u001b[0;34m'geometry'\u001b[0m\u001b[0;34m]\u001b[0m\u001b[0;34m.\u001b[0m\u001b[0mbounds\u001b[0m\u001b[0;34m\u001b[0m\u001b[0;34m\u001b[0m\u001b[0m\n\u001b[0;32m----> 5\u001b[0;31m \u001b[0mmy_geoj\u001b[0m \u001b[0;34m=\u001b[0m \u001b[0mmake_geojson\u001b[0m\u001b[0;34m(\u001b[0m\u001b[0mbounds\u001b[0m\u001b[0;34m)\u001b[0m\u001b[0;34m\u001b[0m\u001b[0;34m\u001b[0m\u001b[0m\n\u001b[0m\u001b[1;32m      6\u001b[0m \u001b[0;34m\u001b[0m\u001b[0m\n\u001b[1;32m      7\u001b[0m \u001b[0mmy_simple_map\u001b[0m \u001b[0;34m=\u001b[0m \u001b[0mmap_geojson\u001b[0m\u001b[0;34m(\u001b[0m\u001b[0mlabel\u001b[0m\u001b[0;34m,\u001b[0m \u001b[0mbounds\u001b[0m\u001b[0;34m,\u001b[0m \u001b[0mmy_geoj\u001b[0m\u001b[0;34m,\u001b[0m \u001b[0;34m'blue'\u001b[0m\u001b[0;34m)\u001b[0m\u001b[0;34m\u001b[0m\u001b[0;34m\u001b[0m\u001b[0m\n",
      "\u001b[0;31mNameError\u001b[0m: name 'make_geojson' is not defined"
     ]
    }
   ],
   "source": [
    "i=708\n",
    "row=gdf.iloc[i]\n",
    "label = str(row['h'])+ '--' + str(row['v'])\n",
    "bounds = row['geometry'].bounds\n",
    "my_geoj = make_geojson(bounds)\n",
    "\n",
    "my_simple_map = map_geojson(label, bounds, my_geoj, 'blue')\n",
    "print(label)"
   ]
  },
  {
   "cell_type": "code",
   "execution_count": null,
   "metadata": {},
   "outputs": [],
   "source": [
    "my_simple_map"
   ]
  },
  {
   "cell_type": "markdown",
   "metadata": {},
   "source": [
    "![](https://prd-wret.s3.us-west-2.amazonaws.com/assets/palladium/production/s3fs-public/styles/full_width/public/thumbnails/image/ARD-tiles-conus.jpg)"
   ]
  },
  {
   "cell_type": "code",
   "execution_count": null,
   "metadata": {},
   "outputs": [],
   "source": []
  }
 ],
 "metadata": {
  "kernelspec": {
   "display_name": "Python 3",
   "language": "python",
   "name": "python3"
  },
  "language_info": {
   "codemirror_mode": {
    "name": "ipython",
    "version": 3
   },
   "file_extension": ".py",
   "mimetype": "text/x-python",
   "name": "python",
   "nbconvert_exporter": "python",
   "pygments_lexer": "ipython3",
   "version": "3.7.3"
  }
 },
 "nbformat": 4,
 "nbformat_minor": 4
}
