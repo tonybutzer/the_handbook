{
 "cells": [
  {
   "cell_type": "code",
   "execution_count": 2,
   "metadata": {},
   "outputs": [
    {
     "data": {
      "text/markdown": [
       "# Goals\n",
       "1. Practice self directed study in a pangeo/jupyter environment\n",
       "2. Practice loading Python Libraries\n",
       "3. geojson.io --> AOI\n",
       "4. use landsat-pds public cloud COGS to understand why this is cool\n",
       "5. harmony mini-pangeo 10.12.69.233\n",
       "\n",
       "# Libraries used in the Lab\n",
       "1. https://github.com/tonybutzer/logan.git\n",
       "2. http://github.com/tonybutzer/lite-stac\n",
       "\n",
       "# Makefiles - so worth it\n"
      ],
      "text/plain": [
       "<IPython.core.display.Markdown object>"
      ]
     },
     "metadata": {},
     "output_type": "display_data"
    }
   ],
   "source": [
    "from IPython.display import display, Markdown\n",
    "\n",
    "with open('lesson-plan.md', 'r') as fh:\n",
    "    content = fh.read()\n",
    "\n",
    "display(Markdown(content))"
   ]
  },
  {
   "cell_type": "code",
   "execution_count": 3,
   "metadata": {},
   "outputs": [
    {
     "name": "stdout",
     "output_type": "stream",
     "text": [
      "gitbig:\r\n",
      "\tfind . -size +10M\r\n",
      "\techo du -a ./ | sort -n -r | head -n 20\r\n",
      "\t#for file in `find . -size +10M`; do ls -lh $$file; done\r\n",
      "\r\n",
      "fake-repo:\r\n",
      "\t(cd ..; aws s3 sync ./dinesh-repo s3://dev-et-data/logan/fakes/dinesh-repo)\r\n",
      "\r\n",
      "examine-repo:\r\n",
      "\taws s3 ls s3://dev-et-data/logan/fakes/dinesh-repo --recursive --human\r\n",
      "\r\n",
      "lite:\r\n",
      "\t(cd opt; git clone http://github.com/tonybutzer/lite-stac)\r\n"
     ]
    }
   ],
   "source": [
    "! cat Makefile"
   ]
  },
  {
   "cell_type": "code",
   "execution_count": 4,
   "metadata": {},
   "outputs": [
    {
     "name": "stdout",
     "output_type": "stream",
     "text": [
      "aws s3 ls s3://dev-et-data/logan/fakes/dinesh-repo --recursive --human\n",
      "2021-02-05 16:46:44    2.5 KiB logan/fakes/dinesh-repo/.ipynb_checkpoints/class-notes-checkpoint.ipynb\n",
      "2021-02-05 16:46:44    6 Bytes logan/fakes/dinesh-repo/00-Any-ARD-geojson-L8-Animator-Tool/.gitignore\n",
      "2021-02-05 16:46:44    2.7 MiB logan/fakes/dinesh-repo/00-Any-ARD-geojson-L8-Animator-Tool/.ipynb_checkpoints/00-ARD-Maine-h30-v04-checkpoint.ipynb\n",
      "2021-02-05 16:46:44    2.7 MiB logan/fakes/dinesh-repo/00-Any-ARD-geojson-L8-Animator-Tool/.ipynb_checkpoints/00-ARD-shapefile-geopandas-experiment-checkpoint.ipynb\n",
      "2021-02-05 16:46:44  106.8 KiB logan/fakes/dinesh-repo/00-Any-ARD-geojson-L8-Animator-Tool/.ipynb_checkpoints/00-nogales-dinesh-Dih-Naish-checkpoint.ipynb\n",
      "2021-02-05 16:46:44  149.0 KiB logan/fakes/dinesh-repo/00-Any-ARD-geojson-L8-Animator-Tool/.ipynb_checkpoints/10-dinesh-Dih-Naish-nogales-save-as-pickle-netcdf-checkpoint.ipynb\n",
      "2021-02-05 16:46:44   72 Bytes logan/fakes/dinesh-repo/00-Any-ARD-geojson-L8-Animator-Tool/.ipynb_checkpoints/11-netcdf-input-then animate-checkpoint.ipynb\n",
      "2021-02-05 16:46:44   87.9 KiB logan/fakes/dinesh-repo/00-Any-ARD-geojson-L8-Animator-Tool/00-nogales-dinesh-Dih-Naish.ipynb\n",
      "2021-02-05 16:46:44  145.8 KiB logan/fakes/dinesh-repo/00-Any-ARD-geojson-L8-Animator-Tool/10-dinesh-Dih-Naish-nogales-save-as-pickle-netcdf.ipynb\n",
      "2021-02-05 16:46:44  675.5 KiB logan/fakes/dinesh-repo/00-Any-ARD-geojson-L8-Animator-Tool/11-netcdf-input-then animate.ipynb\n",
      "2021-02-05 16:46:44   21.4 KiB logan/fakes/dinesh-repo/00-Any-ARD-geojson-L8-Animator-Tool/AOI/CONUS_ARD_grid.zip\n",
      "2021-02-05 16:46:44  282.5 KiB logan/fakes/dinesh-repo/00-Any-ARD-geojson-L8-Animator-Tool/AOI/ard.geojson\n",
      "2021-02-05 16:46:44   14.3 KiB logan/fakes/dinesh-repo/00-Any-ARD-geojson-L8-Animator-Tool/AOI/conus_ard_grid.dbf\n",
      "2021-02-05 16:46:44  430 Bytes logan/fakes/dinesh-repo/00-Any-ARD-geojson-L8-Animator-Tool/AOI/conus_ard_grid.prj\n",
      "2021-02-05 16:46:44    7.8 KiB logan/fakes/dinesh-repo/00-Any-ARD-geojson-L8-Animator-Tool/AOI/conus_ard_grid.sbn\n",
      "2021-02-05 16:46:44    1.1 KiB logan/fakes/dinesh-repo/00-Any-ARD-geojson-L8-Animator-Tool/AOI/conus_ard_grid.sbx\n",
      "2021-02-05 16:46:44   96.5 KiB logan/fakes/dinesh-repo/00-Any-ARD-geojson-L8-Animator-Tool/AOI/conus_ard_grid.shp\n",
      "2021-02-05 16:46:44    5.8 KiB logan/fakes/dinesh-repo/00-Any-ARD-geojson-L8-Animator-Tool/AOI/conus_ard_grid.shx\n",
      "2021-02-05 16:46:44  401 Bytes logan/fakes/dinesh-repo/00-Any-ARD-geojson-L8-Animator-Tool/AOI/maine1.geojson\n",
      "2021-02-05 16:46:44  307 Bytes logan/fakes/dinesh-repo/00-Any-ARD-geojson-L8-Animator-Tool/AOI/mini_square_maine.geojson\n",
      "2021-02-05 16:46:44  312 Bytes logan/fakes/dinesh-repo/00-Any-ARD-geojson-L8-Animator-Tool/AOI/nogales.geojson\n",
      "2021-02-05 16:46:44  624 Bytes logan/fakes/dinesh-repo/00-Any-ARD-geojson-L8-Animator-Tool/AOI/reds_011-029.geojson\n",
      "2021-02-05 16:46:44  609 Bytes logan/fakes/dinesh-repo/00-Any-ARD-geojson-L8-Animator-Tool/AOI/reds_011-030.geojson\n",
      "2021-02-05 16:46:44  617 Bytes logan/fakes/dinesh-repo/00-Any-ARD-geojson-L8-Animator-Tool/AOI/reds_012-028.geojson\n",
      "2021-02-05 16:46:44  617 Bytes logan/fakes/dinesh-repo/00-Any-ARD-geojson-L8-Animator-Tool/AOI/reds_012-029.geojson\n",
      "2021-02-05 16:46:44  613 Bytes logan/fakes/dinesh-repo/00-Any-ARD-geojson-L8-Animator-Tool/AOI/reds_012-030.geojson\n",
      "2021-02-05 16:46:44  617 Bytes logan/fakes/dinesh-repo/00-Any-ARD-geojson-L8-Animator-Tool/AOI/reds_013-028.geojson\n",
      "2021-02-05 16:46:44  617 Bytes logan/fakes/dinesh-repo/00-Any-ARD-geojson-L8-Animator-Tool/AOI/reds_013-029.geojson\n",
      "2021-02-05 16:46:44  614 Bytes logan/fakes/dinesh-repo/00-Any-ARD-geojson-L8-Animator-Tool/AOI/reds_013-030.geojson\n",
      "2021-02-05 16:46:44  624 Bytes logan/fakes/dinesh-repo/00-Any-ARD-geojson-L8-Animator-Tool/AOI/reds_035-037.geojson\n",
      "2021-02-05 16:46:44  628 Bytes logan/fakes/dinesh-repo/00-Any-ARD-geojson-L8-Animator-Tool/AOI/reds_035-038.geojson\n",
      "2021-02-05 16:46:44  628 Bytes logan/fakes/dinesh-repo/00-Any-ARD-geojson-L8-Animator-Tool/AOI/reds_035-039.geojson\n",
      "2021-02-05 16:46:44  624 Bytes logan/fakes/dinesh-repo/00-Any-ARD-geojson-L8-Animator-Tool/AOI/reds_036-037.geojson\n",
      "2021-02-05 16:46:44  628 Bytes logan/fakes/dinesh-repo/00-Any-ARD-geojson-L8-Animator-Tool/AOI/reds_036-038.geojson\n",
      "2021-02-05 16:46:44  624 Bytes logan/fakes/dinesh-repo/00-Any-ARD-geojson-L8-Animator-Tool/AOI/reds_036-039.geojson\n",
      "2021-02-05 16:46:44  624 Bytes logan/fakes/dinesh-repo/00-Any-ARD-geojson-L8-Animator-Tool/AOI/reds_037-037.geojson\n",
      "2021-02-05 16:46:44  620 Bytes logan/fakes/dinesh-repo/00-Any-ARD-geojson-L8-Animator-Tool/AOI/reds_134-205.geojson\n",
      "2021-02-05 16:46:44  628 Bytes logan/fakes/dinesh-repo/00-Any-ARD-geojson-L8-Animator-Tool/AOI/reds_134-206.geojson\n",
      "2021-02-05 16:46:44  628 Bytes logan/fakes/dinesh-repo/00-Any-ARD-geojson-L8-Animator-Tool/AOI/reds_134-207.geojson\n",
      "2021-02-05 16:46:44  627 Bytes logan/fakes/dinesh-repo/00-Any-ARD-geojson-L8-Animator-Tool/AOI/reds_135-205.geojson\n",
      "2021-02-05 16:46:44  628 Bytes logan/fakes/dinesh-repo/00-Any-ARD-geojson-L8-Animator-Tool/AOI/reds_135-206.geojson\n",
      "2021-02-05 16:46:44  624 Bytes logan/fakes/dinesh-repo/00-Any-ARD-geojson-L8-Animator-Tool/AOI/reds_135-207.geojson\n",
      "2021-02-05 16:46:44  631 Bytes logan/fakes/dinesh-repo/00-Any-ARD-geojson-L8-Animator-Tool/AOI/reds_136-205.geojson\n",
      "2021-02-05 16:46:44  304 Bytes logan/fakes/dinesh-repo/00-Any-ARD-geojson-L8-Animator-Tool/AOI/square_maine.geojson\n",
      "2021-02-05 16:46:44  106.8 KiB logan/fakes/dinesh-repo/00-Any-ARD-geojson-L8-Animator-Tool/Attic/00-ARD-Maine-h30-v04.ipynb\n",
      "2021-02-05 16:46:44   41.7 KiB logan/fakes/dinesh-repo/00-Any-ARD-geojson-L8-Animator-Tool/Attic/00-ARD-shapefile-geopandas-experiment.ipynb\n",
      "2021-02-05 16:46:44    7.3 MiB logan/fakes/dinesh-repo/00-Any-ARD-geojson-L8-Animator-Tool/nogales.gif\n",
      "2021-02-05 16:46:44  282 Bytes logan/fakes/dinesh-repo/Makefile\n",
      "2021-02-05 16:46:44    2.5 KiB logan/fakes/dinesh-repo/class-notes.ipynb\n",
      "2021-02-05 16:46:44  376 Bytes logan/fakes/dinesh-repo/lesson-plan.md\n"
     ]
    }
   ],
   "source": [
    "! make examine-repo"
   ]
  },
  {
   "cell_type": "code",
   "execution_count": null,
   "metadata": {},
   "outputs": [],
   "source": []
  }
 ],
 "metadata": {
  "kernelspec": {
   "display_name": "Python 3",
   "language": "python",
   "name": "python3"
  },
  "language_info": {
   "codemirror_mode": {
    "name": "ipython",
    "version": 3
   },
   "file_extension": ".py",
   "mimetype": "text/x-python",
   "name": "python",
   "nbconvert_exporter": "python",
   "pygments_lexer": "ipython3",
   "version": "3.7.3"
  }
 },
 "nbformat": 4,
 "nbformat_minor": 4
}
