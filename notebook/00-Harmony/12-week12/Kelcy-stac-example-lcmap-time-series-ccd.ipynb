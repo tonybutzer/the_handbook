{
 "cells": [
  {
   "cell_type": "markdown",
   "metadata": {},
   "source": [
    "# Basic AoI visualization"
   ]
  },
  {
   "cell_type": "markdown",
   "metadata": {},
   "source": [
    "## Load a shapefile or geojson"
   ]
  },
  {
   "cell_type": "code",
   "execution_count": null,
   "metadata": {},
   "outputs": [],
   "source": [
    "import fsspec\n",
    "\n",
    "fs = fsspec.filesystem('s3', requester_pays=True)"
   ]
  },
  {
   "cell_type": "code",
   "execution_count": null,
   "metadata": {},
   "outputs": [],
   "source": [
    "shape_paths = fs.ls('chs-pangeo-data-bucket/klsmith/misc')\n",
    "shape_paths"
   ]
  },
  {
   "cell_type": "code",
   "execution_count": null,
   "metadata": {},
   "outputs": [],
   "source": [
    "import zipfile\n",
    "\n",
    "with fs.open('chs-pangeo-data-bucket/klsmith/misc/CA-senay-buffered.zip') as f:\n",
    "    with zipfile.ZipFile(f) as zf:\n",
    "        print(zf.namelist())"
   ]
  },
  {
   "cell_type": "code",
   "execution_count": null,
   "metadata": {},
   "outputs": [],
   "source": [
    "import os\n",
    "\n",
    "import boto3\n",
    "import geopandas as gpd\n",
    "import fiona\n",
    "\n",
    "_S3SESSION = fiona.session.AWSSession(boto3.Session(), requester_pays=True)\n",
    "\n",
    "def load_polygon(path: str) -> gpd.geodataframe.GeoDataFrame:\n",
    "    \"\"\"\n",
    "    Load a polygon file into a GeoDataFrame\n",
    "    \"\"\"\n",
    "    with fiona.Env(session=_S3SESSION):\n",
    "        return gpd.read_file(path)"
   ]
  },
  {
   "cell_type": "code",
   "execution_count": null,
   "metadata": {},
   "outputs": [],
   "source": [
    "load_polygon('zip+s3://chs-pangeo-data-bucket/klsmith/misc/CA-senay-buffered.zip')"
   ]
  },
  {
   "cell_type": "code",
   "execution_count": null,
   "metadata": {},
   "outputs": [],
   "source": [
    "def s3zipped_shapefile(key: str) -> gpd.geodataframe.GeoDataFrame:\n",
    "    \"\"\"\n",
    "    Load a zipped shapefile from s3, given the s3 key\n",
    "    \"\"\"\n",
    "    return load_polygon('zip+s3://' + key)"
   ]
  },
  {
   "cell_type": "code",
   "execution_count": null,
   "metadata": {},
   "outputs": [],
   "source": [
    "ca_buffered = s3zipped_shapefile(shape_paths[2])\n",
    "ca_buffered"
   ]
  },
  {
   "cell_type": "code",
   "execution_count": null,
   "metadata": {},
   "outputs": [],
   "source": [
    "ca_buffered.crs"
   ]
  },
  {
   "cell_type": "markdown",
   "metadata": {},
   "source": [
    "## Simple plotting (ESRI data, etc ...)"
   ]
  },
  {
   "cell_type": "code",
   "execution_count": null,
   "metadata": {},
   "outputs": [],
   "source": [
    "import geoviews as gv\n",
    "from geoviews import tile_sources as gvts\n",
    "from cartopy import crs\n",
    "\n",
    "gv.extension('bokeh', 'matplotlib')"
   ]
  },
  {
   "cell_type": "code",
   "execution_count": null,
   "metadata": {},
   "outputs": [],
   "source": [
    "gv.Layout([ts.relabel(name) for name, ts in gvts.tile_sources.items()]).opts('WMTS', xaxis=None, yaxis=None, width=225, height=225).cols(4)"
   ]
  },
  {
   "cell_type": "code",
   "execution_count": null,
   "metadata": {},
   "outputs": [],
   "source": [
    "viz_base = gv.tile_sources.EsriImagery.opts(width=650, height=500)\n",
    "viz_base"
   ]
  },
  {
   "cell_type": "code",
   "execution_count": null,
   "metadata": {},
   "outputs": [],
   "source": [
    "viz_ca_buffered = gv.Polygons(ca_buffered, crs=crs.epsg(5070)).opts(line_color='red', color=None)\n",
    "viz_ca_buffered"
   ]
  },
  {
   "cell_type": "code",
   "execution_count": null,
   "metadata": {},
   "outputs": [],
   "source": [
    "viz_base * viz_ca_buffered"
   ]
  },
  {
   "cell_type": "markdown",
   "metadata": {},
   "source": [
    "# STAC and STAC-API\n",
    "\n",
    " - What is STAC\n",
    " - What is STAC-API\n",
    " - Interacting with Collection 2 STAC-API"
   ]
  },
  {
   "cell_type": "markdown",
   "metadata": {},
   "source": [
    "## What is STAC"
   ]
  },
  {
   "cell_type": "markdown",
   "metadata": {},
   "source": [
    "<img src=\"https://stacspec.org/images/logo/STAC-03.png\" alt=\"STAC\" width=\"200\"/>"
   ]
  },
  {
   "cell_type": "markdown",
   "metadata": {},
   "source": [
    "From the STAC website (https://stacspec.org/):  \n",
    "\n",
    "\"The SpatioTemporal Asset Catalog (STAC) specification provides a common language to describe a range of geospatial information, so it can more easily be indexed and discovered. A 'spatiotemporal asset' is any file that represents information about the earth captured in a certain space and time.\n",
    "\n",
    "The goal is for all providers of spatiotemporal assets (Imagery, SAR, Point Clouds, Data Cubes, Full Motion Video, etc) to expose their data as SpatioTemporal Asset Catalogs (STAC), so that new code doesn't need to be written whenever a new data set or API is released.\""
   ]
  },
  {
   "cell_type": "markdown",
   "metadata": {},
   "source": [
    "**STAC Specification**  \n",
    "\n",
    "The STAC Specification consists of 4 semi-independent specifications. Each can be used alone, but they work best in concert with one another.\n",
    "\n",
    " - STAC Item is the core atomic unit, representing a single spatiotemporal asset as a GeoJSON feature plus datetime and links.\n",
    " - STAC Catalog is a simple, flexible JSON file of links that provides a structure to organize and browse STAC Items. A series of best practices helps make recommendations for creating real world STAC Catalogs.\n",
    " - STAC Collection is an extension of the STAC Catalog with additional information such as the extents, license, keywords, providers, etc that describe STAC Items that fall within the Collection."
   ]
  },
  {
   "cell_type": "markdown",
   "metadata": {},
   "source": [
    "So ...? What is STAC?\n",
    "\n",
    "STAC at it's core is standardized metadata that can be linked together. That's mostly it.\n",
    " - Provides standardized spatial and temporal representations\n",
    " - Link together assets to define the entire data set\n",
    " - Maybe helps with data discovery? (debatable, who wants to crawl linked lists these days?)\n",
    " - Can really help with provenance tracking\n",
    " \n",
    "Does not replace our beloved FGDC metadata ..."
   ]
  },
  {
   "cell_type": "code",
   "execution_count": null,
   "metadata": {},
   "outputs": [],
   "source": [
    "import requests\n",
    "\n",
    "_stac = 'https://landsatlook.usgs.gov/sat-api/stac'"
   ]
  },
  {
   "cell_type": "code",
   "execution_count": null,
   "metadata": {},
   "outputs": [],
   "source": [
    "requests.get(_stac).json()"
   ]
  },
  {
   "cell_type": "code",
   "execution_count": null,
   "metadata": {},
   "outputs": [],
   "source": [
    "requests.get('https://landsatlook.usgs.gov/sat-api/collections/landsat-c2l2-sr').json()"
   ]
  },
  {
   "cell_type": "code",
   "execution_count": null,
   "metadata": {},
   "outputs": [],
   "source": [
    "# resp = requests.get('https://landsatlook.usgs.gov/sat-api/collections/landsat-c2l2alb-sr/items').json()\n",
    "resp = requests.get('https://landsatlook.usgs.gov/sat-api/collections/landsat-c2l2-sr/items').json()\n",
    "resp.keys()"
   ]
  },
  {
   "cell_type": "code",
   "execution_count": null,
   "metadata": {},
   "outputs": [],
   "source": [
    "print(resp['type'], '\\n',\n",
    "      resp['meta'], '\\n',\n",
    "      resp['links'])"
   ]
  },
  {
   "cell_type": "code",
   "execution_count": null,
   "metadata": {},
   "outputs": [],
   "source": [
    "resp['features'][0]"
   ]
  },
  {
   "cell_type": "code",
   "execution_count": null,
   "metadata": {},
   "outputs": [],
   "source": [
    "from IPython.display import Image\n",
    "\n",
    "with fs.open(resp['features'][0]['assets']['thumbnail']['href'].replace('https://landsatlook.usgs.gov/data', 's3://usgs-landsat')) as f:\n",
    "    data = f.read()\n",
    "\n",
    "Image(data=data)"
   ]
  },
  {
   "cell_type": "markdown",
   "metadata": {},
   "source": [
    "## What is STAC-API"
   ]
  },
  {
   "cell_type": "markdown",
   "metadata": {},
   "source": [
    "\"STAC API provides a RESTful endpoint that enables search of STAC Items, specified in OpenAPI, following OGC's WFS 3.\""
   ]
  },
  {
   "cell_type": "markdown",
   "metadata": {},
   "source": [
    "So ...? What is STAC-API?\n",
    "\n",
    "Take the standardized metadata, shove it into a database, and then enable standardized querying of the data through HTTP.\n",
    "\n",
    "https://landsatlook.usgs.gov/sat-api/stac  \n",
    "https://landsatlook.usgs.gov/stac-browser"
   ]
  },
  {
   "cell_type": "markdown",
   "metadata": {},
   "source": [
    "Resources:  \n",
    "https://github.com/radiantearth/stac-api-spec/blob/master/item-search/README.md  \n",
    "https://medium.com/pangeo/intake-stac-nasa-4cd78d6246b7  \n",
    "https://github.com/sat-utils/sat-search"
   ]
  },
  {
   "cell_type": "code",
   "execution_count": null,
   "metadata": {},
   "outputs": [],
   "source": [
    "from functools import lru_cache\n",
    "from typing import Union\n",
    "\n",
    "_stac = 'https://landsatlook.usgs.gov/sat-api/stac'\n",
    "\n",
    "def get_json(url: str, params: Union[list, dict, None] = None) -> Union[list, dict]:\n",
    "    \"\"\"\n",
    "    Perform a GET request to a REST API endpoint, assume the response is a JSON\n",
    "    \"\"\"\n",
    "    resp = requests.get(url, params=params)\n",
    "    \n",
    "    if not resp.ok:\n",
    "        resp.raise_for_status()\n",
    "\n",
    "    return resp.json()\n",
    "\n",
    "def post_json(url: str, data: Union[list, dict]) -> Union[list, dict]:\n",
    "    \"\"\"\n",
    "    Send a POST request to the resource with the payload as JSON\n",
    "    \"\"\"\n",
    "    resp = requests.post(url, json=data)\n",
    "    \n",
    "    if not resp.ok:\n",
    "        resp.raise_for_status()\n",
    "        \n",
    "    return resp.json()\n",
    "\n",
    "@lru_cache()\n",
    "def search_endpoint(endpoint: str = _stac) -> str:\n",
    "    \"\"\"\n",
    "    Get the search endpoint for STAC\n",
    "    \"\"\"\n",
    "    resp = get_json(endpoint)\n",
    "    \n",
    "    for item in resp['links']:\n",
    "        if item['rel'] == 'search':\n",
    "            return item['href']\n",
    "\n",
    "def stac_search(params: dict, endpoint: str = _stac) -> Union[list, dict]:\n",
    "    \"\"\"\n",
    "    Simple search against STAC-API\n",
    "    \"\"\"\n",
    "    return get_json(search_endpoint(endpoint),\n",
    "                    params=params)\n",
    "\n",
    "def stac_query(data: dict, endpoint: str = _stac) -> Union[list, dict]:\n",
    "    \"\"\"\n",
    "    Perform a more complex query against the STAC-API\n",
    "    \"\"\"\n",
    "    return post_json(search_endpoint(endpoint),\n",
    "                     data=data)"
   ]
  },
  {
   "cell_type": "code",
   "execution_count": null,
   "metadata": {},
   "outputs": [],
   "source": [
    "items = stac_search({\n",
    "    'bbox': f\"[{','.join(str(_) for _ in ca_buffered.to_crs(4326)['geometry'][0].bounds)}]\",\n",
    "    'limit': 100,\n",
    "    'time': '2018-07-01/2018-08-01',\n",
    "    'collection': 'landsat-c2l2-sr'\n",
    "})\n",
    "items.keys()"
   ]
  },
  {
   "cell_type": "code",
   "execution_count": null,
   "metadata": {},
   "outputs": [],
   "source": [
    "len(items['features'])"
   ]
  },
  {
   "cell_type": "code",
   "execution_count": null,
   "metadata": {},
   "outputs": [],
   "source": [
    "items = stac_query({\n",
    "     'bbox': f\"[{','.join(str(_) for _ in ca_buffered.to_crs(4326)['geometry'][0].bounds)}]\",\n",
    "     'limit': 100,\n",
    "     'time': '2018-07-01/2018-09-01',\n",
    "     'query': {'eo:cloud_cover': {'lt': 10},\n",
    "               'eo:instrument': {'eq': 'OLI_TIRS'}}\n",
    " })\n",
    "len(items['features'])"
   ]
  },
  {
   "cell_type": "code",
   "execution_count": null,
   "metadata": {},
   "outputs": [],
   "source": [
    "from collections import Counter\n",
    "\n",
    "Counter([(f['properties']['landsat:wrs_path'], f['properties']['landsat:wrs_row'])\n",
    "         for f in items['features']])"
   ]
  },
  {
   "cell_type": "code",
   "execution_count": null,
   "metadata": {},
   "outputs": [],
   "source": [
    " items = stac_query({\n",
    "     'bbox': f\"[{','.join(str(_) for _ in ca_buffered.to_crs(4326)['geometry'][0].bounds)}]\",\n",
    "     'limit': 100,\n",
    "     'time': '2018-07-01/2018-09-01',\n",
    "     'query': {'eo:cloud_cover': {'lt': 10},\n",
    "               'eo:instrument': {'eq': 'OLI_TIRS'},\n",
    "               'landsat:wrs_path': {'lt': 100},\n",
    "               'landsat:wrs_row': {'lt': 100}}\n",
    " })\n",
    "len(items['features'])"
   ]
  },
  {
   "cell_type": "code",
   "execution_count": null,
   "metadata": {},
   "outputs": [],
   "source": [
    " items = stac_query({\n",
    "     'bbox': f\"[{','.join(str(_) for _ in ca_buffered.to_crs(4326)['geometry'][0].bounds)}]\",\n",
    "     'limit': 100,\n",
    "     'time': '2018-07-01/2018-09-01',\n",
    "     'query': {'eo:cloud_cover': {'lt': 10},\n",
    "               'eo:instrument': {'eq': 'OLI_TIRS'},\n",
    "               'landsat:wrs_path': {'eq': 42},\n",
    "               'landsat:wrs_row': {'eq': 35}}\n",
    " })\n",
    "len(items['features'])"
   ]
  },
  {
   "cell_type": "code",
   "execution_count": null,
   "metadata": {},
   "outputs": [],
   "source": [
    "from cytoolz import pipe\n",
    "from typing import List, Callable\n",
    "\n",
    "def filter_ascending(features: List[dict]) -> List[dict]:\n",
    "    \"\"\"\n",
    "    Filter out ascending path/rows from a STAC query\n",
    "    \"\"\"\n",
    "    return [f for f in features\n",
    "            if int(f['properties']['landsat:wrs_path']) < 100\n",
    "               and int(f['properties']['landsat:wrs_row']) < 100]\n",
    "\n",
    "def filter_stacquery(data: dict, filters: Union[List[Callable], Callable], endpoint: str = _stac) -> List[dict]:\n",
    "    \"\"\"\n",
    "    Conduct a STAC query, then apply some filters to the results\n",
    "    \"\"\"\n",
    "    items = stac_query(data, endpoint)\n",
    "\n",
    "    if isinstance(filters, Callable):\n",
    "        return filters(items['features'])\n",
    "    else:\n",
    "        return pipe(items['features'], *filters)"
   ]
  },
  {
   "cell_type": "code",
   "execution_count": null,
   "metadata": {},
   "outputs": [],
   "source": [
    "filtered = filter_stacquery({\n",
    "    'bbox': f\"[{','.join(str(_) for _ in ca_buffered.to_crs(4326)['geometry'][0].bounds)}]\",\n",
    "    'limit': 100,\n",
    "    'time': '2018-07-01/2018-09-01',\n",
    "    'query': {'eo:cloud_cover': {'lt': 10},\n",
    "              'eo:instrument': {'eq': 'OLI_TIRS'}}},\n",
    "    filters=filter_ascending)\n",
    "\n",
    "len(filtered)"
   ]
  },
  {
   "cell_type": "code",
   "execution_count": null,
   "metadata": {},
   "outputs": [],
   "source": [
    "Counter([(f['properties']['landsat:wrs_path'], f['properties']['landsat:wrs_row'])\n",
    "         for f in filtered])"
   ]
  },
  {
   "cell_type": "code",
   "execution_count": null,
   "metadata": {},
   "outputs": [],
   "source": [
    "filtered[0]"
   ]
  },
  {
   "cell_type": "code",
   "execution_count": null,
   "metadata": {},
   "outputs": [],
   "source": [
    "with fs.open(filtered[0]['assets']['SR_B1.TIF']['href'].replace('https://landsatlook.usgs.gov/data', 's3://usgs-landsat')) as f:\n",
    "    data = f.read()\n",
    "\n",
    "Image(data=data)"
   ]
  },
  {
   "cell_type": "code",
   "execution_count": null,
   "metadata": {},
   "outputs": [],
   "source": [
    "with fs.open(filtered[0]['assets']['thumbnail']['href'].replace('https://landsatlook.usgs.gov/data', 's3://usgs-landsat')) as f:\n",
    "    data = f.read()\n",
    "\n",
    "Image(data=data)"
   ]
  },
  {
   "cell_type": "markdown",
   "metadata": {},
   "source": [
    "# Single scene extraction\n",
    "\n",
    " - "
   ]
  },
  {
   "cell_type": "code",
   "execution_count": null,
   "metadata": {},
   "outputs": [],
   "source": [
    "import boto3\n",
    "\n",
    "from rasterio.plot import show\n",
    "import rasterio as rio\n",
    "from rasterio.session import AWSSession\n",
    "\n",
    "aws_session = AWSSession(boto3.Session(), requester_pays=True)"
   ]
  },
  {
   "cell_type": "code",
   "execution_count": null,
   "metadata": {},
   "outputs": [],
   "source": [
    "aws_session"
   ]
  },
  {
   "cell_type": "code",
   "execution_count": null,
   "metadata": {},
   "outputs": [],
   "source": [
    "def convert_llurl(ll_url: str) -> str:\n",
    "    \"\"\"\n",
    "    Convert a landsat look url to an S3 url\n",
    "    \"\"\"\n",
    "    return ll_url.replace('https://landsatlook.usgs.gov/data', 's3://usgs-landsat')\n",
    "\n",
    "def open_dateset(ll_url: str):\n",
    "    \"\"\"\n",
    "    Open a file with gdal\n",
    "    \"\"\"\n",
    "    with rasterio.open(convert_llurl(ll_url)) as f:\n",
    "        return f\n",
    "#     return gdal.Open(path, gdal.ReadOnly)"
   ]
  },
  {
   "cell_type": "code",
   "execution_count": null,
   "metadata": {},
   "outputs": [],
   "source": [
    "convert_llurl(filtered[0]['assets']['SR_B3.TIF']['href'])"
   ]
  },
  {
   "cell_type": "code",
   "execution_count": null,
   "metadata": {},
   "outputs": [],
   "source": [
    "import xarray as xr"
   ]
  },
  {
   "cell_type": "code",
   "execution_count": null,
   "metadata": {},
   "outputs": [],
   "source": [
    "with rio.Env(aws_session) as env:\n",
    "    data = xr.open_rasterio(convert_llurl(filtered[0]['assets']['SR_B3.TIF']['href']))"
   ]
  },
  {
   "cell_type": "code",
   "execution_count": null,
   "metadata": {},
   "outputs": [],
   "source": [
    "ds = open_dateset(filtered[0]['assets']['SR_B3.TIF']['href'])"
   ]
  },
  {
   "cell_type": "markdown",
   "metadata": {},
   "source": [
    "# Time-series"
   ]
  },
  {
   "cell_type": "markdown",
   "metadata": {},
   "source": [
    "# Change detection"
   ]
  }
 ],
 "metadata": {
  "kernelspec": {
   "display_name": "Python [conda env:pangeo] *",
   "language": "python",
   "name": "conda-env-pangeo-py"
  },
  "language_info": {
   "codemirror_mode": {
    "name": "ipython",
    "version": 3
   },
   "file_extension": ".py",
   "mimetype": "text/x-python",
   "name": "python",
   "nbconvert_exporter": "python",
   "pygments_lexer": "ipython3",
   "version": "3.7.9"
  },
  "toc-autonumbering": true,
  "toc-showmarkdowntxt": false,
  "toc-showtags": true
 },
 "nbformat": 4,
 "nbformat_minor": 4
}
