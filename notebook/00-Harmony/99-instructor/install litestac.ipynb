{
 "cells": [
  {
   "cell_type": "markdown",
   "metadata": {},
   "source": [
    "# For Tony\n",
    "\n",
    "load litestac and notebook lib"
   ]
  },
  {
   "cell_type": "code",
   "execution_count": 1,
   "metadata": {},
   "outputs": [
    {
     "name": "stdout",
     "output_type": "stream",
     "text": [
      "fatal: destination path 'lite-stac' already exists and is not an empty directory.\r\n"
     ]
    }
   ],
   "source": [
    "! (cd $HOME/opt; git clone https://github.com/tonybutzer/lite-stac.git )"
   ]
  },
  {
   "cell_type": "code",
   "execution_count": 2,
   "metadata": {},
   "outputs": [
    {
     "name": "stdout",
     "output_type": "stream",
     "text": [
      "Makefile  Readme.md  anotebooks  app  eng  lib\tpkg  push.sh\r\n"
     ]
    }
   ],
   "source": [
    "! ls $HOME/opt/lite-stac"
   ]
  },
  {
   "cell_type": "code",
   "execution_count": 3,
   "metadata": {},
   "outputs": [
    {
     "name": "stdout",
     "output_type": "stream",
     "text": [
      "Makefile  dcindexLib  litelasticLib  litestacLib  notebookLib  xarrayLib\r\n"
     ]
    }
   ],
   "source": [
    "! ls $HOME/opt/lite-stac/lib"
   ]
  },
  {
   "cell_type": "code",
   "execution_count": 4,
   "metadata": {},
   "outputs": [
    {
     "name": "stdout",
     "output_type": "stream",
     "text": [
      "Makefile  litestacLib  litestacLib.egg-info  setup.py\r\n"
     ]
    }
   ],
   "source": [
    "! ls $HOME/opt/lite-stac/lib/litestacLib  "
   ]
  },
  {
   "cell_type": "code",
   "execution_count": 5,
   "metadata": {},
   "outputs": [
    {
     "name": "stdout",
     "output_type": "stream",
     "text": [
      "PIP=pip install --user .\r\n",
      "PIPR=pip install .\r\n",
      "build:\r\n",
      "\t${PIP}\r\n",
      "\r\n",
      "build-root:\r\n",
      "\t${PIPR}\r\n"
     ]
    }
   ],
   "source": [
    "!cat $HOME/opt/lite-stac/lib/litestacLib/Makefile"
   ]
  },
  {
   "cell_type": "code",
   "execution_count": 6,
   "metadata": {},
   "outputs": [
    {
     "name": "stdout",
     "output_type": "stream",
     "text": [
      "(cd dcindexLib && make)\n",
      "make[1]: Entering directory '/home/jupyter-butzer/opt/lite-stac/lib/dcindexLib'\n",
      "pip3 install --user .\n",
      "Processing /home/jupyter-butzer/opt/lite-stac/lib/dcindexLib\n",
      "Collecting boto3 (from dcindexLib==1.0.1)\n",
      "  Using cached https://files.pythonhosted.org/packages/50/9c/544396572c05841b7a2482c88be5dd54dcd18ba97abeb1e8d34daf921a54/boto3-1.16.30-py2.py3-none-any.whl\n",
      "Collecting elasticsearch (from dcindexLib==1.0.1)\n",
      "  Using cached https://files.pythonhosted.org/packages/14/ba/f950bdd9164fb2bbbe5093700162234fbe61f446fe2300a8993761c132ca/elasticsearch-7.10.0-py2.py3-none-any.whl\n",
      "Collecting folium (from dcindexLib==1.0.1)\n",
      "  Using cached https://files.pythonhosted.org/packages/a4/f0/44e69d50519880287cc41e7c8a6acc58daa9a9acf5f6afc52bcc70f69a6d/folium-0.11.0-py2.py3-none-any.whl\n",
      "Collecting pyproj (from dcindexLib==1.0.1)\n",
      "  Using cached https://files.pythonhosted.org/packages/17/e5/3f5cdff3e955bcd768cdb0f4236f2d6e022aaa72f57caf7f4d5f552c88fc/pyproj-3.0.0.post1.tar.gz\n",
      "    Complete output from command python setup.py egg_info:\n",
      "    ERROR: Cython.Build.cythonize not found. Cython is required to build from a repo.\n",
      "    \n",
      "    ----------------------------------------\n",
      "\u001b[31mCommand \"python setup.py egg_info\" failed with error code 1 in /tmp/pip-build-0es28zz6/pyproj/\u001b[0m\n",
      "Makefile:4: recipe for target 'build' failed\n",
      "make[1]: *** [build] Error 1\n",
      "make[1]: Leaving directory '/home/jupyter-butzer/opt/lite-stac/lib/dcindexLib'\n",
      "Makefile:2: recipe for target 'build' failed\n",
      "make: *** [build] Error 2\n"
     ]
    }
   ],
   "source": [
    "!(cd $HOME/opt/lite-stac/lib; make)"
   ]
  },
  {
   "cell_type": "code",
   "execution_count": 7,
   "metadata": {},
   "outputs": [],
   "source": [
    "#! pip install --user Cython"
   ]
  },
  {
   "cell_type": "code",
   "execution_count": null,
   "metadata": {},
   "outputs": [],
   "source": []
  }
 ],
 "metadata": {
  "kernelspec": {
   "display_name": "Python 3",
   "language": "python",
   "name": "python3"
  },
  "language_info": {
   "codemirror_mode": {
    "name": "ipython",
    "version": 3
   },
   "file_extension": ".py",
   "mimetype": "text/x-python",
   "name": "python",
   "nbconvert_exporter": "python",
   "pygments_lexer": "ipython3",
   "version": "3.7.3"
  }
 },
 "nbformat": 4,
 "nbformat_minor": 4
}
