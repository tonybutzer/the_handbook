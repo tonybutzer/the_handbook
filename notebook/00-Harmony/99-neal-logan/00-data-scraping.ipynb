{
 "cells": [
  {
   "cell_type": "code",
   "execution_count": 1,
   "metadata": {},
   "outputs": [
    {
     "name": "stdout",
     "output_type": "stream",
     "text": [
      "--2020-12-10 17:57:51--  https://s3-us-west-2.amazonaws.com/mrlc/Base_Annual_Herb_071520.zip\n",
      "Resolving s3-us-west-2.amazonaws.com (s3-us-west-2.amazonaws.com)... 52.218.154.88\n",
      "Connecting to s3-us-west-2.amazonaws.com (s3-us-west-2.amazonaws.com)|52.218.154.88|:443... connected.\n",
      "HTTP request sent, awaiting response... 200 OK\n",
      "Length: 976960009 (932M) [application/zip]\n",
      "Saving to: ‘Base_Annual_Herb_071520.zip.1’\n",
      "\n",
      "Base_Annual_Herb_07 100%[===================>] 931.70M  39.9MB/s    in 23s     \n",
      "\n",
      "2020-12-10 17:58:14 (40.6 MB/s) - ‘Base_Annual_Herb_071520.zip.1’ saved [976960009/976960009]\n",
      "\n"
     ]
    }
   ],
   "source": [
    "!wget https://s3-us-west-2.amazonaws.com/mrlc/Base_Annual_Herb_071520.zip"
   ]
  },
  {
   "cell_type": "code",
   "execution_count": 2,
   "metadata": {},
   "outputs": [
    {
     "name": "stdout",
     "output_type": "stream",
     "text": [
      "total 11G\r\n",
      "-rw-r--r-- 1 jupyter-harmony jupyter-harmony 3.8K Dec  8 23:15 00-data-scraping.ipynb\r\n",
      "-rw-r--r-- 1 jupyter-harmony jupyter-harmony 932M Aug  7 16:00 Base_Annual_Herb_071520.zip\r\n",
      "-rw-r--r-- 1 jupyter-harmony jupyter-harmony 932M Aug  7 16:00 Base_Annual_Herb_071520.zip.1\r\n",
      "-rw-r--r-- 1 jupyter-harmony jupyter-harmony  34K Aug  3 06:49 NLCD_2016_Annual_Herb_Shrubland_Fractional_Component_20200715.xml\r\n",
      "-rw-r--r-- 1 jupyter-harmony jupyter-harmony 7.9G Jul 15 18:27 nlcd_2016_annual_herbaceous_shrubland_fractional_component_20200715.ige\r\n",
      "-rw-r--r-- 1 jupyter-harmony jupyter-harmony 542M Jul 16 08:36 nlcd_2016_annual_herbaceous_shrubland_fractional_component_20200715.img\r\n"
     ]
    }
   ],
   "source": [
    "! ls -lh"
   ]
  },
  {
   "cell_type": "code",
   "execution_count": 3,
   "metadata": {},
   "outputs": [
    {
     "name": "stdout",
     "output_type": "stream",
     "text": [
      "\r\n",
      "An error occurred (AccessDenied) when calling the ListObjectsV2 operation: Access Denied\r\n"
     ]
    }
   ],
   "source": [
    "! aws s3 ls s3://mrlc/Base_Annual_Herb_071520.zip"
   ]
  },
  {
   "cell_type": "code",
   "execution_count": 4,
   "metadata": {},
   "outputs": [
    {
     "name": "stdout",
     "output_type": "stream",
     "text": [
      "\r\n",
      "An error occurred (AccessDenied) when calling the ListObjectsV2 operation: Access Denied\r\n"
     ]
    }
   ],
   "source": [
    "! aws s3 ls mrlc"
   ]
  },
  {
   "cell_type": "code",
   "execution_count": 5,
   "metadata": {},
   "outputs": [
    {
     "name": "stdout",
     "output_type": "stream",
     "text": [
      "Archive:  Base_Annual_Herb_071520.zip\n",
      "replace nlcd_2016_annual_herbaceous_shrubland_fractional_component_20200715.ige? [y]es, [n]o, [A]ll, [N]one, [r]ename: ^C\n"
     ]
    }
   ],
   "source": [
    "!unzip Base_Annual_Herb_071520.zip"
   ]
  },
  {
   "cell_type": "code",
   "execution_count": 6,
   "metadata": {},
   "outputs": [
    {
     "name": "stdout",
     "output_type": "stream",
     "text": [
      "00-data-scraping.ipynb\r\n",
      "Base_Annual_Herb_071520.zip\r\n",
      "Base_Annual_Herb_071520.zip.1\r\n",
      "NLCD_2016_Annual_Herb_Shrubland_Fractional_Component_20200715.xml\r\n",
      "nlcd_2016_annual_herbaceous_shrubland_fractional_component_20200715.ige\r\n",
      "nlcd_2016_annual_herbaceous_shrubland_fractional_component_20200715.img\r\n"
     ]
    }
   ],
   "source": [
    "!ls"
   ]
  },
  {
   "cell_type": "code",
   "execution_count": null,
   "metadata": {},
   "outputs": [],
   "source": []
  }
 ],
 "metadata": {
  "kernelspec": {
   "display_name": "Python 3",
   "language": "python",
   "name": "python3"
  },
  "language_info": {
   "codemirror_mode": {
    "name": "ipython",
    "version": 3
   },
   "file_extension": ".py",
   "mimetype": "text/x-python",
   "name": "python",
   "nbconvert_exporter": "python",
   "pygments_lexer": "ipython3",
   "version": "3.7.3"
  }
 },
 "nbformat": 4,
 "nbformat_minor": 4
}
