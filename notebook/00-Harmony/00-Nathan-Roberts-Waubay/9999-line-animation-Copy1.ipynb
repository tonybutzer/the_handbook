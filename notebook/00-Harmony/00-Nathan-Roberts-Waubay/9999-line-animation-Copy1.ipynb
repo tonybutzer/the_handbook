{
 "cells": [
  {
   "cell_type": "code",
   "execution_count": 1,
   "metadata": {},
   "outputs": [],
   "source": [
    "\"\"\"\n",
    "===================\n",
    "Saving an animation\n",
    "===================\n",
    "\n",
    "This example showcases the same animations as `basic_example.py`, but instead\n",
    "of displaying the animation to the user, it writes to files using a\n",
    "MovieWriter instance.\n",
    "\"\"\"\n",
    "\n",
    "# -*- noplot -*-\n",
    "import numpy as np\n",
    "import matplotlib\n",
    "matplotlib.use(\"Agg\")\n",
    "import matplotlib.pyplot as plt\n",
    "import matplotlib.animation as animation"
   ]
  },
  {
   "cell_type": "code",
   "execution_count": 2,
   "metadata": {},
   "outputs": [],
   "source": [
    "def update_line(num, data, line):\n",
    "    line.set_data(data[..., :num])\n",
    "    return line,"
   ]
  },
  {
   "cell_type": "code",
   "execution_count": 3,
   "metadata": {},
   "outputs": [],
   "source": [
    "# Set up formatting for the movie files\n",
    "Writer = animation.writers['ffmpeg']\n",
    "writer = Writer(fps=15, metadata=dict(artist='Me'), bitrate=1800)\n",
    "\n",
    "\n",
    "fig1 = plt.figure()\n",
    "\n",
    "data = np.random.rand(2, 25)\n",
    "l, = plt.plot([], [], 'r-')\n",
    "plt.xlim(0, 1)\n",
    "plt.ylim(0, 1)\n",
    "plt.xlabel('x')\n",
    "plt.title('test')\n",
    "line_ani = animation.FuncAnimation(fig1, update_line, 25, fargs=(data, l),\n",
    "                                   interval=50, blit=True)\n",
    "line_ani.save('lines.mp4', writer=writer)\n",
    "\n",
    "fig2 = plt.figure()"
   ]
  },
  {
   "cell_type": "code",
   "execution_count": 6,
   "metadata": {},
   "outputs": [
    {
     "name": "stdout",
     "output_type": "stream",
     "text": [
      "<class 'numpy.ndarray'>\n",
      "<class 'tuple'> <class 'matplotlib.collections.PolyCollection'>\n",
      "<class 'tuple'> <class 'matplotlib.collections.PolyCollection'>\n",
      "<class 'tuple'> <class 'matplotlib.collections.PolyCollection'>\n",
      "<class 'tuple'> <class 'matplotlib.collections.PolyCollection'>\n",
      "<class 'tuple'> <class 'matplotlib.collections.PolyCollection'>\n",
      "<class 'tuple'> <class 'matplotlib.collections.PolyCollection'>\n",
      "<class 'tuple'> <class 'matplotlib.collections.PolyCollection'>\n",
      "<class 'tuple'> <class 'matplotlib.collections.PolyCollection'>\n",
      "<class 'tuple'> <class 'matplotlib.collections.PolyCollection'>\n",
      "<class 'tuple'> <class 'matplotlib.collections.PolyCollection'>\n",
      "<class 'tuple'> <class 'matplotlib.collections.PolyCollection'>\n",
      "<class 'tuple'> <class 'matplotlib.collections.PolyCollection'>\n",
      "<class 'tuple'> <class 'matplotlib.collections.PolyCollection'>\n",
      "<class 'tuple'> <class 'matplotlib.collections.PolyCollection'>\n",
      "<class 'tuple'> <class 'matplotlib.collections.PolyCollection'>\n"
     ]
    },
    {
     "name": "stderr",
     "output_type": "stream",
     "text": [
      "/opt/tljh/user/lib/python3.7/site-packages/ipykernel_launcher.py:7: MatplotlibDeprecationWarning: shading='flat' when X and Y have the same dimensions as C is deprecated since 3.3.  Either specify the corners of the quadrilaterals with X and Y, or pass shading='auto', 'nearest' or 'gouraud', or set rcParams['pcolor.shading'].  This will become an error two minor releases later.\n",
      "  import sys\n"
     ]
    }
   ],
   "source": [
    "x = np.arange(-9, 10)\n",
    "y = np.arange(-9, 10).reshape(-1, 1)\n",
    "base = np.hypot(x, y)\n",
    "print(type(base))\n",
    "ims = []\n",
    "for add in np.arange(15):\n",
    "    a = (plt.pcolor(x, y, base + add, norm=plt.Normalize(0, 30)),)\n",
    "    print(type (a), type(a[0]))\n",
    "    ims.append(a)\n",
    "\n",
    "im_ani = animation.ArtistAnimation(fig2, ims, interval=50, repeat_delay=3000,\n",
    "                                   blit=True)\n",
    "im_ani.save('im.mp4', writer=writer)"
   ]
  },
  {
   "cell_type": "code",
   "execution_count": 5,
   "metadata": {},
   "outputs": [
    {
     "name": "stdout",
     "output_type": "stream",
     "text": [
      "'00-Tony-hacks-Waubay Lake Inundation Using Sat-API to Discover Data .ipynb'\r\n",
      "'01-NO_DASK-Tony-hacks-Waubay Lake Inundation Using Sat-API to Discover Data -Copy1.ipynb'\r\n",
      " 88-png-animation.ipynb\r\n",
      " 89-unpickle-the-ndwi-thanks-nathan-roberts-Copy1-gifs-animation.ipynb\r\n",
      " 90-unpickle-the-ndwi-thanks-nathan-roberts.ipynb\r\n",
      " 999-line-animation.ipynb\r\n",
      " 9999-line-animation-Copy1.ipynb\r\n",
      "'Waubay Lake Inundation Using Sat-API to Discover Data .html'\r\n",
      " Waubay_AOI.geojson\r\n",
      " dask-worker-space\r\n",
      " im.mp4\r\n",
      " lines.mp4\r\n",
      " water.nc\r\n",
      " water_innundation.mp4\r\n",
      " waubay_ndwi.pickle\r\n",
      " wet-Copy1.png\r\n",
      " wet.png\r\n",
      " wetter.png\r\n"
     ]
    }
   ],
   "source": [
    "! ls"
   ]
  },
  {
   "cell_type": "code",
   "execution_count": null,
   "metadata": {},
   "outputs": [],
   "source": []
  }
 ],
 "metadata": {
  "kernelspec": {
   "display_name": "Python 3",
   "language": "python",
   "name": "python3"
  },
  "language_info": {
   "codemirror_mode": {
    "name": "ipython",
    "version": 3
   },
   "file_extension": ".py",
   "mimetype": "text/x-python",
   "name": "python",
   "nbconvert_exporter": "python",
   "pygments_lexer": "ipython3",
   "version": "3.7.3"
  }
 },
 "nbformat": 4,
 "nbformat_minor": 4
}
