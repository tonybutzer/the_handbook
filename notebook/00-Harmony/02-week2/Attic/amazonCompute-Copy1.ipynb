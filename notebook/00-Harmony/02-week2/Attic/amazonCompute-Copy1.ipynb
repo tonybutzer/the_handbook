{
 "cells": [
  {
   "cell_type": "code",
   "execution_count": 1,
   "metadata": {
    "collapsed": true
   },
   "outputs": [],
   "source": [
    "import pandas"
   ]
  },
  {
   "cell_type": "code",
   "execution_count": 2,
   "metadata": {},
   "outputs": [
    {
     "name": "stderr",
     "output_type": "stream",
     "text": [
      "/home/tony/anaconda3/lib/python3.5/site-packages/IPython/core/interactiveshell.py:2723: DtypeWarning: Columns (28,29,30,31,32,33,34,36,48) have mixed types. Specify dtype option on import or set low_memory=False.\n",
      "  interactivity=interactivity, compiler=compiler, result=result)\n"
     ]
    }
   ],
   "source": [
    "df = pandas.read_csv('awsLink/workCopy.csv', sep=',')"
   ]
  },
  {
   "cell_type": "code",
   "execution_count": 3,
   "metadata": {},
   "outputs": [
    {
     "data": {
      "text/plain": [
       "(166505, 70)"
      ]
     },
     "execution_count": 3,
     "metadata": {},
     "output_type": "execute_result"
    }
   ],
   "source": [
    "df.shape"
   ]
  },
  {
   "cell_type": "code",
   "execution_count": 65,
   "metadata": {},
   "outputs": [],
   "source": [
    "n1 = df.columns"
   ]
  },
  {
   "cell_type": "code",
   "execution_count": 66,
   "metadata": {},
   "outputs": [
    {
     "data": {
      "text/plain": [
       "pandas.indexes.base.Index"
      ]
     },
     "execution_count": 66,
     "metadata": {},
     "output_type": "execute_result"
    }
   ],
   "source": [
    "type(n1)"
   ]
  },
  {
   "cell_type": "code",
   "execution_count": 67,
   "metadata": {},
   "outputs": [
    {
     "name": "stdout",
     "output_type": "stream",
     "text": [
      "Index(['SKU', 'OfferTermCode', 'RateCode', 'TermType', 'PriceDescription',\n",
      "       'EffectiveDate', 'StartingRange', 'EndingRange', 'Unit', 'PricePerUnit',\n",
      "       'Currency', 'LeaseContractLength', 'PurchaseOption', 'OfferingClass',\n",
      "       'Product Family', 'serviceCode', 'Location', 'Location Type',\n",
      "       'Instance Type', 'Current Generation', 'Instance Family', 'vCPU',\n",
      "       'Physical Processor', 'Clock Speed', 'Memory', 'Storage',\n",
      "       'Network Performance', 'Processor Architecture', 'Storage Media',\n",
      "       'Volume Type', 'Max Volume Size', 'Max IOPS/volume',\n",
      "       'Max IOPS Burst Performance', 'Max throughput/volume', 'Provisioned',\n",
      "       'Tenancy', 'EBS Optimized', 'Operating System', 'License Model',\n",
      "       'Group', 'Group Description', 'Transfer Type', 'From Location',\n",
      "       'From Location Type', 'To Location', 'To Location Type', 'usageType',\n",
      "       'operation', 'Comments', 'Dedicated EBS Throughput', 'ECU',\n",
      "       'Enhanced Networking Supported', 'GPU', 'Instance Capacity - 10xlarge',\n",
      "       'Instance Capacity - 16xlarge', 'Instance Capacity - 2xlarge',\n",
      "       'Instance Capacity - 32xlarge', 'Instance Capacity - 4xlarge',\n",
      "       'Instance Capacity - 8xlarge', 'Instance Capacity - large',\n",
      "       'Instance Capacity - medium', 'Instance Capacity - xlarge',\n",
      "       'Intel AVX Available', 'Intel AVX2 Available', 'Intel Turbo Available',\n",
      "       'Normalization Size Factor', 'Physical Cores', 'Pre Installed S/W',\n",
      "       'Processor Features', 'Sockets'],\n",
      "      dtype='object')\n"
     ]
    }
   ],
   "source": [
    "print(n1)"
   ]
  },
  {
   "cell_type": "code",
   "execution_count": 55,
   "metadata": {},
   "outputs": [],
   "source": [
    "subset = df [['Instance Type', 'Current Generation', 'Instance Family', 'vCPU',\n",
    "       'Physical Processor', 'Clock Speed', 'Memory', 'Storage',\n",
    "       'Network Performance']]"
   ]
  },
  {
   "cell_type": "code",
   "execution_count": 56,
   "metadata": {},
   "outputs": [
    {
     "data": {
      "text/html": [
       "<div>\n",
       "<table border=\"1\" class=\"dataframe\">\n",
       "  <thead>\n",
       "    <tr style=\"text-align: right;\">\n",
       "      <th></th>\n",
       "      <th>Instance Type</th>\n",
       "      <th>Current Generation</th>\n",
       "      <th>Instance Family</th>\n",
       "      <th>vCPU</th>\n",
       "      <th>Physical Processor</th>\n",
       "      <th>Clock Speed</th>\n",
       "      <th>Memory</th>\n",
       "      <th>Storage</th>\n",
       "      <th>Network Performance</th>\n",
       "    </tr>\n",
       "  </thead>\n",
       "  <tbody>\n",
       "    <tr>\n",
       "      <th>0</th>\n",
       "      <td>m4.xlarge</td>\n",
       "      <td>Yes</td>\n",
       "      <td>General purpose</td>\n",
       "      <td>4.0</td>\n",
       "      <td>Intel Xeon E5-2676 v3 (Haswell)</td>\n",
       "      <td>2.4  GHz</td>\n",
       "      <td>16 GiB</td>\n",
       "      <td>EBS only</td>\n",
       "      <td>High</td>\n",
       "    </tr>\n",
       "    <tr>\n",
       "      <th>1</th>\n",
       "      <td>r4.16xlarge</td>\n",
       "      <td>Yes</td>\n",
       "      <td>Memory optimized</td>\n",
       "      <td>64.0</td>\n",
       "      <td>Intel Xeon E5-2686 v4 (Broadwell)</td>\n",
       "      <td>2.3 GHz</td>\n",
       "      <td>488 GiB</td>\n",
       "      <td>EBS only</td>\n",
       "      <td>20 Gigabit</td>\n",
       "    </tr>\n",
       "    <tr>\n",
       "      <th>2</th>\n",
       "      <td>i2.4xlarge</td>\n",
       "      <td>No</td>\n",
       "      <td>Storage optimized</td>\n",
       "      <td>16.0</td>\n",
       "      <td>Intel Xeon E5-2670 v2 (Ivy Bridge)</td>\n",
       "      <td>2.5 GHz</td>\n",
       "      <td>122 GiB</td>\n",
       "      <td>4 x 800 SSD</td>\n",
       "      <td>High</td>\n",
       "    </tr>\n",
       "    <tr>\n",
       "      <th>3</th>\n",
       "      <td>m3.2xlarge</td>\n",
       "      <td>Yes</td>\n",
       "      <td>General purpose</td>\n",
       "      <td>8.0</td>\n",
       "      <td>Intel Xeon E5-2670 v2 (Ivy Bridge/Sandy Bridge)</td>\n",
       "      <td>2.5 GHz</td>\n",
       "      <td>30 GiB</td>\n",
       "      <td>2 x 80 SSD</td>\n",
       "      <td>High</td>\n",
       "    </tr>\n",
       "    <tr>\n",
       "      <th>4</th>\n",
       "      <td>m1.medium</td>\n",
       "      <td>No</td>\n",
       "      <td>General purpose</td>\n",
       "      <td>1.0</td>\n",
       "      <td>Intel Xeon Family</td>\n",
       "      <td>NaN</td>\n",
       "      <td>3.75 GiB</td>\n",
       "      <td>1 x 410</td>\n",
       "      <td>Moderate</td>\n",
       "    </tr>\n",
       "    <tr>\n",
       "      <th>5</th>\n",
       "      <td>i3.xlarge</td>\n",
       "      <td>Yes</td>\n",
       "      <td>Storage optimized</td>\n",
       "      <td>4.0</td>\n",
       "      <td>Intel Xeon E5-2686 v4 (Broadwell)</td>\n",
       "      <td>2.3 GHz</td>\n",
       "      <td>30.5 GiB</td>\n",
       "      <td>1 x 0.95 NVMe SSD</td>\n",
       "      <td>Up to 10 Gigabit</td>\n",
       "    </tr>\n",
       "    <tr>\n",
       "      <th>6</th>\n",
       "      <td>r4.2xlarge</td>\n",
       "      <td>Yes</td>\n",
       "      <td>Memory optimized</td>\n",
       "      <td>8.0</td>\n",
       "      <td>Intel Xeon E5-2686 v4 (Broadwell)</td>\n",
       "      <td>2.3 GHz</td>\n",
       "      <td>61 GiB</td>\n",
       "      <td>EBS only</td>\n",
       "      <td>Up to 10 Gigabit</td>\n",
       "    </tr>\n",
       "    <tr>\n",
       "      <th>7</th>\n",
       "      <td>c4.xlarge</td>\n",
       "      <td>Yes</td>\n",
       "      <td>Compute optimized</td>\n",
       "      <td>4.0</td>\n",
       "      <td>Intel Xeon E5-2666 v3 (Haswell)</td>\n",
       "      <td>2.9 GHz</td>\n",
       "      <td>7.5 GiB</td>\n",
       "      <td>EBS only</td>\n",
       "      <td>High</td>\n",
       "    </tr>\n",
       "    <tr>\n",
       "      <th>8</th>\n",
       "      <td>c4.4xlarge</td>\n",
       "      <td>Yes</td>\n",
       "      <td>Compute optimized</td>\n",
       "      <td>16.0</td>\n",
       "      <td>Intel Xeon E5-2666 v3 (Haswell)</td>\n",
       "      <td>2.9 GHz</td>\n",
       "      <td>30 GiB</td>\n",
       "      <td>EBS only</td>\n",
       "      <td>High</td>\n",
       "    </tr>\n",
       "    <tr>\n",
       "      <th>9</th>\n",
       "      <td>t2.large</td>\n",
       "      <td>Yes</td>\n",
       "      <td>General purpose</td>\n",
       "      <td>2.0</td>\n",
       "      <td>Intel Xeon Family</td>\n",
       "      <td>Up to 3.0 GHz</td>\n",
       "      <td>8 GiB</td>\n",
       "      <td>EBS only</td>\n",
       "      <td>Low to Moderate</td>\n",
       "    </tr>\n",
       "    <tr>\n",
       "      <th>10</th>\n",
       "      <td>m4.2xlarge</td>\n",
       "      <td>Yes</td>\n",
       "      <td>General purpose</td>\n",
       "      <td>8.0</td>\n",
       "      <td>Intel Xeon E5-2676 v3 (Haswell)</td>\n",
       "      <td>2.4 GHz</td>\n",
       "      <td>32 GiB</td>\n",
       "      <td>EBS only</td>\n",
       "      <td>High</td>\n",
       "    </tr>\n",
       "    <tr>\n",
       "      <th>11</th>\n",
       "      <td>i2.8xlarge</td>\n",
       "      <td>No</td>\n",
       "      <td>Storage optimized</td>\n",
       "      <td>32.0</td>\n",
       "      <td>Intel Xeon E5-2670 v2 (Ivy Bridge)</td>\n",
       "      <td>2.5 GHz</td>\n",
       "      <td>244 GiB</td>\n",
       "      <td>8 x 800 SSD</td>\n",
       "      <td>10 Gigabit</td>\n",
       "    </tr>\n",
       "    <tr>\n",
       "      <th>12</th>\n",
       "      <td>m3.xlarge</td>\n",
       "      <td>Yes</td>\n",
       "      <td>General purpose</td>\n",
       "      <td>4.0</td>\n",
       "      <td>Intel Xeon E5-2670 v2 (Ivy Bridge/Sandy Bridge)</td>\n",
       "      <td>2.5 GHz</td>\n",
       "      <td>15 GiB</td>\n",
       "      <td>2 x 40 SSD</td>\n",
       "      <td>High</td>\n",
       "    </tr>\n",
       "    <tr>\n",
       "      <th>13</th>\n",
       "      <td>i3.large</td>\n",
       "      <td>Yes</td>\n",
       "      <td>Storage optimized</td>\n",
       "      <td>2.0</td>\n",
       "      <td>Intel Xeon E5-2686 v4 (Broadwell)</td>\n",
       "      <td>2.3 GHz</td>\n",
       "      <td>15.25 GiB</td>\n",
       "      <td>1 x 0.475 NVMe SSD</td>\n",
       "      <td>Up to 10 Gigabit</td>\n",
       "    </tr>\n",
       "    <tr>\n",
       "      <th>14</th>\n",
       "      <td>r3.8xlarge</td>\n",
       "      <td>Yes</td>\n",
       "      <td>Memory optimized</td>\n",
       "      <td>32.0</td>\n",
       "      <td>Intel Xeon E5-2670 v2 (Ivy Bridge)</td>\n",
       "      <td>2.5 GHz</td>\n",
       "      <td>244 GiB</td>\n",
       "      <td>2 x 320 SSD</td>\n",
       "      <td>10 Gigabit</td>\n",
       "    </tr>\n",
       "    <tr>\n",
       "      <th>15</th>\n",
       "      <td>d2.4xlarge</td>\n",
       "      <td>Yes</td>\n",
       "      <td>Storage optimized</td>\n",
       "      <td>16.0</td>\n",
       "      <td>Intel Xeon E5-2676v3 (Haswell)</td>\n",
       "      <td>2.4 GHz</td>\n",
       "      <td>122 GiB</td>\n",
       "      <td>12 x 2000 HDD</td>\n",
       "      <td>High</td>\n",
       "    </tr>\n",
       "    <tr>\n",
       "      <th>16</th>\n",
       "      <td>t2.large</td>\n",
       "      <td>Yes</td>\n",
       "      <td>General purpose</td>\n",
       "      <td>2.0</td>\n",
       "      <td>Intel Xeon Family</td>\n",
       "      <td>Up to 3.0 GHz</td>\n",
       "      <td>8 GiB</td>\n",
       "      <td>EBS only</td>\n",
       "      <td>Low to Moderate</td>\n",
       "    </tr>\n",
       "    <tr>\n",
       "      <th>17</th>\n",
       "      <td>i3.large</td>\n",
       "      <td>Yes</td>\n",
       "      <td>Storage optimized</td>\n",
       "      <td>2.0</td>\n",
       "      <td>Intel Xeon E5-2686 v4 (Broadwell)</td>\n",
       "      <td>2.3 GHz</td>\n",
       "      <td>15.25 GiB</td>\n",
       "      <td>1 x 0.475 NVMe SSD</td>\n",
       "      <td>Up to 10 Gigabit</td>\n",
       "    </tr>\n",
       "    <tr>\n",
       "      <th>18</th>\n",
       "      <td>i3.2xlarge</td>\n",
       "      <td>Yes</td>\n",
       "      <td>Storage optimized</td>\n",
       "      <td>8.0</td>\n",
       "      <td>Intel Xeon E5-2686 v4 (Broadwell)</td>\n",
       "      <td>2.3 GHz</td>\n",
       "      <td>61 GiB</td>\n",
       "      <td>1 x 1.9 NVMe SSD</td>\n",
       "      <td>Up to 10 Gigabit</td>\n",
       "    </tr>\n",
       "    <tr>\n",
       "      <th>19</th>\n",
       "      <td>i3.large</td>\n",
       "      <td>Yes</td>\n",
       "      <td>Storage optimized</td>\n",
       "      <td>2.0</td>\n",
       "      <td>Intel Xeon E5-2686 v4 (Broadwell)</td>\n",
       "      <td>2.3 GHz</td>\n",
       "      <td>15.25 GiB</td>\n",
       "      <td>1 x 0.475 NVMe SSD</td>\n",
       "      <td>Up to 10 Gigabit</td>\n",
       "    </tr>\n",
       "  </tbody>\n",
       "</table>\n",
       "</div>"
      ],
      "text/plain": [
       "   Instance Type Current Generation    Instance Family  vCPU  \\\n",
       "0      m4.xlarge                Yes    General purpose   4.0   \n",
       "1    r4.16xlarge                Yes   Memory optimized  64.0   \n",
       "2     i2.4xlarge                 No  Storage optimized  16.0   \n",
       "3     m3.2xlarge                Yes    General purpose   8.0   \n",
       "4      m1.medium                 No    General purpose   1.0   \n",
       "5      i3.xlarge                Yes  Storage optimized   4.0   \n",
       "6     r4.2xlarge                Yes   Memory optimized   8.0   \n",
       "7      c4.xlarge                Yes  Compute optimized   4.0   \n",
       "8     c4.4xlarge                Yes  Compute optimized  16.0   \n",
       "9       t2.large                Yes    General purpose   2.0   \n",
       "10    m4.2xlarge                Yes    General purpose   8.0   \n",
       "11    i2.8xlarge                 No  Storage optimized  32.0   \n",
       "12     m3.xlarge                Yes    General purpose   4.0   \n",
       "13      i3.large                Yes  Storage optimized   2.0   \n",
       "14    r3.8xlarge                Yes   Memory optimized  32.0   \n",
       "15    d2.4xlarge                Yes  Storage optimized  16.0   \n",
       "16      t2.large                Yes    General purpose   2.0   \n",
       "17      i3.large                Yes  Storage optimized   2.0   \n",
       "18    i3.2xlarge                Yes  Storage optimized   8.0   \n",
       "19      i3.large                Yes  Storage optimized   2.0   \n",
       "\n",
       "                                 Physical Processor    Clock Speed     Memory  \\\n",
       "0                   Intel Xeon E5-2676 v3 (Haswell)       2.4  GHz     16 GiB   \n",
       "1                 Intel Xeon E5-2686 v4 (Broadwell)        2.3 GHz    488 GiB   \n",
       "2                Intel Xeon E5-2670 v2 (Ivy Bridge)        2.5 GHz    122 GiB   \n",
       "3   Intel Xeon E5-2670 v2 (Ivy Bridge/Sandy Bridge)        2.5 GHz     30 GiB   \n",
       "4                                 Intel Xeon Family            NaN   3.75 GiB   \n",
       "5                 Intel Xeon E5-2686 v4 (Broadwell)        2.3 GHz   30.5 GiB   \n",
       "6                 Intel Xeon E5-2686 v4 (Broadwell)        2.3 GHz     61 GiB   \n",
       "7                   Intel Xeon E5-2666 v3 (Haswell)        2.9 GHz    7.5 GiB   \n",
       "8                   Intel Xeon E5-2666 v3 (Haswell)        2.9 GHz     30 GiB   \n",
       "9                                 Intel Xeon Family  Up to 3.0 GHz      8 GiB   \n",
       "10                  Intel Xeon E5-2676 v3 (Haswell)        2.4 GHz     32 GiB   \n",
       "11               Intel Xeon E5-2670 v2 (Ivy Bridge)        2.5 GHz    244 GiB   \n",
       "12  Intel Xeon E5-2670 v2 (Ivy Bridge/Sandy Bridge)        2.5 GHz     15 GiB   \n",
       "13                Intel Xeon E5-2686 v4 (Broadwell)        2.3 GHz  15.25 GiB   \n",
       "14               Intel Xeon E5-2670 v2 (Ivy Bridge)        2.5 GHz    244 GiB   \n",
       "15                   Intel Xeon E5-2676v3 (Haswell)        2.4 GHz    122 GiB   \n",
       "16                                Intel Xeon Family  Up to 3.0 GHz      8 GiB   \n",
       "17                Intel Xeon E5-2686 v4 (Broadwell)        2.3 GHz  15.25 GiB   \n",
       "18                Intel Xeon E5-2686 v4 (Broadwell)        2.3 GHz     61 GiB   \n",
       "19                Intel Xeon E5-2686 v4 (Broadwell)        2.3 GHz  15.25 GiB   \n",
       "\n",
       "               Storage Network Performance  \n",
       "0             EBS only                High  \n",
       "1             EBS only          20 Gigabit  \n",
       "2          4 x 800 SSD                High  \n",
       "3           2 x 80 SSD                High  \n",
       "4              1 x 410            Moderate  \n",
       "5    1 x 0.95 NVMe SSD    Up to 10 Gigabit  \n",
       "6             EBS only    Up to 10 Gigabit  \n",
       "7             EBS only                High  \n",
       "8             EBS only                High  \n",
       "9             EBS only     Low to Moderate  \n",
       "10            EBS only                High  \n",
       "11         8 x 800 SSD          10 Gigabit  \n",
       "12          2 x 40 SSD                High  \n",
       "13  1 x 0.475 NVMe SSD    Up to 10 Gigabit  \n",
       "14         2 x 320 SSD          10 Gigabit  \n",
       "15       12 x 2000 HDD                High  \n",
       "16            EBS only     Low to Moderate  \n",
       "17  1 x 0.475 NVMe SSD    Up to 10 Gigabit  \n",
       "18    1 x 1.9 NVMe SSD    Up to 10 Gigabit  \n",
       "19  1 x 0.475 NVMe SSD    Up to 10 Gigabit  "
      ]
     },
     "execution_count": 56,
     "metadata": {},
     "output_type": "execute_result"
    }
   ],
   "source": [
    "subset[:20]"
   ]
  },
  {
   "cell_type": "code",
   "execution_count": 57,
   "metadata": {},
   "outputs": [
    {
     "data": {
      "text/plain": [
       "(166505, 9)"
      ]
     },
     "execution_count": 57,
     "metadata": {},
     "output_type": "execute_result"
    }
   ],
   "source": [
    "subset.shape"
   ]
  },
  {
   "cell_type": "code",
   "execution_count": 58,
   "metadata": {},
   "outputs": [
    {
     "data": {
      "text/html": [
       "<div>\n",
       "<table border=\"1\" class=\"dataframe\">\n",
       "  <thead>\n",
       "    <tr style=\"text-align: right;\">\n",
       "      <th></th>\n",
       "      <th>vCPU</th>\n",
       "    </tr>\n",
       "  </thead>\n",
       "  <tbody>\n",
       "    <tr>\n",
       "      <th>count</th>\n",
       "      <td>165618.000000</td>\n",
       "    </tr>\n",
       "    <tr>\n",
       "      <th>mean</th>\n",
       "      <td>19.078862</td>\n",
       "    </tr>\n",
       "    <tr>\n",
       "      <th>std</th>\n",
       "      <td>23.797859</td>\n",
       "    </tr>\n",
       "    <tr>\n",
       "      <th>min</th>\n",
       "      <td>1.000000</td>\n",
       "    </tr>\n",
       "    <tr>\n",
       "      <th>25%</th>\n",
       "      <td>4.000000</td>\n",
       "    </tr>\n",
       "    <tr>\n",
       "      <th>50%</th>\n",
       "      <td>8.000000</td>\n",
       "    </tr>\n",
       "    <tr>\n",
       "      <th>75%</th>\n",
       "      <td>32.000000</td>\n",
       "    </tr>\n",
       "    <tr>\n",
       "      <th>max</th>\n",
       "      <td>128.000000</td>\n",
       "    </tr>\n",
       "  </tbody>\n",
       "</table>\n",
       "</div>"
      ],
      "text/plain": [
       "                vCPU\n",
       "count  165618.000000\n",
       "mean       19.078862\n",
       "std        23.797859\n",
       "min         1.000000\n",
       "25%         4.000000\n",
       "50%         8.000000\n",
       "75%        32.000000\n",
       "max       128.000000"
      ]
     },
     "execution_count": 58,
     "metadata": {},
     "output_type": "execute_result"
    }
   ],
   "source": [
    "subset.describe()"
   ]
  },
  {
   "cell_type": "code",
   "execution_count": 62,
   "metadata": {},
   "outputs": [],
   "source": [
    "n1 = subset.groupby(['Instance Type','vCPU'])['Memory'].max()"
   ]
  },
  {
   "cell_type": "code",
   "execution_count": 64,
   "metadata": {},
   "outputs": [
    {
     "data": {
      "text/plain": [
       "pandas.core.series.Series"
      ]
     },
     "execution_count": 64,
     "metadata": {},
     "output_type": "execute_result"
    }
   ],
   "source": [
    "type(n1)"
   ]
  },
  {
   "cell_type": "code",
   "execution_count": 63,
   "metadata": {},
   "outputs": [
    {
     "data": {
      "text/plain": [
       "Instance Type  vCPU \n",
       "c1.medium      2.0        1.7 GiB\n",
       "c1.xlarge      8.0          7 GiB\n",
       "c3             32.0           NaN\n",
       "c3.2xlarge     8.0         15 GiB\n",
       "c3.4xlarge     16.0        30 GiB\n",
       "c3.8xlarge     32.0        60 GiB\n",
       "c3.large       2.0       3.75 GiB\n",
       "c3.xlarge      4.0        7.5 GiB\n",
       "c4             36.0           NaN\n",
       "c4.2xlarge     8.0         15 GiB\n",
       "c4.4xlarge     16.0        30 GiB\n",
       "c4.8xlarge     36.0        60 GiB\n",
       "c4.large       2.0       3.75 GiB\n",
       "c4.xlarge      4.0        7.5 GiB\n",
       "cc1.4xlarge    16.0        23 GiB\n",
       "cc2.8xlarge    32.0      60.5 GiB\n",
       "cg1.4xlarge    16.0      22.5 GiB\n",
       "cr1.8xlarge    32.0       244 GiB\n",
       "d2             36.0           NaN\n",
       "d2.2xlarge     8.0         61 GiB\n",
       "d2.4xlarge     16.0       122 GiB\n",
       "d2.8xlarge     36.0       244 GiB\n",
       "d2.xlarge      4.0       30.5 GiB\n",
       "f1             64.0           NaN\n",
       "f1.16xlarge    64.0       976 Gib\n",
       "f1.2xlarge     8.0        122 GiB\n",
       "g2             32.0           NaN\n",
       "g2.2xlarge     8.0         15 GiB\n",
       "g2.8xlarge     32.0        60 GiB\n",
       "g3             64.0           NaN\n",
       "                          ...    \n",
       "m4.large       2.0          8 GiB\n",
       "m4.xlarge      4.0         16 GiB\n",
       "p2             64.0           NaN\n",
       "p2.16xlarge    64.0       768 GiB\n",
       "p2.8xlarge     32.0       488 GiB\n",
       "p2.xlarge      4.0         61 GiB\n",
       "r3             32.0           NaN\n",
       "r3.2xlarge     8.0         61 GiB\n",
       "r3.4xlarge     16.0       122 GiB\n",
       "r3.8xlarge     32.0       244 GiB\n",
       "r3.large       2.0      15.25 GiB\n",
       "r3.xlarge      4.0       30.5 GiB\n",
       "r4             64.0           NaN\n",
       "r4.16xlarge    64.0       488 GiB\n",
       "r4.2xlarge     8.0         61 GiB\n",
       "r4.4xlarge     16.0       122 GiB\n",
       "r4.8xlarge     32.0       244 GiB\n",
       "r4.large       2.0      15.25 GiB\n",
       "r4.xlarge      4.0       30.5 GiB\n",
       "t1.micro       1.0      0.613 GiB\n",
       "t2.2xlarge     8.0         32 GiB\n",
       "t2.large       2.0          8 GiB\n",
       "t2.medium      2.0          4 GiB\n",
       "t2.micro       1.0          1 GiB\n",
       "t2.nano        1.0        0.5 GiB\n",
       "t2.small       1.0          2 GiB\n",
       "t2.xlarge      4.0         16 GiB\n",
       "x1             128.0          NaN\n",
       "x1.16xlarge    64.0       976 Gib\n",
       "x1.32xlarge    128.0    1,952 Gib\n",
       "Name: Memory, dtype: object"
      ]
     },
     "execution_count": 63,
     "metadata": {},
     "output_type": "execute_result"
    }
   ],
   "source": [
    "n1"
   ]
  },
  {
   "cell_type": "code",
   "execution_count": 11,
   "metadata": {},
   "outputs": [],
   "source": [
    "sel = slice.value_counts()"
   ]
  },
  {
   "cell_type": "code",
   "execution_count": 12,
   "metadata": {},
   "outputs": [
    {
     "data": {
      "text/plain": [
       "pandas.core.series.Series"
      ]
     },
     "execution_count": 12,
     "metadata": {},
     "output_type": "execute_result"
    }
   ],
   "source": [
    "type(sel)"
   ]
  },
  {
   "cell_type": "code",
   "execution_count": 13,
   "metadata": {},
   "outputs": [
    {
     "data": {
      "text/plain": [
       "c4.2xlarge     3519\n",
       "c4.4xlarge     3519\n",
       "c4.xlarge      3519\n",
       "c4.8xlarge     3519\n",
       "m4.2xlarge     3511\n",
       "m4.xlarge      3511\n",
       "m4.10xlarge    3511\n",
       "m4.4xlarge     3511\n",
       "i3.xlarge      3510\n",
       "i3.8xlarge     3510\n",
       "i3.4xlarge     3510\n",
       "i3.16xlarge    3510\n",
       "r4.2xlarge     3510\n",
       "r4.xlarge      3510\n",
       "i3.2xlarge     3510\n",
       "r4.16xlarge    3493\n",
       "r4.4xlarge     3493\n",
       "r4.8xlarge     3478\n",
       "m4.16xlarge    3417\n",
       "x1.16xlarge    3201\n",
       "c4.large       3039\n",
       "m4.large       3031\n",
       "i3.large       3030\n",
       "r4.large       3023\n",
       "x1.32xlarge    3008\n",
       "r3.2xlarge     2843\n",
       "r3.4xlarge     2843\n",
       "r3.xlarge      2843\n",
       "r3.8xlarge     2831\n",
       "i2.2xlarge     2657\n",
       "               ... \n",
       "p2.16xlarge     871\n",
       "p2.8xlarge      871\n",
       "g3.16xlarge     827\n",
       "g3.4xlarge      827\n",
       "g3.8xlarge      825\n",
       "hs1.8xlarge     785\n",
       "p2.xlarge       760\n",
       "t2.nano         743\n",
       "cc2.8xlarge     562\n",
       "hi1.4xlarge     460\n",
       "t1.micro        459\n",
       "cr1.8xlarge     450\n",
       "f1.16xlarge     102\n",
       "f1.2xlarge      102\n",
       "cg1.4xlarge      28\n",
       "i3               15\n",
       "m4               14\n",
       "c4               14\n",
       "r4               13\n",
       "d2               13\n",
       "x1               13\n",
       "r3               13\n",
       "i2               12\n",
       "c3               10\n",
       "m3               10\n",
       "g2                8\n",
       "g3                6\n",
       "p2                3\n",
       "cc1.4xlarge       2\n",
       "f1                1\n",
       "Name: Instance Type, dtype: int64"
      ]
     },
     "execution_count": 13,
     "metadata": {},
     "output_type": "execute_result"
    }
   ],
   "source": [
    "sel"
   ]
  },
  {
   "cell_type": "code",
   "execution_count": 14,
   "metadata": {
    "collapsed": true
   },
   "outputs": [],
   "source": [
    "sel.name = 'junk'"
   ]
  },
  {
   "cell_type": "code",
   "execution_count": 15,
   "metadata": {},
   "outputs": [
    {
     "data": {
      "text/plain": [
       "c4.2xlarge     3519\n",
       "c4.4xlarge     3519\n",
       "c4.xlarge      3519\n",
       "c4.8xlarge     3519\n",
       "m4.2xlarge     3511\n",
       "m4.xlarge      3511\n",
       "m4.10xlarge    3511\n",
       "m4.4xlarge     3511\n",
       "i3.xlarge      3510\n",
       "i3.8xlarge     3510\n",
       "i3.4xlarge     3510\n",
       "i3.16xlarge    3510\n",
       "r4.2xlarge     3510\n",
       "r4.xlarge      3510\n",
       "i3.2xlarge     3510\n",
       "r4.16xlarge    3493\n",
       "r4.4xlarge     3493\n",
       "r4.8xlarge     3478\n",
       "m4.16xlarge    3417\n",
       "x1.16xlarge    3201\n",
       "c4.large       3039\n",
       "m4.large       3031\n",
       "i3.large       3030\n",
       "r4.large       3023\n",
       "x1.32xlarge    3008\n",
       "r3.2xlarge     2843\n",
       "r3.4xlarge     2843\n",
       "r3.xlarge      2843\n",
       "r3.8xlarge     2831\n",
       "i2.2xlarge     2657\n",
       "               ... \n",
       "p2.16xlarge     871\n",
       "p2.8xlarge      871\n",
       "g3.16xlarge     827\n",
       "g3.4xlarge      827\n",
       "g3.8xlarge      825\n",
       "hs1.8xlarge     785\n",
       "p2.xlarge       760\n",
       "t2.nano         743\n",
       "cc2.8xlarge     562\n",
       "hi1.4xlarge     460\n",
       "t1.micro        459\n",
       "cr1.8xlarge     450\n",
       "f1.16xlarge     102\n",
       "f1.2xlarge      102\n",
       "cg1.4xlarge      28\n",
       "i3               15\n",
       "m4               14\n",
       "c4               14\n",
       "r4               13\n",
       "d2               13\n",
       "x1               13\n",
       "r3               13\n",
       "i2               12\n",
       "c3               10\n",
       "m3               10\n",
       "g2                8\n",
       "g3                6\n",
       "p2                3\n",
       "cc1.4xlarge       2\n",
       "f1                1\n",
       "Name: junk, dtype: int64"
      ]
     },
     "execution_count": 15,
     "metadata": {},
     "output_type": "execute_result"
    }
   ],
   "source": [
    "sel"
   ]
  },
  {
   "cell_type": "code",
   "execution_count": 16,
   "metadata": {},
   "outputs": [],
   "source": [
    "abc = pandas.DataFrame(slice,sel)"
   ]
  },
  {
   "cell_type": "code",
   "execution_count": 17,
   "metadata": {},
   "outputs": [
    {
     "data": {
      "text/html": [
       "<div>\n",
       "<table border=\"1\" class=\"dataframe\">\n",
       "  <thead>\n",
       "    <tr style=\"text-align: right;\">\n",
       "      <th></th>\n",
       "      <th>Instance Type</th>\n",
       "    </tr>\n",
       "    <tr>\n",
       "      <th>junk</th>\n",
       "      <th></th>\n",
       "    </tr>\n",
       "  </thead>\n",
       "  <tbody>\n",
       "    <tr>\n",
       "      <th>3519</th>\n",
       "      <td>m4.2xlarge</td>\n",
       "    </tr>\n",
       "    <tr>\n",
       "      <th>3519</th>\n",
       "      <td>m4.2xlarge</td>\n",
       "    </tr>\n",
       "    <tr>\n",
       "      <th>3519</th>\n",
       "      <td>m4.2xlarge</td>\n",
       "    </tr>\n",
       "    <tr>\n",
       "      <th>3519</th>\n",
       "      <td>m4.2xlarge</td>\n",
       "    </tr>\n",
       "    <tr>\n",
       "      <th>3511</th>\n",
       "      <td>c4.8xlarge</td>\n",
       "    </tr>\n",
       "    <tr>\n",
       "      <th>3511</th>\n",
       "      <td>c4.8xlarge</td>\n",
       "    </tr>\n",
       "    <tr>\n",
       "      <th>3511</th>\n",
       "      <td>c4.8xlarge</td>\n",
       "    </tr>\n",
       "    <tr>\n",
       "      <th>3511</th>\n",
       "      <td>c4.8xlarge</td>\n",
       "    </tr>\n",
       "    <tr>\n",
       "      <th>3510</th>\n",
       "      <td>c4.8xlarge</td>\n",
       "    </tr>\n",
       "    <tr>\n",
       "      <th>3510</th>\n",
       "      <td>c4.8xlarge</td>\n",
       "    </tr>\n",
       "    <tr>\n",
       "      <th>3510</th>\n",
       "      <td>c4.8xlarge</td>\n",
       "    </tr>\n",
       "    <tr>\n",
       "      <th>3510</th>\n",
       "      <td>c4.8xlarge</td>\n",
       "    </tr>\n",
       "    <tr>\n",
       "      <th>3510</th>\n",
       "      <td>c4.8xlarge</td>\n",
       "    </tr>\n",
       "    <tr>\n",
       "      <th>3510</th>\n",
       "      <td>c4.8xlarge</td>\n",
       "    </tr>\n",
       "    <tr>\n",
       "      <th>3510</th>\n",
       "      <td>c4.8xlarge</td>\n",
       "    </tr>\n",
       "    <tr>\n",
       "      <th>3493</th>\n",
       "      <td>i3.4xlarge</td>\n",
       "    </tr>\n",
       "    <tr>\n",
       "      <th>3493</th>\n",
       "      <td>i3.4xlarge</td>\n",
       "    </tr>\n",
       "    <tr>\n",
       "      <th>3478</th>\n",
       "      <td>d2.4xlarge</td>\n",
       "    </tr>\n",
       "    <tr>\n",
       "      <th>3417</th>\n",
       "      <td>r3.2xlarge</td>\n",
       "    </tr>\n",
       "    <tr>\n",
       "      <th>3201</th>\n",
       "      <td>m4.large</td>\n",
       "    </tr>\n",
       "    <tr>\n",
       "      <th>3039</th>\n",
       "      <td>r4.2xlarge</td>\n",
       "    </tr>\n",
       "    <tr>\n",
       "      <th>3031</th>\n",
       "      <td>r4.4xlarge</td>\n",
       "    </tr>\n",
       "    <tr>\n",
       "      <th>3030</th>\n",
       "      <td>c4.8xlarge</td>\n",
       "    </tr>\n",
       "    <tr>\n",
       "      <th>3023</th>\n",
       "      <td>d2.4xlarge</td>\n",
       "    </tr>\n",
       "    <tr>\n",
       "      <th>3008</th>\n",
       "      <td>r3.8xlarge</td>\n",
       "    </tr>\n",
       "    <tr>\n",
       "      <th>2843</th>\n",
       "      <td>p2.8xlarge</td>\n",
       "    </tr>\n",
       "    <tr>\n",
       "      <th>2843</th>\n",
       "      <td>p2.8xlarge</td>\n",
       "    </tr>\n",
       "    <tr>\n",
       "      <th>2843</th>\n",
       "      <td>p2.8xlarge</td>\n",
       "    </tr>\n",
       "    <tr>\n",
       "      <th>2831</th>\n",
       "      <td>d2.xlarge</td>\n",
       "    </tr>\n",
       "    <tr>\n",
       "      <th>2657</th>\n",
       "      <td>c4.2xlarge</td>\n",
       "    </tr>\n",
       "    <tr>\n",
       "      <th>...</th>\n",
       "      <td>...</td>\n",
       "    </tr>\n",
       "    <tr>\n",
       "      <th>871</th>\n",
       "      <td>m3.medium</td>\n",
       "    </tr>\n",
       "    <tr>\n",
       "      <th>871</th>\n",
       "      <td>m3.medium</td>\n",
       "    </tr>\n",
       "    <tr>\n",
       "      <th>827</th>\n",
       "      <td>d2.4xlarge</td>\n",
       "    </tr>\n",
       "    <tr>\n",
       "      <th>827</th>\n",
       "      <td>d2.4xlarge</td>\n",
       "    </tr>\n",
       "    <tr>\n",
       "      <th>825</th>\n",
       "      <td>m4.2xlarge</td>\n",
       "    </tr>\n",
       "    <tr>\n",
       "      <th>785</th>\n",
       "      <td>m4.xlarge</td>\n",
       "    </tr>\n",
       "    <tr>\n",
       "      <th>760</th>\n",
       "      <td>m4.16xlarge</td>\n",
       "    </tr>\n",
       "    <tr>\n",
       "      <th>743</th>\n",
       "      <td>r4.large</td>\n",
       "    </tr>\n",
       "    <tr>\n",
       "      <th>562</th>\n",
       "      <td>m4.16xlarge</td>\n",
       "    </tr>\n",
       "    <tr>\n",
       "      <th>460</th>\n",
       "      <td>r4.2xlarge</td>\n",
       "    </tr>\n",
       "    <tr>\n",
       "      <th>459</th>\n",
       "      <td>m4.16xlarge</td>\n",
       "    </tr>\n",
       "    <tr>\n",
       "      <th>450</th>\n",
       "      <td>m2.4xlarge</td>\n",
       "    </tr>\n",
       "    <tr>\n",
       "      <th>102</th>\n",
       "      <td>i3.4xlarge</td>\n",
       "    </tr>\n",
       "    <tr>\n",
       "      <th>102</th>\n",
       "      <td>i3.4xlarge</td>\n",
       "    </tr>\n",
       "    <tr>\n",
       "      <th>28</th>\n",
       "      <td>c3.8xlarge</td>\n",
       "    </tr>\n",
       "    <tr>\n",
       "      <th>15</th>\n",
       "      <td>d2.4xlarge</td>\n",
       "    </tr>\n",
       "    <tr>\n",
       "      <th>14</th>\n",
       "      <td>r3.8xlarge</td>\n",
       "    </tr>\n",
       "    <tr>\n",
       "      <th>14</th>\n",
       "      <td>r3.8xlarge</td>\n",
       "    </tr>\n",
       "    <tr>\n",
       "      <th>13</th>\n",
       "      <td>i3.large</td>\n",
       "    </tr>\n",
       "    <tr>\n",
       "      <th>13</th>\n",
       "      <td>i3.large</td>\n",
       "    </tr>\n",
       "    <tr>\n",
       "      <th>13</th>\n",
       "      <td>i3.large</td>\n",
       "    </tr>\n",
       "    <tr>\n",
       "      <th>13</th>\n",
       "      <td>i3.large</td>\n",
       "    </tr>\n",
       "    <tr>\n",
       "      <th>12</th>\n",
       "      <td>m3.xlarge</td>\n",
       "    </tr>\n",
       "    <tr>\n",
       "      <th>10</th>\n",
       "      <td>m4.2xlarge</td>\n",
       "    </tr>\n",
       "    <tr>\n",
       "      <th>10</th>\n",
       "      <td>m4.2xlarge</td>\n",
       "    </tr>\n",
       "    <tr>\n",
       "      <th>8</th>\n",
       "      <td>c4.4xlarge</td>\n",
       "    </tr>\n",
       "    <tr>\n",
       "      <th>6</th>\n",
       "      <td>r4.2xlarge</td>\n",
       "    </tr>\n",
       "    <tr>\n",
       "      <th>3</th>\n",
       "      <td>m3.2xlarge</td>\n",
       "    </tr>\n",
       "    <tr>\n",
       "      <th>2</th>\n",
       "      <td>i2.4xlarge</td>\n",
       "    </tr>\n",
       "    <tr>\n",
       "      <th>1</th>\n",
       "      <td>r4.16xlarge</td>\n",
       "    </tr>\n",
       "  </tbody>\n",
       "</table>\n",
       "<p>94 rows × 1 columns</p>\n",
       "</div>"
      ],
      "text/plain": [
       "     Instance Type\n",
       "junk              \n",
       "3519    m4.2xlarge\n",
       "3519    m4.2xlarge\n",
       "3519    m4.2xlarge\n",
       "3519    m4.2xlarge\n",
       "3511    c4.8xlarge\n",
       "3511    c4.8xlarge\n",
       "3511    c4.8xlarge\n",
       "3511    c4.8xlarge\n",
       "3510    c4.8xlarge\n",
       "3510    c4.8xlarge\n",
       "3510    c4.8xlarge\n",
       "3510    c4.8xlarge\n",
       "3510    c4.8xlarge\n",
       "3510    c4.8xlarge\n",
       "3510    c4.8xlarge\n",
       "3493    i3.4xlarge\n",
       "3493    i3.4xlarge\n",
       "3478    d2.4xlarge\n",
       "3417    r3.2xlarge\n",
       "3201      m4.large\n",
       "3039    r4.2xlarge\n",
       "3031    r4.4xlarge\n",
       "3030    c4.8xlarge\n",
       "3023    d2.4xlarge\n",
       "3008    r3.8xlarge\n",
       "2843    p2.8xlarge\n",
       "2843    p2.8xlarge\n",
       "2843    p2.8xlarge\n",
       "2831     d2.xlarge\n",
       "2657    c4.2xlarge\n",
       "...            ...\n",
       "871      m3.medium\n",
       "871      m3.medium\n",
       "827     d2.4xlarge\n",
       "827     d2.4xlarge\n",
       "825     m4.2xlarge\n",
       "785      m4.xlarge\n",
       "760    m4.16xlarge\n",
       "743       r4.large\n",
       "562    m4.16xlarge\n",
       "460     r4.2xlarge\n",
       "459    m4.16xlarge\n",
       "450     m2.4xlarge\n",
       "102     i3.4xlarge\n",
       "102     i3.4xlarge\n",
       "28      c3.8xlarge\n",
       "15      d2.4xlarge\n",
       "14      r3.8xlarge\n",
       "14      r3.8xlarge\n",
       "13        i3.large\n",
       "13        i3.large\n",
       "13        i3.large\n",
       "13        i3.large\n",
       "12       m3.xlarge\n",
       "10      m4.2xlarge\n",
       "10      m4.2xlarge\n",
       "8       c4.4xlarge\n",
       "6       r4.2xlarge\n",
       "3       m3.2xlarge\n",
       "2       i2.4xlarge\n",
       "1      r4.16xlarge\n",
       "\n",
       "[94 rows x 1 columns]"
      ]
     },
     "execution_count": 17,
     "metadata": {},
     "output_type": "execute_result"
    }
   ],
   "source": [
    "abc"
   ]
  },
  {
   "cell_type": "code",
   "execution_count": 18,
   "metadata": {},
   "outputs": [
    {
     "data": {
      "text/plain": [
       "<bound method DataFrame.reindex of      Instance Type\n",
       "junk              \n",
       "3519    m4.2xlarge\n",
       "3519    m4.2xlarge\n",
       "3519    m4.2xlarge\n",
       "3519    m4.2xlarge\n",
       "3511    c4.8xlarge\n",
       "3511    c4.8xlarge\n",
       "3511    c4.8xlarge\n",
       "3511    c4.8xlarge\n",
       "3510    c4.8xlarge\n",
       "3510    c4.8xlarge\n",
       "3510    c4.8xlarge\n",
       "3510    c4.8xlarge\n",
       "3510    c4.8xlarge\n",
       "3510    c4.8xlarge\n",
       "3510    c4.8xlarge\n",
       "3493    i3.4xlarge\n",
       "3493    i3.4xlarge\n",
       "3478    d2.4xlarge\n",
       "3417    r3.2xlarge\n",
       "3201      m4.large\n",
       "3039    r4.2xlarge\n",
       "3031    r4.4xlarge\n",
       "3030    c4.8xlarge\n",
       "3023    d2.4xlarge\n",
       "3008    r3.8xlarge\n",
       "2843    p2.8xlarge\n",
       "2843    p2.8xlarge\n",
       "2843    p2.8xlarge\n",
       "2831     d2.xlarge\n",
       "2657    c4.2xlarge\n",
       "...            ...\n",
       "871      m3.medium\n",
       "871      m3.medium\n",
       "827     d2.4xlarge\n",
       "827     d2.4xlarge\n",
       "825     m4.2xlarge\n",
       "785      m4.xlarge\n",
       "760    m4.16xlarge\n",
       "743       r4.large\n",
       "562    m4.16xlarge\n",
       "460     r4.2xlarge\n",
       "459    m4.16xlarge\n",
       "450     m2.4xlarge\n",
       "102     i3.4xlarge\n",
       "102     i3.4xlarge\n",
       "28      c3.8xlarge\n",
       "15      d2.4xlarge\n",
       "14      r3.8xlarge\n",
       "14      r3.8xlarge\n",
       "13        i3.large\n",
       "13        i3.large\n",
       "13        i3.large\n",
       "13        i3.large\n",
       "12       m3.xlarge\n",
       "10      m4.2xlarge\n",
       "10      m4.2xlarge\n",
       "8       c4.4xlarge\n",
       "6       r4.2xlarge\n",
       "3       m3.2xlarge\n",
       "2       i2.4xlarge\n",
       "1      r4.16xlarge\n",
       "\n",
       "[94 rows x 1 columns]>"
      ]
     },
     "execution_count": 18,
     "metadata": {},
     "output_type": "execute_result"
    }
   ],
   "source": [
    "abc.reindex"
   ]
  },
  {
   "cell_type": "code",
   "execution_count": 19,
   "metadata": {},
   "outputs": [
    {
     "data": {
      "text/plain": [
       "Index(['Instance Type'], dtype='object')"
      ]
     },
     "execution_count": 19,
     "metadata": {},
     "output_type": "execute_result"
    }
   ],
   "source": [
    "abc.columns"
   ]
  },
  {
   "cell_type": "code",
   "execution_count": 20,
   "metadata": {},
   "outputs": [],
   "source": [
    "newb = abc.reset_index() #added the synthetic index"
   ]
  },
  {
   "cell_type": "code",
   "execution_count": 21,
   "metadata": {},
   "outputs": [
    {
     "data": {
      "text/plain": [
       "Index(['junk', 'Instance Type'], dtype='object')"
      ]
     },
     "execution_count": 21,
     "metadata": {},
     "output_type": "execute_result"
    }
   ],
   "source": [
    "newb.columns"
   ]
  },
  {
   "cell_type": "code",
   "execution_count": 22,
   "metadata": {
    "collapsed": true
   },
   "outputs": [],
   "source": [
    "big = newb.junk.max()"
   ]
  },
  {
   "cell_type": "code",
   "execution_count": 23,
   "metadata": {},
   "outputs": [
    {
     "data": {
      "text/plain": [
       "3519"
      ]
     },
     "execution_count": 23,
     "metadata": {},
     "output_type": "execute_result"
    }
   ],
   "source": [
    "big"
   ]
  },
  {
   "cell_type": "code",
   "execution_count": 24,
   "metadata": {},
   "outputs": [
    {
     "data": {
      "text/html": [
       "<div>\n",
       "<table border=\"1\" class=\"dataframe\">\n",
       "  <thead>\n",
       "    <tr style=\"text-align: right;\">\n",
       "      <th></th>\n",
       "      <th>Instance Type</th>\n",
       "    </tr>\n",
       "    <tr>\n",
       "      <th>junk</th>\n",
       "      <th></th>\n",
       "    </tr>\n",
       "  </thead>\n",
       "  <tbody>\n",
       "    <tr>\n",
       "      <th>3519</th>\n",
       "      <td>m4.2xlarge</td>\n",
       "    </tr>\n",
       "    <tr>\n",
       "      <th>3519</th>\n",
       "      <td>m4.2xlarge</td>\n",
       "    </tr>\n",
       "    <tr>\n",
       "      <th>3519</th>\n",
       "      <td>m4.2xlarge</td>\n",
       "    </tr>\n",
       "    <tr>\n",
       "      <th>3519</th>\n",
       "      <td>m4.2xlarge</td>\n",
       "    </tr>\n",
       "  </tbody>\n",
       "</table>\n",
       "</div>"
      ],
      "text/plain": [
       "     Instance Type\n",
       "junk              \n",
       "3519    m4.2xlarge\n",
       "3519    m4.2xlarge\n",
       "3519    m4.2xlarge\n",
       "3519    m4.2xlarge"
      ]
     },
     "execution_count": 24,
     "metadata": {},
     "output_type": "execute_result"
    }
   ],
   "source": [
    "abc.loc[big]"
   ]
  },
  {
   "cell_type": "code",
   "execution_count": 25,
   "metadata": {
    "scrolled": true
   },
   "outputs": [
    {
     "data": {
      "text/html": [
       "<div>\n",
       "<table border=\"1\" class=\"dataframe\">\n",
       "  <thead>\n",
       "    <tr style=\"text-align: right;\">\n",
       "      <th></th>\n",
       "      <th>c4.2xlarge</th>\n",
       "      <th>c4.4xlarge</th>\n",
       "      <th>c4.xlarge</th>\n",
       "      <th>c4.8xlarge</th>\n",
       "      <th>m4.2xlarge</th>\n",
       "      <th>m4.xlarge</th>\n",
       "      <th>m4.10xlarge</th>\n",
       "      <th>m4.4xlarge</th>\n",
       "      <th>i3.xlarge</th>\n",
       "      <th>i3.8xlarge</th>\n",
       "      <th>...</th>\n",
       "      <th>x1</th>\n",
       "      <th>r3</th>\n",
       "      <th>i2</th>\n",
       "      <th>c3</th>\n",
       "      <th>m3</th>\n",
       "      <th>g2</th>\n",
       "      <th>g3</th>\n",
       "      <th>p2</th>\n",
       "      <th>cc1.4xlarge</th>\n",
       "      <th>f1</th>\n",
       "    </tr>\n",
       "  </thead>\n",
       "  <tbody>\n",
       "    <tr>\n",
       "      <th>junk</th>\n",
       "      <td>3519</td>\n",
       "      <td>3519</td>\n",
       "      <td>3519</td>\n",
       "      <td>3519</td>\n",
       "      <td>3511</td>\n",
       "      <td>3511</td>\n",
       "      <td>3511</td>\n",
       "      <td>3511</td>\n",
       "      <td>3510</td>\n",
       "      <td>3510</td>\n",
       "      <td>...</td>\n",
       "      <td>13</td>\n",
       "      <td>13</td>\n",
       "      <td>12</td>\n",
       "      <td>10</td>\n",
       "      <td>10</td>\n",
       "      <td>8</td>\n",
       "      <td>6</td>\n",
       "      <td>3</td>\n",
       "      <td>2</td>\n",
       "      <td>1</td>\n",
       "    </tr>\n",
       "  </tbody>\n",
       "</table>\n",
       "<p>1 rows × 94 columns</p>\n",
       "</div>"
      ],
      "text/plain": [
       "      c4.2xlarge  c4.4xlarge  c4.xlarge  c4.8xlarge  m4.2xlarge  m4.xlarge  \\\n",
       "junk        3519        3519       3519        3519        3511       3511   \n",
       "\n",
       "      m4.10xlarge  m4.4xlarge  i3.xlarge  i3.8xlarge ...  x1  r3  i2  c3  m3  \\\n",
       "junk         3511        3511       3510        3510 ...  13  13  12  10  10   \n",
       "\n",
       "      g2  g3  p2  cc1.4xlarge  f1  \n",
       "junk   8   6   3            2   1  \n",
       "\n",
       "[1 rows x 94 columns]"
      ]
     },
     "execution_count": 25,
     "metadata": {},
     "output_type": "execute_result"
    }
   ],
   "source": [
    "pandas.DataFrame([sel])"
   ]
  },
  {
   "cell_type": "code",
   "execution_count": 26,
   "metadata": {
    "collapsed": true
   },
   "outputs": [],
   "source": [
    "mf = sel.to_frame()"
   ]
  },
  {
   "cell_type": "code",
   "execution_count": 27,
   "metadata": {},
   "outputs": [
    {
     "data": {
      "text/html": [
       "<div>\n",
       "<table border=\"1\" class=\"dataframe\">\n",
       "  <thead>\n",
       "    <tr style=\"text-align: right;\">\n",
       "      <th></th>\n",
       "      <th>junk</th>\n",
       "    </tr>\n",
       "  </thead>\n",
       "  <tbody>\n",
       "    <tr>\n",
       "      <th>c4.2xlarge</th>\n",
       "      <td>3519</td>\n",
       "    </tr>\n",
       "    <tr>\n",
       "      <th>c4.4xlarge</th>\n",
       "      <td>3519</td>\n",
       "    </tr>\n",
       "    <tr>\n",
       "      <th>c4.xlarge</th>\n",
       "      <td>3519</td>\n",
       "    </tr>\n",
       "    <tr>\n",
       "      <th>c4.8xlarge</th>\n",
       "      <td>3519</td>\n",
       "    </tr>\n",
       "    <tr>\n",
       "      <th>m4.2xlarge</th>\n",
       "      <td>3511</td>\n",
       "    </tr>\n",
       "    <tr>\n",
       "      <th>m4.xlarge</th>\n",
       "      <td>3511</td>\n",
       "    </tr>\n",
       "    <tr>\n",
       "      <th>m4.10xlarge</th>\n",
       "      <td>3511</td>\n",
       "    </tr>\n",
       "    <tr>\n",
       "      <th>m4.4xlarge</th>\n",
       "      <td>3511</td>\n",
       "    </tr>\n",
       "    <tr>\n",
       "      <th>i3.xlarge</th>\n",
       "      <td>3510</td>\n",
       "    </tr>\n",
       "    <tr>\n",
       "      <th>i3.8xlarge</th>\n",
       "      <td>3510</td>\n",
       "    </tr>\n",
       "    <tr>\n",
       "      <th>i3.4xlarge</th>\n",
       "      <td>3510</td>\n",
       "    </tr>\n",
       "    <tr>\n",
       "      <th>i3.16xlarge</th>\n",
       "      <td>3510</td>\n",
       "    </tr>\n",
       "    <tr>\n",
       "      <th>r4.2xlarge</th>\n",
       "      <td>3510</td>\n",
       "    </tr>\n",
       "    <tr>\n",
       "      <th>r4.xlarge</th>\n",
       "      <td>3510</td>\n",
       "    </tr>\n",
       "    <tr>\n",
       "      <th>i3.2xlarge</th>\n",
       "      <td>3510</td>\n",
       "    </tr>\n",
       "    <tr>\n",
       "      <th>r4.16xlarge</th>\n",
       "      <td>3493</td>\n",
       "    </tr>\n",
       "    <tr>\n",
       "      <th>r4.4xlarge</th>\n",
       "      <td>3493</td>\n",
       "    </tr>\n",
       "    <tr>\n",
       "      <th>r4.8xlarge</th>\n",
       "      <td>3478</td>\n",
       "    </tr>\n",
       "    <tr>\n",
       "      <th>m4.16xlarge</th>\n",
       "      <td>3417</td>\n",
       "    </tr>\n",
       "    <tr>\n",
       "      <th>x1.16xlarge</th>\n",
       "      <td>3201</td>\n",
       "    </tr>\n",
       "    <tr>\n",
       "      <th>c4.large</th>\n",
       "      <td>3039</td>\n",
       "    </tr>\n",
       "    <tr>\n",
       "      <th>m4.large</th>\n",
       "      <td>3031</td>\n",
       "    </tr>\n",
       "    <tr>\n",
       "      <th>i3.large</th>\n",
       "      <td>3030</td>\n",
       "    </tr>\n",
       "    <tr>\n",
       "      <th>r4.large</th>\n",
       "      <td>3023</td>\n",
       "    </tr>\n",
       "    <tr>\n",
       "      <th>x1.32xlarge</th>\n",
       "      <td>3008</td>\n",
       "    </tr>\n",
       "    <tr>\n",
       "      <th>r3.2xlarge</th>\n",
       "      <td>2843</td>\n",
       "    </tr>\n",
       "    <tr>\n",
       "      <th>r3.4xlarge</th>\n",
       "      <td>2843</td>\n",
       "    </tr>\n",
       "    <tr>\n",
       "      <th>r3.xlarge</th>\n",
       "      <td>2843</td>\n",
       "    </tr>\n",
       "    <tr>\n",
       "      <th>r3.8xlarge</th>\n",
       "      <td>2831</td>\n",
       "    </tr>\n",
       "    <tr>\n",
       "      <th>i2.2xlarge</th>\n",
       "      <td>2657</td>\n",
       "    </tr>\n",
       "    <tr>\n",
       "      <th>...</th>\n",
       "      <td>...</td>\n",
       "    </tr>\n",
       "    <tr>\n",
       "      <th>p2.16xlarge</th>\n",
       "      <td>871</td>\n",
       "    </tr>\n",
       "    <tr>\n",
       "      <th>p2.8xlarge</th>\n",
       "      <td>871</td>\n",
       "    </tr>\n",
       "    <tr>\n",
       "      <th>g3.16xlarge</th>\n",
       "      <td>827</td>\n",
       "    </tr>\n",
       "    <tr>\n",
       "      <th>g3.4xlarge</th>\n",
       "      <td>827</td>\n",
       "    </tr>\n",
       "    <tr>\n",
       "      <th>g3.8xlarge</th>\n",
       "      <td>825</td>\n",
       "    </tr>\n",
       "    <tr>\n",
       "      <th>hs1.8xlarge</th>\n",
       "      <td>785</td>\n",
       "    </tr>\n",
       "    <tr>\n",
       "      <th>p2.xlarge</th>\n",
       "      <td>760</td>\n",
       "    </tr>\n",
       "    <tr>\n",
       "      <th>t2.nano</th>\n",
       "      <td>743</td>\n",
       "    </tr>\n",
       "    <tr>\n",
       "      <th>cc2.8xlarge</th>\n",
       "      <td>562</td>\n",
       "    </tr>\n",
       "    <tr>\n",
       "      <th>hi1.4xlarge</th>\n",
       "      <td>460</td>\n",
       "    </tr>\n",
       "    <tr>\n",
       "      <th>t1.micro</th>\n",
       "      <td>459</td>\n",
       "    </tr>\n",
       "    <tr>\n",
       "      <th>cr1.8xlarge</th>\n",
       "      <td>450</td>\n",
       "    </tr>\n",
       "    <tr>\n",
       "      <th>f1.16xlarge</th>\n",
       "      <td>102</td>\n",
       "    </tr>\n",
       "    <tr>\n",
       "      <th>f1.2xlarge</th>\n",
       "      <td>102</td>\n",
       "    </tr>\n",
       "    <tr>\n",
       "      <th>cg1.4xlarge</th>\n",
       "      <td>28</td>\n",
       "    </tr>\n",
       "    <tr>\n",
       "      <th>i3</th>\n",
       "      <td>15</td>\n",
       "    </tr>\n",
       "    <tr>\n",
       "      <th>m4</th>\n",
       "      <td>14</td>\n",
       "    </tr>\n",
       "    <tr>\n",
       "      <th>c4</th>\n",
       "      <td>14</td>\n",
       "    </tr>\n",
       "    <tr>\n",
       "      <th>r4</th>\n",
       "      <td>13</td>\n",
       "    </tr>\n",
       "    <tr>\n",
       "      <th>d2</th>\n",
       "      <td>13</td>\n",
       "    </tr>\n",
       "    <tr>\n",
       "      <th>x1</th>\n",
       "      <td>13</td>\n",
       "    </tr>\n",
       "    <tr>\n",
       "      <th>r3</th>\n",
       "      <td>13</td>\n",
       "    </tr>\n",
       "    <tr>\n",
       "      <th>i2</th>\n",
       "      <td>12</td>\n",
       "    </tr>\n",
       "    <tr>\n",
       "      <th>c3</th>\n",
       "      <td>10</td>\n",
       "    </tr>\n",
       "    <tr>\n",
       "      <th>m3</th>\n",
       "      <td>10</td>\n",
       "    </tr>\n",
       "    <tr>\n",
       "      <th>g2</th>\n",
       "      <td>8</td>\n",
       "    </tr>\n",
       "    <tr>\n",
       "      <th>g3</th>\n",
       "      <td>6</td>\n",
       "    </tr>\n",
       "    <tr>\n",
       "      <th>p2</th>\n",
       "      <td>3</td>\n",
       "    </tr>\n",
       "    <tr>\n",
       "      <th>cc1.4xlarge</th>\n",
       "      <td>2</td>\n",
       "    </tr>\n",
       "    <tr>\n",
       "      <th>f1</th>\n",
       "      <td>1</td>\n",
       "    </tr>\n",
       "  </tbody>\n",
       "</table>\n",
       "<p>94 rows × 1 columns</p>\n",
       "</div>"
      ],
      "text/plain": [
       "             junk\n",
       "c4.2xlarge   3519\n",
       "c4.4xlarge   3519\n",
       "c4.xlarge    3519\n",
       "c4.8xlarge   3519\n",
       "m4.2xlarge   3511\n",
       "m4.xlarge    3511\n",
       "m4.10xlarge  3511\n",
       "m4.4xlarge   3511\n",
       "i3.xlarge    3510\n",
       "i3.8xlarge   3510\n",
       "i3.4xlarge   3510\n",
       "i3.16xlarge  3510\n",
       "r4.2xlarge   3510\n",
       "r4.xlarge    3510\n",
       "i3.2xlarge   3510\n",
       "r4.16xlarge  3493\n",
       "r4.4xlarge   3493\n",
       "r4.8xlarge   3478\n",
       "m4.16xlarge  3417\n",
       "x1.16xlarge  3201\n",
       "c4.large     3039\n",
       "m4.large     3031\n",
       "i3.large     3030\n",
       "r4.large     3023\n",
       "x1.32xlarge  3008\n",
       "r3.2xlarge   2843\n",
       "r3.4xlarge   2843\n",
       "r3.xlarge    2843\n",
       "r3.8xlarge   2831\n",
       "i2.2xlarge   2657\n",
       "...           ...\n",
       "p2.16xlarge   871\n",
       "p2.8xlarge    871\n",
       "g3.16xlarge   827\n",
       "g3.4xlarge    827\n",
       "g3.8xlarge    825\n",
       "hs1.8xlarge   785\n",
       "p2.xlarge     760\n",
       "t2.nano       743\n",
       "cc2.8xlarge   562\n",
       "hi1.4xlarge   460\n",
       "t1.micro      459\n",
       "cr1.8xlarge   450\n",
       "f1.16xlarge   102\n",
       "f1.2xlarge    102\n",
       "cg1.4xlarge    28\n",
       "i3             15\n",
       "m4             14\n",
       "c4             14\n",
       "r4             13\n",
       "d2             13\n",
       "x1             13\n",
       "r3             13\n",
       "i2             12\n",
       "c3             10\n",
       "m3             10\n",
       "g2              8\n",
       "g3              6\n",
       "p2              3\n",
       "cc1.4xlarge     2\n",
       "f1              1\n",
       "\n",
       "[94 rows x 1 columns]"
      ]
     },
     "execution_count": 27,
     "metadata": {},
     "output_type": "execute_result"
    }
   ],
   "source": [
    "mf"
   ]
  },
  {
   "cell_type": "code",
   "execution_count": 28,
   "metadata": {},
   "outputs": [
    {
     "data": {
      "text/plain": [
       "0    c4.2xlarge\n",
       "1    c4.4xlarge\n",
       "2    c4.8xlarge\n",
       "3     c4.xlarge\n",
       "dtype: object"
      ]
     },
     "execution_count": 28,
     "metadata": {},
     "output_type": "execute_result"
    }
   ],
   "source": [
    "slice.mode()"
   ]
  },
  {
   "cell_type": "code",
   "execution_count": 29,
   "metadata": {},
   "outputs": [
    {
     "data": {
      "text/plain": [
       "8.0      31302\n",
       "4.0      30450\n",
       "16.0     25248\n",
       "2.0      23911\n",
       "32.0     18473\n",
       "64.0     15459\n",
       "1.0       7704\n",
       "36.0      5741\n",
       "40.0      3525\n",
       "128.0     3020\n",
       "17.0       785\n",
       "Name: vCPU, dtype: int64"
      ]
     },
     "execution_count": 29,
     "metadata": {},
     "output_type": "execute_result"
    }
   ],
   "source": [
    "subset['vCPU'].value_counts()"
   ]
  },
  {
   "cell_type": "code",
   "execution_count": 30,
   "metadata": {
    "collapsed": true
   },
   "outputs": [],
   "source": [
    "%matplotlib inline"
   ]
  },
  {
   "cell_type": "code",
   "execution_count": 31,
   "metadata": {},
   "outputs": [],
   "source": [
    "newO = subset['vCPU'].value_counts()"
   ]
  },
  {
   "cell_type": "code",
   "execution_count": 32,
   "metadata": {},
   "outputs": [
    {
     "data": {
      "text/plain": [
       "pandas.core.series.Series"
      ]
     },
     "execution_count": 32,
     "metadata": {},
     "output_type": "execute_result"
    }
   ],
   "source": [
    "type(newO)"
   ]
  },
  {
   "cell_type": "code",
   "execution_count": 33,
   "metadata": {},
   "outputs": [
    {
     "data": {
      "text/plain": [
       "<matplotlib.axes._subplots.AxesSubplot at 0x7fe28c4ee240>"
      ]
     },
     "execution_count": 33,
     "metadata": {},
     "output_type": "execute_result"
    },
    {
     "data": {
      "image/png": "[encoded data removed]",
      "text/plain": [
       "<matplotlib.figure.Figure at 0x7fe28c55c780>"
      ]
     },
     "metadata": {},
     "output_type": "display_data"
    }
   ],
   "source": [
    "newO.plot(kind='bar')"
   ]
  },
  {
   "cell_type": "code",
   "execution_count": 34,
   "metadata": {},
   "outputs": [
    {
     "data": {
      "text/plain": [
       "<bound method Series.sort of 8.0      31302\n",
       "4.0      30450\n",
       "16.0     25248\n",
       "2.0      23911\n",
       "32.0     18473\n",
       "64.0     15459\n",
       "1.0       7704\n",
       "36.0      5741\n",
       "40.0      3525\n",
       "128.0     3020\n",
       "17.0       785\n",
       "Name: vCPU, dtype: int64>"
      ]
     },
     "execution_count": 34,
     "metadata": {},
     "output_type": "execute_result"
    }
   ],
   "source": [
    "newO.sort"
   ]
  },
  {
   "cell_type": "raw",
   "metadata": {},
   "source": [
    "newO.order # does nothing"
   ]
  },
  {
   "cell_type": "code",
   "execution_count": 35,
   "metadata": {},
   "outputs": [
    {
     "data": {
      "text/plain": [
       "8.0      31302\n",
       "4.0      30450\n",
       "16.0     25248\n",
       "2.0      23911\n",
       "32.0     18473\n",
       "64.0     15459\n",
       "1.0       7704\n",
       "36.0      5741\n",
       "40.0      3525\n",
       "128.0     3020\n",
       "17.0       785\n",
       "Name: vCPU, dtype: int64"
      ]
     },
     "execution_count": 35,
     "metadata": {},
     "output_type": "execute_result"
    }
   ],
   "source": [
    "newO"
   ]
  },
  {
   "cell_type": "code",
   "execution_count": 36,
   "metadata": {},
   "outputs": [
    {
     "data": {
      "text/plain": [
       "<bound method Series.sort_index of 8.0      31302\n",
       "4.0      30450\n",
       "16.0     25248\n",
       "2.0      23911\n",
       "32.0     18473\n",
       "64.0     15459\n",
       "1.0       7704\n",
       "36.0      5741\n",
       "40.0      3525\n",
       "128.0     3020\n",
       "17.0       785\n",
       "Name: vCPU, dtype: int64>"
      ]
     },
     "execution_count": 36,
     "metadata": {},
     "output_type": "execute_result"
    }
   ],
   "source": [
    "newO.sort_index"
   ]
  },
  {
   "cell_type": "code",
   "execution_count": 37,
   "metadata": {},
   "outputs": [
    {
     "data": {
      "text/plain": [
       "8.0      31302\n",
       "4.0      30450\n",
       "16.0     25248\n",
       "2.0      23911\n",
       "32.0     18473\n",
       "64.0     15459\n",
       "1.0       7704\n",
       "36.0      5741\n",
       "40.0      3525\n",
       "128.0     3020\n",
       "17.0       785\n",
       "Name: vCPU, dtype: int64"
      ]
     },
     "execution_count": 37,
     "metadata": {},
     "output_type": "execute_result"
    }
   ],
   "source": [
    "newO"
   ]
  },
  {
   "cell_type": "code",
   "execution_count": 38,
   "metadata": {
    "collapsed": true
   },
   "outputs": [],
   "source": [
    "newO.index.name ='NumCPU'"
   ]
  },
  {
   "cell_type": "code",
   "execution_count": null,
   "metadata": {
    "collapsed": true
   },
   "outputs": [],
   "source": []
  },
  {
   "cell_type": "code",
   "execution_count": 39,
   "metadata": {},
   "outputs": [],
   "source": [
    "cher = newO.reset_index()"
   ]
  },
  {
   "cell_type": "code",
   "execution_count": 40,
   "metadata": {},
   "outputs": [
    {
     "data": {
      "text/html": [
       "<div>\n",
       "<table border=\"1\" class=\"dataframe\">\n",
       "  <thead>\n",
       "    <tr style=\"text-align: right;\">\n",
       "      <th></th>\n",
       "      <th>NumCPU</th>\n",
       "      <th>vCPU</th>\n",
       "    </tr>\n",
       "  </thead>\n",
       "  <tbody>\n",
       "    <tr>\n",
       "      <th>0</th>\n",
       "      <td>8.0</td>\n",
       "      <td>31302</td>\n",
       "    </tr>\n",
       "    <tr>\n",
       "      <th>1</th>\n",
       "      <td>4.0</td>\n",
       "      <td>30450</td>\n",
       "    </tr>\n",
       "    <tr>\n",
       "      <th>2</th>\n",
       "      <td>16.0</td>\n",
       "      <td>25248</td>\n",
       "    </tr>\n",
       "    <tr>\n",
       "      <th>3</th>\n",
       "      <td>2.0</td>\n",
       "      <td>23911</td>\n",
       "    </tr>\n",
       "    <tr>\n",
       "      <th>4</th>\n",
       "      <td>32.0</td>\n",
       "      <td>18473</td>\n",
       "    </tr>\n",
       "    <tr>\n",
       "      <th>5</th>\n",
       "      <td>64.0</td>\n",
       "      <td>15459</td>\n",
       "    </tr>\n",
       "    <tr>\n",
       "      <th>6</th>\n",
       "      <td>1.0</td>\n",
       "      <td>7704</td>\n",
       "    </tr>\n",
       "    <tr>\n",
       "      <th>7</th>\n",
       "      <td>36.0</td>\n",
       "      <td>5741</td>\n",
       "    </tr>\n",
       "    <tr>\n",
       "      <th>8</th>\n",
       "      <td>40.0</td>\n",
       "      <td>3525</td>\n",
       "    </tr>\n",
       "    <tr>\n",
       "      <th>9</th>\n",
       "      <td>128.0</td>\n",
       "      <td>3020</td>\n",
       "    </tr>\n",
       "    <tr>\n",
       "      <th>10</th>\n",
       "      <td>17.0</td>\n",
       "      <td>785</td>\n",
       "    </tr>\n",
       "  </tbody>\n",
       "</table>\n",
       "</div>"
      ],
      "text/plain": [
       "    NumCPU   vCPU\n",
       "0      8.0  31302\n",
       "1      4.0  30450\n",
       "2     16.0  25248\n",
       "3      2.0  23911\n",
       "4     32.0  18473\n",
       "5     64.0  15459\n",
       "6      1.0   7704\n",
       "7     36.0   5741\n",
       "8     40.0   3525\n",
       "9    128.0   3020\n",
       "10    17.0    785"
      ]
     },
     "execution_count": 40,
     "metadata": {},
     "output_type": "execute_result"
    }
   ],
   "source": [
    "cher"
   ]
  },
  {
   "cell_type": "code",
   "execution_count": 41,
   "metadata": {},
   "outputs": [],
   "source": [
    "cher.set_index('vCPU',inplace=True)"
   ]
  },
  {
   "cell_type": "code",
   "execution_count": 42,
   "metadata": {},
   "outputs": [
    {
     "data": {
      "text/html": [
       "<div>\n",
       "<table border=\"1\" class=\"dataframe\">\n",
       "  <thead>\n",
       "    <tr style=\"text-align: right;\">\n",
       "      <th></th>\n",
       "      <th>NumCPU</th>\n",
       "    </tr>\n",
       "    <tr>\n",
       "      <th>vCPU</th>\n",
       "      <th></th>\n",
       "    </tr>\n",
       "  </thead>\n",
       "  <tbody>\n",
       "    <tr>\n",
       "      <th>31302</th>\n",
       "      <td>8.0</td>\n",
       "    </tr>\n",
       "    <tr>\n",
       "      <th>30450</th>\n",
       "      <td>4.0</td>\n",
       "    </tr>\n",
       "    <tr>\n",
       "      <th>25248</th>\n",
       "      <td>16.0</td>\n",
       "    </tr>\n",
       "    <tr>\n",
       "      <th>23911</th>\n",
       "      <td>2.0</td>\n",
       "    </tr>\n",
       "    <tr>\n",
       "      <th>18473</th>\n",
       "      <td>32.0</td>\n",
       "    </tr>\n",
       "    <tr>\n",
       "      <th>15459</th>\n",
       "      <td>64.0</td>\n",
       "    </tr>\n",
       "    <tr>\n",
       "      <th>7704</th>\n",
       "      <td>1.0</td>\n",
       "    </tr>\n",
       "    <tr>\n",
       "      <th>5741</th>\n",
       "      <td>36.0</td>\n",
       "    </tr>\n",
       "    <tr>\n",
       "      <th>3525</th>\n",
       "      <td>40.0</td>\n",
       "    </tr>\n",
       "    <tr>\n",
       "      <th>3020</th>\n",
       "      <td>128.0</td>\n",
       "    </tr>\n",
       "    <tr>\n",
       "      <th>785</th>\n",
       "      <td>17.0</td>\n",
       "    </tr>\n",
       "  </tbody>\n",
       "</table>\n",
       "</div>"
      ],
      "text/plain": [
       "       NumCPU\n",
       "vCPU         \n",
       "31302     8.0\n",
       "30450     4.0\n",
       "25248    16.0\n",
       "23911     2.0\n",
       "18473    32.0\n",
       "15459    64.0\n",
       "7704      1.0\n",
       "5741     36.0\n",
       "3525     40.0\n",
       "3020    128.0\n",
       "785      17.0"
      ]
     },
     "execution_count": 42,
     "metadata": {},
     "output_type": "execute_result"
    }
   ],
   "source": [
    "cher"
   ]
  },
  {
   "cell_type": "code",
   "execution_count": 43,
   "metadata": {},
   "outputs": [
    {
     "data": {
      "text/plain": [
       "<matplotlib.axes._subplots.AxesSubplot at 0x7fe28b925550>"
      ]
     },
     "execution_count": 43,
     "metadata": {},
     "output_type": "execute_result"
    },
    {
     "data": {
      "image/png": "[encoded data removed]",
      "text/plain": [
       "<matplotlib.figure.Figure at 0x7fe28b8f4860>"
      ]
     },
     "metadata": {},
     "output_type": "display_data"
    }
   ],
   "source": [
    "cher.plot(kind='bar')"
   ]
  },
  {
   "cell_type": "code",
   "execution_count": null,
   "metadata": {
    "collapsed": true
   },
   "outputs": [],
   "source": []
  },
  {
   "cell_type": "code",
   "execution_count": 44,
   "metadata": {},
   "outputs": [
    {
     "data": {
      "text/plain": [
       "NumCPU\n",
       "17.0       785\n",
       "128.0     3020\n",
       "40.0      3525\n",
       "36.0      5741\n",
       "1.0       7704\n",
       "64.0     15459\n",
       "32.0     18473\n",
       "2.0      23911\n",
       "16.0     25248\n",
       "4.0      30450\n",
       "8.0      31302\n",
       "Name: vCPU, dtype: int64"
      ]
     },
     "execution_count": 44,
     "metadata": {},
     "output_type": "execute_result"
    }
   ],
   "source": [
    "newO.sort_values()"
   ]
  },
  {
   "cell_type": "raw",
   "metadata": {},
   "source": [
    "cher"
   ]
  },
  {
   "cell_type": "code",
   "execution_count": null,
   "metadata": {
    "collapsed": true
   },
   "outputs": [],
   "source": []
  },
  {
   "cell_type": "code",
   "execution_count": 45,
   "metadata": {},
   "outputs": [],
   "source": [
    "dict=newO.to_dict()"
   ]
  },
  {
   "cell_type": "code",
   "execution_count": 46,
   "metadata": {},
   "outputs": [
    {
     "name": "stdout",
     "output_type": "stream",
     "text": [
      "1.0 7704\n",
      "2.0 23911\n",
      "4.0 30450\n",
      "8.0 31302\n",
      "16.0 25248\n",
      "17.0 785\n",
      "32.0 18473\n",
      "36.0 5741\n",
      "40.0 3525\n",
      "64.0 15459\n",
      "128.0 3020\n"
     ]
    }
   ],
   "source": [
    "dict2={}\n",
    "for key, value in sorted(dict.items()):\n",
    "    print (key, value)\n",
    "    dict2[key]=value"
   ]
  },
  {
   "cell_type": "code",
   "execution_count": 47,
   "metadata": {},
   "outputs": [
    {
     "data": {
      "text/plain": [
       "{1.0: 7704,\n",
       " 2.0: 23911,\n",
       " 4.0: 30450,\n",
       " 8.0: 31302,\n",
       " 16.0: 25248,\n",
       " 17.0: 785,\n",
       " 32.0: 18473,\n",
       " 36.0: 5741,\n",
       " 40.0: 3525,\n",
       " 64.0: 15459,\n",
       " 128.0: 3020}"
      ]
     },
     "execution_count": 47,
     "metadata": {},
     "output_type": "execute_result"
    }
   ],
   "source": [
    "dict2"
   ]
  },
  {
   "cell_type": "code",
   "execution_count": null,
   "metadata": {
    "collapsed": true
   },
   "outputs": [],
   "source": []
  },
  {
   "cell_type": "code",
   "execution_count": 48,
   "metadata": {},
   "outputs": [],
   "source": [
    "labels = ['n','y']\n",
    "df2=pandas.DataFrame.from_dict(dict2,orient='index', dtype=None)"
   ]
  },
  {
   "cell_type": "code",
   "execution_count": 49,
   "metadata": {},
   "outputs": [
    {
     "data": {
      "text/html": [
       "<div>\n",
       "<table border=\"1\" class=\"dataframe\">\n",
       "  <thead>\n",
       "    <tr style=\"text-align: right;\">\n",
       "      <th></th>\n",
       "      <th>0</th>\n",
       "    </tr>\n",
       "  </thead>\n",
       "  <tbody>\n",
       "    <tr>\n",
       "      <th>16.0</th>\n",
       "      <td>25248</td>\n",
       "    </tr>\n",
       "    <tr>\n",
       "      <th>1.0</th>\n",
       "      <td>7704</td>\n",
       "    </tr>\n",
       "    <tr>\n",
       "      <th>2.0</th>\n",
       "      <td>23911</td>\n",
       "    </tr>\n",
       "    <tr>\n",
       "      <th>128.0</th>\n",
       "      <td>3020</td>\n",
       "    </tr>\n",
       "    <tr>\n",
       "      <th>4.0</th>\n",
       "      <td>30450</td>\n",
       "    </tr>\n",
       "    <tr>\n",
       "      <th>32.0</th>\n",
       "      <td>18473</td>\n",
       "    </tr>\n",
       "    <tr>\n",
       "      <th>17.0</th>\n",
       "      <td>785</td>\n",
       "    </tr>\n",
       "    <tr>\n",
       "      <th>8.0</th>\n",
       "      <td>31302</td>\n",
       "    </tr>\n",
       "    <tr>\n",
       "      <th>36.0</th>\n",
       "      <td>5741</td>\n",
       "    </tr>\n",
       "    <tr>\n",
       "      <th>40.0</th>\n",
       "      <td>3525</td>\n",
       "    </tr>\n",
       "    <tr>\n",
       "      <th>64.0</th>\n",
       "      <td>15459</td>\n",
       "    </tr>\n",
       "  </tbody>\n",
       "</table>\n",
       "</div>"
      ],
      "text/plain": [
       "           0\n",
       "16.0   25248\n",
       "1.0     7704\n",
       "2.0    23911\n",
       "128.0   3020\n",
       "4.0    30450\n",
       "32.0   18473\n",
       "17.0     785\n",
       "8.0    31302\n",
       "36.0    5741\n",
       "40.0    3525\n",
       "64.0   15459"
      ]
     },
     "execution_count": 49,
     "metadata": {},
     "output_type": "execute_result"
    }
   ],
   "source": [
    "df2"
   ]
  },
  {
   "cell_type": "code",
   "execution_count": 50,
   "metadata": {},
   "outputs": [
    {
     "data": {
      "text/html": [
       "<div>\n",
       "<table border=\"1\" class=\"dataframe\">\n",
       "  <thead>\n",
       "    <tr style=\"text-align: right;\">\n",
       "      <th></th>\n",
       "      <th>index</th>\n",
       "      <th>0</th>\n",
       "    </tr>\n",
       "  </thead>\n",
       "  <tbody>\n",
       "    <tr>\n",
       "      <th>0</th>\n",
       "      <td>16.0</td>\n",
       "      <td>25248</td>\n",
       "    </tr>\n",
       "    <tr>\n",
       "      <th>1</th>\n",
       "      <td>1.0</td>\n",
       "      <td>7704</td>\n",
       "    </tr>\n",
       "    <tr>\n",
       "      <th>2</th>\n",
       "      <td>2.0</td>\n",
       "      <td>23911</td>\n",
       "    </tr>\n",
       "    <tr>\n",
       "      <th>3</th>\n",
       "      <td>128.0</td>\n",
       "      <td>3020</td>\n",
       "    </tr>\n",
       "    <tr>\n",
       "      <th>4</th>\n",
       "      <td>4.0</td>\n",
       "      <td>30450</td>\n",
       "    </tr>\n",
       "    <tr>\n",
       "      <th>5</th>\n",
       "      <td>32.0</td>\n",
       "      <td>18473</td>\n",
       "    </tr>\n",
       "    <tr>\n",
       "      <th>6</th>\n",
       "      <td>17.0</td>\n",
       "      <td>785</td>\n",
       "    </tr>\n",
       "    <tr>\n",
       "      <th>7</th>\n",
       "      <td>8.0</td>\n",
       "      <td>31302</td>\n",
       "    </tr>\n",
       "    <tr>\n",
       "      <th>8</th>\n",
       "      <td>36.0</td>\n",
       "      <td>5741</td>\n",
       "    </tr>\n",
       "    <tr>\n",
       "      <th>9</th>\n",
       "      <td>40.0</td>\n",
       "      <td>3525</td>\n",
       "    </tr>\n",
       "    <tr>\n",
       "      <th>10</th>\n",
       "      <td>64.0</td>\n",
       "      <td>15459</td>\n",
       "    </tr>\n",
       "  </tbody>\n",
       "</table>\n",
       "</div>"
      ],
      "text/plain": [
       "    index      0\n",
       "0    16.0  25248\n",
       "1     1.0   7704\n",
       "2     2.0  23911\n",
       "3   128.0   3020\n",
       "4     4.0  30450\n",
       "5    32.0  18473\n",
       "6    17.0    785\n",
       "7     8.0  31302\n",
       "8    36.0   5741\n",
       "9    40.0   3525\n",
       "10   64.0  15459"
      ]
     },
     "execution_count": 50,
     "metadata": {},
     "output_type": "execute_result"
    }
   ],
   "source": [
    "df2.reset_index()"
   ]
  },
  {
   "cell_type": "code",
   "execution_count": 51,
   "metadata": {},
   "outputs": [],
   "source": [
    "nf2 = df2.sort_index()"
   ]
  },
  {
   "cell_type": "code",
   "execution_count": 52,
   "metadata": {},
   "outputs": [
    {
     "data": {
      "text/html": [
       "<div>\n",
       "<table border=\"1\" class=\"dataframe\">\n",
       "  <thead>\n",
       "    <tr style=\"text-align: right;\">\n",
       "      <th></th>\n",
       "      <th>0</th>\n",
       "    </tr>\n",
       "  </thead>\n",
       "  <tbody>\n",
       "    <tr>\n",
       "      <th>1.0</th>\n",
       "      <td>7704</td>\n",
       "    </tr>\n",
       "    <tr>\n",
       "      <th>2.0</th>\n",
       "      <td>23911</td>\n",
       "    </tr>\n",
       "    <tr>\n",
       "      <th>4.0</th>\n",
       "      <td>30450</td>\n",
       "    </tr>\n",
       "    <tr>\n",
       "      <th>8.0</th>\n",
       "      <td>31302</td>\n",
       "    </tr>\n",
       "    <tr>\n",
       "      <th>16.0</th>\n",
       "      <td>25248</td>\n",
       "    </tr>\n",
       "    <tr>\n",
       "      <th>17.0</th>\n",
       "      <td>785</td>\n",
       "    </tr>\n",
       "    <tr>\n",
       "      <th>32.0</th>\n",
       "      <td>18473</td>\n",
       "    </tr>\n",
       "    <tr>\n",
       "      <th>36.0</th>\n",
       "      <td>5741</td>\n",
       "    </tr>\n",
       "    <tr>\n",
       "      <th>40.0</th>\n",
       "      <td>3525</td>\n",
       "    </tr>\n",
       "    <tr>\n",
       "      <th>64.0</th>\n",
       "      <td>15459</td>\n",
       "    </tr>\n",
       "    <tr>\n",
       "      <th>128.0</th>\n",
       "      <td>3020</td>\n",
       "    </tr>\n",
       "  </tbody>\n",
       "</table>\n",
       "</div>"
      ],
      "text/plain": [
       "           0\n",
       "1.0     7704\n",
       "2.0    23911\n",
       "4.0    30450\n",
       "8.0    31302\n",
       "16.0   25248\n",
       "17.0     785\n",
       "32.0   18473\n",
       "36.0    5741\n",
       "40.0    3525\n",
       "64.0   15459\n",
       "128.0   3020"
      ]
     },
     "execution_count": 52,
     "metadata": {},
     "output_type": "execute_result"
    }
   ],
   "source": [
    "nf2"
   ]
  },
  {
   "cell_type": "code",
   "execution_count": 53,
   "metadata": {},
   "outputs": [
    {
     "data": {
      "text/plain": [
       "<matplotlib.axes._subplots.AxesSubplot at 0x7fe28a275940>"
      ]
     },
     "execution_count": 53,
     "metadata": {},
     "output_type": "execute_result"
    },
    {
     "data": {
      "image/png": "[encoded data removed]",
      "text/plain": [
       "<matplotlib.figure.Figure at 0x7fe281a15c18>"
      ]
     },
     "metadata": {},
     "output_type": "display_data"
    }
   ],
   "source": [
    "nf2.plot(kind='bar')"
   ]
  },
  {
   "cell_type": "code",
   "execution_count": 54,
   "metadata": {},
   "outputs": [
    {
     "data": {
      "text/plain": [
       "<matplotlib.axes._subplots.AxesSubplot at 0x7fe2819bd400>"
      ]
     },
     "execution_count": 54,
     "metadata": {},
     "output_type": "execute_result"
    },
    {
     "data": {
      "image/png": "[encoded data removed]",
      "text/plain": [
       "<matplotlib.figure.Figure at 0x7fe28198e358>"
      ]
     },
     "metadata": {},
     "output_type": "display_data"
    }
   ],
   "source": [
    "nf2.plot(y=0, kind='pie', autopct='%1.1f%%', legend= False)"
   ]
  }
 ],
 "metadata": {
  "kernelspec": {
   "display_name": "Python 3",
   "language": "python",
   "name": "python3"
  },
  "language_info": {
   "codemirror_mode": {
    "name": "ipython",
    "version": 3
   },
   "file_extension": ".py",
   "mimetype": "text/x-python",
   "name": "python",
   "nbconvert_exporter": "python",
   "pygments_lexer": "ipython3",
   "version": "3.7.3"
  }
 },
 "nbformat": 4,
 "nbformat_minor": 1
}
