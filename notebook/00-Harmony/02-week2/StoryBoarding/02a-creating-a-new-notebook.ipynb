{
 "cells": [
  {
   "cell_type": "markdown",
   "metadata": {},
   "source": [
    "# Creating a new Notebook - the fun and learning Begins\n",
    "\n",
    "## Cross-communication\n",
    "\n",
    "> Confirmation Bias - I look at only the jupyter cells I understand or agree with - so what - deal with it!\n",
    "\n",
    "## Seek first to understand, synergise - look for win win ...  la la la .... "
   ]
  },
  {
   "cell_type": "markdown",
   "metadata": {},
   "source": [
    "# A word on trust\n",
    "\n",
    "## Please use this miniPangeo for good not evil\n",
    "\n",
    "## try not to get me in trouble\n",
    "\n",
    "# Now back to saving the planet \n",
    "- or at least some of the humans ... \n",
    "- Choate says the planet will be fine"
   ]
  },
  {
   "cell_type": "markdown",
   "metadata": {},
   "source": [
    "# Starting a brand new notebook"
   ]
  },
  {
   "cell_type": "markdown",
   "metadata": {},
   "source": [
    "# find the home tab in the browser\n",
    "\n",
    "## or cheat - new home page here\n",
    "## [mini-pangeo FUN button](http://10.12.69.233)"
   ]
  },
  {
   "cell_type": "markdown",
   "metadata": {},
   "source": [
    "- click on the opt folder opt opt opt ...\n",
    "- click your way down notebook lane all the way to 02-week\n",
    "\n",
    "## opt/notebook/00-Harmony/02-week2\n",
    "\n",
    "- find the New button - New pulldown list - (almost top)/right - \n",
    "\n",
    "new cells are python code by default\n",
    "- code by default\n",
    "- set yours to markdown - using [esc] m or the pulldown on the tool bar above"
   ]
  },
  {
   "cell_type": "markdown",
   "metadata": {},
   "source": [
    "# Idea - I could host a splinterClass on Jupyter basics ....\n",
    "- ## we could engage Nathan Roberts to teach this\n",
    "- ## or even Cory Postma etc \n",
    "- ## Any Volunteers?\n",
    "\n",
    "## People could CLEP out\n",
    "\n",
    "> **CLEP** stands for the College Level Examination Program, a program that enables students to earn college credit for introductory-level courses by achieving satisfactory scores on subject-specific tests."
   ]
  },
  {
   "cell_type": "markdown",
   "metadata": {},
   "source": [
    "# EROS has the genetics to become a world class data center!\n",
    "\n",
    "![](https://pubs.usgs.gov/circ/c1050/logo2.jpg)"
   ]
  },
  {
   "cell_type": "code",
   "execution_count": null,
   "metadata": {},
   "outputs": [],
   "source": []
  }
 ],
 "metadata": {
  "kernelspec": {
   "display_name": "Python 3",
   "language": "python",
   "name": "python3"
  },
  "language_info": {
   "codemirror_mode": {
    "name": "ipython",
    "version": 3
   },
   "file_extension": ".py",
   "mimetype": "text/x-python",
   "name": "python",
   "nbconvert_exporter": "python",
   "pygments_lexer": "ipython3",
   "version": "3.7.3"
  }
 },
 "nbformat": 4,
 "nbformat_minor": 4
}
