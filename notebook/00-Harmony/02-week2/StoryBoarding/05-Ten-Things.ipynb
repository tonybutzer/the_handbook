{
 "cells": [
  {
   "cell_type": "markdown",
   "metadata": {},
   "source": [
    "# 05-Ten-Things I did with my CHS Custom Ride\n",
    "\n",
    "![](https://s1.cdn.autoevolution.com/images/news/gallery/the-rat-rods-of-mad-max-fury-road-gigahorse-cranky-frank-the-peacemaker_3.jpg)\n",
    "\n",
    "1. ### start up a web/admin box from the console\n",
    "2. ### start up a group jupyterhub/mini-pangeo for your team to collaborate\n",
    "3. # create a bucket\n",
    "4. # ask kelcy how to get AWS credentials \n",
    "    - aws_secret_access_key\n",
    "    - aws_access_key_id \n",
    "5. ### fill your bucket with your model's input data\n",
    "6. # write some notebooks - to do everything\n",
    "7. ## give a fake powerpoint talk with the jupyter rise extension\n",
    "8. ## Build a library/package for all your favorite python abstractions\n",
    "9. ## start a kanboard\n"
   ]
  },
  {
   "cell_type": "code",
   "execution_count": null,
   "metadata": {},
   "outputs": [],
   "source": []
  }
 ],
 "metadata": {
  "kernelspec": {
   "display_name": "Python 3",
   "language": "python",
   "name": "python3"
  },
  "language_info": {
   "codemirror_mode": {
    "name": "ipython",
    "version": 3
   },
   "file_extension": ".py",
   "mimetype": "text/x-python",
   "name": "python",
   "nbconvert_exporter": "python",
   "pygments_lexer": "ipython3",
   "version": "3.7.3"
  }
 },
 "nbformat": 4,
 "nbformat_minor": 4
}
