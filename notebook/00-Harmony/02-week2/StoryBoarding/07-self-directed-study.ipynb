{
 "cells": [
  {
   "cell_type": "markdown",
   "metadata": {},
   "source": [
    "# Self Directed Study"
   ]
  },
  {
   "cell_type": "markdown",
   "metadata": {},
   "source": [
    "### http://10.12.69.233/user/butzer/tree/opt/notebook/01-Everything-but-harmony/00-Tutorial/00-Jupyter-Notebook-Pieschke\n",
    "\n",
    "###\n"
   ]
  },
  {
   "cell_type": "code",
   "execution_count": 6,
   "metadata": {},
   "outputs": [
    {
     "name": "stdout",
     "output_type": "stream",
     "text": [
      "total 16\r\n",
      "drwxr-xr-x  5 jupyter-butzer jupyter-butzer 4096 Dec  3 18:46 00-Harmony\r\n",
      "drwxr-xr-x 18 jupyter-butzer jupyter-butzer 4096 Dec  2 15:10 01-Everything-but-harmony\r\n",
      "drwxr-xr-x  3 jupyter-butzer jupyter-butzer 4096 Dec  2 15:10 99-Viz-and-friends\r\n",
      "-rw-r--r--  1 jupyter-butzer jupyter-butzer  327 Dec  2 15:10 Makefile\r\n"
     ]
    }
   ],
   "source": [
    "! (cd; cd opt/notebook; ls -l )"
   ]
  },
  {
   "cell_type": "code",
   "execution_count": 8,
   "metadata": {},
   "outputs": [
    {
     "name": "stdout",
     "output_type": "stream",
     "text": [
      "USER=jupyter-butzer\r\n",
      "JUPYTERHUB_USER=butzer\r\n"
     ]
    }
   ],
   "source": [
    "! env | grep USER"
   ]
  },
  {
   "cell_type": "code",
   "execution_count": 9,
   "metadata": {},
   "outputs": [
    {
     "name": "stdout",
     "output_type": "stream",
     "text": [
      "files  opt\r\n"
     ]
    }
   ],
   "source": [
    "!ls /home/jupyter-butzer"
   ]
  },
  {
   "cell_type": "code",
   "execution_count": 12,
   "metadata": {},
   "outputs": [
    {
     "name": "stdout",
     "output_type": "stream",
     "text": [
      "env: me=jupyter-butzer\n"
     ]
    }
   ],
   "source": [
    "%env me=jupyter-butzer"
   ]
  },
  {
   "cell_type": "code",
   "execution_count": 16,
   "metadata": {},
   "outputs": [
    {
     "name": "stdout",
     "output_type": "stream",
     "text": [
      "PWD=/home/jupyter-butzer/opt/notebook/00-Harmony/02-week2\r\n",
      "HOME=/home/jupyter-butzer\r\n",
      "me=jupyter-butzer\r\n"
     ]
    }
   ],
   "source": [
    "!env |grep me"
   ]
  },
  {
   "cell_type": "markdown",
   "metadata": {},
   "source": [
    "# Reference\n",
    "# https://github.com/ipython-books/minibook-2nd-code/blob/master/chapter2/21-exploring.ipynb"
   ]
  },
  {
   "cell_type": "code",
   "execution_count": 17,
   "metadata": {},
   "outputs": [
    {
     "name": "stderr",
     "output_type": "stream",
     "text": [
      "Cloning into 'minibook-2nd-code'...\n"
     ]
    }
   ],
   "source": [
    "%%bash\n",
    "cd\n",
    "cd opt\n",
    "git clone https://github.com/ipython-books/minibook-2nd-code"
   ]
  },
  {
   "cell_type": "code",
   "execution_count": 18,
   "metadata": {},
   "outputs": [
    {
     "name": "stdout",
     "output_type": "stream",
     "text": [
      "minibook-2nd-code  notebook\r\n"
     ]
    }
   ],
   "source": [
    "#! ls /home/jupyter-butzer/opt"
   ]
  },
  {
   "cell_type": "code",
   "execution_count": 20,
   "metadata": {},
   "outputs": [
    {
     "name": "stdout",
     "output_type": "stream",
     "text": [
      "minibook-2nd-code  notebook\r\n"
     ]
    }
   ],
   "source": [
    "!ls $HOME/opt"
   ]
  },
  {
   "cell_type": "code",
   "execution_count": 22,
   "metadata": {},
   "outputs": [
    {
     "name": "stdout",
     "output_type": "stream",
     "text": [
      "21-exploring.ipynb  22-manipulating.ipynb  23-groupby.ipynb  cleaning  data\r\n"
     ]
    }
   ],
   "source": [
    "!ls $HOME/opt/minibook-2nd-code/chapter2"
   ]
  },
  {
   "cell_type": "code",
   "execution_count": null,
   "metadata": {},
   "outputs": [],
   "source": []
  }
 ],
 "metadata": {
  "kernelspec": {
   "display_name": "Python 3",
   "language": "python",
   "name": "python3"
  },
  "language_info": {
   "codemirror_mode": {
    "name": "ipython",
    "version": 3
   },
   "file_extension": ".py",
   "mimetype": "text/x-python",
   "name": "python",
   "nbconvert_exporter": "python",
   "pygments_lexer": "ipython3",
   "version": "3.7.3"
  }
 },
 "nbformat": 4,
 "nbformat_minor": 4
}
