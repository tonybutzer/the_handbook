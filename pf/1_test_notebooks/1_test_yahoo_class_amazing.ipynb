{
 "cells": [
  {
   "cell_type": "code",
   "execution_count": 1,
   "id": "0906ea94",
   "metadata": {},
   "outputs": [],
   "source": [
    "import sys\n",
    "\n",
    "sys.path.append('../mylib')\n",
    "\n",
    "from yahoo import Yahoo"
   ]
  },
  {
   "cell_type": "code",
   "execution_count": 2,
   "id": "c84d82c9",
   "metadata": {},
   "outputs": [
    {
     "name": "stdout",
     "output_type": "stream",
     "text": [
      "Yahoo Initialized HYG\n",
      "HYG Current Price: None\n"
     ]
    }
   ],
   "source": [
    "# my_yahoo = Yahoo('CVS')\n",
    "my_yahoo = Yahoo('HYG')"
   ]
  },
  {
   "cell_type": "code",
   "execution_count": 3,
   "id": "24238d35",
   "metadata": {},
   "outputs": [
    {
     "data": {
      "text/plain": [
       "yahoo.Yahoo"
      ]
     },
     "execution_count": 3,
     "metadata": {},
     "output_type": "execute_result"
    }
   ],
   "source": [
    "type(my_yahoo)"
   ]
  },
  {
   "cell_type": "code",
   "execution_count": 4,
   "id": "c2d5b4a2",
   "metadata": {},
   "outputs": [],
   "source": [
    "s_dict=my_yahoo.get()"
   ]
  },
  {
   "cell_type": "code",
   "execution_count": 5,
   "id": "f0672cc9",
   "metadata": {},
   "outputs": [
    {
     "data": {
      "text/plain": [
       "86.11"
      ]
     },
     "execution_count": 5,
     "metadata": {},
     "output_type": "execute_result"
    }
   ],
   "source": [
    "s_dict.get('open')"
   ]
  },
  {
   "cell_type": "code",
   "execution_count": 6,
   "id": "d77620ea",
   "metadata": {},
   "outputs": [
    {
     "data": {
      "text/plain": [
       "86.11"
      ]
     },
     "execution_count": 6,
     "metadata": {},
     "output_type": "execute_result"
    }
   ],
   "source": [
    "s_dict['open']"
   ]
  },
  {
   "cell_type": "code",
   "execution_count": 7,
   "id": "c39994a5",
   "metadata": {},
   "outputs": [
    {
     "name": "stdout",
     "output_type": "stream",
     "text": [
      "exchange\n",
      "shortName\n",
      "longName\n",
      "exchangeTimezoneName\n",
      "exchangeTimezoneShortName\n",
      "isEsgPopulated\n",
      "gmtOffSetMilliseconds\n",
      "quoteType\n",
      "symbol\n",
      "messageBoardId\n",
      "market\n",
      "annualHoldingsTurnover\n",
      "enterpriseToRevenue\n",
      "beta3Year\n",
      "profitMargins\n",
      "enterpriseToEbitda\n",
      "52WeekChange\n",
      "morningStarRiskRating\n",
      "forwardEps\n",
      "revenueQuarterlyGrowth\n",
      "fundInceptionDate\n",
      "annualReportExpenseRatio\n",
      "totalAssets\n",
      "bookValue\n",
      "fundFamily\n",
      "lastFiscalYearEnd\n",
      "netIncomeToCommon\n",
      "trailingEps\n",
      "lastDividendValue\n",
      "SandP52WeekChange\n",
      "priceToBook\n",
      "nextFiscalYearEnd\n",
      "yield\n",
      "mostRecentQuarter\n",
      "enterpriseValue\n",
      "priceHint\n",
      "threeYearAverageReturn\n",
      "lastSplitDate\n",
      "lastSplitFactor\n",
      "legalType\n",
      "lastDividendDate\n",
      "morningStarOverallRating\n",
      "earningsQuarterlyGrowth\n",
      "priceToSalesTrailing12Months\n",
      "pegRatio\n",
      "ytdReturn\n",
      "forwardPE\n",
      "maxAge\n",
      "lastCapGain\n",
      "category\n",
      "fiveYearAverageReturn\n",
      "phone\n",
      "longBusinessSummary\n",
      "companyOfficers\n",
      "previousClose\n",
      "regularMarketOpen\n",
      "twoHundredDayAverage\n",
      "trailingAnnualDividendYield\n",
      "payoutRatio\n",
      "volume24Hr\n",
      "regularMarketDayHigh\n",
      "navPrice\n",
      "averageDailyVolume10Day\n",
      "regularMarketPreviousClose\n",
      "fiftyDayAverage\n",
      "trailingAnnualDividendRate\n",
      "open\n",
      "toCurrency\n",
      "averageVolume10days\n",
      "expireDate\n",
      "algorithm\n",
      "dividendRate\n",
      "exDividendDate\n",
      "beta\n",
      "circulatingSupply\n",
      "startDate\n",
      "regularMarketDayLow\n",
      "currency\n",
      "trailingPE\n",
      "regularMarketVolume\n",
      "lastMarket\n",
      "maxSupply\n",
      "openInterest\n",
      "marketCap\n",
      "volumeAllCurrencies\n",
      "strikePrice\n",
      "averageVolume\n",
      "dayLow\n",
      "ask\n",
      "askSize\n",
      "volume\n",
      "fiftyTwoWeekHigh\n",
      "fromCurrency\n",
      "fiveYearAvgDividendYield\n",
      "fiftyTwoWeekLow\n",
      "bid\n",
      "tradeable\n",
      "dividendYield\n",
      "bidSize\n",
      "dayHigh\n",
      "preferredPosition\n",
      "bondPosition\n",
      "convertiblePosition\n",
      "sectorWeightings\n",
      "holdings\n",
      "bondHoldings\n",
      "bondRatings\n",
      "equityHoldings\n",
      "otherPosition\n",
      "cashPosition\n",
      "stockPosition\n",
      "regularMarketPrice\n",
      "preMarketPrice\n",
      "logo_url\n"
     ]
    }
   ],
   "source": [
    "for key in s_dict.keys():\n",
    "    print(key)"
   ]
  },
  {
   "cell_type": "code",
   "execution_count": 8,
   "id": "9758002d",
   "metadata": {},
   "outputs": [],
   "source": [
    "def return_shortened_list(keyword, full_key_enum):\n",
    "    short_list = []\n",
    "    for the_key in full_key_enum:\n",
    "            # print(the_key)\n",
    "            if keyword in the_key:\n",
    "                short_list.append(the_key)\n",
    "    return(short_list)"
   ]
  },
  {
   "cell_type": "code",
   "execution_count": 9,
   "id": "fa836234",
   "metadata": {},
   "outputs": [
    {
     "data": {
      "text/plain": [
       "['annualReportExpenseRatio', 'pegRatio', 'payoutRatio']"
      ]
     },
     "execution_count": 9,
     "metadata": {},
     "output_type": "execute_result"
    }
   ],
   "source": [
    "my_ratios = return_shortened_list('Ratio', s_dict.keys())\n",
    "my_ratios"
   ]
  },
  {
   "cell_type": "code",
   "execution_count": 10,
   "id": "0d467d3a",
   "metadata": {},
   "outputs": [
    {
     "data": {
      "text/plain": [
       "['navPrice', 'strikePrice', 'regularMarketPrice', 'preMarketPrice']"
      ]
     },
     "execution_count": 10,
     "metadata": {},
     "output_type": "execute_result"
    }
   ],
   "source": [
    "full_list = s_dict.keys()\n",
    "my_operating = return_shortened_list('oper', full_list)\n",
    "my_operating\n",
    "my_margins = return_shortened_list('Margin', full_list)\n",
    "my_margins\n",
    "my_prices  = return_shortened_list('Price', full_list)\n",
    "my_prices"
   ]
  },
  {
   "cell_type": "code",
   "execution_count": 11,
   "id": "60dddfae",
   "metadata": {},
   "outputs": [],
   "source": [
    "import pandas as pd"
   ]
  },
  {
   "cell_type": "code",
   "execution_count": 12,
   "id": "ad271312",
   "metadata": {},
   "outputs": [],
   "source": [
    "def build_df(my_list):\n",
    "    df_dict={}\n",
    "    for stock_element in my_list:\n",
    "        #print(stock_element)\n",
    "        val = s_dict.get(stock_element)\n",
    "        print(stock_element, val)\n",
    "        df_dict[stock_element] = val\n",
    "    df=pd.DataFrame(df_dict, index=[0])\n",
    "    return df"
   ]
  },
  {
   "cell_type": "code",
   "execution_count": 13,
   "id": "b475b085",
   "metadata": {},
   "outputs": [
    {
     "name": "stdout",
     "output_type": "stream",
     "text": [
      "navPrice 86.62\n",
      "strikePrice None\n",
      "regularMarketPrice 86.09\n",
      "preMarketPrice None\n"
     ]
    }
   ],
   "source": [
    "my_price_df = build_df(my_prices)"
   ]
  },
  {
   "cell_type": "code",
   "execution_count": 14,
   "id": "1c6a45a2",
   "metadata": {},
   "outputs": [
    {
     "data": {
      "text/html": [
       "<div>\n",
       "<style scoped>\n",
       "    .dataframe tbody tr th:only-of-type {\n",
       "        vertical-align: middle;\n",
       "    }\n",
       "\n",
       "    .dataframe tbody tr th {\n",
       "        vertical-align: top;\n",
       "    }\n",
       "\n",
       "    .dataframe thead th {\n",
       "        text-align: right;\n",
       "    }\n",
       "</style>\n",
       "<table border=\"1\" class=\"dataframe\">\n",
       "  <thead>\n",
       "    <tr style=\"text-align: right;\">\n",
       "      <th></th>\n",
       "      <th>navPrice</th>\n",
       "      <th>strikePrice</th>\n",
       "      <th>regularMarketPrice</th>\n",
       "      <th>preMarketPrice</th>\n",
       "    </tr>\n",
       "  </thead>\n",
       "  <tbody>\n",
       "    <tr>\n",
       "      <th>0</th>\n",
       "      <td>86.62</td>\n",
       "      <td>None</td>\n",
       "      <td>86.09</td>\n",
       "      <td>None</td>\n",
       "    </tr>\n",
       "  </tbody>\n",
       "</table>\n",
       "</div>"
      ],
      "text/plain": [
       "   navPrice strikePrice  regularMarketPrice preMarketPrice\n",
       "0     86.62        None               86.09           None"
      ]
     },
     "execution_count": 14,
     "metadata": {},
     "output_type": "execute_result"
    }
   ],
   "source": [
    "my_price_df"
   ]
  },
  {
   "cell_type": "code",
   "execution_count": 15,
   "id": "50102bb1",
   "metadata": {},
   "outputs": [
    {
     "data": {
      "text/plain": [
       "navPrice              float64\n",
       "strikePrice            object\n",
       "regularMarketPrice    float64\n",
       "preMarketPrice         object\n",
       "dtype: object"
      ]
     },
     "execution_count": 15,
     "metadata": {},
     "output_type": "execute_result"
    }
   ],
   "source": [
    "my_price_df.dtypes"
   ]
  },
  {
   "cell_type": "code",
   "execution_count": 16,
   "id": "ed9ab6ea",
   "metadata": {},
   "outputs": [
    {
     "name": "stdout",
     "output_type": "stream",
     "text": [
      "annualReportExpenseRatio None\n",
      "pegRatio None\n",
      "payoutRatio None\n",
      "profitMargins None\n"
     ]
    }
   ],
   "source": [
    "my_ratio_df = build_df(my_ratios)\n",
    "\n",
    "my_margin_df = build_df(my_margins)\n",
    "\n",
    "my_operating_df = build_df(my_operating)\n"
   ]
  },
  {
   "cell_type": "code",
   "execution_count": 17,
   "id": "f119a17a",
   "metadata": {},
   "outputs": [
    {
     "data": {
      "text/html": [
       "<div>\n",
       "<style scoped>\n",
       "    .dataframe tbody tr th:only-of-type {\n",
       "        vertical-align: middle;\n",
       "    }\n",
       "\n",
       "    .dataframe tbody tr th {\n",
       "        vertical-align: top;\n",
       "    }\n",
       "\n",
       "    .dataframe thead th {\n",
       "        text-align: right;\n",
       "    }\n",
       "</style>\n",
       "<table border=\"1\" class=\"dataframe\">\n",
       "  <thead>\n",
       "    <tr style=\"text-align: right;\">\n",
       "      <th></th>\n",
       "      <th>annualReportExpenseRatio</th>\n",
       "      <th>pegRatio</th>\n",
       "      <th>payoutRatio</th>\n",
       "    </tr>\n",
       "  </thead>\n",
       "  <tbody>\n",
       "    <tr>\n",
       "      <th>0</th>\n",
       "      <td>None</td>\n",
       "      <td>None</td>\n",
       "      <td>None</td>\n",
       "    </tr>\n",
       "  </tbody>\n",
       "</table>\n",
       "</div>"
      ],
      "text/plain": [
       "  annualReportExpenseRatio pegRatio payoutRatio\n",
       "0                     None     None        None"
      ]
     },
     "execution_count": 17,
     "metadata": {},
     "output_type": "execute_result"
    }
   ],
   "source": [
    "my_ratio_df"
   ]
  },
  {
   "cell_type": "code",
   "execution_count": 18,
   "id": "9bb80b1d",
   "metadata": {},
   "outputs": [
    {
     "data": {
      "text/html": [
       "<div>\n",
       "<style scoped>\n",
       "    .dataframe tbody tr th:only-of-type {\n",
       "        vertical-align: middle;\n",
       "    }\n",
       "\n",
       "    .dataframe tbody tr th {\n",
       "        vertical-align: top;\n",
       "    }\n",
       "\n",
       "    .dataframe thead th {\n",
       "        text-align: right;\n",
       "    }\n",
       "</style>\n",
       "<table border=\"1\" class=\"dataframe\">\n",
       "  <thead>\n",
       "    <tr style=\"text-align: right;\">\n",
       "      <th></th>\n",
       "      <th>profitMargins</th>\n",
       "    </tr>\n",
       "  </thead>\n",
       "  <tbody>\n",
       "    <tr>\n",
       "      <th>0</th>\n",
       "      <td>None</td>\n",
       "    </tr>\n",
       "  </tbody>\n",
       "</table>\n",
       "</div>"
      ],
      "text/plain": [
       "  profitMargins\n",
       "0          None"
      ]
     },
     "execution_count": 18,
     "metadata": {},
     "output_type": "execute_result"
    }
   ],
   "source": [
    "my_margin_df"
   ]
  },
  {
   "cell_type": "code",
   "execution_count": 19,
   "id": "5de6ff2d",
   "metadata": {},
   "outputs": [
    {
     "data": {
      "text/html": [
       "<div>\n",
       "<style scoped>\n",
       "    .dataframe tbody tr th:only-of-type {\n",
       "        vertical-align: middle;\n",
       "    }\n",
       "\n",
       "    .dataframe tbody tr th {\n",
       "        vertical-align: top;\n",
       "    }\n",
       "\n",
       "    .dataframe thead th {\n",
       "        text-align: right;\n",
       "    }\n",
       "</style>\n",
       "<table border=\"1\" class=\"dataframe\">\n",
       "  <thead>\n",
       "    <tr style=\"text-align: right;\">\n",
       "      <th></th>\n",
       "    </tr>\n",
       "  </thead>\n",
       "  <tbody>\n",
       "    <tr>\n",
       "      <th>0</th>\n",
       "    </tr>\n",
       "  </tbody>\n",
       "</table>\n",
       "</div>"
      ],
      "text/plain": [
       "Empty DataFrame\n",
       "Columns: []\n",
       "Index: [0]"
      ]
     },
     "execution_count": 19,
     "metadata": {},
     "output_type": "execute_result"
    }
   ],
   "source": [
    "my_operating_df"
   ]
  },
  {
   "cell_type": "code",
   "execution_count": 20,
   "id": "073ad741",
   "metadata": {},
   "outputs": [
    {
     "data": {
      "text/plain": [
       "'PCX'"
      ]
     },
     "execution_count": 20,
     "metadata": {},
     "output_type": "execute_result"
    }
   ],
   "source": [
    "s_dict['exchange']"
   ]
  },
  {
   "cell_type": "code",
   "execution_count": 21,
   "id": "2edc978c",
   "metadata": {},
   "outputs": [],
   "source": [
    "s_dict['priceToBook']"
   ]
  },
  {
   "cell_type": "code",
   "execution_count": 22,
   "id": "5eb5f76e",
   "metadata": {},
   "outputs": [],
   "source": [
    "s_dict['pegRatio']"
   ]
  },
  {
   "cell_type": "code",
   "execution_count": 23,
   "id": "c1359554",
   "metadata": {},
   "outputs": [],
   "source": [
    "s_dict['dividendYield']"
   ]
  },
  {
   "cell_type": "code",
   "execution_count": 24,
   "id": "6bb73a06",
   "metadata": {},
   "outputs": [
    {
     "data": {
      "text/plain": [
       "'iShares'"
      ]
     },
     "execution_count": 24,
     "metadata": {},
     "output_type": "execute_result"
    }
   ],
   "source": [
    "s_dict['fundFamily']"
   ]
  },
  {
   "cell_type": "code",
   "execution_count": 25,
   "id": "692905cd",
   "metadata": {},
   "outputs": [
    {
     "ename": "KeyError",
     "evalue": "'industry'",
     "output_type": "error",
     "traceback": [
      "\u001b[0;31m---------------------------------------------------------------------------\u001b[0m",
      "\u001b[0;31mKeyError\u001b[0m                                  Traceback (most recent call last)",
      "\u001b[0;32m/tmp/ipykernel_21275/4173991855.py\u001b[0m in \u001b[0;36m<module>\u001b[0;34m\u001b[0m\n\u001b[1;32m      1\u001b[0m \u001b[0;31m# industry\u001b[0m\u001b[0;34m\u001b[0m\u001b[0;34m\u001b[0m\u001b[0m\n\u001b[0;32m----> 2\u001b[0;31m \u001b[0ms_dict\u001b[0m\u001b[0;34m[\u001b[0m\u001b[0;34m'industry'\u001b[0m\u001b[0;34m]\u001b[0m\u001b[0;34m\u001b[0m\u001b[0;34m\u001b[0m\u001b[0m\n\u001b[0m",
      "\u001b[0;31mKeyError\u001b[0m: 'industry'"
     ]
    }
   ],
   "source": [
    "# industry\n",
    "s_dict['industry']"
   ]
  },
  {
   "cell_type": "code",
   "execution_count": 28,
   "id": "f39452bb",
   "metadata": {},
   "outputs": [
    {
     "name": "stdout",
     "output_type": "stream",
     "text": [
      "exchange\n",
      "shortName\n",
      "longName\n",
      "exchangeTimezoneName\n",
      "exchangeTimezoneShortName\n",
      "isEsgPopulated\n",
      "gmtOffSetMilliseconds\n",
      "quoteType\n",
      "symbol\n",
      "messageBoardId\n",
      "market\n",
      "annualHoldingsTurnover\n",
      "enterpriseToRevenue\n",
      "beta3Year\n",
      "profitMargins\n",
      "enterpriseToEbitda\n",
      "52WeekChange\n",
      "morningStarRiskRating\n",
      "forwardEps\n",
      "revenueQuarterlyGrowth\n",
      "fundInceptionDate\n",
      "annualReportExpenseRatio\n",
      "totalAssets\n",
      "bookValue\n",
      "fundFamily\n",
      "lastFiscalYearEnd\n",
      "netIncomeToCommon\n",
      "trailingEps\n",
      "lastDividendValue\n",
      "SandP52WeekChange\n",
      "priceToBook\n",
      "nextFiscalYearEnd\n",
      "yield\n",
      "mostRecentQuarter\n",
      "enterpriseValue\n",
      "priceHint\n",
      "threeYearAverageReturn\n",
      "lastSplitDate\n",
      "lastSplitFactor\n",
      "legalType\n",
      "lastDividendDate\n",
      "morningStarOverallRating\n",
      "earningsQuarterlyGrowth\n",
      "priceToSalesTrailing12Months\n",
      "pegRatio\n",
      "ytdReturn\n",
      "forwardPE\n",
      "maxAge\n",
      "lastCapGain\n",
      "category\n",
      "fiveYearAverageReturn\n",
      "phone\n",
      "longBusinessSummary\n",
      "companyOfficers\n",
      "previousClose\n",
      "regularMarketOpen\n",
      "twoHundredDayAverage\n",
      "trailingAnnualDividendYield\n",
      "payoutRatio\n",
      "volume24Hr\n",
      "regularMarketDayHigh\n",
      "navPrice\n",
      "averageDailyVolume10Day\n",
      "regularMarketPreviousClose\n",
      "fiftyDayAverage\n",
      "trailingAnnualDividendRate\n",
      "open\n",
      "toCurrency\n",
      "averageVolume10days\n",
      "expireDate\n",
      "algorithm\n",
      "dividendRate\n",
      "exDividendDate\n",
      "beta\n",
      "circulatingSupply\n",
      "startDate\n",
      "regularMarketDayLow\n",
      "currency\n",
      "trailingPE\n",
      "regularMarketVolume\n",
      "lastMarket\n",
      "maxSupply\n",
      "openInterest\n",
      "marketCap\n",
      "volumeAllCurrencies\n",
      "strikePrice\n",
      "averageVolume\n",
      "dayLow\n",
      "ask\n",
      "askSize\n",
      "volume\n",
      "fiftyTwoWeekHigh\n",
      "fromCurrency\n",
      "fiveYearAvgDividendYield\n",
      "fiftyTwoWeekLow\n",
      "bid\n",
      "tradeable\n",
      "dividendYield\n",
      "bidSize\n",
      "dayHigh\n",
      "preferredPosition\n",
      "bondPosition\n",
      "convertiblePosition\n",
      "sectorWeightings\n",
      "holdings\n",
      "bondHoldings\n",
      "bondRatings\n",
      "equityHoldings\n",
      "otherPosition\n",
      "cashPosition\n",
      "stockPosition\n",
      "regularMarketPrice\n",
      "preMarketPrice\n",
      "logo_url\n"
     ]
    }
   ],
   "source": [
    "for key in s_dict.keys():\n",
    "    print(key)"
   ]
  },
  {
   "cell_type": "code",
   "execution_count": 29,
   "id": "9285cb87",
   "metadata": {},
   "outputs": [
    {
     "data": {
      "text/plain": [
       "'us_market'"
      ]
     },
     "execution_count": 29,
     "metadata": {},
     "output_type": "execute_result"
    }
   ],
   "source": [
    "s_dict['market']"
   ]
  },
  {
   "cell_type": "code",
   "execution_count": 30,
   "id": "e2c47ffc",
   "metadata": {},
   "outputs": [],
   "source": [
    "s_dict['morningStarRiskRating']"
   ]
  },
  {
   "cell_type": "code",
   "execution_count": 31,
   "id": "ba0afcbb",
   "metadata": {},
   "outputs": [],
   "source": [
    "#annualHoldingsTurnover\n",
    "s_dict['annualHoldingsTurnover']"
   ]
  },
  {
   "cell_type": "code",
   "execution_count": 32,
   "id": "2cb9c09f",
   "metadata": {},
   "outputs": [
    {
     "data": {
      "text/plain": [
       "'iShares iBoxx $ High Yield Corporate Bond ETF'"
      ]
     },
     "execution_count": 32,
     "metadata": {},
     "output_type": "execute_result"
    }
   ],
   "source": [
    "s_dict['longName']"
   ]
  },
  {
   "cell_type": "code",
   "execution_count": 33,
   "id": "b8b1748d",
   "metadata": {},
   "outputs": [
    {
     "data": {
      "text/plain": [
       "'iShares iBoxx $ High Yield Corp'"
      ]
     },
     "execution_count": 33,
     "metadata": {},
     "output_type": "execute_result"
    }
   ],
   "source": [
    "s_dict['shortName']"
   ]
  },
  {
   "cell_type": "code",
   "execution_count": null,
   "id": "8d75637d",
   "metadata": {},
   "outputs": [],
   "source": []
  }
 ],
 "metadata": {
  "kernelspec": {
   "display_name": "Python 3 (ipykernel)",
   "language": "python",
   "name": "python3"
  },
  "language_info": {
   "codemirror_mode": {
    "name": "ipython",
    "version": 3
   },
   "file_extension": ".py",
   "mimetype": "text/x-python",
   "name": "python",
   "nbconvert_exporter": "python",
   "pygments_lexer": "ipython3",
   "version": "3.9.9"
  }
 },
 "nbformat": 4,
 "nbformat_minor": 5
}
