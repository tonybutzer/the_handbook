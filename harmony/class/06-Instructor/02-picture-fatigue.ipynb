{
 "cells": [
  {
   "cell_type": "code",
   "execution_count": 1,
   "metadata": {},
   "outputs": [],
   "source": [
    "# 02-picture-fatigue\n",
    "%matplotlib inline"
   ]
  },
  {
   "cell_type": "code",
   "execution_count": 2,
   "metadata": {},
   "outputs": [],
   "source": [
    "# Using readlines() \n",
    "file1 = open('image_list.txt', 'r') \n",
    "Lines = file1.readlines() "
   ]
  },
  {
   "cell_type": "code",
   "execution_count": 3,
   "metadata": {},
   "outputs": [],
   "source": [
    "import requests\n",
    "import IPython.display as Disp\n",
    "get_ipython().magic(u'matplotlib inline')\n",
    "def please_display_image(url):\n",
    "    Disp.Image(url=url)\n",
    "    "
   ]
  },
  {
   "cell_type": "code",
   "execution_count": 4,
   "metadata": {},
   "outputs": [
    {
     "name": "stdout",
     "output_type": "stream",
     "text": [
      "https://raw.githubusercontent.com/tonybutzer/data-curation/master/odc-opscon/docs/source/assets/lsis_data_flow.PNG\n",
      "https://raw.githubusercontent.com/tonybutzer/data-curation/master/odc-opscon/docs/source/assets/lsds_overview_conops.PNG\n",
      "https://raw.githubusercontent.com/tonybutzer/enduser/master/assets/veget-cloud-cartoon.PNG\n",
      "https://raw.githubusercontent.com/tonybutzer/assets/master/00-nodeport-before-service-attach.PNG\n",
      "https://raw.githubusercontent.com/tonybutzer/assets/master/juphub/node-port-diag.PNG\n",
      "https://raw.githubusercontent.com/tonybutzer/assets/master/diagrams/africa_scenes_heatmap_zoomed.PNG\n",
      "https://raw.githubusercontent.com/tonybutzer/assets/master/diagrams/c1l2albers_datalake_almost_indexed.PNG\n",
      "https://raw.githubusercontent.com/tonybutzer/assets/master/diagrams/c1l2-oli-tirs-albers-data-lake-full.PNG\n",
      "https://raw.githubusercontent.com/tonybutzer/assets/master/diagrams/africa_scene_depth_heatmap.PNG\n",
      "https://raw.githubusercontent.com/tonybutzer/assets/master/funny/pipInstallGDAL.PNG\n",
      "https://raw.githubusercontent.com/tonybutzer/assets/master/k8s/00-nodeport-before-service-attach.PNG\n",
      "https://raw.githubusercontent.com/tonybutzer/assets/master/k8s/01-nodeports-service-exposes-static-node-level-port-after.PNG\n",
      "https://raw.githubusercontent.com/tonybutzer/assets/master/et/precipitation_sioux_falls_by_way_xarray.PNG\n",
      "https://raw.githubusercontent.com/tonybutzer/assets/master/et/delaware-and-east-tiles-ndvi.PNG\n",
      "https://raw.githubusercontent.com/tonybutzer/assets/master/et/50-cloud-region-cost-variances.PNG\n",
      "https://raw.githubusercontent.com/tonybutzer/assets/master/et/air_temp_day_1.PNG\n",
      "https://raw.githubusercontent.com/tonybutzer/assets/master/et/50-cloud-boardman-oregon-aws.PNG\n",
      "https://raw.githubusercontent.com/tonybutzer/assets/master/et/TIC_the_thing_that_makes_your_internet_suck.PNG\n",
      "https://raw.githubusercontent.com/tonybutzer/assets/master/et/delaware-row3-geojson.PNG\n",
      "https://raw.githubusercontent.com/tonybutzer/assets/master/et/50-cloud-data-center-guts.PNG\n",
      "https://raw.githubusercontent.com/tonybutzer/etscrum/master/00-presentation/ard/mission-impossible.PNG\n",
      "https://raw.githubusercontent.com/tonybutzer/etscrum/master/00-presentation/ard/drb-welcome-to-thedelaware-river.PNG\n",
      "https://raw.githubusercontent.com/tonybutzer/etscrum/master/00-presentation/ard/abernathey-is-right.PNG\n",
      "https://raw.githubusercontent.com/tonybutzer/etscrum/master/00-presentation/ard/eta-2000-2016.PNG\n",
      "https://raw.githubusercontent.com/tonybutzer/etscrum/master/00-presentation/ard/now-we-need-stac.PNG\n",
      "https://raw.githubusercontent.com/tonybutzer/etscrum/master/00-presentation/ard/trump.PNG\n",
      "https://raw.githubusercontent.com/tonybutzer/etscrum/master/00-presentation/ard/renee.PNG\n",
      "https://raw.githubusercontent.com/tonybutzer/etscrum/master/00-presentation/ard/landcover-over-drb.PNG\n",
      "https://raw.githubusercontent.com/tonybutzer/etscrum/master/00-presentation/ard/input-outputs-pretty-plots.PNG\n",
      "https://raw.githubusercontent.com/tonybutzer/etscrum/master/00-presentation/ard/chris-holmes-is-right.PNG\n",
      "https://raw.githubusercontent.com/tonybutzer/etscrum/master/00-presentation/ard/typical-on-prem-arch.PNG\n",
      "https://raw.githubusercontent.com/tonybutzer/etscrum/master/00-presentation/ard/cdc6600.PNG\n",
      "https://raw.githubusercontent.com/tonybutzer/etscrum/master/00-presentation/ard/datawrangling_is_real.PNG\n",
      "https://raw.githubusercontent.com/tonybutzer/etscrum/master/00-presentation/ard/two-freds.PNG\n",
      "https://raw.githubusercontent.com/tonybutzer/etscrum/master/00-presentation/ard/model-implementation-cartoon.PNG\n",
      "https://raw.githubusercontent.com/tonybutzer/etscrum/master/00-presentation/ard/evapotranspiration.PNG\n",
      "https://raw.githubusercontent.com/tonybutzer/etscrum/master/00-presentation/ard/input-data-list.PNG\n",
      "https://raw.githubusercontent.com/tonybutzer/etscrum/master/00-presentation/ard/new-arch.PNG\n",
      "https://raw.githubusercontent.com/tonybutzer/etscrum/master/00-presentation/ard/demo-time.PNG\n",
      "https://raw.githubusercontent.com/tonybutzer/etscrum/master/00-presentation/ard/drb-commission-economic-impact.PNG\n",
      "https://raw.githubusercontent.com/tonybutzer/etscrum/master/00-presentation/intro/2020-bites.PNG\n",
      "https://raw.githubusercontent.com/tonybutzer/etscrum/master/00-presentation/intro/aws-all-services-overwhelm.PNG\n",
      "https://raw.githubusercontent.com/tonybutzer/etscrum/master/00-presentation/intro/about-partnerships.PNG\n",
      "https://raw.githubusercontent.com/tonybutzer/etscrum/master/00-presentation/intro/science-matters.PNG\n",
      "https://raw.githubusercontent.com/tonybutzer/etscrum/master/00-presentation/intro/linux-is-my-female-dog.PNG\n",
      "https://raw.githubusercontent.com/tonybutzer/etscrum/master/00-presentation/intro/oh-no-multitasking-again.PNG\n",
      "https://raw.githubusercontent.com/tonybutzer/etscrum/master/00-presentation/intro/stuck-in-the-cloud.PNG\n",
      "https://raw.githubusercontent.com/tonybutzer/etscrum/master/00-presentation/intro/tan-pangeo.PNG\n",
      "https://raw.githubusercontent.com/tonybutzer/etscrum/master/00-presentation/intro/sci-tech.PNG\n",
      "https://raw.githubusercontent.com/tonybutzer/etscrum/master/00-presentation/intro/veg-et-vision.PNG\n",
      "https://raw.githubusercontent.com/tonybutzer/etscrum/master/00-presentation/intro/about-me-odc-pangeo.PNG\n",
      "https://raw.githubusercontent.com/tonybutzer/etscrum/master/00-presentation/intro/model-bucket-impl.PNG\n",
      "https://raw.githubusercontent.com/tonybutzer/etscrum/master/00-presentation/intro/science-outreach.PNG\n",
      "https://raw.githubusercontent.com/tonybutzer/etscrum/master/00-presentation/intro/about-me.PNG\n",
      "https://raw.githubusercontent.com/tonybutzer/etscrum/master/00-presentation/assets-1/precipitation_sioux_falls_by_way_xarray.PNG\n",
      "https://raw.githubusercontent.com/tonybutzer/etscrum/master/00-presentation/assets-1/model-processing-flow.PNG\n",
      "https://raw.githubusercontent.com/tonybutzer/etscrum/master/00-presentation/assets-1/delaware-and-east-tiles-ndvi.PNG\n",
      "https://raw.githubusercontent.com/tonybutzer/etscrum/master/00-presentation/assets-1/50-cloud-region-cost-variances.PNG\n",
      "https://raw.githubusercontent.com/tonybutzer/etscrum/master/00-presentation/assets-1/africa_scene_depth_heatmap.PNG\n",
      "https://raw.githubusercontent.com/tonybutzer/etscrum/master/00-presentation/assets-1/air_temp_day_1.PNG\n",
      "https://raw.githubusercontent.com/tonybutzer/etscrum/master/00-presentation/assets-1/50-cloud-boardman-oregon-aws.PNG\n",
      "https://raw.githubusercontent.com/tonybutzer/etscrum/master/00-presentation/assets-1/africa-costs.PNG\n",
      "https://raw.githubusercontent.com/tonybutzer/etscrum/master/00-presentation/assets-1/delaware-row3-geojson.PNG\n",
      "https://raw.githubusercontent.com/tonybutzer/etscrum/master/00-presentation/assets-1/50-cloud-data-center-guts.PNG\n",
      "https://raw.githubusercontent.com/tonybutzer/etscrum/master/00-presentation/assets-1/steffi_south.PNG\n",
      "https://raw.githubusercontent.com/tonybutzer/etscrum/master/00-presentation/bonus-slides/case-study-2.PNG\n",
      "https://raw.githubusercontent.com/tonybutzer/etscrum/master/00-presentation/bonus-slides/pangeo-nasa.PNG\n",
      "https://raw.githubusercontent.com/tonybutzer/etscrum/master/00-presentation/bonus-slides/et-viewer-non-trap.PNG\n",
      "https://raw.githubusercontent.com/tonybutzer/etscrum/master/00-presentation/bonus-slides/scientist.PNG\n",
      "https://raw.githubusercontent.com/tonybutzer/etscrum/master/00-presentation/bonus-slides/t3-ec2-instance.PNG\n",
      "https://raw.githubusercontent.com/tonybutzer/etscrum/master/00-presentation/bonus-slides/case-study-1.PNG\n",
      "https://raw.githubusercontent.com/tonybutzer/etscrum/master/00-presentation/bonus-slides/questions-stump-the-geek.PNG\n",
      "https://raw.githubusercontent.com/tonybutzer/etscrum/master/00-presentation/bonus-slides/et-movie.PNG\n",
      "https://raw.githubusercontent.com/tonybutzer/etscrum/master/00-presentation/bonus-slides/data-portals-what-we-did-b4.PNG\n",
      "https://raw.githubusercontent.com/tonybutzer/etscrum/master/00-presentation/bonus-slides/this-open-et.PNG\n",
      "https://raw.githubusercontent.com/tonybutzer/etscrum/master/00-presentation/bonus-slides/iluv-thecloud.PNG\n",
      "https://raw.githubusercontent.com/tonybutzer/etscrum/master/00-presentation/bonus-slides/devops-and-data-ops.PNG\n",
      "https://raw.githubusercontent.com/tonybutzer/etscrum/master/00-presentation/bonus-slides/cloud-platform-bakeoff.PNG\n",
      "https://raw.githubusercontent.com/tonybutzer/etscrum/master/00-presentation/bonus-slides/future-pangeo-move-the-scientist-to the data.PNG\n",
      "https://raw.githubusercontent.com/tonybutzer/etscrum/master/00-presentation/bonus-slides/map-reduce.PNG\n",
      "https://raw.githubusercontent.com/tonybutzer/etscrum/master/00-presentation/bonus-slides/data-lake.PNG\n",
      "https://raw.githubusercontent.com/tonybutzer/etviz/master/3-panel-dash-boards/99-limbo/b.jpg\n",
      "https://raw.githubusercontent.com/tonybutzer/etviz/master/3-panel-dash-boards/99-limbo/a.jpg\n",
      "https://raw.githubusercontent.com/tonybutzer/data-curation/master/dataDog/eng/assets/chew.jpg\n",
      "https://raw.githubusercontent.com/tonybutzer/data-curation/master/dataDog/eng/assets/fernson.jpg\n",
      "https://raw.githubusercontent.com/tonybutzer/data-curation/master/dataDog/eng/assets/charlie.jpg\n",
      "https://raw.githubusercontent.com/tonybutzer/data-curation/master/dataDog/eng/assets/nineball.jpg\n",
      "https://raw.githubusercontent.com/tonybutzer/data-curation/master/dataDog/eng/assets/dispose.jpg\n",
      "https://raw.githubusercontent.com/tonybutzer/data-curation/master/dataDog/eng/assets/golden-retriever-picture.jpg\n",
      "https://raw.githubusercontent.com/tonybutzer/data-curation/master/dataDog/eng/assets/police.jpg\n",
      "https://raw.githubusercontent.com/tonybutzer/data-curation/master/index/anotebooks/assets/easter_bilby.jpg\n",
      "https://raw.githubusercontent.com/tonybutzer/assets/master/k8s/tall_milkshake1.jpg\n",
      "https://raw.githubusercontent.com/tonybutzer/assets/master/et/row2.jpg\n",
      "https://raw.githubusercontent.com/tonybutzer/assets/master/et/Rich_Signell_s.jpg\n",
      "https://raw.githubusercontent.com/tonybutzer/assets/master/et/row0.jpg\n",
      "https://raw.githubusercontent.com/tonybutzer/assets/master/et/imgo.jpg\n",
      "https://raw.githubusercontent.com/tonybutzer/assets/master/et/great-skew.jpg\n",
      "https://raw.githubusercontent.com/tonybutzer/etscrum/master/00-presentation/intro/Scale-Man-2.jpg\n",
      "https://raw.githubusercontent.com/tonybutzer/etscrum/master/00-presentation/assets-1/row2.jpg\n",
      "https://raw.githubusercontent.com/tonybutzer/etscrum/master/00-presentation/assets-1/Rich_Signell_s.jpg\n",
      "https://raw.githubusercontent.com/tonybutzer/etscrum/master/00-presentation/assets-1/row0.jpg\n",
      "https://raw.githubusercontent.com/tonybutzer/etscrum/master/00-presentation/assets-1/imgo.jpg\n",
      "https://raw.githubusercontent.com/tonybutzer/etscrum/master/00-presentation/assets-1/great-skew.jpg\n",
      "https://raw.githubusercontent.com/tonybutzer/npset/master/20-00-data-wrangle-MODIS-NDVI/99-cogs/mybrowse.jpg\n",
      "https://raw.githubusercontent.com/tonybutzer/odc-lcmap/master/anotebooks/asset/map-reduce.jpg\n",
      "https://raw.githubusercontent.com/tonybutzer//master\n",
      "https://raw.githubusercontent.com/tonybutzer//master\n"
     ]
    }
   ],
   "source": [
    "from IPython.display import Image\n",
    "\n",
    "image_list = []\n",
    "git_path = 'https://raw.githubusercontent.com/tonybutzer/'\n",
    "for image in Lines:\n",
    "    #image = Lines[0]\n",
    "    image = image.strip()\n",
    "    #print(image)\n",
    "    image = image[4:]\n",
    "    #print(image)\n",
    "    stuff = image.split('/')\n",
    "    #print(stuff)\n",
    "    stuff[0] = stuff[0] + '/master'\n",
    "    #print(stuff)\n",
    "    image = '/'.join(stuff)\n",
    "    image = git_path + image\n",
    "    print(image)\n",
    "    #Image(url=image)\n",
    "    image_list.append(image)\n"
   ]
  },
  {
   "cell_type": "code",
   "execution_count": 5,
   "metadata": {},
   "outputs": [
    {
     "data": {
      "text/html": [
       "<img src=\"https://raw.githubusercontent.com/tonybutzer/data-curation/master/odc-opscon/docs/source/assets/lsis_data_flow.PNG\"/>"
      ],
      "text/plain": [
       "<IPython.core.display.Image object>"
      ]
     },
     "execution_count": 5,
     "metadata": {},
     "output_type": "execute_result"
    }
   ],
   "source": [
    "img_url = 'https://raw.githubusercontent.com/tonybutzer/data-curation/master/odc-opscon/docs/source/assets/lsis_data_flow.PNG'\n",
    "from IPython.display import Image\n",
    "Image(url=img_url)"
   ]
  },
  {
   "cell_type": "code",
   "execution_count": 13,
   "metadata": {},
   "outputs": [
    {
     "data": {
      "text/html": [
       "<img src=\"https://raw.githubusercontent.com/tonybutzer/data-curation/master/odc-opscon/docs/source/assets/lsis_data_flow.PNG\" style=\"display:inline;margin:1px\"/><img src=\"https://raw.githubusercontent.com/tonybutzer/data-curation/master/odc-opscon/docs/source/assets/lsds_overview_conops.PNG\" style=\"display:inline;margin:1px\"/><img src=\"https://raw.githubusercontent.com/tonybutzer/enduser/master/assets/veget-cloud-cartoon.PNG\" style=\"display:inline;margin:1px\"/><img src=\"https://raw.githubusercontent.com/tonybutzer/assets/master/00-nodeport-before-service-attach.PNG\" style=\"display:inline;margin:1px\"/><img src=\"https://raw.githubusercontent.com/tonybutzer/assets/master/juphub/node-port-diag.PNG\" style=\"display:inline;margin:1px\"/><img src=\"https://raw.githubusercontent.com/tonybutzer/assets/master/diagrams/africa_scenes_heatmap_zoomed.PNG\" style=\"display:inline;margin:1px\"/><img src=\"https://raw.githubusercontent.com/tonybutzer/assets/master/diagrams/c1l2albers_datalake_almost_indexed.PNG\" style=\"display:inline;margin:1px\"/><img src=\"https://raw.githubusercontent.com/tonybutzer/assets/master/diagrams/c1l2-oli-tirs-albers-data-lake-full.PNG\" style=\"display:inline;margin:1px\"/><img src=\"https://raw.githubusercontent.com/tonybutzer/assets/master/diagrams/africa_scene_depth_heatmap.PNG\" style=\"display:inline;margin:1px\"/><img src=\"https://raw.githubusercontent.com/tonybutzer/assets/master/funny/pipInstallGDAL.PNG\" style=\"display:inline;margin:1px\"/><img src=\"https://raw.githubusercontent.com/tonybutzer/assets/master/k8s/00-nodeport-before-service-attach.PNG\" style=\"display:inline;margin:1px\"/><img src=\"https://raw.githubusercontent.com/tonybutzer/assets/master/k8s/01-nodeports-service-exposes-static-node-level-port-after.PNG\" style=\"display:inline;margin:1px\"/><img src=\"https://raw.githubusercontent.com/tonybutzer/assets/master/et/precipitation_sioux_falls_by_way_xarray.PNG\" style=\"display:inline;margin:1px\"/><img src=\"https://raw.githubusercontent.com/tonybutzer/assets/master/et/delaware-and-east-tiles-ndvi.PNG\" style=\"display:inline;margin:1px\"/><img src=\"https://raw.githubusercontent.com/tonybutzer/assets/master/et/50-cloud-region-cost-variances.PNG\" style=\"display:inline;margin:1px\"/><img src=\"https://raw.githubusercontent.com/tonybutzer/assets/master/et/air_temp_day_1.PNG\" style=\"display:inline;margin:1px\"/><img src=\"https://raw.githubusercontent.com/tonybutzer/assets/master/et/50-cloud-boardman-oregon-aws.PNG\" style=\"display:inline;margin:1px\"/><img src=\"https://raw.githubusercontent.com/tonybutzer/assets/master/et/TIC_the_thing_that_makes_your_internet_suck.PNG\" style=\"display:inline;margin:1px\"/><img src=\"https://raw.githubusercontent.com/tonybutzer/assets/master/et/delaware-row3-geojson.PNG\" style=\"display:inline;margin:1px\"/><img src=\"https://raw.githubusercontent.com/tonybutzer/assets/master/et/50-cloud-data-center-guts.PNG\" style=\"display:inline;margin:1px\"/><img src=\"https://raw.githubusercontent.com/tonybutzer/etscrum/master/00-presentation/ard/mission-impossible.PNG\" style=\"display:inline;margin:1px\"/><img src=\"https://raw.githubusercontent.com/tonybutzer/etscrum/master/00-presentation/ard/drb-welcome-to-thedelaware-river.PNG\" style=\"display:inline;margin:1px\"/><img src=\"https://raw.githubusercontent.com/tonybutzer/etscrum/master/00-presentation/ard/abernathey-is-right.PNG\" style=\"display:inline;margin:1px\"/><img src=\"https://raw.githubusercontent.com/tonybutzer/etscrum/master/00-presentation/ard/eta-2000-2016.PNG\" style=\"display:inline;margin:1px\"/><img src=\"https://raw.githubusercontent.com/tonybutzer/etscrum/master/00-presentation/ard/now-we-need-stac.PNG\" style=\"display:inline;margin:1px\"/><img src=\"https://raw.githubusercontent.com/tonybutzer/etscrum/master/00-presentation/ard/trump.PNG\" style=\"display:inline;margin:1px\"/><img src=\"https://raw.githubusercontent.com/tonybutzer/etscrum/master/00-presentation/ard/renee.PNG\" style=\"display:inline;margin:1px\"/><img src=\"https://raw.githubusercontent.com/tonybutzer/etscrum/master/00-presentation/ard/landcover-over-drb.PNG\" style=\"display:inline;margin:1px\"/><img src=\"https://raw.githubusercontent.com/tonybutzer/etscrum/master/00-presentation/ard/input-outputs-pretty-plots.PNG\" style=\"display:inline;margin:1px\"/><img src=\"https://raw.githubusercontent.com/tonybutzer/etscrum/master/00-presentation/ard/chris-holmes-is-right.PNG\" style=\"display:inline;margin:1px\"/><img src=\"https://raw.githubusercontent.com/tonybutzer/etscrum/master/00-presentation/ard/typical-on-prem-arch.PNG\" style=\"display:inline;margin:1px\"/><img src=\"https://raw.githubusercontent.com/tonybutzer/etscrum/master/00-presentation/ard/cdc6600.PNG\" style=\"display:inline;margin:1px\"/><img src=\"https://raw.githubusercontent.com/tonybutzer/etscrum/master/00-presentation/ard/datawrangling_is_real.PNG\" style=\"display:inline;margin:1px\"/><img src=\"https://raw.githubusercontent.com/tonybutzer/etscrum/master/00-presentation/ard/two-freds.PNG\" style=\"display:inline;margin:1px\"/><img src=\"https://raw.githubusercontent.com/tonybutzer/etscrum/master/00-presentation/ard/model-implementation-cartoon.PNG\" style=\"display:inline;margin:1px\"/><img src=\"https://raw.githubusercontent.com/tonybutzer/etscrum/master/00-presentation/ard/evapotranspiration.PNG\" style=\"display:inline;margin:1px\"/><img src=\"https://raw.githubusercontent.com/tonybutzer/etscrum/master/00-presentation/ard/input-data-list.PNG\" style=\"display:inline;margin:1px\"/><img src=\"https://raw.githubusercontent.com/tonybutzer/etscrum/master/00-presentation/ard/new-arch.PNG\" style=\"display:inline;margin:1px\"/><img src=\"https://raw.githubusercontent.com/tonybutzer/etscrum/master/00-presentation/ard/demo-time.PNG\" style=\"display:inline;margin:1px\"/><img src=\"https://raw.githubusercontent.com/tonybutzer/etscrum/master/00-presentation/ard/drb-commission-economic-impact.PNG\" style=\"display:inline;margin:1px\"/><img src=\"https://raw.githubusercontent.com/tonybutzer/etscrum/master/00-presentation/intro/2020-bites.PNG\" style=\"display:inline;margin:1px\"/><img src=\"https://raw.githubusercontent.com/tonybutzer/etscrum/master/00-presentation/intro/aws-all-services-overwhelm.PNG\" style=\"display:inline;margin:1px\"/><img src=\"https://raw.githubusercontent.com/tonybutzer/etscrum/master/00-presentation/intro/about-partnerships.PNG\" style=\"display:inline;margin:1px\"/><img src=\"https://raw.githubusercontent.com/tonybutzer/etscrum/master/00-presentation/intro/science-matters.PNG\" style=\"display:inline;margin:1px\"/><img src=\"https://raw.githubusercontent.com/tonybutzer/etscrum/master/00-presentation/intro/linux-is-my-female-dog.PNG\" style=\"display:inline;margin:1px\"/><img src=\"https://raw.githubusercontent.com/tonybutzer/etscrum/master/00-presentation/intro/oh-no-multitasking-again.PNG\" style=\"display:inline;margin:1px\"/><img src=\"https://raw.githubusercontent.com/tonybutzer/etscrum/master/00-presentation/intro/stuck-in-the-cloud.PNG\" style=\"display:inline;margin:1px\"/><img src=\"https://raw.githubusercontent.com/tonybutzer/etscrum/master/00-presentation/intro/tan-pangeo.PNG\" style=\"display:inline;margin:1px\"/><img src=\"https://raw.githubusercontent.com/tonybutzer/etscrum/master/00-presentation/intro/sci-tech.PNG\" style=\"display:inline;margin:1px\"/><img src=\"https://raw.githubusercontent.com/tonybutzer/etscrum/master/00-presentation/intro/veg-et-vision.PNG\" style=\"display:inline;margin:1px\"/><img src=\"https://raw.githubusercontent.com/tonybutzer/etscrum/master/00-presentation/intro/about-me-odc-pangeo.PNG\" style=\"display:inline;margin:1px\"/><img src=\"https://raw.githubusercontent.com/tonybutzer/etscrum/master/00-presentation/intro/model-bucket-impl.PNG\" style=\"display:inline;margin:1px\"/><img src=\"https://raw.githubusercontent.com/tonybutzer/etscrum/master/00-presentation/intro/science-outreach.PNG\" style=\"display:inline;margin:1px\"/><img src=\"https://raw.githubusercontent.com/tonybutzer/etscrum/master/00-presentation/intro/about-me.PNG\" style=\"display:inline;margin:1px\"/><img src=\"https://raw.githubusercontent.com/tonybutzer/etscrum/master/00-presentation/assets-1/precipitation_sioux_falls_by_way_xarray.PNG\" style=\"display:inline;margin:1px\"/><img src=\"https://raw.githubusercontent.com/tonybutzer/etscrum/master/00-presentation/assets-1/model-processing-flow.PNG\" style=\"display:inline;margin:1px\"/><img src=\"https://raw.githubusercontent.com/tonybutzer/etscrum/master/00-presentation/assets-1/delaware-and-east-tiles-ndvi.PNG\" style=\"display:inline;margin:1px\"/><img src=\"https://raw.githubusercontent.com/tonybutzer/etscrum/master/00-presentation/assets-1/50-cloud-region-cost-variances.PNG\" style=\"display:inline;margin:1px\"/><img src=\"https://raw.githubusercontent.com/tonybutzer/etscrum/master/00-presentation/assets-1/africa_scene_depth_heatmap.PNG\" style=\"display:inline;margin:1px\"/><img src=\"https://raw.githubusercontent.com/tonybutzer/etscrum/master/00-presentation/assets-1/air_temp_day_1.PNG\" style=\"display:inline;margin:1px\"/><img src=\"https://raw.githubusercontent.com/tonybutzer/etscrum/master/00-presentation/assets-1/50-cloud-boardman-oregon-aws.PNG\" style=\"display:inline;margin:1px\"/><img src=\"https://raw.githubusercontent.com/tonybutzer/etscrum/master/00-presentation/assets-1/africa-costs.PNG\" style=\"display:inline;margin:1px\"/><img src=\"https://raw.githubusercontent.com/tonybutzer/etscrum/master/00-presentation/assets-1/delaware-row3-geojson.PNG\" style=\"display:inline;margin:1px\"/><img src=\"https://raw.githubusercontent.com/tonybutzer/etscrum/master/00-presentation/assets-1/50-cloud-data-center-guts.PNG\" style=\"display:inline;margin:1px\"/><img src=\"https://raw.githubusercontent.com/tonybutzer/etscrum/master/00-presentation/assets-1/steffi_south.PNG\" style=\"display:inline;margin:1px\"/><img src=\"https://raw.githubusercontent.com/tonybutzer/etscrum/master/00-presentation/bonus-slides/case-study-2.PNG\" style=\"display:inline;margin:1px\"/><img src=\"https://raw.githubusercontent.com/tonybutzer/etscrum/master/00-presentation/bonus-slides/pangeo-nasa.PNG\" style=\"display:inline;margin:1px\"/><img src=\"https://raw.githubusercontent.com/tonybutzer/etscrum/master/00-presentation/bonus-slides/et-viewer-non-trap.PNG\" style=\"display:inline;margin:1px\"/><img src=\"https://raw.githubusercontent.com/tonybutzer/etscrum/master/00-presentation/bonus-slides/scientist.PNG\" style=\"display:inline;margin:1px\"/><img src=\"https://raw.githubusercontent.com/tonybutzer/etscrum/master/00-presentation/bonus-slides/t3-ec2-instance.PNG\" style=\"display:inline;margin:1px\"/><img src=\"https://raw.githubusercontent.com/tonybutzer/etscrum/master/00-presentation/bonus-slides/case-study-1.PNG\" style=\"display:inline;margin:1px\"/><img src=\"https://raw.githubusercontent.com/tonybutzer/etscrum/master/00-presentation/bonus-slides/questions-stump-the-geek.PNG\" style=\"display:inline;margin:1px\"/><img src=\"https://raw.githubusercontent.com/tonybutzer/etscrum/master/00-presentation/bonus-slides/et-movie.PNG\" style=\"display:inline;margin:1px\"/><img src=\"https://raw.githubusercontent.com/tonybutzer/etscrum/master/00-presentation/bonus-slides/data-portals-what-we-did-b4.PNG\" style=\"display:inline;margin:1px\"/><img src=\"https://raw.githubusercontent.com/tonybutzer/etscrum/master/00-presentation/bonus-slides/this-open-et.PNG\" style=\"display:inline;margin:1px\"/><img src=\"https://raw.githubusercontent.com/tonybutzer/etscrum/master/00-presentation/bonus-slides/iluv-thecloud.PNG\" style=\"display:inline;margin:1px\"/><img src=\"https://raw.githubusercontent.com/tonybutzer/etscrum/master/00-presentation/bonus-slides/devops-and-data-ops.PNG\" style=\"display:inline;margin:1px\"/><img src=\"https://raw.githubusercontent.com/tonybutzer/etscrum/master/00-presentation/bonus-slides/cloud-platform-bakeoff.PNG\" style=\"display:inline;margin:1px\"/><img src=\"https://raw.githubusercontent.com/tonybutzer/etscrum/master/00-presentation/bonus-slides/future-pangeo-move-the-scientist-to the data.PNG\" style=\"display:inline;margin:1px\"/><img src=\"https://raw.githubusercontent.com/tonybutzer/etscrum/master/00-presentation/bonus-slides/map-reduce.PNG\" style=\"display:inline;margin:1px\"/><img src=\"https://raw.githubusercontent.com/tonybutzer/etscrum/master/00-presentation/bonus-slides/data-lake.PNG\" style=\"display:inline;margin:1px\"/><img src=\"https://raw.githubusercontent.com/tonybutzer/etviz/master/3-panel-dash-boards/99-limbo/b.jpg\" style=\"display:inline;margin:1px\"/><img src=\"https://raw.githubusercontent.com/tonybutzer/etviz/master/3-panel-dash-boards/99-limbo/a.jpg\" style=\"display:inline;margin:1px\"/><img src=\"https://raw.githubusercontent.com/tonybutzer/data-curation/master/dataDog/eng/assets/chew.jpg\" style=\"display:inline;margin:1px\"/><img src=\"https://raw.githubusercontent.com/tonybutzer/data-curation/master/dataDog/eng/assets/fernson.jpg\" style=\"display:inline;margin:1px\"/><img src=\"https://raw.githubusercontent.com/tonybutzer/data-curation/master/dataDog/eng/assets/charlie.jpg\" style=\"display:inline;margin:1px\"/><img src=\"https://raw.githubusercontent.com/tonybutzer/data-curation/master/dataDog/eng/assets/nineball.jpg\" style=\"display:inline;margin:1px\"/><img src=\"https://raw.githubusercontent.com/tonybutzer/data-curation/master/dataDog/eng/assets/dispose.jpg\" style=\"display:inline;margin:1px\"/><img src=\"https://raw.githubusercontent.com/tonybutzer/data-curation/master/dataDog/eng/assets/golden-retriever-picture.jpg\" style=\"display:inline;margin:1px\"/><img src=\"https://raw.githubusercontent.com/tonybutzer/data-curation/master/dataDog/eng/assets/police.jpg\" style=\"display:inline;margin:1px\"/><img src=\"https://raw.githubusercontent.com/tonybutzer/data-curation/master/index/anotebooks/assets/easter_bilby.jpg\" style=\"display:inline;margin:1px\"/><img src=\"https://raw.githubusercontent.com/tonybutzer/assets/master/k8s/tall_milkshake1.jpg\" style=\"display:inline;margin:1px\"/><img src=\"https://raw.githubusercontent.com/tonybutzer/assets/master/et/row2.jpg\" style=\"display:inline;margin:1px\"/><img src=\"https://raw.githubusercontent.com/tonybutzer/assets/master/et/Rich_Signell_s.jpg\" style=\"display:inline;margin:1px\"/><img src=\"https://raw.githubusercontent.com/tonybutzer/assets/master/et/row0.jpg\" style=\"display:inline;margin:1px\"/><img src=\"https://raw.githubusercontent.com/tonybutzer/assets/master/et/imgo.jpg\" style=\"display:inline;margin:1px\"/><img src=\"https://raw.githubusercontent.com/tonybutzer/assets/master/et/great-skew.jpg\" style=\"display:inline;margin:1px\"/><img src=\"https://raw.githubusercontent.com/tonybutzer/etscrum/master/00-presentation/intro/Scale-Man-2.jpg\" style=\"display:inline;margin:1px\"/><img src=\"https://raw.githubusercontent.com/tonybutzer/etscrum/master/00-presentation/assets-1/row2.jpg\" style=\"display:inline;margin:1px\"/><img src=\"https://raw.githubusercontent.com/tonybutzer/etscrum/master/00-presentation/assets-1/Rich_Signell_s.jpg\" style=\"display:inline;margin:1px\"/><img src=\"https://raw.githubusercontent.com/tonybutzer/etscrum/master/00-presentation/assets-1/row0.jpg\" style=\"display:inline;margin:1px\"/><img src=\"https://raw.githubusercontent.com/tonybutzer/etscrum/master/00-presentation/assets-1/imgo.jpg\" style=\"display:inline;margin:1px\"/><img src=\"https://raw.githubusercontent.com/tonybutzer/etscrum/master/00-presentation/assets-1/great-skew.jpg\" style=\"display:inline;margin:1px\"/><img src=\"https://raw.githubusercontent.com/tonybutzer/npset/master/20-00-data-wrangle-MODIS-NDVI/99-cogs/mybrowse.jpg\" style=\"display:inline;margin:1px\"/><img src=\"https://raw.githubusercontent.com/tonybutzer/odc-lcmap/master/anotebooks/asset/map-reduce.jpg\" style=\"display:inline;margin:1px\"/><img src=\"https://raw.githubusercontent.com/tonybutzer//master\" style=\"display:inline;margin:1px\"/><img src=\"https://raw.githubusercontent.com/tonybutzer//master\" style=\"display:inline;margin:1px\"/>"
      ],
      "text/plain": [
       "<IPython.core.display.HTML object>"
      ]
     },
     "metadata": {},
     "output_type": "display_data"
    }
   ],
   "source": [
    "from IPython.display import display, HTML\n",
    "def make_html(image):\n",
    "     return '<img src=\"{}\" style=\"display:inline;margin:1px\"/>'.format(image)\n",
    "\n",
    "#print(image_list)\n",
    "my_html=''\n",
    "for url in image_list:\n",
    "    my_html = my_html + make_html(url)\n",
    "\n",
    "display(HTML(my_html))\n",
    "\n",
    "#display(HTML(''.join(make_html(x)) for x in image_list))"
   ]
  },
  {
   "cell_type": "code",
   "execution_count": 12,
   "metadata": {},
   "outputs": [
    {
     "data": {
      "text/plain": [
       "'<img src=\"https://raw.githubusercontent.com/tonybutzer/data-curation/master/odc-opscon/docs/source/assets/lsis_data_flow.PNG\" style=\"display:inline;margin:1px\"/><img src=\"https://raw.githubusercontent.com/tonybutzer/data-curation/master/odc-opscon/docs/source/assets/lsds_overview_conops.PNG\" style=\"display:inline;margin:1px\"/><img src=\"https://raw.githubusercontent.com/tonybutzer/enduser/master/assets/veget-cloud-cartoon.PNG\" style=\"display:inline;margin:1px\"/><img src=\"https://raw.githubusercontent.com/tonybutzer/assets/master/00-nodeport-before-service-attach.PNG\" style=\"display:inline;margin:1px\"/><img src=\"https://raw.githubusercontent.com/tonybutzer/assets/master/juphub/node-port-diag.PNG\" style=\"display:inline;margin:1px\"/><img src=\"https://raw.githubusercontent.com/tonybutzer/assets/master/diagrams/africa_scenes_heatmap_zoomed.PNG\" style=\"display:inline;margin:1px\"/><img src=\"https://raw.githubusercontent.com/tonybutzer/assets/master/diagrams/c1l2albers_datalake_almost_indexed.PNG\" style=\"display:inline;margin:1px\"/><img src=\"https://raw.githubusercontent.com/tonybutzer/assets/master/diagrams/c1l2-oli-tirs-albers-data-lake-full.PNG\" style=\"display:inline;margin:1px\"/><img src=\"https://raw.githubusercontent.com/tonybutzer/assets/master/diagrams/africa_scene_depth_heatmap.PNG\" style=\"display:inline;margin:1px\"/><img src=\"https://raw.githubusercontent.com/tonybutzer/assets/master/funny/pipInstallGDAL.PNG\" style=\"display:inline;margin:1px\"/><img src=\"https://raw.githubusercontent.com/tonybutzer/assets/master/k8s/00-nodeport-before-service-attach.PNG\" style=\"display:inline;margin:1px\"/><img src=\"https://raw.githubusercontent.com/tonybutzer/assets/master/k8s/01-nodeports-service-exposes-static-node-level-port-after.PNG\" style=\"display:inline;margin:1px\"/><img src=\"https://raw.githubusercontent.com/tonybutzer/assets/master/et/precipitation_sioux_falls_by_way_xarray.PNG\" style=\"display:inline;margin:1px\"/><img src=\"https://raw.githubusercontent.com/tonybutzer/assets/master/et/delaware-and-east-tiles-ndvi.PNG\" style=\"display:inline;margin:1px\"/><img src=\"https://raw.githubusercontent.com/tonybutzer/assets/master/et/50-cloud-region-cost-variances.PNG\" style=\"display:inline;margin:1px\"/><img src=\"https://raw.githubusercontent.com/tonybutzer/assets/master/et/air_temp_day_1.PNG\" style=\"display:inline;margin:1px\"/><img src=\"https://raw.githubusercontent.com/tonybutzer/assets/master/et/50-cloud-boardman-oregon-aws.PNG\" style=\"display:inline;margin:1px\"/><img src=\"https://raw.githubusercontent.com/tonybutzer/assets/master/et/TIC_the_thing_that_makes_your_internet_suck.PNG\" style=\"display:inline;margin:1px\"/><img src=\"https://raw.githubusercontent.com/tonybutzer/assets/master/et/delaware-row3-geojson.PNG\" style=\"display:inline;margin:1px\"/><img src=\"https://raw.githubusercontent.com/tonybutzer/assets/master/et/50-cloud-data-center-guts.PNG\" style=\"display:inline;margin:1px\"/><img src=\"https://raw.githubusercontent.com/tonybutzer/etscrum/master/00-presentation/ard/mission-impossible.PNG\" style=\"display:inline;margin:1px\"/><img src=\"https://raw.githubusercontent.com/tonybutzer/etscrum/master/00-presentation/ard/drb-welcome-to-thedelaware-river.PNG\" style=\"display:inline;margin:1px\"/><img src=\"https://raw.githubusercontent.com/tonybutzer/etscrum/master/00-presentation/ard/abernathey-is-right.PNG\" style=\"display:inline;margin:1px\"/><img src=\"https://raw.githubusercontent.com/tonybutzer/etscrum/master/00-presentation/ard/eta-2000-2016.PNG\" style=\"display:inline;margin:1px\"/><img src=\"https://raw.githubusercontent.com/tonybutzer/etscrum/master/00-presentation/ard/now-we-need-stac.PNG\" style=\"display:inline;margin:1px\"/><img src=\"https://raw.githubusercontent.com/tonybutzer/etscrum/master/00-presentation/ard/trump.PNG\" style=\"display:inline;margin:1px\"/><img src=\"https://raw.githubusercontent.com/tonybutzer/etscrum/master/00-presentation/ard/renee.PNG\" style=\"display:inline;margin:1px\"/><img src=\"https://raw.githubusercontent.com/tonybutzer/etscrum/master/00-presentation/ard/landcover-over-drb.PNG\" style=\"display:inline;margin:1px\"/><img src=\"https://raw.githubusercontent.com/tonybutzer/etscrum/master/00-presentation/ard/input-outputs-pretty-plots.PNG\" style=\"display:inline;margin:1px\"/><img src=\"https://raw.githubusercontent.com/tonybutzer/etscrum/master/00-presentation/ard/chris-holmes-is-right.PNG\" style=\"display:inline;margin:1px\"/><img src=\"https://raw.githubusercontent.com/tonybutzer/etscrum/master/00-presentation/ard/typical-on-prem-arch.PNG\" style=\"display:inline;margin:1px\"/><img src=\"https://raw.githubusercontent.com/tonybutzer/etscrum/master/00-presentation/ard/cdc6600.PNG\" style=\"display:inline;margin:1px\"/><img src=\"https://raw.githubusercontent.com/tonybutzer/etscrum/master/00-presentation/ard/datawrangling_is_real.PNG\" style=\"display:inline;margin:1px\"/><img src=\"https://raw.githubusercontent.com/tonybutzer/etscrum/master/00-presentation/ard/two-freds.PNG\" style=\"display:inline;margin:1px\"/><img src=\"https://raw.githubusercontent.com/tonybutzer/etscrum/master/00-presentation/ard/model-implementation-cartoon.PNG\" style=\"display:inline;margin:1px\"/><img src=\"https://raw.githubusercontent.com/tonybutzer/etscrum/master/00-presentation/ard/evapotranspiration.PNG\" style=\"display:inline;margin:1px\"/><img src=\"https://raw.githubusercontent.com/tonybutzer/etscrum/master/00-presentation/ard/input-data-list.PNG\" style=\"display:inline;margin:1px\"/><img src=\"https://raw.githubusercontent.com/tonybutzer/etscrum/master/00-presentation/ard/new-arch.PNG\" style=\"display:inline;margin:1px\"/><img src=\"https://raw.githubusercontent.com/tonybutzer/etscrum/master/00-presentation/ard/demo-time.PNG\" style=\"display:inline;margin:1px\"/><img src=\"https://raw.githubusercontent.com/tonybutzer/etscrum/master/00-presentation/ard/drb-commission-economic-impact.PNG\" style=\"display:inline;margin:1px\"/><img src=\"https://raw.githubusercontent.com/tonybutzer/etscrum/master/00-presentation/intro/2020-bites.PNG\" style=\"display:inline;margin:1px\"/><img src=\"https://raw.githubusercontent.com/tonybutzer/etscrum/master/00-presentation/intro/aws-all-services-overwhelm.PNG\" style=\"display:inline;margin:1px\"/><img src=\"https://raw.githubusercontent.com/tonybutzer/etscrum/master/00-presentation/intro/about-partnerships.PNG\" style=\"display:inline;margin:1px\"/><img src=\"https://raw.githubusercontent.com/tonybutzer/etscrum/master/00-presentation/intro/science-matters.PNG\" style=\"display:inline;margin:1px\"/><img src=\"https://raw.githubusercontent.com/tonybutzer/etscrum/master/00-presentation/intro/linux-is-my-female-dog.PNG\" style=\"display:inline;margin:1px\"/><img src=\"https://raw.githubusercontent.com/tonybutzer/etscrum/master/00-presentation/intro/oh-no-multitasking-again.PNG\" style=\"display:inline;margin:1px\"/><img src=\"https://raw.githubusercontent.com/tonybutzer/etscrum/master/00-presentation/intro/stuck-in-the-cloud.PNG\" style=\"display:inline;margin:1px\"/><img src=\"https://raw.githubusercontent.com/tonybutzer/etscrum/master/00-presentation/intro/tan-pangeo.PNG\" style=\"display:inline;margin:1px\"/><img src=\"https://raw.githubusercontent.com/tonybutzer/etscrum/master/00-presentation/intro/sci-tech.PNG\" style=\"display:inline;margin:1px\"/><img src=\"https://raw.githubusercontent.com/tonybutzer/etscrum/master/00-presentation/intro/veg-et-vision.PNG\" style=\"display:inline;margin:1px\"/><img src=\"https://raw.githubusercontent.com/tonybutzer/etscrum/master/00-presentation/intro/about-me-odc-pangeo.PNG\" style=\"display:inline;margin:1px\"/><img src=\"https://raw.githubusercontent.com/tonybutzer/etscrum/master/00-presentation/intro/model-bucket-impl.PNG\" style=\"display:inline;margin:1px\"/><img src=\"https://raw.githubusercontent.com/tonybutzer/etscrum/master/00-presentation/intro/science-outreach.PNG\" style=\"display:inline;margin:1px\"/><img src=\"https://raw.githubusercontent.com/tonybutzer/etscrum/master/00-presentation/intro/about-me.PNG\" style=\"display:inline;margin:1px\"/><img src=\"https://raw.githubusercontent.com/tonybutzer/etscrum/master/00-presentation/assets-1/precipitation_sioux_falls_by_way_xarray.PNG\" style=\"display:inline;margin:1px\"/><img src=\"https://raw.githubusercontent.com/tonybutzer/etscrum/master/00-presentation/assets-1/model-processing-flow.PNG\" style=\"display:inline;margin:1px\"/><img src=\"https://raw.githubusercontent.com/tonybutzer/etscrum/master/00-presentation/assets-1/delaware-and-east-tiles-ndvi.PNG\" style=\"display:inline;margin:1px\"/><img src=\"https://raw.githubusercontent.com/tonybutzer/etscrum/master/00-presentation/assets-1/50-cloud-region-cost-variances.PNG\" style=\"display:inline;margin:1px\"/><img src=\"https://raw.githubusercontent.com/tonybutzer/etscrum/master/00-presentation/assets-1/africa_scene_depth_heatmap.PNG\" style=\"display:inline;margin:1px\"/><img src=\"https://raw.githubusercontent.com/tonybutzer/etscrum/master/00-presentation/assets-1/air_temp_day_1.PNG\" style=\"display:inline;margin:1px\"/><img src=\"https://raw.githubusercontent.com/tonybutzer/etscrum/master/00-presentation/assets-1/50-cloud-boardman-oregon-aws.PNG\" style=\"display:inline;margin:1px\"/><img src=\"https://raw.githubusercontent.com/tonybutzer/etscrum/master/00-presentation/assets-1/africa-costs.PNG\" style=\"display:inline;margin:1px\"/><img src=\"https://raw.githubusercontent.com/tonybutzer/etscrum/master/00-presentation/assets-1/delaware-row3-geojson.PNG\" style=\"display:inline;margin:1px\"/><img src=\"https://raw.githubusercontent.com/tonybutzer/etscrum/master/00-presentation/assets-1/50-cloud-data-center-guts.PNG\" style=\"display:inline;margin:1px\"/><img src=\"https://raw.githubusercontent.com/tonybutzer/etscrum/master/00-presentation/assets-1/steffi_south.PNG\" style=\"display:inline;margin:1px\"/><img src=\"https://raw.githubusercontent.com/tonybutzer/etscrum/master/00-presentation/bonus-slides/case-study-2.PNG\" style=\"display:inline;margin:1px\"/><img src=\"https://raw.githubusercontent.com/tonybutzer/etscrum/master/00-presentation/bonus-slides/pangeo-nasa.PNG\" style=\"display:inline;margin:1px\"/><img src=\"https://raw.githubusercontent.com/tonybutzer/etscrum/master/00-presentation/bonus-slides/et-viewer-non-trap.PNG\" style=\"display:inline;margin:1px\"/><img src=\"https://raw.githubusercontent.com/tonybutzer/etscrum/master/00-presentation/bonus-slides/scientist.PNG\" style=\"display:inline;margin:1px\"/><img src=\"https://raw.githubusercontent.com/tonybutzer/etscrum/master/00-presentation/bonus-slides/t3-ec2-instance.PNG\" style=\"display:inline;margin:1px\"/><img src=\"https://raw.githubusercontent.com/tonybutzer/etscrum/master/00-presentation/bonus-slides/case-study-1.PNG\" style=\"display:inline;margin:1px\"/><img src=\"https://raw.githubusercontent.com/tonybutzer/etscrum/master/00-presentation/bonus-slides/questions-stump-the-geek.PNG\" style=\"display:inline;margin:1px\"/><img src=\"https://raw.githubusercontent.com/tonybutzer/etscrum/master/00-presentation/bonus-slides/et-movie.PNG\" style=\"display:inline;margin:1px\"/><img src=\"https://raw.githubusercontent.com/tonybutzer/etscrum/master/00-presentation/bonus-slides/data-portals-what-we-did-b4.PNG\" style=\"display:inline;margin:1px\"/><img src=\"https://raw.githubusercontent.com/tonybutzer/etscrum/master/00-presentation/bonus-slides/this-open-et.PNG\" style=\"display:inline;margin:1px\"/><img src=\"https://raw.githubusercontent.com/tonybutzer/etscrum/master/00-presentation/bonus-slides/iluv-thecloud.PNG\" style=\"display:inline;margin:1px\"/><img src=\"https://raw.githubusercontent.com/tonybutzer/etscrum/master/00-presentation/bonus-slides/devops-and-data-ops.PNG\" style=\"display:inline;margin:1px\"/><img src=\"https://raw.githubusercontent.com/tonybutzer/etscrum/master/00-presentation/bonus-slides/cloud-platform-bakeoff.PNG\" style=\"display:inline;margin:1px\"/><img src=\"https://raw.githubusercontent.com/tonybutzer/etscrum/master/00-presentation/bonus-slides/future-pangeo-move-the-scientist-to the data.PNG\" style=\"display:inline;margin:1px\"/><img src=\"https://raw.githubusercontent.com/tonybutzer/etscrum/master/00-presentation/bonus-slides/map-reduce.PNG\" style=\"display:inline;margin:1px\"/><img src=\"https://raw.githubusercontent.com/tonybutzer/etscrum/master/00-presentation/bonus-slides/data-lake.PNG\" style=\"display:inline;margin:1px\"/><img src=\"https://raw.githubusercontent.com/tonybutzer/etviz/master/3-panel-dash-boards/99-limbo/b.jpg\" style=\"display:inline;margin:1px\"/><img src=\"https://raw.githubusercontent.com/tonybutzer/etviz/master/3-panel-dash-boards/99-limbo/a.jpg\" style=\"display:inline;margin:1px\"/><img src=\"https://raw.githubusercontent.com/tonybutzer/data-curation/master/dataDog/eng/assets/chew.jpg\" style=\"display:inline;margin:1px\"/><img src=\"https://raw.githubusercontent.com/tonybutzer/data-curation/master/dataDog/eng/assets/fernson.jpg\" style=\"display:inline;margin:1px\"/><img src=\"https://raw.githubusercontent.com/tonybutzer/data-curation/master/dataDog/eng/assets/charlie.jpg\" style=\"display:inline;margin:1px\"/><img src=\"https://raw.githubusercontent.com/tonybutzer/data-curation/master/dataDog/eng/assets/nineball.jpg\" style=\"display:inline;margin:1px\"/><img src=\"https://raw.githubusercontent.com/tonybutzer/data-curation/master/dataDog/eng/assets/dispose.jpg\" style=\"display:inline;margin:1px\"/><img src=\"https://raw.githubusercontent.com/tonybutzer/data-curation/master/dataDog/eng/assets/golden-retriever-picture.jpg\" style=\"display:inline;margin:1px\"/><img src=\"https://raw.githubusercontent.com/tonybutzer/data-curation/master/dataDog/eng/assets/police.jpg\" style=\"display:inline;margin:1px\"/><img src=\"https://raw.githubusercontent.com/tonybutzer/data-curation/master/index/anotebooks/assets/easter_bilby.jpg\" style=\"display:inline;margin:1px\"/><img src=\"https://raw.githubusercontent.com/tonybutzer/assets/master/k8s/tall_milkshake1.jpg\" style=\"display:inline;margin:1px\"/><img src=\"https://raw.githubusercontent.com/tonybutzer/assets/master/et/row2.jpg\" style=\"display:inline;margin:1px\"/><img src=\"https://raw.githubusercontent.com/tonybutzer/assets/master/et/Rich_Signell_s.jpg\" style=\"display:inline;margin:1px\"/><img src=\"https://raw.githubusercontent.com/tonybutzer/assets/master/et/row0.jpg\" style=\"display:inline;margin:1px\"/><img src=\"https://raw.githubusercontent.com/tonybutzer/assets/master/et/imgo.jpg\" style=\"display:inline;margin:1px\"/><img src=\"https://raw.githubusercontent.com/tonybutzer/assets/master/et/great-skew.jpg\" style=\"display:inline;margin:1px\"/><img src=\"https://raw.githubusercontent.com/tonybutzer/etscrum/master/00-presentation/intro/Scale-Man-2.jpg\" style=\"display:inline;margin:1px\"/><img src=\"https://raw.githubusercontent.com/tonybutzer/etscrum/master/00-presentation/assets-1/row2.jpg\" style=\"display:inline;margin:1px\"/><img src=\"https://raw.githubusercontent.com/tonybutzer/etscrum/master/00-presentation/assets-1/Rich_Signell_s.jpg\" style=\"display:inline;margin:1px\"/><img src=\"https://raw.githubusercontent.com/tonybutzer/etscrum/master/00-presentation/assets-1/row0.jpg\" style=\"display:inline;margin:1px\"/><img src=\"https://raw.githubusercontent.com/tonybutzer/etscrum/master/00-presentation/assets-1/imgo.jpg\" style=\"display:inline;margin:1px\"/><img src=\"https://raw.githubusercontent.com/tonybutzer/etscrum/master/00-presentation/assets-1/great-skew.jpg\" style=\"display:inline;margin:1px\"/><img src=\"https://raw.githubusercontent.com/tonybutzer/npset/master/20-00-data-wrangle-MODIS-NDVI/99-cogs/mybrowse.jpg\" style=\"display:inline;margin:1px\"/><img src=\"https://raw.githubusercontent.com/tonybutzer/odc-lcmap/master/anotebooks/asset/map-reduce.jpg\" style=\"display:inline;margin:1px\"/><img src=\"https://raw.githubusercontent.com/tonybutzer//master\" style=\"display:inline;margin:1px\"/><img src=\"https://raw.githubusercontent.com/tonybutzer//master\" style=\"display:inline;margin:1px\"/>'"
      ]
     },
     "execution_count": 12,
     "metadata": {},
     "output_type": "execute_result"
    }
   ],
   "source": [
    "my_html"
   ]
  },
  {
   "cell_type": "code",
   "execution_count": 14,
   "metadata": {},
   "outputs": [],
   "source": [
    "#https://github.com/tonybutzer/etscrum/raw/main/00-presentation/ard/abernathey-is-right.PNG\n",
    "    "
   ]
  },
  {
   "cell_type": "code",
   "execution_count": 15,
   "metadata": {},
   "outputs": [
    {
     "name": "stdout",
     "output_type": "stream",
     "text": [
      "https://github.com/tonybutzer/data-curation/raw/main/odc-opscon/docs/source/assets/lsis_data_flow.PNG\n",
      "https://github.com/tonybutzer/data-curation/raw/main/odc-opscon/docs/source/assets/lsds_overview_conops.PNG\n",
      "https://github.com/tonybutzer/enduser/raw/main/assets/veget-cloud-cartoon.PNG\n",
      "https://github.com/tonybutzer/assets/raw/main/00-nodeport-before-service-attach.PNG\n",
      "https://github.com/tonybutzer/assets/raw/main/juphub/node-port-diag.PNG\n",
      "https://github.com/tonybutzer/assets/raw/main/diagrams/africa_scenes_heatmap_zoomed.PNG\n",
      "https://github.com/tonybutzer/assets/raw/main/diagrams/c1l2albers_datalake_almost_indexed.PNG\n",
      "https://github.com/tonybutzer/assets/raw/main/diagrams/c1l2-oli-tirs-albers-data-lake-full.PNG\n",
      "https://github.com/tonybutzer/assets/raw/main/diagrams/africa_scene_depth_heatmap.PNG\n",
      "https://github.com/tonybutzer/assets/raw/main/funny/pipInstallGDAL.PNG\n",
      "https://github.com/tonybutzer/assets/raw/main/k8s/00-nodeport-before-service-attach.PNG\n",
      "https://github.com/tonybutzer/assets/raw/main/k8s/01-nodeports-service-exposes-static-node-level-port-after.PNG\n",
      "https://github.com/tonybutzer/assets/raw/main/et/precipitation_sioux_falls_by_way_xarray.PNG\n",
      "https://github.com/tonybutzer/assets/raw/main/et/delaware-and-east-tiles-ndvi.PNG\n",
      "https://github.com/tonybutzer/assets/raw/main/et/50-cloud-region-cost-variances.PNG\n",
      "https://github.com/tonybutzer/assets/raw/main/et/air_temp_day_1.PNG\n",
      "https://github.com/tonybutzer/assets/raw/main/et/50-cloud-boardman-oregon-aws.PNG\n",
      "https://github.com/tonybutzer/assets/raw/main/et/TIC_the_thing_that_makes_your_internet_suck.PNG\n",
      "https://github.com/tonybutzer/assets/raw/main/et/delaware-row3-geojson.PNG\n",
      "https://github.com/tonybutzer/assets/raw/main/et/50-cloud-data-center-guts.PNG\n",
      "https://github.com/tonybutzer/etscrum/raw/main/00-presentation/ard/mission-impossible.PNG\n",
      "https://github.com/tonybutzer/etscrum/raw/main/00-presentation/ard/drb-welcome-to-thedelaware-river.PNG\n",
      "https://github.com/tonybutzer/etscrum/raw/main/00-presentation/ard/abernathey-is-right.PNG\n",
      "https://github.com/tonybutzer/etscrum/raw/main/00-presentation/ard/eta-2000-2016.PNG\n",
      "https://github.com/tonybutzer/etscrum/raw/main/00-presentation/ard/now-we-need-stac.PNG\n",
      "https://github.com/tonybutzer/etscrum/raw/main/00-presentation/ard/trump.PNG\n",
      "https://github.com/tonybutzer/etscrum/raw/main/00-presentation/ard/renee.PNG\n",
      "https://github.com/tonybutzer/etscrum/raw/main/00-presentation/ard/landcover-over-drb.PNG\n",
      "https://github.com/tonybutzer/etscrum/raw/main/00-presentation/ard/input-outputs-pretty-plots.PNG\n",
      "https://github.com/tonybutzer/etscrum/raw/main/00-presentation/ard/chris-holmes-is-right.PNG\n",
      "https://github.com/tonybutzer/etscrum/raw/main/00-presentation/ard/typical-on-prem-arch.PNG\n",
      "https://github.com/tonybutzer/etscrum/raw/main/00-presentation/ard/cdc6600.PNG\n",
      "https://github.com/tonybutzer/etscrum/raw/main/00-presentation/ard/datawrangling_is_real.PNG\n",
      "https://github.com/tonybutzer/etscrum/raw/main/00-presentation/ard/two-freds.PNG\n",
      "https://github.com/tonybutzer/etscrum/raw/main/00-presentation/ard/model-implementation-cartoon.PNG\n",
      "https://github.com/tonybutzer/etscrum/raw/main/00-presentation/ard/evapotranspiration.PNG\n",
      "https://github.com/tonybutzer/etscrum/raw/main/00-presentation/ard/input-data-list.PNG\n",
      "https://github.com/tonybutzer/etscrum/raw/main/00-presentation/ard/new-arch.PNG\n",
      "https://github.com/tonybutzer/etscrum/raw/main/00-presentation/ard/demo-time.PNG\n",
      "https://github.com/tonybutzer/etscrum/raw/main/00-presentation/ard/drb-commission-economic-impact.PNG\n",
      "https://github.com/tonybutzer/etscrum/raw/main/00-presentation/intro/2020-bites.PNG\n",
      "https://github.com/tonybutzer/etscrum/raw/main/00-presentation/intro/aws-all-services-overwhelm.PNG\n",
      "https://github.com/tonybutzer/etscrum/raw/main/00-presentation/intro/about-partnerships.PNG\n",
      "https://github.com/tonybutzer/etscrum/raw/main/00-presentation/intro/science-matters.PNG\n",
      "https://github.com/tonybutzer/etscrum/raw/main/00-presentation/intro/linux-is-my-female-dog.PNG\n",
      "https://github.com/tonybutzer/etscrum/raw/main/00-presentation/intro/oh-no-multitasking-again.PNG\n",
      "https://github.com/tonybutzer/etscrum/raw/main/00-presentation/intro/stuck-in-the-cloud.PNG\n",
      "https://github.com/tonybutzer/etscrum/raw/main/00-presentation/intro/tan-pangeo.PNG\n",
      "https://github.com/tonybutzer/etscrum/raw/main/00-presentation/intro/sci-tech.PNG\n",
      "https://github.com/tonybutzer/etscrum/raw/main/00-presentation/intro/veg-et-vision.PNG\n",
      "https://github.com/tonybutzer/etscrum/raw/main/00-presentation/intro/about-me-odc-pangeo.PNG\n",
      "https://github.com/tonybutzer/etscrum/raw/main/00-presentation/intro/model-bucket-impl.PNG\n",
      "https://github.com/tonybutzer/etscrum/raw/main/00-presentation/intro/science-outreach.PNG\n",
      "https://github.com/tonybutzer/etscrum/raw/main/00-presentation/intro/about-me.PNG\n",
      "https://github.com/tonybutzer/etscrum/raw/main/00-presentation/assets-1/precipitation_sioux_falls_by_way_xarray.PNG\n",
      "https://github.com/tonybutzer/etscrum/raw/main/00-presentation/assets-1/model-processing-flow.PNG\n",
      "https://github.com/tonybutzer/etscrum/raw/main/00-presentation/assets-1/delaware-and-east-tiles-ndvi.PNG\n",
      "https://github.com/tonybutzer/etscrum/raw/main/00-presentation/assets-1/50-cloud-region-cost-variances.PNG\n",
      "https://github.com/tonybutzer/etscrum/raw/main/00-presentation/assets-1/africa_scene_depth_heatmap.PNG\n",
      "https://github.com/tonybutzer/etscrum/raw/main/00-presentation/assets-1/air_temp_day_1.PNG\n",
      "https://github.com/tonybutzer/etscrum/raw/main/00-presentation/assets-1/50-cloud-boardman-oregon-aws.PNG\n",
      "https://github.com/tonybutzer/etscrum/raw/main/00-presentation/assets-1/africa-costs.PNG\n",
      "https://github.com/tonybutzer/etscrum/raw/main/00-presentation/assets-1/delaware-row3-geojson.PNG\n",
      "https://github.com/tonybutzer/etscrum/raw/main/00-presentation/assets-1/50-cloud-data-center-guts.PNG\n",
      "https://github.com/tonybutzer/etscrum/raw/main/00-presentation/assets-1/steffi_south.PNG\n",
      "https://github.com/tonybutzer/etscrum/raw/main/00-presentation/bonus-slides/case-study-2.PNG\n",
      "https://github.com/tonybutzer/etscrum/raw/main/00-presentation/bonus-slides/pangeo-nasa.PNG\n",
      "https://github.com/tonybutzer/etscrum/raw/main/00-presentation/bonus-slides/et-viewer-non-trap.PNG\n",
      "https://github.com/tonybutzer/etscrum/raw/main/00-presentation/bonus-slides/scientist.PNG\n",
      "https://github.com/tonybutzer/etscrum/raw/main/00-presentation/bonus-slides/t3-ec2-instance.PNG\n",
      "https://github.com/tonybutzer/etscrum/raw/main/00-presentation/bonus-slides/case-study-1.PNG\n",
      "https://github.com/tonybutzer/etscrum/raw/main/00-presentation/bonus-slides/questions-stump-the-geek.PNG\n",
      "https://github.com/tonybutzer/etscrum/raw/main/00-presentation/bonus-slides/et-movie.PNG\n",
      "https://github.com/tonybutzer/etscrum/raw/main/00-presentation/bonus-slides/data-portals-what-we-did-b4.PNG\n",
      "https://github.com/tonybutzer/etscrum/raw/main/00-presentation/bonus-slides/this-open-et.PNG\n",
      "https://github.com/tonybutzer/etscrum/raw/main/00-presentation/bonus-slides/iluv-thecloud.PNG\n",
      "https://github.com/tonybutzer/etscrum/raw/main/00-presentation/bonus-slides/devops-and-data-ops.PNG\n",
      "https://github.com/tonybutzer/etscrum/raw/main/00-presentation/bonus-slides/cloud-platform-bakeoff.PNG\n",
      "https://github.com/tonybutzer/etscrum/raw/main/00-presentation/bonus-slides/future-pangeo-move-the-scientist-to the data.PNG\n",
      "https://github.com/tonybutzer/etscrum/raw/main/00-presentation/bonus-slides/map-reduce.PNG\n",
      "https://github.com/tonybutzer/etscrum/raw/main/00-presentation/bonus-slides/data-lake.PNG\n",
      "https://github.com/tonybutzer/etviz/raw/main/3-panel-dash-boards/99-limbo/b.jpg\n",
      "https://github.com/tonybutzer/etviz/raw/main/3-panel-dash-boards/99-limbo/a.jpg\n",
      "https://github.com/tonybutzer/data-curation/raw/main/dataDog/eng/assets/chew.jpg\n",
      "https://github.com/tonybutzer/data-curation/raw/main/dataDog/eng/assets/fernson.jpg\n",
      "https://github.com/tonybutzer/data-curation/raw/main/dataDog/eng/assets/charlie.jpg\n",
      "https://github.com/tonybutzer/data-curation/raw/main/dataDog/eng/assets/nineball.jpg\n",
      "https://github.com/tonybutzer/data-curation/raw/main/dataDog/eng/assets/dispose.jpg\n",
      "https://github.com/tonybutzer/data-curation/raw/main/dataDog/eng/assets/golden-retriever-picture.jpg\n",
      "https://github.com/tonybutzer/data-curation/raw/main/dataDog/eng/assets/police.jpg\n",
      "https://github.com/tonybutzer/data-curation/raw/main/index/anotebooks/assets/easter_bilby.jpg\n",
      "https://github.com/tonybutzer/assets/raw/main/k8s/tall_milkshake1.jpg\n",
      "https://github.com/tonybutzer/assets/raw/main/et/row2.jpg\n",
      "https://github.com/tonybutzer/assets/raw/main/et/Rich_Signell_s.jpg\n",
      "https://github.com/tonybutzer/assets/raw/main/et/row0.jpg\n",
      "https://github.com/tonybutzer/assets/raw/main/et/imgo.jpg\n",
      "https://github.com/tonybutzer/assets/raw/main/et/great-skew.jpg\n",
      "https://github.com/tonybutzer/etscrum/raw/main/00-presentation/intro/Scale-Man-2.jpg\n",
      "https://github.com/tonybutzer/etscrum/raw/main/00-presentation/assets-1/row2.jpg\n",
      "https://github.com/tonybutzer/etscrum/raw/main/00-presentation/assets-1/Rich_Signell_s.jpg\n",
      "https://github.com/tonybutzer/etscrum/raw/main/00-presentation/assets-1/row0.jpg\n",
      "https://github.com/tonybutzer/etscrum/raw/main/00-presentation/assets-1/imgo.jpg\n",
      "https://github.com/tonybutzer/etscrum/raw/main/00-presentation/assets-1/great-skew.jpg\n",
      "https://github.com/tonybutzer/npset/raw/main/20-00-data-wrangle-MODIS-NDVI/99-cogs/mybrowse.jpg\n",
      "https://github.com/tonybutzer/odc-lcmap/raw/main/anotebooks/asset/map-reduce.jpg\n",
      "https://github.com/tonybutzer//raw/main\n",
      "https://github.com/tonybutzer//raw/main\n"
     ]
    }
   ],
   "source": [
    "from IPython.display import Image\n",
    "\n",
    "image_list = []\n",
    "git_path = 'https://github.com/tonybutzer/'\n",
    "for image in Lines:\n",
    "    #image = Lines[0]\n",
    "    image = image.strip()\n",
    "    #print(image)\n",
    "    image = image[4:]\n",
    "    #print(image)\n",
    "    stuff = image.split('/')\n",
    "    #print(stuff)\n",
    "    stuff[0] = stuff[0] + '/raw/main'\n",
    "    #print(stuff)\n",
    "    image = '/'.join(stuff)\n",
    "    image = git_path + image\n",
    "    print(image)\n",
    "    #Image(url=image)\n",
    "    image_list.append(image)\n"
   ]
  },
  {
   "cell_type": "code",
   "execution_count": 16,
   "metadata": {},
   "outputs": [
    {
     "data": {
      "text/html": [
       "<img src=\"https://github.com/tonybutzer/data-curation/raw/main/odc-opscon/docs/source/assets/lsis_data_flow.PNG\" style=\"display:inline;margin:1px\"/><img src=\"https://github.com/tonybutzer/data-curation/raw/main/odc-opscon/docs/source/assets/lsds_overview_conops.PNG\" style=\"display:inline;margin:1px\"/><img src=\"https://github.com/tonybutzer/enduser/raw/main/assets/veget-cloud-cartoon.PNG\" style=\"display:inline;margin:1px\"/><img src=\"https://github.com/tonybutzer/assets/raw/main/00-nodeport-before-service-attach.PNG\" style=\"display:inline;margin:1px\"/><img src=\"https://github.com/tonybutzer/assets/raw/main/juphub/node-port-diag.PNG\" style=\"display:inline;margin:1px\"/><img src=\"https://github.com/tonybutzer/assets/raw/main/diagrams/africa_scenes_heatmap_zoomed.PNG\" style=\"display:inline;margin:1px\"/><img src=\"https://github.com/tonybutzer/assets/raw/main/diagrams/c1l2albers_datalake_almost_indexed.PNG\" style=\"display:inline;margin:1px\"/><img src=\"https://github.com/tonybutzer/assets/raw/main/diagrams/c1l2-oli-tirs-albers-data-lake-full.PNG\" style=\"display:inline;margin:1px\"/><img src=\"https://github.com/tonybutzer/assets/raw/main/diagrams/africa_scene_depth_heatmap.PNG\" style=\"display:inline;margin:1px\"/><img src=\"https://github.com/tonybutzer/assets/raw/main/funny/pipInstallGDAL.PNG\" style=\"display:inline;margin:1px\"/><img src=\"https://github.com/tonybutzer/assets/raw/main/k8s/00-nodeport-before-service-attach.PNG\" style=\"display:inline;margin:1px\"/><img src=\"https://github.com/tonybutzer/assets/raw/main/k8s/01-nodeports-service-exposes-static-node-level-port-after.PNG\" style=\"display:inline;margin:1px\"/><img src=\"https://github.com/tonybutzer/assets/raw/main/et/precipitation_sioux_falls_by_way_xarray.PNG\" style=\"display:inline;margin:1px\"/><img src=\"https://github.com/tonybutzer/assets/raw/main/et/delaware-and-east-tiles-ndvi.PNG\" style=\"display:inline;margin:1px\"/><img src=\"https://github.com/tonybutzer/assets/raw/main/et/50-cloud-region-cost-variances.PNG\" style=\"display:inline;margin:1px\"/><img src=\"https://github.com/tonybutzer/assets/raw/main/et/air_temp_day_1.PNG\" style=\"display:inline;margin:1px\"/><img src=\"https://github.com/tonybutzer/assets/raw/main/et/50-cloud-boardman-oregon-aws.PNG\" style=\"display:inline;margin:1px\"/><img src=\"https://github.com/tonybutzer/assets/raw/main/et/TIC_the_thing_that_makes_your_internet_suck.PNG\" style=\"display:inline;margin:1px\"/><img src=\"https://github.com/tonybutzer/assets/raw/main/et/delaware-row3-geojson.PNG\" style=\"display:inline;margin:1px\"/><img src=\"https://github.com/tonybutzer/assets/raw/main/et/50-cloud-data-center-guts.PNG\" style=\"display:inline;margin:1px\"/><img src=\"https://github.com/tonybutzer/etscrum/raw/main/00-presentation/ard/mission-impossible.PNG\" style=\"display:inline;margin:1px\"/><img src=\"https://github.com/tonybutzer/etscrum/raw/main/00-presentation/ard/drb-welcome-to-thedelaware-river.PNG\" style=\"display:inline;margin:1px\"/><img src=\"https://github.com/tonybutzer/etscrum/raw/main/00-presentation/ard/abernathey-is-right.PNG\" style=\"display:inline;margin:1px\"/><img src=\"https://github.com/tonybutzer/etscrum/raw/main/00-presentation/ard/eta-2000-2016.PNG\" style=\"display:inline;margin:1px\"/><img src=\"https://github.com/tonybutzer/etscrum/raw/main/00-presentation/ard/now-we-need-stac.PNG\" style=\"display:inline;margin:1px\"/><img src=\"https://github.com/tonybutzer/etscrum/raw/main/00-presentation/ard/trump.PNG\" style=\"display:inline;margin:1px\"/><img src=\"https://github.com/tonybutzer/etscrum/raw/main/00-presentation/ard/renee.PNG\" style=\"display:inline;margin:1px\"/><img src=\"https://github.com/tonybutzer/etscrum/raw/main/00-presentation/ard/landcover-over-drb.PNG\" style=\"display:inline;margin:1px\"/><img src=\"https://github.com/tonybutzer/etscrum/raw/main/00-presentation/ard/input-outputs-pretty-plots.PNG\" style=\"display:inline;margin:1px\"/><img src=\"https://github.com/tonybutzer/etscrum/raw/main/00-presentation/ard/chris-holmes-is-right.PNG\" style=\"display:inline;margin:1px\"/><img src=\"https://github.com/tonybutzer/etscrum/raw/main/00-presentation/ard/typical-on-prem-arch.PNG\" style=\"display:inline;margin:1px\"/><img src=\"https://github.com/tonybutzer/etscrum/raw/main/00-presentation/ard/cdc6600.PNG\" style=\"display:inline;margin:1px\"/><img src=\"https://github.com/tonybutzer/etscrum/raw/main/00-presentation/ard/datawrangling_is_real.PNG\" style=\"display:inline;margin:1px\"/><img src=\"https://github.com/tonybutzer/etscrum/raw/main/00-presentation/ard/two-freds.PNG\" style=\"display:inline;margin:1px\"/><img src=\"https://github.com/tonybutzer/etscrum/raw/main/00-presentation/ard/model-implementation-cartoon.PNG\" style=\"display:inline;margin:1px\"/><img src=\"https://github.com/tonybutzer/etscrum/raw/main/00-presentation/ard/evapotranspiration.PNG\" style=\"display:inline;margin:1px\"/><img src=\"https://github.com/tonybutzer/etscrum/raw/main/00-presentation/ard/input-data-list.PNG\" style=\"display:inline;margin:1px\"/><img src=\"https://github.com/tonybutzer/etscrum/raw/main/00-presentation/ard/new-arch.PNG\" style=\"display:inline;margin:1px\"/><img src=\"https://github.com/tonybutzer/etscrum/raw/main/00-presentation/ard/demo-time.PNG\" style=\"display:inline;margin:1px\"/><img src=\"https://github.com/tonybutzer/etscrum/raw/main/00-presentation/ard/drb-commission-economic-impact.PNG\" style=\"display:inline;margin:1px\"/><img src=\"https://github.com/tonybutzer/etscrum/raw/main/00-presentation/intro/2020-bites.PNG\" style=\"display:inline;margin:1px\"/><img src=\"https://github.com/tonybutzer/etscrum/raw/main/00-presentation/intro/aws-all-services-overwhelm.PNG\" style=\"display:inline;margin:1px\"/><img src=\"https://github.com/tonybutzer/etscrum/raw/main/00-presentation/intro/about-partnerships.PNG\" style=\"display:inline;margin:1px\"/><img src=\"https://github.com/tonybutzer/etscrum/raw/main/00-presentation/intro/science-matters.PNG\" style=\"display:inline;margin:1px\"/><img src=\"https://github.com/tonybutzer/etscrum/raw/main/00-presentation/intro/linux-is-my-female-dog.PNG\" style=\"display:inline;margin:1px\"/><img src=\"https://github.com/tonybutzer/etscrum/raw/main/00-presentation/intro/oh-no-multitasking-again.PNG\" style=\"display:inline;margin:1px\"/><img src=\"https://github.com/tonybutzer/etscrum/raw/main/00-presentation/intro/stuck-in-the-cloud.PNG\" style=\"display:inline;margin:1px\"/><img src=\"https://github.com/tonybutzer/etscrum/raw/main/00-presentation/intro/tan-pangeo.PNG\" style=\"display:inline;margin:1px\"/><img src=\"https://github.com/tonybutzer/etscrum/raw/main/00-presentation/intro/sci-tech.PNG\" style=\"display:inline;margin:1px\"/><img src=\"https://github.com/tonybutzer/etscrum/raw/main/00-presentation/intro/veg-et-vision.PNG\" style=\"display:inline;margin:1px\"/><img src=\"https://github.com/tonybutzer/etscrum/raw/main/00-presentation/intro/about-me-odc-pangeo.PNG\" style=\"display:inline;margin:1px\"/><img src=\"https://github.com/tonybutzer/etscrum/raw/main/00-presentation/intro/model-bucket-impl.PNG\" style=\"display:inline;margin:1px\"/><img src=\"https://github.com/tonybutzer/etscrum/raw/main/00-presentation/intro/science-outreach.PNG\" style=\"display:inline;margin:1px\"/><img src=\"https://github.com/tonybutzer/etscrum/raw/main/00-presentation/intro/about-me.PNG\" style=\"display:inline;margin:1px\"/><img src=\"https://github.com/tonybutzer/etscrum/raw/main/00-presentation/assets-1/precipitation_sioux_falls_by_way_xarray.PNG\" style=\"display:inline;margin:1px\"/><img src=\"https://github.com/tonybutzer/etscrum/raw/main/00-presentation/assets-1/model-processing-flow.PNG\" style=\"display:inline;margin:1px\"/><img src=\"https://github.com/tonybutzer/etscrum/raw/main/00-presentation/assets-1/delaware-and-east-tiles-ndvi.PNG\" style=\"display:inline;margin:1px\"/><img src=\"https://github.com/tonybutzer/etscrum/raw/main/00-presentation/assets-1/50-cloud-region-cost-variances.PNG\" style=\"display:inline;margin:1px\"/><img src=\"https://github.com/tonybutzer/etscrum/raw/main/00-presentation/assets-1/africa_scene_depth_heatmap.PNG\" style=\"display:inline;margin:1px\"/><img src=\"https://github.com/tonybutzer/etscrum/raw/main/00-presentation/assets-1/air_temp_day_1.PNG\" style=\"display:inline;margin:1px\"/><img src=\"https://github.com/tonybutzer/etscrum/raw/main/00-presentation/assets-1/50-cloud-boardman-oregon-aws.PNG\" style=\"display:inline;margin:1px\"/><img src=\"https://github.com/tonybutzer/etscrum/raw/main/00-presentation/assets-1/africa-costs.PNG\" style=\"display:inline;margin:1px\"/><img src=\"https://github.com/tonybutzer/etscrum/raw/main/00-presentation/assets-1/delaware-row3-geojson.PNG\" style=\"display:inline;margin:1px\"/><img src=\"https://github.com/tonybutzer/etscrum/raw/main/00-presentation/assets-1/50-cloud-data-center-guts.PNG\" style=\"display:inline;margin:1px\"/><img src=\"https://github.com/tonybutzer/etscrum/raw/main/00-presentation/assets-1/steffi_south.PNG\" style=\"display:inline;margin:1px\"/><img src=\"https://github.com/tonybutzer/etscrum/raw/main/00-presentation/bonus-slides/case-study-2.PNG\" style=\"display:inline;margin:1px\"/><img src=\"https://github.com/tonybutzer/etscrum/raw/main/00-presentation/bonus-slides/pangeo-nasa.PNG\" style=\"display:inline;margin:1px\"/><img src=\"https://github.com/tonybutzer/etscrum/raw/main/00-presentation/bonus-slides/et-viewer-non-trap.PNG\" style=\"display:inline;margin:1px\"/><img src=\"https://github.com/tonybutzer/etscrum/raw/main/00-presentation/bonus-slides/scientist.PNG\" style=\"display:inline;margin:1px\"/><img src=\"https://github.com/tonybutzer/etscrum/raw/main/00-presentation/bonus-slides/t3-ec2-instance.PNG\" style=\"display:inline;margin:1px\"/><img src=\"https://github.com/tonybutzer/etscrum/raw/main/00-presentation/bonus-slides/case-study-1.PNG\" style=\"display:inline;margin:1px\"/><img src=\"https://github.com/tonybutzer/etscrum/raw/main/00-presentation/bonus-slides/questions-stump-the-geek.PNG\" style=\"display:inline;margin:1px\"/><img src=\"https://github.com/tonybutzer/etscrum/raw/main/00-presentation/bonus-slides/et-movie.PNG\" style=\"display:inline;margin:1px\"/><img src=\"https://github.com/tonybutzer/etscrum/raw/main/00-presentation/bonus-slides/data-portals-what-we-did-b4.PNG\" style=\"display:inline;margin:1px\"/><img src=\"https://github.com/tonybutzer/etscrum/raw/main/00-presentation/bonus-slides/this-open-et.PNG\" style=\"display:inline;margin:1px\"/><img src=\"https://github.com/tonybutzer/etscrum/raw/main/00-presentation/bonus-slides/iluv-thecloud.PNG\" style=\"display:inline;margin:1px\"/><img src=\"https://github.com/tonybutzer/etscrum/raw/main/00-presentation/bonus-slides/devops-and-data-ops.PNG\" style=\"display:inline;margin:1px\"/><img src=\"https://github.com/tonybutzer/etscrum/raw/main/00-presentation/bonus-slides/cloud-platform-bakeoff.PNG\" style=\"display:inline;margin:1px\"/><img src=\"https://github.com/tonybutzer/etscrum/raw/main/00-presentation/bonus-slides/future-pangeo-move-the-scientist-to the data.PNG\" style=\"display:inline;margin:1px\"/><img src=\"https://github.com/tonybutzer/etscrum/raw/main/00-presentation/bonus-slides/map-reduce.PNG\" style=\"display:inline;margin:1px\"/><img src=\"https://github.com/tonybutzer/etscrum/raw/main/00-presentation/bonus-slides/data-lake.PNG\" style=\"display:inline;margin:1px\"/><img src=\"https://github.com/tonybutzer/etviz/raw/main/3-panel-dash-boards/99-limbo/b.jpg\" style=\"display:inline;margin:1px\"/><img src=\"https://github.com/tonybutzer/etviz/raw/main/3-panel-dash-boards/99-limbo/a.jpg\" style=\"display:inline;margin:1px\"/><img src=\"https://github.com/tonybutzer/data-curation/raw/main/dataDog/eng/assets/chew.jpg\" style=\"display:inline;margin:1px\"/><img src=\"https://github.com/tonybutzer/data-curation/raw/main/dataDog/eng/assets/fernson.jpg\" style=\"display:inline;margin:1px\"/><img src=\"https://github.com/tonybutzer/data-curation/raw/main/dataDog/eng/assets/charlie.jpg\" style=\"display:inline;margin:1px\"/><img src=\"https://github.com/tonybutzer/data-curation/raw/main/dataDog/eng/assets/nineball.jpg\" style=\"display:inline;margin:1px\"/><img src=\"https://github.com/tonybutzer/data-curation/raw/main/dataDog/eng/assets/dispose.jpg\" style=\"display:inline;margin:1px\"/><img src=\"https://github.com/tonybutzer/data-curation/raw/main/dataDog/eng/assets/golden-retriever-picture.jpg\" style=\"display:inline;margin:1px\"/><img src=\"https://github.com/tonybutzer/data-curation/raw/main/dataDog/eng/assets/police.jpg\" style=\"display:inline;margin:1px\"/><img src=\"https://github.com/tonybutzer/data-curation/raw/main/index/anotebooks/assets/easter_bilby.jpg\" style=\"display:inline;margin:1px\"/><img src=\"https://github.com/tonybutzer/assets/raw/main/k8s/tall_milkshake1.jpg\" style=\"display:inline;margin:1px\"/><img src=\"https://github.com/tonybutzer/assets/raw/main/et/row2.jpg\" style=\"display:inline;margin:1px\"/><img src=\"https://github.com/tonybutzer/assets/raw/main/et/Rich_Signell_s.jpg\" style=\"display:inline;margin:1px\"/><img src=\"https://github.com/tonybutzer/assets/raw/main/et/row0.jpg\" style=\"display:inline;margin:1px\"/><img src=\"https://github.com/tonybutzer/assets/raw/main/et/imgo.jpg\" style=\"display:inline;margin:1px\"/><img src=\"https://github.com/tonybutzer/assets/raw/main/et/great-skew.jpg\" style=\"display:inline;margin:1px\"/><img src=\"https://github.com/tonybutzer/etscrum/raw/main/00-presentation/intro/Scale-Man-2.jpg\" style=\"display:inline;margin:1px\"/><img src=\"https://github.com/tonybutzer/etscrum/raw/main/00-presentation/assets-1/row2.jpg\" style=\"display:inline;margin:1px\"/><img src=\"https://github.com/tonybutzer/etscrum/raw/main/00-presentation/assets-1/Rich_Signell_s.jpg\" style=\"display:inline;margin:1px\"/><img src=\"https://github.com/tonybutzer/etscrum/raw/main/00-presentation/assets-1/row0.jpg\" style=\"display:inline;margin:1px\"/><img src=\"https://github.com/tonybutzer/etscrum/raw/main/00-presentation/assets-1/imgo.jpg\" style=\"display:inline;margin:1px\"/><img src=\"https://github.com/tonybutzer/etscrum/raw/main/00-presentation/assets-1/great-skew.jpg\" style=\"display:inline;margin:1px\"/><img src=\"https://github.com/tonybutzer/npset/raw/main/20-00-data-wrangle-MODIS-NDVI/99-cogs/mybrowse.jpg\" style=\"display:inline;margin:1px\"/><img src=\"https://github.com/tonybutzer/odc-lcmap/raw/main/anotebooks/asset/map-reduce.jpg\" style=\"display:inline;margin:1px\"/><img src=\"https://github.com/tonybutzer//raw/main\" style=\"display:inline;margin:1px\"/><img src=\"https://github.com/tonybutzer//raw/main\" style=\"display:inline;margin:1px\"/>"
      ],
      "text/plain": [
       "<IPython.core.display.HTML object>"
      ]
     },
     "metadata": {},
     "output_type": "display_data"
    }
   ],
   "source": [
    "from IPython.display import display, HTML\n",
    "def make_html(image):\n",
    "     return '<img src=\"{}\" style=\"display:inline;margin:1px\"/>'.format(image)\n",
    "\n",
    "#print(image_list)\n",
    "my_html=''\n",
    "for url in image_list:\n",
    "    my_html = my_html + make_html(url)\n",
    "\n",
    "display(HTML(my_html))"
   ]
  },
  {
   "cell_type": "code",
   "execution_count": null,
   "metadata": {},
   "outputs": [],
   "source": []
  }
 ],
 "metadata": {
  "kernelspec": {
   "display_name": "Python 3",
   "language": "python",
   "name": "python3"
  },
  "language_info": {
   "codemirror_mode": {
    "name": "ipython",
    "version": 3
   },
   "file_extension": ".py",
   "mimetype": "text/x-python",
   "name": "python",
   "nbconvert_exporter": "python",
   "pygments_lexer": "ipython3",
   "version": "3.7.4"
  }
 },
 "nbformat": 4,
 "nbformat_minor": 2
}
