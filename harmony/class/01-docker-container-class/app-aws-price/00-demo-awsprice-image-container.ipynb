{
 "cells": [
  {
   "cell_type": "code",
   "execution_count": 9,
   "id": "disabled-warrant",
   "metadata": {},
   "outputs": [],
   "source": [
    "#! yes | docker system prune"
   ]
  },
  {
   "cell_type": "code",
   "execution_count": 10,
   "id": "coated-phone",
   "metadata": {},
   "outputs": [
    {
     "name": "stdout",
     "output_type": "stream",
     "text": [
      "Image=tbutzer/aws-price\r\n",
      "\r\n",
      "build:\r\n",
      "\tdocker build -t ${Image} .\r\n",
      "\r\n",
      "kautz:\r\n",
      "\tdocker run -it --rm ${Image} python awsprice.py jkau\r\n",
      "\r\n",
      "test:\r\n",
      "\tdocker run -it --rm ${Image} python awsprice.py\r\n",
      "\r\n",
      "run:\r\n",
      "\tdocker run -it ${Image} bash\r\n",
      "\r\n",
      "exec:\r\n",
      "\tdocker exec -it ${Image} bash\r\n",
      "\r\n",
      "dockerhub_publish:\r\n",
      "\t(docker login && docker push ${Image})\r\n",
      "\r\n",
      "credential-hell:\r\n",
      "\tsudo apt remove golang-docker-credential-helpers\r\n"
     ]
    }
   ],
   "source": [
    "! cat Makefile"
   ]
  },
  {
   "cell_type": "code",
   "execution_count": 11,
   "id": "utility-journalism",
   "metadata": {},
   "outputs": [
    {
     "name": "stdout",
     "output_type": "stream",
     "text": [
      "FROM tbutzer/harmony-base-python\r\n",
      "\r\n",
      "RUN mkdir -p /home/price \\\r\n",
      "    && mkdir -p /home/price/data \r\n",
      "\r\n",
      "COPY code /home/price\r\n",
      "COPY price_prune.pickle /home/price\r\n",
      "    \r\n",
      "WORKDIR /home/price\r\n",
      "\r\n",
      "CMD ls\r\n"
     ]
    }
   ],
   "source": [
    "! cat Dockerfile"
   ]
  },
  {
   "cell_type": "code",
   "execution_count": 12,
   "id": "early-pharmaceutical",
   "metadata": {},
   "outputs": [
    {
     "name": "stdout",
     "output_type": "stream",
     "text": [
      "make[1]: Entering directory '/opt/harmony/class/01-docker-container-class/app-aws-price'\n",
      "docker build -t tbutzer/aws-price .\n",
      "Sending build context to Docker daemon  86.53kB\n",
      "Step 1/6 : FROM tbutzer/harmony-base-python\n",
      " ---> 2ed7dc5d4b76\n",
      "Step 2/6 : RUN mkdir -p /home/price     && mkdir -p /home/price/data\n",
      " ---> Using cache\n",
      " ---> 671c68f77f38\n",
      "Step 3/6 : COPY code /home/price\n",
      " ---> Using cache\n",
      " ---> 0ae764601e78\n",
      "Step 4/6 : COPY price_prune.pickle /home/price\n",
      " ---> Using cache\n",
      " ---> 63eab3005ed4\n",
      "Step 5/6 : WORKDIR /home/price\n",
      " ---> Using cache\n",
      " ---> 4e8d86dc670a\n",
      "Step 6/6 : CMD ls\n",
      " ---> Using cache\n",
      " ---> 5bddc0ab0bf2\n",
      "Successfully built 5bddc0ab0bf2\n",
      "Successfully tagged tbutzer/aws-price:latest\n",
      "make[1]: Leaving directory '/opt/harmony/class/01-docker-container-class/app-aws-price'\n"
     ]
    }
   ],
   "source": [
    "! make build"
   ]
  },
  {
   "cell_type": "code",
   "execution_count": 13,
   "id": "modified-input",
   "metadata": {},
   "outputs": [
    {
     "name": "stdout",
     "output_type": "stream",
     "text": [
      "REPOSITORY                    TAG                 IMAGE ID            CREATED             SIZE\r\n",
      "tbutzer/aws-price             latest              5bddc0ab0bf2        25 hours ago        1.93GB\r\n",
      "tbutzer/harmony-base-python   latest              2ed7dc5d4b76        27 hours ago        1.93GB\r\n",
      "python                        latest              e32be9a6f71f        5 days ago          885MB\r\n"
     ]
    }
   ],
   "source": [
    "! docker image ls"
   ]
  },
  {
   "cell_type": "code",
   "execution_count": 14,
   "id": "naval-disease",
   "metadata": {},
   "outputs": [
    {
     "name": "stdout",
     "output_type": "stream",
     "text": [
      "REPOSITORY          TAG                 IMAGE ID            CREATED             SIZE\r\n",
      "tbutzer/aws-price   latest              5bddc0ab0bf2        25 hours ago        1.93GB\r\n"
     ]
    }
   ],
   "source": [
    "! docker image ls tbutzer/aws-price "
   ]
  },
  {
   "cell_type": "code",
   "execution_count": 16,
   "id": "variable-alfred",
   "metadata": {},
   "outputs": [
    {
     "name": "stdout",
     "output_type": "stream",
     "text": [
      "['awsprice.py', 'butzer']\n",
      "butzer\n",
      "     state  ... monthly_cost\n",
      "0  stopped  ...        8.468\n",
      "1  stopped  ...      219.584\n",
      "2  stopped  ...        8.468\n",
      "3  stopped  ...       70.080\n",
      "4  stopped  ...       70.080\n",
      "5  stopped  ...      219.584\n",
      "6  stopped  ...        8.468\n",
      "7  running  ...      219.584\n",
      "8  stopped  ...      502.240\n",
      "\n",
      "[9 rows x 5 columns]\n",
      "==========================================================================================\n",
      "==========================================================================================\n",
      "     state  ... monthly_cost\n",
      "7  running  ...      219.584\n",
      "\n",
      "[1 rows x 5 columns]\n",
      "========================================================================================================================\n",
      "========================================================================================================================\n"
     ]
    }
   ],
   "source": [
    "! docker run -it --rm tbutzer/aws-price python awsprice.py butzer"
   ]
  },
  {
   "cell_type": "code",
   "execution_count": null,
   "id": "molecular-auction",
   "metadata": {},
   "outputs": [],
   "source": []
  }
 ],
 "metadata": {
  "kernelspec": {
   "display_name": "Python 3",
   "language": "python",
   "name": "python3"
  },
  "language_info": {
   "codemirror_mode": {
    "name": "ipython",
    "version": 3
   },
   "file_extension": ".py",
   "mimetype": "text/x-python",
   "name": "python",
   "nbconvert_exporter": "python",
   "pygments_lexer": "ipython3",
   "version": "3.6.9"
  }
 },
 "nbformat": 4,
 "nbformat_minor": 5
}
