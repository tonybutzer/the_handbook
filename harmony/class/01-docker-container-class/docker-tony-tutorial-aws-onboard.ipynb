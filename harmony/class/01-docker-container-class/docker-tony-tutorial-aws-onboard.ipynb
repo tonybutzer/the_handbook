{
 "cells": [
  {
   "cell_type": "markdown",
   "id": "premium-humanity",
   "metadata": {},
   "source": [
    "![](https://d33wubrfki0l68.cloudfront.net/e7a6759eb6232b4280b83b18aa255289d65e4b6e/7698a/images/logo.webp)"
   ]
  },
  {
   "cell_type": "markdown",
   "id": "funky-letters",
   "metadata": {},
   "source": [
    "# A Gentle intro into Docker\n",
    "\n",
    "- talk about docker\n",
    "    - simple quick tutorial\n",
    "        - other tutorials - get your google/youtube on\n",
    "            - https://docker-curriculum.com/#introduction\n",
    "    - why docker\n",
    "        - just cause - it makes things so easy\n",
    "- create a docker image for aws pricing\n",
    "    - push it to dockerhub\n",
    "    - run it on another machine Steffi's\n",
    "- scaling\n",
    "    - simple scaling ET Mosiac example on a cheap machine\n",
    "    - orchestration for dummies"
   ]
  },
  {
   "cell_type": "markdown",
   "id": "armed-freight",
   "metadata": {},
   "source": [
    "# Why Docker?\n",
    "- containers scale\n",
    "    - python code then is simpler\n",
    "    - scaling becomes your DevOps team problem\n",
    "    - more liberation for the scientist - just write simple python\n",
    "- containers don't mess up your host computer\n",
    "- containers don't give a damn about your host linux distribution - ubuntu or centos - debian - slackware ... busybox, alpine - containers are containers where-ever they swim\n",
    "- containers help with python library management\n",
    "- containers mitigate the need for python virtual-env - because they are a virtual-env\n",
    "- Learn to build and deploy your distributed applications easily to the cloud with Docker \n",
    "- \n",
    "\n",
    "# what is docker?\n",
    "\n",
    "- deployment paradigm\n",
    "- additional abstraction layer\n",
    "- automation enabler\n",
    "- hyper-virtualizer\n",
    "- library packaging god\n",
    "- low-overhead super-speedy system\n",
    "- cloud-enabled application method\n",
    "- the developers best friend\n",
    "- a tool to work the shit out of your host - use all the memory and cpu\n",
    "    - don't let your cheap EC2 instances slack off - run an orchestra of containers\n",
    "- want to be happy? - then simplify and decouple like crazy - decouple - \n",
    "    - monoliths and mammoths fall hard when they die"
   ]
  },
  {
   "cell_type": "code",
   "execution_count": 2,
   "id": "included-actor",
   "metadata": {},
   "outputs": [
    {
     "name": "stdout",
     "output_type": "stream",
     "text": [
      "Docker version 19.03.13, build 4484c46d9d\r\n"
     ]
    }
   ],
   "source": [
    "! docker --version"
   ]
  },
  {
   "cell_type": "markdown",
   "id": "spiritual-guyana",
   "metadata": {},
   "source": [
    "# Lets get started using Docker"
   ]
  },
  {
   "cell_type": "code",
   "execution_count": 3,
   "id": "extraordinary-tennis",
   "metadata": {},
   "outputs": [
    {
     "name": "stdout",
     "output_type": "stream",
     "text": [
      "REPOSITORY                    TAG                 IMAGE ID            CREATED             SIZE\r\n",
      "tbutzer/aws-price             latest              5bddc0ab0bf2        3 days ago          1.93GB\r\n",
      "tbutzer/harmony-base-python   latest              2ed7dc5d4b76        3 days ago          1.93GB\r\n",
      "python                        latest              e32be9a6f71f        7 days ago          885MB\r\n"
     ]
    }
   ],
   "source": [
    "! docker image ls"
   ]
  },
  {
   "cell_type": "code",
   "execution_count": 5,
   "id": "declared-example",
   "metadata": {},
   "outputs": [
    {
     "name": "stdout",
     "output_type": "stream",
     "text": [
      "Unable to find image 'hello-world:latest' locally\n",
      "latest: Pulling from library/hello-world\n",
      "\n",
      "\u001b[1BDigest: sha256:31b9c7d48790f0d8c50ab433d9c3b7e17666d6993084c002c2ff1ca09b96391d\n",
      "Status: Downloaded newer image for hello-world:latest\n",
      "\n",
      "Hello from Docker!\n",
      "This message shows that your installation appears to be working correctly.\n",
      "\n",
      "To generate this message, Docker took the following steps:\n",
      " 1. The Docker client contacted the Docker daemon.\n",
      " 2. The Docker daemon pulled the \"hello-world\" image from the Docker Hub.\n",
      "    (amd64)\n",
      " 3. The Docker daemon created a new container from that image which runs the\n",
      "    executable that produces the output you are currently reading.\n",
      " 4. The Docker daemon streamed that output to the Docker client, which sent it\n",
      "    to your terminal.\n",
      "\n",
      "To try something more ambitious, you can run an Ubuntu container with:\n",
      " $ docker run -it ubuntu bash\n",
      "\n",
      "Share images, automate workflows, and more with a free Docker ID:\n",
      " https://hub.docker.com/\n",
      "\n",
      "For more examples and ideas, visit:\n",
      " https://docs.docker.com/get-started/\n",
      "\n"
     ]
    }
   ],
   "source": [
    "! docker run hello-world"
   ]
  },
  {
   "cell_type": "code",
   "execution_count": 6,
   "id": "central-economics",
   "metadata": {},
   "outputs": [
    {
     "name": "stdout",
     "output_type": "stream",
     "text": [
      "Unable to find image 'ubuntu:latest' locally\n",
      "latest: Pulling from library/ubuntu\n",
      "\n",
      "\u001b[1B3a23efb7: Pulling fs layer \n",
      "\u001b[1Bfc6f11f0: Pulling fs layer \n",
      "\u001b[1BDigest: sha256:703218c0465075f4425e58fac086e09e1de5c340b12976ab9eb8ad26615c3715[3A\u001b[2K\u001b[3A\u001b[2K\u001b[3A\u001b[2K\u001b[3A\u001b[2K\u001b[3A\u001b[2K\u001b[3A\u001b[2K\u001b[3A\u001b[2K\u001b[3A\u001b[2K\u001b[3A\u001b[2K\u001b[3A\u001b[2K\u001b[3A\u001b[2K\u001b[3A\u001b[2K\u001b[2A\u001b[2K\u001b[2A\u001b[2K\u001b[1A\u001b[2K\n",
      "Status: Downloaded newer image for ubuntu:latest\n",
      "\u001b[K\u001b]0;root@103f20eb83cd: /\u0007root@103f20eb83cd:/# ^C\n",
      "\n",
      "\u001b]0;root@103f20eb83cd: /\u0007root@103f20eb83cd:/# "
     ]
    }
   ],
   "source": [
    "!docker run -it ubuntu bash\n"
   ]
  },
  {
   "cell_type": "code",
   "execution_count": 11,
   "id": "looking-affair",
   "metadata": {},
   "outputs": [
    {
     "name": "stdout",
     "output_type": "stream",
     "text": [
      "Untagged: hello-world:latest\r\n",
      "Untagged: hello-world@sha256:31b9c7d48790f0d8c50ab433d9c3b7e17666d6993084c002c2ff1ca09b96391d\r\n",
      "Deleted: sha256:bf756fb1ae65adf866bd8c456593cd24beb6a0a061dedf42b26a993176745f6b\r\n",
      "Deleted: sha256:9c27e219663c25e0f28493790cc0b88bc973ba3b1686355f221c38a36978ac63\r\n"
     ]
    }
   ],
   "source": [
    "! docker rmi hello-world"
   ]
  },
  {
   "cell_type": "code",
   "execution_count": 9,
   "id": "designing-wrong",
   "metadata": {},
   "outputs": [
    {
     "name": "stdout",
     "output_type": "stream",
     "text": [
      "CONTAINER ID        IMAGE               COMMAND                  CREATED              STATUS                          PORTS               NAMES\r\n",
      "103f20eb83cd        ubuntu              \"bash\"                   30 seconds ago       Exited (129) 23 seconds ago                         zealous_gauss\r\n",
      "38dfbf690d02        hello-world         \"/hello\"                 About a minute ago   Exited (0) About a minute ago                       stupefied_poincare\r\n",
      "fe3ab450fa45        python              \"cat /etc/os-release\"    47 hours ago         Exited (0) 47 hours ago                             jolly_elgamal\r\n",
      "066921440a3d        python              \"ls /etc/\"               47 hours ago         Exited (0) 47 hours ago                             brave_williams\r\n",
      "f424d57da8f6        python              \"ls /etc/lsb-release\"    47 hours ago         Exited (2) 47 hours ago                             sleepy_shtern\r\n",
      "afe09b6c6724        python              \"cat /etc/lsb-release\"   47 hours ago         Exited (1) 47 hours ago                             hardcore_raman\r\n"
     ]
    }
   ],
   "source": [
    "! docker ps -a"
   ]
  },
  {
   "cell_type": "code",
   "execution_count": 10,
   "id": "instrumental-collective",
   "metadata": {},
   "outputs": [
    {
     "name": "stdout",
     "output_type": "stream",
     "text": [
      "stupefied_poincare\r\n"
     ]
    }
   ],
   "source": [
    "! docker rm stupefied_poincare"
   ]
  },
  {
   "cell_type": "code",
   "execution_count": 6,
   "id": "greenhouse-swift",
   "metadata": {},
   "outputs": [
    {
     "name": "stdout",
     "output_type": "stream",
     "text": [
      "Unable to find image 'hello-world:latest' locally\n",
      "latest: Pulling from library/hello-world\n",
      "\n",
      "\u001b[1BDigest: sha256:31b9c7d48790f0d8c50ab433d9c3b7e17666d6993084c002c2ff1ca09b96391d\n",
      "Status: Downloaded newer image for hello-world:latest\n",
      "\n",
      "Hello from Docker!\n",
      "This message shows that your installation appears to be working correctly.\n",
      "\n",
      "To generate this message, Docker took the following steps:\n",
      " 1. The Docker client contacted the Docker daemon.\n",
      " 2. The Docker daemon pulled the \"hello-world\" image from the Docker Hub.\n",
      "    (amd64)\n",
      " 3. The Docker daemon created a new container from that image which runs the\n",
      "    executable that produces the output you are currently reading.\n",
      " 4. The Docker daemon streamed that output to the Docker client, which sent it\n",
      "    to your terminal.\n",
      "\n",
      "To try something more ambitious, you can run an Ubuntu container with:\n",
      " $ docker run -it ubuntu bash\n",
      "\n",
      "Share images, automate workflows, and more with a free Docker ID:\n",
      " https://hub.docker.com/\n",
      "\n",
      "For more examples and ideas, visit:\n",
      " https://docs.docker.com/get-started/\n",
      "\n"
     ]
    }
   ],
   "source": [
    "! docker run hello-world"
   ]
  },
  {
   "cell_type": "code",
   "execution_count": 12,
   "id": "present-sharing",
   "metadata": {},
   "outputs": [
    {
     "name": "stdout",
     "output_type": "stream",
     "text": [
      "DISTRIB_ID=Ubuntu\r\n",
      "DISTRIB_RELEASE=20.04\r\n",
      "DISTRIB_CODENAME=focal\r\n",
      "DISTRIB_DESCRIPTION=\"Ubuntu 20.04.1 LTS\"\r\n"
     ]
    }
   ],
   "source": [
    "! docker run -it ubuntu cat /etc/lsb-release"
   ]
  },
  {
   "cell_type": "code",
   "execution_count": 13,
   "id": "interior-lesson",
   "metadata": {},
   "outputs": [
    {
     "name": "stdout",
     "output_type": "stream",
     "text": [
      "REPOSITORY                    TAG                 IMAGE ID            CREATED             SIZE\r\n",
      "tbutzer/aws-price             latest              5bddc0ab0bf2        3 days ago          1.93GB\r\n",
      "tbutzer/harmony-base-python   latest              2ed7dc5d4b76        3 days ago          1.93GB\r\n",
      "python                        latest              e32be9a6f71f        7 days ago          885MB\r\n",
      "ubuntu                        latest              f63181f19b2f        2 weeks ago         72.9MB\r\n"
     ]
    }
   ],
   "source": [
    "! docker image ls"
   ]
  },
  {
   "cell_type": "code",
   "execution_count": 14,
   "id": "likely-sleeve",
   "metadata": {},
   "outputs": [
    {
     "name": "stdout",
     "output_type": "stream",
     "text": [
      "Error response from daemon: conflict: unable to remove repository reference \"ubuntu\" (must force) - container 103f20eb83cd is using its referenced image f63181f19b2f\r\n"
     ]
    }
   ],
   "source": [
    "! docker rmi ubuntu "
   ]
  },
  {
   "cell_type": "code",
   "execution_count": 15,
   "id": "mature-diameter",
   "metadata": {},
   "outputs": [
    {
     "name": "stdout",
     "output_type": "stream",
     "text": [
      "CONTAINER ID        IMAGE               COMMAND                  CREATED             STATUS                            PORTS               NAMES\r\n",
      "44790304b21a        ubuntu              \"cat /etc/lsb-release\"   44 seconds ago      Exited (0) 42 seconds ago                             fervent_wu\r\n",
      "103f20eb83cd        ubuntu              \"bash\"                   2 minutes ago       Exited (129) About a minute ago                       zealous_gauss\r\n",
      "fe3ab450fa45        python              \"cat /etc/os-release\"    47 hours ago        Exited (0) 47 hours ago                               jolly_elgamal\r\n",
      "066921440a3d        python              \"ls /etc/\"               47 hours ago        Exited (0) 47 hours ago                               brave_williams\r\n",
      "f424d57da8f6        python              \"ls /etc/lsb-release\"    47 hours ago        Exited (2) 47 hours ago                               sleepy_shtern\r\n",
      "afe09b6c6724        python              \"cat /etc/lsb-release\"   47 hours ago        Exited (1) 47 hours ago                               hardcore_raman\r\n"
     ]
    }
   ],
   "source": [
    "! docker ps -a"
   ]
  },
  {
   "cell_type": "code",
   "execution_count": 11,
   "id": "joined-campbell",
   "metadata": {},
   "outputs": [
    {
     "name": "stdout",
     "output_type": "stream",
     "text": [
      "cranky_darwin\r\n",
      "quirky_mclean\r\n"
     ]
    }
   ],
   "source": [
    "! docker rm cranky_darwin quirky_mclean"
   ]
  },
  {
   "cell_type": "code",
   "execution_count": 12,
   "id": "blond-warehouse",
   "metadata": {},
   "outputs": [
    {
     "name": "stdout",
     "output_type": "stream",
     "text": [
      "CONTAINER ID        IMAGE               COMMAND             CREATED             STATUS              PORTS               NAMES\r\n"
     ]
    }
   ],
   "source": [
    "! docker ps -a"
   ]
  },
  {
   "cell_type": "code",
   "execution_count": 13,
   "id": "regulated-parade",
   "metadata": {},
   "outputs": [
    {
     "name": "stdout",
     "output_type": "stream",
     "text": [
      "REPOSITORY          TAG                 IMAGE ID            CREATED             SIZE\r\n",
      "ubuntu              latest              f63181f19b2f        2 weeks ago         72.9MB\r\n",
      "hello-world         latest              bf756fb1ae65        13 months ago       13.3kB\r\n"
     ]
    }
   ],
   "source": [
    "! docker image ls"
   ]
  },
  {
   "cell_type": "code",
   "execution_count": 14,
   "id": "underlying-conviction",
   "metadata": {},
   "outputs": [
    {
     "name": "stdout",
     "output_type": "stream",
     "text": [
      "Untagged: ubuntu:latest\r\n",
      "Untagged: ubuntu@sha256:703218c0465075f4425e58fac086e09e1de5c340b12976ab9eb8ad26615c3715\r\n",
      "Deleted: sha256:f63181f19b2fe819156dcb068b3b5bc036820bec7014c5f77277cfa341d4cb5e\r\n",
      "Deleted: sha256:0770b7f116f8627ec336a62e65a1f79e344df7ae721eb3e06e11edca85d3d1e7\r\n",
      "Deleted: sha256:476e931831a5b24b95ff7587cca09bde9d1d7c0329fbc44ac64793b28fb809d0\r\n",
      "Deleted: sha256:9f32931c9d28f10104a8eb1330954ba90e76d92b02c5256521ba864feec14009\r\n",
      "Untagged: hello-world:latest\r\n",
      "Untagged: hello-world@sha256:31b9c7d48790f0d8c50ab433d9c3b7e17666d6993084c002c2ff1ca09b96391d\r\n",
      "Deleted: sha256:bf756fb1ae65adf866bd8c456593cd24beb6a0a061dedf42b26a993176745f6b\r\n",
      "Deleted: sha256:9c27e219663c25e0f28493790cc0b88bc973ba3b1686355f221c38a36978ac63\r\n"
     ]
    }
   ],
   "source": [
    "! docker rmi ubuntu hello-world"
   ]
  },
  {
   "cell_type": "code",
   "execution_count": 15,
   "id": "referenced-ambassador",
   "metadata": {},
   "outputs": [
    {
     "name": "stdout",
     "output_type": "stream",
     "text": [
      "REPOSITORY          TAG                 IMAGE ID            CREATED             SIZE\r\n"
     ]
    }
   ],
   "source": [
    "! docker image ls"
   ]
  },
  {
   "cell_type": "code",
   "execution_count": 16,
   "id": "extra-dodge",
   "metadata": {},
   "outputs": [
    {
     "name": "stdout",
     "output_type": "stream",
     "text": [
      "Unable to find image 'ubuntu:18.04' locally\n",
      "18.04: Pulling from library/ubuntu\n",
      "\n",
      "\u001b[1Be2592276: Pulling fs layer \n",
      "\u001b[1B2dfcfa9c: Pulling fs layer \n",
      "\u001b[1BDigest: sha256:ea188fdc5be9b25ca048f1e882b33f1bc763fb976a8a4fea446b38ed0efcbeba[3A\u001b[2K\u001b[3A\u001b[2K\u001b[3A\u001b[2K\u001b[3A\u001b[2K\u001b[3A\u001b[2K\u001b[3A\u001b[2K\u001b[3A\u001b[2K\u001b[3A\u001b[2K\u001b[3A\u001b[2K\u001b[3A\u001b[2K\u001b[2A\u001b[2K\u001b[2A\u001b[2K\u001b[1A\u001b[2K\n",
      "Status: Downloaded newer image for ubuntu:18.04\n",
      "DISTRIB_ID=Ubuntu\n",
      "DISTRIB_RELEASE=18.04\n",
      "DISTRIB_CODENAME=bionic\n",
      "DISTRIB_DESCRIPTION=\"Ubuntu 18.04.5 LTS\"\n"
     ]
    }
   ],
   "source": [
    "! docker run -it --rm ubuntu:18.04 cat /etc/lsb-release"
   ]
  },
  {
   "cell_type": "code",
   "execution_count": 18,
   "id": "different-mills",
   "metadata": {},
   "outputs": [
    {
     "name": "stdout",
     "output_type": "stream",
     "text": [
      "REPOSITORY          TAG                 IMAGE ID            CREATED             SIZE\r\n",
      "ubuntu              18.04               c090eaba6b94        2 weeks ago         63.3MB\r\n"
     ]
    }
   ],
   "source": [
    "! docker image ls "
   ]
  },
  {
   "cell_type": "code",
   "execution_count": 1,
   "id": "animal-words",
   "metadata": {},
   "outputs": [
    {
     "name": "stdout",
     "output_type": "stream",
     "text": [
      "CONTAINER ID        IMAGE               COMMAND                  CREATED             STATUS                    PORTS               NAMES\n",
      "1a7684c7fc8f        a26450fbb21a        \"bash\"                   26 hours ago        Exited (0) 26 hours ago                       busy_ishizaka\n",
      "e58d2192ba03        05f6b10a4ecb        \"bash\"                   26 hours ago        Exited (1) 26 hours ago                       zealous_fermi\n",
      "2ab10c1794c8        0804f78c79e6        \"bash\"                   26 hours ago        Exited (0) 26 hours ago                       mystifying_ardinghelli\n",
      "7d891cf16670        b8c0d6004368        \"bash\"                   26 hours ago        Exited (0) 26 hours ago                       festive_driscoll\n",
      "15d8f1925c87        b9c9ca8c7f7f        \"bash\"                   26 hours ago        Exited (1) 26 hours ago                       festive_germain\n",
      "36a879e2394c        75753a57c88a        \"bash\"                   26 hours ago        Exited (1) 26 hours ago                       peaceful_sinoussi\n",
      "9b476dcbbaaf        94a5b2a0205e        \"bash\"                   26 hours ago        Exited (0) 26 hours ago                       wonderful_golick\n",
      "149f1742e694        2ed7dc5d4b76        \"/bin/sh -c 'mkdir /…\"   26 hours ago        Exited (1) 26 hours ago                       condescending_volhard\n",
      "blah blah blah ----------\n",
      "Error: No such image: ubuntu:18.04\n"
     ]
    }
   ],
   "source": [
    "! docker ps -a ; echo blah blah blah ---------- ; docker rmi ubuntu:18.04"
   ]
  },
  {
   "cell_type": "code",
   "execution_count": 21,
   "id": "robust-omaha",
   "metadata": {},
   "outputs": [
    {
     "name": "stdout",
     "output_type": "stream",
     "text": [
      "REPOSITORY          TAG                 IMAGE ID            CREATED             SIZE\r\n"
     ]
    }
   ],
   "source": [
    "! docker image ls"
   ]
  },
  {
   "cell_type": "code",
   "execution_count": 17,
   "id": "quiet-grove",
   "metadata": {},
   "outputs": [
    {
     "name": "stdout",
     "output_type": "stream",
     "text": [
      "Package    Version\r\n",
      "---------- -------\r\n",
      "pip        21.0.1\r\n",
      "setuptools 53.0.0\r\n",
      "wheel      0.36.2\r\n"
     ]
    }
   ],
   "source": [
    "! docker run -it --rm python pip list "
   ]
  },
  {
   "cell_type": "code",
   "execution_count": 18,
   "id": "phantom-limit",
   "metadata": {},
   "outputs": [
    {
     "name": "stdout",
     "output_type": "stream",
     "text": [
      "Python 3.9.1\r\n"
     ]
    }
   ],
   "source": [
    "! docker run -it --rm python python --version"
   ]
  },
  {
   "cell_type": "code",
   "execution_count": 19,
   "id": "further-campbell",
   "metadata": {},
   "outputs": [
    {
     "name": "stdout",
     "output_type": "stream",
     "text": [
      "REPOSITORY                    TAG                 IMAGE ID            CREATED             SIZE\r\n",
      "tbutzer/aws-price             latest              5bddc0ab0bf2        3 days ago          1.93GB\r\n",
      "tbutzer/harmony-base-python   latest              2ed7dc5d4b76        3 days ago          1.93GB\r\n",
      "python                        latest              e32be9a6f71f        7 days ago          885MB\r\n",
      "ubuntu                        latest              f63181f19b2f        2 weeks ago         72.9MB\r\n",
      "ubuntu                        18.04               c090eaba6b94        2 weeks ago         63.3MB\r\n"
     ]
    }
   ],
   "source": [
    "! docker image ls"
   ]
  },
  {
   "cell_type": "code",
   "execution_count": 20,
   "id": "possible-magnitude",
   "metadata": {},
   "outputs": [
    {
     "name": "stdout",
     "output_type": "stream",
     "text": [
      "Error response from daemon: conflict: unable to remove repository reference \"python\" (must force) - container 066921440a3d is using its referenced image e32be9a6f71f\r\n"
     ]
    }
   ],
   "source": [
    "! docker rmi python"
   ]
  },
  {
   "cell_type": "code",
   "execution_count": null,
   "id": "smaller-scratch",
   "metadata": {},
   "outputs": [],
   "source": []
  }
 ],
 "metadata": {
  "kernelspec": {
   "display_name": "Python 3",
   "language": "python",
   "name": "python3"
  },
  "language_info": {
   "codemirror_mode": {
    "name": "ipython",
    "version": 3
   },
   "file_extension": ".py",
   "mimetype": "text/x-python",
   "name": "python",
   "nbconvert_exporter": "python",
   "pygments_lexer": "ipython3",
   "version": "3.6.9"
  }
 },
 "nbformat": 4,
 "nbformat_minor": 5
}
