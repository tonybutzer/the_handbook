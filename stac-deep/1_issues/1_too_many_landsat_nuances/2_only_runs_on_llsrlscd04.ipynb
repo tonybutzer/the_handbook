{
 "cells": [
  {
   "cell_type": "code",
   "execution_count": 1,
   "id": "0cfd33ac-af31-430a-9dbb-8e1537d15e55",
   "metadata": {},
   "outputs": [],
   "source": [
    "urls=['https://landsatlook.usgs.gov/stac-server', \\\n",
    "      'https://landsatlook.usgs.gov/sat-api/stac', \\\n",
    "      'https://st-usgs-landsat-dds.qa-lsdsdpas.chs.usgs.gov/stac-server', \\\n",
    "      'https://74kin890wi.execute-api.us-west-2.amazonaws.com/st', \\\n",
    "      'https://earth-search.aws.element84.com/v0'\n",
    "]"
   ]
  },
  {
   "cell_type": "markdown",
   "id": "1da94001-6abd-4701-b695-51394e13d6b4",
   "metadata": {},
   "source": [
    "# The below curls show why these urls for landsat are obsolete"
   ]
  },
  {
   "cell_type": "code",
   "execution_count": 2,
   "id": "f98146c1-8b96-4bed-ac1c-a9df5c23d43d",
   "metadata": {},
   "outputs": [
    {
     "name": "stdout",
     "output_type": "stream",
     "text": [
      "{\"links\":[{\"rel\":\"child\",\"href\":\"https://landsatlook.usgs.gov/sat-api/collections/landsat-c1l2alb-ta\"},{\"rel\":\"child\",\"href\":\"https://landsatlook.usgs.gov/sat-api/collections/landsat-c2l2alb-ta\"},{\"rel\":\"child\",\"href\":\"https://landsatlook.usgs.gov/sat-api/collections/landsat-c2l2alb-bt\"},{\"rel\":\"child\",\"href\":\"https://landsatlook.usgs.gov/sat-api/collections/landsat-c2l2alb-st\"},{\"rel\":\"child\",\"href\":\"https://landsatlook.usgs.gov/sat-api/collections/landsat-c2l2-sr\"},{\"rel\":\"child\",\"href\":\"https://landsatlook.usgs.gov/sat-api/collections/landsat-c1l2alb-st\"},{\"rel\":\"child\",\"href\":\"https://landsatlook.usgs.gov/sat-api/collections/landsat-c2l2-st\"},{\"rel\":\"child\",\"href\":\"https://landsatlook.usgs.gov/sat-api/collections/landsat-c2l2alb-sr\"},{\"rel\":\"child\",\"href\":\"https://landsatlook.usgs.gov/sat-api/collections/landsat-c1l2alb-bt\"},{\"rel\":\"child\",\"href\":\"https://landsatlook.usgs.gov/sat-api/collections/landsat-c2l1\"},{\"rel\":\"child\",\"href\":\"https://landsatlook.usgs.gov/sat-api/collections/landsat-c1l1\"},{\"rel\":\"child\",\"href\":\"https://landsatlook.usgs.gov/sat-api/collections/landsat-c1l2alb-sr\"},{\"rel\":\"self\",\"href\":\"https://landsatlook.usgs.gov/sat-api/stac\"},{\"rel\":\"search\",\"href\":\"https://landsatlook.usgs.gov/sat-api/stac/search\"}]}"
     ]
    }
   ],
   "source": [
    "! curl       'https://landsatlook.usgs.gov/sat-api/stac' "
   ]
  },
  {
   "cell_type": "code",
   "execution_count": 4,
   "id": "c765c149-7585-48f3-a1b7-015417f18a75",
   "metadata": {},
   "outputs": [
    {
     "name": "stdout",
     "output_type": "stream",
     "text": [
      "{\"links\":[{\"href\":\"https://landsatlook.usgs.gov/sat-api/\",\"rel\":\"self\"},{\"href\":\"https://landsatlook.usgs.gov/sat-api//collections\",\"rel\":\"data\"},{\"rel\":\"service\"}]}"
     ]
    }
   ],
   "source": [
    "! curl       'https://landsatlook.usgs.gov/sat-api/'"
   ]
  },
  {
   "cell_type": "markdown",
   "id": "bd06368d-d805-428b-bdc7-300948d87164",
   "metadata": {},
   "source": [
    "# this only runs on llsrlscd04 \n",
    "\n",
    "else:\n",
    "### {\"message\":\"Forbidden\"}"
   ]
  },
  {
   "cell_type": "code",
   "execution_count": 5,
   "id": "937c2f7c-1df9-4582-872e-21eb0f67e9f7",
   "metadata": {},
   "outputs": [
    {
     "name": "stdout",
     "output_type": "stream",
     "text": [
      "{\"message\":\"Forbidden\"}"
     ]
    }
   ],
   "source": [
    "! curl       'https://74kin890wi.execute-api.us-west-2.amazonaws.com/st'\n"
   ]
  },
  {
   "cell_type": "code",
   "execution_count": null,
   "id": "7526117a-040e-4f0e-91e8-e5da20de70f2",
   "metadata": {},
   "outputs": [],
   "source": []
  }
 ],
 "metadata": {
  "kernelspec": {
   "display_name": "Python 3",
   "language": "python",
   "name": "python3"
  },
  "language_info": {
   "codemirror_mode": {
    "name": "ipython",
    "version": 3
   },
   "file_extension": ".py",
   "mimetype": "text/x-python",
   "name": "python",
   "nbconvert_exporter": "python",
   "pygments_lexer": "ipython3",
   "version": "3.7.10"
  }
 },
 "nbformat": 4,
 "nbformat_minor": 5
}
