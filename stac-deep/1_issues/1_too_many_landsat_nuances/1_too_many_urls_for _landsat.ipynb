{
 "cells": [
  {
   "cell_type": "markdown",
   "id": "21e44678",
   "metadata": {},
   "source": [
    "# Notes\n",
    "\n",
    "## Production\n",
    "- https://landsatlook.usgs.gov/stac-server \n",
    "- 'https://landsatlook.usgs.gov/sat-api/stac'\n",
    "\n",
    "## TEST ST - system test\n",
    "- https://st-usgs-landsat-dds.qa-lsdsdpas.chs.usgs.gov/stac-server\n",
    "- https://74kin890wi.execute-api.us-west-2.amazonaws.com/st\n",
    "\n",
    "\n",
    "## Element 84 mature STAC Catalogs - Earth Search\n",
    "- 'https://earth-search.aws.element84.com/v0'\n",
    "\n",
    "https://www.element84.com/blog/sentinel-2-cloud-optimized-geotiffs-now-available-on-aws-registry-of-open-data\n",
    "\n",
    "\n",
    "\n",
    "1.\tThe production STAC Server is located at: https://landsatlook.usgs.gov/stac-server  (the ST STAC Server is still at: https://st-usgs-landsat-dds.qa-lsdsdpas.chs.usgs.gov/stac-server)\n",
    "\n",
    "\n",
    "---\n",
    "Hey Tony. We have a stac-server instance deployed in ST here: https://74kin890wi.execute-api.us-west-2.amazonaws.com/st\n",
    " \n",
    "We are still working out some things in the background and will be changing some of the stac key names early next week.\n",
    "\n",
    "Hey what is the development URL for stac-api?\n",
    " \n",
    "---\n",
    " \n",
    "the production is this -- \n",
    "\n",
    "https://landsatlook.usgs.gov/sat-api/stac\n",
    "\n",
    "right?\n",
    "\n",
    "---\n",
    "self.url = 'https://earth-search.aws.element84.com/v0'\n",
    "        #self.url = 'https://landsatlook.usgs.gov/stac-server'\n",
    "        #self.url = 'https://ibhoyw8md9.execute-api.us-west-2.amazonaws.com/prod'\n",
    "        #self.url = 'https://landsatlook.usgs.gov/sat-api/stac'"
   ]
  },
  {
   "cell_type": "code",
   "execution_count": 1,
   "id": "a67d8a88",
   "metadata": {},
   "outputs": [],
   "source": [
    "# curl tests"
   ]
  },
  {
   "cell_type": "code",
   "execution_count": 2,
   "id": "c0df597f",
   "metadata": {},
   "outputs": [
    {
     "name": "stdout",
     "output_type": "stream",
     "text": [
      "https://landsatlook.usgs.gov/stac-server\n",
      "https://st-usgs-landsat-dds.qa-lsdsdpas.chs.usgs.gov/stac-server\n",
      "https://earth-search.aws.element84.com/v0\n"
     ]
    }
   ],
   "source": [
    "urls=['https://landsatlook.usgs.gov/stac-server', \\\n",
    "      # No Description 'https://landsatlook.usgs.gov/sat-api/stac', \\\n",
    "      'https://st-usgs-landsat-dds.qa-lsdsdpas.chs.usgs.gov/stac-server', \\\n",
    "      # No Description 'https://74kin890wi.execute-api.us-west-2.amazonaws.com/st', \\\n",
    "      'https://earth-search.aws.element84.com/v0'\n",
    "]\n",
    "\n",
    "for u in urls:\n",
    "    print(u)\n",
    "#url_d1 = {'url':''}"
   ]
  },
  {
   "cell_type": "code",
   "execution_count": 3,
   "id": "65c5d78c",
   "metadata": {},
   "outputs": [],
   "source": [
    "#! curl https://landsatlook.usgs.gov/stac-server/collections | python3 -m json.tool"
   ]
  },
  {
   "cell_type": "code",
   "execution_count": 4,
   "id": "e35f0e52",
   "metadata": {},
   "outputs": [],
   "source": [
    "#! jq"
   ]
  },
  {
   "cell_type": "code",
   "execution_count": 26,
   "id": "f35df3f7",
   "metadata": {},
   "outputs": [],
   "source": [
    "import requests\n",
    "import json\n",
    "\n",
    "class STAC101:\n",
    "    \n",
    "    def __init__(self, url):\n",
    "        print(\"Instantiate class STAC101 (Landsat)\", url)\n",
    "        self.url = url\n",
    "        \n",
    "    def description(self):\n",
    "        the_json_dict = requests.get(self.url).json()\n",
    "        return(the_json_dict['description']) \n",
    "    \n",
    "    def summary_dict(self):\n",
    "        summary_dict = {}\n",
    "        the_json_dict = requests.get(self.url).json()\n",
    "        summary_dict = {\n",
    "            'url':self.url,\n",
    "             'id':the_json_dict['id'],\n",
    "            'stac_version':the_json_dict['stac_version'],            \n",
    "            'stac_api_version':the_json_dict['stac_api_version'],\n",
    "            'description':the_json_dict['description'],\n",
    "        }\n",
    "        return(summary_dict)\n",
    "    \n",
    "    def collection_dict(self):\n",
    "        my_url = self.url + '/collections'\n",
    "        the_json_dict = requests.get(self.url).json()\n",
    "        return(the_json_dict)\n",
    "\n",
    "        \n",
    "\n",
    "        \n",
    "# {\"stac_version\":\"1.0.0-beta.2\",\"stac_api_version\":\"0.9.0\",\"id\":\"earth-search\",\"title\":\"Earth Search\","
   ]
  },
  {
   "cell_type": "code",
   "execution_count": 27,
   "id": "c21ced37",
   "metadata": {},
   "outputs": [
    {
     "name": "stdout",
     "output_type": "stream",
     "text": [
      "Instantiate class STAC101 (Landsat) https://landsatlook.usgs.gov/stac-server\n",
      "Production STAC API using stac-server\n",
      "Instantiate class STAC101 (Landsat) https://st-usgs-landsat-dds.qa-lsdsdpas.chs.usgs.gov/stac-server\n",
      "System-Test STAC API using stac-server\n",
      "Instantiate class STAC101 (Landsat) https://earth-search.aws.element84.com/v0\n",
      "A STAC API of AWS Public Datasets powered by stac-server\n"
     ]
    }
   ],
   "source": [
    "summary_array = []\n",
    "for u in urls:\n",
    "    s1 = STAC101(u)\n",
    "    print(s1.description())\n",
    "    summary_array.append(s1.summary_dict())"
   ]
  },
  {
   "cell_type": "code",
   "execution_count": 28,
   "id": "8cec593d",
   "metadata": {},
   "outputs": [],
   "source": [
    "import pandas as pd\n",
    "\n",
    "\n",
    "df = pd.DataFrame(summary_array)"
   ]
  },
  {
   "cell_type": "code",
   "execution_count": 29,
   "id": "fbb9f028-bfda-45f8-99f3-290363bbac9f",
   "metadata": {},
   "outputs": [
    {
     "data": {
      "text/html": [
       "<div>\n",
       "<style scoped>\n",
       "    .dataframe tbody tr th:only-of-type {\n",
       "        vertical-align: middle;\n",
       "    }\n",
       "\n",
       "    .dataframe tbody tr th {\n",
       "        vertical-align: top;\n",
       "    }\n",
       "\n",
       "    .dataframe thead th {\n",
       "        text-align: right;\n",
       "    }\n",
       "</style>\n",
       "<table border=\"1\" class=\"dataframe\">\n",
       "  <thead>\n",
       "    <tr style=\"text-align: right;\">\n",
       "      <th></th>\n",
       "      <th>url</th>\n",
       "      <th>id</th>\n",
       "      <th>stac_version</th>\n",
       "      <th>stac_api_version</th>\n",
       "      <th>description</th>\n",
       "    </tr>\n",
       "  </thead>\n",
       "  <tbody>\n",
       "    <tr>\n",
       "      <th>0</th>\n",
       "      <td>https://landsatlook.usgs.gov/stac-server</td>\n",
       "      <td>stac-server</td>\n",
       "      <td>1.0.0</td>\n",
       "      <td>0.9.0</td>\n",
       "      <td>Production STAC API using stac-server</td>\n",
       "    </tr>\n",
       "    <tr>\n",
       "      <th>1</th>\n",
       "      <td>https://st-usgs-landsat-dds.qa-lsdsdpas.chs.us...</td>\n",
       "      <td>stac-server</td>\n",
       "      <td>1.0.0</td>\n",
       "      <td>0.9.0</td>\n",
       "      <td>System-Test STAC API using stac-server</td>\n",
       "    </tr>\n",
       "    <tr>\n",
       "      <th>2</th>\n",
       "      <td>https://earth-search.aws.element84.com/v0</td>\n",
       "      <td>earth-search</td>\n",
       "      <td>1.0.0-beta.2</td>\n",
       "      <td>0.9.0</td>\n",
       "      <td>A STAC API of AWS Public Datasets powered by s...</td>\n",
       "    </tr>\n",
       "  </tbody>\n",
       "</table>\n",
       "</div>"
      ],
      "text/plain": [
       "                                                 url            id  \\\n",
       "0           https://landsatlook.usgs.gov/stac-server   stac-server   \n",
       "1  https://st-usgs-landsat-dds.qa-lsdsdpas.chs.us...   stac-server   \n",
       "2          https://earth-search.aws.element84.com/v0  earth-search   \n",
       "\n",
       "   stac_version stac_api_version  \\\n",
       "0         1.0.0            0.9.0   \n",
       "1         1.0.0            0.9.0   \n",
       "2  1.0.0-beta.2            0.9.0   \n",
       "\n",
       "                                         description  \n",
       "0              Production STAC API using stac-server  \n",
       "1             System-Test STAC API using stac-server  \n",
       "2  A STAC API of AWS Public Datasets powered by s...  "
      ]
     },
     "execution_count": 29,
     "metadata": {},
     "output_type": "execute_result"
    }
   ],
   "source": [
    "df"
   ]
  },
  {
   "cell_type": "code",
   "execution_count": 30,
   "id": "e5a893a8-286b-4f9a-8aa3-29d9d3926c9a",
   "metadata": {},
   "outputs": [
    {
     "name": "stdout",
     "output_type": "stream",
     "text": [
      "Instantiate class STAC101 (Landsat) https://landsatlook.usgs.gov/stac-server\n"
     ]
    }
   ],
   "source": [
    "u = urls[0]\n",
    "s1 = STAC101(u)\n"
   ]
  },
  {
   "cell_type": "code",
   "execution_count": 36,
   "id": "ff97c7cd-da52-49bd-becf-9074196a171d",
   "metadata": {},
   "outputs": [
    {
     "name": "stdout",
     "output_type": "stream",
     "text": [
      "https://landsatlook.usgs.gov/stac-server/collections/landsat-c1l2alb-st\n",
      "https://landsatlook.usgs.gov/stac-server/collections/landsat-c2l2-sr\n",
      "https://landsatlook.usgs.gov/stac-server/collections/landsat-c2l2-st\n",
      "https://landsatlook.usgs.gov/stac-server/collections/landsat-c2ard-st\n",
      "https://landsatlook.usgs.gov/stac-server/collections/landsat-c2l2alb-bt\n",
      "https://landsatlook.usgs.gov/stac-server/collections/landsat-c2ard-bt\n",
      "https://landsatlook.usgs.gov/stac-server/collections/landsat-c1l2alb-bt\n",
      "https://landsatlook.usgs.gov/stac-server/collections/landsat-c2l1\n",
      "https://landsatlook.usgs.gov/stac-server/collections/landsat-c1l2alb-ta\n",
      "https://landsatlook.usgs.gov/stac-server/collections/landsat-c2l2alb-st\n",
      "https://landsatlook.usgs.gov/stac-server/collections/landsat-c2ard-sr\n",
      "https://landsatlook.usgs.gov/stac-server/collections/landsat-c1l1\n",
      "https://landsatlook.usgs.gov/stac-server/collections/landsat-c1l2alb-sr\n",
      "https://landsatlook.usgs.gov/stac-server/collections/landsat-c2l2alb-ta\n",
      "https://landsatlook.usgs.gov/stac-server/collections/landsat-c2l2alb-sr\n",
      "https://landsatlook.usgs.gov/stac-server/collections/landsat-c2ard-ta\n"
     ]
    }
   ],
   "source": [
    "for l in s1.collection_dict()['links']:\n",
    "    if l['rel'] == 'child':\n",
    "        print(l['href'])"
   ]
  },
  {
   "cell_type": "code",
   "execution_count": 39,
   "id": "36472b04-6afd-4ccd-97cc-cd65ca7e4ee3",
   "metadata": {},
   "outputs": [
    {
     "name": "stdout",
     "output_type": "stream",
     "text": [
      "  % Total    % Received % Xferd  Average Speed   Time    Time     Time  Current\n",
      "                                 Dload  Upload   Total   Spent    Left  Speed\n",
      "100  4492  100  4492    0     0  32170      0 --:--:-- --:--:-- --:--:-- 32085\n",
      "    \"description\": \"The Landsat Surface Reflectance (SR) product measures the fraction of incoming solar radiation that is reflected from Earth's surface to the Landsat sensor.\",\n",
      "            \"description\": \"Collection 2 Level-2 Angle Coefficients File\",\n",
      "            \"description\": \"Collection 2 Level-2 Product Metadata File\",\n",
      "            \"description\": \"Collection 2 Level-2 Product Metadata File\",\n",
      "            \"description\": \"Collection 2 Level-1 Product Metadata File\",\n",
      "            \"description\": \"Collection 2 Level-2 Atmospheric Opacity Band Surface Reflectance\",\n",
      "            \"description\": \"Collection 2 Level-2 Blue Band Surface Reflectance\",\n",
      "            \"description\": \"Collection 2 Level-2 Cloud Quality Opacity Band Surface Reflectance\",\n",
      "            \"description\": \"Collection 2 Level-2 Coastal/Aerosol Band Surface Reflectance\",\n",
      "            \"description\": \"Collection 2 Level-2 Green Band Surface Reflectance\",\n",
      "            \"description\": \"Collection 2 Level-2 Near Infrared Band Surface Reflectance\",\n",
      "            \"description\": \"Collection 2 Level-2 Aerosol Quality Analysis Band Surface Reflectance\",\n",
      "            \"description\": \"Collection 2 Level-2 Pixel Quality Assessment Band Surface Reflectance\",\n",
      "            \"description\": \"Collection 2 Level-2 Radiometric Saturation Quality Assessment Band Surface Reflectance\",\n",
      "            \"description\": \"Collection 2 Level-2 Red Band Surface Reflectance\",\n",
      "            \"description\": \"Collection 2 Level-2 Short-wave Infrared Band Surface Reflectance\",\n",
      "            \"description\": \"Collection 2 Level-2 Short-wave Infrared Band Surface Reflectance\",\n"
     ]
    }
   ],
   "source": [
    "! curl https://landsatlook.usgs.gov/stac-server/collections/landsat-c2l2-sr |python3 -m json.tool | grep description"
   ]
  },
  {
   "cell_type": "code",
   "execution_count": null,
   "id": "b5233ee1-0a03-4f37-9328-a30bbd6ce2fd",
   "metadata": {},
   "outputs": [],
   "source": []
  }
 ],
 "metadata": {
  "kernelspec": {
   "display_name": "Python 3",
   "language": "python",
   "name": "python3"
  },
  "language_info": {
   "codemirror_mode": {
    "name": "ipython",
    "version": 3
   },
   "file_extension": ".py",
   "mimetype": "text/x-python",
   "name": "python",
   "nbconvert_exporter": "python",
   "pygments_lexer": "ipython3",
   "version": "3.7.10"
  }
 },
 "nbformat": 4,
 "nbformat_minor": 5
}
