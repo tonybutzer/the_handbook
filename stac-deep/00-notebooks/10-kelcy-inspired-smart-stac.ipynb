{
 "cells": [
  {
   "cell_type": "markdown",
   "id": "61ff9637",
   "metadata": {},
   "source": [
    "# Documentation here"
   ]
  },
  {
   "cell_type": "code",
   "execution_count": 1,
   "id": "06481fc0",
   "metadata": {},
   "outputs": [
    {
     "name": "stdout",
     "output_type": "stream",
     "text": [
      "/home/jovyan/.x_api_key\r\n"
     ]
    }
   ],
   "source": [
    "! ls ~/.x_api_key"
   ]
  },
  {
   "cell_type": "code",
   "execution_count": 2,
   "id": "4484de4e",
   "metadata": {},
   "outputs": [],
   "source": [
    "import requests"
   ]
  },
  {
   "cell_type": "code",
   "execution_count": 3,
   "id": "f79edb48",
   "metadata": {},
   "outputs": [],
   "source": [
    "import os\n",
    "key_file = os.getenv(\"HOME\") + '/.x_api_key'\n",
    "with open(key_file, 'r') as file:\n",
    "    x_api_key = file.read().replace('\\n', '')"
   ]
  },
  {
   "cell_type": "code",
   "execution_count": 4,
   "id": "9996c350",
   "metadata": {},
   "outputs": [],
   "source": [
    "_stac = 'https://api.smart-stac.com'"
   ]
  },
  {
   "cell_type": "code",
   "execution_count": 5,
   "id": "c5b4e33c",
   "metadata": {},
   "outputs": [
    {
     "data": {
      "text/plain": [
       "{'stac_version': '1.0.0-beta.2',\n",
       " 'stac_api_version': '0.9.0',\n",
       " 'id': 'smart-stac-api',\n",
       " 'title': 'SMART STAC API',\n",
       " 'description': 'A STAC API for SMART Program Datasets powered by stac-server',\n",
       " 'links': [{'rel': 'child',\n",
       "   'href': 'https://api.smart-stac.com/collections/landsat-c2l2-sr'},\n",
       "  {'rel': 'child',\n",
       "   'href': 'https://api.smart-stac.com/collections/worldview-nitf'},\n",
       "  {'rel': 'child',\n",
       "   'href': 'https://api.smart-stac.com/collections/worldview-nitf-reserved'},\n",
       "  {'rel': 'child',\n",
       "   'href': 'https://api.smart-stac.com/collections/landsat-c2l1'},\n",
       "  {'rel': 'child',\n",
       "   'href': 'https://api.smart-stac.com/collections/sentinel-s2-l2a'},\n",
       "  {'rel': 'child',\n",
       "   'href': 'https://api.smart-stac.com/collections/sentinel-s2-l1c'},\n",
       "  {'rel': 'service-desc',\n",
       "   'type': 'application/vnd.oai.openapi+json;version=3.0',\n",
       "   'href': 'https://api.smart-stac.com/api'},\n",
       "  {'rel': 'conformance',\n",
       "   'type': 'application/json',\n",
       "   'href': 'https://api.smart-stac.com/conformance'},\n",
       "  {'rel': 'children',\n",
       "   'type': 'application/json',\n",
       "   'href': 'https://api.smart-stac.com/collections'},\n",
       "  {'rel': 'self',\n",
       "   'type': 'application/json',\n",
       "   'href': 'https://api.smart-stac.com/'},\n",
       "  {'rel': 'search',\n",
       "   'type': 'application/json',\n",
       "   'href': 'https://api.smart-stac.com/search'},\n",
       "  {'rel': 'docs',\n",
       "   'href': 'https://infrastructure.smartgitlab.com/smart-stac-api/'}]}"
      ]
     },
     "execution_count": 5,
     "metadata": {},
     "output_type": "execute_result"
    }
   ],
   "source": [
    "requests.get(_stac, headers={'x-api-key':x_api_key}).json()"
   ]
  },
  {
   "cell_type": "code",
   "execution_count": null,
   "id": "a9b6b487",
   "metadata": {},
   "outputs": [],
   "source": []
  }
 ],
 "metadata": {
  "kernelspec": {
   "display_name": "Python 3",
   "language": "python",
   "name": "python3"
  },
  "language_info": {
   "codemirror_mode": {
    "name": "ipython",
    "version": 3
   },
   "file_extension": ".py",
   "mimetype": "text/x-python",
   "name": "python",
   "nbconvert_exporter": "python",
   "pygments_lexer": "ipython3",
   "version": "3.7.10"
  }
 },
 "nbformat": 4,
 "nbformat_minor": 5
}
