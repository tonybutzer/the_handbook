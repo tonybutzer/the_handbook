{
 "cells": [
  {
   "cell_type": "markdown",
   "id": "07d9f837",
   "metadata": {},
   "source": [
    "# Understand STAC"
   ]
  },
  {
   "cell_type": "markdown",
   "id": "43135e27",
   "metadata": {},
   "source": [
    "# TL;DR\n",
    "\n"
   ]
  },
  {
   "cell_type": "code",
   "execution_count": 1,
   "id": "6b85e66f",
   "metadata": {},
   "outputs": [
    {
     "ename": "NameError",
     "evalue": "name 'jq' is not defined",
     "output_type": "error",
     "traceback": [
      "\u001b[0;31m---------------------------------------------------------------------------\u001b[0m",
      "\u001b[0;31mNameError\u001b[0m                                 Traceback (most recent call last)",
      "\u001b[0;32m<ipython-input-1-b9b1035fdfdf>\u001b[0m in \u001b[0;36m<module>\u001b[0;34m\u001b[0m\n\u001b[0;32m----> 1\u001b[0;31m \u001b[0mjq\u001b[0m \u001b[0;34m-\u001b[0m\u001b[0;34m-\u001b[0m\u001b[0mhelp\u001b[0m\u001b[0;34m\u001b[0m\u001b[0;34m\u001b[0m\u001b[0m\n\u001b[0m",
      "\u001b[0;31mNameError\u001b[0m: name 'jq' is not defined"
     ]
    }
   ],
   "source": [
    "jq --help"
   ]
  },
  {
   "cell_type": "code",
   "execution_count": 4,
   "id": "c1f80966",
   "metadata": {},
   "outputs": [
    {
     "name": "stdout",
     "output_type": "stream",
     "text": [
      "Collecting package metadata (current_repodata.json): done\n",
      "Solving environment: done\n",
      "\n",
      "## Package Plan ##\n",
      "\n",
      "  environment location: /srv/conda/envs/pangeo\n",
      "\n",
      "  added / updated specs:\n",
      "    - jq\n",
      "\n",
      "\n",
      "The following packages will be downloaded:\n",
      "\n",
      "    package                    |            build\n",
      "    ---------------------------|-----------------\n",
      "    ca-certificates-2021.5.25  |       h06a4308_1         112 KB  defaults\n",
      "    certifi-2021.5.30          |   py37h06a4308_0         139 KB  defaults\n",
      "    jq-1.6                     |    h27cfd23_1000         257 KB  defaults\n",
      "    oniguruma-6.9.7.1          |       h27cfd23_0         244 KB  defaults\n",
      "    openssl-1.1.1k             |       h27cfd23_0         2.5 MB  defaults\n",
      "    ------------------------------------------------------------\n",
      "                                           Total:         3.3 MB\n",
      "\n",
      "The following NEW packages will be INSTALLED:\n",
      "\n",
      "  jq                 pkgs/main/linux-64::jq-1.6-h27cfd23_1000\n",
      "  oniguruma          pkgs/main/linux-64::oniguruma-6.9.7.1-h27cfd23_0\n",
      "\n",
      "The following packages will be SUPERSEDED by a higher-priority channel:\n",
      "\n",
      "  ca-certificates    conda-forge::ca-certificates-2021.5.3~ --> pkgs/main::ca-certificates-2021.5.25-h06a4308_1\n",
      "  certifi            conda-forge::certifi-2021.5.30-py37h8~ --> pkgs/main::certifi-2021.5.30-py37h06a4308_0\n",
      "  openssl            conda-forge::openssl-1.1.1k-h7f98852_0 --> pkgs/main::openssl-1.1.1k-h27cfd23_0\n",
      "\n",
      "\n",
      "\n",
      "Downloading and Extracting Packages\n",
      "ca-certificates-2021 | 112 KB    | ##################################### | 100% \n",
      "certifi-2021.5.30    | 139 KB    | ##################################### | 100% \n",
      "openssl-1.1.1k       | 2.5 MB    | ##################################### | 100% \n",
      "jq-1.6               | 257 KB    | ##################################### | 100% \n",
      "oniguruma-6.9.7.1    | 244 KB    | ##################################### | 100% \n",
      "Preparing transaction: done\n",
      "Verifying transaction: done\n",
      "Executing transaction: done\n"
     ]
    }
   ],
   "source": [
    "! conda install -y jq"
   ]
  },
  {
   "cell_type": "code",
   "execution_count": 3,
   "id": "bd3af15b",
   "metadata": {},
   "outputs": [
    {
     "name": "stdout",
     "output_type": "stream",
     "text": [
      "Usage: curl [options...] <url>\r\n",
      " -d, --data <data>   HTTP POST data\r\n",
      " -f, --fail          Fail silently (no output at all) on HTTP errors\r\n",
      " -h, --help <category>  Get help for commands\r\n",
      " -i, --include       Include protocol response headers in the output\r\n",
      " -o, --output <file>  Write to file instead of stdout\r\n",
      " -O, --remote-name   Write output to a file named as the remote file\r\n",
      " -s, --silent        Silent mode\r\n",
      " -T, --upload-file <file>  Transfer local FILE to destination\r\n",
      " -u, --user <user:password>  Server user and password\r\n",
      " -A, --user-agent <name>  Send User-Agent <name> to server\r\n",
      " -v, --verbose       Make the operation more talkative\r\n",
      " -V, --version       Show version number and quit\r\n",
      "\r\n",
      "This is not the full help, this menu is stripped into categories.\r\n",
      "Use \"--help category\" to get an overview of all categories.\r\n",
      "For all options use the manual or \"--help all\".\r\n"
     ]
    }
   ],
   "source": [
    "!curl --help"
   ]
  },
  {
   "cell_type": "code",
   "execution_count": 21,
   "id": "dbfca055",
   "metadata": {},
   "outputs": [
    {
     "name": "stdout",
     "output_type": "stream",
     "text": [
      "  % Total    % Received % Xferd  Average Speed   Time    Time     Time  Current\n",
      "                                 Dload  Upload   Total   Spent    Left  Speed\n",
      "100  1225  100  1225    0     0  15005      0 --:--:-- --:--:-- --:--:-- 15123\n",
      "\u001b[1;39m{\n",
      "  \u001b[0m\u001b[34;1m\"stac_version\"\u001b[0m\u001b[1;39m: \u001b[0m\u001b[0;32m\"1.0.0-beta.2\"\u001b[0m\u001b[1;39m,\n",
      "  \u001b[0m\u001b[34;1m\"stac_api_version\"\u001b[0m\u001b[1;39m: \u001b[0m\u001b[0;32m\"0.9.0\"\u001b[0m\u001b[1;39m,\n",
      "  \u001b[0m\u001b[34;1m\"id\"\u001b[0m\u001b[1;39m: \u001b[0m\u001b[0;32m\"smart-stac-api\"\u001b[0m\u001b[1;39m,\n",
      "  \u001b[0m\u001b[34;1m\"title\"\u001b[0m\u001b[1;39m: \u001b[0m\u001b[0;32m\"SMART STAC API\"\u001b[0m\u001b[1;39m,\n",
      "  \u001b[0m\u001b[34;1m\"description\"\u001b[0m\u001b[1;39m: \u001b[0m\u001b[0;32m\"A STAC API for SMART Program Datasets powered by stac-server\"\u001b[0m\u001b[1;39m,\n",
      "  \u001b[0m\u001b[34;1m\"links\"\u001b[0m\u001b[1;39m: \u001b[0m\u001b[1;39m[\n",
      "    \u001b[1;39m{\n",
      "      \u001b[0m\u001b[34;1m\"rel\"\u001b[0m\u001b[1;39m: \u001b[0m\u001b[0;32m\"child\"\u001b[0m\u001b[1;39m,\n",
      "      \u001b[0m\u001b[34;1m\"href\"\u001b[0m\u001b[1;39m: \u001b[0m\u001b[0;32m\"https://api.smart-stac.com/collections/landsat-c2l2-sr\"\u001b[0m\u001b[1;39m\n",
      "    \u001b[1;39m}\u001b[0m\u001b[1;39m,\n",
      "    \u001b[1;39m{\n",
      "      \u001b[0m\u001b[34;1m\"rel\"\u001b[0m\u001b[1;39m: \u001b[0m\u001b[0;32m\"child\"\u001b[0m\u001b[1;39m,\n",
      "      \u001b[0m\u001b[34;1m\"href\"\u001b[0m\u001b[1;39m: \u001b[0m\u001b[0;32m\"https://api.smart-stac.com/collections/worldview-nitf\"\u001b[0m\u001b[1;39m\n",
      "    \u001b[1;39m}\u001b[0m\u001b[1;39m,\n",
      "    \u001b[1;39m{\n",
      "      \u001b[0m\u001b[34;1m\"rel\"\u001b[0m\u001b[1;39m: \u001b[0m\u001b[0;32m\"child\"\u001b[0m\u001b[1;39m,\n",
      "      \u001b[0m\u001b[34;1m\"href\"\u001b[0m\u001b[1;39m: \u001b[0m\u001b[0;32m\"https://api.smart-stac.com/collections/worldview-nitf-reserved\"\u001b[0m\u001b[1;39m\n",
      "    \u001b[1;39m}\u001b[0m\u001b[1;39m,\n",
      "    \u001b[1;39m{\n",
      "      \u001b[0m\u001b[34;1m\"rel\"\u001b[0m\u001b[1;39m: \u001b[0m\u001b[0;32m\"child\"\u001b[0m\u001b[1;39m,\n",
      "      \u001b[0m\u001b[34;1m\"href\"\u001b[0m\u001b[1;39m: \u001b[0m\u001b[0;32m\"https://api.smart-stac.com/collections/landsat-c2l1\"\u001b[0m\u001b[1;39m\n",
      "    \u001b[1;39m}\u001b[0m\u001b[1;39m,\n",
      "    \u001b[1;39m{\n",
      "      \u001b[0m\u001b[34;1m\"rel\"\u001b[0m\u001b[1;39m: \u001b[0m\u001b[0;32m\"child\"\u001b[0m\u001b[1;39m,\n",
      "      \u001b[0m\u001b[34;1m\"href\"\u001b[0m\u001b[1;39m: \u001b[0m\u001b[0;32m\"https://api.smart-stac.com/collections/sentinel-s2-l2a\"\u001b[0m\u001b[1;39m\n",
      "    \u001b[1;39m}\u001b[0m\u001b[1;39m,\n",
      "    \u001b[1;39m{\n",
      "      \u001b[0m\u001b[34;1m\"rel\"\u001b[0m\u001b[1;39m: \u001b[0m\u001b[0;32m\"child\"\u001b[0m\u001b[1;39m,\n",
      "      \u001b[0m\u001b[34;1m\"href\"\u001b[0m\u001b[1;39m: \u001b[0m\u001b[0;32m\"https://api.smart-stac.com/collections/sentinel-s2-l1c\"\u001b[0m\u001b[1;39m\n",
      "    \u001b[1;39m}\u001b[0m\u001b[1;39m,\n",
      "    \u001b[1;39m{\n",
      "      \u001b[0m\u001b[34;1m\"rel\"\u001b[0m\u001b[1;39m: \u001b[0m\u001b[0;32m\"service-desc\"\u001b[0m\u001b[1;39m,\n",
      "      \u001b[0m\u001b[34;1m\"type\"\u001b[0m\u001b[1;39m: \u001b[0m\u001b[0;32m\"application/vnd.oai.openapi+json;version=3.0\"\u001b[0m\u001b[1;39m,\n",
      "      \u001b[0m\u001b[34;1m\"href\"\u001b[0m\u001b[1;39m: \u001b[0m\u001b[0;32m\"https://api.smart-stac.com/api\"\u001b[0m\u001b[1;39m\n",
      "    \u001b[1;39m}\u001b[0m\u001b[1;39m,\n",
      "    \u001b[1;39m{\n",
      "      \u001b[0m\u001b[34;1m\"rel\"\u001b[0m\u001b[1;39m: \u001b[0m\u001b[0;32m\"conformance\"\u001b[0m\u001b[1;39m,\n",
      "      \u001b[0m\u001b[34;1m\"type\"\u001b[0m\u001b[1;39m: \u001b[0m\u001b[0;32m\"application/json\"\u001b[0m\u001b[1;39m,\n",
      "      \u001b[0m\u001b[34;1m\"href\"\u001b[0m\u001b[1;39m: \u001b[0m\u001b[0;32m\"https://api.smart-stac.com/conformance\"\u001b[0m\u001b[1;39m\n",
      "    \u001b[1;39m}\u001b[0m\u001b[1;39m,\n",
      "    \u001b[1;39m{\n",
      "      \u001b[0m\u001b[34;1m\"rel\"\u001b[0m\u001b[1;39m: \u001b[0m\u001b[0;32m\"children\"\u001b[0m\u001b[1;39m,\n",
      "      \u001b[0m\u001b[34;1m\"type\"\u001b[0m\u001b[1;39m: \u001b[0m\u001b[0;32m\"application/json\"\u001b[0m\u001b[1;39m,\n",
      "      \u001b[0m\u001b[34;1m\"href\"\u001b[0m\u001b[1;39m: \u001b[0m\u001b[0;32m\"https://api.smart-stac.com/collections\"\u001b[0m\u001b[1;39m\n",
      "    \u001b[1;39m}\u001b[0m\u001b[1;39m,\n",
      "    \u001b[1;39m{\n",
      "      \u001b[0m\u001b[34;1m\"rel\"\u001b[0m\u001b[1;39m: \u001b[0m\u001b[0;32m\"self\"\u001b[0m\u001b[1;39m,\n",
      "      \u001b[0m\u001b[34;1m\"type\"\u001b[0m\u001b[1;39m: \u001b[0m\u001b[0;32m\"application/json\"\u001b[0m\u001b[1;39m,\n",
      "      \u001b[0m\u001b[34;1m\"href\"\u001b[0m\u001b[1;39m: \u001b[0m\u001b[0;32m\"https://api.smart-stac.com/\"\u001b[0m\u001b[1;39m\n",
      "    \u001b[1;39m}\u001b[0m\u001b[1;39m,\n",
      "    \u001b[1;39m{\n",
      "      \u001b[0m\u001b[34;1m\"rel\"\u001b[0m\u001b[1;39m: \u001b[0m\u001b[0;32m\"search\"\u001b[0m\u001b[1;39m,\n",
      "      \u001b[0m\u001b[34;1m\"type\"\u001b[0m\u001b[1;39m: \u001b[0m\u001b[0;32m\"application/json\"\u001b[0m\u001b[1;39m,\n",
      "      \u001b[0m\u001b[34;1m\"href\"\u001b[0m\u001b[1;39m: \u001b[0m\u001b[0;32m\"https://api.smart-stac.com/search\"\u001b[0m\u001b[1;39m\n",
      "    \u001b[1;39m}\u001b[0m\u001b[1;39m,\n",
      "    \u001b[1;39m{\n",
      "      \u001b[0m\u001b[34;1m\"rel\"\u001b[0m\u001b[1;39m: \u001b[0m\u001b[0;32m\"docs\"\u001b[0m\u001b[1;39m,\n",
      "      \u001b[0m\u001b[34;1m\"href\"\u001b[0m\u001b[1;39m: \u001b[0m\u001b[0;32m\"https://infrastructure.smartgitlab.com/smart-stac-api/\"\u001b[0m\u001b[1;39m\n",
      "    \u001b[1;39m}\u001b[0m\u001b[1;39m\n",
      "  \u001b[1;39m]\u001b[0m\u001b[1;39m\n",
      "\u001b[1;39m}\u001b[0m\n"
     ]
    }
   ],
   "source": [
    "! eval curl --location --request POST 'https://api.smart-stac.com/' `cat ~/.header_x_api_key.secret` |jq ."
   ]
  },
  {
   "cell_type": "code",
   "execution_count": null,
   "id": "659d9898",
   "metadata": {},
   "outputs": [],
   "source": [
    "! eval curl --location --request POST 'https://api.smart-stac.com/' `cat ~/.header_x_api_key.secret` |jq ."
   ]
  }
 ],
 "metadata": {
  "kernelspec": {
   "display_name": "Python 3",
   "language": "python",
   "name": "python3"
  },
  "language_info": {
   "codemirror_mode": {
    "name": "ipython",
    "version": 3
   },
   "file_extension": ".py",
   "mimetype": "text/x-python",
   "name": "python",
   "nbconvert_exporter": "python",
   "pygments_lexer": "ipython3",
   "version": "3.7.10"
  }
 },
 "nbformat": 4,
 "nbformat_minor": 5
}
