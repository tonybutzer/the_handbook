{
 "cells": [
  {
   "cell_type": "code",
   "execution_count": 1,
   "metadata": {},
   "outputs": [
    {
     "name": "stdout",
     "output_type": "stream",
     "text": [
      "{\"blockxsize\": 512, \"blockysize\": 512, \"bounds\": [404385.0, 2120085.0, 632415.0, 2352915.0], \"colorinterp\": [\"gray\"], \"compress\": \"deflate\", \"count\": 1, \"crs\": \"EPSG:32648\", \"descriptions\": [null], \"driver\": \"GTiff\", \"dtype\": \"uint16\", \"height\": 7761, \"indexes\": [1], \"interleave\": \"band\", \"lnglat\": [105.17615197609985, 20.2259948720388], \"mask_flags\": [[\"all_valid\"]], \"nodata\": null, \"res\": [30.0, 30.0], \"shape\": [7761, 7601], \"tiled\": true, \"transform\": [30.0, 0.0, 404385.0, 0.0, -30.0, 2352915.0, 0.0, 0.0, 1.0], \"units\": [null], \"width\": 7601}\n"
     ]
    }
   ],
   "source": [
    "%%bash\n",
    "export CURL_CA_BUNDLE=/etc/ssl/certs/ca-certificates.crt\n",
    "rio info https://landsat-pds.s3.amazonaws.com/c1/L8/127/046/LC08_L1TP_127046_20150122_20170413_01_T1/LC08_L1TP_127046_20150122_20170413_01_T1_B4.TIF\n"
   ]
  },
  {
   "cell_type": "code",
   "execution_count": 2,
   "metadata": {},
   "outputs": [
    {
     "name": "stdout",
     "output_type": "stream",
     "text": [
      "Traceback (most recent call last):\r\n",
      "  File \"rasterio/_base.pyx\", line 198, in rasterio._base.DatasetBase.__init__\r\n",
      "  File \"rasterio/_shim.pyx\", line 64, in rasterio._shim.open_dataset\r\n",
      "  File \"rasterio/_err.pyx\", line 194, in rasterio._err.exc_wrap_pointer\r\n",
      "rasterio._err.CPLE_HttpResponseError: CURL error: error setting certificate verify locations:   CAfile: /etc/pki/tls/certs/ca-bundle.crt   CApath: none\r\n",
      "\r\n",
      "During handling of the above exception, another exception occurred:\r\n",
      "\r\n",
      "Traceback (most recent call last):\r\n",
      "  File \"/opt/conda/bin/rio\", line 10, in <module>\r\n",
      "    sys.exit(main_group())\r\n",
      "  File \"/opt/conda/lib/python3.6/site-packages/click/core.py\", line 764, in __call__\r\n",
      "    return self.main(*args, **kwargs)\r\n",
      "  File \"/opt/conda/lib/python3.6/site-packages/click/core.py\", line 717, in main\r\n",
      "    rv = self.invoke(ctx)\r\n",
      "  File \"/opt/conda/lib/python3.6/site-packages/click/core.py\", line 1137, in invoke\r\n",
      "    return _process_result(sub_ctx.command.invoke(sub_ctx))\r\n",
      "  File \"/opt/conda/lib/python3.6/site-packages/click/core.py\", line 956, in invoke\r\n",
      "    return ctx.invoke(self.callback, **ctx.params)\r\n",
      "  File \"/opt/conda/lib/python3.6/site-packages/click/core.py\", line 555, in invoke\r\n",
      "    return callback(*args, **kwargs)\r\n",
      "  File \"/opt/conda/lib/python3.6/site-packages/click/decorators.py\", line 17, in new_func\r\n",
      "    return f(get_current_context(), *args, **kwargs)\r\n",
      "  File \"/opt/conda/lib/python3.6/site-packages/rasterio/rio/info.py\", line 66, in info\r\n",
      "    with ctx.obj['env'], rasterio.open(input) as src:\r\n",
      "  File \"/opt/conda/lib/python3.6/site-packages/rasterio/env.py\", line 421, in wrapper\r\n",
      "    return f(*args, **kwds)\r\n",
      "  File \"/opt/conda/lib/python3.6/site-packages/rasterio/__init__.py\", line 216, in open\r\n",
      "    s = DatasetReader(path, driver=driver, **kwargs)\r\n",
      "  File \"rasterio/_base.pyx\", line 200, in rasterio._base.DatasetBase.__init__\r\n",
      "rasterio.errors.RasterioIOError: CURL error: error setting certificate verify locations:   CAfile: /etc/pki/tls/certs/ca-bundle.crt   CApath: none\r\n"
     ]
    }
   ],
   "source": [
    "! rio info https://landsat-pds.s3.amazonaws.com/c1/L8/127/046/LC08_L1TP_127046_20150122_20170413_01_T1/LC08_L1TP_127046_20150122_20170413_01_T1_B4.TIF"
   ]
  },
  {
   "cell_type": "code",
   "execution_count": null,
   "metadata": {},
   "outputs": [],
   "source": []
  }
 ],
 "metadata": {
  "kernelspec": {
   "display_name": "Python 3",
   "language": "python",
   "name": "python3"
  },
  "language_info": {
   "codemirror_mode": {
    "name": "ipython",
    "version": 3
   },
   "file_extension": ".py",
   "mimetype": "text/x-python",
   "name": "python",
   "nbconvert_exporter": "python",
   "pygments_lexer": "ipython3",
   "version": "3.6.7"
  }
 },
 "nbformat": 4,
 "nbformat_minor": 2
}
