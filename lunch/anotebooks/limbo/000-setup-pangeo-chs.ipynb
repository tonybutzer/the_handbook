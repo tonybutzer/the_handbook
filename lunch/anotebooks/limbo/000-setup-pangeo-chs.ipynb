{
 "cells": [
  {
   "cell_type": "code",
   "execution_count": 1,
   "metadata": {},
   "outputs": [
    {
     "name": "stdout",
     "output_type": "stream",
     "text": [
      "anotebooks\n",
      "app\n",
      "eng\n",
      "lib\n",
      "Makefile\n",
      "pkg\n",
      "push.sh\n",
      "Readme.md\n",
      "dcindexLib\n",
      "litelasticLib\n",
      "litestacLib\n",
      "Makefile\n",
      "notebookLib\n",
      "xarrayLib\n",
      "Obtaining file:///home/jovyan/lite-stac/lib/litestacLib\n",
      "Requirement already satisfied: sat-search in /srv/conda/envs/notebook/lib/python3.6/site-packages (from litestacLib==1.0.1) (0.2.1)\n",
      "Requirement already satisfied: pandas in /srv/conda/envs/notebook/lib/python3.6/site-packages (from litestacLib==1.0.1) (0.24.2)\n",
      "Requirement already satisfied: rasterio in /srv/conda/envs/notebook/lib/python3.6/site-packages (from litestacLib==1.0.1) (1.0.24)\n",
      "Requirement already satisfied: xarray in /srv/conda/envs/notebook/lib/python3.6/site-packages (from litestacLib==1.0.1) (0.12.1)\n",
      "Collecting geojson (from litestacLib==1.0.1)\n",
      "  Using cached https://files.pythonhosted.org/packages/f1/34/bc3a65faabce27a7faa755ab08d811207a4fc438f77ef09c229fc022d778/geojson-2.4.1-py2.py3-none-any.whl\n",
      "Requirement already satisfied: pyproj in /srv/conda/envs/notebook/lib/python3.6/site-packages (from litestacLib==1.0.1) (1.9.6)\n",
      "Collecting pygeoj (from litestacLib==1.0.1)\n",
      "Requirement already satisfied: sat-stac~=0.1.2 in /srv/conda/envs/notebook/lib/python3.6/site-packages (from sat-search->litestacLib==1.0.1) (0.1.3)\n",
      "Requirement already satisfied: python-dateutil>=2.5.0 in /srv/conda/envs/notebook/lib/python3.6/site-packages (from pandas->litestacLib==1.0.1) (2.7.5)\n",
      "Requirement already satisfied: pytz>=2011k in /srv/conda/envs/notebook/lib/python3.6/site-packages (from pandas->litestacLib==1.0.1) (2019.1)\n",
      "Requirement already satisfied: numpy>=1.12.0 in /srv/conda/envs/notebook/lib/python3.6/site-packages (from pandas->litestacLib==1.0.1) (1.16.4)\n",
      "Requirement already satisfied: affine in /srv/conda/envs/notebook/lib/python3.6/site-packages (from rasterio->litestacLib==1.0.1) (2.2.2)\n",
      "Requirement already satisfied: attrs in /srv/conda/envs/notebook/lib/python3.6/site-packages (from rasterio->litestacLib==1.0.1) (19.1.0)\n",
      "Requirement already satisfied: click<8,>=4.0 in /srv/conda/envs/notebook/lib/python3.6/site-packages (from rasterio->litestacLib==1.0.1) (7.0)\n",
      "Requirement already satisfied: cligj>=0.5 in /srv/conda/envs/notebook/lib/python3.6/site-packages (from rasterio->litestacLib==1.0.1) (0.5.0)\n",
      "Requirement already satisfied: snuggs>=1.4.1 in /srv/conda/envs/notebook/lib/python3.6/site-packages (from rasterio->litestacLib==1.0.1) (1.4.6)\n",
      "Requirement already satisfied: click-plugins in /srv/conda/envs/notebook/lib/python3.6/site-packages (from rasterio->litestacLib==1.0.1) (1.1.1)\n",
      "Requirement already satisfied: requests>=2.19.1 in /srv/conda/envs/notebook/lib/python3.6/site-packages (from sat-stac~=0.1.2->sat-search->litestacLib==1.0.1) (2.22.0)\n",
      "Requirement already satisfied: six>=1.5 in /srv/conda/envs/notebook/lib/python3.6/site-packages (from python-dateutil>=2.5.0->pandas->litestacLib==1.0.1) (1.12.0)\n",
      "Requirement already satisfied: pyparsing>=2.1.6 in /srv/conda/envs/notebook/lib/python3.6/site-packages (from snuggs>=1.4.1->rasterio->litestacLib==1.0.1) (2.4.0)\n",
      "Requirement already satisfied: certifi>=2017.4.17 in /srv/conda/envs/notebook/lib/python3.6/site-packages (from requests>=2.19.1->sat-stac~=0.1.2->sat-search->litestacLib==1.0.1) (2019.6.16)\n",
      "Requirement already satisfied: chardet<3.1.0,>=3.0.2 in /srv/conda/envs/notebook/lib/python3.6/site-packages (from requests>=2.19.1->sat-stac~=0.1.2->sat-search->litestacLib==1.0.1) (3.0.4)\n",
      "Requirement already satisfied: urllib3!=1.25.0,!=1.25.1,<1.26,>=1.21.1 in /srv/conda/envs/notebook/lib/python3.6/site-packages (from requests>=2.19.1->sat-stac~=0.1.2->sat-search->litestacLib==1.0.1) (1.24.3)\n",
      "Requirement already satisfied: idna<2.9,>=2.5 in /srv/conda/envs/notebook/lib/python3.6/site-packages (from requests>=2.19.1->sat-stac~=0.1.2->sat-search->litestacLib==1.0.1) (2.8)\n",
      "Installing collected packages: geojson, pygeoj, litestacLib\n",
      "  Running setup.py develop for litestacLib\n",
      "Successfully installed geojson-2.4.1 litestacLib pygeoj-1.0.0\n"
     ]
    }
   ],
   "source": [
    "%%bash\n",
    "\n",
    "cd ..\n",
    "ls\n",
    "\n",
    "cd lib\n",
    "\n",
    "ls\n",
    "\n",
    "(cd litestacLib && pip install -e . )"
   ]
  },
  {
   "cell_type": "code",
   "execution_count": 2,
   "metadata": {},
   "outputs": [
    {
     "name": "stdout",
     "output_type": "stream",
     "text": [
      "dcindexLib\n",
      "litelasticLib\n",
      "litestacLib\n",
      "Makefile\n",
      "notebookLib\n",
      "xarrayLib\n",
      "Obtaining file:///home/jovyan/lite-stac/lib/notebookLib\n",
      "Requirement already satisfied: matplotlib in /srv/conda/envs/notebook/lib/python3.6/site-packages (from notebookLib==1.0.1) (3.1.0)\n",
      "Requirement already satisfied: shapely in /srv/conda/envs/notebook/lib/python3.6/site-packages (from notebookLib==1.0.1) (1.6.4.post2)\n",
      "Requirement already satisfied: scikit-image in /srv/conda/envs/notebook/lib/python3.6/site-packages (from notebookLib==1.0.1) (0.15.0)\n",
      "Requirement already satisfied: geopandas in /srv/conda/envs/notebook/lib/python3.6/site-packages (from notebookLib==1.0.1) (0.5.0)\n",
      "Collecting ffmpeg (from notebookLib==1.0.1)\n",
      "Requirement already satisfied: kiwisolver>=1.0.1 in /srv/conda/envs/notebook/lib/python3.6/site-packages (from matplotlib->notebookLib==1.0.1) (1.1.0)\n",
      "Requirement already satisfied: pyparsing!=2.0.4,!=2.1.2,!=2.1.6,>=2.0.1 in /srv/conda/envs/notebook/lib/python3.6/site-packages (from matplotlib->notebookLib==1.0.1) (2.4.0)\n",
      "Requirement already satisfied: python-dateutil>=2.1 in /srv/conda/envs/notebook/lib/python3.6/site-packages (from matplotlib->notebookLib==1.0.1) (2.7.5)\n",
      "Requirement already satisfied: cycler>=0.10 in /srv/conda/envs/notebook/lib/python3.6/site-packages (from matplotlib->notebookLib==1.0.1) (0.10.0)\n",
      "Requirement already satisfied: numpy>=1.11 in /srv/conda/envs/notebook/lib/python3.6/site-packages (from matplotlib->notebookLib==1.0.1) (1.16.4)\n",
      "Requirement already satisfied: scipy>=0.17.0 in /srv/conda/envs/notebook/lib/python3.6/site-packages (from scikit-image->notebookLib==1.0.1) (1.3.0)\n",
      "Requirement already satisfied: networkx>=2.0 in /srv/conda/envs/notebook/lib/python3.6/site-packages (from scikit-image->notebookLib==1.0.1) (2.3)\n",
      "Requirement already satisfied: pillow>=4.3.0 in /srv/conda/envs/notebook/lib/python3.6/site-packages (from scikit-image->notebookLib==1.0.1) (6.0.0)\n",
      "Requirement already satisfied: imageio>=2.0.1 in /srv/conda/envs/notebook/lib/python3.6/site-packages (from scikit-image->notebookLib==1.0.1) (2.5.0)\n",
      "Requirement already satisfied: PyWavelets>=0.4.0 in /srv/conda/envs/notebook/lib/python3.6/site-packages (from scikit-image->notebookLib==1.0.1) (1.0.3)\n",
      "Requirement already satisfied: fiona in /srv/conda/envs/notebook/lib/python3.6/site-packages (from geopandas->notebookLib==1.0.1) (1.8.6)\n",
      "Requirement already satisfied: pyproj in /srv/conda/envs/notebook/lib/python3.6/site-packages (from geopandas->notebookLib==1.0.1) (1.9.6)\n",
      "Requirement already satisfied: pandas in /srv/conda/envs/notebook/lib/python3.6/site-packages (from geopandas->notebookLib==1.0.1) (0.24.2)\n",
      "Requirement already satisfied: setuptools in /srv/conda/envs/notebook/lib/python3.6/site-packages (from kiwisolver>=1.0.1->matplotlib->notebookLib==1.0.1) (41.0.1)\n",
      "Requirement already satisfied: six>=1.5 in /srv/conda/envs/notebook/lib/python3.6/site-packages (from python-dateutil>=2.1->matplotlib->notebookLib==1.0.1) (1.12.0)\n",
      "Requirement already satisfied: decorator>=4.3.0 in /srv/conda/envs/notebook/lib/python3.6/site-packages (from networkx>=2.0->scikit-image->notebookLib==1.0.1) (4.4.0)\n",
      "Requirement already satisfied: attrs>=17 in /srv/conda/envs/notebook/lib/python3.6/site-packages (from fiona->geopandas->notebookLib==1.0.1) (19.1.0)\n",
      "Requirement already satisfied: click<8,>=4.0 in /srv/conda/envs/notebook/lib/python3.6/site-packages (from fiona->geopandas->notebookLib==1.0.1) (7.0)\n",
      "Requirement already satisfied: cligj>=0.5 in /srv/conda/envs/notebook/lib/python3.6/site-packages (from fiona->geopandas->notebookLib==1.0.1) (0.5.0)\n",
      "Requirement already satisfied: click-plugins>=1.0 in /srv/conda/envs/notebook/lib/python3.6/site-packages (from fiona->geopandas->notebookLib==1.0.1) (1.1.1)\n",
      "Requirement already satisfied: munch in /srv/conda/envs/notebook/lib/python3.6/site-packages (from fiona->geopandas->notebookLib==1.0.1) (2.3.2)\n",
      "Requirement already satisfied: pytz>=2011k in /srv/conda/envs/notebook/lib/python3.6/site-packages (from pandas->geopandas->notebookLib==1.0.1) (2019.1)\n",
      "Installing collected packages: ffmpeg, notebookLib\n",
      "  Running setup.py develop for notebookLib\n",
      "Successfully installed ffmpeg-1.4 notebookLib\n",
      "Obtaining file:///home/jovyan/lite-stac/lib/xarrayLib\n",
      "Requirement already satisfied: affine in /srv/conda/envs/notebook/lib/python3.6/site-packages (from xarrayLib==1.0.1) (2.2.2)\n",
      "Requirement already satisfied: boto3 in /srv/conda/envs/notebook/lib/python3.6/site-packages (from xarrayLib==1.0.1) (1.9.175)\n",
      "Requirement already satisfied: dask in /srv/conda/envs/notebook/lib/python3.6/site-packages (from xarrayLib==1.0.1) (1.2.2)\n",
      "Requirement already satisfied: toolz in /srv/conda/envs/notebook/lib/python3.6/site-packages (from xarrayLib==1.0.1) (0.9.0)\n",
      "Requirement already satisfied: jmespath<1.0.0,>=0.7.1 in /srv/conda/envs/notebook/lib/python3.6/site-packages (from boto3->xarrayLib==1.0.1) (0.9.4)\n",
      "Requirement already satisfied: botocore<1.13.0,>=1.12.175 in /srv/conda/envs/notebook/lib/python3.6/site-packages (from boto3->xarrayLib==1.0.1) (1.12.175)\n",
      "Requirement already satisfied: s3transfer<0.3.0,>=0.2.0 in /srv/conda/envs/notebook/lib/python3.6/site-packages (from boto3->xarrayLib==1.0.1) (0.2.1)\n",
      "Requirement already satisfied: urllib3<1.26,>=1.20 in /srv/conda/envs/notebook/lib/python3.6/site-packages (from botocore<1.13.0,>=1.12.175->boto3->xarrayLib==1.0.1) (1.24.3)\n",
      "Requirement already satisfied: docutils>=0.10 in /srv/conda/envs/notebook/lib/python3.6/site-packages (from botocore<1.13.0,>=1.12.175->boto3->xarrayLib==1.0.1) (0.14)\n",
      "Requirement already satisfied: python-dateutil<3.0.0,>=2.1 in /srv/conda/envs/notebook/lib/python3.6/site-packages (from botocore<1.13.0,>=1.12.175->boto3->xarrayLib==1.0.1) (2.7.5)\n",
      "Requirement already satisfied: six>=1.5 in /srv/conda/envs/notebook/lib/python3.6/site-packages (from python-dateutil<3.0.0,>=2.1->botocore<1.13.0,>=1.12.175->boto3->xarrayLib==1.0.1) (1.12.0)\n",
      "Installing collected packages: xarrayLib\n",
      "  Running setup.py develop for xarrayLib\n",
      "Successfully installed xarrayLib\n"
     ]
    }
   ],
   "source": [
    "%%bash\n",
    "cd ../lib\n",
    "ls\n",
    "(cd notebookLib && pip install -e .)\n",
    "(cd xarrayLib && pip install -e .)"
   ]
  },
  {
   "cell_type": "code",
   "execution_count": null,
   "metadata": {},
   "outputs": [],
   "source": []
  }
 ],
 "metadata": {
  "kernelspec": {
   "display_name": "Python 3",
   "language": "python",
   "name": "python3"
  },
  "language_info": {
   "codemirror_mode": {
    "name": "ipython",
    "version": 3
   },
   "file_extension": ".py",
   "mimetype": "text/x-python",
   "name": "python",
   "nbconvert_exporter": "python",
   "pygments_lexer": "ipython3",
   "version": "3.6.7"
  }
 },
 "nbformat": 4,
 "nbformat_minor": 2
}
