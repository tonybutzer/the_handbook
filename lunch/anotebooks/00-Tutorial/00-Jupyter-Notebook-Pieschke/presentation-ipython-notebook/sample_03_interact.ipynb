{
 "cells": [
  {
   "cell_type": "code",
   "execution_count": null,
   "metadata": {
    "collapsed": false
   },
   "outputs": [],
   "source": [
    "%matplotlib inline\n",
    "import matplotlib.pyplot as plt\n",
    "from IPython.html.widgets import interact"
   ]
  },
  {
   "cell_type": "code",
   "execution_count": null,
   "metadata": {
    "collapsed": false
   },
   "outputs": [],
   "source": [
    "import skimage.data as d\n",
    "\n",
    "plt.gray()\n",
    "I = d.lena()[:,:,0]\n",
    "\n",
    "def cbk(s):\n",
    "    from skimage.filter import gaussian_filter\n",
    "    I_g = gaussian_filter(I, s)\n",
    "    fig, (ax1,ax2) = plt.subplots(ncols=2, figsize=(16,8))\n",
    "\n",
    "    ax1.imshow(I)\n",
    "    ax1.axis('off')\n",
    "    ax1.set_title('original')\n",
    "    ax2.imshow(I_g)\n",
    "    ax2.set_title('Blurred: %g'%(s))\n",
    "    ax2.axis('off')"
   ]
  },
  {
   "cell_type": "code",
   "execution_count": null,
   "metadata": {
    "collapsed": false
   },
   "outputs": [],
   "source": [
    "_ = interact(cbk, s=(0.1, 5, 0.5))\n"
   ]
  }
 ],
 "metadata": {
  "kernelspec": {
   "display_name": "Python 3",
   "language": "python",
   "name": "python3"
  },
  "language_info": {
   "codemirror_mode": {
    "name": "ipython",
    "version": 3
   },
   "file_extension": ".py",
   "mimetype": "text/x-python",
   "name": "python",
   "nbconvert_exporter": "python",
   "pygments_lexer": "ipython3",
   "version": "3.4.2"
  }
 },
 "nbformat": 4,
 "nbformat_minor": 0
}
