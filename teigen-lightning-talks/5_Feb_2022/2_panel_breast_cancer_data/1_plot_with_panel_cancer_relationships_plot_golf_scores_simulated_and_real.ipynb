{
 "cells": [
  {
   "cell_type": "markdown",
   "id": "5e0f903b",
   "metadata": {},
   "source": [
    "### https://coderzcolumn.com/tutorials/data-science/how-to-create-dashboard-using-python-matplotlib-panel"
   ]
  },
  {
   "cell_type": "code",
   "execution_count": 1,
   "id": "f0e2ce2c",
   "metadata": {},
   "outputs": [],
   "source": [
    "import sklearn\n",
    "import numpy as np\n",
    "import pandas as pd\n",
    "from sklearn.datasets import load_breast_cancer\n",
    "\n",
    "import matplotlib.pyplot as plt\n",
    "\n",
    "pd.set_option(\"display.max_columns\", 32)"
   ]
  },
  {
   "cell_type": "code",
   "execution_count": 2,
   "id": "dbe3a600",
   "metadata": {},
   "outputs": [
    {
     "name": "stdout",
     "output_type": "stream",
     "text": [
      "Feature Names ['mean radius' 'mean texture' 'mean perimeter' 'mean area'\n",
      " 'mean smoothness' 'mean compactness' 'mean concavity'\n",
      " 'mean concave points' 'mean symmetry' 'mean fractal dimension'\n",
      " 'radius error' 'texture error' 'perimeter error' 'area error'\n",
      " 'smoothness error' 'compactness error' 'concavity error'\n",
      " 'concave points error' 'symmetry error' 'fractal dimension error'\n",
      " 'worst radius' 'worst texture' 'worst perimeter' 'worst area'\n",
      " 'worst smoothness' 'worst compactness' 'worst concavity'\n",
      " 'worst concave points' 'worst symmetry' 'worst fractal dimension']\n",
      "Target :  ['malignant' 'benign']\n",
      "Dataset Size :  (569, 30)\n"
     ]
    },
    {
     "data": {
      "text/html": [
       "<div>\n",
       "<style scoped>\n",
       "    .dataframe tbody tr th:only-of-type {\n",
       "        vertical-align: middle;\n",
       "    }\n",
       "\n",
       "    .dataframe tbody tr th {\n",
       "        vertical-align: top;\n",
       "    }\n",
       "\n",
       "    .dataframe thead th {\n",
       "        text-align: right;\n",
       "    }\n",
       "</style>\n",
       "<table border=\"1\" class=\"dataframe\">\n",
       "  <thead>\n",
       "    <tr style=\"text-align: right;\">\n",
       "      <th></th>\n",
       "      <th>mean radius</th>\n",
       "      <th>mean texture</th>\n",
       "      <th>mean perimeter</th>\n",
       "      <th>mean area</th>\n",
       "      <th>mean smoothness</th>\n",
       "      <th>mean compactness</th>\n",
       "      <th>mean concavity</th>\n",
       "      <th>mean concave points</th>\n",
       "      <th>mean symmetry</th>\n",
       "      <th>mean fractal dimension</th>\n",
       "      <th>radius error</th>\n",
       "      <th>texture error</th>\n",
       "      <th>perimeter error</th>\n",
       "      <th>area error</th>\n",
       "      <th>smoothness error</th>\n",
       "      <th>compactness error</th>\n",
       "      <th>concavity error</th>\n",
       "      <th>concave points error</th>\n",
       "      <th>symmetry error</th>\n",
       "      <th>fractal dimension error</th>\n",
       "      <th>worst radius</th>\n",
       "      <th>worst texture</th>\n",
       "      <th>worst perimeter</th>\n",
       "      <th>worst area</th>\n",
       "      <th>worst smoothness</th>\n",
       "      <th>worst compactness</th>\n",
       "      <th>worst concavity</th>\n",
       "      <th>worst concave points</th>\n",
       "      <th>worst symmetry</th>\n",
       "      <th>worst fractal dimension</th>\n",
       "      <th>Target</th>\n",
       "    </tr>\n",
       "  </thead>\n",
       "  <tbody>\n",
       "    <tr>\n",
       "      <th>0</th>\n",
       "      <td>17.99</td>\n",
       "      <td>10.38</td>\n",
       "      <td>122.80</td>\n",
       "      <td>1001.0</td>\n",
       "      <td>0.11840</td>\n",
       "      <td>0.27760</td>\n",
       "      <td>0.3001</td>\n",
       "      <td>0.14710</td>\n",
       "      <td>0.2419</td>\n",
       "      <td>0.07871</td>\n",
       "      <td>1.0950</td>\n",
       "      <td>0.9053</td>\n",
       "      <td>8.589</td>\n",
       "      <td>153.40</td>\n",
       "      <td>0.006399</td>\n",
       "      <td>0.04904</td>\n",
       "      <td>0.05373</td>\n",
       "      <td>0.01587</td>\n",
       "      <td>0.03003</td>\n",
       "      <td>0.006193</td>\n",
       "      <td>25.38</td>\n",
       "      <td>17.33</td>\n",
       "      <td>184.60</td>\n",
       "      <td>2019.0</td>\n",
       "      <td>0.1622</td>\n",
       "      <td>0.6656</td>\n",
       "      <td>0.7119</td>\n",
       "      <td>0.2654</td>\n",
       "      <td>0.4601</td>\n",
       "      <td>0.11890</td>\n",
       "      <td>Malignant</td>\n",
       "    </tr>\n",
       "    <tr>\n",
       "      <th>1</th>\n",
       "      <td>20.57</td>\n",
       "      <td>17.77</td>\n",
       "      <td>132.90</td>\n",
       "      <td>1326.0</td>\n",
       "      <td>0.08474</td>\n",
       "      <td>0.07864</td>\n",
       "      <td>0.0869</td>\n",
       "      <td>0.07017</td>\n",
       "      <td>0.1812</td>\n",
       "      <td>0.05667</td>\n",
       "      <td>0.5435</td>\n",
       "      <td>0.7339</td>\n",
       "      <td>3.398</td>\n",
       "      <td>74.08</td>\n",
       "      <td>0.005225</td>\n",
       "      <td>0.01308</td>\n",
       "      <td>0.01860</td>\n",
       "      <td>0.01340</td>\n",
       "      <td>0.01389</td>\n",
       "      <td>0.003532</td>\n",
       "      <td>24.99</td>\n",
       "      <td>23.41</td>\n",
       "      <td>158.80</td>\n",
       "      <td>1956.0</td>\n",
       "      <td>0.1238</td>\n",
       "      <td>0.1866</td>\n",
       "      <td>0.2416</td>\n",
       "      <td>0.1860</td>\n",
       "      <td>0.2750</td>\n",
       "      <td>0.08902</td>\n",
       "      <td>Malignant</td>\n",
       "    </tr>\n",
       "    <tr>\n",
       "      <th>2</th>\n",
       "      <td>19.69</td>\n",
       "      <td>21.25</td>\n",
       "      <td>130.00</td>\n",
       "      <td>1203.0</td>\n",
       "      <td>0.10960</td>\n",
       "      <td>0.15990</td>\n",
       "      <td>0.1974</td>\n",
       "      <td>0.12790</td>\n",
       "      <td>0.2069</td>\n",
       "      <td>0.05999</td>\n",
       "      <td>0.7456</td>\n",
       "      <td>0.7869</td>\n",
       "      <td>4.585</td>\n",
       "      <td>94.03</td>\n",
       "      <td>0.006150</td>\n",
       "      <td>0.04006</td>\n",
       "      <td>0.03832</td>\n",
       "      <td>0.02058</td>\n",
       "      <td>0.02250</td>\n",
       "      <td>0.004571</td>\n",
       "      <td>23.57</td>\n",
       "      <td>25.53</td>\n",
       "      <td>152.50</td>\n",
       "      <td>1709.0</td>\n",
       "      <td>0.1444</td>\n",
       "      <td>0.4245</td>\n",
       "      <td>0.4504</td>\n",
       "      <td>0.2430</td>\n",
       "      <td>0.3613</td>\n",
       "      <td>0.08758</td>\n",
       "      <td>Malignant</td>\n",
       "    </tr>\n",
       "    <tr>\n",
       "      <th>3</th>\n",
       "      <td>11.42</td>\n",
       "      <td>20.38</td>\n",
       "      <td>77.58</td>\n",
       "      <td>386.1</td>\n",
       "      <td>0.14250</td>\n",
       "      <td>0.28390</td>\n",
       "      <td>0.2414</td>\n",
       "      <td>0.10520</td>\n",
       "      <td>0.2597</td>\n",
       "      <td>0.09744</td>\n",
       "      <td>0.4956</td>\n",
       "      <td>1.1560</td>\n",
       "      <td>3.445</td>\n",
       "      <td>27.23</td>\n",
       "      <td>0.009110</td>\n",
       "      <td>0.07458</td>\n",
       "      <td>0.05661</td>\n",
       "      <td>0.01867</td>\n",
       "      <td>0.05963</td>\n",
       "      <td>0.009208</td>\n",
       "      <td>14.91</td>\n",
       "      <td>26.50</td>\n",
       "      <td>98.87</td>\n",
       "      <td>567.7</td>\n",
       "      <td>0.2098</td>\n",
       "      <td>0.8663</td>\n",
       "      <td>0.6869</td>\n",
       "      <td>0.2575</td>\n",
       "      <td>0.6638</td>\n",
       "      <td>0.17300</td>\n",
       "      <td>Malignant</td>\n",
       "    </tr>\n",
       "    <tr>\n",
       "      <th>4</th>\n",
       "      <td>20.29</td>\n",
       "      <td>14.34</td>\n",
       "      <td>135.10</td>\n",
       "      <td>1297.0</td>\n",
       "      <td>0.10030</td>\n",
       "      <td>0.13280</td>\n",
       "      <td>0.1980</td>\n",
       "      <td>0.10430</td>\n",
       "      <td>0.1809</td>\n",
       "      <td>0.05883</td>\n",
       "      <td>0.7572</td>\n",
       "      <td>0.7813</td>\n",
       "      <td>5.438</td>\n",
       "      <td>94.44</td>\n",
       "      <td>0.011490</td>\n",
       "      <td>0.02461</td>\n",
       "      <td>0.05688</td>\n",
       "      <td>0.01885</td>\n",
       "      <td>0.01756</td>\n",
       "      <td>0.005115</td>\n",
       "      <td>22.54</td>\n",
       "      <td>16.67</td>\n",
       "      <td>152.20</td>\n",
       "      <td>1575.0</td>\n",
       "      <td>0.1374</td>\n",
       "      <td>0.2050</td>\n",
       "      <td>0.4000</td>\n",
       "      <td>0.1625</td>\n",
       "      <td>0.2364</td>\n",
       "      <td>0.07678</td>\n",
       "      <td>Malignant</td>\n",
       "    </tr>\n",
       "  </tbody>\n",
       "</table>\n",
       "</div>"
      ],
      "text/plain": [
       "   mean radius  mean texture  mean perimeter  mean area  mean smoothness  \\\n",
       "0        17.99         10.38          122.80     1001.0          0.11840   \n",
       "1        20.57         17.77          132.90     1326.0          0.08474   \n",
       "2        19.69         21.25          130.00     1203.0          0.10960   \n",
       "3        11.42         20.38           77.58      386.1          0.14250   \n",
       "4        20.29         14.34          135.10     1297.0          0.10030   \n",
       "\n",
       "   mean compactness  mean concavity  mean concave points  mean symmetry  \\\n",
       "0           0.27760          0.3001              0.14710         0.2419   \n",
       "1           0.07864          0.0869              0.07017         0.1812   \n",
       "2           0.15990          0.1974              0.12790         0.2069   \n",
       "3           0.28390          0.2414              0.10520         0.2597   \n",
       "4           0.13280          0.1980              0.10430         0.1809   \n",
       "\n",
       "   mean fractal dimension  radius error  texture error  perimeter error  \\\n",
       "0                 0.07871        1.0950         0.9053            8.589   \n",
       "1                 0.05667        0.5435         0.7339            3.398   \n",
       "2                 0.05999        0.7456         0.7869            4.585   \n",
       "3                 0.09744        0.4956         1.1560            3.445   \n",
       "4                 0.05883        0.7572         0.7813            5.438   \n",
       "\n",
       "   area error  smoothness error  compactness error  concavity error  \\\n",
       "0      153.40          0.006399            0.04904          0.05373   \n",
       "1       74.08          0.005225            0.01308          0.01860   \n",
       "2       94.03          0.006150            0.04006          0.03832   \n",
       "3       27.23          0.009110            0.07458          0.05661   \n",
       "4       94.44          0.011490            0.02461          0.05688   \n",
       "\n",
       "   concave points error  symmetry error  fractal dimension error  \\\n",
       "0               0.01587         0.03003                 0.006193   \n",
       "1               0.01340         0.01389                 0.003532   \n",
       "2               0.02058         0.02250                 0.004571   \n",
       "3               0.01867         0.05963                 0.009208   \n",
       "4               0.01885         0.01756                 0.005115   \n",
       "\n",
       "   worst radius  worst texture  worst perimeter  worst area  worst smoothness  \\\n",
       "0         25.38          17.33           184.60      2019.0            0.1622   \n",
       "1         24.99          23.41           158.80      1956.0            0.1238   \n",
       "2         23.57          25.53           152.50      1709.0            0.1444   \n",
       "3         14.91          26.50            98.87       567.7            0.2098   \n",
       "4         22.54          16.67           152.20      1575.0            0.1374   \n",
       "\n",
       "   worst compactness  worst concavity  worst concave points  worst symmetry  \\\n",
       "0             0.6656           0.7119                0.2654          0.4601   \n",
       "1             0.1866           0.2416                0.1860          0.2750   \n",
       "2             0.4245           0.4504                0.2430          0.3613   \n",
       "3             0.8663           0.6869                0.2575          0.6638   \n",
       "4             0.2050           0.4000                0.1625          0.2364   \n",
       "\n",
       "   worst fractal dimension     Target  \n",
       "0                  0.11890  Malignant  \n",
       "1                  0.08902  Malignant  \n",
       "2                  0.08758  Malignant  \n",
       "3                  0.17300  Malignant  \n",
       "4                  0.07678  Malignant  "
      ]
     },
     "execution_count": 2,
     "metadata": {},
     "output_type": "execute_result"
    }
   ],
   "source": [
    "breast_cancer = load_breast_cancer()\n",
    "\n",
    "print(\"Feature Names\", breast_cancer.feature_names)\n",
    "print(\"Target : \", breast_cancer.target_names)\n",
    "print(\"Dataset Size : \", breast_cancer.data.shape)\n",
    "\n",
    "breast_cancer_df = pd.DataFrame(breast_cancer.data, columns=breast_cancer.feature_names)\n",
    "breast_cancer_df[\"Target\"] = breast_cancer.target\n",
    "breast_cancer_df[\"Target\"] = ['Malignant' if typ==0 else 'Benign' for typ in breast_cancer_df[\"Target\"]]\n",
    "breast_cancer_df.head()"
   ]
  },
  {
   "cell_type": "code",
   "execution_count": 3,
   "id": "16fc1d28",
   "metadata": {},
   "outputs": [
    {
     "data": {
      "image/png": "[encoded data removed]",
      "text/plain": [
       "<Figure size 720x360 with 1 Axes>"
      ]
     },
     "metadata": {},
     "output_type": "display_data"
    }
   ],
   "source": [
    "with plt.style.context((\"seaborn\",\"ggplot\")):\n",
    "    color = {\"Malignant\" : \"tab:red\", \"Benign\":\"tab:green\"}\n",
    "    plt.figure(figsize=(10,5))\n",
    "    for tumor_typ in breast_cancer_df[\"Target\"].unique():\n",
    "        plt.scatter(breast_cancer_df[breast_cancer_df[\"Target\"]==tumor_typ][\"mean radius\"],\n",
    "                    breast_cancer_df[breast_cancer_df[\"Target\"]==tumor_typ][\"mean texture\"],\n",
    "                    c=color[tumor_typ],\n",
    "                    s=200,\n",
    "                    alpha=0.6,\n",
    "                    label=tumor_typ)\n",
    "    plt.xlabel(\"mean radius\")\n",
    "    plt.ylabel(\"mean texture\")\n",
    "    plt.title(\"mean radius vs mean texture Scatter Plot\")\n",
    "    plt.legend(title=\"Tumor Type\",loc=\"best\")"
   ]
  },
  {
   "cell_type": "code",
   "execution_count": 4,
   "id": "99a4f3c3",
   "metadata": {},
   "outputs": [
    {
     "data": {
      "image/png": "[encoded data removed]",
      "text/plain": [
       "<Figure size 360x360 with 1 Axes>"
      ]
     },
     "metadata": {},
     "output_type": "display_data"
    }
   ],
   "source": [
    "with plt.style.context((\"seaborn\",\"ggplot\")):\n",
    "    avg_radius_per_tumor_typ = breast_cancer_df.groupby(by=\"Target\").mean()[[\"mean radius\"]]\n",
    "\n",
    "    plt.figure(figsize=(5,5))\n",
    "    plt.bar(avg_radius_per_tumor_typ.index,\n",
    "            avg_radius_per_tumor_typ[\"mean radius\"],\n",
    "            color=\"tab:blue\",\n",
    "            width=0.6)\n",
    "    plt.ylabel(\"mean radius\")\n",
    "    plt.title(\"Average mean radius per tumor type\")"
   ]
  },
  {
   "cell_type": "code",
   "execution_count": 5,
   "id": "7c3eb27f",
   "metadata": {},
   "outputs": [
    {
     "data": {
      "image/png": "[encoded data removed]",
      "text/plain": [
       "<Figure size 432x288 with 1 Axes>"
      ]
     },
     "metadata": {},
     "output_type": "display_data"
    }
   ],
   "source": [
    "with plt.style.context((\"seaborn\",\"ggplot\")):\n",
    "    plt.figure(figsize=(6,4))\n",
    "    plt.hist(breast_cancer_df[\"mean radius\"], color=\"tab:orange\", )\n",
    "    plt.ylabel(\"mean radius\")\n",
    "    plt.title(\"mean radius distribution\")\n"
   ]
  },
  {
   "cell_type": "code",
   "execution_count": 6,
   "id": "dda993ec",
   "metadata": {},
   "outputs": [],
   "source": [
    "import matplotlib.gridspec as gridspec\n",
    "\n",
    "def create_figure(plot1_f1,plot1_f2, plot2_f,plot3_f):\n",
    "    with plt.style.context((\"seaborn\",\"ggplot\")):\n",
    "        fig = plt.figure(constrained_layout=True, figsize=(10,8))\n",
    "        specs = gridspec.GridSpec(ncols=2, nrows=2, figure=fig) ## Declaring 2x2 figure.\n",
    "\n",
    "        ax1 = fig.add_subplot(specs[0, :]) ## First Row\n",
    "        ax2 = fig.add_subplot(specs[1, 0]) ## Second Row First Column\n",
    "        ax3 = fig.add_subplot(specs[1, 1]) ## Second Row Second Colums\n",
    "\n",
    "        ## First Graph -  Scatter Plot\n",
    "        color = {\"Malignant\" : \"tab:red\", \"Benign\":\"tab:green\"}\n",
    "        for tumor_typ in breast_cancer_df[\"Target\"].unique():\n",
    "            ax1.scatter(breast_cancer_df[breast_cancer_df[\"Target\"]==tumor_typ][plot1_f1],\n",
    "                        breast_cancer_df[breast_cancer_df[\"Target\"]==tumor_typ][plot1_f2],\n",
    "                        c=color[tumor_typ],\n",
    "                        s=200,\n",
    "                        alpha=0.6,\n",
    "                        label=tumor_typ)\n",
    "        ax1.set_xlabel(plot1_f1)\n",
    "        ax1.set_ylabel(plot1_f2)\n",
    "        ax1.set_title(\"%s vs %s Scatter Plot\"%(plot1_f1, plot1_f2))\n",
    "        ax1.legend(title=\"Tumor Type\",loc=\"best\")\n",
    "\n",
    "        ## Second Graph - Bar Chart\n",
    "        avg_radius_per_tumor_typ = breast_cancer_df.groupby(by=\"Target\").mean()[[plot2_f]]\n",
    "        ax2.bar(avg_radius_per_tumor_typ.index,\n",
    "                avg_radius_per_tumor_typ[plot2_f],\n",
    "                color=\"tab:blue\",\n",
    "                width=0.6)\n",
    "        ax2.set_ylabel(plot2_f)\n",
    "        ax2.set_title(\"Average %s per tumor type\"%(plot2_f))\n",
    "\n",
    "        ## Third Graph - Histogram\n",
    "        ax3.hist(breast_cancer_df[plot3_f], color=\"tab:orange\", )\n",
    "        ax3.set_ylabel(plot3_f)\n",
    "        ax3.set_title(\"%s distribution\"%(plot3_f))\n",
    "\n",
    "        plt.close(fig)\n",
    "        return fig"
   ]
  },
  {
   "cell_type": "code",
   "execution_count": 7,
   "id": "6a90d727",
   "metadata": {},
   "outputs": [
    {
     "data": {
      "image/png": "[encoded data removed]",
      "text/plain": [
       "<Figure size 720x576 with 3 Axes>"
      ]
     },
     "execution_count": 7,
     "metadata": {},
     "output_type": "execute_result"
    }
   ],
   "source": [
    "create_figure(\"mean radius\", \"mean texture\", \"mean radius\", \"mean radius\")"
   ]
  },
  {
   "cell_type": "code",
   "execution_count": 8,
   "id": "cbede390",
   "metadata": {},
   "outputs": [
    {
     "data": {
      "application/javascript": [
       "\n",
       "(function(root) {\n",
       "  function now() {\n",
       "    return new Date();\n",
       "  }\n",
       "\n",
       "  var force = true;\n",
       "\n",
       "  if (typeof root._bokeh_onload_callbacks === \"undefined\" || force === true) {\n",
       "    root._bokeh_onload_callbacks = [];\n",
       "    root._bokeh_is_loading = undefined;\n",
       "  }\n",
       "\n",
       "  if (typeof (root._bokeh_timeout) === \"undefined\" || force === true) {\n",
       "    root._bokeh_timeout = Date.now() + 5000;\n",
       "    root._bokeh_failed_load = false;\n",
       "  }\n",
       "\n",
       "  function run_callbacks() {\n",
       "    try {\n",
       "      root._bokeh_onload_callbacks.forEach(function(callback) {\n",
       "        if (callback != null)\n",
       "          callback();\n",
       "      });\n",
       "    } finally {\n",
       "      delete root._bokeh_onload_callbacks\n",
       "    }\n",
       "    console.debug(\"Bokeh: all callbacks have finished\");\n",
       "  }\n",
       "\n",
       "  function load_libs(css_urls, js_urls, js_modules, callback) {\n",
       "    if (css_urls == null) css_urls = [];\n",
       "    if (js_urls == null) js_urls = [];\n",
       "    if (js_modules == null) js_modules = [];\n",
       "\n",
       "    root._bokeh_onload_callbacks.push(callback);\n",
       "    if (root._bokeh_is_loading > 0) {\n",
       "      console.debug(\"Bokeh: BokehJS is being loaded, scheduling callback at\", now());\n",
       "      return null;\n",
       "    }\n",
       "    if (js_urls.length === 0 && js_modules.length === 0) {\n",
       "      run_callbacks();\n",
       "      return null;\n",
       "    }\n",
       "    console.debug(\"Bokeh: BokehJS not loaded, scheduling load and callback at\", now());\n",
       "\n",
       "    function on_load() {\n",
       "      root._bokeh_is_loading--;\n",
       "      if (root._bokeh_is_loading === 0) {\n",
       "        console.debug(\"Bokeh: all BokehJS libraries/stylesheets loaded\");\n",
       "        run_callbacks()\n",
       "      }\n",
       "    }\n",
       "\n",
       "    function on_error() {\n",
       "      console.error(\"failed to load \" + url);\n",
       "    }\n",
       "\n",
       "    for (var i = 0; i < css_urls.length; i++) {\n",
       "      var url = css_urls[i];\n",
       "      const element = document.createElement(\"link\");\n",
       "      element.onload = on_load;\n",
       "      element.onerror = on_error;\n",
       "      element.rel = \"stylesheet\";\n",
       "      element.type = \"text/css\";\n",
       "      element.href = url;\n",
       "      console.debug(\"Bokeh: injecting link tag for BokehJS stylesheet: \", url);\n",
       "      document.body.appendChild(element);\n",
       "    }\n",
       "\n",
       "    var skip = [];\n",
       "    if (window.requirejs) {\n",
       "      window.requirejs.config({'packages': {}, 'paths': {}, 'shim': {}});\n",
       "      \n",
       "      root._bokeh_is_loading = css_urls.length + 0;\n",
       "    } else {\n",
       "      root._bokeh_is_loading = css_urls.length + js_urls.length + js_modules.length;\n",
       "    }\n",
       "    for (var i = 0; i < js_urls.length; i++) {\n",
       "      var url = js_urls[i];\n",
       "      if (skip.indexOf(url) >= 0) {\n",
       "\tif (!window.requirejs) {\n",
       "\t  on_load();\n",
       "\t}\n",
       "\tcontinue;\n",
       "      }\n",
       "      var element = document.createElement('script');\n",
       "      element.onload = on_load;\n",
       "      element.onerror = on_error;\n",
       "      element.async = false;\n",
       "      element.src = url;\n",
       "      console.debug(\"Bokeh: injecting script tag for BokehJS library: \", url);\n",
       "      document.head.appendChild(element);\n",
       "    }\n",
       "    for (var i = 0; i < js_modules.length; i++) {\n",
       "      var url = js_modules[i];\n",
       "      if (skip.indexOf(url) >= 0) {\n",
       "\tif (!window.requirejs) {\n",
       "\t  on_load();\n",
       "\t}\n",
       "\tcontinue;\n",
       "      }\n",
       "      var element = document.createElement('script');\n",
       "      element.onload = on_load;\n",
       "      element.onerror = on_error;\n",
       "      element.async = false;\n",
       "      element.src = url;\n",
       "      element.type = \"module\";\n",
       "      console.debug(\"Bokeh: injecting script tag for BokehJS library: \", url);\n",
       "      document.head.appendChild(element);\n",
       "    }\n",
       "    if (!js_urls.length && !js_modules.length) {\n",
       "      on_load()\n",
       "    }\n",
       "  };\n",
       "\n",
       "  function inject_raw_css(css) {\n",
       "    const element = document.createElement(\"style\");\n",
       "    element.appendChild(document.createTextNode(css));\n",
       "    document.body.appendChild(element);\n",
       "  }\n",
       "\n",
       "  var js_urls = [\"https://cdn.bokeh.org/bokeh/release/bokeh-2.4.2.min.js\", \"https://cdn.bokeh.org/bokeh/release/bokeh-gl-2.4.2.min.js\", \"https://cdn.bokeh.org/bokeh/release/bokeh-widgets-2.4.2.min.js\", \"https://cdn.bokeh.org/bokeh/release/bokeh-tables-2.4.2.min.js\", \"https://cdn.bokeh.org/bokeh/release/bokeh-mathjax-2.4.2.min.js\", \"https://unpkg.com/@holoviz/panel@0.12.6/dist/panel.min.js\"];\n",
       "  var js_modules = [];\n",
       "  var css_urls = [\"https://unpkg.com/@holoviz/panel@0.12.6/dist/css/alerts.css\", \"https://unpkg.com/@holoviz/panel@0.12.6/dist/css/card.css\", \"https://unpkg.com/@holoviz/panel@0.12.6/dist/css/dataframe.css\", \"https://unpkg.com/@holoviz/panel@0.12.6/dist/css/json.css\", \"https://unpkg.com/@holoviz/panel@0.12.6/dist/css/loading.css\", \"https://unpkg.com/@holoviz/panel@0.12.6/dist/css/markdown.css\", \"https://unpkg.com/@holoviz/panel@0.12.6/dist/css/widgets.css\"];\n",
       "  var inline_js = [\n",
       "    function(Bokeh) {\n",
       "      inject_raw_css(\"\\n    .bk.pn-loading.arcs:before {\\n      background-image: url(\\\"data:image/svg+xml;base64,PHN2ZyB4bWxucz0iaHR0cDovL3d3dy53My5vcmcvMjAwMC9zdmciIHhtbG5zOnhsaW5rPSJodHRwOi8vd3d3LnczLm9yZy8xOTk5L3hsaW5rIiBzdHlsZT0ibWFyZ2luOiBhdXRvOyBiYWNrZ3JvdW5kOiBub25lOyBkaXNwbGF5OiBibG9jazsgc2hhcGUtcmVuZGVyaW5nOiBhdXRvOyIgdmlld0JveD0iMCAwIDEwMCAxMDAiIHByZXNlcnZlQXNwZWN0UmF0aW89InhNaWRZTWlkIj4gIDxjaXJjbGUgY3g9IjUwIiBjeT0iNTAiIHI9IjMyIiBzdHJva2Utd2lkdGg9IjgiIHN0cm9rZT0iI2MzYzNjMyIgc3Ryb2tlLWRhc2hhcnJheT0iNTAuMjY1NDgyNDU3NDM2NjkgNTAuMjY1NDgyNDU3NDM2NjkiIGZpbGw9Im5vbmUiIHN0cm9rZS1saW5lY2FwPSJyb3VuZCI+ICAgIDxhbmltYXRlVHJhbnNmb3JtIGF0dHJpYnV0ZU5hbWU9InRyYW5zZm9ybSIgdHlwZT0icm90YXRlIiByZXBlYXRDb3VudD0iaW5kZWZpbml0ZSIgZHVyPSIxcyIga2V5VGltZXM9IjA7MSIgdmFsdWVzPSIwIDUwIDUwOzM2MCA1MCA1MCI+PC9hbmltYXRlVHJhbnNmb3JtPiAgPC9jaXJjbGU+PC9zdmc+\\\");\\n      max-height: 400px;\\n    }\\n    \");\n",
       "    },\n",
       "    function(Bokeh) {\n",
       "      Bokeh.set_log_level(\"info\");\n",
       "    },\n",
       "    function(Bokeh) {} // ensure no trailing comma for IE\n",
       "  ];\n",
       "\n",
       "  function run_inline_js() {\n",
       "    if ((root.Bokeh !== undefined) || (force === true)) {\n",
       "      for (var i = 0; i < inline_js.length; i++) {\n",
       "        inline_js[i].call(root, root.Bokeh);\n",
       "      }} else if (Date.now() < root._bokeh_timeout) {\n",
       "      setTimeout(run_inline_js, 100);\n",
       "    } else if (!root._bokeh_failed_load) {\n",
       "      console.log(\"Bokeh: BokehJS failed to load within specified timeout.\");\n",
       "      root._bokeh_failed_load = true;\n",
       "    }\n",
       "  }\n",
       "\n",
       "  if (root._bokeh_is_loading === 0) {\n",
       "    console.debug(\"Bokeh: BokehJS loaded, going straight to plotting\");\n",
       "    run_inline_js();\n",
       "  } else {\n",
       "    load_libs(css_urls, js_urls, js_modules, function() {\n",
       "      console.debug(\"Bokeh: BokehJS plotting callback run at\", now());\n",
       "      run_inline_js();\n",
       "    });\n",
       "  }\n",
       "}(window));"
      ],
      "application/vnd.holoviews_load.v0+json": "\n(function(root) {\n  function now() {\n    return new Date();\n  }\n\n  var force = true;\n\n  if (typeof root._bokeh_onload_callbacks === \"undefined\" || force === true) {\n    root._bokeh_onload_callbacks = [];\n    root._bokeh_is_loading = undefined;\n  }\n\n  if (typeof (root._bokeh_timeout) === \"undefined\" || force === true) {\n    root._bokeh_timeout = Date.now() + 5000;\n    root._bokeh_failed_load = false;\n  }\n\n  function run_callbacks() {\n    try {\n      root._bokeh_onload_callbacks.forEach(function(callback) {\n        if (callback != null)\n          callback();\n      });\n    } finally {\n      delete root._bokeh_onload_callbacks\n    }\n    console.debug(\"Bokeh: all callbacks have finished\");\n  }\n\n  function load_libs(css_urls, js_urls, js_modules, callback) {\n    if (css_urls == null) css_urls = [];\n    if (js_urls == null) js_urls = [];\n    if (js_modules == null) js_modules = [];\n\n    root._bokeh_onload_callbacks.push(callback);\n    if (root._bokeh_is_loading > 0) {\n      console.debug(\"Bokeh: BokehJS is being loaded, scheduling callback at\", now());\n      return null;\n    }\n    if (js_urls.length === 0 && js_modules.length === 0) {\n      run_callbacks();\n      return null;\n    }\n    console.debug(\"Bokeh: BokehJS not loaded, scheduling load and callback at\", now());\n\n    function on_load() {\n      root._bokeh_is_loading--;\n      if (root._bokeh_is_loading === 0) {\n        console.debug(\"Bokeh: all BokehJS libraries/stylesheets loaded\");\n        run_callbacks()\n      }\n    }\n\n    function on_error() {\n      console.error(\"failed to load \" + url);\n    }\n\n    for (var i = 0; i < css_urls.length; i++) {\n      var url = css_urls[i];\n      const element = document.createElement(\"link\");\n      element.onload = on_load;\n      element.onerror = on_error;\n      element.rel = \"stylesheet\";\n      element.type = \"text/css\";\n      element.href = url;\n      console.debug(\"Bokeh: injecting link tag for BokehJS stylesheet: \", url);\n      document.body.appendChild(element);\n    }\n\n    var skip = [];\n    if (window.requirejs) {\n      window.requirejs.config({'packages': {}, 'paths': {}, 'shim': {}});\n      \n      root._bokeh_is_loading = css_urls.length + 0;\n    } else {\n      root._bokeh_is_loading = css_urls.length + js_urls.length + js_modules.length;\n    }\n    for (var i = 0; i < js_urls.length; i++) {\n      var url = js_urls[i];\n      if (skip.indexOf(url) >= 0) {\n\tif (!window.requirejs) {\n\t  on_load();\n\t}\n\tcontinue;\n      }\n      var element = document.createElement('script');\n      element.onload = on_load;\n      element.onerror = on_error;\n      element.async = false;\n      element.src = url;\n      console.debug(\"Bokeh: injecting script tag for BokehJS library: \", url);\n      document.head.appendChild(element);\n    }\n    for (var i = 0; i < js_modules.length; i++) {\n      var url = js_modules[i];\n      if (skip.indexOf(url) >= 0) {\n\tif (!window.requirejs) {\n\t  on_load();\n\t}\n\tcontinue;\n      }\n      var element = document.createElement('script');\n      element.onload = on_load;\n      element.onerror = on_error;\n      element.async = false;\n      element.src = url;\n      element.type = \"module\";\n      console.debug(\"Bokeh: injecting script tag for BokehJS library: \", url);\n      document.head.appendChild(element);\n    }\n    if (!js_urls.length && !js_modules.length) {\n      on_load()\n    }\n  };\n\n  function inject_raw_css(css) {\n    const element = document.createElement(\"style\");\n    element.appendChild(document.createTextNode(css));\n    document.body.appendChild(element);\n  }\n\n  var js_urls = [\"https://cdn.bokeh.org/bokeh/release/bokeh-2.4.2.min.js\", \"https://cdn.bokeh.org/bokeh/release/bokeh-gl-2.4.2.min.js\", \"https://cdn.bokeh.org/bokeh/release/bokeh-widgets-2.4.2.min.js\", \"https://cdn.bokeh.org/bokeh/release/bokeh-tables-2.4.2.min.js\", \"https://cdn.bokeh.org/bokeh/release/bokeh-mathjax-2.4.2.min.js\", \"https://unpkg.com/@holoviz/panel@0.12.6/dist/panel.min.js\"];\n  var js_modules = [];\n  var css_urls = [\"https://unpkg.com/@holoviz/panel@0.12.6/dist/css/alerts.css\", \"https://unpkg.com/@holoviz/panel@0.12.6/dist/css/card.css\", \"https://unpkg.com/@holoviz/panel@0.12.6/dist/css/dataframe.css\", \"https://unpkg.com/@holoviz/panel@0.12.6/dist/css/json.css\", \"https://unpkg.com/@holoviz/panel@0.12.6/dist/css/loading.css\", \"https://unpkg.com/@holoviz/panel@0.12.6/dist/css/markdown.css\", \"https://unpkg.com/@holoviz/panel@0.12.6/dist/css/widgets.css\"];\n  var inline_js = [\n    function(Bokeh) {\n      inject_raw_css(\"\\n    .bk.pn-loading.arcs:before {\\n      background-image: url(\\\"data:image/svg+xml;base64,PHN2ZyB4bWxucz0iaHR0cDovL3d3dy53My5vcmcvMjAwMC9zdmciIHhtbG5zOnhsaW5rPSJodHRwOi8vd3d3LnczLm9yZy8xOTk5L3hsaW5rIiBzdHlsZT0ibWFyZ2luOiBhdXRvOyBiYWNrZ3JvdW5kOiBub25lOyBkaXNwbGF5OiBibG9jazsgc2hhcGUtcmVuZGVyaW5nOiBhdXRvOyIgdmlld0JveD0iMCAwIDEwMCAxMDAiIHByZXNlcnZlQXNwZWN0UmF0aW89InhNaWRZTWlkIj4gIDxjaXJjbGUgY3g9IjUwIiBjeT0iNTAiIHI9IjMyIiBzdHJva2Utd2lkdGg9IjgiIHN0cm9rZT0iI2MzYzNjMyIgc3Ryb2tlLWRhc2hhcnJheT0iNTAuMjY1NDgyNDU3NDM2NjkgNTAuMjY1NDgyNDU3NDM2NjkiIGZpbGw9Im5vbmUiIHN0cm9rZS1saW5lY2FwPSJyb3VuZCI+ICAgIDxhbmltYXRlVHJhbnNmb3JtIGF0dHJpYnV0ZU5hbWU9InRyYW5zZm9ybSIgdHlwZT0icm90YXRlIiByZXBlYXRDb3VudD0iaW5kZWZpbml0ZSIgZHVyPSIxcyIga2V5VGltZXM9IjA7MSIgdmFsdWVzPSIwIDUwIDUwOzM2MCA1MCA1MCI+PC9hbmltYXRlVHJhbnNmb3JtPiAgPC9jaXJjbGU+PC9zdmc+\\\");\\n      max-height: 400px;\\n    }\\n    \");\n    },\n    function(Bokeh) {\n      Bokeh.set_log_level(\"info\");\n    },\n    function(Bokeh) {} // ensure no trailing comma for IE\n  ];\n\n  function run_inline_js() {\n    if ((root.Bokeh !== undefined) || (force === true)) {\n      for (var i = 0; i < inline_js.length; i++) {\n        inline_js[i].call(root, root.Bokeh);\n      }} else if (Date.now() < root._bokeh_timeout) {\n      setTimeout(run_inline_js, 100);\n    } else if (!root._bokeh_failed_load) {\n      console.log(\"Bokeh: BokehJS failed to load within specified timeout.\");\n      root._bokeh_failed_load = true;\n    }\n  }\n\n  if (root._bokeh_is_loading === 0) {\n    console.debug(\"Bokeh: BokehJS loaded, going straight to plotting\");\n    run_inline_js();\n  } else {\n    load_libs(css_urls, js_urls, js_modules, function() {\n      console.debug(\"Bokeh: BokehJS plotting callback run at\", now());\n      run_inline_js();\n    });\n  }\n}(window));"
     },
     "metadata": {},
     "output_type": "display_data"
    },
    {
     "data": {
      "application/javascript": [
       "\n",
       "if ((window.PyViz === undefined) || (window.PyViz instanceof HTMLElement)) {\n",
       "  window.PyViz = {comms: {}, comm_status:{}, kernels:{}, receivers: {}, plot_index: []}\n",
       "}\n",
       "\n",
       "\n",
       "    function JupyterCommManager() {\n",
       "    }\n",
       "\n",
       "    JupyterCommManager.prototype.register_target = function(plot_id, comm_id, msg_handler) {\n",
       "      if (window.comm_manager || ((window.Jupyter !== undefined) && (Jupyter.notebook.kernel != null))) {\n",
       "        var comm_manager = window.comm_manager || Jupyter.notebook.kernel.comm_manager;\n",
       "        comm_manager.register_target(comm_id, function(comm) {\n",
       "          comm.on_msg(msg_handler);\n",
       "        });\n",
       "      } else if ((plot_id in window.PyViz.kernels) && (window.PyViz.kernels[plot_id])) {\n",
       "        window.PyViz.kernels[plot_id].registerCommTarget(comm_id, function(comm) {\n",
       "          comm.onMsg = msg_handler;\n",
       "        });\n",
       "      } else if (typeof google != 'undefined' && google.colab.kernel != null) {\n",
       "        google.colab.kernel.comms.registerTarget(comm_id, (comm) => {\n",
       "          var messages = comm.messages[Symbol.asyncIterator]();\n",
       "          function processIteratorResult(result) {\n",
       "            var message = result.value;\n",
       "            console.log(message)\n",
       "            var content = {data: message.data, comm_id};\n",
       "            var buffers = []\n",
       "            for (var buffer of message.buffers || []) {\n",
       "              buffers.push(new DataView(buffer))\n",
       "            }\n",
       "            var metadata = message.metadata || {};\n",
       "            var msg = {content, buffers, metadata}\n",
       "            msg_handler(msg);\n",
       "            return messages.next().then(processIteratorResult);\n",
       "          }\n",
       "          return messages.next().then(processIteratorResult);\n",
       "        })\n",
       "      }\n",
       "    }\n",
       "\n",
       "    JupyterCommManager.prototype.get_client_comm = function(plot_id, comm_id, msg_handler) {\n",
       "      if (comm_id in window.PyViz.comms) {\n",
       "        return window.PyViz.comms[comm_id];\n",
       "      } else if (window.comm_manager || ((window.Jupyter !== undefined) && (Jupyter.notebook.kernel != null))) {\n",
       "        var comm_manager = window.comm_manager || Jupyter.notebook.kernel.comm_manager;\n",
       "        var comm = comm_manager.new_comm(comm_id, {}, {}, {}, comm_id);\n",
       "        if (msg_handler) {\n",
       "          comm.on_msg(msg_handler);\n",
       "        }\n",
       "      } else if ((plot_id in window.PyViz.kernels) && (window.PyViz.kernels[plot_id])) {\n",
       "        var comm = window.PyViz.kernels[plot_id].connectToComm(comm_id);\n",
       "        comm.open();\n",
       "        if (msg_handler) {\n",
       "          comm.onMsg = msg_handler;\n",
       "        }\n",
       "      } else if (typeof google != 'undefined' && google.colab.kernel != null) {\n",
       "        var comm_promise = google.colab.kernel.comms.open(comm_id)\n",
       "        comm_promise.then((comm) => {\n",
       "          window.PyViz.comms[comm_id] = comm;\n",
       "          if (msg_handler) {\n",
       "            var messages = comm.messages[Symbol.asyncIterator]();\n",
       "            function processIteratorResult(result) {\n",
       "              var message = result.value;\n",
       "              var content = {data: message.data};\n",
       "              var metadata = message.metadata || {comm_id};\n",
       "              var msg = {content, metadata}\n",
       "              msg_handler(msg);\n",
       "              return messages.next().then(processIteratorResult);\n",
       "            }\n",
       "            return messages.next().then(processIteratorResult);\n",
       "          }\n",
       "        }) \n",
       "        var sendClosure = (data, metadata, buffers, disposeOnDone) => {\n",
       "          return comm_promise.then((comm) => {\n",
       "            comm.send(data, metadata, buffers, disposeOnDone);\n",
       "          });\n",
       "        };\n",
       "        var comm = {\n",
       "          send: sendClosure\n",
       "        };\n",
       "      }\n",
       "      window.PyViz.comms[comm_id] = comm;\n",
       "      return comm;\n",
       "    }\n",
       "    window.PyViz.comm_manager = new JupyterCommManager();\n",
       "    \n",
       "\n",
       "\n",
       "var JS_MIME_TYPE = 'application/javascript';\n",
       "var HTML_MIME_TYPE = 'text/html';\n",
       "var EXEC_MIME_TYPE = 'application/vnd.holoviews_exec.v0+json';\n",
       "var CLASS_NAME = 'output';\n",
       "\n",
       "/**\n",
       " * Render data to the DOM node\n",
       " */\n",
       "function render(props, node) {\n",
       "  var div = document.createElement(\"div\");\n",
       "  var script = document.createElement(\"script\");\n",
       "  node.appendChild(div);\n",
       "  node.appendChild(script);\n",
       "}\n",
       "\n",
       "/**\n",
       " * Handle when a new output is added\n",
       " */\n",
       "function handle_add_output(event, handle) {\n",
       "  var output_area = handle.output_area;\n",
       "  var output = handle.output;\n",
       "  if ((output.data == undefined) || (!output.data.hasOwnProperty(EXEC_MIME_TYPE))) {\n",
       "    return\n",
       "  }\n",
       "  var id = output.metadata[EXEC_MIME_TYPE][\"id\"];\n",
       "  var toinsert = output_area.element.find(\".\" + CLASS_NAME.split(' ')[0]);\n",
       "  if (id !== undefined) {\n",
       "    var nchildren = toinsert.length;\n",
       "    var html_node = toinsert[nchildren-1].children[0];\n",
       "    html_node.innerHTML = output.data[HTML_MIME_TYPE];\n",
       "    var scripts = [];\n",
       "    var nodelist = html_node.querySelectorAll(\"script\");\n",
       "    for (var i in nodelist) {\n",
       "      if (nodelist.hasOwnProperty(i)) {\n",
       "        scripts.push(nodelist[i])\n",
       "      }\n",
       "    }\n",
       "\n",
       "    scripts.forEach( function (oldScript) {\n",
       "      var newScript = document.createElement(\"script\");\n",
       "      var attrs = [];\n",
       "      var nodemap = oldScript.attributes;\n",
       "      for (var j in nodemap) {\n",
       "        if (nodemap.hasOwnProperty(j)) {\n",
       "          attrs.push(nodemap[j])\n",
       "        }\n",
       "      }\n",
       "      attrs.forEach(function(attr) { newScript.setAttribute(attr.name, attr.value) });\n",
       "      newScript.appendChild(document.createTextNode(oldScript.innerHTML));\n",
       "      oldScript.parentNode.replaceChild(newScript, oldScript);\n",
       "    });\n",
       "    if (JS_MIME_TYPE in output.data) {\n",
       "      toinsert[nchildren-1].children[1].textContent = output.data[JS_MIME_TYPE];\n",
       "    }\n",
       "    output_area._hv_plot_id = id;\n",
       "    if ((window.Bokeh !== undefined) && (id in Bokeh.index)) {\n",
       "      window.PyViz.plot_index[id] = Bokeh.index[id];\n",
       "    } else {\n",
       "      window.PyViz.plot_index[id] = null;\n",
       "    }\n",
       "  } else if (output.metadata[EXEC_MIME_TYPE][\"server_id\"] !== undefined) {\n",
       "    var bk_div = document.createElement(\"div\");\n",
       "    bk_div.innerHTML = output.data[HTML_MIME_TYPE];\n",
       "    var script_attrs = bk_div.children[0].attributes;\n",
       "    for (var i = 0; i < script_attrs.length; i++) {\n",
       "      toinsert[toinsert.length - 1].childNodes[1].setAttribute(script_attrs[i].name, script_attrs[i].value);\n",
       "    }\n",
       "    // store reference to server id on output_area\n",
       "    output_area._bokeh_server_id = output.metadata[EXEC_MIME_TYPE][\"server_id\"];\n",
       "  }\n",
       "}\n",
       "\n",
       "/**\n",
       " * Handle when an output is cleared or removed\n",
       " */\n",
       "function handle_clear_output(event, handle) {\n",
       "  var id = handle.cell.output_area._hv_plot_id;\n",
       "  var server_id = handle.cell.output_area._bokeh_server_id;\n",
       "  if (((id === undefined) || !(id in PyViz.plot_index)) && (server_id !== undefined)) { return; }\n",
       "  var comm = window.PyViz.comm_manager.get_client_comm(\"hv-extension-comm\", \"hv-extension-comm\", function () {});\n",
       "  if (server_id !== null) {\n",
       "    comm.send({event_type: 'server_delete', 'id': server_id});\n",
       "    return;\n",
       "  } else if (comm !== null) {\n",
       "    comm.send({event_type: 'delete', 'id': id});\n",
       "  }\n",
       "  delete PyViz.plot_index[id];\n",
       "  if ((window.Bokeh !== undefined) & (id in window.Bokeh.index)) {\n",
       "    var doc = window.Bokeh.index[id].model.document\n",
       "    doc.clear();\n",
       "    const i = window.Bokeh.documents.indexOf(doc);\n",
       "    if (i > -1) {\n",
       "      window.Bokeh.documents.splice(i, 1);\n",
       "    }\n",
       "  }\n",
       "}\n",
       "\n",
       "/**\n",
       " * Handle kernel restart event\n",
       " */\n",
       "function handle_kernel_cleanup(event, handle) {\n",
       "  delete PyViz.comms[\"hv-extension-comm\"];\n",
       "  window.PyViz.plot_index = {}\n",
       "}\n",
       "\n",
       "/**\n",
       " * Handle update_display_data messages\n",
       " */\n",
       "function handle_update_output(event, handle) {\n",
       "  handle_clear_output(event, {cell: {output_area: handle.output_area}})\n",
       "  handle_add_output(event, handle)\n",
       "}\n",
       "\n",
       "function register_renderer(events, OutputArea) {\n",
       "  function append_mime(data, metadata, element) {\n",
       "    // create a DOM node to render to\n",
       "    var toinsert = this.create_output_subarea(\n",
       "    metadata,\n",
       "    CLASS_NAME,\n",
       "    EXEC_MIME_TYPE\n",
       "    );\n",
       "    this.keyboard_manager.register_events(toinsert);\n",
       "    // Render to node\n",
       "    var props = {data: data, metadata: metadata[EXEC_MIME_TYPE]};\n",
       "    render(props, toinsert[0]);\n",
       "    element.append(toinsert);\n",
       "    return toinsert\n",
       "  }\n",
       "\n",
       "  events.on('output_added.OutputArea', handle_add_output);\n",
       "  events.on('output_updated.OutputArea', handle_update_output);\n",
       "  events.on('clear_output.CodeCell', handle_clear_output);\n",
       "  events.on('delete.Cell', handle_clear_output);\n",
       "  events.on('kernel_ready.Kernel', handle_kernel_cleanup);\n",
       "\n",
       "  OutputArea.prototype.register_mime_type(EXEC_MIME_TYPE, append_mime, {\n",
       "    safe: true,\n",
       "    index: 0\n",
       "  });\n",
       "}\n",
       "\n",
       "if (window.Jupyter !== undefined) {\n",
       "  try {\n",
       "    var events = require('base/js/events');\n",
       "    var OutputArea = require('notebook/js/outputarea').OutputArea;\n",
       "    if (OutputArea.prototype.mime_types().indexOf(EXEC_MIME_TYPE) == -1) {\n",
       "      register_renderer(events, OutputArea);\n",
       "    }\n",
       "  } catch(err) {\n",
       "  }\n",
       "}\n"
      ],
      "application/vnd.holoviews_load.v0+json": "\nif ((window.PyViz === undefined) || (window.PyViz instanceof HTMLElement)) {\n  window.PyViz = {comms: {}, comm_status:{}, kernels:{}, receivers: {}, plot_index: []}\n}\n\n\n    function JupyterCommManager() {\n    }\n\n    JupyterCommManager.prototype.register_target = function(plot_id, comm_id, msg_handler) {\n      if (window.comm_manager || ((window.Jupyter !== undefined) && (Jupyter.notebook.kernel != null))) {\n        var comm_manager = window.comm_manager || Jupyter.notebook.kernel.comm_manager;\n        comm_manager.register_target(comm_id, function(comm) {\n          comm.on_msg(msg_handler);\n        });\n      } else if ((plot_id in window.PyViz.kernels) && (window.PyViz.kernels[plot_id])) {\n        window.PyViz.kernels[plot_id].registerCommTarget(comm_id, function(comm) {\n          comm.onMsg = msg_handler;\n        });\n      } else if (typeof google != 'undefined' && google.colab.kernel != null) {\n        google.colab.kernel.comms.registerTarget(comm_id, (comm) => {\n          var messages = comm.messages[Symbol.asyncIterator]();\n          function processIteratorResult(result) {\n            var message = result.value;\n            console.log(message)\n            var content = {data: message.data, comm_id};\n            var buffers = []\n            for (var buffer of message.buffers || []) {\n              buffers.push(new DataView(buffer))\n            }\n            var metadata = message.metadata || {};\n            var msg = {content, buffers, metadata}\n            msg_handler(msg);\n            return messages.next().then(processIteratorResult);\n          }\n          return messages.next().then(processIteratorResult);\n        })\n      }\n    }\n\n    JupyterCommManager.prototype.get_client_comm = function(plot_id, comm_id, msg_handler) {\n      if (comm_id in window.PyViz.comms) {\n        return window.PyViz.comms[comm_id];\n      } else if (window.comm_manager || ((window.Jupyter !== undefined) && (Jupyter.notebook.kernel != null))) {\n        var comm_manager = window.comm_manager || Jupyter.notebook.kernel.comm_manager;\n        var comm = comm_manager.new_comm(comm_id, {}, {}, {}, comm_id);\n        if (msg_handler) {\n          comm.on_msg(msg_handler);\n        }\n      } else if ((plot_id in window.PyViz.kernels) && (window.PyViz.kernels[plot_id])) {\n        var comm = window.PyViz.kernels[plot_id].connectToComm(comm_id);\n        comm.open();\n        if (msg_handler) {\n          comm.onMsg = msg_handler;\n        }\n      } else if (typeof google != 'undefined' && google.colab.kernel != null) {\n        var comm_promise = google.colab.kernel.comms.open(comm_id)\n        comm_promise.then((comm) => {\n          window.PyViz.comms[comm_id] = comm;\n          if (msg_handler) {\n            var messages = comm.messages[Symbol.asyncIterator]();\n            function processIteratorResult(result) {\n              var message = result.value;\n              var content = {data: message.data};\n              var metadata = message.metadata || {comm_id};\n              var msg = {content, metadata}\n              msg_handler(msg);\n              return messages.next().then(processIteratorResult);\n            }\n            return messages.next().then(processIteratorResult);\n          }\n        }) \n        var sendClosure = (data, metadata, buffers, disposeOnDone) => {\n          return comm_promise.then((comm) => {\n            comm.send(data, metadata, buffers, disposeOnDone);\n          });\n        };\n        var comm = {\n          send: sendClosure\n        };\n      }\n      window.PyViz.comms[comm_id] = comm;\n      return comm;\n    }\n    window.PyViz.comm_manager = new JupyterCommManager();\n    \n\n\nvar JS_MIME_TYPE = 'application/javascript';\nvar HTML_MIME_TYPE = 'text/html';\nvar EXEC_MIME_TYPE = 'application/vnd.holoviews_exec.v0+json';\nvar CLASS_NAME = 'output';\n\n/**\n * Render data to the DOM node\n */\nfunction render(props, node) {\n  var div = document.createElement(\"div\");\n  var script = document.createElement(\"script\");\n  node.appendChild(div);\n  node.appendChild(script);\n}\n\n/**\n * Handle when a new output is added\n */\nfunction handle_add_output(event, handle) {\n  var output_area = handle.output_area;\n  var output = handle.output;\n  if ((output.data == undefined) || (!output.data.hasOwnProperty(EXEC_MIME_TYPE))) {\n    return\n  }\n  var id = output.metadata[EXEC_MIME_TYPE][\"id\"];\n  var toinsert = output_area.element.find(\".\" + CLASS_NAME.split(' ')[0]);\n  if (id !== undefined) {\n    var nchildren = toinsert.length;\n    var html_node = toinsert[nchildren-1].children[0];\n    html_node.innerHTML = output.data[HTML_MIME_TYPE];\n    var scripts = [];\n    var nodelist = html_node.querySelectorAll(\"script\");\n    for (var i in nodelist) {\n      if (nodelist.hasOwnProperty(i)) {\n        scripts.push(nodelist[i])\n      }\n    }\n\n    scripts.forEach( function (oldScript) {\n      var newScript = document.createElement(\"script\");\n      var attrs = [];\n      var nodemap = oldScript.attributes;\n      for (var j in nodemap) {\n        if (nodemap.hasOwnProperty(j)) {\n          attrs.push(nodemap[j])\n        }\n      }\n      attrs.forEach(function(attr) { newScript.setAttribute(attr.name, attr.value) });\n      newScript.appendChild(document.createTextNode(oldScript.innerHTML));\n      oldScript.parentNode.replaceChild(newScript, oldScript);\n    });\n    if (JS_MIME_TYPE in output.data) {\n      toinsert[nchildren-1].children[1].textContent = output.data[JS_MIME_TYPE];\n    }\n    output_area._hv_plot_id = id;\n    if ((window.Bokeh !== undefined) && (id in Bokeh.index)) {\n      window.PyViz.plot_index[id] = Bokeh.index[id];\n    } else {\n      window.PyViz.plot_index[id] = null;\n    }\n  } else if (output.metadata[EXEC_MIME_TYPE][\"server_id\"] !== undefined) {\n    var bk_div = document.createElement(\"div\");\n    bk_div.innerHTML = output.data[HTML_MIME_TYPE];\n    var script_attrs = bk_div.children[0].attributes;\n    for (var i = 0; i < script_attrs.length; i++) {\n      toinsert[toinsert.length - 1].childNodes[1].setAttribute(script_attrs[i].name, script_attrs[i].value);\n    }\n    // store reference to server id on output_area\n    output_area._bokeh_server_id = output.metadata[EXEC_MIME_TYPE][\"server_id\"];\n  }\n}\n\n/**\n * Handle when an output is cleared or removed\n */\nfunction handle_clear_output(event, handle) {\n  var id = handle.cell.output_area._hv_plot_id;\n  var server_id = handle.cell.output_area._bokeh_server_id;\n  if (((id === undefined) || !(id in PyViz.plot_index)) && (server_id !== undefined)) { return; }\n  var comm = window.PyViz.comm_manager.get_client_comm(\"hv-extension-comm\", \"hv-extension-comm\", function () {});\n  if (server_id !== null) {\n    comm.send({event_type: 'server_delete', 'id': server_id});\n    return;\n  } else if (comm !== null) {\n    comm.send({event_type: 'delete', 'id': id});\n  }\n  delete PyViz.plot_index[id];\n  if ((window.Bokeh !== undefined) & (id in window.Bokeh.index)) {\n    var doc = window.Bokeh.index[id].model.document\n    doc.clear();\n    const i = window.Bokeh.documents.indexOf(doc);\n    if (i > -1) {\n      window.Bokeh.documents.splice(i, 1);\n    }\n  }\n}\n\n/**\n * Handle kernel restart event\n */\nfunction handle_kernel_cleanup(event, handle) {\n  delete PyViz.comms[\"hv-extension-comm\"];\n  window.PyViz.plot_index = {}\n}\n\n/**\n * Handle update_display_data messages\n */\nfunction handle_update_output(event, handle) {\n  handle_clear_output(event, {cell: {output_area: handle.output_area}})\n  handle_add_output(event, handle)\n}\n\nfunction register_renderer(events, OutputArea) {\n  function append_mime(data, metadata, element) {\n    // create a DOM node to render to\n    var toinsert = this.create_output_subarea(\n    metadata,\n    CLASS_NAME,\n    EXEC_MIME_TYPE\n    );\n    this.keyboard_manager.register_events(toinsert);\n    // Render to node\n    var props = {data: data, metadata: metadata[EXEC_MIME_TYPE]};\n    render(props, toinsert[0]);\n    element.append(toinsert);\n    return toinsert\n  }\n\n  events.on('output_added.OutputArea', handle_add_output);\n  events.on('output_updated.OutputArea', handle_update_output);\n  events.on('clear_output.CodeCell', handle_clear_output);\n  events.on('delete.Cell', handle_clear_output);\n  events.on('kernel_ready.Kernel', handle_kernel_cleanup);\n\n  OutputArea.prototype.register_mime_type(EXEC_MIME_TYPE, append_mime, {\n    safe: true,\n    index: 0\n  });\n}\n\nif (window.Jupyter !== undefined) {\n  try {\n    var events = require('base/js/events');\n    var OutputArea = require('notebook/js/outputarea').OutputArea;\n    if (OutputArea.prototype.mime_types().indexOf(EXEC_MIME_TYPE) == -1) {\n      register_renderer(events, OutputArea);\n    }\n  } catch(err) {\n  }\n}\n"
     },
     "metadata": {},
     "output_type": "display_data"
    },
    {
     "data": {},
     "metadata": {},
     "output_type": "display_data"
    },
    {
     "data": {
      "application/vnd.holoviews_exec.v0+json": "",
      "text/html": [
       "<div id='1002'>\n",
       "\n",
       "\n",
       "\n",
       "\n",
       "\n",
       "  <div class=\"bk-root\" id=\"ad0989ea-bd6d-42bb-9223-8f00e6903dc2\" data-root-id=\"1002\"></div>\n",
       "</div>\n",
       "<script type=\"application/javascript\">(function(root) {\n",
       "  function embed_document(root) {\n",
       "    var docs_json = {\"ddaa4008-2e72-4eda-ab13-427b6d8ea013\":{\"defs\":[{\"extends\":null,\"module\":null,\"name\":\"ReactiveHTML1\",\"overrides\":[],\"properties\":[]},{\"extends\":null,\"module\":null,\"name\":\"FlexBox1\",\"overrides\":[],\"properties\":[{\"default\":\"flex-start\",\"kind\":null,\"name\":\"align_content\"},{\"default\":\"flex-start\",\"kind\":null,\"name\":\"align_items\"},{\"default\":\"row\",\"kind\":null,\"name\":\"flex_direction\"},{\"default\":\"wrap\",\"kind\":null,\"name\":\"flex_wrap\"},{\"default\":\"flex-start\",\"kind\":null,\"name\":\"justify_content\"}]},{\"extends\":null,\"module\":null,\"name\":\"TemplateActions1\",\"overrides\":[],\"properties\":[{\"default\":0,\"kind\":null,\"name\":\"open_modal\"},{\"default\":0,\"kind\":null,\"name\":\"close_modal\"}]},{\"extends\":null,\"module\":null,\"name\":\"MaterialTemplateActions1\",\"overrides\":[],\"properties\":[{\"default\":0,\"kind\":null,\"name\":\"open_modal\"},{\"default\":0,\"kind\":null,\"name\":\"close_modal\"}]}],\"roots\":{\"references\":[{\"attributes\":{\"children\":[{\"id\":\"1011\"},{\"id\":\"1012\"}],\"margin\":[0,0,0,0],\"name\":\"Column00124\"},\"id\":\"1010\",\"type\":\"Column\"},{\"attributes\":{\"children\":[{\"id\":\"1003\"},{\"id\":\"1016\"}],\"margin\":[0,0,0,0],\"name\":\"Column00102\"},\"id\":\"1002\",\"type\":\"Column\"},{\"attributes\":{\"margin\":[5,0,0,10],\"name\":\"\",\"style\":{\"white-space\":\"nowrap\"},\"text\":\"plot2_f: <b>mean radius</b>\"},\"id\":\"1011\",\"type\":\"Div\"},{\"attributes\":{\"args\":{\"bidirectional\":false,\"properties\":{},\"source\":{\"id\":\"1006\"},\"target\":{\"id\":\"1005\"}},\"code\":\"try { \\n    var labels = ['plot1_f1: <b>mean radius</b>', 'plot1_f1: <b>mean texture</b>', 'plot1_f1: <b>mean perimeter</b>', 'plot1_f1: <b>mean area</b>', 'plot1_f1: <b>mean smoothness</b>', 'plot1_f1: <b>mean compactness</b>', 'plot1_f1: <b>mean concavity</b>', 'plot1_f1: <b>mean concave points</b>', 'plot1_f1: <b>mean symmetry</b>', 'plot1_f1: <b>mean fractal dimension</b>', 'plot1_f1: <b>radius error</b>', 'plot1_f1: <b>texture error</b>', 'plot1_f1: <b>perimeter error</b>', 'plot1_f1: <b>area error</b>', 'plot1_f1: <b>smoothness error</b>', 'plot1_f1: <b>compactness error</b>', 'plot1_f1: <b>concavity error</b>', 'plot1_f1: <b>concave points error</b>', 'plot1_f1: <b>symmetry error</b>', 'plot1_f1: <b>fractal dimension error</b>', 'plot1_f1: <b>worst radius</b>', 'plot1_f1: <b>worst texture</b>', 'plot1_f1: <b>worst perimeter</b>', 'plot1_f1: <b>worst area</b>', 'plot1_f1: <b>worst smoothness</b>', 'plot1_f1: <b>worst compactness</b>', 'plot1_f1: <b>worst concavity</b>', 'plot1_f1: <b>worst concave points</b>', 'plot1_f1: <b>worst symmetry</b>', 'plot1_f1: <b>worst fractal dimension</b>']\\n    target.text = labels[source.value]\\n     } catch(err) { console.log(err) }\",\"tags\":[140391416614768]},\"id\":\"1018\",\"type\":\"CustomJS\"},{\"attributes\":{\"end\":29,\"js_property_callbacks\":{\"change:value\":[{\"id\":\"1019\"}]},\"margin\":[0,10,5,10],\"show_value\":false,\"start\":0,\"tooltips\":false,\"value\":0},\"id\":\"1009\",\"type\":\"Slider\"},{\"attributes\":{\"client_comm_id\":\"d3b9804114774a209242d21e3a070543\",\"comm_id\":\"b1c56f9102c541f5ae27ee7b576e1beb\",\"plot_id\":\"1002\"},\"id\":\"1022\",\"type\":\"panel.models.comm_manager.CommManager\"},{\"attributes\":{\"args\":{\"bidirectional\":false,\"properties\":{},\"source\":{\"id\":\"1009\"},\"target\":{\"id\":\"1008\"}},\"code\":\"try { \\n    var labels = ['plot1_f2: <b>mean radius</b>', 'plot1_f2: <b>mean texture</b>', 'plot1_f2: <b>mean perimeter</b>', 'plot1_f2: <b>mean area</b>', 'plot1_f2: <b>mean smoothness</b>', 'plot1_f2: <b>mean compactness</b>', 'plot1_f2: <b>mean concavity</b>', 'plot1_f2: <b>mean concave points</b>', 'plot1_f2: <b>mean symmetry</b>', 'plot1_f2: <b>mean fractal dimension</b>', 'plot1_f2: <b>radius error</b>', 'plot1_f2: <b>texture error</b>', 'plot1_f2: <b>perimeter error</b>', 'plot1_f2: <b>area error</b>', 'plot1_f2: <b>smoothness error</b>', 'plot1_f2: <b>compactness error</b>', 'plot1_f2: <b>concavity error</b>', 'plot1_f2: <b>concave points error</b>', 'plot1_f2: <b>symmetry error</b>', 'plot1_f2: <b>fractal dimension error</b>', 'plot1_f2: <b>worst radius</b>', 'plot1_f2: <b>worst texture</b>', 'plot1_f2: <b>worst perimeter</b>', 'plot1_f2: <b>worst area</b>', 'plot1_f2: <b>worst smoothness</b>', 'plot1_f2: <b>worst compactness</b>', 'plot1_f2: <b>worst concavity</b>', 'plot1_f2: <b>worst concave points</b>', 'plot1_f2: <b>worst symmetry</b>', 'plot1_f2: <b>worst fractal dimension</b>']\\n    target.text = labels[source.value]\\n     } catch(err) { console.log(err) }\",\"tags\":[140391416614528]},\"id\":\"1019\",\"type\":\"CustomJS\"},{\"attributes\":{\"children\":[{\"id\":\"1005\"},{\"id\":\"1006\"}],\"margin\":[0,0,0,0],\"name\":\"Column00108\"},\"id\":\"1004\",\"type\":\"Column\"},{\"attributes\":{\"children\":[{\"id\":\"1014\"},{\"id\":\"1015\"}],\"margin\":[0,0,0,0],\"name\":\"Column00132\"},\"id\":\"1013\",\"type\":\"Column\"},{\"attributes\":{\"margin\":[5,0,0,10],\"name\":\"\",\"style\":{\"white-space\":\"nowrap\"},\"text\":\"plot3_f: <b>mean radius</b>\"},\"id\":\"1014\",\"type\":\"Div\"},{\"attributes\":{\"reload\":false},\"id\":\"1023\",\"type\":\"panel.models.location.Location\"},{\"attributes\":{\"args\":{\"bidirectional\":false,\"properties\":{},\"source\":{\"id\":\"1012\"},\"target\":{\"id\":\"1011\"}},\"code\":\"try { \\n    var labels = ['plot2_f: <b>mean radius</b>', 'plot2_f: <b>mean texture</b>', 'plot2_f: <b>mean perimeter</b>', 'plot2_f: <b>mean area</b>', 'plot2_f: <b>mean smoothness</b>', 'plot2_f: <b>mean compactness</b>', 'plot2_f: <b>mean concavity</b>', 'plot2_f: <b>mean concave points</b>', 'plot2_f: <b>mean symmetry</b>', 'plot2_f: <b>mean fractal dimension</b>', 'plot2_f: <b>radius error</b>', 'plot2_f: <b>texture error</b>', 'plot2_f: <b>perimeter error</b>', 'plot2_f: <b>area error</b>', 'plot2_f: <b>smoothness error</b>', 'plot2_f: <b>compactness error</b>', 'plot2_f: <b>concavity error</b>', 'plot2_f: <b>concave points error</b>', 'plot2_f: <b>symmetry error</b>', 'plot2_f: <b>fractal dimension error</b>', 'plot2_f: <b>worst radius</b>', 'plot2_f: <b>worst texture</b>', 'plot2_f: <b>worst perimeter</b>', 'plot2_f: <b>worst area</b>', 'plot2_f: <b>worst smoothness</b>', 'plot2_f: <b>worst compactness</b>', 'plot2_f: <b>worst concavity</b>', 'plot2_f: <b>worst concave points</b>', 'plot2_f: <b>worst symmetry</b>', 'plot2_f: <b>worst fractal dimension</b>']\\n    target.text = labels[source.value]\\n     } catch(err) { console.log(err) }\",\"tags\":[140391416448336]},\"id\":\"1020\",\"type\":\"CustomJS\"},{\"attributes\":{\"children\":[{\"id\":\"1004\"},{\"id\":\"1007\"},{\"id\":\"1010\"},{\"id\":\"1013\"}],\"margin\":[0,0,0,0],\"name\":\"Column00138\"},\"id\":\"1003\",\"type\":\"Column\"},{\"attributes\":{\"end\":29,\"js_property_callbacks\":{\"change:value\":[{\"id\":\"1020\"}]},\"margin\":[0,10,5,10],\"show_value\":false,\"start\":0,\"tooltips\":false,\"value\":0},\"id\":\"1012\",\"type\":\"Slider\"},{\"attributes\":{\"margin\":[5,0,0,10],\"name\":\"\",\"style\":{\"white-space\":\"nowrap\"},\"text\":\"plot1_f1: <b>mean radius</b>\"},\"id\":\"1005\",\"type\":\"Div\"},{\"attributes\":{\"args\":{\"bidirectional\":false,\"properties\":{},\"source\":{\"id\":\"1015\"},\"target\":{\"id\":\"1014\"}},\"code\":\"try { \\n    var labels = ['plot3_f: <b>mean radius</b>', 'plot3_f: <b>mean texture</b>', 'plot3_f: <b>mean perimeter</b>', 'plot3_f: <b>mean area</b>', 'plot3_f: <b>mean smoothness</b>', 'plot3_f: <b>mean compactness</b>', 'plot3_f: <b>mean concavity</b>', 'plot3_f: <b>mean concave points</b>', 'plot3_f: <b>mean symmetry</b>', 'plot3_f: <b>mean fractal dimension</b>', 'plot3_f: <b>radius error</b>', 'plot3_f: <b>texture error</b>', 'plot3_f: <b>perimeter error</b>', 'plot3_f: <b>area error</b>', 'plot3_f: <b>smoothness error</b>', 'plot3_f: <b>compactness error</b>', 'plot3_f: <b>concavity error</b>', 'plot3_f: <b>concave points error</b>', 'plot3_f: <b>symmetry error</b>', 'plot3_f: <b>fractal dimension error</b>', 'plot3_f: <b>worst radius</b>', 'plot3_f: <b>worst texture</b>', 'plot3_f: <b>worst perimeter</b>', 'plot3_f: <b>worst area</b>', 'plot3_f: <b>worst smoothness</b>', 'plot3_f: <b>worst compactness</b>', 'plot3_f: <b>worst concavity</b>', 'plot3_f: <b>worst concave points</b>', 'plot3_f: <b>worst symmetry</b>', 'plot3_f: <b>worst fractal dimension</b>']\\n    target.text = labels[source.value]\\n     } catch(err) { console.log(err) }\",\"tags\":[140391416449200]},\"id\":\"1021\",\"type\":\"CustomJS\"},{\"attributes\":{\"end\":29,\"js_property_callbacks\":{\"change:value\":[{\"id\":\"1021\"}]},\"margin\":[0,10,5,10],\"show_value\":false,\"start\":0,\"tooltips\":false,\"value\":0},\"id\":\"1015\",\"type\":\"Slider\"},{\"attributes\":{\"children\":[{\"id\":\"1008\"},{\"id\":\"1009\"}],\"margin\":[0,0,0,0],\"name\":\"Column00116\"},\"id\":\"1007\",\"type\":\"Column\"},{\"attributes\":{\"children\":[{\"id\":\"1017\"}],\"margin\":[0,0,0,0],\"name\":\"Row00137\"},\"id\":\"1016\",\"type\":\"Row\"},{\"attributes\":{\"margin\":[5,0,0,10],\"name\":\"\",\"style\":{\"white-space\":\"nowrap\"},\"text\":\"plot1_f2: <b>mean radius</b>\"},\"id\":\"1008\",\"type\":\"Div\"},{\"attributes\":{\"end\":29,\"js_property_callbacks\":{\"change:value\":[{\"id\":\"1018\"}]},\"margin\":[0,10,5,10],\"show_value\":false,\"start\":0,\"tooltips\":false,\"value\":0},\"id\":\"1006\",\"type\":\"Slider\"},{\"attributes\":{\"height\":576,\"margin\":[5,5,5,5],\"name\":\"interactive00101\",\"text\":\"&lt;img src=&quot;data:image/png;base64,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&quot; width=&quot;720px&quot; height=&quot;576px&quot; alt=&quot;&quot;&gt;&lt;/img&gt;\",\"width\":720},\"id\":\"1017\",\"type\":\"panel.models.markup.HTML\"}],\"root_ids\":[\"1002\",\"1022\",\"1023\"]},\"title\":\"Bokeh Application\",\"version\":\"2.4.2\"}};\n",
       "    var render_items = [{\"docid\":\"ddaa4008-2e72-4eda-ab13-427b6d8ea013\",\"root_ids\":[\"1002\"],\"roots\":{\"1002\":\"ad0989ea-bd6d-42bb-9223-8f00e6903dc2\"}}];\n",
       "    root.Bokeh.embed.embed_items_notebook(docs_json, render_items);\n",
       "  }\n",
       "  if (root.Bokeh !== undefined && root.Bokeh.Panel !== undefined) {\n",
       "    embed_document(root);\n",
       "  } else {\n",
       "    var attempts = 0;\n",
       "    var timer = setInterval(function(root) {\n",
       "      if (root.Bokeh !== undefined && root.Bokeh.Panel !== undefined) {\n",
       "        clearInterval(timer);\n",
       "        embed_document(root);\n",
       "      } else if (document.readyState == \"complete\") {\n",
       "        attempts++;\n",
       "        if (attempts > 200) {\n",
       "          clearInterval(timer);\n",
       "          console.log(\"Bokeh: ERROR: Unable to run BokehJS code because BokehJS library is missing\");\n",
       "        }\n",
       "      }\n",
       "    }, 25, root)\n",
       "  }\n",
       "})(window);</script>"
      ],
      "text/plain": [
       "Column\n",
       "    [0] Column\n",
       "        [0] DiscreteSlider(name='plot1_f1', options=['mean radius', ...], value='mean radius')\n",
       "        [1] DiscreteSlider(name='plot1_f2', options=['mean radius', ...], value='mean radius')\n",
       "        [2] DiscreteSlider(name='plot2_f', options=['mean radius', ...], value='mean radius')\n",
       "        [3] DiscreteSlider(name='plot3_f', options=['mean radius', ...], value='mean radius')\n",
       "    [1] Row\n",
       "        [0] Matplotlib(Figure, name='interactive00101')"
      ]
     },
     "execution_count": 8,
     "metadata": {
      "application/vnd.holoviews_exec.v0+json": {
       "id": "1002"
      }
     },
     "output_type": "execute_result"
    }
   ],
   "source": [
    "import panel as pn\n",
    "pn.extension()\n",
    "\n",
    "kw = dict(plot1_f1=breast_cancer.feature_names,\n",
    "          plot1_f2=breast_cancer.feature_names,\n",
    "          plot2_f=breast_cancer.feature_names,\n",
    "          plot3_f=breast_cancer.feature_names)\n",
    "\n",
    "dash1 = pn.interact(create_figure, **kw)\n",
    "dash1"
   ]
  },
  {
   "cell_type": "code",
   "execution_count": 9,
   "id": "de2f5f61",
   "metadata": {},
   "outputs": [],
   "source": [
    "import panel.widgets as pnw"
   ]
  },
  {
   "cell_type": "code",
   "execution_count": 10,
   "id": "43e7d609",
   "metadata": {},
   "outputs": [],
   "source": [
    "f1 = pnw.Select(options=list(breast_cancer.feature_names), name=\"Scatter Plot Feature 1\")\n",
    "f2 = pnw.Select(options=list(breast_cancer.feature_names), name=\"Scatter Plot Feature 2\")\n",
    "f3 = pnw.Select(options=list(breast_cancer.feature_names), name=\"Bar Chart Feature\")\n",
    "f4 = pnw.Select(options=list(breast_cancer.feature_names), name=\"Histogram Feature\")"
   ]
  },
  {
   "cell_type": "code",
   "execution_count": 11,
   "id": "ee53dd88",
   "metadata": {},
   "outputs": [],
   "source": [
    "@pn.depends(f1.param.value,f2.param.value,f3.param.value,f4.param.value)\n",
    "def create_dash(f1,f2,f3,f4):\n",
    "    return create_figure(f1,f2,f3,f4)"
   ]
  },
  {
   "cell_type": "code",
   "execution_count": 12,
   "id": "8d2ae418",
   "metadata": {},
   "outputs": [
    {
     "data": {},
     "metadata": {},
     "output_type": "display_data"
    },
    {
     "data": {
      "application/vnd.holoviews_exec.v0+json": "",
      "text/html": [
       "<div id='1024'>\n",
       "\n",
       "\n",
       "\n",
       "\n",
       "\n",
       "  <div class=\"bk-root\" id=\"9f45fddb-5006-40ab-91cd-d4ff00fb03d0\" data-root-id=\"1024\"></div>\n",
       "</div>\n",
       "<script type=\"application/javascript\">(function(root) {\n",
       "  function embed_document(root) {\n",
       "    var docs_json = {\"9a141d0a-4a35-49cd-a2ba-8d9f665a330d\":{\"defs\":[{\"extends\":null,\"module\":null,\"name\":\"ReactiveHTML1\",\"overrides\":[],\"properties\":[]},{\"extends\":null,\"module\":null,\"name\":\"FlexBox1\",\"overrides\":[],\"properties\":[{\"default\":\"flex-start\",\"kind\":null,\"name\":\"align_content\"},{\"default\":\"flex-start\",\"kind\":null,\"name\":\"align_items\"},{\"default\":\"row\",\"kind\":null,\"name\":\"flex_direction\"},{\"default\":\"wrap\",\"kind\":null,\"name\":\"flex_wrap\"},{\"default\":\"flex-start\",\"kind\":null,\"name\":\"justify_content\"}]},{\"extends\":null,\"module\":null,\"name\":\"TemplateActions1\",\"overrides\":[],\"properties\":[{\"default\":0,\"kind\":null,\"name\":\"open_modal\"},{\"default\":0,\"kind\":null,\"name\":\"close_modal\"}]},{\"extends\":null,\"module\":null,\"name\":\"MaterialTemplateActions1\",\"overrides\":[],\"properties\":[{\"default\":0,\"kind\":null,\"name\":\"open_modal\"},{\"default\":0,\"kind\":null,\"name\":\"close_modal\"}]}],\"roots\":{\"references\":[{\"attributes\":{\"align\":\"center\",\"margin\":[5,10,5,10],\"name\":\"\",\"text\":\"<h3>Breast Cancer Data Analysis Dashboard</h3>\\nPlease feel free to try various combinations of parameters to analyze results from different angles\"},\"id\":\"1025\",\"type\":\"Div\"},{\"attributes\":{\"children\":[{\"id\":\"1034\"}],\"margin\":[0,0,0,0],\"name\":\"Row00153\"},\"id\":\"1033\",\"type\":\"Row\"},{\"attributes\":{\"children\":[{\"id\":\"1033\"}],\"margin\":[0,0,0,0],\"name\":\"Row00156\"},\"id\":\"1032\",\"type\":\"Row\"},{\"attributes\":{\"children\":[{\"id\":\"1025\"},{\"id\":\"1026\"},{\"id\":\"1029\"},{\"id\":\"1032\"}],\"margin\":[0,0,0,0],\"name\":\"Column00157\"},\"id\":\"1024\",\"type\":\"Column\"},{\"attributes\":{\"client_comm_id\":\"26aa5a97fd024300a0e9eb9d5457f483\",\"comm_id\":\"a4da9f1df47745bbbfed6944cbffe9b6\",\"plot_id\":\"1024\"},\"id\":\"1035\",\"type\":\"panel.models.comm_manager.CommManager\"},{\"attributes\":{\"margin\":[5,10,5,10],\"options\":[\"mean radius\",\"mean texture\",\"mean perimeter\",\"mean area\",\"mean smoothness\",\"mean compactness\",\"mean concavity\",\"mean concave points\",\"mean symmetry\",\"mean fractal dimension\",\"radius error\",\"texture error\",\"perimeter error\",\"area error\",\"smoothness error\",\"compactness error\",\"concavity error\",\"concave points error\",\"symmetry error\",\"fractal dimension error\",\"worst radius\",\"worst texture\",\"worst perimeter\",\"worst area\",\"worst smoothness\",\"worst compactness\",\"worst concavity\",\"worst concave points\",\"worst symmetry\",\"worst fractal dimension\"],\"title\":\"Bar Chart Feature\",\"value\":\"mean radius\"},\"id\":\"1030\",\"type\":\"Select\"},{\"attributes\":{\"align\":\"center\",\"children\":[{\"id\":\"1030\"},{\"id\":\"1031\"}],\"margin\":[0,0,0,0],\"name\":\"Row00148\"},\"id\":\"1029\",\"type\":\"Row\"},{\"attributes\":{\"margin\":[5,10,5,10],\"options\":[\"mean radius\",\"mean texture\",\"mean perimeter\",\"mean area\",\"mean smoothness\",\"mean compactness\",\"mean concavity\",\"mean concave points\",\"mean symmetry\",\"mean fractal dimension\",\"radius error\",\"texture error\",\"perimeter error\",\"area error\",\"smoothness error\",\"compactness error\",\"concavity error\",\"concave points error\",\"symmetry error\",\"fractal dimension error\",\"worst radius\",\"worst texture\",\"worst perimeter\",\"worst area\",\"worst smoothness\",\"worst compactness\",\"worst concavity\",\"worst concave points\",\"worst symmetry\",\"worst fractal dimension\"],\"title\":\"Histogram Feature\",\"value\":\"mean radius\"},\"id\":\"1031\",\"type\":\"Select\"},{\"attributes\":{\"margin\":[5,10,5,10],\"options\":[\"mean radius\",\"mean texture\",\"mean perimeter\",\"mean area\",\"mean smoothness\",\"mean compactness\",\"mean concavity\",\"mean concave points\",\"mean symmetry\",\"mean fractal dimension\",\"radius error\",\"texture error\",\"perimeter error\",\"area error\",\"smoothness error\",\"compactness error\",\"concavity error\",\"concave points error\",\"symmetry error\",\"fractal dimension error\",\"worst radius\",\"worst texture\",\"worst perimeter\",\"worst area\",\"worst smoothness\",\"worst compactness\",\"worst concavity\",\"worst concave points\",\"worst symmetry\",\"worst fractal dimension\"],\"title\":\"Scatter Plot Feature 1\",\"value\":\"mean radius\"},\"id\":\"1027\",\"type\":\"Select\"},{\"attributes\":{\"height\":576,\"margin\":[5,5,5,5],\"name\":\"ParamFunction00149\",\"text\":\"&lt;img src=&quot;data:image/png;base64,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&quot; width=&quot;720px&quot; height=&quot;576px&quot; alt=&quot;&quot;&gt;&lt;/img&gt;\",\"width\":720},\"id\":\"1034\",\"type\":\"panel.models.markup.HTML\"},{\"attributes\":{\"margin\":[5,10,5,10],\"options\":[\"mean radius\",\"mean texture\",\"mean perimeter\",\"mean area\",\"mean smoothness\",\"mean compactness\",\"mean concavity\",\"mean concave points\",\"mean symmetry\",\"mean fractal dimension\",\"radius error\",\"texture error\",\"perimeter error\",\"area error\",\"smoothness error\",\"compactness error\",\"concavity error\",\"concave points error\",\"symmetry error\",\"fractal dimension error\",\"worst radius\",\"worst texture\",\"worst perimeter\",\"worst area\",\"worst smoothness\",\"worst compactness\",\"worst concavity\",\"worst concave points\",\"worst symmetry\",\"worst fractal dimension\"],\"title\":\"Scatter Plot Feature 2\",\"value\":\"mean radius\"},\"id\":\"1028\",\"type\":\"Select\"},{\"attributes\":{\"align\":\"center\",\"children\":[{\"id\":\"1027\"},{\"id\":\"1028\"}],\"margin\":[0,0,0,0],\"name\":\"Row00147\"},\"id\":\"1026\",\"type\":\"Row\"}],\"root_ids\":[\"1024\",\"1035\"]},\"title\":\"Bokeh Application\",\"version\":\"2.4.2\"}};\n",
       "    var render_items = [{\"docid\":\"9a141d0a-4a35-49cd-a2ba-8d9f665a330d\",\"root_ids\":[\"1024\"],\"roots\":{\"1024\":\"9f45fddb-5006-40ab-91cd-d4ff00fb03d0\"}}];\n",
       "    root.Bokeh.embed.embed_items_notebook(docs_json, render_items);\n",
       "  }\n",
       "  if (root.Bokeh !== undefined && root.Bokeh.Panel !== undefined) {\n",
       "    embed_document(root);\n",
       "  } else {\n",
       "    var attempts = 0;\n",
       "    var timer = setInterval(function(root) {\n",
       "      if (root.Bokeh !== undefined && root.Bokeh.Panel !== undefined) {\n",
       "        clearInterval(timer);\n",
       "        embed_document(root);\n",
       "      } else if (document.readyState == \"complete\") {\n",
       "        attempts++;\n",
       "        if (attempts > 200) {\n",
       "          clearInterval(timer);\n",
       "          console.log(\"Bokeh: ERROR: Unable to run BokehJS code because BokehJS library is missing\");\n",
       "        }\n",
       "      }\n",
       "    }, 25, root)\n",
       "  }\n",
       "})(window);</script>"
      ],
      "text/plain": [
       "Column\n",
       "    [0] StaticText(align='center', value='<h3>Breast Cancer D...)\n",
       "    [1] Row(align='center')\n",
       "        [0] Select(name='Scatter Plot Feature 1', options=['mean radius', ...], value='mean radius')\n",
       "        [1] Select(name='Scatter Plot Feature 2', options=['mean radius', ...], value='mean radius')\n",
       "    [2] Row(align='center')\n",
       "        [0] Select(name='Bar Chart Feature', options=['mean radius', ...], value='mean radius')\n",
       "        [1] Select(name='Histogram Feature', options=['mean radius', ...], value='mean radius')\n",
       "    [3] Row\n",
       "        [0] ParamFunction(function)"
      ]
     },
     "execution_count": 12,
     "metadata": {
      "application/vnd.holoviews_exec.v0+json": {
       "id": "1024"
      }
     },
     "output_type": "execute_result"
    }
   ],
   "source": [
    "heading = \"<h3>Breast Cancer Data Analysis Dashboard</h3>\\nPlease feel free to try various combinations of parameters to analyze results from different angles\"\n",
    "text = pnw.StaticText(value=heading, align=\"center\")\n",
    "\n",
    "dash3 = pn.Column(\n",
    "                    text,\n",
    "                    pn.Row(f1,f2, align=\"center\"),\n",
    "                    pn.Row(f3,f4, align=\"center\"),\n",
    "                    pn.Row(create_dash)\n",
    "                )\n",
    "dash3"
   ]
  },
  {
   "cell_type": "code",
   "execution_count": null,
   "id": "1bacfaaf",
   "metadata": {},
   "outputs": [],
   "source": []
  },
  {
   "cell_type": "markdown",
   "id": "9dcc6dd3",
   "metadata": {},
   "source": [
    "# simulate_golf_scores here"
   ]
  },
  {
   "cell_type": "code",
   "execution_count": 45,
   "id": "ee9844f6",
   "metadata": {},
   "outputs": [],
   "source": [
    "import numpy as np\n",
    "golf_hole_scores=np.random.randint(3,6,size=(50,9))\n"
   ]
  },
  {
   "cell_type": "code",
   "execution_count": 46,
   "id": "8b144671",
   "metadata": {},
   "outputs": [
    {
     "data": {
      "text/plain": [
       "array([[4, 4, 3, 5, 5, 4, 4, 4, 3],\n",
       "       [4, 3, 4, 4, 3, 4, 4, 4, 5],\n",
       "       [3, 3, 5, 5, 4, 4, 4, 4, 4],\n",
       "       [5, 5, 3, 5, 3, 5, 3, 4, 5],\n",
       "       [4, 4, 3, 3, 5, 4, 3, 3, 5],\n",
       "       [3, 5, 5, 5, 3, 5, 5, 5, 3],\n",
       "       [3, 5, 5, 4, 4, 3, 5, 5, 4],\n",
       "       [3, 4, 3, 5, 4, 5, 4, 4, 5],\n",
       "       [5, 4, 3, 3, 3, 5, 4, 4, 4],\n",
       "       [4, 4, 3, 3, 4, 4, 3, 5, 5],\n",
       "       [4, 4, 5, 5, 4, 3, 5, 4, 3],\n",
       "       [3, 4, 4, 4, 5, 4, 3, 5, 4],\n",
       "       [5, 3, 3, 5, 4, 5, 4, 3, 3],\n",
       "       [3, 3, 4, 4, 3, 3, 5, 4, 3],\n",
       "       [5, 4, 4, 5, 5, 4, 5, 5, 3],\n",
       "       [5, 5, 4, 5, 3, 3, 5, 4, 5],\n",
       "       [4, 3, 5, 4, 3, 4, 4, 5, 3],\n",
       "       [5, 3, 4, 5, 5, 5, 5, 5, 4],\n",
       "       [3, 5, 4, 3, 4, 5, 3, 5, 4],\n",
       "       [3, 3, 4, 4, 4, 5, 3, 4, 3],\n",
       "       [3, 4, 3, 5, 5, 3, 3, 3, 4],\n",
       "       [3, 4, 3, 4, 4, 4, 3, 4, 5],\n",
       "       [3, 4, 3, 4, 4, 3, 3, 4, 4],\n",
       "       [5, 5, 5, 4, 5, 4, 5, 5, 3],\n",
       "       [4, 3, 5, 3, 5, 3, 3, 5, 3],\n",
       "       [4, 3, 3, 4, 3, 5, 3, 5, 5],\n",
       "       [4, 5, 3, 5, 4, 5, 5, 4, 3],\n",
       "       [5, 4, 4, 5, 3, 5, 4, 4, 5],\n",
       "       [4, 3, 4, 5, 5, 4, 5, 3, 4],\n",
       "       [5, 5, 5, 5, 5, 3, 3, 5, 3],\n",
       "       [4, 4, 3, 5, 5, 5, 5, 4, 5],\n",
       "       [5, 3, 5, 4, 3, 4, 4, 3, 5],\n",
       "       [5, 3, 4, 4, 4, 4, 5, 4, 5],\n",
       "       [5, 5, 3, 3, 5, 3, 3, 4, 4],\n",
       "       [5, 3, 3, 3, 5, 4, 5, 3, 5],\n",
       "       [5, 5, 5, 4, 5, 5, 5, 3, 3],\n",
       "       [4, 3, 3, 4, 4, 4, 4, 3, 4],\n",
       "       [4, 3, 3, 3, 3, 3, 4, 3, 5],\n",
       "       [5, 4, 5, 4, 3, 4, 5, 5, 4],\n",
       "       [5, 4, 3, 4, 3, 4, 4, 3, 4],\n",
       "       [5, 3, 5, 5, 3, 3, 3, 5, 5],\n",
       "       [4, 5, 3, 4, 3, 4, 4, 4, 5],\n",
       "       [3, 5, 3, 3, 3, 4, 5, 3, 5],\n",
       "       [4, 3, 3, 4, 3, 4, 4, 5, 4],\n",
       "       [5, 3, 3, 4, 3, 3, 4, 3, 3],\n",
       "       [3, 5, 3, 3, 3, 4, 3, 5, 5],\n",
       "       [5, 5, 5, 5, 5, 4, 4, 3, 4],\n",
       "       [4, 3, 3, 4, 5, 5, 4, 5, 4],\n",
       "       [5, 4, 4, 3, 3, 3, 4, 3, 3],\n",
       "       [4, 5, 4, 5, 3, 5, 3, 5, 3]])"
      ]
     },
     "execution_count": 46,
     "metadata": {},
     "output_type": "execute_result"
    }
   ],
   "source": [
    "golf_hole_scores"
   ]
  },
  {
   "cell_type": "code",
   "execution_count": 47,
   "id": "4f74955d",
   "metadata": {},
   "outputs": [
    {
     "data": {
      "text/plain": [
       "array([36, 35, 36, 38, 34, 39, 38, 37, 35, 35, 37, 36, 35, 32, 40, 39, 35,\n",
       "       41, 36, 33, 33, 34, 32, 41, 34, 35, 38, 39, 37, 39, 40, 36, 38, 35,\n",
       "       36, 40, 33, 31, 39, 34, 37, 36, 34, 34, 31, 34, 40, 37, 32, 37])"
      ]
     },
     "execution_count": 47,
     "metadata": {},
     "output_type": "execute_result"
    }
   ],
   "source": [
    "scores = golf_hole_scores.sum(axis=1)\n",
    "scores"
   ]
  },
  {
   "cell_type": "code",
   "execution_count": 48,
   "id": "ea46f257",
   "metadata": {},
   "outputs": [],
   "source": [
    "y=scores\n",
    "x = np.arange(1, y.shape[0]+1)"
   ]
  },
  {
   "cell_type": "code",
   "execution_count": 49,
   "id": "8104e8d9",
   "metadata": {},
   "outputs": [
    {
     "data": {
      "image/png": "[encoded data removed]",
      "text/plain": [
       "<Figure size 720x360 with 1 Axes>"
      ]
     },
     "metadata": {},
     "output_type": "display_data"
    }
   ],
   "source": [
    "with plt.style.context((\"seaborn\",\"ggplot\")):\n",
    "    color = {\"Malignant\" : \"tab:red\", \"Benign\":\"tab:green\"}\n",
    "    plt.figure(figsize=(10,5))\n",
    "    plt.scatter(x,y,\n",
    "                    c=\"tab:blue\",\n",
    "                    s=200,\n",
    "                    alpha=0.6,\n",
    "                    label='9 hole scores')\n",
    "    plt.xlabel(\"day of summer\")\n",
    "    plt.ylabel(\"score\")\n",
    "    plt.title(\"golf scores\")\n",
    "#     plt.legend(title=\"Tumor Type\",loc=\"best\")"
   ]
  },
  {
   "cell_type": "code",
   "execution_count": 18,
   "id": "dcf0687b",
   "metadata": {},
   "outputs": [
    {
     "data": {
      "image/png": "[encoded data removed]",
      "text/plain": [
       "<Figure size 432x288 with 1 Axes>"
      ]
     },
     "metadata": {},
     "output_type": "display_data"
    }
   ],
   "source": [
    "with plt.style.context((\"seaborn\",\"ggplot\")):\n",
    "    plt.figure(figsize=(6,4))\n",
    "    plt.hist(y, color=\"tab:orange\", )\n",
    "    plt.ylabel(\"9 hole score\")\n",
    "    plt.title(\"golf round distribution\")"
   ]
  },
  {
   "cell_type": "code",
   "execution_count": 19,
   "id": "e966da66",
   "metadata": {},
   "outputs": [],
   "source": [
    "golf_18_hole_scores = np.array([76,84,80,74,87,67,75,78,76,77,75,80,77,74,71,74])"
   ]
  },
  {
   "cell_type": "code",
   "execution_count": 20,
   "id": "a76a3ab6",
   "metadata": {},
   "outputs": [
    {
     "data": {
      "image/png": "[encoded data removed]",
      "text/plain": [
       "<Figure size 432x288 with 1 Axes>"
      ]
     },
     "metadata": {},
     "output_type": "display_data"
    }
   ],
   "source": [
    "with plt.style.context((\"seaborn\",\"ggplot\")):\n",
    "    plt.figure(figsize=(6,4))\n",
    "    plt.hist(golf_18_hole_scores, color=\"tab:orange\", )\n",
    "    plt.ylabel(\"9 hole score\")\n",
    "    plt.title(\"golf round distribution\")"
   ]
  },
  {
   "cell_type": "code",
   "execution_count": 21,
   "id": "db4ca072",
   "metadata": {},
   "outputs": [
    {
     "data": {
      "text/plain": [
       "76.5625"
      ]
     },
     "execution_count": 21,
     "metadata": {},
     "output_type": "execute_result"
    }
   ],
   "source": [
    "golf_18_hole_scores.mean()"
   ]
  },
  {
   "cell_type": "code",
   "execution_count": 22,
   "id": "3ba9cfae",
   "metadata": {},
   "outputs": [
    {
     "data": {
      "text/plain": [
       "4.595769114087434"
      ]
     },
     "execution_count": 22,
     "metadata": {},
     "output_type": "execute_result"
    }
   ],
   "source": [
    "golf_18_hole_scores.std()"
   ]
  },
  {
   "cell_type": "markdown",
   "id": "ccee3451",
   "metadata": {},
   "source": [
    "# so 76  plus or minus 5 shots"
   ]
  },
  {
   "cell_type": "code",
   "execution_count": 23,
   "id": "95eb87b3",
   "metadata": {},
   "outputs": [],
   "source": [
    "import matplotlib.pyplot as plt\n",
    "\n",
    "def plot_x_y_no_warning(x,y):\n",
    "    '''\n",
    "    HEY --> *plot_x_y_no_warning* - only sets ths color once\n",
    "    plots an x and y on a simple line graph\n",
    "    plots with a star '*' marker that is quite big\n",
    "    '''\n",
    "    # plotting\n",
    "    plt.figure(figsize=(10*1.5, 5*1.5))\n",
    "    plt.title(\"league golf scores\")\n",
    "    #plt.title(\"Line graph\")\n",
    "    plt.xlabel(\"X axis\")\n",
    "    plt.ylabel(\"Y axis\")\n",
    "    plt.plot(x, y, '-g*', markersize=20)\n",
    "    plt.show()\n",
    "    "
   ]
  },
  {
   "cell_type": "code",
   "execution_count": 24,
   "id": "5bbe7833",
   "metadata": {},
   "outputs": [
    {
     "data": {
      "text/plain": [
       "array([76, 84, 80, 74, 87, 67, 75, 78, 76, 77, 75, 80, 77, 74, 71, 74])"
      ]
     },
     "execution_count": 24,
     "metadata": {},
     "output_type": "execute_result"
    }
   ],
   "source": [
    "scores = golf_18_hole_scores\n",
    "scores"
   ]
  },
  {
   "cell_type": "code",
   "execution_count": 25,
   "id": "1fa6609c",
   "metadata": {},
   "outputs": [],
   "source": [
    "y=scores\n",
    "x = np.arange(1, y.shape[0]+1)"
   ]
  },
  {
   "cell_type": "code",
   "execution_count": 26,
   "id": "91907b48",
   "metadata": {},
   "outputs": [
    {
     "data": {
      "image/png": "[encoded data removed]",
      "text/plain": [
       "<Figure size 1080x540 with 1 Axes>"
      ]
     },
     "metadata": {
      "needs_background": "light"
     },
     "output_type": "display_data"
    }
   ],
   "source": [
    "plot_x_y_no_warning(x,y)"
   ]
  },
  {
   "cell_type": "markdown",
   "id": "0fa31ba2",
   "metadata": {},
   "source": [
    "# at the beginning of the season very inconsistent"
   ]
  },
  {
   "cell_type": "code",
   "execution_count": 27,
   "id": "b598440f",
   "metadata": {},
   "outputs": [],
   "source": [
    "# sort and remove oulier min and max"
   ]
  },
  {
   "cell_type": "code",
   "execution_count": 28,
   "id": "a8ffe2ca",
   "metadata": {},
   "outputs": [
    {
     "data": {
      "text/plain": [
       "array([71, 74, 74, 74, 75, 75, 76, 76, 77, 77, 78, 80, 80, 84])"
      ]
     },
     "execution_count": 28,
     "metadata": {},
     "output_type": "execute_result"
    }
   ],
   "source": [
    "mylist = golf_18_hole_scores\n",
    "mylist.sort() \n",
    "trimmed = mylist[1:-1] \n",
    "trimmed\n"
   ]
  },
  {
   "cell_type": "code",
   "execution_count": 29,
   "id": "ff6ad037",
   "metadata": {},
   "outputs": [
    {
     "data": {
      "text/plain": [
       "76.5"
      ]
     },
     "execution_count": 29,
     "metadata": {},
     "output_type": "execute_result"
    }
   ],
   "source": [
    "trimmed.mean()"
   ]
  },
  {
   "cell_type": "code",
   "execution_count": 30,
   "id": "98d044c9",
   "metadata": {},
   "outputs": [
    {
     "data": {
      "text/plain": [
       "3.1339158526400435"
      ]
     },
     "execution_count": 30,
     "metadata": {},
     "output_type": "execute_result"
    }
   ],
   "source": [
    "trimmed.std()"
   ]
  },
  {
   "cell_type": "code",
   "execution_count": 31,
   "id": "e2c599a6",
   "metadata": {},
   "outputs": [
    {
     "data": {
      "text/plain": [
       "73.36608414735996"
      ]
     },
     "execution_count": 31,
     "metadata": {},
     "output_type": "execute_result"
    }
   ],
   "source": [
    "best_scores_typical = trimmed.mean() - trimmed.std()\n",
    "best_scores_typical"
   ]
  },
  {
   "cell_type": "code",
   "execution_count": 32,
   "id": "f6a5d867",
   "metadata": {},
   "outputs": [
    {
     "data": {
      "text/plain": [
       "79.63391585264004"
      ]
     },
     "execution_count": 32,
     "metadata": {},
     "output_type": "execute_result"
    }
   ],
   "source": [
    "worst_scores_typical = trimmed.mean() + trimmed.std()\n",
    "worst_scores_typical"
   ]
  },
  {
   "cell_type": "code",
   "execution_count": 33,
   "id": "7d639634",
   "metadata": {},
   "outputs": [
    {
     "data": {
      "text/plain": [
       "array([67, 71, 74, 74, 74, 75, 75, 76, 76, 77, 77, 78, 80, 80, 84, 87])"
      ]
     },
     "execution_count": 33,
     "metadata": {},
     "output_type": "execute_result"
    }
   ],
   "source": [
    "golf_18_hole_scores"
   ]
  },
  {
   "cell_type": "markdown",
   "id": "fa6c7fb9",
   "metadata": {},
   "source": [
    "# toss 4 scores"
   ]
  },
  {
   "cell_type": "code",
   "execution_count": 34,
   "id": "cfd20db8",
   "metadata": {},
   "outputs": [
    {
     "data": {
      "text/plain": [
       "array([74, 74, 74, 75, 75, 76, 76, 77, 77, 78, 80, 80])"
      ]
     },
     "execution_count": 34,
     "metadata": {},
     "output_type": "execute_result"
    }
   ],
   "source": [
    "mylist = golf_18_hole_scores\n",
    "mylist.sort() \n",
    "trimmed = mylist[2:-2] \n",
    "trimmed"
   ]
  },
  {
   "cell_type": "code",
   "execution_count": 35,
   "id": "faa0c8b8",
   "metadata": {},
   "outputs": [
    {
     "data": {
      "text/plain": [
       "76.33333333333333"
      ]
     },
     "execution_count": 35,
     "metadata": {},
     "output_type": "execute_result"
    }
   ],
   "source": [
    "trimmed.mean()"
   ]
  },
  {
   "cell_type": "code",
   "execution_count": 36,
   "id": "3f9def42",
   "metadata": {},
   "outputs": [
    {
     "data": {
      "text/plain": [
       "2.0548046676563256"
      ]
     },
     "execution_count": 36,
     "metadata": {},
     "output_type": "execute_result"
    }
   ],
   "source": [
    "trimmed.std()"
   ]
  },
  {
   "cell_type": "code",
   "execution_count": 37,
   "id": "0a676706",
   "metadata": {},
   "outputs": [
    {
     "data": {
      "text/plain": [
       "74.278528665677"
      ]
     },
     "execution_count": 37,
     "metadata": {},
     "output_type": "execute_result"
    }
   ],
   "source": [
    "best_scores_typical = trimmed.mean() - trimmed.std()\n",
    "best_scores_typical"
   ]
  },
  {
   "cell_type": "code",
   "execution_count": 38,
   "id": "b6490c9b",
   "metadata": {},
   "outputs": [
    {
     "data": {
      "text/plain": [
       "78.38813800098966"
      ]
     },
     "execution_count": 38,
     "metadata": {},
     "output_type": "execute_result"
    }
   ],
   "source": [
    "worst_scores_typical = trimmed.mean() + trimmed.std()\n",
    "worst_scores_typical"
   ]
  },
  {
   "cell_type": "markdown",
   "id": "e8dd4b5e",
   "metadata": {},
   "source": [
    "# flip it to look like i am improving and getting more consistent"
   ]
  },
  {
   "cell_type": "code",
   "execution_count": 39,
   "id": "aa4fea28",
   "metadata": {},
   "outputs": [],
   "source": [
    "y=trimmed[::-1]\n",
    "x = np.arange(1, y.shape[0]+1)"
   ]
  },
  {
   "cell_type": "code",
   "execution_count": 40,
   "id": "6ac874ca",
   "metadata": {},
   "outputs": [
    {
     "data": {
      "image/png": "[encoded data removed]",
      "text/plain": [
       "<Figure size 1080x540 with 1 Axes>"
      ]
     },
     "metadata": {
      "needs_background": "light"
     },
     "output_type": "display_data"
    }
   ],
   "source": [
    "plot_x_y_no_warning(x,y)"
   ]
  },
  {
   "cell_type": "code",
   "execution_count": 41,
   "id": "5d454867",
   "metadata": {},
   "outputs": [],
   "source": [
    "y=trimmed[::-1]\n",
    "y=np.unique(y)\n",
    "y=y[::-1]\n",
    "x = np.arange(1, y.shape[0]+1)"
   ]
  },
  {
   "cell_type": "code",
   "execution_count": 42,
   "id": "5b73b69c",
   "metadata": {},
   "outputs": [
    {
     "data": {
      "image/png": "[encoded data removed]",
      "text/plain": [
       "<Figure size 1080x540 with 1 Axes>"
      ]
     },
     "metadata": {
      "needs_background": "light"
     },
     "output_type": "display_data"
    }
   ],
   "source": [
    "plot_x_y_no_warning(x,y)"
   ]
  },
  {
   "cell_type": "code",
   "execution_count": 52,
   "id": "efa23afc",
   "metadata": {},
   "outputs": [],
   "source": [
    "golf_18_hole_scores = np.array([76,84,80,74,87,67,75,78,76,77,75,80,77,74,71,74])\n",
    "scores = golf_18_hole_scores\n",
    "y=scores\n",
    "x = np.arange(1, y.shape[0]+1)"
   ]
  },
  {
   "cell_type": "code",
   "execution_count": 53,
   "id": "71bdff1f",
   "metadata": {},
   "outputs": [
    {
     "data": {
      "image/png": "[encoded data removed]",
      "text/plain": [
       "<Figure size 720x360 with 1 Axes>"
      ]
     },
     "metadata": {},
     "output_type": "display_data"
    }
   ],
   "source": [
    "with plt.style.context((\"seaborn\",\"ggplot\")):\n",
    "    color = {\"Malignant\" : \"tab:red\", \"Benign\":\"tab:green\"}\n",
    "    plt.figure(figsize=(10,5))\n",
    "    plt.scatter(x,y,\n",
    "                    c=\"tab:blue\",\n",
    "                    s=200,\n",
    "                    alpha=0.6,\n",
    "                    label='9 hole scores')\n",
    "    plt.xlabel(\"day of summer\")\n",
    "    plt.ylabel(\"score\")\n",
    "    plt.title(\"golf scores\")\n",
    "#     plt.legend(title=\"Tumor Type\",loc=\"best\")"
   ]
  },
  {
   "cell_type": "code",
   "execution_count": 59,
   "id": "30fd5cf9",
   "metadata": {},
   "outputs": [],
   "source": [
    "my_np_arr = np.vstack((x,y))"
   ]
  },
  {
   "cell_type": "code",
   "execution_count": 62,
   "id": "064ca6f7",
   "metadata": {},
   "outputs": [],
   "source": [
    "arr = my_np_arr.transpose()"
   ]
  },
  {
   "cell_type": "code",
   "execution_count": 63,
   "id": "f7060f40",
   "metadata": {},
   "outputs": [
    {
     "data": {
      "text/plain": [
       "array([[ 1, 76],\n",
       "       [ 2, 84],\n",
       "       [ 3, 80],\n",
       "       [ 4, 74],\n",
       "       [ 5, 87],\n",
       "       [ 6, 67],\n",
       "       [ 7, 75],\n",
       "       [ 8, 78],\n",
       "       [ 9, 76],\n",
       "       [10, 77],\n",
       "       [11, 75],\n",
       "       [12, 80],\n",
       "       [13, 77],\n",
       "       [14, 74],\n",
       "       [15, 71],\n",
       "       [16, 74]])"
      ]
     },
     "execution_count": 63,
     "metadata": {},
     "output_type": "execute_result"
    }
   ],
   "source": [
    "arr"
   ]
  },
  {
   "cell_type": "code",
   "execution_count": 64,
   "id": "ee8d7fd4",
   "metadata": {},
   "outputs": [
    {
     "data": {
      "text/plain": [
       "76"
      ]
     },
     "execution_count": 64,
     "metadata": {},
     "output_type": "execute_result"
    }
   ],
   "source": [
    "arr[0,1]"
   ]
  },
  {
   "cell_type": "code",
   "execution_count": 70,
   "id": "84cc05f4",
   "metadata": {},
   "outputs": [],
   "source": [
    "df0 = pd.DataFrame(arr, columns=['x', 'y'])"
   ]
  },
  {
   "cell_type": "code",
   "execution_count": 71,
   "id": "fbc3c551",
   "metadata": {},
   "outputs": [
    {
     "data": {
      "text/html": [
       "<div>\n",
       "<style scoped>\n",
       "    .dataframe tbody tr th:only-of-type {\n",
       "        vertical-align: middle;\n",
       "    }\n",
       "\n",
       "    .dataframe tbody tr th {\n",
       "        vertical-align: top;\n",
       "    }\n",
       "\n",
       "    .dataframe thead th {\n",
       "        text-align: right;\n",
       "    }\n",
       "</style>\n",
       "<table border=\"1\" class=\"dataframe\">\n",
       "  <thead>\n",
       "    <tr style=\"text-align: right;\">\n",
       "      <th></th>\n",
       "      <th>x</th>\n",
       "      <th>y</th>\n",
       "    </tr>\n",
       "  </thead>\n",
       "  <tbody>\n",
       "    <tr>\n",
       "      <th>0</th>\n",
       "      <td>1</td>\n",
       "      <td>76</td>\n",
       "    </tr>\n",
       "    <tr>\n",
       "      <th>1</th>\n",
       "      <td>2</td>\n",
       "      <td>84</td>\n",
       "    </tr>\n",
       "    <tr>\n",
       "      <th>2</th>\n",
       "      <td>3</td>\n",
       "      <td>80</td>\n",
       "    </tr>\n",
       "    <tr>\n",
       "      <th>3</th>\n",
       "      <td>4</td>\n",
       "      <td>74</td>\n",
       "    </tr>\n",
       "    <tr>\n",
       "      <th>4</th>\n",
       "      <td>5</td>\n",
       "      <td>87</td>\n",
       "    </tr>\n",
       "  </tbody>\n",
       "</table>\n",
       "</div>"
      ],
      "text/plain": [
       "   x   y\n",
       "0  1  76\n",
       "1  2  84\n",
       "2  3  80\n",
       "3  4  74\n",
       "4  5  87"
      ]
     },
     "execution_count": 71,
     "metadata": {},
     "output_type": "execute_result"
    }
   ],
   "source": [
    "df0.head()"
   ]
  },
  {
   "cell_type": "code",
   "execution_count": 72,
   "id": "1667a378",
   "metadata": {},
   "outputs": [],
   "source": [
    "df1 = pd.DataFrame(arr, columns=['Day', 'Golf_Score'])"
   ]
  },
  {
   "cell_type": "code",
   "execution_count": 73,
   "id": "1ef5b583",
   "metadata": {},
   "outputs": [
    {
     "data": {
      "text/html": [
       "<div>\n",
       "<style scoped>\n",
       "    .dataframe tbody tr th:only-of-type {\n",
       "        vertical-align: middle;\n",
       "    }\n",
       "\n",
       "    .dataframe tbody tr th {\n",
       "        vertical-align: top;\n",
       "    }\n",
       "\n",
       "    .dataframe thead th {\n",
       "        text-align: right;\n",
       "    }\n",
       "</style>\n",
       "<table border=\"1\" class=\"dataframe\">\n",
       "  <thead>\n",
       "    <tr style=\"text-align: right;\">\n",
       "      <th></th>\n",
       "      <th>Day</th>\n",
       "      <th>Golf_Score</th>\n",
       "    </tr>\n",
       "  </thead>\n",
       "  <tbody>\n",
       "    <tr>\n",
       "      <th>0</th>\n",
       "      <td>1</td>\n",
       "      <td>76</td>\n",
       "    </tr>\n",
       "    <tr>\n",
       "      <th>1</th>\n",
       "      <td>2</td>\n",
       "      <td>84</td>\n",
       "    </tr>\n",
       "    <tr>\n",
       "      <th>2</th>\n",
       "      <td>3</td>\n",
       "      <td>80</td>\n",
       "    </tr>\n",
       "    <tr>\n",
       "      <th>3</th>\n",
       "      <td>4</td>\n",
       "      <td>74</td>\n",
       "    </tr>\n",
       "    <tr>\n",
       "      <th>4</th>\n",
       "      <td>5</td>\n",
       "      <td>87</td>\n",
       "    </tr>\n",
       "    <tr>\n",
       "      <th>5</th>\n",
       "      <td>6</td>\n",
       "      <td>67</td>\n",
       "    </tr>\n",
       "    <tr>\n",
       "      <th>6</th>\n",
       "      <td>7</td>\n",
       "      <td>75</td>\n",
       "    </tr>\n",
       "    <tr>\n",
       "      <th>7</th>\n",
       "      <td>8</td>\n",
       "      <td>78</td>\n",
       "    </tr>\n",
       "    <tr>\n",
       "      <th>8</th>\n",
       "      <td>9</td>\n",
       "      <td>76</td>\n",
       "    </tr>\n",
       "    <tr>\n",
       "      <th>9</th>\n",
       "      <td>10</td>\n",
       "      <td>77</td>\n",
       "    </tr>\n",
       "    <tr>\n",
       "      <th>10</th>\n",
       "      <td>11</td>\n",
       "      <td>75</td>\n",
       "    </tr>\n",
       "    <tr>\n",
       "      <th>11</th>\n",
       "      <td>12</td>\n",
       "      <td>80</td>\n",
       "    </tr>\n",
       "    <tr>\n",
       "      <th>12</th>\n",
       "      <td>13</td>\n",
       "      <td>77</td>\n",
       "    </tr>\n",
       "    <tr>\n",
       "      <th>13</th>\n",
       "      <td>14</td>\n",
       "      <td>74</td>\n",
       "    </tr>\n",
       "    <tr>\n",
       "      <th>14</th>\n",
       "      <td>15</td>\n",
       "      <td>71</td>\n",
       "    </tr>\n",
       "    <tr>\n",
       "      <th>15</th>\n",
       "      <td>16</td>\n",
       "      <td>74</td>\n",
       "    </tr>\n",
       "  </tbody>\n",
       "</table>\n",
       "</div>"
      ],
      "text/plain": [
       "    Day  Golf_Score\n",
       "0     1          76\n",
       "1     2          84\n",
       "2     3          80\n",
       "3     4          74\n",
       "4     5          87\n",
       "5     6          67\n",
       "6     7          75\n",
       "7     8          78\n",
       "8     9          76\n",
       "9    10          77\n",
       "10   11          75\n",
       "11   12          80\n",
       "12   13          77\n",
       "13   14          74\n",
       "14   15          71\n",
       "15   16          74"
      ]
     },
     "execution_count": 73,
     "metadata": {},
     "output_type": "execute_result"
    }
   ],
   "source": [
    "df1"
   ]
  },
  {
   "cell_type": "code",
   "execution_count": 76,
   "id": "41a919fb",
   "metadata": {},
   "outputs": [],
   "source": [
    "#! conda install -y seaborn"
   ]
  },
  {
   "cell_type": "code",
   "execution_count": 78,
   "id": "620ccc2a",
   "metadata": {},
   "outputs": [],
   "source": [
    "import seaborn as sns"
   ]
  },
  {
   "cell_type": "code",
   "execution_count": 79,
   "id": "21056a4c",
   "metadata": {},
   "outputs": [
    {
     "data": {
      "text/plain": [
       "<seaborn.axisgrid.FacetGrid at 0x7faf6c14c4f0>"
      ]
     },
     "execution_count": 79,
     "metadata": {},
     "output_type": "execute_result"
    },
    {
     "data": {
      "image/png": "[encoded data removed]",
      "text/plain": [
       "<Figure size 360x360 with 1 Axes>"
      ]
     },
     "metadata": {
      "needs_background": "light"
     },
     "output_type": "display_data"
    }
   ],
   "source": [
    "sns.catplot(x='Day',y='Golf_Score', data=df1, kind=\"violin\")"
   ]
  },
  {
   "cell_type": "code",
   "execution_count": 81,
   "id": "9887be0a",
   "metadata": {},
   "outputs": [
    {
     "data": {
      "text/html": [
       "<div>\n",
       "<style scoped>\n",
       "    .dataframe tbody tr th:only-of-type {\n",
       "        vertical-align: middle;\n",
       "    }\n",
       "\n",
       "    .dataframe tbody tr th {\n",
       "        vertical-align: top;\n",
       "    }\n",
       "\n",
       "    .dataframe thead th {\n",
       "        text-align: right;\n",
       "    }\n",
       "</style>\n",
       "<table border=\"1\" class=\"dataframe\">\n",
       "  <thead>\n",
       "    <tr style=\"text-align: right;\">\n",
       "      <th></th>\n",
       "      <th>Day</th>\n",
       "      <th>Golf_Score</th>\n",
       "      <th>Wind</th>\n",
       "    </tr>\n",
       "  </thead>\n",
       "  <tbody>\n",
       "    <tr>\n",
       "      <th>0</th>\n",
       "      <td>1</td>\n",
       "      <td>76</td>\n",
       "      <td>10</td>\n",
       "    </tr>\n",
       "    <tr>\n",
       "      <th>1</th>\n",
       "      <td>2</td>\n",
       "      <td>84</td>\n",
       "      <td>25</td>\n",
       "    </tr>\n",
       "    <tr>\n",
       "      <th>2</th>\n",
       "      <td>3</td>\n",
       "      <td>80</td>\n",
       "      <td>25</td>\n",
       "    </tr>\n",
       "    <tr>\n",
       "      <th>3</th>\n",
       "      <td>4</td>\n",
       "      <td>74</td>\n",
       "      <td>10</td>\n",
       "    </tr>\n",
       "    <tr>\n",
       "      <th>4</th>\n",
       "      <td>5</td>\n",
       "      <td>87</td>\n",
       "      <td>25</td>\n",
       "    </tr>\n",
       "  </tbody>\n",
       "</table>\n",
       "</div>"
      ],
      "text/plain": [
       "   Day  Golf_Score  Wind\n",
       "0    1          76    10\n",
       "1    2          84    25\n",
       "2    3          80    25\n",
       "3    4          74    10\n",
       "4    5          87    25"
      ]
     },
     "execution_count": 81,
     "metadata": {},
     "output_type": "execute_result"
    }
   ],
   "source": [
    "df1['Wind'] = np.where(df1['Golf_Score']>= 80, 25, 10)\n",
    "df1.head()"
   ]
  },
  {
   "cell_type": "code",
   "execution_count": 82,
   "id": "77dc26e9",
   "metadata": {},
   "outputs": [
    {
     "data": {
      "text/plain": [
       "<seaborn.axisgrid.FacetGrid at 0x7faf6bf44340>"
      ]
     },
     "execution_count": 82,
     "metadata": {},
     "output_type": "execute_result"
    },
    {
     "data": {
      "image/png": "[encoded data removed]",
      "text/plain": [
       "<Figure size 360x360 with 1 Axes>"
      ]
     },
     "metadata": {
      "needs_background": "light"
     },
     "output_type": "display_data"
    }
   ],
   "source": [
    "sns.catplot(x='Wind',y='Golf_Score', data=df1, kind=\"violin\")"
   ]
  },
  {
   "cell_type": "code",
   "execution_count": 83,
   "id": "6598acb4",
   "metadata": {},
   "outputs": [
    {
     "data": {
      "text/plain": [
       "(16, 3)"
      ]
     },
     "execution_count": 83,
     "metadata": {},
     "output_type": "execute_result"
    }
   ],
   "source": [
    "df1.shape"
   ]
  },
  {
   "cell_type": "code",
   "execution_count": 86,
   "id": "3e1b3031",
   "metadata": {},
   "outputs": [
    {
     "name": "stdout",
     "output_type": "stream",
     "text": [
      "1_plot_with_panel_cancer_relationships_plot_golf_scores_simulated_and_real.ipynb\r\n",
      "golf_courses_great_life.csv\r\n"
     ]
    }
   ],
   "source": [
    "!ls"
   ]
  },
  {
   "cell_type": "code",
   "execution_count": 87,
   "id": "f17339e7",
   "metadata": {},
   "outputs": [],
   "source": [
    "gl_df = pd.read_csv('golf_courses_great_life.csv')"
   ]
  },
  {
   "cell_type": "code",
   "execution_count": 88,
   "id": "17e30963",
   "metadata": {},
   "outputs": [
    {
     "data": {
      "text/plain": [
       "(21, 2)"
      ]
     },
     "execution_count": 88,
     "metadata": {},
     "output_type": "execute_result"
    }
   ],
   "source": [
    "gl_df.shape"
   ]
  },
  {
   "cell_type": "code",
   "execution_count": 89,
   "id": "b4aa2cc0",
   "metadata": {},
   "outputs": [
    {
     "data": {
      "text/html": [
       "<div>\n",
       "<style scoped>\n",
       "    .dataframe tbody tr th:only-of-type {\n",
       "        vertical-align: middle;\n",
       "    }\n",
       "\n",
       "    .dataframe tbody tr th {\n",
       "        vertical-align: top;\n",
       "    }\n",
       "\n",
       "    .dataframe thead th {\n",
       "        text-align: right;\n",
       "    }\n",
       "</style>\n",
       "<table border=\"1\" class=\"dataframe\">\n",
       "  <thead>\n",
       "    <tr style=\"text-align: right;\">\n",
       "      <th></th>\n",
       "      <th>Golf_Course</th>\n",
       "      <th>Event_format</th>\n",
       "    </tr>\n",
       "  </thead>\n",
       "  <tbody>\n",
       "    <tr>\n",
       "      <th>0</th>\n",
       "      <td>Central Valley</td>\n",
       "      <td>4-Person Best ball -Count 2</td>\n",
       "    </tr>\n",
       "    <tr>\n",
       "      <th>1</th>\n",
       "      <td>Willow Run</td>\n",
       "      <td>2-Person Modified Chapman</td>\n",
       "    </tr>\n",
       "    <tr>\n",
       "      <th>2</th>\n",
       "      <td>Rocky Run</td>\n",
       "      <td>2-Person Scramble</td>\n",
       "    </tr>\n",
       "    <tr>\n",
       "      <th>3</th>\n",
       "      <td>Bakker Crossing</td>\n",
       "      <td>2-Person Stableford</td>\n",
       "    </tr>\n",
       "    <tr>\n",
       "      <th>4</th>\n",
       "      <td>Willow Run</td>\n",
       "      <td>Senior Low Gross &amp; Super Senior Low Gross</td>\n",
       "    </tr>\n",
       "    <tr>\n",
       "      <th>5</th>\n",
       "      <td>Worthington</td>\n",
       "      <td>4-Person Bridgemans Best Ball</td>\n",
       "    </tr>\n",
       "    <tr>\n",
       "      <th>6</th>\n",
       "      <td>Rocky Run</td>\n",
       "      <td>1man-scramble</td>\n",
       "    </tr>\n",
       "    <tr>\n",
       "      <th>7</th>\n",
       "      <td>Fox Run</td>\n",
       "      <td>Cries - Drop worst 6 holes</td>\n",
       "    </tr>\n",
       "    <tr>\n",
       "      <th>8</th>\n",
       "      <td>Bakker Crossing</td>\n",
       "      <td>2-Person Best Ball</td>\n",
       "    </tr>\n",
       "    <tr>\n",
       "      <th>9</th>\n",
       "      <td>Central Valley</td>\n",
       "      <td>Low Gross</td>\n",
       "    </tr>\n",
       "    <tr>\n",
       "      <th>10</th>\n",
       "      <td>Worthington</td>\n",
       "      <td>4-Person Lawrence Welk Best Ball</td>\n",
       "    </tr>\n",
       "    <tr>\n",
       "      <th>11</th>\n",
       "      <td>Fox Run</td>\n",
       "      <td>2-Person Modified Chapman</td>\n",
       "    </tr>\n",
       "    <tr>\n",
       "      <th>12</th>\n",
       "      <td>Bakker Crossing</td>\n",
       "      <td>Low Gross</td>\n",
       "    </tr>\n",
       "    <tr>\n",
       "      <th>13</th>\n",
       "      <td>Willow Run</td>\n",
       "      <td>2-Person Scramble</td>\n",
       "    </tr>\n",
       "    <tr>\n",
       "      <th>14</th>\n",
       "      <td>Rocky Run</td>\n",
       "      <td>One-Man Tee Mover</td>\n",
       "    </tr>\n",
       "    <tr>\n",
       "      <th>15</th>\n",
       "      <td>Central Valley</td>\n",
       "      <td>2-Person Best Ball</td>\n",
       "    </tr>\n",
       "    <tr>\n",
       "      <th>16</th>\n",
       "      <td>Worthington</td>\n",
       "      <td>4-Person Best Ball - Count 3</td>\n",
       "    </tr>\n",
       "    <tr>\n",
       "      <th>17</th>\n",
       "      <td>Bakker Crossing</td>\n",
       "      <td>2-Person Scramble</td>\n",
       "    </tr>\n",
       "    <tr>\n",
       "      <th>18</th>\n",
       "      <td>Central Valley</td>\n",
       "      <td>2-Person Modified Chapman</td>\n",
       "    </tr>\n",
       "    <tr>\n",
       "      <th>19</th>\n",
       "      <td>Willow Run</td>\n",
       "      <td>Low Gross</td>\n",
       "    </tr>\n",
       "    <tr>\n",
       "      <th>20</th>\n",
       "      <td>Fox Run</td>\n",
       "      <td>4-Person \"Shamble\"</td>\n",
       "    </tr>\n",
       "  </tbody>\n",
       "</table>\n",
       "</div>"
      ],
      "text/plain": [
       "         Golf_Course                                Event_format\n",
       "0    Central Valley                 4-Person Best ball -Count 2 \n",
       "1        Willow Run                   2-Person Modified Chapman \n",
       "2         Rocky Run                           2-Person Scramble \n",
       "3   Bakker Crossing                         2-Person Stableford \n",
       "4        Willow Run   Senior Low Gross & Super Senior Low Gross \n",
       "5       Worthington               4-Person Bridgemans Best Ball \n",
       "6         Rocky Run                                1man-scramble\n",
       "7           Fox Run                  Cries - Drop worst 6 holes \n",
       "8   Bakker Crossing                          2-Person Best Ball \n",
       "9    Central Valley                                   Low Gross \n",
       "10      Worthington            4-Person Lawrence Welk Best Ball \n",
       "11          Fox Run                   2-Person Modified Chapman \n",
       "12  Bakker Crossing                                   Low Gross \n",
       "13       Willow Run                           2-Person Scramble \n",
       "14        Rocky Run                           One-Man Tee Mover \n",
       "15   Central Valley                          2-Person Best Ball \n",
       "16      Worthington                4-Person Best Ball - Count 3 \n",
       "17  Bakker Crossing                           2-Person Scramble \n",
       "18   Central Valley                   2-Person Modified Chapman \n",
       "19       Willow Run                                   Low Gross \n",
       "20          Fox Run                          4-Person \"Shamble\" "
      ]
     },
     "execution_count": 89,
     "metadata": {},
     "output_type": "execute_result"
    }
   ],
   "source": [
    "gl_df"
   ]
  },
  {
   "cell_type": "code",
   "execution_count": 92,
   "id": "3b67577b",
   "metadata": {},
   "outputs": [],
   "source": [
    "df=gl_df\n",
    "df.drop(df.index[df['Event_format'].str.contains('Scramble')], inplace=True)"
   ]
  },
  {
   "cell_type": "code",
   "execution_count": 93,
   "id": "07994cbf",
   "metadata": {},
   "outputs": [
    {
     "data": {
      "text/html": [
       "<div>\n",
       "<style scoped>\n",
       "    .dataframe tbody tr th:only-of-type {\n",
       "        vertical-align: middle;\n",
       "    }\n",
       "\n",
       "    .dataframe tbody tr th {\n",
       "        vertical-align: top;\n",
       "    }\n",
       "\n",
       "    .dataframe thead th {\n",
       "        text-align: right;\n",
       "    }\n",
       "</style>\n",
       "<table border=\"1\" class=\"dataframe\">\n",
       "  <thead>\n",
       "    <tr style=\"text-align: right;\">\n",
       "      <th></th>\n",
       "      <th>Golf_Course</th>\n",
       "      <th>Event_format</th>\n",
       "    </tr>\n",
       "  </thead>\n",
       "  <tbody>\n",
       "    <tr>\n",
       "      <th>0</th>\n",
       "      <td>Central Valley</td>\n",
       "      <td>4-Person Best ball -Count 2</td>\n",
       "    </tr>\n",
       "    <tr>\n",
       "      <th>1</th>\n",
       "      <td>Willow Run</td>\n",
       "      <td>2-Person Modified Chapman</td>\n",
       "    </tr>\n",
       "    <tr>\n",
       "      <th>3</th>\n",
       "      <td>Bakker Crossing</td>\n",
       "      <td>2-Person Stableford</td>\n",
       "    </tr>\n",
       "    <tr>\n",
       "      <th>4</th>\n",
       "      <td>Willow Run</td>\n",
       "      <td>Senior Low Gross &amp; Super Senior Low Gross</td>\n",
       "    </tr>\n",
       "    <tr>\n",
       "      <th>5</th>\n",
       "      <td>Worthington</td>\n",
       "      <td>4-Person Bridgemans Best Ball</td>\n",
       "    </tr>\n",
       "    <tr>\n",
       "      <th>6</th>\n",
       "      <td>Rocky Run</td>\n",
       "      <td>1man-scramble</td>\n",
       "    </tr>\n",
       "    <tr>\n",
       "      <th>7</th>\n",
       "      <td>Fox Run</td>\n",
       "      <td>Cries - Drop worst 6 holes</td>\n",
       "    </tr>\n",
       "    <tr>\n",
       "      <th>8</th>\n",
       "      <td>Bakker Crossing</td>\n",
       "      <td>2-Person Best Ball</td>\n",
       "    </tr>\n",
       "    <tr>\n",
       "      <th>9</th>\n",
       "      <td>Central Valley</td>\n",
       "      <td>Low Gross</td>\n",
       "    </tr>\n",
       "    <tr>\n",
       "      <th>10</th>\n",
       "      <td>Worthington</td>\n",
       "      <td>4-Person Lawrence Welk Best Ball</td>\n",
       "    </tr>\n",
       "    <tr>\n",
       "      <th>11</th>\n",
       "      <td>Fox Run</td>\n",
       "      <td>2-Person Modified Chapman</td>\n",
       "    </tr>\n",
       "    <tr>\n",
       "      <th>12</th>\n",
       "      <td>Bakker Crossing</td>\n",
       "      <td>Low Gross</td>\n",
       "    </tr>\n",
       "    <tr>\n",
       "      <th>14</th>\n",
       "      <td>Rocky Run</td>\n",
       "      <td>One-Man Tee Mover</td>\n",
       "    </tr>\n",
       "    <tr>\n",
       "      <th>15</th>\n",
       "      <td>Central Valley</td>\n",
       "      <td>2-Person Best Ball</td>\n",
       "    </tr>\n",
       "    <tr>\n",
       "      <th>16</th>\n",
       "      <td>Worthington</td>\n",
       "      <td>4-Person Best Ball - Count 3</td>\n",
       "    </tr>\n",
       "    <tr>\n",
       "      <th>18</th>\n",
       "      <td>Central Valley</td>\n",
       "      <td>2-Person Modified Chapman</td>\n",
       "    </tr>\n",
       "    <tr>\n",
       "      <th>19</th>\n",
       "      <td>Willow Run</td>\n",
       "      <td>Low Gross</td>\n",
       "    </tr>\n",
       "    <tr>\n",
       "      <th>20</th>\n",
       "      <td>Fox Run</td>\n",
       "      <td>4-Person \"Shamble\"</td>\n",
       "    </tr>\n",
       "  </tbody>\n",
       "</table>\n",
       "</div>"
      ],
      "text/plain": [
       "         Golf_Course                                Event_format\n",
       "0    Central Valley                 4-Person Best ball -Count 2 \n",
       "1        Willow Run                   2-Person Modified Chapman \n",
       "3   Bakker Crossing                         2-Person Stableford \n",
       "4        Willow Run   Senior Low Gross & Super Senior Low Gross \n",
       "5       Worthington               4-Person Bridgemans Best Ball \n",
       "6         Rocky Run                                1man-scramble\n",
       "7           Fox Run                  Cries - Drop worst 6 holes \n",
       "8   Bakker Crossing                          2-Person Best Ball \n",
       "9    Central Valley                                   Low Gross \n",
       "10      Worthington            4-Person Lawrence Welk Best Ball \n",
       "11          Fox Run                   2-Person Modified Chapman \n",
       "12  Bakker Crossing                                   Low Gross \n",
       "14        Rocky Run                           One-Man Tee Mover \n",
       "15   Central Valley                          2-Person Best Ball \n",
       "16      Worthington                4-Person Best Ball - Count 3 \n",
       "18   Central Valley                   2-Person Modified Chapman \n",
       "19       Willow Run                                   Low Gross \n",
       "20          Fox Run                          4-Person \"Shamble\" "
      ]
     },
     "execution_count": 93,
     "metadata": {},
     "output_type": "execute_result"
    }
   ],
   "source": [
    "df"
   ]
  },
  {
   "cell_type": "code",
   "execution_count": 94,
   "id": "1574e9a6",
   "metadata": {},
   "outputs": [
    {
     "data": {
      "text/plain": [
       "(18, 2)"
      ]
     },
     "execution_count": 94,
     "metadata": {},
     "output_type": "execute_result"
    }
   ],
   "source": [
    "df.shape"
   ]
  },
  {
   "cell_type": "code",
   "execution_count": 96,
   "id": "9e2adeb5",
   "metadata": {},
   "outputs": [],
   "source": [
    "df.drop(index=18, inplace=True)"
   ]
  },
  {
   "cell_type": "code",
   "execution_count": 97,
   "id": "ffd314b5",
   "metadata": {},
   "outputs": [
    {
     "data": {
      "text/html": [
       "<div>\n",
       "<style scoped>\n",
       "    .dataframe tbody tr th:only-of-type {\n",
       "        vertical-align: middle;\n",
       "    }\n",
       "\n",
       "    .dataframe tbody tr th {\n",
       "        vertical-align: top;\n",
       "    }\n",
       "\n",
       "    .dataframe thead th {\n",
       "        text-align: right;\n",
       "    }\n",
       "</style>\n",
       "<table border=\"1\" class=\"dataframe\">\n",
       "  <thead>\n",
       "    <tr style=\"text-align: right;\">\n",
       "      <th></th>\n",
       "      <th>Golf_Course</th>\n",
       "      <th>Event_format</th>\n",
       "    </tr>\n",
       "  </thead>\n",
       "  <tbody>\n",
       "    <tr>\n",
       "      <th>0</th>\n",
       "      <td>Central Valley</td>\n",
       "      <td>4-Person Best ball -Count 2</td>\n",
       "    </tr>\n",
       "    <tr>\n",
       "      <th>1</th>\n",
       "      <td>Willow Run</td>\n",
       "      <td>2-Person Modified Chapman</td>\n",
       "    </tr>\n",
       "    <tr>\n",
       "      <th>3</th>\n",
       "      <td>Bakker Crossing</td>\n",
       "      <td>2-Person Stableford</td>\n",
       "    </tr>\n",
       "    <tr>\n",
       "      <th>4</th>\n",
       "      <td>Willow Run</td>\n",
       "      <td>Senior Low Gross &amp; Super Senior Low Gross</td>\n",
       "    </tr>\n",
       "    <tr>\n",
       "      <th>5</th>\n",
       "      <td>Worthington</td>\n",
       "      <td>4-Person Bridgemans Best Ball</td>\n",
       "    </tr>\n",
       "    <tr>\n",
       "      <th>6</th>\n",
       "      <td>Rocky Run</td>\n",
       "      <td>1man-scramble</td>\n",
       "    </tr>\n",
       "    <tr>\n",
       "      <th>7</th>\n",
       "      <td>Fox Run</td>\n",
       "      <td>Cries - Drop worst 6 holes</td>\n",
       "    </tr>\n",
       "    <tr>\n",
       "      <th>8</th>\n",
       "      <td>Bakker Crossing</td>\n",
       "      <td>2-Person Best Ball</td>\n",
       "    </tr>\n",
       "    <tr>\n",
       "      <th>9</th>\n",
       "      <td>Central Valley</td>\n",
       "      <td>Low Gross</td>\n",
       "    </tr>\n",
       "    <tr>\n",
       "      <th>10</th>\n",
       "      <td>Worthington</td>\n",
       "      <td>4-Person Lawrence Welk Best Ball</td>\n",
       "    </tr>\n",
       "    <tr>\n",
       "      <th>11</th>\n",
       "      <td>Fox Run</td>\n",
       "      <td>2-Person Modified Chapman</td>\n",
       "    </tr>\n",
       "    <tr>\n",
       "      <th>12</th>\n",
       "      <td>Bakker Crossing</td>\n",
       "      <td>Low Gross</td>\n",
       "    </tr>\n",
       "    <tr>\n",
       "      <th>14</th>\n",
       "      <td>Rocky Run</td>\n",
       "      <td>One-Man Tee Mover</td>\n",
       "    </tr>\n",
       "    <tr>\n",
       "      <th>15</th>\n",
       "      <td>Central Valley</td>\n",
       "      <td>2-Person Best Ball</td>\n",
       "    </tr>\n",
       "    <tr>\n",
       "      <th>16</th>\n",
       "      <td>Worthington</td>\n",
       "      <td>4-Person Best Ball - Count 3</td>\n",
       "    </tr>\n",
       "    <tr>\n",
       "      <th>19</th>\n",
       "      <td>Willow Run</td>\n",
       "      <td>Low Gross</td>\n",
       "    </tr>\n",
       "    <tr>\n",
       "      <th>20</th>\n",
       "      <td>Fox Run</td>\n",
       "      <td>4-Person \"Shamble\"</td>\n",
       "    </tr>\n",
       "  </tbody>\n",
       "</table>\n",
       "</div>"
      ],
      "text/plain": [
       "         Golf_Course                                Event_format\n",
       "0    Central Valley                 4-Person Best ball -Count 2 \n",
       "1        Willow Run                   2-Person Modified Chapman \n",
       "3   Bakker Crossing                         2-Person Stableford \n",
       "4        Willow Run   Senior Low Gross & Super Senior Low Gross \n",
       "5       Worthington               4-Person Bridgemans Best Ball \n",
       "6         Rocky Run                                1man-scramble\n",
       "7           Fox Run                  Cries - Drop worst 6 holes \n",
       "8   Bakker Crossing                          2-Person Best Ball \n",
       "9    Central Valley                                   Low Gross \n",
       "10      Worthington            4-Person Lawrence Welk Best Ball \n",
       "11          Fox Run                   2-Person Modified Chapman \n",
       "12  Bakker Crossing                                   Low Gross \n",
       "14        Rocky Run                           One-Man Tee Mover \n",
       "15   Central Valley                          2-Person Best Ball \n",
       "16      Worthington                4-Person Best Ball - Count 3 \n",
       "19       Willow Run                                   Low Gross \n",
       "20          Fox Run                          4-Person \"Shamble\" "
      ]
     },
     "execution_count": 97,
     "metadata": {},
     "output_type": "execute_result"
    }
   ],
   "source": [
    "df"
   ]
  },
  {
   "cell_type": "code",
   "execution_count": 100,
   "id": "22890e97",
   "metadata": {},
   "outputs": [],
   "source": [
    "df.loc[19]['Golf_Course'] = 'Fox Run'"
   ]
  },
  {
   "cell_type": "code",
   "execution_count": 101,
   "id": "894e063b",
   "metadata": {},
   "outputs": [
    {
     "data": {
      "text/html": [
       "<div>\n",
       "<style scoped>\n",
       "    .dataframe tbody tr th:only-of-type {\n",
       "        vertical-align: middle;\n",
       "    }\n",
       "\n",
       "    .dataframe tbody tr th {\n",
       "        vertical-align: top;\n",
       "    }\n",
       "\n",
       "    .dataframe thead th {\n",
       "        text-align: right;\n",
       "    }\n",
       "</style>\n",
       "<table border=\"1\" class=\"dataframe\">\n",
       "  <thead>\n",
       "    <tr style=\"text-align: right;\">\n",
       "      <th></th>\n",
       "      <th>Golf_Course</th>\n",
       "      <th>Event_format</th>\n",
       "    </tr>\n",
       "  </thead>\n",
       "  <tbody>\n",
       "    <tr>\n",
       "      <th>0</th>\n",
       "      <td>Central Valley</td>\n",
       "      <td>4-Person Best ball -Count 2</td>\n",
       "    </tr>\n",
       "    <tr>\n",
       "      <th>1</th>\n",
       "      <td>Willow Run</td>\n",
       "      <td>2-Person Modified Chapman</td>\n",
       "    </tr>\n",
       "    <tr>\n",
       "      <th>3</th>\n",
       "      <td>Bakker Crossing</td>\n",
       "      <td>2-Person Stableford</td>\n",
       "    </tr>\n",
       "    <tr>\n",
       "      <th>4</th>\n",
       "      <td>Willow Run</td>\n",
       "      <td>Senior Low Gross &amp; Super Senior Low Gross</td>\n",
       "    </tr>\n",
       "    <tr>\n",
       "      <th>5</th>\n",
       "      <td>Worthington</td>\n",
       "      <td>4-Person Bridgemans Best Ball</td>\n",
       "    </tr>\n",
       "    <tr>\n",
       "      <th>6</th>\n",
       "      <td>Rocky Run</td>\n",
       "      <td>1man-scramble</td>\n",
       "    </tr>\n",
       "    <tr>\n",
       "      <th>7</th>\n",
       "      <td>Fox Run</td>\n",
       "      <td>Cries - Drop worst 6 holes</td>\n",
       "    </tr>\n",
       "    <tr>\n",
       "      <th>8</th>\n",
       "      <td>Bakker Crossing</td>\n",
       "      <td>2-Person Best Ball</td>\n",
       "    </tr>\n",
       "    <tr>\n",
       "      <th>9</th>\n",
       "      <td>Central Valley</td>\n",
       "      <td>Low Gross</td>\n",
       "    </tr>\n",
       "    <tr>\n",
       "      <th>10</th>\n",
       "      <td>Worthington</td>\n",
       "      <td>4-Person Lawrence Welk Best Ball</td>\n",
       "    </tr>\n",
       "    <tr>\n",
       "      <th>11</th>\n",
       "      <td>Fox Run</td>\n",
       "      <td>2-Person Modified Chapman</td>\n",
       "    </tr>\n",
       "    <tr>\n",
       "      <th>12</th>\n",
       "      <td>Bakker Crossing</td>\n",
       "      <td>Low Gross</td>\n",
       "    </tr>\n",
       "    <tr>\n",
       "      <th>14</th>\n",
       "      <td>Rocky Run</td>\n",
       "      <td>One-Man Tee Mover</td>\n",
       "    </tr>\n",
       "    <tr>\n",
       "      <th>15</th>\n",
       "      <td>Central Valley</td>\n",
       "      <td>2-Person Best Ball</td>\n",
       "    </tr>\n",
       "    <tr>\n",
       "      <th>16</th>\n",
       "      <td>Worthington</td>\n",
       "      <td>4-Person Best Ball - Count 3</td>\n",
       "    </tr>\n",
       "    <tr>\n",
       "      <th>19</th>\n",
       "      <td>Fox Run</td>\n",
       "      <td>Low Gross</td>\n",
       "    </tr>\n",
       "    <tr>\n",
       "      <th>20</th>\n",
       "      <td>Fox Run</td>\n",
       "      <td>4-Person \"Shamble\"</td>\n",
       "    </tr>\n",
       "  </tbody>\n",
       "</table>\n",
       "</div>"
      ],
      "text/plain": [
       "         Golf_Course                                Event_format\n",
       "0    Central Valley                 4-Person Best ball -Count 2 \n",
       "1        Willow Run                   2-Person Modified Chapman \n",
       "3   Bakker Crossing                         2-Person Stableford \n",
       "4        Willow Run   Senior Low Gross & Super Senior Low Gross \n",
       "5       Worthington               4-Person Bridgemans Best Ball \n",
       "6         Rocky Run                                1man-scramble\n",
       "7           Fox Run                  Cries - Drop worst 6 holes \n",
       "8   Bakker Crossing                          2-Person Best Ball \n",
       "9    Central Valley                                   Low Gross \n",
       "10      Worthington            4-Person Lawrence Welk Best Ball \n",
       "11          Fox Run                   2-Person Modified Chapman \n",
       "12  Bakker Crossing                                   Low Gross \n",
       "14        Rocky Run                           One-Man Tee Mover \n",
       "15   Central Valley                          2-Person Best Ball \n",
       "16      Worthington                4-Person Best Ball - Count 3 \n",
       "19           Fox Run                                  Low Gross \n",
       "20          Fox Run                          4-Person \"Shamble\" "
      ]
     },
     "execution_count": 101,
     "metadata": {},
     "output_type": "execute_result"
    }
   ],
   "source": [
    "df"
   ]
  },
  {
   "cell_type": "code",
   "execution_count": 102,
   "id": "46863fd1",
   "metadata": {},
   "outputs": [],
   "source": [
    "df.loc[20]['Golf_Course'] = 'Willow Run'"
   ]
  },
  {
   "cell_type": "markdown",
   "id": "8c9f986d",
   "metadata": {},
   "source": [
    "# they changed the last two events because of weather - rain? - sogginess"
   ]
  },
  {
   "cell_type": "code",
   "execution_count": 103,
   "id": "67cd0114",
   "metadata": {},
   "outputs": [
    {
     "data": {
      "text/html": [
       "<div>\n",
       "<style scoped>\n",
       "    .dataframe tbody tr th:only-of-type {\n",
       "        vertical-align: middle;\n",
       "    }\n",
       "\n",
       "    .dataframe tbody tr th {\n",
       "        vertical-align: top;\n",
       "    }\n",
       "\n",
       "    .dataframe thead th {\n",
       "        text-align: right;\n",
       "    }\n",
       "</style>\n",
       "<table border=\"1\" class=\"dataframe\">\n",
       "  <thead>\n",
       "    <tr style=\"text-align: right;\">\n",
       "      <th></th>\n",
       "      <th>Golf_Course</th>\n",
       "      <th>Event_format</th>\n",
       "    </tr>\n",
       "  </thead>\n",
       "  <tbody>\n",
       "    <tr>\n",
       "      <th>0</th>\n",
       "      <td>Central Valley</td>\n",
       "      <td>4-Person Best ball -Count 2</td>\n",
       "    </tr>\n",
       "    <tr>\n",
       "      <th>1</th>\n",
       "      <td>Willow Run</td>\n",
       "      <td>2-Person Modified Chapman</td>\n",
       "    </tr>\n",
       "    <tr>\n",
       "      <th>3</th>\n",
       "      <td>Bakker Crossing</td>\n",
       "      <td>2-Person Stableford</td>\n",
       "    </tr>\n",
       "    <tr>\n",
       "      <th>4</th>\n",
       "      <td>Willow Run</td>\n",
       "      <td>Senior Low Gross &amp; Super Senior Low Gross</td>\n",
       "    </tr>\n",
       "    <tr>\n",
       "      <th>5</th>\n",
       "      <td>Worthington</td>\n",
       "      <td>4-Person Bridgemans Best Ball</td>\n",
       "    </tr>\n",
       "    <tr>\n",
       "      <th>6</th>\n",
       "      <td>Rocky Run</td>\n",
       "      <td>1man-scramble</td>\n",
       "    </tr>\n",
       "    <tr>\n",
       "      <th>7</th>\n",
       "      <td>Fox Run</td>\n",
       "      <td>Cries - Drop worst 6 holes</td>\n",
       "    </tr>\n",
       "    <tr>\n",
       "      <th>8</th>\n",
       "      <td>Bakker Crossing</td>\n",
       "      <td>2-Person Best Ball</td>\n",
       "    </tr>\n",
       "    <tr>\n",
       "      <th>9</th>\n",
       "      <td>Central Valley</td>\n",
       "      <td>Low Gross</td>\n",
       "    </tr>\n",
       "    <tr>\n",
       "      <th>10</th>\n",
       "      <td>Worthington</td>\n",
       "      <td>4-Person Lawrence Welk Best Ball</td>\n",
       "    </tr>\n",
       "    <tr>\n",
       "      <th>11</th>\n",
       "      <td>Fox Run</td>\n",
       "      <td>2-Person Modified Chapman</td>\n",
       "    </tr>\n",
       "    <tr>\n",
       "      <th>12</th>\n",
       "      <td>Bakker Crossing</td>\n",
       "      <td>Low Gross</td>\n",
       "    </tr>\n",
       "    <tr>\n",
       "      <th>14</th>\n",
       "      <td>Rocky Run</td>\n",
       "      <td>One-Man Tee Mover</td>\n",
       "    </tr>\n",
       "    <tr>\n",
       "      <th>15</th>\n",
       "      <td>Central Valley</td>\n",
       "      <td>2-Person Best Ball</td>\n",
       "    </tr>\n",
       "    <tr>\n",
       "      <th>16</th>\n",
       "      <td>Worthington</td>\n",
       "      <td>4-Person Best Ball - Count 3</td>\n",
       "    </tr>\n",
       "    <tr>\n",
       "      <th>19</th>\n",
       "      <td>Fox Run</td>\n",
       "      <td>Low Gross</td>\n",
       "    </tr>\n",
       "    <tr>\n",
       "      <th>20</th>\n",
       "      <td>Willow Run</td>\n",
       "      <td>4-Person \"Shamble\"</td>\n",
       "    </tr>\n",
       "  </tbody>\n",
       "</table>\n",
       "</div>"
      ],
      "text/plain": [
       "         Golf_Course                                Event_format\n",
       "0    Central Valley                 4-Person Best ball -Count 2 \n",
       "1        Willow Run                   2-Person Modified Chapman \n",
       "3   Bakker Crossing                         2-Person Stableford \n",
       "4        Willow Run   Senior Low Gross & Super Senior Low Gross \n",
       "5       Worthington               4-Person Bridgemans Best Ball \n",
       "6         Rocky Run                                1man-scramble\n",
       "7           Fox Run                  Cries - Drop worst 6 holes \n",
       "8   Bakker Crossing                          2-Person Best Ball \n",
       "9    Central Valley                                   Low Gross \n",
       "10      Worthington            4-Person Lawrence Welk Best Ball \n",
       "11          Fox Run                   2-Person Modified Chapman \n",
       "12  Bakker Crossing                                   Low Gross \n",
       "14        Rocky Run                           One-Man Tee Mover \n",
       "15   Central Valley                          2-Person Best Ball \n",
       "16      Worthington                4-Person Best Ball - Count 3 \n",
       "19           Fox Run                                  Low Gross \n",
       "20        Willow Run                         4-Person \"Shamble\" "
      ]
     },
     "execution_count": 103,
     "metadata": {},
     "output_type": "execute_result"
    }
   ],
   "source": [
    "df"
   ]
  },
  {
   "cell_type": "code",
   "execution_count": 104,
   "id": "9ffec0fa",
   "metadata": {},
   "outputs": [
    {
     "data": {
      "text/plain": [
       "(17, 2)"
      ]
     },
     "execution_count": 104,
     "metadata": {},
     "output_type": "execute_result"
    }
   ],
   "source": [
    "df.shape"
   ]
  },
  {
   "cell_type": "code",
   "execution_count": 105,
   "id": "58fee128",
   "metadata": {},
   "outputs": [],
   "source": [
    "df.loc[14]['Golf_Course'] = 'Willow Run'"
   ]
  },
  {
   "cell_type": "code",
   "execution_count": 106,
   "id": "8190d994",
   "metadata": {},
   "outputs": [],
   "source": [
    "df.loc[14]['Event_format'] = 'Low Gross'"
   ]
  },
  {
   "cell_type": "code",
   "execution_count": 107,
   "id": "5aa81945",
   "metadata": {},
   "outputs": [
    {
     "data": {
      "text/html": [
       "<div>\n",
       "<style scoped>\n",
       "    .dataframe tbody tr th:only-of-type {\n",
       "        vertical-align: middle;\n",
       "    }\n",
       "\n",
       "    .dataframe tbody tr th {\n",
       "        vertical-align: top;\n",
       "    }\n",
       "\n",
       "    .dataframe thead th {\n",
       "        text-align: right;\n",
       "    }\n",
       "</style>\n",
       "<table border=\"1\" class=\"dataframe\">\n",
       "  <thead>\n",
       "    <tr style=\"text-align: right;\">\n",
       "      <th></th>\n",
       "      <th>Golf_Course</th>\n",
       "      <th>Event_format</th>\n",
       "    </tr>\n",
       "  </thead>\n",
       "  <tbody>\n",
       "    <tr>\n",
       "      <th>0</th>\n",
       "      <td>Central Valley</td>\n",
       "      <td>4-Person Best ball -Count 2</td>\n",
       "    </tr>\n",
       "    <tr>\n",
       "      <th>1</th>\n",
       "      <td>Willow Run</td>\n",
       "      <td>2-Person Modified Chapman</td>\n",
       "    </tr>\n",
       "    <tr>\n",
       "      <th>3</th>\n",
       "      <td>Bakker Crossing</td>\n",
       "      <td>2-Person Stableford</td>\n",
       "    </tr>\n",
       "    <tr>\n",
       "      <th>4</th>\n",
       "      <td>Willow Run</td>\n",
       "      <td>Senior Low Gross &amp; Super Senior Low Gross</td>\n",
       "    </tr>\n",
       "    <tr>\n",
       "      <th>5</th>\n",
       "      <td>Worthington</td>\n",
       "      <td>4-Person Bridgemans Best Ball</td>\n",
       "    </tr>\n",
       "    <tr>\n",
       "      <th>6</th>\n",
       "      <td>Rocky Run</td>\n",
       "      <td>1man-scramble</td>\n",
       "    </tr>\n",
       "    <tr>\n",
       "      <th>7</th>\n",
       "      <td>Fox Run</td>\n",
       "      <td>Cries - Drop worst 6 holes</td>\n",
       "    </tr>\n",
       "    <tr>\n",
       "      <th>8</th>\n",
       "      <td>Bakker Crossing</td>\n",
       "      <td>2-Person Best Ball</td>\n",
       "    </tr>\n",
       "    <tr>\n",
       "      <th>9</th>\n",
       "      <td>Central Valley</td>\n",
       "      <td>Low Gross</td>\n",
       "    </tr>\n",
       "    <tr>\n",
       "      <th>10</th>\n",
       "      <td>Worthington</td>\n",
       "      <td>4-Person Lawrence Welk Best Ball</td>\n",
       "    </tr>\n",
       "    <tr>\n",
       "      <th>11</th>\n",
       "      <td>Fox Run</td>\n",
       "      <td>2-Person Modified Chapman</td>\n",
       "    </tr>\n",
       "    <tr>\n",
       "      <th>12</th>\n",
       "      <td>Bakker Crossing</td>\n",
       "      <td>Low Gross</td>\n",
       "    </tr>\n",
       "    <tr>\n",
       "      <th>14</th>\n",
       "      <td>Willow Run</td>\n",
       "      <td>Low Gross</td>\n",
       "    </tr>\n",
       "    <tr>\n",
       "      <th>15</th>\n",
       "      <td>Central Valley</td>\n",
       "      <td>2-Person Best Ball</td>\n",
       "    </tr>\n",
       "    <tr>\n",
       "      <th>16</th>\n",
       "      <td>Worthington</td>\n",
       "      <td>4-Person Best Ball - Count 3</td>\n",
       "    </tr>\n",
       "    <tr>\n",
       "      <th>19</th>\n",
       "      <td>Fox Run</td>\n",
       "      <td>Low Gross</td>\n",
       "    </tr>\n",
       "    <tr>\n",
       "      <th>20</th>\n",
       "      <td>Willow Run</td>\n",
       "      <td>4-Person \"Shamble\"</td>\n",
       "    </tr>\n",
       "  </tbody>\n",
       "</table>\n",
       "</div>"
      ],
      "text/plain": [
       "         Golf_Course                                Event_format\n",
       "0    Central Valley                 4-Person Best ball -Count 2 \n",
       "1        Willow Run                   2-Person Modified Chapman \n",
       "3   Bakker Crossing                         2-Person Stableford \n",
       "4        Willow Run   Senior Low Gross & Super Senior Low Gross \n",
       "5       Worthington               4-Person Bridgemans Best Ball \n",
       "6         Rocky Run                                1man-scramble\n",
       "7           Fox Run                  Cries - Drop worst 6 holes \n",
       "8   Bakker Crossing                          2-Person Best Ball \n",
       "9    Central Valley                                   Low Gross \n",
       "10      Worthington            4-Person Lawrence Welk Best Ball \n",
       "11          Fox Run                   2-Person Modified Chapman \n",
       "12  Bakker Crossing                                   Low Gross \n",
       "14        Willow Run                                   Low Gross\n",
       "15   Central Valley                          2-Person Best Ball \n",
       "16      Worthington                4-Person Best Ball - Count 3 \n",
       "19           Fox Run                                  Low Gross \n",
       "20        Willow Run                         4-Person \"Shamble\" "
      ]
     },
     "execution_count": 107,
     "metadata": {},
     "output_type": "execute_result"
    }
   ],
   "source": [
    "df"
   ]
  },
  {
   "cell_type": "code",
   "execution_count": 108,
   "id": "3a1aa873",
   "metadata": {},
   "outputs": [],
   "source": [
    "df.drop(index=11, inplace=True)"
   ]
  },
  {
   "cell_type": "code",
   "execution_count": 109,
   "id": "d0c5b946",
   "metadata": {},
   "outputs": [
    {
     "data": {
      "text/html": [
       "<div>\n",
       "<style scoped>\n",
       "    .dataframe tbody tr th:only-of-type {\n",
       "        vertical-align: middle;\n",
       "    }\n",
       "\n",
       "    .dataframe tbody tr th {\n",
       "        vertical-align: top;\n",
       "    }\n",
       "\n",
       "    .dataframe thead th {\n",
       "        text-align: right;\n",
       "    }\n",
       "</style>\n",
       "<table border=\"1\" class=\"dataframe\">\n",
       "  <thead>\n",
       "    <tr style=\"text-align: right;\">\n",
       "      <th></th>\n",
       "      <th>Golf_Course</th>\n",
       "      <th>Event_format</th>\n",
       "    </tr>\n",
       "  </thead>\n",
       "  <tbody>\n",
       "    <tr>\n",
       "      <th>0</th>\n",
       "      <td>Central Valley</td>\n",
       "      <td>4-Person Best ball -Count 2</td>\n",
       "    </tr>\n",
       "    <tr>\n",
       "      <th>1</th>\n",
       "      <td>Willow Run</td>\n",
       "      <td>2-Person Modified Chapman</td>\n",
       "    </tr>\n",
       "    <tr>\n",
       "      <th>3</th>\n",
       "      <td>Bakker Crossing</td>\n",
       "      <td>2-Person Stableford</td>\n",
       "    </tr>\n",
       "    <tr>\n",
       "      <th>4</th>\n",
       "      <td>Willow Run</td>\n",
       "      <td>Senior Low Gross &amp; Super Senior Low Gross</td>\n",
       "    </tr>\n",
       "    <tr>\n",
       "      <th>5</th>\n",
       "      <td>Worthington</td>\n",
       "      <td>4-Person Bridgemans Best Ball</td>\n",
       "    </tr>\n",
       "    <tr>\n",
       "      <th>6</th>\n",
       "      <td>Rocky Run</td>\n",
       "      <td>1man-scramble</td>\n",
       "    </tr>\n",
       "    <tr>\n",
       "      <th>7</th>\n",
       "      <td>Fox Run</td>\n",
       "      <td>Cries - Drop worst 6 holes</td>\n",
       "    </tr>\n",
       "    <tr>\n",
       "      <th>8</th>\n",
       "      <td>Bakker Crossing</td>\n",
       "      <td>2-Person Best Ball</td>\n",
       "    </tr>\n",
       "    <tr>\n",
       "      <th>9</th>\n",
       "      <td>Central Valley</td>\n",
       "      <td>Low Gross</td>\n",
       "    </tr>\n",
       "    <tr>\n",
       "      <th>10</th>\n",
       "      <td>Worthington</td>\n",
       "      <td>4-Person Lawrence Welk Best Ball</td>\n",
       "    </tr>\n",
       "    <tr>\n",
       "      <th>12</th>\n",
       "      <td>Bakker Crossing</td>\n",
       "      <td>Low Gross</td>\n",
       "    </tr>\n",
       "    <tr>\n",
       "      <th>14</th>\n",
       "      <td>Willow Run</td>\n",
       "      <td>Low Gross</td>\n",
       "    </tr>\n",
       "    <tr>\n",
       "      <th>15</th>\n",
       "      <td>Central Valley</td>\n",
       "      <td>2-Person Best Ball</td>\n",
       "    </tr>\n",
       "    <tr>\n",
       "      <th>16</th>\n",
       "      <td>Worthington</td>\n",
       "      <td>4-Person Best Ball - Count 3</td>\n",
       "    </tr>\n",
       "    <tr>\n",
       "      <th>19</th>\n",
       "      <td>Fox Run</td>\n",
       "      <td>Low Gross</td>\n",
       "    </tr>\n",
       "    <tr>\n",
       "      <th>20</th>\n",
       "      <td>Willow Run</td>\n",
       "      <td>4-Person \"Shamble\"</td>\n",
       "    </tr>\n",
       "  </tbody>\n",
       "</table>\n",
       "</div>"
      ],
      "text/plain": [
       "         Golf_Course                                Event_format\n",
       "0    Central Valley                 4-Person Best ball -Count 2 \n",
       "1        Willow Run                   2-Person Modified Chapman \n",
       "3   Bakker Crossing                         2-Person Stableford \n",
       "4        Willow Run   Senior Low Gross & Super Senior Low Gross \n",
       "5       Worthington               4-Person Bridgemans Best Ball \n",
       "6         Rocky Run                                1man-scramble\n",
       "7           Fox Run                  Cries - Drop worst 6 holes \n",
       "8   Bakker Crossing                          2-Person Best Ball \n",
       "9    Central Valley                                   Low Gross \n",
       "10      Worthington            4-Person Lawrence Welk Best Ball \n",
       "12  Bakker Crossing                                   Low Gross \n",
       "14        Willow Run                                   Low Gross\n",
       "15   Central Valley                          2-Person Best Ball \n",
       "16      Worthington                4-Person Best Ball - Count 3 \n",
       "19           Fox Run                                  Low Gross \n",
       "20        Willow Run                         4-Person \"Shamble\" "
      ]
     },
     "execution_count": 109,
     "metadata": {},
     "output_type": "execute_result"
    }
   ],
   "source": [
    "df"
   ]
  },
  {
   "cell_type": "code",
   "execution_count": 110,
   "id": "4152f45f",
   "metadata": {},
   "outputs": [
    {
     "data": {
      "text/plain": [
       "(16, 2)"
      ]
     },
     "execution_count": 110,
     "metadata": {},
     "output_type": "execute_result"
    }
   ],
   "source": [
    "df.shape"
   ]
  },
  {
   "cell_type": "code",
   "execution_count": 115,
   "id": "d4a95e91",
   "metadata": {},
   "outputs": [],
   "source": [
    "df.reset_index(drop=True, inplace=True)"
   ]
  },
  {
   "cell_type": "code",
   "execution_count": 116,
   "id": "377840f2",
   "metadata": {},
   "outputs": [
    {
     "data": {
      "text/html": [
       "<div>\n",
       "<style scoped>\n",
       "    .dataframe tbody tr th:only-of-type {\n",
       "        vertical-align: middle;\n",
       "    }\n",
       "\n",
       "    .dataframe tbody tr th {\n",
       "        vertical-align: top;\n",
       "    }\n",
       "\n",
       "    .dataframe thead th {\n",
       "        text-align: right;\n",
       "    }\n",
       "</style>\n",
       "<table border=\"1\" class=\"dataframe\">\n",
       "  <thead>\n",
       "    <tr style=\"text-align: right;\">\n",
       "      <th></th>\n",
       "      <th>Golf_Course</th>\n",
       "      <th>Event_format</th>\n",
       "    </tr>\n",
       "  </thead>\n",
       "  <tbody>\n",
       "    <tr>\n",
       "      <th>0</th>\n",
       "      <td>Central Valley</td>\n",
       "      <td>4-Person Best ball -Count 2</td>\n",
       "    </tr>\n",
       "    <tr>\n",
       "      <th>1</th>\n",
       "      <td>Willow Run</td>\n",
       "      <td>2-Person Modified Chapman</td>\n",
       "    </tr>\n",
       "    <tr>\n",
       "      <th>2</th>\n",
       "      <td>Bakker Crossing</td>\n",
       "      <td>2-Person Stableford</td>\n",
       "    </tr>\n",
       "    <tr>\n",
       "      <th>3</th>\n",
       "      <td>Willow Run</td>\n",
       "      <td>Senior Low Gross &amp; Super Senior Low Gross</td>\n",
       "    </tr>\n",
       "    <tr>\n",
       "      <th>4</th>\n",
       "      <td>Worthington</td>\n",
       "      <td>4-Person Bridgemans Best Ball</td>\n",
       "    </tr>\n",
       "    <tr>\n",
       "      <th>5</th>\n",
       "      <td>Rocky Run</td>\n",
       "      <td>1man-scramble</td>\n",
       "    </tr>\n",
       "    <tr>\n",
       "      <th>6</th>\n",
       "      <td>Fox Run</td>\n",
       "      <td>Cries - Drop worst 6 holes</td>\n",
       "    </tr>\n",
       "    <tr>\n",
       "      <th>7</th>\n",
       "      <td>Bakker Crossing</td>\n",
       "      <td>2-Person Best Ball</td>\n",
       "    </tr>\n",
       "    <tr>\n",
       "      <th>8</th>\n",
       "      <td>Central Valley</td>\n",
       "      <td>Low Gross</td>\n",
       "    </tr>\n",
       "    <tr>\n",
       "      <th>9</th>\n",
       "      <td>Worthington</td>\n",
       "      <td>4-Person Lawrence Welk Best Ball</td>\n",
       "    </tr>\n",
       "    <tr>\n",
       "      <th>10</th>\n",
       "      <td>Bakker Crossing</td>\n",
       "      <td>Low Gross</td>\n",
       "    </tr>\n",
       "    <tr>\n",
       "      <th>11</th>\n",
       "      <td>Willow Run</td>\n",
       "      <td>Low Gross</td>\n",
       "    </tr>\n",
       "    <tr>\n",
       "      <th>12</th>\n",
       "      <td>Central Valley</td>\n",
       "      <td>2-Person Best Ball</td>\n",
       "    </tr>\n",
       "    <tr>\n",
       "      <th>13</th>\n",
       "      <td>Worthington</td>\n",
       "      <td>4-Person Best Ball - Count 3</td>\n",
       "    </tr>\n",
       "    <tr>\n",
       "      <th>14</th>\n",
       "      <td>Fox Run</td>\n",
       "      <td>Low Gross</td>\n",
       "    </tr>\n",
       "    <tr>\n",
       "      <th>15</th>\n",
       "      <td>Willow Run</td>\n",
       "      <td>4-Person \"Shamble\"</td>\n",
       "    </tr>\n",
       "  </tbody>\n",
       "</table>\n",
       "</div>"
      ],
      "text/plain": [
       "         Golf_Course                                Event_format\n",
       "0    Central Valley                 4-Person Best ball -Count 2 \n",
       "1        Willow Run                   2-Person Modified Chapman \n",
       "2   Bakker Crossing                         2-Person Stableford \n",
       "3        Willow Run   Senior Low Gross & Super Senior Low Gross \n",
       "4       Worthington               4-Person Bridgemans Best Ball \n",
       "5         Rocky Run                                1man-scramble\n",
       "6           Fox Run                  Cries - Drop worst 6 holes \n",
       "7   Bakker Crossing                          2-Person Best Ball \n",
       "8    Central Valley                                   Low Gross \n",
       "9       Worthington            4-Person Lawrence Welk Best Ball \n",
       "10  Bakker Crossing                                   Low Gross \n",
       "11        Willow Run                                   Low Gross\n",
       "12   Central Valley                          2-Person Best Ball \n",
       "13      Worthington                4-Person Best Ball - Count 3 \n",
       "14           Fox Run                                  Low Gross \n",
       "15        Willow Run                         4-Person \"Shamble\" "
      ]
     },
     "execution_count": 116,
     "metadata": {},
     "output_type": "execute_result"
    }
   ],
   "source": [
    "df"
   ]
  },
  {
   "cell_type": "code",
   "execution_count": 117,
   "id": "97161771",
   "metadata": {},
   "outputs": [],
   "source": [
    "golf_df = pd.concat([df1,df], axis=1)"
   ]
  },
  {
   "cell_type": "code",
   "execution_count": 118,
   "id": "34565ba5",
   "metadata": {},
   "outputs": [
    {
     "data": {
      "text/html": [
       "<div>\n",
       "<style scoped>\n",
       "    .dataframe tbody tr th:only-of-type {\n",
       "        vertical-align: middle;\n",
       "    }\n",
       "\n",
       "    .dataframe tbody tr th {\n",
       "        vertical-align: top;\n",
       "    }\n",
       "\n",
       "    .dataframe thead th {\n",
       "        text-align: right;\n",
       "    }\n",
       "</style>\n",
       "<table border=\"1\" class=\"dataframe\">\n",
       "  <thead>\n",
       "    <tr style=\"text-align: right;\">\n",
       "      <th></th>\n",
       "      <th>Day</th>\n",
       "      <th>Golf_Score</th>\n",
       "      <th>Wind</th>\n",
       "      <th>Golf_Course</th>\n",
       "      <th>Event_format</th>\n",
       "    </tr>\n",
       "  </thead>\n",
       "  <tbody>\n",
       "    <tr>\n",
       "      <th>0</th>\n",
       "      <td>1</td>\n",
       "      <td>76</td>\n",
       "      <td>10</td>\n",
       "      <td>Central Valley</td>\n",
       "      <td>4-Person Best ball -Count 2</td>\n",
       "    </tr>\n",
       "    <tr>\n",
       "      <th>1</th>\n",
       "      <td>2</td>\n",
       "      <td>84</td>\n",
       "      <td>25</td>\n",
       "      <td>Willow Run</td>\n",
       "      <td>2-Person Modified Chapman</td>\n",
       "    </tr>\n",
       "    <tr>\n",
       "      <th>2</th>\n",
       "      <td>3</td>\n",
       "      <td>80</td>\n",
       "      <td>25</td>\n",
       "      <td>Bakker Crossing</td>\n",
       "      <td>2-Person Stableford</td>\n",
       "    </tr>\n",
       "    <tr>\n",
       "      <th>3</th>\n",
       "      <td>4</td>\n",
       "      <td>74</td>\n",
       "      <td>10</td>\n",
       "      <td>Willow Run</td>\n",
       "      <td>Senior Low Gross &amp; Super Senior Low Gross</td>\n",
       "    </tr>\n",
       "    <tr>\n",
       "      <th>4</th>\n",
       "      <td>5</td>\n",
       "      <td>87</td>\n",
       "      <td>25</td>\n",
       "      <td>Worthington</td>\n",
       "      <td>4-Person Bridgemans Best Ball</td>\n",
       "    </tr>\n",
       "    <tr>\n",
       "      <th>5</th>\n",
       "      <td>6</td>\n",
       "      <td>67</td>\n",
       "      <td>10</td>\n",
       "      <td>Rocky Run</td>\n",
       "      <td>1man-scramble</td>\n",
       "    </tr>\n",
       "    <tr>\n",
       "      <th>6</th>\n",
       "      <td>7</td>\n",
       "      <td>75</td>\n",
       "      <td>10</td>\n",
       "      <td>Fox Run</td>\n",
       "      <td>Cries - Drop worst 6 holes</td>\n",
       "    </tr>\n",
       "    <tr>\n",
       "      <th>7</th>\n",
       "      <td>8</td>\n",
       "      <td>78</td>\n",
       "      <td>10</td>\n",
       "      <td>Bakker Crossing</td>\n",
       "      <td>2-Person Best Ball</td>\n",
       "    </tr>\n",
       "    <tr>\n",
       "      <th>8</th>\n",
       "      <td>9</td>\n",
       "      <td>76</td>\n",
       "      <td>10</td>\n",
       "      <td>Central Valley</td>\n",
       "      <td>Low Gross</td>\n",
       "    </tr>\n",
       "    <tr>\n",
       "      <th>9</th>\n",
       "      <td>10</td>\n",
       "      <td>77</td>\n",
       "      <td>10</td>\n",
       "      <td>Worthington</td>\n",
       "      <td>4-Person Lawrence Welk Best Ball</td>\n",
       "    </tr>\n",
       "    <tr>\n",
       "      <th>10</th>\n",
       "      <td>11</td>\n",
       "      <td>75</td>\n",
       "      <td>10</td>\n",
       "      <td>Bakker Crossing</td>\n",
       "      <td>Low Gross</td>\n",
       "    </tr>\n",
       "    <tr>\n",
       "      <th>11</th>\n",
       "      <td>12</td>\n",
       "      <td>80</td>\n",
       "      <td>25</td>\n",
       "      <td>Willow Run</td>\n",
       "      <td>Low Gross</td>\n",
       "    </tr>\n",
       "    <tr>\n",
       "      <th>12</th>\n",
       "      <td>13</td>\n",
       "      <td>77</td>\n",
       "      <td>10</td>\n",
       "      <td>Central Valley</td>\n",
       "      <td>2-Person Best Ball</td>\n",
       "    </tr>\n",
       "    <tr>\n",
       "      <th>13</th>\n",
       "      <td>14</td>\n",
       "      <td>74</td>\n",
       "      <td>10</td>\n",
       "      <td>Worthington</td>\n",
       "      <td>4-Person Best Ball - Count 3</td>\n",
       "    </tr>\n",
       "    <tr>\n",
       "      <th>14</th>\n",
       "      <td>15</td>\n",
       "      <td>71</td>\n",
       "      <td>10</td>\n",
       "      <td>Fox Run</td>\n",
       "      <td>Low Gross</td>\n",
       "    </tr>\n",
       "    <tr>\n",
       "      <th>15</th>\n",
       "      <td>16</td>\n",
       "      <td>74</td>\n",
       "      <td>10</td>\n",
       "      <td>Willow Run</td>\n",
       "      <td>4-Person \"Shamble\"</td>\n",
       "    </tr>\n",
       "  </tbody>\n",
       "</table>\n",
       "</div>"
      ],
      "text/plain": [
       "    Day  Golf_Score  Wind       Golf_Course  \\\n",
       "0     1          76    10   Central Valley    \n",
       "1     2          84    25       Willow Run    \n",
       "2     3          80    25  Bakker Crossing    \n",
       "3     4          74    10       Willow Run    \n",
       "4     5          87    25      Worthington    \n",
       "5     6          67    10        Rocky Run    \n",
       "6     7          75    10          Fox Run    \n",
       "7     8          78    10  Bakker Crossing    \n",
       "8     9          76    10   Central Valley    \n",
       "9    10          77    10      Worthington    \n",
       "10   11          75    10  Bakker Crossing    \n",
       "11   12          80    25        Willow Run   \n",
       "12   13          77    10   Central Valley    \n",
       "13   14          74    10      Worthington    \n",
       "14   15          71    10           Fox Run   \n",
       "15   16          74    10        Willow Run   \n",
       "\n",
       "                                  Event_format  \n",
       "0                 4-Person Best ball -Count 2   \n",
       "1                   2-Person Modified Chapman   \n",
       "2                         2-Person Stableford   \n",
       "3   Senior Low Gross & Super Senior Low Gross   \n",
       "4               4-Person Bridgemans Best Ball   \n",
       "5                                1man-scramble  \n",
       "6                  Cries - Drop worst 6 holes   \n",
       "7                          2-Person Best Ball   \n",
       "8                                   Low Gross   \n",
       "9            4-Person Lawrence Welk Best Ball   \n",
       "10                                  Low Gross   \n",
       "11                                   Low Gross  \n",
       "12                         2-Person Best Ball   \n",
       "13               4-Person Best Ball - Count 3   \n",
       "14                                  Low Gross   \n",
       "15                         4-Person \"Shamble\"   "
      ]
     },
     "execution_count": 118,
     "metadata": {},
     "output_type": "execute_result"
    }
   ],
   "source": [
    "golf_df"
   ]
  },
  {
   "cell_type": "code",
   "execution_count": 129,
   "id": "db856062",
   "metadata": {},
   "outputs": [
    {
     "data": {
      "text/plain": [
       "<seaborn.axisgrid.FacetGrid at 0x7faf6a863b80>"
      ]
     },
     "execution_count": 129,
     "metadata": {},
     "output_type": "execute_result"
    },
    {
     "data": {
      "image/png": "[encoded data removed]",
      "text/plain": [
       "<Figure size 1080x576 with 1 Axes>"
      ]
     },
     "metadata": {},
     "output_type": "display_data"
    }
   ],
   "source": [
    "sns.catplot(x='Golf_Course',y='Golf_Score', data=golf_df, kind=\"violin\", height=8, aspect=15/8)"
   ]
  },
  {
   "cell_type": "code",
   "execution_count": 130,
   "id": "4af14f3f",
   "metadata": {},
   "outputs": [],
   "source": [
    "course = golf_df['Golf_Course'].values"
   ]
  },
  {
   "cell_type": "code",
   "execution_count": 131,
   "id": "fe297942",
   "metadata": {},
   "outputs": [
    {
     "data": {
      "text/plain": [
       "array(['Central Valley ', 'Willow Run ', 'Bakker Crossing ',\n",
       "       'Willow Run ', 'Worthington ', 'Rocky Run ', 'Fox Run ',\n",
       "       'Bakker Crossing ', 'Central Valley ', 'Worthington ',\n",
       "       'Bakker Crossing ', 'Willow Run', 'Central Valley ',\n",
       "       'Worthington ', 'Fox Run', 'Willow Run'], dtype=object)"
      ]
     },
     "execution_count": 131,
     "metadata": {},
     "output_type": "execute_result"
    }
   ],
   "source": [
    "course"
   ]
  },
  {
   "cell_type": "code",
   "execution_count": 133,
   "id": "67789d52",
   "metadata": {},
   "outputs": [],
   "source": [
    "golf_df['Golf_Course'] = golf_df['Golf_Course'].str.strip()"
   ]
  },
  {
   "cell_type": "code",
   "execution_count": 134,
   "id": "8b8b58d8",
   "metadata": {},
   "outputs": [
    {
     "data": {
      "text/plain": [
       "<seaborn.axisgrid.FacetGrid at 0x7faf6a8b3220>"
      ]
     },
     "execution_count": 134,
     "metadata": {},
     "output_type": "execute_result"
    },
    {
     "data": {
      "image/png": "[encoded data removed]",
      "text/plain": [
       "<Figure size 1080x576 with 1 Axes>"
      ]
     },
     "metadata": {},
     "output_type": "display_data"
    }
   ],
   "source": [
    "sns.catplot(x='Golf_Course',y='Golf_Score', data=golf_df, kind=\"violin\", height=8, aspect=15/8)"
   ]
  },
  {
   "cell_type": "code",
   "execution_count": 136,
   "id": "fe218702",
   "metadata": {},
   "outputs": [
    {
     "data": {
      "text/plain": [
       "<AxesSubplot:>"
      ]
     },
     "execution_count": 136,
     "metadata": {},
     "output_type": "execute_result"
    },
    {
     "data": {
      "image/png": "[encoded data removed]",
      "text/plain": [
       "<Figure size 1080x576 with 1 Axes>"
      ]
     },
     "metadata": {},
     "output_type": "display_data"
    }
   ],
   "source": [
    "golf_df.Golf_Course.value_counts().plot(kind='bar', color='violet')"
   ]
  },
  {
   "cell_type": "code",
   "execution_count": null,
   "id": "cacd2283",
   "metadata": {},
   "outputs": [],
   "source": []
  }
 ],
 "metadata": {
  "kernelspec": {
   "display_name": "Python 3 (ipykernel)",
   "language": "python",
   "name": "python3"
  },
  "language_info": {
   "codemirror_mode": {
    "name": "ipython",
    "version": 3
   },
   "file_extension": ".py",
   "mimetype": "text/x-python",
   "name": "python",
   "nbconvert_exporter": "python",
   "pygments_lexer": "ipython3",
   "version": "3.9.9"
  }
 },
 "nbformat": 4,
 "nbformat_minor": 5
}
