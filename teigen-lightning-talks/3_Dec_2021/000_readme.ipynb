{
 "cells": [
  {
   "cell_type": "code",
   "execution_count": 1,
   "id": "1a3faa10",
   "metadata": {},
   "outputs": [
    {
     "data": {
      "text/markdown": [
       "# December 28 Lightning Talk Outline\n",
       "\n",
       "1. STAC and Xarray with Open Data Cube - 00 and 01 Notebooks\n",
       "2. isab - repo - how to build a docker conda environment base container\n",
       "\n",
       "# Infrastructure - Compute - Computers\n",
       "\n",
       "- The CLOUD - pangeo.chs.usgs.gov\n",
       "- Local EROS vmWare Virtual machine LOSRLSFD01 - CalVal and Iarpa Machine\n",
       "\n"
      ],
      "text/plain": [
       "<IPython.core.display.Markdown object>"
      ]
     },
     "metadata": {},
     "output_type": "display_data"
    }
   ],
   "source": [
    "from IPython.display import display, Markdown\n",
    "\n",
    "with open('Readme.md', 'r') as fh:\n",
    "    content = fh.read()\n",
    "\n",
    "display(Markdown(content))"
   ]
  },
  {
   "cell_type": "code",
   "execution_count": null,
   "id": "417a3652",
   "metadata": {},
   "outputs": [],
   "source": []
  }
 ],
 "metadata": {
  "kernelspec": {
   "display_name": "Python 3 (ipykernel)",
   "language": "python",
   "name": "python3"
  },
  "language_info": {
   "codemirror_mode": {
    "name": "ipython",
    "version": 3
   },
   "file_extension": ".py",
   "mimetype": "text/x-python",
   "name": "python",
   "nbconvert_exporter": "python",
   "pygments_lexer": "ipython3",
   "version": "3.9.7"
  }
 },
 "nbformat": 4,
 "nbformat_minor": 5
}
