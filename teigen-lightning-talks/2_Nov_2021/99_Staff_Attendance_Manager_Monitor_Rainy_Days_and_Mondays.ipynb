{
 "cells": [
  {
   "cell_type": "markdown",
   "id": "e4cb732f",
   "metadata": {},
   "source": [
    "# My boss says SAM needs to say WFH\n",
    "\n",
    "## I say complain by creating - write a jupyter-notebook with python pandas.\n",
    "\n",
    "- Somebody should explain to him/her that Covid is still here\n",
    "- And I only work from home for the rest of my career\n",
    "- I sent them proof of my vaccination\n",
    "- Do we really have more freedom and autonomy?"
   ]
  },
  {
   "cell_type": "code",
   "execution_count": 26,
   "id": "d7f76fd6",
   "metadata": {},
   "outputs": [
    {
     "data": {
      "text/plain": [
       "['01/03/2022', '01/10/2022', '01/17/2022', '01/24/2022', '01/31/2022']"
      ]
     },
     "execution_count": 26,
     "metadata": {},
     "output_type": "execute_result"
    }
   ],
   "source": [
    "import pandas as pd\n",
    "\n",
    "def allmondays(year):\n",
    "    return pd.date_range(start=str(year), end=str(year+1), \n",
    "                         freq='W-MON').strftime('%m/%d/%Y').tolist()\n",
    "\n",
    "allmondays(2022)[:5]  # First 5 Mondays of year\n"
   ]
  },
  {
   "cell_type": "markdown",
   "id": "cf0d4a6d",
   "metadata": {},
   "source": [
    "| Date                  | Holiday Description           | days till |\n",
    "|-----------------------|-------------------------------|-----------|\n",
    "| Saturday, January 1   | New Years Day 2022            | 50        |\n",
    "| Monday, January 17    | Martin Luther King Day 2022   | 66        |\n",
    "| Monday, February 21   | Presidents Day 2022 *         | 101       |\n",
    "| Monday, May 30        | Memorial Day 2022             | 199       |\n",
    "| Sunday, June 19       | Juneteenth 2022               | 219       |\n",
    "| Monday, June 20       | Juneteenth 2022 (observed)    | 218       |\n",
    "| Monday, July 4        | Independence Day 2022         | 234       |\n",
    "| Monday, September 5   | Labor Day 2022                | 297       |\n",
    "| Monday, October 10    | Columbus Day 2022 **          | 332       |\n",
    "| Friday, November 11   | Veterans Day 2022             | 364       |\n",
    "| Thursday, November 24 | Thanksgiving 2022             | 377       |\n",
    "| Sunday, December 25   | Christmas Day 2022            | 408       |\n",
    "| Monday, December 26   | Christmas Day 2022 (observed) | 409       |"
   ]
  },
  {
   "cell_type": "code",
   "execution_count": 27,
   "id": "ab533e79",
   "metadata": {},
   "outputs": [],
   "source": [
    "def allfridays(year):\n",
    "    return pd.date_range(start=str(year), end=str(year+1), \n",
    "                         freq='W-FRI').strftime('%m/%d/%Y').tolist()\n"
   ]
  },
  {
   "cell_type": "code",
   "execution_count": 28,
   "id": "472e8369",
   "metadata": {},
   "outputs": [
    {
     "data": {
      "text/plain": [
       "['11/15/2021',\n",
       " '11/22/2021',\n",
       " '11/29/2021',\n",
       " '12/06/2021',\n",
       " '12/13/2021',\n",
       " '12/20/2021',\n",
       " '12/27/2021']"
      ]
     },
     "execution_count": 28,
     "metadata": {},
     "output_type": "execute_result"
    }
   ],
   "source": [
    "allmondays(2021)[-7:]"
   ]
  },
  {
   "cell_type": "code",
   "execution_count": 29,
   "id": "3529a3a2",
   "metadata": {},
   "outputs": [
    {
     "data": {
      "text/plain": [
       "['11/19/2021',\n",
       " '11/26/2021',\n",
       " '12/03/2021',\n",
       " '12/10/2021',\n",
       " '12/17/2021',\n",
       " '12/24/2021',\n",
       " '12/31/2021']"
      ]
     },
     "execution_count": 29,
     "metadata": {},
     "output_type": "execute_result"
    }
   ],
   "source": [
    "allfridays(2021)[-7:]"
   ]
  },
  {
   "cell_type": "code",
   "execution_count": 30,
   "id": "d5ff0cab",
   "metadata": {},
   "outputs": [],
   "source": [
    "mons=allmondays(2021)[-7:]\n",
    "fris=allfridays(2021)[-7:]"
   ]
  },
  {
   "cell_type": "code",
   "execution_count": 31,
   "id": "c6bf8efc",
   "metadata": {},
   "outputs": [],
   "source": [
    "mon_fri=list(zip(mons,fris))"
   ]
  },
  {
   "cell_type": "code",
   "execution_count": 32,
   "id": "68e54c4e",
   "metadata": {},
   "outputs": [
    {
     "data": {
      "text/plain": [
       "[('11/15/2021', '11/19/2021'),\n",
       " ('11/22/2021', '11/26/2021'),\n",
       " ('11/29/2021', '12/03/2021'),\n",
       " ('12/06/2021', '12/10/2021'),\n",
       " ('12/13/2021', '12/17/2021'),\n",
       " ('12/20/2021', '12/24/2021'),\n",
       " ('12/27/2021', '12/31/2021')]"
      ]
     },
     "execution_count": 32,
     "metadata": {},
     "output_type": "execute_result"
    }
   ],
   "source": [
    "mon_fri"
   ]
  },
  {
   "cell_type": "markdown",
   "id": "7f29433a",
   "metadata": {},
   "source": [
    "| Thursday, November 11 | Veterans Day 2021              | -1 |\n",
    "|-----------------------|--------------------------------|----|\n",
    "| Thursday, November 25 | Thanksgiving 2021              | 13 |\n",
    "| Friday, December 24   | Christmas Day 2021 (observed)  | 42 |\n",
    "| Saturday, December 25 | Christmas Day 2021             | 43 |\n",
    "| Friday, December 31   | New Year's Day 2022 (observed) | 49 |"
   ]
  },
  {
   "cell_type": "markdown",
   "id": "e20504f2",
   "metadata": {},
   "source": [
    "# Now I am ready to edit SAM to keep the managers happy \n",
    "- oops sam likes dashes not slashes"
   ]
  },
  {
   "cell_type": "code",
   "execution_count": 33,
   "id": "2a49c840",
   "metadata": {},
   "outputs": [],
   "source": [
    "nmons = [x.replace('/','-') for x in mons]\n",
    "nfris = [x.replace('/','-') for x in fris]\n",
    "mon_fri=list(zip(nmons,nfris))"
   ]
  },
  {
   "cell_type": "code",
   "execution_count": 34,
   "id": "d0a4022f",
   "metadata": {},
   "outputs": [
    {
     "data": {
      "text/plain": [
       "[('11-15-2021', '11-19-2021'),\n",
       " ('11-22-2021', '11-26-2021'),\n",
       " ('11-29-2021', '12-03-2021'),\n",
       " ('12-06-2021', '12-10-2021'),\n",
       " ('12-13-2021', '12-17-2021'),\n",
       " ('12-20-2021', '12-24-2021'),\n",
       " ('12-27-2021', '12-31-2021')]"
      ]
     },
     "execution_count": 34,
     "metadata": {},
     "output_type": "execute_result"
    }
   ],
   "source": [
    "mon_fri"
   ]
  },
  {
   "cell_type": "code",
   "execution_count": null,
   "id": "df2f3057",
   "metadata": {},
   "outputs": [],
   "source": []
  }
 ],
 "metadata": {
  "kernelspec": {
   "display_name": "Python 3",
   "language": "python",
   "name": "python3"
  },
  "language_info": {
   "codemirror_mode": {
    "name": "ipython",
    "version": 3
   },
   "file_extension": ".py",
   "mimetype": "text/x-python",
   "name": "python",
   "nbconvert_exporter": "python",
   "pygments_lexer": "ipython3",
   "version": "3.7.10"
  }
 },
 "nbformat": 4,
 "nbformat_minor": 5
}
