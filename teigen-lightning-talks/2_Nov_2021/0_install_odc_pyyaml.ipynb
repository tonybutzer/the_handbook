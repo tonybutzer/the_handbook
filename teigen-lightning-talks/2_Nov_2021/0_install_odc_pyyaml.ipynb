{
 "cells": [
  {
   "cell_type": "code",
   "execution_count": 1,
   "id": "e1f2abb0",
   "metadata": {},
   "outputs": [
    {
     "data": {
      "text/markdown": [
       "# Notebook Notes\n",
       "\n",
       "- 0_install_odc_pyyaml.ipynb\n",
       "    - installs requisite libraries/modules/packages - odc-stac with conda and pip\n",
       "-  0_simple_dask_test_console.ipynb\n",
       "    - test using DASK console with simple equation\n",
       "-  1_Surviving_the_disaggregation_and_overload_with_references.ipynb\n",
       "    - start of a list of interesting references\n",
       "-  2_my_first_odc_stac_newton_hills_lake_lakota_drys_up.ipynb\n",
       "    - lake lakota NDWI\n",
       "-  3_simplify_my_first_odc_stac_newton_hills_lake_lakota_drys_up-Copy1.ipynb\n",
       "    - CoP presentation on Lake Lakota\n",
       "-  4_sioux_falls_animations_brought_to_you_by_open_data_cube.ipynb\n",
       "    - creates a netcdf .nc of sioux falls landsat observations\n",
       "- 5_make_animated _gif_from_nc.ipynb\n",
       "    - simple notebook on netcdf input - animations outputs\n",
       "- 6_sentinel_sioux_falls_animations_brought_to_you_by_open_data_cube-Copy1.ipynb\n",
       "    - Now Sentinel plus only full scenes - clouds still sneak thru\n",
       "- 7_sentinel_animation_from_netcdf.ipynb\n",
       "    - simple netcdf of sentinel\n",
       "- 8_explore_netcdf_to_tif.ipynb\n",
       "    - create a single tif of the green band from a slice of the xarray dataset\n",
       "- 99_Staff_Attendance_Manager_Monitor_Rainy_Days_and_Mondays.ipynb\n",
       "    - demo how to pick Mondays and Fridays from a pandas data frame\n",
       "\n"
      ],
      "text/plain": [
       "<IPython.core.display.Markdown object>"
      ]
     },
     "metadata": {},
     "output_type": "display_data"
    }
   ],
   "source": [
    "from IPython.display import display, Markdown\n",
    "\n",
    "with open('Readme.md', 'r') as fh:\n",
    "    content = fh.read()\n",
    "\n",
    "display(Markdown(content))"
   ]
  },
  {
   "cell_type": "code",
   "execution_count": 2,
   "id": "7bc52eca",
   "metadata": {},
   "outputs": [],
   "source": [
    "#! conda list | egrep 'odc|datacube'"
   ]
  },
  {
   "cell_type": "code",
   "execution_count": 3,
   "id": "46a7935e",
   "metadata": {},
   "outputs": [
    {
     "name": "stdout",
     "output_type": "stream",
     "text": [
      "Collecting package metadata (current_repodata.json): done\n",
      "Solving environment: done\n",
      "\n",
      "\n",
      "==> WARNING: A newer version of conda exists. <==\n",
      "  current version: 4.10.1\n",
      "  latest version: 4.11.0\n",
      "\n",
      "Please update conda by running\n",
      "\n",
      "    $ conda update -n base -c defaults conda\n",
      "\n",
      "\n",
      "\n",
      "## Package Plan ##\n",
      "\n",
      "  environment location: /srv/conda/envs/pangeo\n",
      "\n",
      "  added / updated specs:\n",
      "    - odc-stac\n",
      "\n",
      "\n",
      "The following packages will be downloaded:\n",
      "\n",
      "    package                    |            build\n",
      "    ---------------------------|-----------------\n",
      "    ca-certificates-2021.10.8  |       ha878542_0         139 KB  conda-forge\n",
      "    certifi-2021.10.8          |   py37h89c1867_1         145 KB  conda-forge\n",
      "    datacube-1.8.6             |     pyhd8ed1ab_0         187 KB  conda-forge\n",
      "    lark-parser-0.12.0         |     pyhd8ed1ab_0          78 KB  conda-forge\n",
      "    libgcc-ng-11.2.0           |      h1d223b6_11         887 KB  conda-forge\n",
      "    odc-stac-0.2.2             |     pyhd8ed1ab_0          29 KB  conda-forge\n",
      "    openssl-1.1.1l             |       h7f98852_0         2.1 MB  conda-forge\n",
      "    psycopg2-2.9.2             |   py37h5e8e339_0         178 KB  conda-forge\n",
      "    pystac-1.2.0               |     pyhd8ed1ab_0          81 KB  conda-forge\n",
      "    ------------------------------------------------------------\n",
      "                                           Total:         3.8 MB\n",
      "\n",
      "The following NEW packages will be INSTALLED:\n",
      "\n",
      "  datacube           conda-forge/noarch::datacube-1.8.6-pyhd8ed1ab_0\n",
      "  lark-parser        conda-forge/noarch::lark-parser-0.12.0-pyhd8ed1ab_0\n",
      "  odc-stac           conda-forge/noarch::odc-stac-0.2.2-pyhd8ed1ab_0\n",
      "  psycopg2           conda-forge/linux-64::psycopg2-2.9.2-py37h5e8e339_0\n",
      "  pystac             conda-forge/noarch::pystac-1.2.0-pyhd8ed1ab_0\n",
      "\n",
      "The following packages will be UPDATED:\n",
      "\n",
      "  ca-certificates                      2021.5.30-ha878542_0 --> 2021.10.8-ha878542_0\n",
      "  certifi                          2021.5.30-py37h89c1867_0 --> 2021.10.8-py37h89c1867_1\n",
      "  libgcc-ng                               9.3.0-h2828fa1_19 --> 11.2.0-h1d223b6_11\n",
      "  openssl                                 1.1.1k-h7f98852_0 --> 1.1.1l-h7f98852_0\n",
      "\n",
      "\n",
      "\n",
      "Downloading and Extracting Packages\n",
      "certifi-2021.10.8    | 145 KB    | ##################################### | 100% \n",
      "ca-certificates-2021 | 139 KB    | ##################################### | 100% \n",
      "psycopg2-2.9.2       | 178 KB    | ##################################### | 100% \n",
      "libgcc-ng-11.2.0     | 887 KB    | ##################################### | 100% \n",
      "pystac-1.2.0         | 81 KB     | ##################################### | 100% \n",
      "datacube-1.8.6       | 187 KB    | ##################################### | 100% \n",
      "lark-parser-0.12.0   | 78 KB     | ##################################### | 100% \n",
      "openssl-1.1.1l       | 2.1 MB    | ##################################### | 100% \n",
      "odc-stac-0.2.2       | 29 KB     | ##################################### | 100% \n",
      "Preparing transaction: done\n",
      "Verifying transaction: done\n",
      "Executing transaction: done\n"
     ]
    }
   ],
   "source": [
    "# install extras for pangeo.chs...\n",
    "!conda install -y odc-stac\n",
    "# !conda install --use-local -y odc-stac\n",
    "\n",
    "#! pip install --user -U PyYAML"
   ]
  },
  {
   "cell_type": "code",
   "execution_count": 11,
   "id": "4ee82098",
   "metadata": {},
   "outputs": [
    {
     "name": "stdout",
     "output_type": "stream",
     "text": [
      "Collecting odc-ui\n",
      "  Downloading odc_ui-0.2.0a3-py3-none-any.whl (15 kB)\n",
      "Collecting odc-algo\n",
      "  Downloading odc_algo-0.2.2-py3-none-any.whl (51 kB)\n",
      "\u001b[K     |████████████████████████████████| 51 kB 732 kB/s eta 0:00:01\n",
      "\u001b[?25hRequirement already satisfied: ipywidgets in /srv/conda/envs/pangeo/lib/python3.7/site-packages (from odc-ui) (7.6.3)\n",
      "Requirement already satisfied: datacube in /srv/conda/envs/pangeo/lib/python3.7/site-packages (from odc-ui) (1.8.6)\n",
      "Requirement already satisfied: matplotlib in /srv/conda/envs/pangeo/lib/python3.7/site-packages (from odc-ui) (3.4.2)\n",
      "Requirement already satisfied: rasterio in /srv/conda/envs/pangeo/lib/python3.7/site-packages (from odc-ui) (1.2.6)\n",
      "Collecting jupyter-ui-poll\n",
      "  Downloading jupyter_ui_poll-0.2.1-py2.py3-none-any.whl (9.0 kB)\n",
      "Requirement already satisfied: numpy in /srv/conda/envs/pangeo/lib/python3.7/site-packages (from odc-ui) (1.21.0)\n",
      "Requirement already satisfied: xarray in /srv/conda/envs/pangeo/lib/python3.7/site-packages (from odc-ui) (0.18.2)\n",
      "Requirement already satisfied: ipython in /srv/conda/envs/pangeo/lib/python3.7/site-packages (from odc-ui) (7.24.1)\n",
      "Requirement already satisfied: ipyleaflet in /srv/conda/envs/pangeo/lib/python3.7/site-packages (from odc-ui) (0.14.0)\n",
      "Requirement already satisfied: pandas in /srv/conda/envs/pangeo/lib/python3.7/site-packages (from odc-ui) (1.2.5)\n",
      "Requirement already satisfied: python-dateutil in /srv/conda/envs/pangeo/lib/python3.7/site-packages (from datacube->odc-ui) (2.7.5)\n",
      "Requirement already satisfied: psycopg2 in /srv/conda/envs/pangeo/lib/python3.7/site-packages (from datacube->odc-ui) (2.9.2)\n",
      "Requirement already satisfied: pyyaml in /home/jovyan/.local/lib/python3.7/site-packages (from datacube->odc-ui) (6.0)\n",
      "Requirement already satisfied: dask[array] in /srv/conda/envs/pangeo/lib/python3.7/site-packages (from datacube->odc-ui) (2021.6.0)\n",
      "Requirement already satisfied: cachetools in /srv/conda/envs/pangeo/lib/python3.7/site-packages (from datacube->odc-ui) (4.2.2)\n",
      "Requirement already satisfied: pyproj>=2.5 in /srv/conda/envs/pangeo/lib/python3.7/site-packages (from datacube->odc-ui) (3.1.0)\n",
      "Requirement already satisfied: affine in /srv/conda/envs/pangeo/lib/python3.7/site-packages (from datacube->odc-ui) (2.3.0)\n",
      "Requirement already satisfied: cloudpickle>=0.4 in /srv/conda/envs/pangeo/lib/python3.7/site-packages (from datacube->odc-ui) (1.6.0)\n",
      "Requirement already satisfied: netcdf4 in /srv/conda/envs/pangeo/lib/python3.7/site-packages (from datacube->odc-ui) (1.5.6)\n",
      "Requirement already satisfied: sqlalchemy in /srv/conda/envs/pangeo/lib/python3.7/site-packages (from datacube->odc-ui) (1.4.19)\n",
      "Requirement already satisfied: distributed in /srv/conda/envs/pangeo/lib/python3.7/site-packages (from datacube->odc-ui) (2021.6.0)\n",
      "Requirement already satisfied: shapely>=1.6.4 in /srv/conda/envs/pangeo/lib/python3.7/site-packages (from datacube->odc-ui) (1.7.1)\n",
      "Requirement already satisfied: toolz in /srv/conda/envs/pangeo/lib/python3.7/site-packages (from datacube->odc-ui) (0.11.1)\n",
      "Requirement already satisfied: click>=5.0 in /srv/conda/envs/pangeo/lib/python3.7/site-packages (from datacube->odc-ui) (7.1.2)\n",
      "Requirement already satisfied: jsonschema in /srv/conda/envs/pangeo/lib/python3.7/site-packages (from datacube->odc-ui) (3.2.0)\n",
      "Requirement already satisfied: lark-parser>=0.6.7 in /srv/conda/envs/pangeo/lib/python3.7/site-packages (from datacube->odc-ui) (0.12.0)\n",
      "Requirement already satisfied: certifi in /srv/conda/envs/pangeo/lib/python3.7/site-packages (from pyproj>=2.5->datacube->odc-ui) (2021.10.8)\n",
      "Requirement already satisfied: cligj>=0.5 in /srv/conda/envs/pangeo/lib/python3.7/site-packages (from rasterio->odc-ui) (0.7.2)\n",
      "Requirement already satisfied: click-plugins in /srv/conda/envs/pangeo/lib/python3.7/site-packages (from rasterio->odc-ui) (1.1.1)\n",
      "Requirement already satisfied: snuggs>=1.4.1 in /srv/conda/envs/pangeo/lib/python3.7/site-packages (from rasterio->odc-ui) (1.4.7)\n",
      "Requirement already satisfied: attrs in /srv/conda/envs/pangeo/lib/python3.7/site-packages (from rasterio->odc-ui) (21.2.0)\n",
      "Requirement already satisfied: setuptools in /srv/conda/envs/pangeo/lib/python3.7/site-packages (from rasterio->odc-ui) (52.0.0.post20210125)\n",
      "Requirement already satisfied: pyparsing>=2.1.6 in /srv/conda/envs/pangeo/lib/python3.7/site-packages (from snuggs>=1.4.1->rasterio->odc-ui) (2.4.7)\n",
      "Requirement already satisfied: pytz>=2017.3 in /srv/conda/envs/pangeo/lib/python3.7/site-packages (from pandas->odc-ui) (2021.1)\n",
      "Requirement already satisfied: six>=1.5 in /srv/conda/envs/pangeo/lib/python3.7/site-packages (from python-dateutil->datacube->odc-ui) (1.16.0)\n",
      "Requirement already satisfied: fsspec>=0.6.0 in /srv/conda/envs/pangeo/lib/python3.7/site-packages (from dask[array]->datacube->odc-ui) (2021.6.1)\n",
      "Requirement already satisfied: partd>=0.3.10 in /srv/conda/envs/pangeo/lib/python3.7/site-packages (from dask[array]->datacube->odc-ui) (1.2.0)\n",
      "Requirement already satisfied: locket in /srv/conda/envs/pangeo/lib/python3.7/site-packages/locket-0.2.1-py3.7.egg (from partd>=0.3.10->dask[array]->datacube->odc-ui) (0.2.1)\n",
      "Requirement already satisfied: psutil>=5.0 in /srv/conda/envs/pangeo/lib/python3.7/site-packages (from distributed->datacube->odc-ui) (5.8.0)\n",
      "Requirement already satisfied: msgpack>=0.6.0 in /srv/conda/envs/pangeo/lib/python3.7/site-packages (from distributed->datacube->odc-ui) (1.0.2)\n",
      "Requirement already satisfied: zict>=0.1.3 in /srv/conda/envs/pangeo/lib/python3.7/site-packages (from distributed->datacube->odc-ui) (2.0.0)\n",
      "Requirement already satisfied: sortedcontainers!=2.0.0,!=2.0.1 in /srv/conda/envs/pangeo/lib/python3.7/site-packages (from distributed->datacube->odc-ui) (2.4.0)\n",
      "Requirement already satisfied: tblib>=1.6.0 in /srv/conda/envs/pangeo/lib/python3.7/site-packages (from distributed->datacube->odc-ui) (1.7.0)\n",
      "Requirement already satisfied: tornado>=5 in /srv/conda/envs/pangeo/lib/python3.7/site-packages (from distributed->datacube->odc-ui) (6.1)\n",
      "Requirement already satisfied: heapdict in /srv/conda/envs/pangeo/lib/python3.7/site-packages (from zict>=0.1.3->distributed->datacube->odc-ui) (1.0.1)\n",
      "Requirement already satisfied: traittypes<3,>=0.2.1 in /srv/conda/envs/pangeo/lib/python3.7/site-packages (from ipyleaflet->odc-ui) (0.2.1)\n",
      "Requirement already satisfied: ipykernel>=4.5.1 in /srv/conda/envs/pangeo/lib/python3.7/site-packages (from ipywidgets->odc-ui) (5.5.5)\n",
      "Requirement already satisfied: traitlets>=4.3.1 in /srv/conda/envs/pangeo/lib/python3.7/site-packages (from ipywidgets->odc-ui) (5.0.5)\n",
      "Requirement already satisfied: widgetsnbextension~=3.5.0 in /srv/conda/envs/pangeo/lib/python3.7/site-packages (from ipywidgets->odc-ui) (3.5.1)\n",
      "Requirement already satisfied: jupyterlab-widgets>=1.0.0 in /srv/conda/envs/pangeo/lib/python3.7/site-packages (from ipywidgets->odc-ui) (1.0.0)\n",
      "Requirement already satisfied: nbformat>=4.2.0 in /srv/conda/envs/pangeo/lib/python3.7/site-packages (from ipywidgets->odc-ui) (5.1.3)\n",
      "Requirement already satisfied: jupyter-client in /srv/conda/envs/pangeo/lib/python3.7/site-packages (from ipykernel>=4.5.1->ipywidgets->odc-ui) (6.1.12)\n",
      "Requirement already satisfied: backcall in /srv/conda/envs/pangeo/lib/python3.7/site-packages (from ipython->odc-ui) (0.2.0)\n",
      "Requirement already satisfied: matplotlib-inline in /srv/conda/envs/pangeo/lib/python3.7/site-packages (from ipython->odc-ui) (0.1.2)\n",
      "Requirement already satisfied: prompt-toolkit!=3.0.0,!=3.0.1,<3.1.0,>=2.0.0 in /srv/conda/envs/pangeo/lib/python3.7/site-packages (from ipython->odc-ui) (3.0.19)\n",
      "Requirement already satisfied: pexpect>4.3 in /srv/conda/envs/pangeo/lib/python3.7/site-packages (from ipython->odc-ui) (4.8.0)\n",
      "Requirement already satisfied: pygments in /srv/conda/envs/pangeo/lib/python3.7/site-packages (from ipython->odc-ui) (2.9.0)\n",
      "Requirement already satisfied: jedi>=0.16 in /srv/conda/envs/pangeo/lib/python3.7/site-packages (from ipython->odc-ui) (0.18.0)\n",
      "Requirement already satisfied: decorator in /srv/conda/envs/pangeo/lib/python3.7/site-packages (from ipython->odc-ui) (4.4.2)\n",
      "Requirement already satisfied: pickleshare in /srv/conda/envs/pangeo/lib/python3.7/site-packages (from ipython->odc-ui) (0.7.5)\n",
      "Requirement already satisfied: parso<0.9.0,>=0.8.0 in /srv/conda/envs/pangeo/lib/python3.7/site-packages (from jedi>=0.16->ipython->odc-ui) (0.8.2)\n",
      "Requirement already satisfied: ipython-genutils in /srv/conda/envs/pangeo/lib/python3.7/site-packages (from nbformat>=4.2.0->ipywidgets->odc-ui) (0.2.0)\n",
      "Requirement already satisfied: jupyter-core in /srv/conda/envs/pangeo/lib/python3.7/site-packages (from nbformat>=4.2.0->ipywidgets->odc-ui) (4.7.1)\n"
     ]
    },
    {
     "name": "stdout",
     "output_type": "stream",
     "text": [
      "Requirement already satisfied: importlib-metadata in /srv/conda/envs/pangeo/lib/python3.7/site-packages (from jsonschema->datacube->odc-ui) (4.5.0)\n",
      "Requirement already satisfied: pyrsistent>=0.14.0 in /srv/conda/envs/pangeo/lib/python3.7/site-packages (from jsonschema->datacube->odc-ui) (0.17.3)\n",
      "Requirement already satisfied: ptyprocess>=0.5 in /srv/conda/envs/pangeo/lib/python3.7/site-packages (from pexpect>4.3->ipython->odc-ui) (0.7.0)\n",
      "Requirement already satisfied: wcwidth in /srv/conda/envs/pangeo/lib/python3.7/site-packages (from prompt-toolkit!=3.0.0,!=3.0.1,<3.1.0,>=2.0.0->ipython->odc-ui) (0.2.5)\n",
      "Requirement already satisfied: notebook>=4.4.1 in /srv/conda/envs/pangeo/lib/python3.7/site-packages (from widgetsnbextension~=3.5.0->ipywidgets->odc-ui) (6.4.0)\n",
      "Requirement already satisfied: pyzmq>=17 in /srv/conda/envs/pangeo/lib/python3.7/site-packages (from notebook>=4.4.1->widgetsnbextension~=3.5.0->ipywidgets->odc-ui) (22.1.0)\n",
      "Requirement already satisfied: Send2Trash>=1.5.0 in /srv/conda/envs/pangeo/lib/python3.7/site-packages (from notebook>=4.4.1->widgetsnbextension~=3.5.0->ipywidgets->odc-ui) (1.7.1)\n",
      "Requirement already satisfied: argon2-cffi in /srv/conda/envs/pangeo/lib/python3.7/site-packages (from notebook>=4.4.1->widgetsnbextension~=3.5.0->ipywidgets->odc-ui) (20.1.0)\n",
      "Requirement already satisfied: terminado>=0.8.3 in /srv/conda/envs/pangeo/lib/python3.7/site-packages (from notebook>=4.4.1->widgetsnbextension~=3.5.0->ipywidgets->odc-ui) (0.10.1)\n",
      "Requirement already satisfied: prometheus-client in /srv/conda/envs/pangeo/lib/python3.7/site-packages (from notebook>=4.4.1->widgetsnbextension~=3.5.0->ipywidgets->odc-ui) (0.11.0)\n",
      "Requirement already satisfied: jinja2 in /srv/conda/envs/pangeo/lib/python3.7/site-packages (from notebook>=4.4.1->widgetsnbextension~=3.5.0->ipywidgets->odc-ui) (3.0.1)\n",
      "Requirement already satisfied: nbconvert in /srv/conda/envs/pangeo/lib/python3.7/site-packages (from notebook>=4.4.1->widgetsnbextension~=3.5.0->ipywidgets->odc-ui) (6.1.0)\n",
      "Requirement already satisfied: cffi>=1.0.0 in /srv/conda/envs/pangeo/lib/python3.7/site-packages (from argon2-cffi->notebook>=4.4.1->widgetsnbextension~=3.5.0->ipywidgets->odc-ui) (1.14.5)\n",
      "Requirement already satisfied: pycparser in /srv/conda/envs/pangeo/lib/python3.7/site-packages (from cffi>=1.0.0->argon2-cffi->notebook>=4.4.1->widgetsnbextension~=3.5.0->ipywidgets->odc-ui) (2.20)\n",
      "Requirement already satisfied: typing-extensions>=3.6.4 in /srv/conda/envs/pangeo/lib/python3.7/site-packages (from importlib-metadata->jsonschema->datacube->odc-ui) (3.10.0.0)\n",
      "Requirement already satisfied: zipp>=0.5 in /srv/conda/envs/pangeo/lib/python3.7/site-packages (from importlib-metadata->jsonschema->datacube->odc-ui) (3.4.1)\n",
      "Requirement already satisfied: MarkupSafe>=2.0 in /srv/conda/envs/pangeo/lib/python3.7/site-packages (from jinja2->notebook>=4.4.1->widgetsnbextension~=3.5.0->ipywidgets->odc-ui) (2.0.1)\n",
      "Requirement already satisfied: pillow>=6.2.0 in /srv/conda/envs/pangeo/lib/python3.7/site-packages (from matplotlib->odc-ui) (8.2.0)\n",
      "Requirement already satisfied: kiwisolver>=1.0.1 in /srv/conda/envs/pangeo/lib/python3.7/site-packages (from matplotlib->odc-ui) (1.3.1)\n",
      "Requirement already satisfied: cycler>=0.10 in /srv/conda/envs/pangeo/lib/python3.7/site-packages (from matplotlib->odc-ui) (0.10.0)\n",
      "Requirement already satisfied: defusedxml in /srv/conda/envs/pangeo/lib/python3.7/site-packages (from nbconvert->notebook>=4.4.1->widgetsnbextension~=3.5.0->ipywidgets->odc-ui) (0.7.1)\n",
      "Requirement already satisfied: bleach in /srv/conda/envs/pangeo/lib/python3.7/site-packages (from nbconvert->notebook>=4.4.1->widgetsnbextension~=3.5.0->ipywidgets->odc-ui) (3.3.0)\n",
      "Requirement already satisfied: nbclient<0.6.0,>=0.5.0 in /srv/conda/envs/pangeo/lib/python3.7/site-packages (from nbconvert->notebook>=4.4.1->widgetsnbextension~=3.5.0->ipywidgets->odc-ui) (0.5.3)\n",
      "Requirement already satisfied: mistune<2,>=0.8.1 in /srv/conda/envs/pangeo/lib/python3.7/site-packages (from nbconvert->notebook>=4.4.1->widgetsnbextension~=3.5.0->ipywidgets->odc-ui) (0.8.4)\n",
      "Requirement already satisfied: testpath in /srv/conda/envs/pangeo/lib/python3.7/site-packages (from nbconvert->notebook>=4.4.1->widgetsnbextension~=3.5.0->ipywidgets->odc-ui) (0.5.0)\n",
      "Requirement already satisfied: jupyterlab-pygments in /srv/conda/envs/pangeo/lib/python3.7/site-packages (from nbconvert->notebook>=4.4.1->widgetsnbextension~=3.5.0->ipywidgets->odc-ui) (0.1.2)\n",
      "Requirement already satisfied: pandocfilters>=1.4.1 in /srv/conda/envs/pangeo/lib/python3.7/site-packages (from nbconvert->notebook>=4.4.1->widgetsnbextension~=3.5.0->ipywidgets->odc-ui) (1.4.3)\n",
      "Requirement already satisfied: entrypoints>=0.2.2 in /srv/conda/envs/pangeo/lib/python3.7/site-packages (from nbconvert->notebook>=4.4.1->widgetsnbextension~=3.5.0->ipywidgets->odc-ui) (0.3)\n",
      "Requirement already satisfied: async-generator in /srv/conda/envs/pangeo/lib/python3.7/site-packages (from nbclient<0.6.0,>=0.5.0->nbconvert->notebook>=4.4.1->widgetsnbextension~=3.5.0->ipywidgets->odc-ui) (1.10)\n",
      "Requirement already satisfied: nest-asyncio in /srv/conda/envs/pangeo/lib/python3.7/site-packages (from nbclient<0.6.0,>=0.5.0->nbconvert->notebook>=4.4.1->widgetsnbextension~=3.5.0->ipywidgets->odc-ui) (1.5.1)\n",
      "Requirement already satisfied: packaging in /srv/conda/envs/pangeo/lib/python3.7/site-packages (from bleach->nbconvert->notebook>=4.4.1->widgetsnbextension~=3.5.0->ipywidgets->odc-ui) (20.9)\n",
      "Requirement already satisfied: webencodings in /srv/conda/envs/pangeo/lib/python3.7/site-packages (from bleach->nbconvert->notebook>=4.4.1->widgetsnbextension~=3.5.0->ipywidgets->odc-ui) (0.5.1)\n",
      "Requirement already satisfied: cftime in /srv/conda/envs/pangeo/lib/python3.7/site-packages (from netcdf4->datacube->odc-ui) (1.5.0)\n",
      "Collecting numexpr\n",
      "  Downloading numexpr-2.8.1-cp37-cp37m-manylinux_2_17_x86_64.manylinux2014_x86_64.whl (379 kB)\n",
      "\u001b[K     |████████████████████████████████| 379 kB 2.9 MB/s eta 0:00:01\n",
      "\u001b[?25hRequirement already satisfied: scikit-image in /srv/conda/envs/pangeo/lib/python3.7/site-packages (from odc-algo->odc-ui) (0.18.1)\n",
      "Collecting dask-image\n",
      "  Downloading dask-image-0.6.0.tar.gz (77 kB)\n",
      "\u001b[K     |████████████████████████████████| 77 kB 621 kB/s eta 0:00:01\n",
      "\u001b[?25hRequirement already satisfied: scipy>=0.19.1 in /srv/conda/envs/pangeo/lib/python3.7/site-packages (from dask-image->odc-algo->odc-ui) (1.6.3)\n",
      "Collecting pims>=0.4.1\n",
      "  Using cached PIMS-0.5-py3-none-any.whl\n",
      "Collecting slicerator>=0.9.8\n",
      "  Using cached slicerator-1.0.0-py3-none-any.whl (9.3 kB)\n",
      "Requirement already satisfied: networkx>=2.0 in /srv/conda/envs/pangeo/lib/python3.7/site-packages (from scikit-image->odc-algo->odc-ui) (2.5.1)\n",
      "Requirement already satisfied: imageio>=2.3.0 in /srv/conda/envs/pangeo/lib/python3.7/site-packages (from scikit-image->odc-algo->odc-ui) (2.9.0)\n",
      "Requirement already satisfied: tifffile>=2019.7.26 in /srv/conda/envs/pangeo/lib/python3.7/site-packages (from scikit-image->odc-algo->odc-ui) (2021.4.8)\n",
      "Requirement already satisfied: PyWavelets>=1.1.1 in /srv/conda/envs/pangeo/lib/python3.7/site-packages (from scikit-image->odc-algo->odc-ui) (1.1.1)\n",
      "Requirement already satisfied: greenlet!=0.4.17 in /srv/conda/envs/pangeo/lib/python3.7/site-packages (from sqlalchemy->datacube->odc-ui) (1.1.0)\n",
      "Building wheels for collected packages: dask-image\n",
      "  Building wheel for dask-image (setup.py) ... \u001b[?25ldone\n",
      "\u001b[?25h  Created wheel for dask-image: filename=dask_image-0.6.0-py2.py3-none-any.whl size=37228 sha256=a673be9aa197826b22b219358a4c536f9e4fa3828fa2ab67c949e52366f3ecad\n",
      "  Stored in directory: /home/jovyan/.cache/pip/wheels/d5/0a/44/cb03cf4230cc2c138ac44792a6d43fa836fb6e85ddc0836f5e\n",
      "Successfully built dask-image\n",
      "Installing collected packages: slicerator, pims, numexpr, dask-image, odc-algo, jupyter-ui-poll, odc-ui\n",
      "Successfully installed dask-image-0.6.0 jupyter-ui-poll-0.2.1 numexpr-2.8.1 odc-algo-0.2.2 odc-ui-0.2.0a3 pims-0.5 slicerator-1.0.0\n"
     ]
    }
   ],
   "source": [
    "#!conda install -y odc-ui\n",
    "\n",
    "! pip install --user odc-ui"
   ]
  },
  {
   "cell_type": "code",
   "execution_count": 4,
   "id": "af284fc1",
   "metadata": {},
   "outputs": [
    {
     "name": "stdout",
     "output_type": "stream",
     "text": [
      "Requirement already satisfied: PyYAML in /home/jovyan/.local/lib/python3.7/site-packages (6.0)\n",
      "Collecting PyYAML\n",
      "  Using cached PyYAML-6.0-cp37-cp37m-manylinux_2_5_x86_64.manylinux1_x86_64.manylinux_2_12_x86_64.manylinux2010_x86_64.whl (596 kB)\n",
      "  Using cached PyYAML-5.4.1-cp37-cp37m-manylinux1_x86_64.whl (636 kB)\n"
     ]
    }
   ],
   "source": [
    "! pip install --user -U PyYAML"
   ]
  },
  {
   "cell_type": "code",
   "execution_count": 5,
   "id": "392ce78d",
   "metadata": {},
   "outputs": [],
   "source": [
    "# FAIL ! pip install --user  odc-stac"
   ]
  },
  {
   "cell_type": "code",
   "execution_count": 6,
   "id": "97aa3df0",
   "metadata": {},
   "outputs": [
    {
     "name": "stdout",
     "output_type": "stream",
     "text": [
      "datacube                  1.8.6              pyhd8ed1ab_0    conda-forge\r\n",
      "odc-stac                  0.2.2              pyhd8ed1ab_0    conda-forge\r\n"
     ]
    }
   ],
   "source": [
    "! conda list | egrep 'odc|datacube'"
   ]
  },
  {
   "cell_type": "code",
   "execution_count": null,
   "id": "dd55624b",
   "metadata": {},
   "outputs": [],
   "source": []
  }
 ],
 "metadata": {
  "kernelspec": {
   "display_name": "Python 3",
   "language": "python",
   "name": "python3"
  },
  "language_info": {
   "codemirror_mode": {
    "name": "ipython",
    "version": 3
   },
   "file_extension": ".py",
   "mimetype": "text/x-python",
   "name": "python",
   "nbconvert_exporter": "python",
   "pygments_lexer": "ipython3",
   "version": "3.7.10"
  }
 },
 "nbformat": 4,
 "nbformat_minor": 5
}
