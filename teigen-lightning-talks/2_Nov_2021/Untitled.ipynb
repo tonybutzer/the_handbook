{
 "cells": [
  {
   "cell_type": "code",
   "execution_count": 2,
   "id": "56eca708",
   "metadata": {},
   "outputs": [
    {
     "name": "stdout",
     "output_type": "stream",
     "text": [
      "pystac                    1.2.0              pyhd8ed1ab_0    conda-forge\r\n"
     ]
    }
   ],
   "source": [
    "!conda list | grep pystac"
   ]
  },
  {
   "cell_type": "code",
   "execution_count": null,
   "id": "f60b2300",
   "metadata": {},
   "outputs": [],
   "source": []
  }
 ],
 "metadata": {
  "kernelspec": {
   "display_name": "Python 3",
   "language": "python",
   "name": "python3"
  },
  "language_info": {
   "codemirror_mode": {
    "name": "ipython",
    "version": 3
   },
   "file_extension": ".py",
   "mimetype": "text/x-python",
   "name": "python",
   "nbconvert_exporter": "python",
   "pygments_lexer": "ipython3",
   "version": "3.7.10"
  }
 },
 "nbformat": 4,
 "nbformat_minor": 5
}
