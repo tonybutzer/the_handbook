{
 "cells": [
  {
   "cell_type": "markdown",
   "id": "9e95c345",
   "metadata": {},
   "source": [
    "# Lightning Talk Panel\n",
    "\n",
    "## Notebooks\n",
    "- simple panel png displayer ##MAYBE SKIP\n",
    "- display geojson from an AOI folder of geojsons\n",
    "- deploy this geojson viewer app on a $10 ten  dollar machine \n",
    "    - on any TCP/IP port - single command from makefile\n",
    "- **s3 bucket analyzer**\n",
    "    - a NOD to rclone - \n",
    "- Colorado Fire App Meets Jupyter - Sentinel - Open Data Cube\n",
    "    - google earth - better and fascinating - 3d Models over burnt hulls\n",
    "\n",
    "## Panel Gallery Below"
   ]
  },
  {
   "cell_type": "code",
   "execution_count": 1,
   "id": "e4f430de",
   "metadata": {},
   "outputs": [
    {
     "data": {
      "text/html": [
       "<a href=\"https://panel.holoviz.org/gallery/index.html\">link</a>\n"
      ],
      "text/plain": [
       "<IPython.core.display.HTML object>"
      ]
     },
     "metadata": {},
     "output_type": "display_data"
    }
   ],
   "source": [
    "%%html\n",
    "<a href=\"https://panel.holoviz.org/gallery/index.html\">link</a>"
   ]
  },
  {
   "cell_type": "code",
   "execution_count": 2,
   "id": "eb0586c3",
   "metadata": {},
   "outputs": [
    {
     "data": {
      "text/html": [
       "\n",
       "        <iframe\n",
       "            width=\"900\"\n",
       "            height=\"800\"\n",
       "            src=\"https://panel.holoviz.org/gallery/index.html\"\n",
       "            frameborder=\"0\"\n",
       "            allowfullscreen\n",
       "            \n",
       "        ></iframe>\n",
       "        "
      ],
      "text/plain": [
       "<IPython.lib.display.IFrame at 0x7f9e408e6ee0>"
      ]
     },
     "execution_count": 2,
     "metadata": {},
     "output_type": "execute_result"
    }
   ],
   "source": [
    "from IPython.display import IFrame\n",
    "IFrame('https://panel.holoviz.org/gallery/index.html', width=900, height=800)"
   ]
  },
  {
   "cell_type": "markdown",
   "id": "6fcaa1d9",
   "metadata": {},
   "source": [
    "# Pretty Cool- cause:\n",
    "- it means very little code \n",
    "- and repeatable"
   ]
  },
  {
   "cell_type": "code",
   "execution_count": null,
   "id": "5bc5dbd0",
   "metadata": {},
   "outputs": [],
   "source": []
  }
 ],
 "metadata": {
  "kernelspec": {
   "display_name": "Python 3 (ipykernel)",
   "language": "python",
   "name": "python3"
  },
  "language_info": {
   "codemirror_mode": {
    "name": "ipython",
    "version": 3
   },
   "file_extension": ".py",
   "mimetype": "text/x-python",
   "name": "python",
   "nbconvert_exporter": "python",
   "pygments_lexer": "ipython3",
   "version": "3.9.7"
  }
 },
 "nbformat": 4,
 "nbformat_minor": 5
}
