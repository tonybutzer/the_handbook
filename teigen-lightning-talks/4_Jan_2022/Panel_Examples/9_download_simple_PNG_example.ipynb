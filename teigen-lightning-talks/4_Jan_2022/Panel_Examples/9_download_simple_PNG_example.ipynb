{
 "cells": [
  {
   "cell_type": "code",
   "execution_count": 2,
   "id": "c47ffcae",
   "metadata": {},
   "outputs": [],
   "source": [
    "# Download PNG simple example"
   ]
  },
  {
   "cell_type": "code",
   "execution_count": 1,
   "id": "9a932753",
   "metadata": {},
   "outputs": [
    {
     "name": "stdout",
     "output_type": "stream",
     "text": [
      "--2022-01-06 16:41:34--  https://raw.githubusercontent.com/holoviz/panel/master/examples/reference/panes/PNG.ipynb\n",
      "Resolving raw.githubusercontent.com (raw.githubusercontent.com)... 185.199.111.133, 185.199.109.133, 185.199.110.133, ...\n",
      "Connecting to raw.githubusercontent.com (raw.githubusercontent.com)|185.199.111.133|:443... connected.\n",
      "HTTP request sent, awaiting response... 200 OK\n",
      "Length: 2365 (2.3K) [text/plain]\n",
      "Saving to: ‘PNG.ipynb’\n",
      "\n",
      "PNG.ipynb           100%[===================>]   2.31K  --.-KB/s    in 0s      \n",
      "\n",
      "2022-01-06 16:41:34 (47.7 MB/s) - ‘PNG.ipynb’ saved [2365/2365]\n",
      "\n"
     ]
    }
   ],
   "source": [
    "! wget https://raw.githubusercontent.com/holoviz/panel/master/examples/reference/panes/PNG.ipynb"
   ]
  },
  {
   "cell_type": "code",
   "execution_count": 3,
   "id": "6434f12f",
   "metadata": {},
   "outputs": [
    {
     "name": "stdout",
     "output_type": "stream",
     "text": [
      "--2022-01-06 17:00:50--  https://raw.githubusercontent.com/tonybutzer/composite/41771c607f8f073b042b399080cd0f0bcc94a46a/00-notebooks/00-wip-geojson-viewer/00-geojson-viewer-panel.ipynb\n",
      "Resolving raw.githubusercontent.com (raw.githubusercontent.com)... 185.199.110.133, 185.199.111.133, 185.199.108.133, ...\n",
      "Connecting to raw.githubusercontent.com (raw.githubusercontent.com)|185.199.110.133|:443... connected.\n",
      "HTTP request sent, awaiting response... 200 OK\n",
      "Length: 53828 (53K) [text/plain]\n",
      "Saving to: ‘00-geojson-viewer-panel.ipynb’\n",
      "\n",
      "00-geojson-viewer-p 100%[===================>]  52.57K  --.-KB/s    in 0.006s  \n",
      "\n",
      "2022-01-06 17:00:51 (8.04 MB/s) - ‘00-geojson-viewer-panel.ipynb’ saved [53828/53828]\n",
      "\n"
     ]
    }
   ],
   "source": [
    "! wget https://raw.githubusercontent.com/tonybutzer/composite/41771c607f8f073b042b399080cd0f0bcc94a46a/00-notebooks/00-wip-geojson-viewer/00-geojson-viewer-panel.ipynb"
   ]
  },
  {
   "cell_type": "code",
   "execution_count": null,
   "id": "c835187e",
   "metadata": {},
   "outputs": [],
   "source": []
  }
 ],
 "metadata": {
  "kernelspec": {
   "display_name": "Python 3",
   "language": "python",
   "name": "python3"
  },
  "language_info": {
   "codemirror_mode": {
    "name": "ipython",
    "version": 3
   },
   "file_extension": ".py",
   "mimetype": "text/x-python",
   "name": "python",
   "nbconvert_exporter": "python",
   "pygments_lexer": "ipython3",
   "version": "3.7.10"
  }
 },
 "nbformat": 4,
 "nbformat_minor": 5
}
